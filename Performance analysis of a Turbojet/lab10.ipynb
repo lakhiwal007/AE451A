{
 "cells": [
  {
   "cell_type": "markdown",
   "metadata": {},
   "source": [
    "# PERFORMANCE ANALYSIS OF A TURBOJET ENGINE"
   ]
  },
  {
   "cell_type": "code",
   "execution_count": 85,
   "metadata": {},
   "outputs": [],
   "source": [
    "import numpy as np\n",
    "import pandas as pd\n",
    "import matplotlib.pyplot as plt"
   ]
  },
  {
   "cell_type": "markdown",
   "metadata": {},
   "source": [
    "## **Experimental Data**"
   ]
  },
  {
   "cell_type": "code",
   "execution_count": 86,
   "metadata": {},
   "outputs": [],
   "source": [
    "turbojet_df = pd.read_excel('turbojet raw data 1.xlsx',header=4)"
   ]
  },
  {
   "cell_type": "code",
   "execution_count": 87,
   "metadata": {},
   "outputs": [
    {
     "data": {
      "text/html": [
       "<div>\n",
       "<style scoped>\n",
       "    .dataframe tbody tr th:only-of-type {\n",
       "        vertical-align: middle;\n",
       "    }\n",
       "\n",
       "    .dataframe tbody tr th {\n",
       "        vertical-align: top;\n",
       "    }\n",
       "\n",
       "    .dataframe thead th {\n",
       "        text-align: right;\n",
       "    }\n",
       "</style>\n",
       "<table border=\"1\" class=\"dataframe\">\n",
       "  <thead>\n",
       "    <tr style=\"text-align: right;\">\n",
       "      <th></th>\n",
       "      <th>RPM*1000/min</th>\n",
       "      <th>Compressor Inlet Temperature  (°C)</th>\n",
       "      <th>Compressor Inlet absolute Pressure  (bar)</th>\n",
       "      <th>Compressor Exit Temerature (°C)</th>\n",
       "      <th>Combustion Chamber Exit Temperature (°C)</th>\n",
       "      <th>Combstion Chamber Exit Gauge  Pressure (bar)</th>\n",
       "      <th>Turbine Exit Temperature (°C)</th>\n",
       "      <th>Fuel Flow Rate (L/h)</th>\n",
       "      <th>Air Flow Rate (L/s)</th>\n",
       "      <th>Thrust             (N)</th>\n",
       "    </tr>\n",
       "  </thead>\n",
       "  <tbody>\n",
       "    <tr>\n",
       "      <th>0</th>\n",
       "      <td>30.0</td>\n",
       "      <td>14</td>\n",
       "      <td>1.01325</td>\n",
       "      <td>24</td>\n",
       "      <td>854</td>\n",
       "      <td>0.06</td>\n",
       "      <td>571</td>\n",
       "      <td>5.5</td>\n",
       "      <td>38</td>\n",
       "      <td>7</td>\n",
       "    </tr>\n",
       "    <tr>\n",
       "      <th>1</th>\n",
       "      <td>60.0</td>\n",
       "      <td>14</td>\n",
       "      <td>1.01325</td>\n",
       "      <td>40</td>\n",
       "      <td>844</td>\n",
       "      <td>0.19</td>\n",
       "      <td>568</td>\n",
       "      <td>9.0</td>\n",
       "      <td>60</td>\n",
       "      <td>18</td>\n",
       "    </tr>\n",
       "    <tr>\n",
       "      <th>2</th>\n",
       "      <td>75.0</td>\n",
       "      <td>14</td>\n",
       "      <td>1.01325</td>\n",
       "      <td>49</td>\n",
       "      <td>850</td>\n",
       "      <td>0.36</td>\n",
       "      <td>565</td>\n",
       "      <td>11.5</td>\n",
       "      <td>76</td>\n",
       "      <td>26</td>\n",
       "    </tr>\n",
       "    <tr>\n",
       "      <th>3</th>\n",
       "      <td>92.8</td>\n",
       "      <td>14</td>\n",
       "      <td>1.01325</td>\n",
       "      <td>72</td>\n",
       "      <td>877</td>\n",
       "      <td>0.62</td>\n",
       "      <td>572</td>\n",
       "      <td>15.9</td>\n",
       "      <td>114</td>\n",
       "      <td>45</td>\n",
       "    </tr>\n",
       "    <tr>\n",
       "      <th>4</th>\n",
       "      <td>96.0</td>\n",
       "      <td>14</td>\n",
       "      <td>1.01325</td>\n",
       "      <td>87</td>\n",
       "      <td>913</td>\n",
       "      <td>0.77</td>\n",
       "      <td>580</td>\n",
       "      <td>17.0</td>\n",
       "      <td>140</td>\n",
       "      <td>55</td>\n",
       "    </tr>\n",
       "  </tbody>\n",
       "</table>\n",
       "</div>"
      ],
      "text/plain": [
       "   RPM*1000/min  Compressor Inlet Temperature  (°C)   \\\n",
       "0          30.0                                   14   \n",
       "1          60.0                                   14   \n",
       "2          75.0                                   14   \n",
       "3          92.8                                   14   \n",
       "4          96.0                                   14   \n",
       "\n",
       "   Compressor Inlet absolute Pressure  (bar)  Compressor Exit Temerature (°C)  \\\n",
       "0                                    1.01325                               24   \n",
       "1                                    1.01325                               40   \n",
       "2                                    1.01325                               49   \n",
       "3                                    1.01325                               72   \n",
       "4                                    1.01325                               87   \n",
       "\n",
       "   Combustion Chamber Exit Temperature (°C)  \\\n",
       "0                                       854   \n",
       "1                                       844   \n",
       "2                                       850   \n",
       "3                                       877   \n",
       "4                                       913   \n",
       "\n",
       "   Combstion Chamber Exit Gauge  Pressure (bar)  \\\n",
       "0                                          0.06   \n",
       "1                                          0.19   \n",
       "2                                          0.36   \n",
       "3                                          0.62   \n",
       "4                                          0.77   \n",
       "\n",
       "   Turbine Exit Temperature (°C)  Fuel Flow Rate (L/h)  Air Flow Rate (L/s)  \\\n",
       "0                            571                   5.5                   38   \n",
       "1                            568                   9.0                   60   \n",
       "2                            565                  11.5                   76   \n",
       "3                            572                  15.9                  114   \n",
       "4                            580                  17.0                  140   \n",
       "\n",
       "   Thrust             (N)  \n",
       "0                       7  \n",
       "1                      18  \n",
       "2                      26  \n",
       "3                      45  \n",
       "4                      55  "
      ]
     },
     "execution_count": 87,
     "metadata": {},
     "output_type": "execute_result"
    }
   ],
   "source": [
    "turbojet_df"
   ]
  },
  {
   "cell_type": "markdown",
   "metadata": {},
   "source": [
    "## Unit conversion"
   ]
  },
  {
   "cell_type": "code",
   "execution_count": 88,
   "metadata": {},
   "outputs": [],
   "source": [
    "rho_air = 1.2   # kg/m3\n",
    "rho_fuel = 840  # kg/m3\n",
    "gamma_cold = 1.4\n",
    "gamma_hot = 1.33\n",
    "Cp_cold = 1005  # J/kg/K\n",
    "Cp_hot = 1150   # J/kg/K"
   ]
  },
  {
   "cell_type": "code",
   "execution_count": 89,
   "metadata": {},
   "outputs": [],
   "source": [
    "turbojet_df_unit_converted = turbojet_df.copy()\n",
    "turbojet_col = turbojet_df_unit_converted.columns"
   ]
  },
  {
   "cell_type": "markdown",
   "metadata": {},
   "source": [
    ">### **Temprature : °C to kelvin**\n",
    ">### **Pressure : bar to kPa**\n",
    ">### **Mass flow rate : L/h or L/s to kg/s**"
   ]
  },
  {
   "cell_type": "code",
   "execution_count": 90,
   "metadata": {},
   "outputs": [],
   "source": [
    "for i in turbojet_col:\n",
    "    if \"(°C)\" in i:\n",
    "        turbojet_df_unit_converted[i] = turbojet_df_unit_converted[i] + 273\n",
    "        turbojet_df_unit_converted = turbojet_df_unit_converted.rename(\n",
    "            columns={i: i.replace('(°C)', '(K)')})\n",
    "    elif \"(bar)\" in i:\n",
    "        turbojet_df_unit_converted[i] = turbojet_df_unit_converted[i]*100\n",
    "        turbojet_df_unit_converted = turbojet_df_unit_converted.rename(\n",
    "            columns={i: i.replace('(bar)', '(kPa)')})\n",
    "    elif \"(L/h)\" in i:\n",
    "        turbojet_df_unit_converted[i] = turbojet_df_unit_converted[i] * \\\n",
    "            rho_fuel/(3600*1000)\n",
    "        turbojet_df_unit_converted = turbojet_df_unit_converted.rename(\n",
    "            columns={i: i.replace('(L/h)', '(kg/s)')})\n",
    "    elif \"(L/s)\" in i:\n",
    "        turbojet_df_unit_converted[i] = turbojet_df_unit_converted[i] * \\\n",
    "            rho_air/(1000)\n",
    "        turbojet_df_unit_converted = turbojet_df_unit_converted.rename(\n",
    "            columns={i: i.replace('(L/s)', '(kg/s)')})\n"
   ]
  },
  {
   "cell_type": "code",
   "execution_count": 91,
   "metadata": {},
   "outputs": [
    {
     "data": {
      "text/html": [
       "<div>\n",
       "<style scoped>\n",
       "    .dataframe tbody tr th:only-of-type {\n",
       "        vertical-align: middle;\n",
       "    }\n",
       "\n",
       "    .dataframe tbody tr th {\n",
       "        vertical-align: top;\n",
       "    }\n",
       "\n",
       "    .dataframe thead th {\n",
       "        text-align: right;\n",
       "    }\n",
       "</style>\n",
       "<table border=\"1\" class=\"dataframe\">\n",
       "  <thead>\n",
       "    <tr style=\"text-align: right;\">\n",
       "      <th></th>\n",
       "      <th>RPM*1000/min</th>\n",
       "      <th>Compressor Inlet Temperature  (K)</th>\n",
       "      <th>Compressor Inlet absolute Pressure  (kPa)</th>\n",
       "      <th>Compressor Exit Temerature (K)</th>\n",
       "      <th>Combustion Chamber Exit Temperature (K)</th>\n",
       "      <th>Combstion Chamber Exit Gauge  Pressure (kPa)</th>\n",
       "      <th>Turbine Exit Temperature (K)</th>\n",
       "      <th>Fuel Flow Rate (kg/s)</th>\n",
       "      <th>Air Flow Rate (kg/s)</th>\n",
       "      <th>Thrust             (N)</th>\n",
       "    </tr>\n",
       "  </thead>\n",
       "  <tbody>\n",
       "    <tr>\n",
       "      <th>0</th>\n",
       "      <td>30.0</td>\n",
       "      <td>287</td>\n",
       "      <td>101.325</td>\n",
       "      <td>297</td>\n",
       "      <td>1127</td>\n",
       "      <td>6.0</td>\n",
       "      <td>844</td>\n",
       "      <td>0.001283</td>\n",
       "      <td>0.0456</td>\n",
       "      <td>7</td>\n",
       "    </tr>\n",
       "    <tr>\n",
       "      <th>1</th>\n",
       "      <td>60.0</td>\n",
       "      <td>287</td>\n",
       "      <td>101.325</td>\n",
       "      <td>313</td>\n",
       "      <td>1117</td>\n",
       "      <td>19.0</td>\n",
       "      <td>841</td>\n",
       "      <td>0.002100</td>\n",
       "      <td>0.0720</td>\n",
       "      <td>18</td>\n",
       "    </tr>\n",
       "    <tr>\n",
       "      <th>2</th>\n",
       "      <td>75.0</td>\n",
       "      <td>287</td>\n",
       "      <td>101.325</td>\n",
       "      <td>322</td>\n",
       "      <td>1123</td>\n",
       "      <td>36.0</td>\n",
       "      <td>838</td>\n",
       "      <td>0.002683</td>\n",
       "      <td>0.0912</td>\n",
       "      <td>26</td>\n",
       "    </tr>\n",
       "    <tr>\n",
       "      <th>3</th>\n",
       "      <td>92.8</td>\n",
       "      <td>287</td>\n",
       "      <td>101.325</td>\n",
       "      <td>345</td>\n",
       "      <td>1150</td>\n",
       "      <td>62.0</td>\n",
       "      <td>845</td>\n",
       "      <td>0.003710</td>\n",
       "      <td>0.1368</td>\n",
       "      <td>45</td>\n",
       "    </tr>\n",
       "    <tr>\n",
       "      <th>4</th>\n",
       "      <td>96.0</td>\n",
       "      <td>287</td>\n",
       "      <td>101.325</td>\n",
       "      <td>360</td>\n",
       "      <td>1186</td>\n",
       "      <td>77.0</td>\n",
       "      <td>853</td>\n",
       "      <td>0.003967</td>\n",
       "      <td>0.1680</td>\n",
       "      <td>55</td>\n",
       "    </tr>\n",
       "  </tbody>\n",
       "</table>\n",
       "</div>"
      ],
      "text/plain": [
       "   RPM*1000/min  Compressor Inlet Temperature  (K)   \\\n",
       "0          30.0                                 287   \n",
       "1          60.0                                 287   \n",
       "2          75.0                                 287   \n",
       "3          92.8                                 287   \n",
       "4          96.0                                 287   \n",
       "\n",
       "   Compressor Inlet absolute Pressure  (kPa)  Compressor Exit Temerature (K)  \\\n",
       "0                                    101.325                             297   \n",
       "1                                    101.325                             313   \n",
       "2                                    101.325                             322   \n",
       "3                                    101.325                             345   \n",
       "4                                    101.325                             360   \n",
       "\n",
       "   Combustion Chamber Exit Temperature (K)  \\\n",
       "0                                     1127   \n",
       "1                                     1117   \n",
       "2                                     1123   \n",
       "3                                     1150   \n",
       "4                                     1186   \n",
       "\n",
       "   Combstion Chamber Exit Gauge  Pressure (kPa)  Turbine Exit Temperature (K)  \\\n",
       "0                                           6.0                           844   \n",
       "1                                          19.0                           841   \n",
       "2                                          36.0                           838   \n",
       "3                                          62.0                           845   \n",
       "4                                          77.0                           853   \n",
       "\n",
       "   Fuel Flow Rate (kg/s)  Air Flow Rate (kg/s)  Thrust             (N)  \n",
       "0               0.001283                0.0456                       7  \n",
       "1               0.002100                0.0720                      18  \n",
       "2               0.002683                0.0912                      26  \n",
       "3               0.003710                0.1368                      45  \n",
       "4               0.003967                0.1680                      55  "
      ]
     },
     "execution_count": 91,
     "metadata": {},
     "output_type": "execute_result"
    }
   ],
   "source": [
    "turbojet_df_unit_converted"
   ]
  },
  {
   "cell_type": "markdown",
   "metadata": {},
   "source": [
    ">## **Ambient conditions**"
   ]
  },
  {
   "cell_type": "code",
   "execution_count": 92,
   "metadata": {},
   "outputs": [],
   "source": [
    "P01 = turbojet_df_unit_converted['Compressor Inlet absolute Pressure  (kPa)']   # kPa\n",
    "T01 = turbojet_df_unit_converted['Compressor Inlet Temperature  (K) ']       # kelvin"
   ]
  },
  {
   "cell_type": "markdown",
   "metadata": {},
   "source": [
    "> ## **Compressor Pressure Ratio**"
   ]
  },
  {
   "cell_type": "code",
   "execution_count": 93,
   "metadata": {},
   "outputs": [],
   "source": [
    "T02 = turbojet_df_unit_converted['Compressor Exit Temerature (K)']"
   ]
  },
  {
   "cell_type": "code",
   "execution_count": 94,
   "metadata": {},
   "outputs": [],
   "source": [
    "T02byT01 = T02/T01"
   ]
  },
  {
   "cell_type": "code",
   "execution_count": 95,
   "metadata": {},
   "outputs": [],
   "source": [
    "CPR = pow((T02/T01),((gamma_cold-1)/gamma_cold))"
   ]
  },
  {
   "cell_type": "code",
   "execution_count": 96,
   "metadata": {},
   "outputs": [],
   "source": [
    "P02 = CPR*P01"
   ]
  },
  {
   "cell_type": "code",
   "execution_count": 97,
   "metadata": {},
   "outputs": [],
   "source": [
    "P03 = turbojet_df_unit_converted['Combstion Chamber Exit Gauge  Pressure (kPa)'] + P01"
   ]
  },
  {
   "cell_type": "markdown",
   "metadata": {},
   "source": [
    "> ## **Compressor efficiency (Ƞ𝒄)**\n",
    "$$\\eta_c = \\frac{(\\frac{P_{02}}{P_{01}}-1)^{(\\frac{\\gamma -1 }{\\gamma})}-1}{\\frac{T_{02}}{T_{01}}-1}$$"
   ]
  },
  {
   "cell_type": "code",
   "execution_count": 98,
   "metadata": {},
   "outputs": [],
   "source": [
    "etaC = ((pow(CPR,((gamma_hot-1)/gamma_hot))-1)/(T02byT01 - 1))"
   ]
  },
  {
   "cell_type": "markdown",
   "metadata": {},
   "source": [
    "> ## **Global Equivalence ratio (ɸg)**\n",
    "$$Global\\space Equivalence\\space Ratio = \\frac{𝐴𝑐𝑡𝑢𝑎𝑙 (\\frac{𝐹𝑢𝑒𝑙}{𝐴𝑖𝑟})}{𝑆𝑡𝑜𝑖𝑐ℎ𝑖𝑜𝑚𝑒𝑡𝑟𝑖𝑐 (\\frac{𝐹𝑢𝑒𝑙}{𝐴𝑖𝑟})}$$"
   ]
  },
  {
   "cell_type": "code",
   "execution_count": 99,
   "metadata": {},
   "outputs": [],
   "source": [
    "mfByma_stochio = 1/15\n",
    "mf_actual = turbojet_df_unit_converted['Fuel Flow Rate (kg/s)']\n",
    "ma_actual = turbojet_df_unit_converted['Air Flow Rate (kg/s)']\n",
    "mfByma_actual = mf_actual/ma_actual"
   ]
  },
  {
   "cell_type": "code",
   "execution_count": 100,
   "metadata": {},
   "outputs": [],
   "source": [
    "GER = mfByma_actual/mfByma_stochio"
   ]
  },
  {
   "cell_type": "markdown",
   "metadata": {},
   "source": [
    "> ## **Specific Thrust**\n",
    "$$𝑆𝑝𝑒𝑐𝑖𝑓𝑖𝑐 𝑇ℎ𝑟𝑢𝑠𝑡=\\space \\frac{𝑇ℎ𝑟𝑢𝑠𝑡 (𝑁𝑒𝑤𝑡𝑜𝑛𝑠)}{𝑇𝑜𝑡𝑎𝑙\\space 𝐼𝑛𝑡𝑎𝑘𝑒\\space 𝐴𝑖𝑟\\space 𝐹𝑙𝑜𝑤 (\\frac{𝑘𝑔}{𝑠})}$$"
   ]
  },
  {
   "cell_type": "code",
   "execution_count": 101,
   "metadata": {},
   "outputs": [],
   "source": [
    "thrust = turbojet_df_unit_converted['Thrust             (N)']\n",
    "SpecificThrust = thrust/ma_actual"
   ]
  },
  {
   "cell_type": "markdown",
   "metadata": {},
   "source": [
    "> ## **Thrust Specific Fuel Consumption (TSFC)**\n",
    "$$𝑇𝑆𝐹𝐶 =\\space \\frac{𝐹𝑢𝑒𝑙\\space 𝐶𝑜𝑛𝑠𝑢𝑚𝑝𝑡𝑖𝑜𝑛 (\\frac{𝑘𝑔}{𝑠})}{𝑇ℎ𝑟𝑢𝑠𝑡 (𝑁𝑒𝑤𝑡𝑜𝑛𝑠)}$$"
   ]
  },
  {
   "cell_type": "code",
   "execution_count": 102,
   "metadata": {},
   "outputs": [],
   "source": [
    "TSFC = mf_actual/thrust"
   ]
  },
  {
   "cell_type": "markdown",
   "metadata": {},
   "source": [
    "# **Results**"
   ]
  },
  {
   "cell_type": "code",
   "execution_count": 103,
   "metadata": {},
   "outputs": [
    {
     "data": {
      "text/html": [
       "<div>\n",
       "<style scoped>\n",
       "    .dataframe tbody tr th:only-of-type {\n",
       "        vertical-align: middle;\n",
       "    }\n",
       "\n",
       "    .dataframe tbody tr th {\n",
       "        vertical-align: top;\n",
       "    }\n",
       "\n",
       "    .dataframe thead th {\n",
       "        text-align: right;\n",
       "    }\n",
       "</style>\n",
       "<table border=\"1\" class=\"dataframe\">\n",
       "  <thead>\n",
       "    <tr style=\"text-align: right;\">\n",
       "      <th></th>\n",
       "      <th>RPM*1000/min</th>\n",
       "      <th>Compressor pressure ratio(P02/P01)</th>\n",
       "      <th>Compressor efficiency (Ƞ𝒄)</th>\n",
       "      <th>Global equivalence ratio (ɸg)</th>\n",
       "      <th>Specific thrust</th>\n",
       "      <th>TSFC</th>\n",
       "    </tr>\n",
       "  </thead>\n",
       "  <tbody>\n",
       "    <tr>\n",
       "      <th>0</th>\n",
       "      <td>30.0</td>\n",
       "      <td>1.009834</td>\n",
       "      <td>0.069769</td>\n",
       "      <td>0.422149</td>\n",
       "      <td>153.508772</td>\n",
       "      <td>0.000183</td>\n",
       "    </tr>\n",
       "    <tr>\n",
       "      <th>1</th>\n",
       "      <td>60.0</td>\n",
       "      <td>1.025087</td>\n",
       "      <td>0.068071</td>\n",
       "      <td>0.437500</td>\n",
       "      <td>250.000000</td>\n",
       "      <td>0.000117</td>\n",
       "    </tr>\n",
       "    <tr>\n",
       "      <th>2</th>\n",
       "      <td>75.0</td>\n",
       "      <td>1.033423</td>\n",
       "      <td>0.067165</td>\n",
       "      <td>0.441338</td>\n",
       "      <td>285.087719</td>\n",
       "      <td>0.000103</td>\n",
       "    </tr>\n",
       "    <tr>\n",
       "      <th>3</th>\n",
       "      <td>92.8</td>\n",
       "      <td>1.053997</td>\n",
       "      <td>0.064990</td>\n",
       "      <td>0.406798</td>\n",
       "      <td>328.947368</td>\n",
       "      <td>0.000082</td>\n",
       "    </tr>\n",
       "    <tr>\n",
       "      <th>4</th>\n",
       "      <td>96.0</td>\n",
       "      <td>1.066891</td>\n",
       "      <td>0.063672</td>\n",
       "      <td>0.354167</td>\n",
       "      <td>327.380952</td>\n",
       "      <td>0.000072</td>\n",
       "    </tr>\n",
       "  </tbody>\n",
       "</table>\n",
       "</div>"
      ],
      "text/plain": [
       "   RPM*1000/min  Compressor pressure ratio(P02/P01)  \\\n",
       "0          30.0                            1.009834   \n",
       "1          60.0                            1.025087   \n",
       "2          75.0                            1.033423   \n",
       "3          92.8                            1.053997   \n",
       "4          96.0                            1.066891   \n",
       "\n",
       "   Compressor efficiency (Ƞ𝒄)  Global equivalence ratio (ɸg)  Specific thrust  \\\n",
       "0                    0.069769                       0.422149       153.508772   \n",
       "1                    0.068071                       0.437500       250.000000   \n",
       "2                    0.067165                       0.441338       285.087719   \n",
       "3                    0.064990                       0.406798       328.947368   \n",
       "4                    0.063672                       0.354167       327.380952   \n",
       "\n",
       "       TSFC  \n",
       "0  0.000183  \n",
       "1  0.000117  \n",
       "2  0.000103  \n",
       "3  0.000082  \n",
       "4  0.000072  "
      ]
     },
     "execution_count": 103,
     "metadata": {},
     "output_type": "execute_result"
    }
   ],
   "source": [
    "res_df = pd.DataFrame({\n",
    "    \"RPM*1000/min\":turbojet_df_unit_converted['RPM*1000/min'],\n",
    "    \"Compressor pressure ratio(P02/P01)\": CPR,\n",
    "    \"Compressor efficiency (Ƞ𝒄)\" : etaC,\n",
    "    \"Global equivalence ratio (ɸg)\" : GER,\n",
    "    \"Specific thrust\" : SpecificThrust,\n",
    "    \"TSFC\" : TSFC\n",
    "})\n",
    "res_df"
   ]
  },
  {
   "cell_type": "markdown",
   "metadata": {},
   "source": [
    "# **Plots**"
   ]
  },
  {
   "cell_type": "code",
   "execution_count": 104,
   "metadata": {},
   "outputs": [],
   "source": [
    "x = res_df['RPM*1000/min']\n",
    "y = res_df[res_df.columns[1:]]"
   ]
  },
  {
   "cell_type": "code",
   "execution_count": 105,
   "metadata": {},
   "outputs": [
    {
     "data": {
      "image/png": "[encoded data removed]",
      "text/plain": [
       "<Figure size 1224x648 with 5 Axes>"
      ]
     },
     "metadata": {
      "needs_background": "light"
     },
     "output_type": "display_data"
    }
   ],
   "source": [
    "plt.figure(figsize=(17,9));\n",
    "plt.subplot(231)\n",
    "plt.plot(x,y[y.columns[0]],\"-ro\");plt.grid();plt.xlabel(\"RPM\");plt.ylabel(\"Compressor pressure ratio(P02/P01)\");\n",
    "plt.subplot(232)\n",
    "plt.plot(x,y[y.columns[1]],\"--g*\");plt.grid();plt.xlabel(\"RPM\");plt.ylabel(\"Compressor efficiency (Ƞc)\");\n",
    "plt.subplot(233)\n",
    "plt.plot(x,y[y.columns[2]],\"-.md\");plt.grid();plt.xlabel(\"RPM\");plt.ylabel(\"Global equivalence ratio (ɸg)\");\n",
    "plt.subplot(234)\n",
    "plt.plot(x,y[y.columns[3]],\"--cs\");plt.grid();plt.xlabel(\"RPM\");plt.ylabel(\"Specific Thrust\");\n",
    "plt.subplot(236)\n",
    "plt.plot(x,y[y.columns[4]],\"-kv\");plt.grid();plt.xlabel(\"RPM\");plt.ylabel(\"TSFC\");"
   ]
  },
  {
   "cell_type": "markdown",
   "metadata": {},
   "source": [
    "## **Temprature trends with RPM**"
   ]
  },
  {
   "cell_type": "code",
   "execution_count": 106,
   "metadata": {},
   "outputs": [],
   "source": [
    "temp_col = []\n",
    "for i in turbojet_df_unit_converted.columns:\n",
    "    if \"(K)\" in i:\n",
    "        temp_col.append(i)\n",
    "temprature = turbojet_df_unit_converted[temp_col]"
   ]
  },
  {
   "cell_type": "code",
   "execution_count": 111,
   "metadata": {},
   "outputs": [
    {
     "data": {
      "text/html": [
       "<div>\n",
       "<style scoped>\n",
       "    .dataframe tbody tr th:only-of-type {\n",
       "        vertical-align: middle;\n",
       "    }\n",
       "\n",
       "    .dataframe tbody tr th {\n",
       "        vertical-align: top;\n",
       "    }\n",
       "\n",
       "    .dataframe thead th {\n",
       "        text-align: right;\n",
       "    }\n",
       "</style>\n",
       "<table border=\"1\" class=\"dataframe\">\n",
       "  <thead>\n",
       "    <tr style=\"text-align: right;\">\n",
       "      <th></th>\n",
       "      <th>Compressor Inlet Temperature  (K)</th>\n",
       "      <th>Compressor Exit Temerature (K)</th>\n",
       "      <th>Combustion Chamber Exit Temperature (K)</th>\n",
       "      <th>Turbine Exit Temperature (K)</th>\n",
       "    </tr>\n",
       "  </thead>\n",
       "  <tbody>\n",
       "    <tr>\n",
       "      <th>0</th>\n",
       "      <td>287</td>\n",
       "      <td>297</td>\n",
       "      <td>1127</td>\n",
       "      <td>844</td>\n",
       "    </tr>\n",
       "    <tr>\n",
       "      <th>1</th>\n",
       "      <td>287</td>\n",
       "      <td>313</td>\n",
       "      <td>1117</td>\n",
       "      <td>841</td>\n",
       "    </tr>\n",
       "    <tr>\n",
       "      <th>2</th>\n",
       "      <td>287</td>\n",
       "      <td>322</td>\n",
       "      <td>1123</td>\n",
       "      <td>838</td>\n",
       "    </tr>\n",
       "    <tr>\n",
       "      <th>3</th>\n",
       "      <td>287</td>\n",
       "      <td>345</td>\n",
       "      <td>1150</td>\n",
       "      <td>845</td>\n",
       "    </tr>\n",
       "    <tr>\n",
       "      <th>4</th>\n",
       "      <td>287</td>\n",
       "      <td>360</td>\n",
       "      <td>1186</td>\n",
       "      <td>853</td>\n",
       "    </tr>\n",
       "  </tbody>\n",
       "</table>\n",
       "</div>"
      ],
      "text/plain": [
       "   Compressor Inlet Temperature  (K)   Compressor Exit Temerature (K)  \\\n",
       "0                                 287                             297   \n",
       "1                                 287                             313   \n",
       "2                                 287                             322   \n",
       "3                                 287                             345   \n",
       "4                                 287                             360   \n",
       "\n",
       "   Combustion Chamber Exit Temperature (K)  Turbine Exit Temperature (K)  \n",
       "0                                     1127                           844  \n",
       "1                                     1117                           841  \n",
       "2                                     1123                           838  \n",
       "3                                     1150                           845  \n",
       "4                                     1186                           853  "
      ]
     },
     "execution_count": 111,
     "metadata": {},
     "output_type": "execute_result"
    }
   ],
   "source": [
    "temprature"
   ]
  },
  {
   "cell_type": "code",
   "execution_count": 122,
   "metadata": {},
   "outputs": [
    {
     "data": {
      "image/png": "[encoded data removed]",
      "text/plain": [
       "<Figure size 648x432 with 1 Axes>"
      ]
     },
     "metadata": {
      "needs_background": "light"
     },
     "output_type": "display_data"
    }
   ],
   "source": [
    "plt.figure(figsize=(9,6));\n",
    "for i in temprature.columns:\n",
    "    plt.plot(x,temprature[i]);\n",
    "plt.loglog();plt.xlabel(\"RPM\");plt.ylabel(\"Temprature (K)\");\n",
    "plt.legend(temprature.columns.tolist());"
   ]
  },
  {
   "cell_type": "code",
   "execution_count": null,
   "metadata": {},
   "outputs": [],
   "source": []
  }
 ],
 "metadata": {
  "interpreter": {
   "hash": "46b56489f7f0b69c558b3db68ace274265d225be2812e701dbb00a44f2f9de29"
  },
  "kernelspec": {
   "display_name": "Python 3.8.10 64-bit",
   "name": "python3"
  },
  "language_info": {
   "codemirror_mode": {
    "name": "ipython",
    "version": 3
   },
   "file_extension": ".py",
   "mimetype": "text/x-python",
   "name": "python",
   "nbconvert_exporter": "python",
   "pygments_lexer": "ipython3",
   "version": "3.8.10"
  },
  "orig_nbformat": 4
 },
 "nbformat": 4,
 "nbformat_minor": 2
}
