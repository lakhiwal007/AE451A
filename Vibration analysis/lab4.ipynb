{
 "cells": [
  {
   "cell_type": "code",
   "execution_count": 11,
   "source": [
    "import pandas as pd\r\n",
    "import numpy as np\r\n",
    "import matplotlib.pyplot as plt\r\n",
    "import plotly.express as px"
   ],
   "outputs": [],
   "metadata": {}
  },
  {
   "cell_type": "code",
   "execution_count": 12,
   "source": [
    "vibration1_df = pd.read_excel('alBeam.xlsx',sheet_name=['Al Beam','Composite Beam','vibration48'])"
   ],
   "outputs": [],
   "metadata": {}
  },
  {
   "cell_type": "markdown",
   "source": [
    "# Aluminium Beam"
   ],
   "metadata": {}
  },
  {
   "cell_type": "code",
   "execution_count": 13,
   "source": [
    "AlBeam_Data = vibration1_df['Al Beam']\r\n",
    "AlBeam_Data"
   ],
   "outputs": [
    {
     "output_type": "execute_result",
     "data": {
      "text/plain": [
       "     Accelerometer  Strain Gauge Data   Time\n",
       "0        -4.210822           0.000148  0.000\n",
       "1        -4.283377           0.000151  0.001\n",
       "2        -4.326943           0.000151  0.002\n",
       "3        -4.340289           0.000151  0.003\n",
       "4        -4.324146           0.000152  0.004\n",
       "..             ...                ...    ...\n",
       "995      -1.236253           0.000151  0.995\n",
       "996      -1.473798           0.000154  0.996\n",
       "997      -1.703194           0.000152  0.997\n",
       "998      -1.920988           0.000152  0.998\n",
       "999      -2.125287           0.000154  0.999\n",
       "\n",
       "[1000 rows x 3 columns]"
      ],
      "text/html": [
       "<div>\n",
       "<style scoped>\n",
       "    .dataframe tbody tr th:only-of-type {\n",
       "        vertical-align: middle;\n",
       "    }\n",
       "\n",
       "    .dataframe tbody tr th {\n",
       "        vertical-align: top;\n",
       "    }\n",
       "\n",
       "    .dataframe thead th {\n",
       "        text-align: right;\n",
       "    }\n",
       "</style>\n",
       "<table border=\"1\" class=\"dataframe\">\n",
       "  <thead>\n",
       "    <tr style=\"text-align: right;\">\n",
       "      <th></th>\n",
       "      <th>Accelerometer</th>\n",
       "      <th>Strain Gauge Data</th>\n",
       "      <th>Time</th>\n",
       "    </tr>\n",
       "  </thead>\n",
       "  <tbody>\n",
       "    <tr>\n",
       "      <th>0</th>\n",
       "      <td>-4.210822</td>\n",
       "      <td>0.000148</td>\n",
       "      <td>0.000</td>\n",
       "    </tr>\n",
       "    <tr>\n",
       "      <th>1</th>\n",
       "      <td>-4.283377</td>\n",
       "      <td>0.000151</td>\n",
       "      <td>0.001</td>\n",
       "    </tr>\n",
       "    <tr>\n",
       "      <th>2</th>\n",
       "      <td>-4.326943</td>\n",
       "      <td>0.000151</td>\n",
       "      <td>0.002</td>\n",
       "    </tr>\n",
       "    <tr>\n",
       "      <th>3</th>\n",
       "      <td>-4.340289</td>\n",
       "      <td>0.000151</td>\n",
       "      <td>0.003</td>\n",
       "    </tr>\n",
       "    <tr>\n",
       "      <th>4</th>\n",
       "      <td>-4.324146</td>\n",
       "      <td>0.000152</td>\n",
       "      <td>0.004</td>\n",
       "    </tr>\n",
       "    <tr>\n",
       "      <th>...</th>\n",
       "      <td>...</td>\n",
       "      <td>...</td>\n",
       "      <td>...</td>\n",
       "    </tr>\n",
       "    <tr>\n",
       "      <th>995</th>\n",
       "      <td>-1.236253</td>\n",
       "      <td>0.000151</td>\n",
       "      <td>0.995</td>\n",
       "    </tr>\n",
       "    <tr>\n",
       "      <th>996</th>\n",
       "      <td>-1.473798</td>\n",
       "      <td>0.000154</td>\n",
       "      <td>0.996</td>\n",
       "    </tr>\n",
       "    <tr>\n",
       "      <th>997</th>\n",
       "      <td>-1.703194</td>\n",
       "      <td>0.000152</td>\n",
       "      <td>0.997</td>\n",
       "    </tr>\n",
       "    <tr>\n",
       "      <th>998</th>\n",
       "      <td>-1.920988</td>\n",
       "      <td>0.000152</td>\n",
       "      <td>0.998</td>\n",
       "    </tr>\n",
       "    <tr>\n",
       "      <th>999</th>\n",
       "      <td>-2.125287</td>\n",
       "      <td>0.000154</td>\n",
       "      <td>0.999</td>\n",
       "    </tr>\n",
       "  </tbody>\n",
       "</table>\n",
       "<p>1000 rows × 3 columns</p>\n",
       "</div>"
      ]
     },
     "metadata": {},
     "execution_count": 13
    }
   ],
   "metadata": {}
  },
  {
   "cell_type": "code",
   "execution_count": 14,
   "source": [
    "plt.grid();\r\n",
    "plt.plot(AlBeam_Data['Time'],AlBeam_Data['Accelerometer']);plt.xlabel('Time [s]');plt.ylabel('Acceleration [m/s2]');"
   ],
   "outputs": [
    {
     "output_type": "display_data",
     "data": {
      "text/plain": [
       "<Figure size 432x288 with 1 Axes>"
      ],
      "image/svg+xml": "<?xml version=\"1.0\" encoding=\"utf-8\" standalone=\"no\"?>\r\n<!DOCTYPE svg PUBLIC \"-//W3C//DTD SVG 1.1//EN\"\r\n  \"http://www.w3.org/Graphics/SVG/1.1/DTD/svg11.dtd\">\r\n<svg height=\"262.19625pt\" version=\"1.1\" viewBox=\"0 0 384.620313 262.19625\" width=\"384.620313pt\" xmlns=\"http://www.w3.org/2000/svg\" xmlns:xlink=\"http://www.w3.org/1999/xlink\">\r\n <metadata>\r\n  <rdf:RDF xmlns:cc=\"http://creativecommons.org/ns#\" xmlns:dc=\"http://purl.org/dc/elements/1.1/\" xmlns:rdf=\"http://www.w3.org/1999/02/22-rdf-syntax-ns#\">\r\n   <cc:Work>\r\n    <dc:type rdf:resource=\"http://purl.org/dc/dcmitype/StillImage\"/>\r\n    <dc:date>2021-08-27T14:06:27.448450</dc:date>\r\n    <dc:format>image/svg+xml</dc:format>\r\n    <dc:creator>\r\n     <cc:Agent>\r\n      <dc:title>Matplotlib v3.4.2, https://matplotlib.org/</dc:title>\r\n     </cc:Agent>\r\n    </dc:creator>\r\n   </cc:Work>\r\n  </rdf:RDF>\r\n </metadata>\r\n <defs>\r\n  <style type=\"text/css\">*{stroke-linecap:butt;stroke-linejoin:round;}</style>\r\n </defs>\r\n <g id=\"figure_1\">\r\n  <g id=\"patch_1\">\r\n   <path d=\"M 0 262.19625 \r\nL 384.620313 262.19625 \r\nL 384.620313 0 \r\nL 0 0 \r\nz\r\n\" style=\"fill:none;\"/>\r\n  </g>\r\n  <g id=\"axes_1\">\r\n   <g id=\"patch_2\">\r\n    <path d=\"M 42.620313 224.64 \r\nL 377.420313 224.64 \r\nL 377.420313 7.2 \r\nL 42.620313 7.2 \r\nz\r\n\" style=\"fill:#ffffff;\"/>\r\n   </g>\r\n   <g id=\"matplotlib.axis_1\">\r\n    <g id=\"xtick_1\">\r\n     <g id=\"line2d_1\">\r\n      <path clip-path=\"url(#p7772bba9ea)\" d=\"M 57.838494 224.64 \r\nL 57.838494 7.2 \r\n\" style=\"fill:none;stroke:#b0b0b0;stroke-linecap:square;stroke-width:0.8;\"/>\r\n     </g>\r\n     <g id=\"line2d_2\">\r\n      <defs>\r\n       <path d=\"M 0 0 \r\nL 0 3.5 \r\n\" id=\"mfe31c91df4\" style=\"stroke:#000000;stroke-width:0.8;\"/>\r\n      </defs>\r\n      <g>\r\n       <use style=\"stroke:#000000;stroke-width:0.8;\" x=\"57.838494\" xlink:href=\"#mfe31c91df4\" y=\"224.64\"/>\r\n      </g>\r\n     </g>\r\n     <g id=\"text_1\">\r\n      <!-- 0.0 -->\r\n      <g transform=\"translate(49.886932 239.238437)scale(0.1 -0.1)\">\r\n       <defs>\r\n        <path d=\"M 2034 4250 \r\nQ 1547 4250 1301 3770 \r\nQ 1056 3291 1056 2328 \r\nQ 1056 1369 1301 889 \r\nQ 1547 409 2034 409 \r\nQ 2525 409 2770 889 \r\nQ 3016 1369 3016 2328 \r\nQ 3016 3291 2770 3770 \r\nQ 2525 4250 2034 4250 \r\nz\r\nM 2034 4750 \r\nQ 2819 4750 3233 4129 \r\nQ 3647 3509 3647 2328 \r\nQ 3647 1150 3233 529 \r\nQ 2819 -91 2034 -91 \r\nQ 1250 -91 836 529 \r\nQ 422 1150 422 2328 \r\nQ 422 3509 836 4129 \r\nQ 1250 4750 2034 4750 \r\nz\r\n\" id=\"DejaVuSans-30\" transform=\"scale(0.015625)\"/>\r\n        <path d=\"M 684 794 \r\nL 1344 794 \r\nL 1344 0 \r\nL 684 0 \r\nL 684 794 \r\nz\r\n\" id=\"DejaVuSans-2e\" transform=\"scale(0.015625)\"/>\r\n       </defs>\r\n       <use xlink:href=\"#DejaVuSans-30\"/>\r\n       <use x=\"63.623047\" xlink:href=\"#DejaVuSans-2e\"/>\r\n       <use x=\"95.410156\" xlink:href=\"#DejaVuSans-30\"/>\r\n      </g>\r\n     </g>\r\n    </g>\r\n    <g id=\"xtick_2\">\r\n     <g id=\"line2d_3\">\r\n      <path clip-path=\"url(#p7772bba9ea)\" d=\"M 118.772155 224.64 \r\nL 118.772155 7.2 \r\n\" style=\"fill:none;stroke:#b0b0b0;stroke-linecap:square;stroke-width:0.8;\"/>\r\n     </g>\r\n     <g id=\"line2d_4\">\r\n      <g>\r\n       <use style=\"stroke:#000000;stroke-width:0.8;\" x=\"118.772155\" xlink:href=\"#mfe31c91df4\" y=\"224.64\"/>\r\n      </g>\r\n     </g>\r\n     <g id=\"text_2\">\r\n      <!-- 0.2 -->\r\n      <g transform=\"translate(110.820593 239.238437)scale(0.1 -0.1)\">\r\n       <defs>\r\n        <path d=\"M 1228 531 \r\nL 3431 531 \r\nL 3431 0 \r\nL 469 0 \r\nL 469 531 \r\nQ 828 903 1448 1529 \r\nQ 2069 2156 2228 2338 \r\nQ 2531 2678 2651 2914 \r\nQ 2772 3150 2772 3378 \r\nQ 2772 3750 2511 3984 \r\nQ 2250 4219 1831 4219 \r\nQ 1534 4219 1204 4116 \r\nQ 875 4013 500 3803 \r\nL 500 4441 \r\nQ 881 4594 1212 4672 \r\nQ 1544 4750 1819 4750 \r\nQ 2544 4750 2975 4387 \r\nQ 3406 4025 3406 3419 \r\nQ 3406 3131 3298 2873 \r\nQ 3191 2616 2906 2266 \r\nQ 2828 2175 2409 1742 \r\nQ 1991 1309 1228 531 \r\nz\r\n\" id=\"DejaVuSans-32\" transform=\"scale(0.015625)\"/>\r\n       </defs>\r\n       <use xlink:href=\"#DejaVuSans-30\"/>\r\n       <use x=\"63.623047\" xlink:href=\"#DejaVuSans-2e\"/>\r\n       <use x=\"95.410156\" xlink:href=\"#DejaVuSans-32\"/>\r\n      </g>\r\n     </g>\r\n    </g>\r\n    <g id=\"xtick_3\">\r\n     <g id=\"line2d_5\">\r\n      <path clip-path=\"url(#p7772bba9ea)\" d=\"M 179.705816 224.64 \r\nL 179.705816 7.2 \r\n\" style=\"fill:none;stroke:#b0b0b0;stroke-linecap:square;stroke-width:0.8;\"/>\r\n     </g>\r\n     <g id=\"line2d_6\">\r\n      <g>\r\n       <use style=\"stroke:#000000;stroke-width:0.8;\" x=\"179.705816\" xlink:href=\"#mfe31c91df4\" y=\"224.64\"/>\r\n      </g>\r\n     </g>\r\n     <g id=\"text_3\">\r\n      <!-- 0.4 -->\r\n      <g transform=\"translate(171.754254 239.238437)scale(0.1 -0.1)\">\r\n       <defs>\r\n        <path d=\"M 2419 4116 \r\nL 825 1625 \r\nL 2419 1625 \r\nL 2419 4116 \r\nz\r\nM 2253 4666 \r\nL 3047 4666 \r\nL 3047 1625 \r\nL 3713 1625 \r\nL 3713 1100 \r\nL 3047 1100 \r\nL 3047 0 \r\nL 2419 0 \r\nL 2419 1100 \r\nL 313 1100 \r\nL 313 1709 \r\nL 2253 4666 \r\nz\r\n\" id=\"DejaVuSans-34\" transform=\"scale(0.015625)\"/>\r\n       </defs>\r\n       <use xlink:href=\"#DejaVuSans-30\"/>\r\n       <use x=\"63.623047\" xlink:href=\"#DejaVuSans-2e\"/>\r\n       <use x=\"95.410156\" xlink:href=\"#DejaVuSans-34\"/>\r\n      </g>\r\n     </g>\r\n    </g>\r\n    <g id=\"xtick_4\">\r\n     <g id=\"line2d_7\">\r\n      <path clip-path=\"url(#p7772bba9ea)\" d=\"M 240.639477 224.64 \r\nL 240.639477 7.2 \r\n\" style=\"fill:none;stroke:#b0b0b0;stroke-linecap:square;stroke-width:0.8;\"/>\r\n     </g>\r\n     <g id=\"line2d_8\">\r\n      <g>\r\n       <use style=\"stroke:#000000;stroke-width:0.8;\" x=\"240.639477\" xlink:href=\"#mfe31c91df4\" y=\"224.64\"/>\r\n      </g>\r\n     </g>\r\n     <g id=\"text_4\">\r\n      <!-- 0.6 -->\r\n      <g transform=\"translate(232.687915 239.238437)scale(0.1 -0.1)\">\r\n       <defs>\r\n        <path d=\"M 2113 2584 \r\nQ 1688 2584 1439 2293 \r\nQ 1191 2003 1191 1497 \r\nQ 1191 994 1439 701 \r\nQ 1688 409 2113 409 \r\nQ 2538 409 2786 701 \r\nQ 3034 994 3034 1497 \r\nQ 3034 2003 2786 2293 \r\nQ 2538 2584 2113 2584 \r\nz\r\nM 3366 4563 \r\nL 3366 3988 \r\nQ 3128 4100 2886 4159 \r\nQ 2644 4219 2406 4219 \r\nQ 1781 4219 1451 3797 \r\nQ 1122 3375 1075 2522 \r\nQ 1259 2794 1537 2939 \r\nQ 1816 3084 2150 3084 \r\nQ 2853 3084 3261 2657 \r\nQ 3669 2231 3669 1497 \r\nQ 3669 778 3244 343 \r\nQ 2819 -91 2113 -91 \r\nQ 1303 -91 875 529 \r\nQ 447 1150 447 2328 \r\nQ 447 3434 972 4092 \r\nQ 1497 4750 2381 4750 \r\nQ 2619 4750 2861 4703 \r\nQ 3103 4656 3366 4563 \r\nz\r\n\" id=\"DejaVuSans-36\" transform=\"scale(0.015625)\"/>\r\n       </defs>\r\n       <use xlink:href=\"#DejaVuSans-30\"/>\r\n       <use x=\"63.623047\" xlink:href=\"#DejaVuSans-2e\"/>\r\n       <use x=\"95.410156\" xlink:href=\"#DejaVuSans-36\"/>\r\n      </g>\r\n     </g>\r\n    </g>\r\n    <g id=\"xtick_5\">\r\n     <g id=\"line2d_9\">\r\n      <path clip-path=\"url(#p7772bba9ea)\" d=\"M 301.573138 224.64 \r\nL 301.573138 7.2 \r\n\" style=\"fill:none;stroke:#b0b0b0;stroke-linecap:square;stroke-width:0.8;\"/>\r\n     </g>\r\n     <g id=\"line2d_10\">\r\n      <g>\r\n       <use style=\"stroke:#000000;stroke-width:0.8;\" x=\"301.573138\" xlink:href=\"#mfe31c91df4\" y=\"224.64\"/>\r\n      </g>\r\n     </g>\r\n     <g id=\"text_5\">\r\n      <!-- 0.8 -->\r\n      <g transform=\"translate(293.621576 239.238437)scale(0.1 -0.1)\">\r\n       <defs>\r\n        <path d=\"M 2034 2216 \r\nQ 1584 2216 1326 1975 \r\nQ 1069 1734 1069 1313 \r\nQ 1069 891 1326 650 \r\nQ 1584 409 2034 409 \r\nQ 2484 409 2743 651 \r\nQ 3003 894 3003 1313 \r\nQ 3003 1734 2745 1975 \r\nQ 2488 2216 2034 2216 \r\nz\r\nM 1403 2484 \r\nQ 997 2584 770 2862 \r\nQ 544 3141 544 3541 \r\nQ 544 4100 942 4425 \r\nQ 1341 4750 2034 4750 \r\nQ 2731 4750 3128 4425 \r\nQ 3525 4100 3525 3541 \r\nQ 3525 3141 3298 2862 \r\nQ 3072 2584 2669 2484 \r\nQ 3125 2378 3379 2068 \r\nQ 3634 1759 3634 1313 \r\nQ 3634 634 3220 271 \r\nQ 2806 -91 2034 -91 \r\nQ 1263 -91 848 271 \r\nQ 434 634 434 1313 \r\nQ 434 1759 690 2068 \r\nQ 947 2378 1403 2484 \r\nz\r\nM 1172 3481 \r\nQ 1172 3119 1398 2916 \r\nQ 1625 2713 2034 2713 \r\nQ 2441 2713 2670 2916 \r\nQ 2900 3119 2900 3481 \r\nQ 2900 3844 2670 4047 \r\nQ 2441 4250 2034 4250 \r\nQ 1625 4250 1398 4047 \r\nQ 1172 3844 1172 3481 \r\nz\r\n\" id=\"DejaVuSans-38\" transform=\"scale(0.015625)\"/>\r\n       </defs>\r\n       <use xlink:href=\"#DejaVuSans-30\"/>\r\n       <use x=\"63.623047\" xlink:href=\"#DejaVuSans-2e\"/>\r\n       <use x=\"95.410156\" xlink:href=\"#DejaVuSans-38\"/>\r\n      </g>\r\n     </g>\r\n    </g>\r\n    <g id=\"xtick_6\">\r\n     <g id=\"line2d_11\">\r\n      <path clip-path=\"url(#p7772bba9ea)\" d=\"M 362.506799 224.64 \r\nL 362.506799 7.2 \r\n\" style=\"fill:none;stroke:#b0b0b0;stroke-linecap:square;stroke-width:0.8;\"/>\r\n     </g>\r\n     <g id=\"line2d_12\">\r\n      <g>\r\n       <use style=\"stroke:#000000;stroke-width:0.8;\" x=\"362.506799\" xlink:href=\"#mfe31c91df4\" y=\"224.64\"/>\r\n      </g>\r\n     </g>\r\n     <g id=\"text_6\">\r\n      <!-- 1.0 -->\r\n      <g transform=\"translate(354.555236 239.238437)scale(0.1 -0.1)\">\r\n       <defs>\r\n        <path d=\"M 794 531 \r\nL 1825 531 \r\nL 1825 4091 \r\nL 703 3866 \r\nL 703 4441 \r\nL 1819 4666 \r\nL 2450 4666 \r\nL 2450 531 \r\nL 3481 531 \r\nL 3481 0 \r\nL 794 0 \r\nL 794 531 \r\nz\r\n\" id=\"DejaVuSans-31\" transform=\"scale(0.015625)\"/>\r\n       </defs>\r\n       <use xlink:href=\"#DejaVuSans-31\"/>\r\n       <use x=\"63.623047\" xlink:href=\"#DejaVuSans-2e\"/>\r\n       <use x=\"95.410156\" xlink:href=\"#DejaVuSans-30\"/>\r\n      </g>\r\n     </g>\r\n    </g>\r\n    <g id=\"text_7\">\r\n     <!-- Time [s] -->\r\n     <g transform=\"translate(189.691406 252.916562)scale(0.1 -0.1)\">\r\n      <defs>\r\n       <path d=\"M -19 4666 \r\nL 3928 4666 \r\nL 3928 4134 \r\nL 2272 4134 \r\nL 2272 0 \r\nL 1638 0 \r\nL 1638 4134 \r\nL -19 4134 \r\nL -19 4666 \r\nz\r\n\" id=\"DejaVuSans-54\" transform=\"scale(0.015625)\"/>\r\n       <path d=\"M 603 3500 \r\nL 1178 3500 \r\nL 1178 0 \r\nL 603 0 \r\nL 603 3500 \r\nz\r\nM 603 4863 \r\nL 1178 4863 \r\nL 1178 4134 \r\nL 603 4134 \r\nL 603 4863 \r\nz\r\n\" id=\"DejaVuSans-69\" transform=\"scale(0.015625)\"/>\r\n       <path d=\"M 3328 2828 \r\nQ 3544 3216 3844 3400 \r\nQ 4144 3584 4550 3584 \r\nQ 5097 3584 5394 3201 \r\nQ 5691 2819 5691 2113 \r\nL 5691 0 \r\nL 5113 0 \r\nL 5113 2094 \r\nQ 5113 2597 4934 2840 \r\nQ 4756 3084 4391 3084 \r\nQ 3944 3084 3684 2787 \r\nQ 3425 2491 3425 1978 \r\nL 3425 0 \r\nL 2847 0 \r\nL 2847 2094 \r\nQ 2847 2600 2669 2842 \r\nQ 2491 3084 2119 3084 \r\nQ 1678 3084 1418 2786 \r\nQ 1159 2488 1159 1978 \r\nL 1159 0 \r\nL 581 0 \r\nL 581 3500 \r\nL 1159 3500 \r\nL 1159 2956 \r\nQ 1356 3278 1631 3431 \r\nQ 1906 3584 2284 3584 \r\nQ 2666 3584 2933 3390 \r\nQ 3200 3197 3328 2828 \r\nz\r\n\" id=\"DejaVuSans-6d\" transform=\"scale(0.015625)\"/>\r\n       <path d=\"M 3597 1894 \r\nL 3597 1613 \r\nL 953 1613 \r\nQ 991 1019 1311 708 \r\nQ 1631 397 2203 397 \r\nQ 2534 397 2845 478 \r\nQ 3156 559 3463 722 \r\nL 3463 178 \r\nQ 3153 47 2828 -22 \r\nQ 2503 -91 2169 -91 \r\nQ 1331 -91 842 396 \r\nQ 353 884 353 1716 \r\nQ 353 2575 817 3079 \r\nQ 1281 3584 2069 3584 \r\nQ 2775 3584 3186 3129 \r\nQ 3597 2675 3597 1894 \r\nz\r\nM 3022 2063 \r\nQ 3016 2534 2758 2815 \r\nQ 2500 3097 2075 3097 \r\nQ 1594 3097 1305 2825 \r\nQ 1016 2553 972 2059 \r\nL 3022 2063 \r\nz\r\n\" id=\"DejaVuSans-65\" transform=\"scale(0.015625)\"/>\r\n       <path id=\"DejaVuSans-20\" transform=\"scale(0.015625)\"/>\r\n       <path d=\"M 550 4863 \r\nL 1875 4863 \r\nL 1875 4416 \r\nL 1125 4416 \r\nL 1125 -397 \r\nL 1875 -397 \r\nL 1875 -844 \r\nL 550 -844 \r\nL 550 4863 \r\nz\r\n\" id=\"DejaVuSans-5b\" transform=\"scale(0.015625)\"/>\r\n       <path d=\"M 2834 3397 \r\nL 2834 2853 \r\nQ 2591 2978 2328 3040 \r\nQ 2066 3103 1784 3103 \r\nQ 1356 3103 1142 2972 \r\nQ 928 2841 928 2578 \r\nQ 928 2378 1081 2264 \r\nQ 1234 2150 1697 2047 \r\nL 1894 2003 \r\nQ 2506 1872 2764 1633 \r\nQ 3022 1394 3022 966 \r\nQ 3022 478 2636 193 \r\nQ 2250 -91 1575 -91 \r\nQ 1294 -91 989 -36 \r\nQ 684 19 347 128 \r\nL 347 722 \r\nQ 666 556 975 473 \r\nQ 1284 391 1588 391 \r\nQ 1994 391 2212 530 \r\nQ 2431 669 2431 922 \r\nQ 2431 1156 2273 1281 \r\nQ 2116 1406 1581 1522 \r\nL 1381 1569 \r\nQ 847 1681 609 1914 \r\nQ 372 2147 372 2553 \r\nQ 372 3047 722 3315 \r\nQ 1072 3584 1716 3584 \r\nQ 2034 3584 2315 3537 \r\nQ 2597 3491 2834 3397 \r\nz\r\n\" id=\"DejaVuSans-73\" transform=\"scale(0.015625)\"/>\r\n       <path d=\"M 1947 4863 \r\nL 1947 -844 \r\nL 622 -844 \r\nL 622 -397 \r\nL 1369 -397 \r\nL 1369 4416 \r\nL 622 4416 \r\nL 622 4863 \r\nL 1947 4863 \r\nz\r\n\" id=\"DejaVuSans-5d\" transform=\"scale(0.015625)\"/>\r\n      </defs>\r\n      <use xlink:href=\"#DejaVuSans-54\"/>\r\n      <use x=\"57.958984\" xlink:href=\"#DejaVuSans-69\"/>\r\n      <use x=\"85.742188\" xlink:href=\"#DejaVuSans-6d\"/>\r\n      <use x=\"183.154297\" xlink:href=\"#DejaVuSans-65\"/>\r\n      <use x=\"244.677734\" xlink:href=\"#DejaVuSans-20\"/>\r\n      <use x=\"276.464844\" xlink:href=\"#DejaVuSans-5b\"/>\r\n      <use x=\"315.478516\" xlink:href=\"#DejaVuSans-73\"/>\r\n      <use x=\"367.578125\" xlink:href=\"#DejaVuSans-5d\"/>\r\n     </g>\r\n    </g>\r\n   </g>\r\n   <g id=\"matplotlib.axis_2\">\r\n    <g id=\"ytick_1\">\r\n     <g id=\"line2d_13\">\r\n      <path clip-path=\"url(#p7772bba9ea)\" d=\"M 42.620313 206.230943 \r\nL 377.420313 206.230943 \r\n\" style=\"fill:none;stroke:#b0b0b0;stroke-linecap:square;stroke-width:0.8;\"/>\r\n     </g>\r\n     <g id=\"line2d_14\">\r\n      <defs>\r\n       <path d=\"M 0 0 \r\nL -3.5 0 \r\n\" id=\"m17f3c047d3\" style=\"stroke:#000000;stroke-width:0.8;\"/>\r\n      </defs>\r\n      <g>\r\n       <use style=\"stroke:#000000;stroke-width:0.8;\" x=\"42.620313\" xlink:href=\"#m17f3c047d3\" y=\"206.230943\"/>\r\n      </g>\r\n     </g>\r\n     <g id=\"text_8\">\r\n      <!-- −4 -->\r\n      <g transform=\"translate(20.878125 210.030161)scale(0.1 -0.1)\">\r\n       <defs>\r\n        <path d=\"M 678 2272 \r\nL 4684 2272 \r\nL 4684 1741 \r\nL 678 1741 \r\nL 678 2272 \r\nz\r\n\" id=\"DejaVuSans-2212\" transform=\"scale(0.015625)\"/>\r\n       </defs>\r\n       <use xlink:href=\"#DejaVuSans-2212\"/>\r\n       <use x=\"83.789062\" xlink:href=\"#DejaVuSans-34\"/>\r\n      </g>\r\n     </g>\r\n    </g>\r\n    <g id=\"ytick_2\">\r\n     <g id=\"line2d_15\">\r\n      <path clip-path=\"url(#p7772bba9ea)\" d=\"M 42.620313 181.177448 \r\nL 377.420313 181.177448 \r\n\" style=\"fill:none;stroke:#b0b0b0;stroke-linecap:square;stroke-width:0.8;\"/>\r\n     </g>\r\n     <g id=\"line2d_16\">\r\n      <g>\r\n       <use style=\"stroke:#000000;stroke-width:0.8;\" x=\"42.620313\" xlink:href=\"#m17f3c047d3\" y=\"181.177448\"/>\r\n      </g>\r\n     </g>\r\n     <g id=\"text_9\">\r\n      <!-- −3 -->\r\n      <g transform=\"translate(20.878125 184.976667)scale(0.1 -0.1)\">\r\n       <defs>\r\n        <path d=\"M 2597 2516 \r\nQ 3050 2419 3304 2112 \r\nQ 3559 1806 3559 1356 \r\nQ 3559 666 3084 287 \r\nQ 2609 -91 1734 -91 \r\nQ 1441 -91 1130 -33 \r\nQ 819 25 488 141 \r\nL 488 750 \r\nQ 750 597 1062 519 \r\nQ 1375 441 1716 441 \r\nQ 2309 441 2620 675 \r\nQ 2931 909 2931 1356 \r\nQ 2931 1769 2642 2001 \r\nQ 2353 2234 1838 2234 \r\nL 1294 2234 \r\nL 1294 2753 \r\nL 1863 2753 \r\nQ 2328 2753 2575 2939 \r\nQ 2822 3125 2822 3475 \r\nQ 2822 3834 2567 4026 \r\nQ 2313 4219 1838 4219 \r\nQ 1578 4219 1281 4162 \r\nQ 984 4106 628 3988 \r\nL 628 4550 \r\nQ 988 4650 1302 4700 \r\nQ 1616 4750 1894 4750 \r\nQ 2613 4750 3031 4423 \r\nQ 3450 4097 3450 3541 \r\nQ 3450 3153 3228 2886 \r\nQ 3006 2619 2597 2516 \r\nz\r\n\" id=\"DejaVuSans-33\" transform=\"scale(0.015625)\"/>\r\n       </defs>\r\n       <use xlink:href=\"#DejaVuSans-2212\"/>\r\n       <use x=\"83.789062\" xlink:href=\"#DejaVuSans-33\"/>\r\n      </g>\r\n     </g>\r\n    </g>\r\n    <g id=\"ytick_3\">\r\n     <g id=\"line2d_17\">\r\n      <path clip-path=\"url(#p7772bba9ea)\" d=\"M 42.620313 156.123954 \r\nL 377.420313 156.123954 \r\n\" style=\"fill:none;stroke:#b0b0b0;stroke-linecap:square;stroke-width:0.8;\"/>\r\n     </g>\r\n     <g id=\"line2d_18\">\r\n      <g>\r\n       <use style=\"stroke:#000000;stroke-width:0.8;\" x=\"42.620313\" xlink:href=\"#m17f3c047d3\" y=\"156.123954\"/>\r\n      </g>\r\n     </g>\r\n     <g id=\"text_10\">\r\n      <!-- −2 -->\r\n      <g transform=\"translate(20.878125 159.923172)scale(0.1 -0.1)\">\r\n       <use xlink:href=\"#DejaVuSans-2212\"/>\r\n       <use x=\"83.789062\" xlink:href=\"#DejaVuSans-32\"/>\r\n      </g>\r\n     </g>\r\n    </g>\r\n    <g id=\"ytick_4\">\r\n     <g id=\"line2d_19\">\r\n      <path clip-path=\"url(#p7772bba9ea)\" d=\"M 42.620313 131.070459 \r\nL 377.420313 131.070459 \r\n\" style=\"fill:none;stroke:#b0b0b0;stroke-linecap:square;stroke-width:0.8;\"/>\r\n     </g>\r\n     <g id=\"line2d_20\">\r\n      <g>\r\n       <use style=\"stroke:#000000;stroke-width:0.8;\" x=\"42.620313\" xlink:href=\"#m17f3c047d3\" y=\"131.070459\"/>\r\n      </g>\r\n     </g>\r\n     <g id=\"text_11\">\r\n      <!-- −1 -->\r\n      <g transform=\"translate(20.878125 134.869678)scale(0.1 -0.1)\">\r\n       <use xlink:href=\"#DejaVuSans-2212\"/>\r\n       <use x=\"83.789062\" xlink:href=\"#DejaVuSans-31\"/>\r\n      </g>\r\n     </g>\r\n    </g>\r\n    <g id=\"ytick_5\">\r\n     <g id=\"line2d_21\">\r\n      <path clip-path=\"url(#p7772bba9ea)\" d=\"M 42.620313 106.016965 \r\nL 377.420313 106.016965 \r\n\" style=\"fill:none;stroke:#b0b0b0;stroke-linecap:square;stroke-width:0.8;\"/>\r\n     </g>\r\n     <g id=\"line2d_22\">\r\n      <g>\r\n       <use style=\"stroke:#000000;stroke-width:0.8;\" x=\"42.620313\" xlink:href=\"#m17f3c047d3\" y=\"106.016965\"/>\r\n      </g>\r\n     </g>\r\n     <g id=\"text_12\">\r\n      <!-- 0 -->\r\n      <g transform=\"translate(29.257813 109.816183)scale(0.1 -0.1)\">\r\n       <use xlink:href=\"#DejaVuSans-30\"/>\r\n      </g>\r\n     </g>\r\n    </g>\r\n    <g id=\"ytick_6\">\r\n     <g id=\"line2d_23\">\r\n      <path clip-path=\"url(#p7772bba9ea)\" d=\"M 42.620313 80.96347 \r\nL 377.420313 80.96347 \r\n\" style=\"fill:none;stroke:#b0b0b0;stroke-linecap:square;stroke-width:0.8;\"/>\r\n     </g>\r\n     <g id=\"line2d_24\">\r\n      <g>\r\n       <use style=\"stroke:#000000;stroke-width:0.8;\" x=\"42.620313\" xlink:href=\"#m17f3c047d3\" y=\"80.96347\"/>\r\n      </g>\r\n     </g>\r\n     <g id=\"text_13\">\r\n      <!-- 1 -->\r\n      <g transform=\"translate(29.257813 84.762689)scale(0.1 -0.1)\">\r\n       <use xlink:href=\"#DejaVuSans-31\"/>\r\n      </g>\r\n     </g>\r\n    </g>\r\n    <g id=\"ytick_7\">\r\n     <g id=\"line2d_25\">\r\n      <path clip-path=\"url(#p7772bba9ea)\" d=\"M 42.620313 55.909976 \r\nL 377.420313 55.909976 \r\n\" style=\"fill:none;stroke:#b0b0b0;stroke-linecap:square;stroke-width:0.8;\"/>\r\n     </g>\r\n     <g id=\"line2d_26\">\r\n      <g>\r\n       <use style=\"stroke:#000000;stroke-width:0.8;\" x=\"42.620313\" xlink:href=\"#m17f3c047d3\" y=\"55.909976\"/>\r\n      </g>\r\n     </g>\r\n     <g id=\"text_14\">\r\n      <!-- 2 -->\r\n      <g transform=\"translate(29.257813 59.709194)scale(0.1 -0.1)\">\r\n       <use xlink:href=\"#DejaVuSans-32\"/>\r\n      </g>\r\n     </g>\r\n    </g>\r\n    <g id=\"ytick_8\">\r\n     <g id=\"line2d_27\">\r\n      <path clip-path=\"url(#p7772bba9ea)\" d=\"M 42.620313 30.856481 \r\nL 377.420313 30.856481 \r\n\" style=\"fill:none;stroke:#b0b0b0;stroke-linecap:square;stroke-width:0.8;\"/>\r\n     </g>\r\n     <g id=\"line2d_28\">\r\n      <g>\r\n       <use style=\"stroke:#000000;stroke-width:0.8;\" x=\"42.620313\" xlink:href=\"#m17f3c047d3\" y=\"30.856481\"/>\r\n      </g>\r\n     </g>\r\n     <g id=\"text_15\">\r\n      <!-- 3 -->\r\n      <g transform=\"translate(29.257813 34.6557)scale(0.1 -0.1)\">\r\n       <use xlink:href=\"#DejaVuSans-33\"/>\r\n      </g>\r\n     </g>\r\n    </g>\r\n    <g id=\"text_16\">\r\n     <!-- Acceleration [m/s2] -->\r\n     <g transform=\"translate(14.798438 164.821562)rotate(-90)scale(0.1 -0.1)\">\r\n      <defs>\r\n       <path d=\"M 2188 4044 \r\nL 1331 1722 \r\nL 3047 1722 \r\nL 2188 4044 \r\nz\r\nM 1831 4666 \r\nL 2547 4666 \r\nL 4325 0 \r\nL 3669 0 \r\nL 3244 1197 \r\nL 1141 1197 \r\nL 716 0 \r\nL 50 0 \r\nL 1831 4666 \r\nz\r\n\" id=\"DejaVuSans-41\" transform=\"scale(0.015625)\"/>\r\n       <path d=\"M 3122 3366 \r\nL 3122 2828 \r\nQ 2878 2963 2633 3030 \r\nQ 2388 3097 2138 3097 \r\nQ 1578 3097 1268 2742 \r\nQ 959 2388 959 1747 \r\nQ 959 1106 1268 751 \r\nQ 1578 397 2138 397 \r\nQ 2388 397 2633 464 \r\nQ 2878 531 3122 666 \r\nL 3122 134 \r\nQ 2881 22 2623 -34 \r\nQ 2366 -91 2075 -91 \r\nQ 1284 -91 818 406 \r\nQ 353 903 353 1747 \r\nQ 353 2603 823 3093 \r\nQ 1294 3584 2113 3584 \r\nQ 2378 3584 2631 3529 \r\nQ 2884 3475 3122 3366 \r\nz\r\n\" id=\"DejaVuSans-63\" transform=\"scale(0.015625)\"/>\r\n       <path d=\"M 603 4863 \r\nL 1178 4863 \r\nL 1178 0 \r\nL 603 0 \r\nL 603 4863 \r\nz\r\n\" id=\"DejaVuSans-6c\" transform=\"scale(0.015625)\"/>\r\n       <path d=\"M 2631 2963 \r\nQ 2534 3019 2420 3045 \r\nQ 2306 3072 2169 3072 \r\nQ 1681 3072 1420 2755 \r\nQ 1159 2438 1159 1844 \r\nL 1159 0 \r\nL 581 0 \r\nL 581 3500 \r\nL 1159 3500 \r\nL 1159 2956 \r\nQ 1341 3275 1631 3429 \r\nQ 1922 3584 2338 3584 \r\nQ 2397 3584 2469 3576 \r\nQ 2541 3569 2628 3553 \r\nL 2631 2963 \r\nz\r\n\" id=\"DejaVuSans-72\" transform=\"scale(0.015625)\"/>\r\n       <path d=\"M 2194 1759 \r\nQ 1497 1759 1228 1600 \r\nQ 959 1441 959 1056 \r\nQ 959 750 1161 570 \r\nQ 1363 391 1709 391 \r\nQ 2188 391 2477 730 \r\nQ 2766 1069 2766 1631 \r\nL 2766 1759 \r\nL 2194 1759 \r\nz\r\nM 3341 1997 \r\nL 3341 0 \r\nL 2766 0 \r\nL 2766 531 \r\nQ 2569 213 2275 61 \r\nQ 1981 -91 1556 -91 \r\nQ 1019 -91 701 211 \r\nQ 384 513 384 1019 \r\nQ 384 1609 779 1909 \r\nQ 1175 2209 1959 2209 \r\nL 2766 2209 \r\nL 2766 2266 \r\nQ 2766 2663 2505 2880 \r\nQ 2244 3097 1772 3097 \r\nQ 1472 3097 1187 3025 \r\nQ 903 2953 641 2809 \r\nL 641 3341 \r\nQ 956 3463 1253 3523 \r\nQ 1550 3584 1831 3584 \r\nQ 2591 3584 2966 3190 \r\nQ 3341 2797 3341 1997 \r\nz\r\n\" id=\"DejaVuSans-61\" transform=\"scale(0.015625)\"/>\r\n       <path d=\"M 1172 4494 \r\nL 1172 3500 \r\nL 2356 3500 \r\nL 2356 3053 \r\nL 1172 3053 \r\nL 1172 1153 \r\nQ 1172 725 1289 603 \r\nQ 1406 481 1766 481 \r\nL 2356 481 \r\nL 2356 0 \r\nL 1766 0 \r\nQ 1100 0 847 248 \r\nQ 594 497 594 1153 \r\nL 594 3053 \r\nL 172 3053 \r\nL 172 3500 \r\nL 594 3500 \r\nL 594 4494 \r\nL 1172 4494 \r\nz\r\n\" id=\"DejaVuSans-74\" transform=\"scale(0.015625)\"/>\r\n       <path d=\"M 1959 3097 \r\nQ 1497 3097 1228 2736 \r\nQ 959 2375 959 1747 \r\nQ 959 1119 1226 758 \r\nQ 1494 397 1959 397 \r\nQ 2419 397 2687 759 \r\nQ 2956 1122 2956 1747 \r\nQ 2956 2369 2687 2733 \r\nQ 2419 3097 1959 3097 \r\nz\r\nM 1959 3584 \r\nQ 2709 3584 3137 3096 \r\nQ 3566 2609 3566 1747 \r\nQ 3566 888 3137 398 \r\nQ 2709 -91 1959 -91 \r\nQ 1206 -91 779 398 \r\nQ 353 888 353 1747 \r\nQ 353 2609 779 3096 \r\nQ 1206 3584 1959 3584 \r\nz\r\n\" id=\"DejaVuSans-6f\" transform=\"scale(0.015625)\"/>\r\n       <path d=\"M 3513 2113 \r\nL 3513 0 \r\nL 2938 0 \r\nL 2938 2094 \r\nQ 2938 2591 2744 2837 \r\nQ 2550 3084 2163 3084 \r\nQ 1697 3084 1428 2787 \r\nQ 1159 2491 1159 1978 \r\nL 1159 0 \r\nL 581 0 \r\nL 581 3500 \r\nL 1159 3500 \r\nL 1159 2956 \r\nQ 1366 3272 1645 3428 \r\nQ 1925 3584 2291 3584 \r\nQ 2894 3584 3203 3211 \r\nQ 3513 2838 3513 2113 \r\nz\r\n\" id=\"DejaVuSans-6e\" transform=\"scale(0.015625)\"/>\r\n       <path d=\"M 1625 4666 \r\nL 2156 4666 \r\nL 531 -594 \r\nL 0 -594 \r\nL 1625 4666 \r\nz\r\n\" id=\"DejaVuSans-2f\" transform=\"scale(0.015625)\"/>\r\n      </defs>\r\n      <use xlink:href=\"#DejaVuSans-41\"/>\r\n      <use x=\"66.658203\" xlink:href=\"#DejaVuSans-63\"/>\r\n      <use x=\"121.638672\" xlink:href=\"#DejaVuSans-63\"/>\r\n      <use x=\"176.619141\" xlink:href=\"#DejaVuSans-65\"/>\r\n      <use x=\"238.142578\" xlink:href=\"#DejaVuSans-6c\"/>\r\n      <use x=\"265.925781\" xlink:href=\"#DejaVuSans-65\"/>\r\n      <use x=\"327.449219\" xlink:href=\"#DejaVuSans-72\"/>\r\n      <use x=\"368.5625\" xlink:href=\"#DejaVuSans-61\"/>\r\n      <use x=\"429.841797\" xlink:href=\"#DejaVuSans-74\"/>\r\n      <use x=\"469.050781\" xlink:href=\"#DejaVuSans-69\"/>\r\n      <use x=\"496.833984\" xlink:href=\"#DejaVuSans-6f\"/>\r\n      <use x=\"558.015625\" xlink:href=\"#DejaVuSans-6e\"/>\r\n      <use x=\"621.394531\" xlink:href=\"#DejaVuSans-20\"/>\r\n      <use x=\"653.181641\" xlink:href=\"#DejaVuSans-5b\"/>\r\n      <use x=\"692.195312\" xlink:href=\"#DejaVuSans-6d\"/>\r\n      <use x=\"789.607422\" xlink:href=\"#DejaVuSans-2f\"/>\r\n      <use x=\"823.298828\" xlink:href=\"#DejaVuSans-73\"/>\r\n      <use x=\"875.398438\" xlink:href=\"#DejaVuSans-32\"/>\r\n      <use x=\"939.021484\" xlink:href=\"#DejaVuSans-5d\"/>\r\n     </g>\r\n    </g>\r\n   </g>\r\n   <g id=\"line2d_29\">\r\n    <path clip-path=\"url(#p7772bba9ea)\" d=\"M 57.838494 211.512767 \r\nL 58.143163 213.330538 \r\nL 58.447831 214.422008 \r\nL 58.752499 214.756364 \r\nL 59.057168 214.351924 \r\nL 59.361836 213.185296 \r\nL 59.666504 211.267848 \r\nL 60.275841 205.262788 \r\nL 60.885177 196.513833 \r\nL 61.799182 178.924982 \r\nL 63.017855 148.976625 \r\nL 66.673875 51.741814 \r\nL 67.58788 34.462799 \r\nL 68.197217 25.962895 \r\nL 68.806553 20.225677 \r\nL 69.111222 18.439284 \r\nL 69.41589 17.396948 \r\nL 69.720558 17.083636 \r\nL 70.025227 17.492679 \r\nL 70.329895 18.713608 \r\nL 70.634563 20.653885 \r\nL 71.2439 26.6643 \r\nL 71.853236 35.417483 \r\nL 72.767241 52.950905 \r\nL 73.985914 82.675201 \r\nL 77.641934 178.771662 \r\nL 78.555939 195.670663 \r\nL 79.165276 203.91522 \r\nL 79.774612 209.500057 \r\nL 80.079281 211.217399 \r\nL 80.383949 212.211353 \r\nL 80.688617 212.438234 \r\nL 80.993285 211.898511 \r\nL 81.297954 210.695714 \r\nL 81.602622 208.761356 \r\nL 82.211959 202.738446 \r\nL 82.821295 194.006025 \r\nL 83.7353 176.607416 \r\nL 84.953973 147.150305 \r\nL 88.609993 52.12737 \r\nL 89.523998 35.33124 \r\nL 90.133335 27.222436 \r\nL 90.742671 21.766587 \r\nL 91.04734 20.118108 \r\nL 91.352008 19.180616 \r\nL 91.656676 18.954769 \r\nL 91.961344 19.469314 \r\nL 92.266013 20.721996 \r\nL 92.875349 25.397619 \r\nL 93.484686 32.834894 \r\nL 94.094023 42.734694 \r\nL 95.008027 61.584118 \r\nL 96.226701 92.142941 \r\nL 99.273384 171.411142 \r\nL 100.187389 189.366008 \r\nL 100.796725 198.522409 \r\nL 101.406062 205.191389 \r\nL 102.015398 209.079928 \r\nL 102.320067 209.946773 \r\nL 102.624735 210.104697 \r\nL 102.929403 209.52965 \r\nL 103.234072 208.222291 \r\nL 103.843408 203.565551 \r\nL 104.452745 196.176565 \r\nL 105.062082 186.299406 \r\nL 105.976086 167.581319 \r\nL 107.19476 137.29729 \r\nL 110.241443 58.908804 \r\nL 111.155448 41.12896 \r\nL 111.764784 32.061244 \r\nL 112.374121 25.520689 \r\nL 112.983457 21.731733 \r\nL 113.288126 20.910265 \r\nL 113.592794 20.817446 \r\nL 113.897462 21.403766 \r\nL 114.202131 22.726814 \r\nL 114.811467 27.450914 \r\nL 115.420804 34.857938 \r\nL 116.030141 44.707758 \r\nL 116.944145 63.383288 \r\nL 118.162819 93.379276 \r\nL 121.209502 170.8143 \r\nL 122.123507 188.204641 \r\nL 122.732843 197.04914 \r\nL 123.34218 203.393535 \r\nL 123.951516 207.06177 \r\nL 124.256185 207.824521 \r\nL 124.560853 207.863697 \r\nL 124.865521 207.176103 \r\nL 125.17019 205.842344 \r\nL 125.779526 201.083673 \r\nL 126.388863 193.659363 \r\nL 127.302868 178.204882 \r\nL 128.216873 158.401431 \r\nL 129.740214 119.60134 \r\nL 131.872892 65.681783 \r\nL 132.786897 47.041201 \r\nL 133.700902 33.15046 \r\nL 134.310239 26.899918 \r\nL 134.919575 23.384064 \r\nL 135.224244 22.646866 \r\nL 135.528912 22.635029 \r\nL 135.83358 23.326757 \r\nL 136.138249 24.72252 \r\nL 136.747585 29.498008 \r\nL 137.356922 36.91546 \r\nL 138.270927 52.366464 \r\nL 139.184932 72.023923 \r\nL 140.708273 110.470117 \r\nL 142.840951 163.658583 \r\nL 143.754956 181.909099 \r\nL 144.668961 195.538011 \r\nL 145.278298 201.567967 \r\nL 145.887634 204.946752 \r\nL 146.192303 205.6149 \r\nL 146.496971 205.597238 \r\nL 146.801639 204.84576 \r\nL 147.106308 203.442857 \r\nL 147.715644 198.601606 \r\nL 148.324981 191.222203 \r\nL 149.238986 175.864487 \r\nL 150.152991 156.29609 \r\nL 151.981 110.366588 \r\nL 153.80901 65.682816 \r\nL 154.723015 47.612302 \r\nL 155.63702 34.202003 \r\nL 156.246357 28.273979 \r\nL 156.855693 24.953252 \r\nL 157.160362 24.328414 \r\nL 157.46503 24.427998 \r\nL 157.769698 25.177033 \r\nL 158.074367 26.632358 \r\nL 158.683703 31.499632 \r\nL 159.29304 38.877063 \r\nL 160.207045 54.221626 \r\nL 161.12105 73.619698 \r\nL 162.949059 119.137433 \r\nL 164.777069 163.215907 \r\nL 165.691074 180.938632 \r\nL 166.605079 194.073009 \r\nL 167.214416 199.839915 \r\nL 167.823752 202.923051 \r\nL 168.128421 203.493306 \r\nL 168.433089 203.375309 \r\nL 168.737757 202.563893 \r\nL 169.042426 201.100489 \r\nL 169.651762 196.20334 \r\nL 170.261099 188.834177 \r\nL 171.175104 173.604604 \r\nL 172.089109 154.338433 \r\nL 173.61245 116.98587 \r\nL 175.745128 65.666845 \r\nL 176.659133 48.163955 \r\nL 177.573138 35.250634 \r\nL 178.182475 29.627842 \r\nL 178.791811 26.583318 \r\nL 179.09648 26.019921 \r\nL 179.401148 26.170987 \r\nL 179.705816 27.016318 \r\nL 180.010484 28.521716 \r\nL 180.619821 33.467905 \r\nL 181.229158 40.84853 \r\nL 182.143163 56.025492 \r\nL 183.361836 82.206502 \r\nL 187.322524 174.712328 \r\nL 188.236529 188.923426 \r\nL 188.845865 195.627542 \r\nL 189.455202 199.82742 \r\nL 189.75987 200.929318 \r\nL 190.064539 201.365982 \r\nL 190.369207 201.170949 \r\nL 190.673875 200.320639 \r\nL 190.978543 198.799551 \r\nL 191.58788 193.863321 \r\nL 192.197217 186.482226 \r\nL 193.111222 171.376757 \r\nL 194.025227 152.400129 \r\nL 195.853236 108.217092 \r\nL 197.376578 72.106877 \r\nL 198.290583 53.923533 \r\nL 199.204588 39.87205 \r\nL 199.813924 33.348499 \r\nL 200.423261 29.225188 \r\nL 200.727929 28.131462 \r\nL 201.032598 27.705321 \r\nL 201.337266 27.942348 \r\nL 201.641934 28.843013 \r\nL 201.946602 30.408444 \r\nL 202.555939 35.385165 \r\nL 203.165276 42.777627 \r\nL 204.079281 57.805684 \r\nL 205.297954 83.618517 \r\nL 208.953973 168.322087 \r\nL 209.867978 183.540386 \r\nL 210.477315 191.087765 \r\nL 211.086652 196.271733 \r\nL 211.39132 197.926507 \r\nL 211.695988 198.962455 \r\nL 212.000656 199.302071 \r\nL 212.305325 199.03996 \r\nL 212.609993 198.097019 \r\nL 212.914661 196.510451 \r\nL 213.523998 191.528374 \r\nL 214.133335 184.154232 \r\nL 215.04734 169.21176 \r\nL 216.266013 143.664326 \r\nL 219.922032 59.749437 \r\nL 220.836037 44.738103 \r\nL 221.445374 37.308908 \r\nL 222.054711 32.250171 \r\nL 222.359379 30.648101 \r\nL 222.664047 29.699148 \r\nL 222.968715 29.368174 \r\nL 223.273384 29.688156 \r\nL 223.578052 30.61475 \r\nL 223.88272 32.20874 \r\nL 224.492057 37.284857 \r\nL 225.101394 44.640116 \r\nL 226.015398 59.566054 \r\nL 227.234072 84.953591 \r\nL 230.890091 167.6887 \r\nL 231.804096 182.425805 \r\nL 232.413433 189.639674 \r\nL 233.02277 194.544902 \r\nL 233.327438 196.08788 \r\nL 233.632106 197.003764 \r\nL 233.936774 197.275457 \r\nL 234.241443 196.927949 \r\nL 234.546111 195.953536 \r\nL 235.155448 192.110749 \r\nL 235.764784 185.878714 \r\nL 236.374121 177.460263 \r\nL 237.288126 161.303814 \r\nL 238.506799 134.941864 \r\nL 241.553482 65.729038 \r\nL 242.467487 49.85161 \r\nL 243.076824 41.711522 \r\nL 243.68616 35.709844 \r\nL 244.295497 32.120431 \r\nL 244.600165 31.254432 \r\nL 244.904833 31.034691 \r\nL 245.209502 31.424475 \r\nL 245.51417 32.452062 \r\nL 246.123507 36.358545 \r\nL 246.732843 42.58701 \r\nL 247.34218 50.954636 \r\nL 248.256185 67.056502 \r\nL 249.474858 93.221916 \r\nL 252.521541 161.497438 \r\nL 253.435546 177.030175 \r\nL 254.044883 185.032444 \r\nL 254.654219 190.857784 \r\nL 255.263556 194.294723 \r\nL 255.568224 195.058978 \r\nL 255.872892 195.30089 \r\nL 256.177561 194.874091 \r\nL 256.482229 193.820481 \r\nL 256.786897 192.177169 \r\nL 257.396234 187.035759 \r\nL 258.00557 179.657577 \r\nL 258.919575 164.996287 \r\nL 260.138249 140.140769 \r\nL 263.794268 60.285308 \r\nL 264.708273 46.250171 \r\nL 265.31761 39.468738 \r\nL 265.926946 34.949817 \r\nL 266.231615 33.567395 \r\nL 266.536283 32.773547 \r\nL 266.840951 32.62342 \r\nL 267.14562 33.120491 \r\nL 267.450288 34.2005 \r\nL 268.059625 38.161848 \r\nL 268.668961 44.427985 \r\nL 269.278298 52.760194 \r\nL 270.192303 68.731568 \r\nL 271.410976 94.424995 \r\nL 274.457659 161.076276 \r\nL 275.371664 176.104333 \r\nL 275.981 183.829741 \r\nL 276.590337 189.36676 \r\nL 277.199674 192.557183 \r\nL 277.504342 193.261312 \r\nL 277.80901 193.36174 \r\nL 278.113679 192.847759 \r\nL 278.418347 191.721622 \r\nL 279.027684 187.716965 \r\nL 279.63702 181.438709 \r\nL 280.551025 168.232556 \r\nL 281.46503 151.281602 \r\nL 283.29304 111.060195 \r\nL 285.12105 71.626623 \r\nL 286.035055 55.505968 \r\nL 286.949059 43.441265 \r\nL 287.558396 38.03596 \r\nL 288.167733 34.903877 \r\nL 288.472401 34.222671 \r\nL 288.777069 34.180301 \r\nL 289.081738 34.714669 \r\nL 289.386406 35.83639 \r\nL 289.995742 39.906059 \r\nL 290.605079 46.181872 \r\nL 291.519084 59.379664 \r\nL 292.433089 76.221828 \r\nL 293.95643 109.184365 \r\nL 296.089109 154.98347 \r\nL 297.003113 170.753516 \r\nL 297.917118 182.59876 \r\nL 298.526455 187.816173 \r\nL 299.135792 190.80245 \r\nL 299.44046 191.384824 \r\nL 299.745128 191.365941 \r\nL 300.049797 190.787982 \r\nL 300.354465 189.621448 \r\nL 300.963801 185.531206 \r\nL 301.573138 179.231248 \r\nL 302.487143 166.148447 \r\nL 303.401148 149.365187 \r\nL 304.924489 116.777403 \r\nL 307.057168 71.475839 \r\nL 307.971172 55.950523 \r\nL 308.885177 44.288756 \r\nL 309.494514 39.189623 \r\nL 310.103851 36.306217 \r\nL 310.408519 35.691619 \r\nL 310.713187 35.720836 \r\nL 311.017855 36.344171 \r\nL 311.322524 37.53607 \r\nL 311.93186 41.680332 \r\nL 312.541197 47.980384 \r\nL 313.455202 61.070137 \r\nL 314.369207 77.673677 \r\nL 315.892548 110.027817 \r\nL 317.720558 148.92439 \r\nL 318.939231 169.948583 \r\nL 319.853236 181.311035 \r\nL 320.462573 186.286818 \r\nL 320.767241 187.968836 \r\nL 321.07191 189.020285 \r\nL 321.376578 189.525529 \r\nL 321.681246 189.446426 \r\nL 321.985914 188.777621 \r\nL 322.290583 187.578488 \r\nL 322.899919 183.412806 \r\nL 323.509256 177.127598 \r\nL 324.423261 164.096092 \r\nL 325.337266 147.653294 \r\nL 327.165276 108.897359 \r\nL 328.993285 71.447185 \r\nL 329.90729 56.339367 \r\nL 330.821295 45.198722 \r\nL 331.430632 40.342064 \r\nL 332.039969 37.688452 \r\nL 332.344637 37.18612 \r\nL 332.649305 37.287206 \r\nL 332.953973 37.976867 \r\nL 333.258642 39.232932 \r\nL 333.867978 43.440795 \r\nL 334.477315 49.75804 \r\nL 335.39132 62.72942 \r\nL 336.609993 85.18639 \r\nL 340.570681 164.663998 \r\nL 341.484686 176.930029 \r\nL 342.094023 182.731225 \r\nL 342.703359 186.361317 \r\nL 343.008027 187.351325 \r\nL 343.312696 187.742988 \r\nL 343.617364 187.569845 \r\nL 343.922032 186.882908 \r\nL 344.226701 185.595465 \r\nL 344.836037 181.366276 \r\nL 345.445374 175.085295 \r\nL 346.359379 162.146138 \r\nL 347.273384 145.933698 \r\nL 349.101394 107.900962 \r\nL 350.929403 71.333228 \r\nL 351.843408 56.752732 \r\nL 352.757413 46.035222 \r\nL 353.36675 41.420664 \r\nL 353.976086 39.012439 \r\nL 354.280755 38.608188 \r\nL 354.585423 38.796926 \r\nL 354.890091 39.511107 \r\nL 355.19476 40.867319 \r\nL 355.804096 45.147334 \r\nL 356.413433 51.501687 \r\nL 357.327438 64.373296 \r\nL 358.546111 86.473176 \r\nL 362.202131 159.262826 \r\nL 362.202131 159.262826 \r\n\" style=\"fill:none;stroke:#1f77b4;stroke-linecap:square;stroke-width:1.5;\"/>\r\n   </g>\r\n   <g id=\"patch_3\">\r\n    <path d=\"M 42.620313 224.64 \r\nL 42.620313 7.2 \r\n\" style=\"fill:none;stroke:#000000;stroke-linecap:square;stroke-linejoin:miter;stroke-width:0.8;\"/>\r\n   </g>\r\n   <g id=\"patch_4\">\r\n    <path d=\"M 377.420313 224.64 \r\nL 377.420313 7.2 \r\n\" style=\"fill:none;stroke:#000000;stroke-linecap:square;stroke-linejoin:miter;stroke-width:0.8;\"/>\r\n   </g>\r\n   <g id=\"patch_5\">\r\n    <path d=\"M 42.620313 224.64 \r\nL 377.420313 224.64 \r\n\" style=\"fill:none;stroke:#000000;stroke-linecap:square;stroke-linejoin:miter;stroke-width:0.8;\"/>\r\n   </g>\r\n   <g id=\"patch_6\">\r\n    <path d=\"M 42.620313 7.2 \r\nL 377.420313 7.2 \r\n\" style=\"fill:none;stroke:#000000;stroke-linecap:square;stroke-linejoin:miter;stroke-width:0.8;\"/>\r\n   </g>\r\n  </g>\r\n </g>\r\n <defs>\r\n  <clipPath id=\"p7772bba9ea\">\r\n   <rect height=\"217.44\" width=\"334.8\" x=\"42.620313\" y=\"7.2\"/>\r\n  </clipPath>\r\n </defs>\r\n</svg>\r\n",
      "image/png": "[encoded data removed]"
     },
     "metadata": {
      "needs_background": "light"
     }
    }
   ],
   "metadata": {}
  },
  {
   "cell_type": "code",
   "execution_count": 15,
   "source": [
    "plt.grid();\r\n",
    "plt.plot(AlBeam_Data['Time'],AlBeam_Data['Strain Gauge Data']);plt.xlabel('Time');plt.ylabel('Strain');"
   ],
   "outputs": [
    {
     "output_type": "display_data",
     "data": {
      "text/plain": [
       "<Figure size 432x288 with 1 Axes>"
      ],
      "image/svg+xml": "<?xml version=\"1.0\" encoding=\"utf-8\" standalone=\"no\"?>\r\n<!DOCTYPE svg PUBLIC \"-//W3C//DTD SVG 1.1//EN\"\r\n  \"http://www.w3.org/Graphics/SVG/1.1/DTD/svg11.dtd\">\r\n<svg height=\"262.19625pt\" version=\"1.1\" viewBox=\"0 0 417.59375 262.19625\" width=\"417.59375pt\" xmlns=\"http://www.w3.org/2000/svg\" xmlns:xlink=\"http://www.w3.org/1999/xlink\">\r\n <metadata>\r\n  <rdf:RDF xmlns:cc=\"http://creativecommons.org/ns#\" xmlns:dc=\"http://purl.org/dc/elements/1.1/\" xmlns:rdf=\"http://www.w3.org/1999/02/22-rdf-syntax-ns#\">\r\n   <cc:Work>\r\n    <dc:type rdf:resource=\"http://purl.org/dc/dcmitype/StillImage\"/>\r\n    <dc:date>2021-08-27T14:06:28.026483</dc:date>\r\n    <dc:format>image/svg+xml</dc:format>\r\n    <dc:creator>\r\n     <cc:Agent>\r\n      <dc:title>Matplotlib v3.4.2, https://matplotlib.org/</dc:title>\r\n     </cc:Agent>\r\n    </dc:creator>\r\n   </cc:Work>\r\n  </rdf:RDF>\r\n </metadata>\r\n <defs>\r\n  <style type=\"text/css\">*{stroke-linecap:butt;stroke-linejoin:round;}</style>\r\n </defs>\r\n <g id=\"figure_1\">\r\n  <g id=\"patch_1\">\r\n   <path d=\"M 0 262.19625 \r\nL 417.59375 262.19625 \r\nL 417.59375 0 \r\nL 0 0 \r\nz\r\n\" style=\"fill:none;\"/>\r\n  </g>\r\n  <g id=\"axes_1\">\r\n   <g id=\"patch_2\">\r\n    <path d=\"M 75.59375 224.64 \r\nL 410.39375 224.64 \r\nL 410.39375 7.2 \r\nL 75.59375 7.2 \r\nz\r\n\" style=\"fill:#ffffff;\"/>\r\n   </g>\r\n   <g id=\"matplotlib.axis_1\">\r\n    <g id=\"xtick_1\">\r\n     <g id=\"line2d_1\">\r\n      <path clip-path=\"url(#pe1d0f45eef)\" d=\"M 90.811932 224.64 \r\nL 90.811932 7.2 \r\n\" style=\"fill:none;stroke:#b0b0b0;stroke-linecap:square;stroke-width:0.8;\"/>\r\n     </g>\r\n     <g id=\"line2d_2\">\r\n      <defs>\r\n       <path d=\"M 0 0 \r\nL 0 3.5 \r\n\" id=\"m7ffa3934ae\" style=\"stroke:#000000;stroke-width:0.8;\"/>\r\n      </defs>\r\n      <g>\r\n       <use style=\"stroke:#000000;stroke-width:0.8;\" x=\"90.811932\" xlink:href=\"#m7ffa3934ae\" y=\"224.64\"/>\r\n      </g>\r\n     </g>\r\n     <g id=\"text_1\">\r\n      <!-- 0.0 -->\r\n      <g transform=\"translate(82.860369 239.238438)scale(0.1 -0.1)\">\r\n       <defs>\r\n        <path d=\"M 2034 4250 \r\nQ 1547 4250 1301 3770 \r\nQ 1056 3291 1056 2328 \r\nQ 1056 1369 1301 889 \r\nQ 1547 409 2034 409 \r\nQ 2525 409 2770 889 \r\nQ 3016 1369 3016 2328 \r\nQ 3016 3291 2770 3770 \r\nQ 2525 4250 2034 4250 \r\nz\r\nM 2034 4750 \r\nQ 2819 4750 3233 4129 \r\nQ 3647 3509 3647 2328 \r\nQ 3647 1150 3233 529 \r\nQ 2819 -91 2034 -91 \r\nQ 1250 -91 836 529 \r\nQ 422 1150 422 2328 \r\nQ 422 3509 836 4129 \r\nQ 1250 4750 2034 4750 \r\nz\r\n\" id=\"DejaVuSans-30\" transform=\"scale(0.015625)\"/>\r\n        <path d=\"M 684 794 \r\nL 1344 794 \r\nL 1344 0 \r\nL 684 0 \r\nL 684 794 \r\nz\r\n\" id=\"DejaVuSans-2e\" transform=\"scale(0.015625)\"/>\r\n       </defs>\r\n       <use xlink:href=\"#DejaVuSans-30\"/>\r\n       <use x=\"63.623047\" xlink:href=\"#DejaVuSans-2e\"/>\r\n       <use x=\"95.410156\" xlink:href=\"#DejaVuSans-30\"/>\r\n      </g>\r\n     </g>\r\n    </g>\r\n    <g id=\"xtick_2\">\r\n     <g id=\"line2d_3\">\r\n      <path clip-path=\"url(#pe1d0f45eef)\" d=\"M 151.745593 224.64 \r\nL 151.745593 7.2 \r\n\" style=\"fill:none;stroke:#b0b0b0;stroke-linecap:square;stroke-width:0.8;\"/>\r\n     </g>\r\n     <g id=\"line2d_4\">\r\n      <g>\r\n       <use style=\"stroke:#000000;stroke-width:0.8;\" x=\"151.745593\" xlink:href=\"#m7ffa3934ae\" y=\"224.64\"/>\r\n      </g>\r\n     </g>\r\n     <g id=\"text_2\">\r\n      <!-- 0.2 -->\r\n      <g transform=\"translate(143.79403 239.238438)scale(0.1 -0.1)\">\r\n       <defs>\r\n        <path d=\"M 1228 531 \r\nL 3431 531 \r\nL 3431 0 \r\nL 469 0 \r\nL 469 531 \r\nQ 828 903 1448 1529 \r\nQ 2069 2156 2228 2338 \r\nQ 2531 2678 2651 2914 \r\nQ 2772 3150 2772 3378 \r\nQ 2772 3750 2511 3984 \r\nQ 2250 4219 1831 4219 \r\nQ 1534 4219 1204 4116 \r\nQ 875 4013 500 3803 \r\nL 500 4441 \r\nQ 881 4594 1212 4672 \r\nQ 1544 4750 1819 4750 \r\nQ 2544 4750 2975 4387 \r\nQ 3406 4025 3406 3419 \r\nQ 3406 3131 3298 2873 \r\nQ 3191 2616 2906 2266 \r\nQ 2828 2175 2409 1742 \r\nQ 1991 1309 1228 531 \r\nz\r\n\" id=\"DejaVuSans-32\" transform=\"scale(0.015625)\"/>\r\n       </defs>\r\n       <use xlink:href=\"#DejaVuSans-30\"/>\r\n       <use x=\"63.623047\" xlink:href=\"#DejaVuSans-2e\"/>\r\n       <use x=\"95.410156\" xlink:href=\"#DejaVuSans-32\"/>\r\n      </g>\r\n     </g>\r\n    </g>\r\n    <g id=\"xtick_3\">\r\n     <g id=\"line2d_5\">\r\n      <path clip-path=\"url(#pe1d0f45eef)\" d=\"M 212.679254 224.64 \r\nL 212.679254 7.2 \r\n\" style=\"fill:none;stroke:#b0b0b0;stroke-linecap:square;stroke-width:0.8;\"/>\r\n     </g>\r\n     <g id=\"line2d_6\">\r\n      <g>\r\n       <use style=\"stroke:#000000;stroke-width:0.8;\" x=\"212.679254\" xlink:href=\"#m7ffa3934ae\" y=\"224.64\"/>\r\n      </g>\r\n     </g>\r\n     <g id=\"text_3\">\r\n      <!-- 0.4 -->\r\n      <g transform=\"translate(204.727691 239.238438)scale(0.1 -0.1)\">\r\n       <defs>\r\n        <path d=\"M 2419 4116 \r\nL 825 1625 \r\nL 2419 1625 \r\nL 2419 4116 \r\nz\r\nM 2253 4666 \r\nL 3047 4666 \r\nL 3047 1625 \r\nL 3713 1625 \r\nL 3713 1100 \r\nL 3047 1100 \r\nL 3047 0 \r\nL 2419 0 \r\nL 2419 1100 \r\nL 313 1100 \r\nL 313 1709 \r\nL 2253 4666 \r\nz\r\n\" id=\"DejaVuSans-34\" transform=\"scale(0.015625)\"/>\r\n       </defs>\r\n       <use xlink:href=\"#DejaVuSans-30\"/>\r\n       <use x=\"63.623047\" xlink:href=\"#DejaVuSans-2e\"/>\r\n       <use x=\"95.410156\" xlink:href=\"#DejaVuSans-34\"/>\r\n      </g>\r\n     </g>\r\n    </g>\r\n    <g id=\"xtick_4\">\r\n     <g id=\"line2d_7\">\r\n      <path clip-path=\"url(#pe1d0f45eef)\" d=\"M 273.612915 224.64 \r\nL 273.612915 7.2 \r\n\" style=\"fill:none;stroke:#b0b0b0;stroke-linecap:square;stroke-width:0.8;\"/>\r\n     </g>\r\n     <g id=\"line2d_8\">\r\n      <g>\r\n       <use style=\"stroke:#000000;stroke-width:0.8;\" x=\"273.612915\" xlink:href=\"#m7ffa3934ae\" y=\"224.64\"/>\r\n      </g>\r\n     </g>\r\n     <g id=\"text_4\">\r\n      <!-- 0.6 -->\r\n      <g transform=\"translate(265.661352 239.238438)scale(0.1 -0.1)\">\r\n       <defs>\r\n        <path d=\"M 2113 2584 \r\nQ 1688 2584 1439 2293 \r\nQ 1191 2003 1191 1497 \r\nQ 1191 994 1439 701 \r\nQ 1688 409 2113 409 \r\nQ 2538 409 2786 701 \r\nQ 3034 994 3034 1497 \r\nQ 3034 2003 2786 2293 \r\nQ 2538 2584 2113 2584 \r\nz\r\nM 3366 4563 \r\nL 3366 3988 \r\nQ 3128 4100 2886 4159 \r\nQ 2644 4219 2406 4219 \r\nQ 1781 4219 1451 3797 \r\nQ 1122 3375 1075 2522 \r\nQ 1259 2794 1537 2939 \r\nQ 1816 3084 2150 3084 \r\nQ 2853 3084 3261 2657 \r\nQ 3669 2231 3669 1497 \r\nQ 3669 778 3244 343 \r\nQ 2819 -91 2113 -91 \r\nQ 1303 -91 875 529 \r\nQ 447 1150 447 2328 \r\nQ 447 3434 972 4092 \r\nQ 1497 4750 2381 4750 \r\nQ 2619 4750 2861 4703 \r\nQ 3103 4656 3366 4563 \r\nz\r\n\" id=\"DejaVuSans-36\" transform=\"scale(0.015625)\"/>\r\n       </defs>\r\n       <use xlink:href=\"#DejaVuSans-30\"/>\r\n       <use x=\"63.623047\" xlink:href=\"#DejaVuSans-2e\"/>\r\n       <use x=\"95.410156\" xlink:href=\"#DejaVuSans-36\"/>\r\n      </g>\r\n     </g>\r\n    </g>\r\n    <g id=\"xtick_5\">\r\n     <g id=\"line2d_9\">\r\n      <path clip-path=\"url(#pe1d0f45eef)\" d=\"M 334.546576 224.64 \r\nL 334.546576 7.2 \r\n\" style=\"fill:none;stroke:#b0b0b0;stroke-linecap:square;stroke-width:0.8;\"/>\r\n     </g>\r\n     <g id=\"line2d_10\">\r\n      <g>\r\n       <use style=\"stroke:#000000;stroke-width:0.8;\" x=\"334.546576\" xlink:href=\"#m7ffa3934ae\" y=\"224.64\"/>\r\n      </g>\r\n     </g>\r\n     <g id=\"text_5\">\r\n      <!-- 0.8 -->\r\n      <g transform=\"translate(326.595013 239.238438)scale(0.1 -0.1)\">\r\n       <defs>\r\n        <path d=\"M 2034 2216 \r\nQ 1584 2216 1326 1975 \r\nQ 1069 1734 1069 1313 \r\nQ 1069 891 1326 650 \r\nQ 1584 409 2034 409 \r\nQ 2484 409 2743 651 \r\nQ 3003 894 3003 1313 \r\nQ 3003 1734 2745 1975 \r\nQ 2488 2216 2034 2216 \r\nz\r\nM 1403 2484 \r\nQ 997 2584 770 2862 \r\nQ 544 3141 544 3541 \r\nQ 544 4100 942 4425 \r\nQ 1341 4750 2034 4750 \r\nQ 2731 4750 3128 4425 \r\nQ 3525 4100 3525 3541 \r\nQ 3525 3141 3298 2862 \r\nQ 3072 2584 2669 2484 \r\nQ 3125 2378 3379 2068 \r\nQ 3634 1759 3634 1313 \r\nQ 3634 634 3220 271 \r\nQ 2806 -91 2034 -91 \r\nQ 1263 -91 848 271 \r\nQ 434 634 434 1313 \r\nQ 434 1759 690 2068 \r\nQ 947 2378 1403 2484 \r\nz\r\nM 1172 3481 \r\nQ 1172 3119 1398 2916 \r\nQ 1625 2713 2034 2713 \r\nQ 2441 2713 2670 2916 \r\nQ 2900 3119 2900 3481 \r\nQ 2900 3844 2670 4047 \r\nQ 2441 4250 2034 4250 \r\nQ 1625 4250 1398 4047 \r\nQ 1172 3844 1172 3481 \r\nz\r\n\" id=\"DejaVuSans-38\" transform=\"scale(0.015625)\"/>\r\n       </defs>\r\n       <use xlink:href=\"#DejaVuSans-30\"/>\r\n       <use x=\"63.623047\" xlink:href=\"#DejaVuSans-2e\"/>\r\n       <use x=\"95.410156\" xlink:href=\"#DejaVuSans-38\"/>\r\n      </g>\r\n     </g>\r\n    </g>\r\n    <g id=\"xtick_6\">\r\n     <g id=\"line2d_11\">\r\n      <path clip-path=\"url(#pe1d0f45eef)\" d=\"M 395.480236 224.64 \r\nL 395.480236 7.2 \r\n\" style=\"fill:none;stroke:#b0b0b0;stroke-linecap:square;stroke-width:0.8;\"/>\r\n     </g>\r\n     <g id=\"line2d_12\">\r\n      <g>\r\n       <use style=\"stroke:#000000;stroke-width:0.8;\" x=\"395.480236\" xlink:href=\"#m7ffa3934ae\" y=\"224.64\"/>\r\n      </g>\r\n     </g>\r\n     <g id=\"text_6\">\r\n      <!-- 1.0 -->\r\n      <g transform=\"translate(387.528674 239.238438)scale(0.1 -0.1)\">\r\n       <defs>\r\n        <path d=\"M 794 531 \r\nL 1825 531 \r\nL 1825 4091 \r\nL 703 3866 \r\nL 703 4441 \r\nL 1819 4666 \r\nL 2450 4666 \r\nL 2450 531 \r\nL 3481 531 \r\nL 3481 0 \r\nL 794 0 \r\nL 794 531 \r\nz\r\n\" id=\"DejaVuSans-31\" transform=\"scale(0.015625)\"/>\r\n       </defs>\r\n       <use xlink:href=\"#DejaVuSans-31\"/>\r\n       <use x=\"63.623047\" xlink:href=\"#DejaVuSans-2e\"/>\r\n       <use x=\"95.410156\" xlink:href=\"#DejaVuSans-30\"/>\r\n      </g>\r\n     </g>\r\n    </g>\r\n    <g id=\"text_7\">\r\n     <!-- Time -->\r\n     <g transform=\"translate(230.760156 252.916563)scale(0.1 -0.1)\">\r\n      <defs>\r\n       <path d=\"M -19 4666 \r\nL 3928 4666 \r\nL 3928 4134 \r\nL 2272 4134 \r\nL 2272 0 \r\nL 1638 0 \r\nL 1638 4134 \r\nL -19 4134 \r\nL -19 4666 \r\nz\r\n\" id=\"DejaVuSans-54\" transform=\"scale(0.015625)\"/>\r\n       <path d=\"M 603 3500 \r\nL 1178 3500 \r\nL 1178 0 \r\nL 603 0 \r\nL 603 3500 \r\nz\r\nM 603 4863 \r\nL 1178 4863 \r\nL 1178 4134 \r\nL 603 4134 \r\nL 603 4863 \r\nz\r\n\" id=\"DejaVuSans-69\" transform=\"scale(0.015625)\"/>\r\n       <path d=\"M 3328 2828 \r\nQ 3544 3216 3844 3400 \r\nQ 4144 3584 4550 3584 \r\nQ 5097 3584 5394 3201 \r\nQ 5691 2819 5691 2113 \r\nL 5691 0 \r\nL 5113 0 \r\nL 5113 2094 \r\nQ 5113 2597 4934 2840 \r\nQ 4756 3084 4391 3084 \r\nQ 3944 3084 3684 2787 \r\nQ 3425 2491 3425 1978 \r\nL 3425 0 \r\nL 2847 0 \r\nL 2847 2094 \r\nQ 2847 2600 2669 2842 \r\nQ 2491 3084 2119 3084 \r\nQ 1678 3084 1418 2786 \r\nQ 1159 2488 1159 1978 \r\nL 1159 0 \r\nL 581 0 \r\nL 581 3500 \r\nL 1159 3500 \r\nL 1159 2956 \r\nQ 1356 3278 1631 3431 \r\nQ 1906 3584 2284 3584 \r\nQ 2666 3584 2933 3390 \r\nQ 3200 3197 3328 2828 \r\nz\r\n\" id=\"DejaVuSans-6d\" transform=\"scale(0.015625)\"/>\r\n       <path d=\"M 3597 1894 \r\nL 3597 1613 \r\nL 953 1613 \r\nQ 991 1019 1311 708 \r\nQ 1631 397 2203 397 \r\nQ 2534 397 2845 478 \r\nQ 3156 559 3463 722 \r\nL 3463 178 \r\nQ 3153 47 2828 -22 \r\nQ 2503 -91 2169 -91 \r\nQ 1331 -91 842 396 \r\nQ 353 884 353 1716 \r\nQ 353 2575 817 3079 \r\nQ 1281 3584 2069 3584 \r\nQ 2775 3584 3186 3129 \r\nQ 3597 2675 3597 1894 \r\nz\r\nM 3022 2063 \r\nQ 3016 2534 2758 2815 \r\nQ 2500 3097 2075 3097 \r\nQ 1594 3097 1305 2825 \r\nQ 1016 2553 972 2059 \r\nL 3022 2063 \r\nz\r\n\" id=\"DejaVuSans-65\" transform=\"scale(0.015625)\"/>\r\n      </defs>\r\n      <use xlink:href=\"#DejaVuSans-54\"/>\r\n      <use x=\"57.958984\" xlink:href=\"#DejaVuSans-69\"/>\r\n      <use x=\"85.742188\" xlink:href=\"#DejaVuSans-6d\"/>\r\n      <use x=\"183.154297\" xlink:href=\"#DejaVuSans-65\"/>\r\n     </g>\r\n    </g>\r\n   </g>\r\n   <g id=\"matplotlib.axis_2\">\r\n    <g id=\"ytick_1\">\r\n     <g id=\"line2d_13\">\r\n      <path clip-path=\"url(#pe1d0f45eef)\" d=\"M 75.59375 186.772998 \r\nL 410.39375 186.772998 \r\n\" style=\"fill:none;stroke:#b0b0b0;stroke-linecap:square;stroke-width:0.8;\"/>\r\n     </g>\r\n     <g id=\"line2d_14\">\r\n      <defs>\r\n       <path d=\"M 0 0 \r\nL -3.5 0 \r\n\" id=\"mecd17a8deb\" style=\"stroke:#000000;stroke-width:0.8;\"/>\r\n      </defs>\r\n      <g>\r\n       <use style=\"stroke:#000000;stroke-width:0.8;\" x=\"75.59375\" xlink:href=\"#mecd17a8deb\" y=\"186.772998\"/>\r\n      </g>\r\n     </g>\r\n     <g id=\"text_8\">\r\n      <!-- 0.000148 -->\r\n      <g transform=\"translate(20.878125 190.572217)scale(0.1 -0.1)\">\r\n       <use xlink:href=\"#DejaVuSans-30\"/>\r\n       <use x=\"63.623047\" xlink:href=\"#DejaVuSans-2e\"/>\r\n       <use x=\"95.410156\" xlink:href=\"#DejaVuSans-30\"/>\r\n       <use x=\"159.033203\" xlink:href=\"#DejaVuSans-30\"/>\r\n       <use x=\"222.65625\" xlink:href=\"#DejaVuSans-30\"/>\r\n       <use x=\"286.279297\" xlink:href=\"#DejaVuSans-31\"/>\r\n       <use x=\"349.902344\" xlink:href=\"#DejaVuSans-34\"/>\r\n       <use x=\"413.525391\" xlink:href=\"#DejaVuSans-38\"/>\r\n      </g>\r\n     </g>\r\n    </g>\r\n    <g id=\"ytick_2\">\r\n     <g id=\"line2d_15\">\r\n      <path clip-path=\"url(#pe1d0f45eef)\" d=\"M 75.59375 146.567012 \r\nL 410.39375 146.567012 \r\n\" style=\"fill:none;stroke:#b0b0b0;stroke-linecap:square;stroke-width:0.8;\"/>\r\n     </g>\r\n     <g id=\"line2d_16\">\r\n      <g>\r\n       <use style=\"stroke:#000000;stroke-width:0.8;\" x=\"75.59375\" xlink:href=\"#mecd17a8deb\" y=\"146.567012\"/>\r\n      </g>\r\n     </g>\r\n     <g id=\"text_9\">\r\n      <!-- 0.000150 -->\r\n      <g transform=\"translate(20.878125 150.366231)scale(0.1 -0.1)\">\r\n       <defs>\r\n        <path d=\"M 691 4666 \r\nL 3169 4666 \r\nL 3169 4134 \r\nL 1269 4134 \r\nL 1269 2991 \r\nQ 1406 3038 1543 3061 \r\nQ 1681 3084 1819 3084 \r\nQ 2600 3084 3056 2656 \r\nQ 3513 2228 3513 1497 \r\nQ 3513 744 3044 326 \r\nQ 2575 -91 1722 -91 \r\nQ 1428 -91 1123 -41 \r\nQ 819 9 494 109 \r\nL 494 744 \r\nQ 775 591 1075 516 \r\nQ 1375 441 1709 441 \r\nQ 2250 441 2565 725 \r\nQ 2881 1009 2881 1497 \r\nQ 2881 1984 2565 2268 \r\nQ 2250 2553 1709 2553 \r\nQ 1456 2553 1204 2497 \r\nQ 953 2441 691 2322 \r\nL 691 4666 \r\nz\r\n\" id=\"DejaVuSans-35\" transform=\"scale(0.015625)\"/>\r\n       </defs>\r\n       <use xlink:href=\"#DejaVuSans-30\"/>\r\n       <use x=\"63.623047\" xlink:href=\"#DejaVuSans-2e\"/>\r\n       <use x=\"95.410156\" xlink:href=\"#DejaVuSans-30\"/>\r\n       <use x=\"159.033203\" xlink:href=\"#DejaVuSans-30\"/>\r\n       <use x=\"222.65625\" xlink:href=\"#DejaVuSans-30\"/>\r\n       <use x=\"286.279297\" xlink:href=\"#DejaVuSans-31\"/>\r\n       <use x=\"349.902344\" xlink:href=\"#DejaVuSans-35\"/>\r\n       <use x=\"413.525391\" xlink:href=\"#DejaVuSans-30\"/>\r\n      </g>\r\n     </g>\r\n    </g>\r\n    <g id=\"ytick_3\">\r\n     <g id=\"line2d_17\">\r\n      <path clip-path=\"url(#pe1d0f45eef)\" d=\"M 75.59375 106.361027 \r\nL 410.39375 106.361027 \r\n\" style=\"fill:none;stroke:#b0b0b0;stroke-linecap:square;stroke-width:0.8;\"/>\r\n     </g>\r\n     <g id=\"line2d_18\">\r\n      <g>\r\n       <use style=\"stroke:#000000;stroke-width:0.8;\" x=\"75.59375\" xlink:href=\"#mecd17a8deb\" y=\"106.361027\"/>\r\n      </g>\r\n     </g>\r\n     <g id=\"text_10\">\r\n      <!-- 0.000152 -->\r\n      <g transform=\"translate(20.878125 110.160246)scale(0.1 -0.1)\">\r\n       <use xlink:href=\"#DejaVuSans-30\"/>\r\n       <use x=\"63.623047\" xlink:href=\"#DejaVuSans-2e\"/>\r\n       <use x=\"95.410156\" xlink:href=\"#DejaVuSans-30\"/>\r\n       <use x=\"159.033203\" xlink:href=\"#DejaVuSans-30\"/>\r\n       <use x=\"222.65625\" xlink:href=\"#DejaVuSans-30\"/>\r\n       <use x=\"286.279297\" xlink:href=\"#DejaVuSans-31\"/>\r\n       <use x=\"349.902344\" xlink:href=\"#DejaVuSans-35\"/>\r\n       <use x=\"413.525391\" xlink:href=\"#DejaVuSans-32\"/>\r\n      </g>\r\n     </g>\r\n    </g>\r\n    <g id=\"ytick_4\">\r\n     <g id=\"line2d_19\">\r\n      <path clip-path=\"url(#pe1d0f45eef)\" d=\"M 75.59375 66.155042 \r\nL 410.39375 66.155042 \r\n\" style=\"fill:none;stroke:#b0b0b0;stroke-linecap:square;stroke-width:0.8;\"/>\r\n     </g>\r\n     <g id=\"line2d_20\">\r\n      <g>\r\n       <use style=\"stroke:#000000;stroke-width:0.8;\" x=\"75.59375\" xlink:href=\"#mecd17a8deb\" y=\"66.155042\"/>\r\n      </g>\r\n     </g>\r\n     <g id=\"text_11\">\r\n      <!-- 0.000154 -->\r\n      <g transform=\"translate(20.878125 69.95426)scale(0.1 -0.1)\">\r\n       <use xlink:href=\"#DejaVuSans-30\"/>\r\n       <use x=\"63.623047\" xlink:href=\"#DejaVuSans-2e\"/>\r\n       <use x=\"95.410156\" xlink:href=\"#DejaVuSans-30\"/>\r\n       <use x=\"159.033203\" xlink:href=\"#DejaVuSans-30\"/>\r\n       <use x=\"222.65625\" xlink:href=\"#DejaVuSans-30\"/>\r\n       <use x=\"286.279297\" xlink:href=\"#DejaVuSans-31\"/>\r\n       <use x=\"349.902344\" xlink:href=\"#DejaVuSans-35\"/>\r\n       <use x=\"413.525391\" xlink:href=\"#DejaVuSans-34\"/>\r\n      </g>\r\n     </g>\r\n    </g>\r\n    <g id=\"ytick_5\">\r\n     <g id=\"line2d_21\">\r\n      <path clip-path=\"url(#pe1d0f45eef)\" d=\"M 75.59375 25.949056 \r\nL 410.39375 25.949056 \r\n\" style=\"fill:none;stroke:#b0b0b0;stroke-linecap:square;stroke-width:0.8;\"/>\r\n     </g>\r\n     <g id=\"line2d_22\">\r\n      <g>\r\n       <use style=\"stroke:#000000;stroke-width:0.8;\" x=\"75.59375\" xlink:href=\"#mecd17a8deb\" y=\"25.949056\"/>\r\n      </g>\r\n     </g>\r\n     <g id=\"text_12\">\r\n      <!-- 0.000156 -->\r\n      <g transform=\"translate(20.878125 29.748275)scale(0.1 -0.1)\">\r\n       <use xlink:href=\"#DejaVuSans-30\"/>\r\n       <use x=\"63.623047\" xlink:href=\"#DejaVuSans-2e\"/>\r\n       <use x=\"95.410156\" xlink:href=\"#DejaVuSans-30\"/>\r\n       <use x=\"159.033203\" xlink:href=\"#DejaVuSans-30\"/>\r\n       <use x=\"222.65625\" xlink:href=\"#DejaVuSans-30\"/>\r\n       <use x=\"286.279297\" xlink:href=\"#DejaVuSans-31\"/>\r\n       <use x=\"349.902344\" xlink:href=\"#DejaVuSans-35\"/>\r\n       <use x=\"413.525391\" xlink:href=\"#DejaVuSans-36\"/>\r\n      </g>\r\n     </g>\r\n    </g>\r\n    <g id=\"text_13\">\r\n     <!-- Strain -->\r\n     <g transform=\"translate(14.798437 130.731719)rotate(-90)scale(0.1 -0.1)\">\r\n      <defs>\r\n       <path d=\"M 3425 4513 \r\nL 3425 3897 \r\nQ 3066 4069 2747 4153 \r\nQ 2428 4238 2131 4238 \r\nQ 1616 4238 1336 4038 \r\nQ 1056 3838 1056 3469 \r\nQ 1056 3159 1242 3001 \r\nQ 1428 2844 1947 2747 \r\nL 2328 2669 \r\nQ 3034 2534 3370 2195 \r\nQ 3706 1856 3706 1288 \r\nQ 3706 609 3251 259 \r\nQ 2797 -91 1919 -91 \r\nQ 1588 -91 1214 -16 \r\nQ 841 59 441 206 \r\nL 441 856 \r\nQ 825 641 1194 531 \r\nQ 1563 422 1919 422 \r\nQ 2459 422 2753 634 \r\nQ 3047 847 3047 1241 \r\nQ 3047 1584 2836 1778 \r\nQ 2625 1972 2144 2069 \r\nL 1759 2144 \r\nQ 1053 2284 737 2584 \r\nQ 422 2884 422 3419 \r\nQ 422 4038 858 4394 \r\nQ 1294 4750 2059 4750 \r\nQ 2388 4750 2728 4690 \r\nQ 3069 4631 3425 4513 \r\nz\r\n\" id=\"DejaVuSans-53\" transform=\"scale(0.015625)\"/>\r\n       <path d=\"M 1172 4494 \r\nL 1172 3500 \r\nL 2356 3500 \r\nL 2356 3053 \r\nL 1172 3053 \r\nL 1172 1153 \r\nQ 1172 725 1289 603 \r\nQ 1406 481 1766 481 \r\nL 2356 481 \r\nL 2356 0 \r\nL 1766 0 \r\nQ 1100 0 847 248 \r\nQ 594 497 594 1153 \r\nL 594 3053 \r\nL 172 3053 \r\nL 172 3500 \r\nL 594 3500 \r\nL 594 4494 \r\nL 1172 4494 \r\nz\r\n\" id=\"DejaVuSans-74\" transform=\"scale(0.015625)\"/>\r\n       <path d=\"M 2631 2963 \r\nQ 2534 3019 2420 3045 \r\nQ 2306 3072 2169 3072 \r\nQ 1681 3072 1420 2755 \r\nQ 1159 2438 1159 1844 \r\nL 1159 0 \r\nL 581 0 \r\nL 581 3500 \r\nL 1159 3500 \r\nL 1159 2956 \r\nQ 1341 3275 1631 3429 \r\nQ 1922 3584 2338 3584 \r\nQ 2397 3584 2469 3576 \r\nQ 2541 3569 2628 3553 \r\nL 2631 2963 \r\nz\r\n\" id=\"DejaVuSans-72\" transform=\"scale(0.015625)\"/>\r\n       <path d=\"M 2194 1759 \r\nQ 1497 1759 1228 1600 \r\nQ 959 1441 959 1056 \r\nQ 959 750 1161 570 \r\nQ 1363 391 1709 391 \r\nQ 2188 391 2477 730 \r\nQ 2766 1069 2766 1631 \r\nL 2766 1759 \r\nL 2194 1759 \r\nz\r\nM 3341 1997 \r\nL 3341 0 \r\nL 2766 0 \r\nL 2766 531 \r\nQ 2569 213 2275 61 \r\nQ 1981 -91 1556 -91 \r\nQ 1019 -91 701 211 \r\nQ 384 513 384 1019 \r\nQ 384 1609 779 1909 \r\nQ 1175 2209 1959 2209 \r\nL 2766 2209 \r\nL 2766 2266 \r\nQ 2766 2663 2505 2880 \r\nQ 2244 3097 1772 3097 \r\nQ 1472 3097 1187 3025 \r\nQ 903 2953 641 2809 \r\nL 641 3341 \r\nQ 956 3463 1253 3523 \r\nQ 1550 3584 1831 3584 \r\nQ 2591 3584 2966 3190 \r\nQ 3341 2797 3341 1997 \r\nz\r\n\" id=\"DejaVuSans-61\" transform=\"scale(0.015625)\"/>\r\n       <path d=\"M 3513 2113 \r\nL 3513 0 \r\nL 2938 0 \r\nL 2938 2094 \r\nQ 2938 2591 2744 2837 \r\nQ 2550 3084 2163 3084 \r\nQ 1697 3084 1428 2787 \r\nQ 1159 2491 1159 1978 \r\nL 1159 0 \r\nL 581 0 \r\nL 581 3500 \r\nL 1159 3500 \r\nL 1159 2956 \r\nQ 1366 3272 1645 3428 \r\nQ 1925 3584 2291 3584 \r\nQ 2894 3584 3203 3211 \r\nQ 3513 2838 3513 2113 \r\nz\r\n\" id=\"DejaVuSans-6e\" transform=\"scale(0.015625)\"/>\r\n      </defs>\r\n      <use xlink:href=\"#DejaVuSans-53\"/>\r\n      <use x=\"63.476562\" xlink:href=\"#DejaVuSans-74\"/>\r\n      <use x=\"102.685547\" xlink:href=\"#DejaVuSans-72\"/>\r\n      <use x=\"143.798828\" xlink:href=\"#DejaVuSans-61\"/>\r\n      <use x=\"205.078125\" xlink:href=\"#DejaVuSans-69\"/>\r\n      <use x=\"232.861328\" xlink:href=\"#DejaVuSans-6e\"/>\r\n     </g>\r\n    </g>\r\n   </g>\r\n   <g id=\"line2d_23\">\r\n    <path clip-path=\"url(#pe1d0f45eef)\" d=\"M 90.811932 181.224572 \r\nL 91.1166 117.236746 \r\nL 91.421268 134.907277 \r\nL 92.030605 110.361523 \r\nL 92.335273 110.361523 \r\nL 92.639942 101.777545 \r\nL 92.94461 131.429459 \r\nL 93.249278 62.435988 \r\nL 93.553947 63.441138 \r\nL 93.858615 72.849338 \r\nL 94.163283 53.329332 \r\nL 94.467951 85.735356 \r\nL 94.77262 133.540273 \r\nL 95.381956 77.533335 \r\nL 95.686625 53.329332 \r\nL 96.60063 109.155343 \r\nL 96.905298 120.413019 \r\nL 97.209966 80.830226 \r\nL 97.819303 170.610192 \r\nL 98.428639 134.786659 \r\nL 98.733308 167.735464 \r\nL 99.037976 154.507694 \r\nL 99.342644 156.658715 \r\nL 99.647313 177.324591 \r\nL 99.951981 133.540273 \r\nL 100.256649 126.584638 \r\nL 100.561318 168.097318 \r\nL 100.865986 186.793101 \r\nL 101.170654 174.63079 \r\nL 101.475322 146.124747 \r\nL 101.779991 129.459366 \r\nL 102.084659 134.846968 \r\nL 102.389327 161.382918 \r\nL 102.998664 54.4551 \r\nL 103.303332 92.329138 \r\nL 103.608001 97.897667 \r\nL 103.912669 54.173658 \r\nL 104.217337 41.046404 \r\nL 104.522006 99.144053 \r\nL 104.826674 112.874397 \r\nL 105.131342 49.670588 \r\nL 105.43601 128.61504 \r\nL 105.740679 54.696336 \r\nL 106.045347 64.948862 \r\nL 106.350015 62.677224 \r\nL 106.654684 105.255362 \r\nL 106.959352 110.823891 \r\nL 107.26402 99.385288 \r\nL 107.568689 76.869937 \r\nL 107.873357 148.818548 \r\nL 108.178025 175.113262 \r\nL 108.482693 133.841818 \r\nL 108.787362 167.072065 \r\nL 109.09203 152.39688 \r\nL 109.396698 156.538097 \r\nL 109.701367 181.526117 \r\nL 110.006035 106.099688 \r\nL 110.310703 115.44758 \r\nL 110.615372 99.928069 \r\nL 110.92004 159.955606 \r\nL 111.224708 182.832811 \r\nL 111.529377 166.549387 \r\nL 111.834045 119.407869 \r\nL 112.138713 137.540769 \r\nL 112.443381 90.338942 \r\nL 112.74805 156.779333 \r\nL 113.052718 123.408365 \r\nL 113.357386 73.995209 \r\nL 113.662055 108.13009 \r\nL 113.966723 89.977088 \r\nL 114.271391 96.450252 \r\nL 114.880728 66.436483 \r\nL 115.185396 89.816264 \r\nL 115.490064 121.981052 \r\nL 115.794733 80.950844 \r\nL 116.099401 70.698318 \r\nL 116.404069 66.496792 \r\nL 116.708738 37.508277 \r\nL 117.013406 105.556907 \r\nL 117.318074 143.229916 \r\nL 117.622743 148.336076 \r\nL 117.927411 87.10236 \r\nL 118.232079 107.949163 \r\nL 118.536748 170.670501 \r\nL 118.841416 134.786659 \r\nL 119.146084 121.981052 \r\nL 119.450752 178.470462 \r\nL 119.755421 156.236552 \r\nL 120.060089 96.993032 \r\nL 120.364757 102.561561 \r\nL 120.669426 195.598212 \r\nL 121.278762 144.13455 \r\nL 121.583431 203.498688 \r\nL 121.888099 164.740118 \r\nL 122.192767 142.767547 \r\nL 122.497436 108.009472 \r\nL 122.802104 94.540467 \r\nL 123.106772 123.528983 \r\nL 123.41144 127.790817 \r\nL 123.716109 93.334288 \r\nL 124.020777 76.990555 \r\nL 124.325445 95.686338 \r\nL 124.630114 90.338942 \r\nL 124.934782 77.412717 \r\nL 125.23945 90.158015 \r\nL 125.544119 88.429157 \r\nL 125.848787 82.920937 \r\nL 126.153455 109.577506 \r\nL 126.458123 97.354886 \r\nL 126.762792 46.434006 \r\nL 127.372128 103.82805 \r\nL 127.676797 100.531159 \r\nL 128.286133 127.851126 \r\nL 128.590802 114.181091 \r\nL 128.89547 132.394403 \r\nL 129.200138 135.932529 \r\nL 129.504807 115.628507 \r\nL 129.809475 178.99314 \r\nL 130.114143 148.034531 \r\nL 130.418811 166.549387 \r\nL 130.72348 104.491449 \r\nL 131.028148 186.612174 \r\nL 131.332816 127.60989 \r\nL 131.637485 175.173571 \r\nL 131.942153 176.600883 \r\nL 132.246821 156.779333 \r\nL 132.55149 190.270919 \r\nL 133.160826 86.881227 \r\nL 133.465494 132.997492 \r\nL 133.770163 139.953128 \r\nL 134.074831 101.837854 \r\nL 134.379499 80.528681 \r\nL 134.684168 131.268635 \r\nL 134.988836 110.059978 \r\nL 135.293504 41.468567 \r\nL 135.598173 37.870131 \r\nL 135.902841 108.974416 \r\nL 136.207509 74.477681 \r\nL 136.512178 77.533335 \r\nL 136.816846 93.454906 \r\nL 137.121514 58.174153 \r\nL 137.426182 45.247929 \r\nL 137.730851 76.869937 \r\nL 138.035519 151.693276 \r\nL 138.340187 157.442731 \r\nL 138.644856 109.93936 \r\nL 138.949524 109.456888 \r\nL 139.254192 154.266459 \r\nL 139.558861 161.86539 \r\nL 139.863529 144.73764 \r\nL 140.168197 156.296861 \r\nL 140.472865 145.461348 \r\nL 140.777534 153.180897 \r\nL 141.082202 144.315477 \r\nL 141.38687 141.199513 \r\nL 141.691539 136.415001 \r\nL 141.996207 167.252992 \r\nL 142.300875 183.978682 \r\nL 142.605544 163.192187 \r\nL 142.910212 124.493926 \r\nL 143.21488 127.911435 \r\nL 143.519549 87.765759 \r\nL 143.824217 114.120782 \r\nL 144.128885 96.209016 \r\nL 144.433553 106.340924 \r\nL 144.738222 89.575028 \r\nL 145.04289 87.042051 \r\nL 145.347558 73.512737 \r\nL 145.652227 83.704954 \r\nL 145.956895 69.431829 \r\nL 146.261563 65.371025 \r\nL 146.566232 71.964806 \r\nL 146.8709 74.718916 \r\nL 147.175568 90.519869 \r\nL 147.480236 41.106713 \r\nL 147.784905 80.04621 \r\nL 148.089573 76.266847 \r\nL 148.394241 99.144053 \r\nL 148.69891 136.656237 \r\nL 149.003578 118.261999 \r\nL 149.308246 88.006995 \r\nL 149.612915 177.3849 \r\nL 150.222251 112.753779 \r\nL 150.831588 160.438077 \r\nL 151.136256 178.410153 \r\nL 151.440924 136.716546 \r\nL 151.745593 177.083355 \r\nL 152.050261 151.271113 \r\nL 152.354929 136.053147 \r\nL 152.659598 196.965215 \r\nL 152.964266 191.034832 \r\nL 153.573603 119.568693 \r\nL 153.878271 95.746647 \r\nL 154.182939 107.707927 \r\nL 154.487607 131.851622 \r\nL 154.792276 89.152865 \r\nL 155.096944 81.232286 \r\nL 155.401612 94.721394 \r\nL 155.706281 86.278137 \r\nL 156.010949 60.867954 \r\nL 156.315617 54.575718 \r\nL 156.620286 98.963126 \r\nL 156.924954 101.777545 \r\nL 157.229622 69.190593 \r\nL 157.534291 90.519869 \r\nL 157.838959 69.130284 \r\nL 158.143627 59.802496 \r\nL 158.448295 70.879245 \r\nL 158.752964 119.990856 \r\nL 159.057632 126.403711 \r\nL 159.3623 108.853798 \r\nL 159.666969 102.380634 \r\nL 159.971637 132.213476 \r\nL 160.276305 148.758239 \r\nL 160.580974 141.621676 \r\nL 160.885642 159.231898 \r\nL 161.19031 170.067411 \r\nL 161.494979 160.799931 \r\nL 161.799647 187.918868 \r\nL 162.104315 157.683967 \r\nL 162.408983 114.000164 \r\nL 162.713652 110.180596 \r\nL 163.322988 178.289535 \r\nL 163.627657 156.35717 \r\nL 163.932325 147.793295 \r\nL 164.541662 77.473026 \r\nL 164.84633 154.20615 \r\nL 165.150998 99.32498 \r\nL 165.455666 76.508083 \r\nL 165.760335 119.046015 \r\nL 166.065003 114.482636 \r\nL 166.369671 71.060172 \r\nL 166.67434 55.118499 \r\nL 167.283676 100.712086 \r\nL 167.588345 60.687028 \r\nL 167.893013 85.855974 \r\nL 168.197681 95.96778 \r\nL 168.50235 45.368547 \r\nL 168.807018 42.413407 \r\nL 169.111686 125.277943 \r\nL 169.416354 141.018586 \r\nL 169.721023 130.303691 \r\nL 170.025691 68.42668 \r\nL 170.330359 116.814583 \r\nL 170.635028 135.811911 \r\nL 170.939696 124.192381 \r\nL 171.244364 129.157821 \r\nL 171.549033 166.670005 \r\nL 171.853701 174.811717 \r\nL 172.158369 146.948969 \r\nL 172.463037 158.870044 \r\nL 172.767706 166.428769 \r\nL 173.072374 129.519675 \r\nL 173.377042 167.192683 \r\nL 173.681711 184.461154 \r\nL 174.291047 133.902127 \r\nL 174.595716 118.442926 \r\nL 174.900384 139.108802 \r\nL 175.205052 125.680003 \r\nL 175.509721 102.440943 \r\nL 175.814389 99.32498 \r\nL 176.119057 135.027895 \r\nL 176.423725 77.412717 \r\nL 176.728394 56.80715 \r\nL 177.033062 60.104041 \r\nL 177.33773 61.591662 \r\nL 177.947067 87.162669 \r\nL 178.251735 116.633656 \r\nL 178.556404 69.492138 \r\nL 178.861072 77.533335 \r\nL 179.16574 102.561561 \r\nL 179.470408 90.278633 \r\nL 179.775077 133.660891 \r\nL 180.079745 123.227438 \r\nL 180.384413 85.373503 \r\nL 180.689082 111.607908 \r\nL 180.99375 167.795773 \r\nL 181.298418 138.324785 \r\nL 181.603087 134.967586 \r\nL 181.907755 145.039185 \r\nL 182.212423 149.522152 \r\nL 182.517092 171.575135 \r\nL 182.82176 124.312999 \r\nL 183.126428 149.582461 \r\nL 183.431096 123.649601 \r\nL 183.735765 156.658715 \r\nL 184.040433 177.3849 \r\nL 184.345101 150.125242 \r\nL 185.259106 109.275961 \r\nL 185.563775 141.38044 \r\nL 185.868443 140.073746 \r\nL 186.173111 77.050864 \r\nL 186.477779 110.602758 \r\nL 187.087116 92.389447 \r\nL 187.391784 90.338942 \r\nL 187.696453 102.018781 \r\nL 188.001121 86.981742 \r\nL 188.305789 90.338942 \r\nL 188.610458 106.763087 \r\nL 188.915126 108.250708 \r\nL 189.219794 74.417372 \r\nL 189.524463 77.593644 \r\nL 189.829131 114.84449 \r\nL 190.133799 122.925893 \r\nL 190.743136 84.046705 \r\nL 191.657141 147.129896 \r\nL 191.961809 104.672376 \r\nL 192.266477 185.526612 \r\nL 192.571146 139.530965 \r\nL 192.875814 171.092663 \r\nL 193.180482 171.333899 \r\nL 193.48515 162.649407 \r\nL 193.789819 137.259327 \r\nL 194.094487 164.01641 \r\nL 194.399155 169.001952 \r\nL 194.703824 147.974222 \r\nL 195.008492 134.786659 \r\nL 195.31316 112.69347 \r\nL 195.617829 111.246054 \r\nL 195.922497 136.776855 \r\nL 196.227165 142.767547 \r\nL 196.531834 73.633355 \r\nL 196.836502 134.203672 \r\nL 197.14117 104.893509 \r\nL 197.445838 64.225154 \r\nL 197.750507 56.023133 \r\nL 198.055175 94.480158 \r\nL 198.359843 56.867459 \r\nL 198.664512 96.872414 \r\nL 198.96918 115.930051 \r\nL 199.273848 62.858151 \r\nL 199.578517 60.16435 \r\nL 199.883185 70.336464 \r\nL 200.187853 112.391925 \r\nL 200.492521 131.791313 \r\nL 200.79719 100.712086 \r\nL 201.101858 91.665739 \r\nL 202.015863 166.127224 \r\nL 202.320531 123.830528 \r\nL 202.6252 148.999474 \r\nL 202.929868 162.166935 \r\nL 203.234536 169.12257 \r\nL 203.539205 135.570675 \r\nL 203.843873 147.250514 \r\nL 204.148541 113.879546 \r\nL 204.757878 159.654061 \r\nL 205.062546 154.387077 \r\nL 205.367214 161.2623 \r\nL 205.671883 153.060279 \r\nL 205.976551 94.842012 \r\nL 206.281219 132.756256 \r\nL 206.585888 126.524329 \r\nL 206.890556 84.468868 \r\nL 207.195224 106.159997 \r\nL 207.499893 92.20852 \r\nL 207.804561 63.099387 \r\nL 208.109229 65.732879 \r\nL 208.413897 85.494121 \r\nL 208.718566 43.257733 \r\nL 209.023234 63.039078 \r\nL 209.327902 105.436289 \r\nL 209.632571 102.018781 \r\nL 209.937239 63.8633 \r\nL 210.241907 89.85647 \r\nL 210.546576 72.427175 \r\nL 211.155912 113.819237 \r\nL 211.46058 110.542449 \r\nL 211.765249 117.538291 \r\nL 212.374585 170.972046 \r\nL 212.679254 142.767547 \r\nL 212.983922 183.616828 \r\nL 213.28859 165.584443 \r\nL 213.593259 187.396191 \r\nL 213.897927 135.450057 \r\nL 214.202595 150.728332 \r\nL 214.811932 124.25269 \r\nL 215.1166 148.456694 \r\nL 215.421268 163.674659 \r\nL 215.725937 117.900145 \r\nL 216.030605 124.614544 \r\nL 216.335273 105.737834 \r\nL 216.94461 151.090186 \r\nL 217.249278 77.231791 \r\nL 217.553947 65.491643 \r\nL 217.858615 135.329439 \r\nL 218.163283 67.642663 \r\nL 218.467951 73.211192 \r\nL 218.77262 71.844188 \r\nL 219.077288 94.600776 \r\nL 219.381956 85.735356 \r\nL 219.686625 85.011649 \r\nL 219.991293 117.5986 \r\nL 220.60063 45.368547 \r\nL 220.905298 69.250902 \r\nL 221.209966 125.800621 \r\nL 221.514635 122.222288 \r\nL 221.819303 105.074435 \r\nL 222.123971 101.194558 \r\nL 222.428639 160.558695 \r\nL 222.733308 178.048299 \r\nL 223.037976 149.461843 \r\nL 223.342644 159.834988 \r\nL 223.647313 203.197143 \r\nL 223.951981 154.326768 \r\nL 224.256649 153.241206 \r\nL 224.561318 151.090186 \r\nL 224.865986 131.268635 \r\nL 225.475322 152.457189 \r\nL 225.779991 172.359152 \r\nL 226.084659 144.436095 \r\nL 226.389327 152.457189 \r\nL 226.693996 92.690992 \r\nL 226.998664 104.712582 \r\nL 227.303332 80.890535 \r\nL 227.608001 86.459064 \r\nL 227.912669 55.480352 \r\nL 228.217337 65.250407 \r\nL 228.522006 64.164845 \r\nL 228.826674 55.60097 \r\nL 229.131342 90.399251 \r\nL 229.43601 54.696336 \r\nL 230.045347 106.642469 \r\nL 230.350015 123.167129 \r\nL 230.654684 62.858151 \r\nL 230.959352 83.926087 \r\nL 231.26402 85.011649 \r\nL 231.568689 73.573046 \r\nL 231.873357 121.558889 \r\nL 232.178025 146.004129 \r\nL 232.482693 82.80032 \r\nL 232.787362 109.577506 \r\nL 233.09203 189.547211 \r\nL 233.396698 170.12772 \r\nL 233.701367 175.23388 \r\nL 234.006035 189.547211 \r\nL 234.310703 191.999776 \r\nL 235.224708 114.904799 \r\nL 235.529377 116.352214 \r\nL 235.834045 163.312805 \r\nL 236.138713 143.229916 \r\nL 236.443381 148.517003 \r\nL 236.74805 166.850932 \r\nL 237.052718 102.320325 \r\nL 237.357386 75.301903 \r\nL 237.662055 149.944315 \r\nL 237.966723 78.116322 \r\nL 238.271391 62.858151 \r\nL 238.57606 112.030071 \r\nL 238.880728 84.408559 \r\nL 239.185396 42.714952 \r\nL 239.490064 65.250407 \r\nL 239.794733 99.626524 \r\nL 240.099401 77.955498 \r\nL 240.404069 83.644645 \r\nL 240.708738 117.417673 \r\nL 241.013406 58.837552 \r\nL 241.318074 24.803186 \r\nL 241.622743 96.269325 \r\nL 241.927411 122.403215 \r\nL 242.232079 126.886183 \r\nL 242.536748 124.976398 \r\nL 242.841416 114.663563 \r\nL 243.146084 157.382422 \r\nL 243.450752 162.46848 \r\nL 243.755421 144.556713 \r\nL 244.060089 154.568003 \r\nL 244.364757 150.004624 \r\nL 244.669426 192.060085 \r\nL 244.974094 183.134356 \r\nL 245.278762 142.827856 \r\nL 245.583431 151.934511 \r\nL 245.888099 104.712582 \r\nL 246.192767 175.595734 \r\nL 246.497436 200.684269 \r\nL 246.802104 135.389748 \r\nL 247.106772 135.992838 \r\nL 247.41144 98.782199 \r\nL 247.716109 88.30854 \r\nL 248.325445 137.902623 \r\nL 248.630114 65.371025 \r\nL 248.934782 66.134939 \r\nL 249.23945 85.976592 \r\nL 249.544119 86.217828 \r\nL 249.848787 56.867459 \r\nL 250.153455 57.751991 \r\nL 250.458123 48.645335 \r\nL 250.762792 78.23694 \r\nL 251.06746 76.990555 \r\nL 251.372128 82.016303 \r\nL 251.676797 68.366371 \r\nL 251.981465 40.925786 \r\nL 252.286133 66.677719 \r\nL 252.590802 118.503235 \r\nL 252.89547 136.354692 \r\nL 253.200138 101.898163 \r\nL 253.504807 142.888165 \r\nL 253.809475 134.263981 \r\nL 254.114143 140.013437 \r\nL 254.418811 118.563544 \r\nL 254.72348 198.955411 \r\nL 255.028148 155.573153 \r\nL 255.332816 173.002448 \r\nL 255.637485 128.735658 \r\nL 255.942153 164.01641 \r\nL 256.246821 125.740312 \r\nL 256.856158 195.236358 \r\nL 257.160826 189.064739 \r\nL 257.465494 168.459171 \r\nL 257.770163 84.589486 \r\nL 258.074831 101.254867 \r\nL 258.379499 141.802603 \r\nL 258.684168 124.433617 \r\nL 258.988836 82.740011 \r\nL 259.293504 102.380634 \r\nL 259.598173 104.953817 \r\nL 259.902841 101.134249 \r\nL 260.207509 57.932918 \r\nL 260.512178 74.477681 \r\nL 260.816846 67.82359 \r\nL 261.121514 53.44995 \r\nL 261.426182 99.204362 \r\nL 262.035519 34.935094 \r\nL 262.340187 99.686833 \r\nL 262.644856 105.677525 \r\nL 262.949524 106.461542 \r\nL 263.254192 121.619198 \r\nL 263.558861 97.354886 \r\nL 264.168197 156.055625 \r\nL 264.472865 147.250514 \r\nL 264.777534 126.584638 \r\nL 265.082202 141.501058 \r\nL 265.38687 144.617022 \r\nL 265.691539 173.183375 \r\nL 265.996207 143.712387 \r\nL 266.300875 165.946297 \r\nL 266.605544 99.566215 \r\nL 266.910212 153.844296 \r\nL 267.21488 181.586426 \r\nL 267.519549 171.635444 \r\nL 267.824217 179.777156 \r\nL 268.128885 126.343402 \r\nL 268.433553 96.751796 \r\nL 268.738222 117.779527 \r\nL 269.04289 162.528789 \r\nL 269.347558 64.707626 \r\nL 269.652227 78.056013 \r\nL 269.956895 129.640293 \r\nL 270.261563 97.596122 \r\nL 270.566232 17.083636 \r\nL 270.8709 98.199212 \r\nL 271.175568 79.201884 \r\nL 271.480236 81.292595 \r\nL 271.784905 86.157519 \r\nL 272.089573 84.529177 \r\nL 272.394241 44.886075 \r\nL 272.69891 71.904497 \r\nL 273.003578 82.619393 \r\nL 273.308246 119.226942 \r\nL 273.612915 192.36163 \r\nL 273.917583 103.526505 \r\nL 274.222251 103.285269 \r\nL 274.52692 148.999474 \r\nL 274.831588 133.781509 \r\nL 275.136256 104.672376 \r\nL 275.440924 168.037009 \r\nL 275.745593 178.410153 \r\nL 276.050261 163.915895 \r\nL 276.354929 143.410843 \r\nL 276.659598 184.219918 \r\nL 276.964266 126.283093 \r\nL 277.268934 109.879051 \r\nL 277.573603 191.15545 \r\nL 277.878271 159.834988 \r\nL 278.182939 144.375786 \r\nL 278.487607 134.605732 \r\nL 278.792276 62.737533 \r\nL 279.096944 104.310522 \r\nL 279.401612 125.559385 \r\nL 279.706281 96.510561 \r\nL 280.010949 102.682179 \r\nL 280.315617 119.407869 \r\nL 280.924954 45.247929 \r\nL 281.229622 67.522045 \r\nL 281.534291 51.118003 \r\nL 281.838959 110.120287 \r\nL 282.143627 84.649795 \r\nL 282.448295 94.419849 \r\nL 282.752964 30.673259 \r\nL 283.057632 54.756645 \r\nL 283.3623 58.716934 \r\nL 283.971637 145.280421 \r\nL 284.276305 106.401233 \r\nL 284.580974 111.909453 \r\nL 285.19031 151.874202 \r\nL 285.494979 101.616721 \r\nL 285.799647 162.890642 \r\nL 286.104315 143.129401 \r\nL 286.713652 159.171589 \r\nL 287.01832 140.073746 \r\nL 287.322988 159.171589 \r\nL 287.627657 159.231898 \r\nL 287.932325 181.164263 \r\nL 288.236993 191.698231 \r\nL 288.84633 129.459366 \r\nL 289.150998 125.097016 \r\nL 289.455666 116.754274 \r\nL 289.760335 147.672677 \r\nL 290.065003 108.612562 \r\nL 290.369671 90.45956 \r\nL 290.67434 116.935201 \r\nL 290.979008 97.11365 \r\nL 291.283676 41.649493 \r\nL 291.588345 75.241594 \r\nL 291.893013 65.06948 \r\nL 292.197681 73.573046 \r\nL 292.50235 99.445597 \r\nL 292.807018 103.647123 \r\nL 293.111686 65.009171 \r\nL 293.416354 42.373201 \r\nL 294.025691 114.181091 \r\nL 294.330359 167.072065 \r\nL 294.635028 107.004323 \r\nL 294.939696 103.285269 \r\nL 295.244364 144.315477 \r\nL 295.549033 152.577807 \r\nL 295.853701 121.558889 \r\nL 296.463037 172.540079 \r\nL 296.767706 166.187533 \r\nL 297.072374 172.942139 \r\nL 297.377042 172.942139 \r\nL 297.681711 133.359346 \r\nL 297.986379 118.442926 \r\nL 298.291047 157.442731 \r\nL 298.595716 132.575329 \r\nL 299.205052 158.266954 \r\nL 299.509721 71.301408 \r\nL 299.814389 89.695646 \r\nL 300.119057 139.772201 \r\nL 300.423725 121.257345 \r\nL 300.728394 75.422521 \r\nL 301.033062 106.039379 \r\nL 301.33773 68.064826 \r\nL 301.642399 71.301408 \r\nL 301.947067 40.08146 \r\nL 302.251735 85.735356 \r\nL 302.556404 90.158015 \r\nL 302.861072 63.039078 \r\nL 303.16574 97.656431 \r\nL 303.470408 64.647317 \r\nL 303.775077 105.315671 \r\nL 304.079745 49.127807 \r\nL 304.384413 122.10167 \r\nL 304.689082 155.995316 \r\nL 304.99375 131.36915 \r\nL 305.298418 89.977088 \r\nL 305.603087 114.482636 \r\nL 305.907755 155.512844 \r\nL 306.212423 156.839642 \r\nL 306.517092 143.712387 \r\nL 306.82176 169.946793 \r\nL 307.126428 214.756364 \r\nL 307.735765 151.210804 \r\nL 308.040433 164.740118 \r\nL 308.345101 142.345384 \r\nL 308.64977 174.872026 \r\nL 308.954438 175.535425 \r\nL 309.259106 138.02324 \r\nL 309.563775 155.271608 \r\nL 309.868443 98.259521 \r\nL 310.477779 144.375786 \r\nL 311.087116 85.011649 \r\nL 311.391784 117.960454 \r\nL 311.696453 78.538485 \r\nL 312.001121 61.651971 \r\nL 312.305789 53.269023 \r\nL 312.610458 81.051359 \r\nL 312.915126 93.515215 \r\nL 313.219794 60.928263 \r\nL 313.524463 89.213174 \r\nL 313.829131 82.920937 \r\nL 314.133799 20.139291 \r\nL 314.743136 100.832704 \r\nL 315.047804 118.684161 \r\nL 315.352472 125.036707 \r\nL 315.657141 97.596122 \r\nL 315.961809 105.798143 \r\nL 316.266477 173.786465 \r\nL 316.571146 192.421939 \r\nL 316.875814 111.246054 \r\nL 317.48515 177.445209 \r\nL 317.789819 166.790623 \r\nL 318.094487 151.813893 \r\nL 318.703824 112.753779 \r\nL 319.008492 174.329245 \r\nL 319.31316 180.319937 \r\nL 319.617829 174.268936 \r\nL 320.227165 97.053341 \r\nL 320.531834 129.76091 \r\nL 320.836502 130.96709 \r\nL 321.14117 124.735162 \r\nL 321.445838 80.347754 \r\nL 321.750507 91.786357 \r\nL 322.055175 80.287445 \r\nL 322.359843 46.675242 \r\nL 322.664512 49.489661 \r\nL 322.96918 29.487183 \r\nL 323.273848 87.343596 \r\nL 323.578517 54.997881 \r\nL 323.883185 89.916779 \r\nL 324.187853 104.8332 \r\nL 324.79719 63.380829 \r\nL 325.711195 150.668023 \r\nL 326.015863 88.489466 \r\nL 326.6252 124.312999 \r\nL 326.929868 135.088204 \r\nL 327.234536 126.644947 \r\nL 327.539205 183.49621 \r\nL 327.843873 180.380246 \r\nL 328.453209 162.950951 \r\nL 328.757878 189.909065 \r\nL 329.062546 117.477982 \r\nL 329.367214 148.456694 \r\nL 329.671883 143.833005 \r\nL 329.976551 144.556713 \r\nL 330.281219 141.742294 \r\nL 330.890556 101.375485 \r\nL 331.195224 111.125436 \r\nL 331.499893 125.157325 \r\nL 331.804561 97.173959 \r\nL 332.109229 83.825572 \r\nL 332.413897 85.433812 \r\nL 332.718566 81.835376 \r\nL 333.023234 52.786551 \r\nL 333.327902 71.060172 \r\nL 333.937239 83.101864 \r\nL 334.241907 105.195053 \r\nL 334.546576 64.526699 \r\nL 334.851244 43.981441 \r\nL 335.46058 103.767741 \r\nL 335.765249 107.949163 \r\nL 336.374585 78.23694 \r\nL 336.679254 103.104342 \r\nL 336.983922 168.821025 \r\nL 337.28859 182.772502 \r\nL 337.593259 126.825874 \r\nL 337.897927 173.665847 \r\nL 338.202595 169.363806 \r\nL 338.507264 206.916196 \r\nL 339.1166 127.851126 \r\nL 339.421268 117.417673 \r\nL 339.725937 134.263981 \r\nL 340.335273 198.533249 \r\nL 340.639942 175.173571 \r\nL 340.94461 139.169111 \r\nL 341.249278 83.463718 \r\nL 341.553947 130.544927 \r\nL 341.858615 126.644947 \r\nL 342.163283 88.791011 \r\nL 342.77262 112.271307 \r\nL 343.077288 58.837552 \r\nL 343.381956 29.607801 \r\nL 343.686625 54.334482 \r\nL 343.991293 48.122657 \r\nL 344.295961 77.473026 \r\nL 344.60063 81.895685 \r\nL 344.905298 101.134249 \r\nL 345.209966 52.84686 \r\nL 345.514635 89.213174 \r\nL 345.819303 94.842012 \r\nL 346.123971 77.111173 \r\nL 346.428639 122.624348 \r\nL 346.733308 114.422327 \r\nL 347.037976 83.101864 \r\nL 347.342644 153.120588 \r\nL 347.647313 167.433919 \r\nL 347.951981 136.294383 \r\nL 348.256649 175.776661 \r\nL 348.561318 176.359648 \r\nL 348.865986 174.691099 \r\nL 349.170654 134.666041 \r\nL 349.475322 137.962932 \r\nL 349.779991 155.633462 \r\nL 350.084659 129.157821 \r\nL 350.389327 191.879158 \r\nL 350.693996 148.275767 \r\nL 350.998664 140.475806 \r\nL 351.303332 143.410843 \r\nL 351.608001 113.578001 \r\nL 351.912669 107.064632 \r\nL 352.217337 141.501058 \r\nL 352.522006 65.853497 \r\nL 352.826674 94.600776 \r\nL 353.131342 100.953322 \r\nL 353.43601 75.060667 \r\nL 353.740679 78.478176 \r\nL 354.045347 58.656625 \r\nL 354.350015 115.628507 \r\nL 354.654684 109.034725 \r\nL 354.959352 119.046015 \r\nL 355.568689 50.333986 \r\nL 356.178025 69.673065 \r\nL 356.482693 105.315671 \r\nL 356.787362 79.744665 \r\nL 357.09203 95.786853 \r\nL 357.396698 66.436483 \r\nL 358.006035 138.746948 \r\nL 358.310703 129.459366 \r\nL 358.615372 180.862718 \r\nL 358.92004 157.382422 \r\nL 359.224708 174.449863 \r\nL 359.529377 145.039185 \r\nL 359.834045 151.45204 \r\nL 360.138713 125.097016 \r\nL 360.443381 119.809929 \r\nL 360.74805 166.911241 \r\nL 361.052718 192.301321 \r\nL 361.357386 145.521657 \r\nL 361.662055 121.800125 \r\nL 361.966723 119.74962 \r\nL 362.271391 119.809929 \r\nL 362.57606 114.84449 \r\nL 362.880728 117.116128 \r\nL 363.185396 114.422327 \r\nL 363.490064 103.526505 \r\nL 363.794733 108.250708 \r\nL 364.099401 72.487484 \r\nL 364.708738 40.865477 \r\nL 365.013406 96.028089 \r\nL 365.622743 111.004818 \r\nL 365.927411 45.18762 \r\nL 366.232079 47.519567 \r\nL 366.536748 38.593839 \r\nL 366.841416 92.268829 \r\nL 367.146084 102.923415 \r\nL 367.450752 109.577506 \r\nL 367.755421 95.022939 \r\nL 368.060089 129.821219 \r\nL 368.364757 149.160298 \r\nL 368.669426 135.389748 \r\nL 368.974094 108.793489 \r\nL 369.278762 166.489078 \r\nL 369.583431 179.777156 \r\nL 370.192767 125.921239 \r\nL 370.497436 148.818548 \r\nL 370.802104 135.148513 \r\nL 371.106772 161.624154 \r\nL 371.41144 169.946793 \r\nL 371.716109 147.612368 \r\nL 372.020777 158.146336 \r\nL 372.325445 72.246248 \r\nL 372.934782 159.895297 \r\nL 373.544119 65.551952 \r\nL 373.848787 115.387271 \r\nL 374.153455 68.185444 \r\nL 374.458123 70.095228 \r\nL 374.762792 70.155537 \r\nL 375.06746 127.60989 \r\nL 375.372128 86.09721 \r\nL 375.676797 24.401126 \r\nL 375.981465 115.326962 \r\nL 376.286133 37.387659 \r\nL 376.590802 35.477875 \r\nL 376.89547 59.802496 \r\nL 377.200138 118.865088 \r\nL 377.504807 138.62633 \r\nL 377.809475 119.809929 \r\nL 378.114143 89.916779 \r\nL 378.418811 151.99482 \r\nL 378.72348 159.834988 \r\nL 379.028148 156.899951 \r\nL 379.332816 144.858258 \r\nL 379.637485 165.101972 \r\nL 379.942153 158.749426 \r\nL 380.246821 142.646929 \r\nL 380.55149 154.266459 \r\nL 380.856158 125.097016 \r\nL 381.160826 135.811911 \r\nL 381.465494 200.382724 \r\nL 382.074831 157.141187 \r\nL 382.379499 169.243188 \r\nL 382.684168 120.593946 \r\nL 382.988836 101.07394 \r\nL 383.293504 143.350534 \r\nL 383.598173 110.542449 \r\nL 383.902841 116.472832 \r\nL 384.207509 105.436289 \r\nL 384.512178 80.709608 \r\nL 384.816846 77.352408 \r\nL 385.121514 63.32052 \r\nL 385.426182 79.925592 \r\nL 385.730851 84.529177 \r\nL 386.035519 96.148707 \r\nL 386.340187 130.183073 \r\nL 386.644856 98.31983 \r\nL 386.949524 53.269023 \r\nL 387.254192 45.891225 \r\nL 387.558861 91.60543 \r\nL 387.863529 120.171783 \r\nL 388.168197 133.841818 \r\nL 388.472865 102.742488 \r\nL 388.777534 156.598406 \r\nL 389.082202 145.883511 \r\nL 389.38687 150.969568 \r\nL 389.691539 134.424805 \r\nL 389.996207 184.340536 \r\nL 390.300875 152.457189 \r\nL 390.910212 134.203672 \r\nL 391.21488 164.559191 \r\nL 391.519549 136.47531 \r\nL 391.824217 133.419655 \r\nL 392.128885 155.633462 \r\nL 392.433553 168.700407 \r\nL 392.738222 153.542751 \r\nL 393.04289 73.392119 \r\nL 393.347558 106.823396 \r\nL 393.652227 127.127418 \r\nL 393.956895 132.454712 \r\nL 394.261563 60.626719 \r\nL 394.566232 109.155343 \r\nL 394.8709 104.612067 \r\nL 395.175568 65.913806 \r\nL 395.175568 65.913806 \r\n\" style=\"fill:none;stroke:#1f77b4;stroke-linecap:square;stroke-width:1.5;\"/>\r\n   </g>\r\n   <g id=\"patch_3\">\r\n    <path d=\"M 75.59375 224.64 \r\nL 75.59375 7.2 \r\n\" style=\"fill:none;stroke:#000000;stroke-linecap:square;stroke-linejoin:miter;stroke-width:0.8;\"/>\r\n   </g>\r\n   <g id=\"patch_4\">\r\n    <path d=\"M 410.39375 224.64 \r\nL 410.39375 7.2 \r\n\" style=\"fill:none;stroke:#000000;stroke-linecap:square;stroke-linejoin:miter;stroke-width:0.8;\"/>\r\n   </g>\r\n   <g id=\"patch_5\">\r\n    <path d=\"M 75.59375 224.64 \r\nL 410.39375 224.64 \r\n\" style=\"fill:none;stroke:#000000;stroke-linecap:square;stroke-linejoin:miter;stroke-width:0.8;\"/>\r\n   </g>\r\n   <g id=\"patch_6\">\r\n    <path d=\"M 75.59375 7.2 \r\nL 410.39375 7.2 \r\n\" style=\"fill:none;stroke:#000000;stroke-linecap:square;stroke-linejoin:miter;stroke-width:0.8;\"/>\r\n   </g>\r\n  </g>\r\n </g>\r\n <defs>\r\n  <clipPath id=\"pe1d0f45eef\">\r\n   <rect height=\"217.44\" width=\"334.8\" x=\"75.59375\" y=\"7.2\"/>\r\n  </clipPath>\r\n </defs>\r\n</svg>\r\n",
      "image/png": "[encoded data removed]"
     },
     "metadata": {
      "needs_background": "light"
     }
    }
   ],
   "metadata": {}
  },
  {
   "cell_type": "code",
   "execution_count": 16,
   "source": [
    "b1 = 0.01\r\n",
    "h1 =0.002\r\n",
    "l1 = 0.2\r\n",
    "E =  69*pow(10,9)\r\n",
    "I1 = (b1*pow(h1,3)/12)\r\n",
    "A1 = b1*h1\r\n",
    "M = 11.27*pow(10,-3)\r\n",
    "rho1 = M/(A1*l1)"
   ],
   "outputs": [],
   "metadata": {}
  },
  {
   "cell_type": "code",
   "execution_count": 17,
   "source": [
    "w01 = pow((1.875/l1),2)*np.sqrt((E*I1)/(rho1*A1))\r\n",
    "w11 = pow((4.694/l1),2)*np.sqrt((E*I1)/(rho1*A1))\r\n",
    "w21 = pow((7.85/l1),2)*np.sqrt((E*I1)/(rho1*A1))\r\n",
    "w31 = pow((10.995/l1),2)*np.sqrt((E*I1)/(rho1*A1))"
   ],
   "outputs": [],
   "metadata": {}
  },
  {
   "cell_type": "code",
   "execution_count": 18,
   "source": [
    "print(f\"I1 = {I1}\\nA1 = {A1}\\nrho = {rho1}\\nw01 = {w01}\\nw11 = {w11}\\nw21 = {w21}\\nw31 = {w31}\")"
   ],
   "outputs": [
    {
     "output_type": "stream",
     "name": "stdout",
     "text": [
      "I1 = 6.666666666666667e-12\n",
      "A1 = 2e-05\n",
      "rho = 2817.4999999999995\n",
      "w01 = 251.11607142857144\n",
      "w11 = 1573.8311428571426\n",
      "w21 = 4401.607142857141\n",
      "w31 = 8635.001785714283\n"
     ]
    }
   ],
   "metadata": {}
  },
  {
   "cell_type": "markdown",
   "source": [
    "### Fourier Transformation "
   ],
   "metadata": {}
  },
  {
   "cell_type": "code",
   "execution_count": 19,
   "source": [
    "dt = AlBeam_Data['Time'][1]-AlBeam_Data['Time'][0]\r\n",
    "N = len(AlBeam_Data['Accelerometer'])"
   ],
   "outputs": [],
   "metadata": {}
  },
  {
   "cell_type": "code",
   "execution_count": 67,
   "source": [
    "F_Al = np.fft.fft(AlBeam_Data['Accelerometer'])\r\n",
    "Amplitude_Al = 2.0*np.abs(F_Al[0:int(N/2)])/N\r\n",
    "Frequency_Al = np.linspace(0.0,1.0/(2*dt),int(N/2))"
   ],
   "outputs": [],
   "metadata": {}
  },
  {
   "cell_type": "code",
   "execution_count": 62,
   "source": [
    "px.line(x=Frequency_Al,y=Amplitude_Al,log_y=True)"
   ],
   "outputs": [
    {
     "output_type": "display_data",
     "data": {
      "application/vnd.plotly.v1+json": {
       "config": {
        "plotlyServerURL": "https://plot.ly"
       },
       "data": [
        {
         "hovertemplate": "x=%{x}<br>y=%{y}<extra></extra>",
         "legendgroup": "",
         "line": {
          "color": "#636efa",
          "dash": "solid"
         },
         "mode": "lines",
         "name": "",
         "orientation": "v",
         "showlegend": false,
         "type": "scatter",
         "x": [
          0,
          1.001001001001001,
          2.002002002002002,
          3.0030030030030033,
          4.004004004004004,
          5.005005005005005,
          6.0060060060060065,
          7.007007007007008,
          8.008008008008009,
          9.00900900900901,
          10.01001001001001,
          11.011011011011012,
          12.012012012012013,
          13.013013013013014,
          14.014014014014016,
          15.015015015015017,
          16.016016016016017,
          17.017017017017018,
          18.01801801801802,
          19.01901901901902,
          20.02002002002002,
          21.021021021021024,
          22.022022022022025,
          23.023023023023026,
          24.024024024024026,
          25.025025025025027,
          26.026026026026027,
          27.027027027027028,
          28.028028028028032,
          29.029029029029033,
          30.030030030030034,
          31.031031031031034,
          32.032032032032035,
          33.033033033033036,
          34.034034034034036,
          35.03503503503504,
          36.03603603603604,
          37.03703703703704,
          38.03803803803804,
          39.03903903903904,
          40.04004004004004,
          41.04104104104105,
          42.04204204204205,
          43.04304304304305,
          44.04404404404405,
          45.04504504504505,
          46.04604604604605,
          47.04704704704705,
          48.04804804804805,
          49.04904904904905,
          50.050050050050054,
          51.051051051051054,
          52.052052052052055,
          53.053053053053056,
          54.054054054054056,
          55.05505505505506,
          56.056056056056065,
          57.057057057057065,
          58.058058058058066,
          59.05905905905907,
          60.06006006006007,
          61.06106106106107,
          62.06206206206207,
          63.06306306306307,
          64.06406406406407,
          65.06506506506507,
          66.06606606606607,
          67.06706706706707,
          68.06806806806807,
          69.06906906906907,
          70.07007007007007,
          71.07107107107107,
          72.07207207207207,
          73.07307307307308,
          74.07407407407408,
          75.07507507507508,
          76.07607607607608,
          77.07707707707708,
          78.07807807807808,
          79.07907907907908,
          80.08008008008008,
          81.0810810810811,
          82.0820820820821,
          83.0830830830831,
          84.0840840840841,
          85.0850850850851,
          86.0860860860861,
          87.0870870870871,
          88.0880880880881,
          89.0890890890891,
          90.0900900900901,
          91.0910910910911,
          92.0920920920921,
          93.0930930930931,
          94.0940940940941,
          95.0950950950951,
          96.0960960960961,
          97.0970970970971,
          98.0980980980981,
          99.0990990990991,
          100.10010010010011,
          101.10110110110111,
          102.10210210210211,
          103.10310310310311,
          104.10410410410411,
          105.10510510510511,
          106.10610610610611,
          107.10710710710711,
          108.10810810810811,
          109.10910910910911,
          110.11011011011011,
          111.11111111111111,
          112.11211211211213,
          113.11311311311313,
          114.11411411411413,
          115.11511511511513,
          116.11611611611613,
          117.11711711711713,
          118.11811811811813,
          119.11911911911913,
          120.12012012012013,
          121.12112112112113,
          122.12212212212214,
          123.12312312312314,
          124.12412412412414,
          125.12512512512514,
          126.12612612612614,
          127.12712712712714,
          128.12812812812814,
          129.12912912912915,
          130.13013013013014,
          131.13113113113116,
          132.13213213213214,
          133.13313313313316,
          134.13413413413414,
          135.13513513513516,
          136.13613613613614,
          137.13713713713716,
          138.13813813813815,
          139.13913913913916,
          140.14014014014015,
          141.14114114114116,
          142.14214214214215,
          143.14314314314316,
          144.14414414414415,
          145.14514514514516,
          146.14614614614615,
          147.14714714714717,
          148.14814814814815,
          149.14914914914917,
          150.15015015015015,
          151.15115115115117,
          152.15215215215215,
          153.15315315315317,
          154.15415415415416,
          155.15515515515517,
          156.15615615615616,
          157.15715715715717,
          158.15815815815816,
          159.15915915915917,
          160.16016016016016,
          161.16116116116117,
          162.1621621621622,
          163.16316316316318,
          164.1641641641642,
          165.16516516516518,
          166.1661661661662,
          167.16716716716718,
          168.1681681681682,
          169.16916916916918,
          170.1701701701702,
          171.17117117117118,
          172.1721721721722,
          173.17317317317318,
          174.1741741741742,
          175.17517517517518,
          176.1761761761762,
          177.17717717717719,
          178.1781781781782,
          179.1791791791792,
          180.1801801801802,
          181.1811811811812,
          182.1821821821822,
          183.1831831831832,
          184.1841841841842,
          185.1851851851852,
          186.1861861861862,
          187.1871871871872,
          188.1881881881882,
          189.1891891891892,
          190.1901901901902,
          191.1911911911912,
          192.1921921921922,
          193.19319319319322,
          194.1941941941942,
          195.19519519519523,
          196.1961961961962,
          197.19719719719723,
          198.1981981981982,
          199.19919919919923,
          200.20020020020021,
          201.20120120120123,
          202.20220220220222,
          203.20320320320323,
          204.20420420420422,
          205.20520520520523,
          206.20620620620622,
          207.20720720720723,
          208.20820820820822,
          209.20920920920923,
          210.21021021021022,
          211.21121121121124,
          212.21221221221222,
          213.21321321321324,
          214.21421421421422,
          215.21521521521524,
          216.21621621621622,
          217.21721721721724,
          218.21821821821823,
          219.21921921921924,
          220.22022022022023,
          221.22122122122124,
          222.22222222222223,
          223.22322322322324,
          224.22422422422426,
          225.22522522522524,
          226.22622622622626,
          227.22722722722725,
          228.22822822822826,
          229.22922922922925,
          230.23023023023026,
          231.23123123123125,
          232.23223223223226,
          233.23323323323325,
          234.23423423423426,
          235.23523523523525,
          236.23623623623627,
          237.23723723723725,
          238.23823823823827,
          239.23923923923925,
          240.24024024024027,
          241.24124124124126,
          242.24224224224227,
          243.24324324324326,
          244.24424424424427,
          245.24524524524526,
          246.24624624624627,
          247.24724724724726,
          248.24824824824827,
          249.24924924924926,
          250.25025025025028,
          251.25125125125126,
          252.25225225225228,
          253.25325325325326,
          254.25425425425428,
          255.25525525525526,
          256.2562562562563,
          257.25725725725727,
          258.2582582582583,
          259.2592592592593,
          260.2602602602603,
          261.26126126126127,
          262.2622622622623,
          263.2632632632633,
          264.2642642642643,
          265.26526526526527,
          266.2662662662663,
          267.2672672672673,
          268.2682682682683,
          269.2692692692693,
          270.2702702702703,
          271.2712712712713,
          272.2722722722723,
          273.2732732732733,
          274.2742742742743,
          275.2752752752753,
          276.2762762762763,
          277.2772772772773,
          278.2782782782783,
          279.2792792792793,
          280.2802802802803,
          281.2812812812813,
          282.2822822822823,
          283.2832832832833,
          284.2842842842843,
          285.2852852852853,
          286.2862862862863,
          287.2872872872873,
          288.2882882882883,
          289.28928928928934,
          290.29029029029033,
          291.2912912912913,
          292.2922922922923,
          293.29329329329335,
          294.29429429429433,
          295.2952952952953,
          296.2962962962963,
          297.29729729729735,
          298.29829829829833,
          299.2992992992993,
          300.3003003003003,
          301.30130130130135,
          302.30230230230234,
          303.3033033033033,
          304.3043043043043,
          305.30530530530535,
          306.30630630630634,
          307.3073073073073,
          308.3083083083083,
          309.30930930930936,
          310.31031031031034,
          311.31131131131133,
          312.3123123123123,
          313.31331331331336,
          314.31431431431434,
          315.31531531531533,
          316.3163163163163,
          317.31731731731736,
          318.31831831831835,
          319.31931931931933,
          320.3203203203203,
          321.32132132132136,
          322.32232232232235,
          323.32332332332334,
          324.3243243243244,
          325.32532532532537,
          326.32632632632635,
          327.32732732732734,
          328.3283283283284,
          329.32932932932937,
          330.33033033033036,
          331.33133133133134,
          332.3323323323324,
          333.33333333333337,
          334.33433433433436,
          335.33533533533534,
          336.3363363363364,
          337.3373373373374,
          338.33833833833836,
          339.33933933933935,
          340.3403403403404,
          341.3413413413414,
          342.34234234234236,
          343.34334334334335,
          344.3443443443444,
          345.3453453453454,
          346.34634634634637,
          347.34734734734735,
          348.3483483483484,
          349.3493493493494,
          350.35035035035037,
          351.35135135135135,
          352.3523523523524,
          353.3533533533534,
          354.35435435435437,
          355.3553553553554,
          356.3563563563564,
          357.3573573573574,
          358.3583583583584,
          359.3593593593594,
          360.3603603603604,
          361.3613613613614,
          362.3623623623624,
          363.3633633633634,
          364.3643643643644,
          365.3653653653654,
          366.3663663663664,
          367.3673673673674,
          368.3683683683684,
          369.3693693693694,
          370.3703703703704,
          371.3713713713714,
          372.3723723723724,
          373.3733733733734,
          374.3743743743744,
          375.3753753753754,
          376.3763763763764,
          377.3773773773774,
          378.3783783783784,
          379.37937937937943,
          380.3803803803804,
          381.3813813813814,
          382.3823823823824,
          383.38338338338343,
          384.3843843843844,
          385.3853853853854,
          386.38638638638645,
          387.38738738738743,
          388.3883883883884,
          389.3893893893894,
          390.39039039039045,
          391.39139139139144,
          392.3923923923924,
          393.3933933933934,
          394.39439439439445,
          395.39539539539544,
          396.3963963963964,
          397.3973973973974,
          398.39839839839846,
          399.39939939939944,
          400.40040040040043,
          401.4014014014014,
          402.40240240240246,
          403.40340340340344,
          404.40440440440443,
          405.4054054054054,
          406.40640640640646,
          407.40740740740745,
          408.40840840840843,
          409.4094094094094,
          410.41041041041046,
          411.41141141141145,
          412.41241241241244,
          413.4134134134134,
          414.41441441441447,
          415.41541541541545,
          416.41641641641644,
          417.4174174174175,
          418.41841841841847,
          419.41941941941946,
          420.42042042042044,
          421.4214214214215,
          422.42242242242247,
          423.42342342342346,
          424.42442442442444,
          425.4254254254255,
          426.4264264264265,
          427.42742742742746,
          428.42842842842845,
          429.4294294294295,
          430.4304304304305,
          431.43143143143146,
          432.43243243243245,
          433.4334334334335,
          434.4344344344345,
          435.43543543543547,
          436.43643643643645,
          437.4374374374375,
          438.4384384384385,
          439.43943943943947,
          440.44044044044045,
          441.4414414414415,
          442.4424424424425,
          443.44344344344347,
          444.44444444444446,
          445.4454454454455,
          446.4464464464465,
          447.4474474474475,
          448.4484484484485,
          449.4494494494495,
          450.4504504504505,
          451.4514514514515,
          452.4524524524525,
          453.4534534534535,
          454.4544544544545,
          455.4554554554555,
          456.4564564564565,
          457.4574574574575,
          458.4584584584585,
          459.4594594594595,
          460.4604604604605,
          461.4614614614615,
          462.4624624624625,
          463.4634634634635,
          464.4644644644645,
          465.4654654654655,
          466.4664664664665,
          467.4674674674675,
          468.46846846846853,
          469.4694694694695,
          470.4704704704705,
          471.4714714714715,
          472.47247247247253,
          473.4734734734735,
          474.4744744744745,
          475.4754754754755,
          476.47647647647653,
          477.4774774774775,
          478.4784784784785,
          479.4794794794795,
          480.48048048048054,
          481.4814814814815,
          482.4824824824825,
          483.48348348348355,
          484.48448448448454,
          485.4854854854855,
          486.4864864864865,
          487.48748748748756,
          488.48848848848854,
          489.48948948948953,
          490.4904904904905,
          491.49149149149156,
          492.49249249249254,
          493.49349349349353,
          494.4944944944945,
          495.49549549549556,
          496.49649649649655,
          497.49749749749753,
          498.4984984984985,
          499.49949949949956,
          500.50050050050055,
          501.50150150150154,
          502.5025025025025,
          503.50350350350357,
          504.50450450450455,
          505.50550550550554,
          506.5065065065065,
          507.50750750750757,
          508.50850850850856,
          509.50950950950954,
          510.5105105105105,
          511.51151151151157,
          512.5125125125126,
          513.5135135135135,
          514.5145145145145,
          515.5155155155155,
          516.5165165165166,
          517.5175175175176,
          518.5185185185186,
          519.5195195195196,
          520.5205205205206,
          521.5215215215215,
          522.5225225225225,
          523.5235235235235,
          524.5245245245246,
          525.5255255255256,
          526.5265265265266,
          527.5275275275276,
          528.5285285285286,
          529.5295295295296,
          530.5305305305305,
          531.5315315315315,
          532.5325325325326,
          533.5335335335336,
          534.5345345345346,
          535.5355355355356,
          536.5365365365366,
          537.5375375375376,
          538.5385385385385,
          539.5395395395395,
          540.5405405405406,
          541.5415415415416,
          542.5425425425426,
          543.5435435435436,
          544.5445445445446,
          545.5455455455456,
          546.5465465465466,
          547.5475475475477,
          548.5485485485486,
          549.5495495495496,
          550.5505505505506,
          551.5515515515516,
          552.5525525525526,
          553.5535535535536,
          554.5545545545546,
          555.5555555555557,
          556.5565565565566,
          557.5575575575576,
          558.5585585585586,
          559.5595595595596,
          560.5605605605606,
          561.5615615615616,
          562.5625625625626,
          563.5635635635637,
          564.5645645645646,
          565.5655655655656,
          566.5665665665666,
          567.5675675675676,
          568.5685685685686,
          569.5695695695696,
          570.5705705705706,
          571.5715715715717,
          572.5725725725727,
          573.5735735735736,
          574.5745745745746,
          575.5755755755756,
          576.5765765765766,
          577.5775775775776,
          578.5785785785787,
          579.5795795795797,
          580.5805805805807,
          581.5815815815816,
          582.5825825825826,
          583.5835835835836,
          584.5845845845846,
          585.5855855855856,
          586.5865865865867,
          587.5875875875877,
          588.5885885885887,
          589.5895895895897,
          590.5905905905906,
          591.5915915915916,
          592.5925925925926,
          593.5935935935936,
          594.5945945945947,
          595.5955955955957,
          596.5965965965967,
          597.5975975975977,
          598.5985985985986,
          599.5995995995996,
          600.6006006006006,
          601.6016016016016,
          602.6026026026027,
          603.6036036036037,
          604.6046046046047,
          605.6056056056057,
          606.6066066066066,
          607.6076076076076,
          608.6086086086086,
          609.6096096096097,
          610.6106106106107,
          611.6116116116117,
          612.6126126126127,
          613.6136136136137,
          614.6146146146147,
          615.6156156156156,
          616.6166166166166,
          617.6176176176177,
          618.6186186186187,
          619.6196196196197,
          620.6206206206207,
          621.6216216216217,
          622.6226226226227,
          623.6236236236236,
          624.6246246246246,
          625.6256256256257,
          626.6266266266267,
          627.6276276276277,
          628.6286286286287,
          629.6296296296297,
          630.6306306306307,
          631.6316316316316,
          632.6326326326326,
          633.6336336336337,
          634.6346346346347,
          635.6356356356357,
          636.6366366366367,
          637.6376376376377,
          638.6386386386387,
          639.6396396396397,
          640.6406406406406,
          641.6416416416417,
          642.6426426426427,
          643.6436436436437,
          644.6446446446447,
          645.6456456456457,
          646.6466466466467,
          647.6476476476477,
          648.6486486486488,
          649.6496496496497,
          650.6506506506507,
          651.6516516516517,
          652.6526526526527,
          653.6536536536537,
          654.6546546546547,
          655.6556556556557,
          656.6566566566568,
          657.6576576576578,
          658.6586586586587,
          659.6596596596597,
          660.6606606606607,
          661.6616616616617,
          662.6626626626627,
          663.6636636636637,
          664.6646646646648,
          665.6656656656658,
          666.6666666666667,
          667.6676676676677,
          668.6686686686687,
          669.6696696696697,
          670.6706706706707,
          671.6716716716717,
          672.6726726726728,
          673.6736736736738,
          674.6746746746747,
          675.6756756756757,
          676.6766766766767,
          677.6776776776777,
          678.6786786786787,
          679.6796796796798,
          680.6806806806808,
          681.6816816816818,
          682.6826826826828,
          683.6836836836837,
          684.6846846846847,
          685.6856856856857,
          686.6866866866867,
          687.6876876876878,
          688.6886886886888,
          689.6896896896898,
          690.6906906906908,
          691.6916916916917,
          692.6926926926927,
          693.6936936936937,
          694.6946946946947,
          695.6956956956958,
          696.6966966966968,
          697.6976976976978,
          698.6986986986988,
          699.6996996996997,
          700.7007007007007,
          701.7017017017017,
          702.7027027027027,
          703.7037037037038,
          704.7047047047048,
          705.7057057057058,
          706.7067067067068,
          707.7077077077078,
          708.7087087087087,
          709.7097097097097,
          710.7107107107108,
          711.7117117117118,
          712.7127127127128,
          713.7137137137138,
          714.7147147147148,
          715.7157157157158,
          716.7167167167167,
          717.7177177177177,
          718.7187187187188,
          719.7197197197198,
          720.7207207207208,
          721.7217217217218,
          722.7227227227228,
          723.7237237237238,
          724.7247247247248,
          725.7257257257257,
          726.7267267267268,
          727.7277277277278,
          728.7287287287288,
          729.7297297297298,
          730.7307307307308,
          731.7317317317318,
          732.7327327327328,
          733.7337337337337,
          734.7347347347348,
          735.7357357357358,
          736.7367367367368,
          737.7377377377378,
          738.7387387387388,
          739.7397397397398,
          740.7407407407408,
          741.7417417417419,
          742.7427427427428,
          743.7437437437438,
          744.7447447447448,
          745.7457457457458,
          746.7467467467468,
          747.7477477477478,
          748.7487487487488,
          749.7497497497499,
          750.7507507507509,
          751.7517517517518,
          752.7527527527528,
          753.7537537537538,
          754.7547547547548,
          755.7557557557558,
          756.7567567567568,
          757.7577577577579,
          758.7587587587589,
          759.7597597597598,
          760.7607607607608,
          761.7617617617618,
          762.7627627627628,
          763.7637637637638,
          764.7647647647648,
          765.7657657657659,
          766.7667667667669,
          767.7677677677679,
          768.7687687687688,
          769.7697697697698,
          770.7707707707708,
          771.7717717717718,
          772.7727727727729,
          773.7737737737739,
          774.7747747747749,
          775.7757757757759,
          776.7767767767768,
          777.7777777777778,
          778.7787787787788,
          779.7797797797798,
          780.7807807807809,
          781.7817817817819,
          782.7827827827829,
          783.7837837837839,
          784.7847847847848,
          785.7857857857858,
          786.7867867867868,
          787.7877877877878,
          788.7887887887889,
          789.7897897897899,
          790.7907907907909,
          791.7917917917919,
          792.7927927927929,
          793.7937937937938,
          794.7947947947948,
          795.7957957957958,
          796.7967967967969,
          797.7977977977979,
          798.7987987987989,
          799.7997997997999,
          800.8008008008009,
          801.8018018018018,
          802.8028028028028,
          803.8038038038039,
          804.8048048048049,
          805.8058058058059,
          806.8068068068069,
          807.8078078078079,
          808.8088088088089,
          809.8098098098098,
          810.8108108108108,
          811.8118118118119,
          812.8128128128129,
          813.8138138138139,
          814.8148148148149,
          815.8158158158159,
          816.8168168168169,
          817.8178178178179,
          818.8188188188188,
          819.8198198198199,
          820.8208208208209,
          821.8218218218219,
          822.8228228228229,
          823.8238238238239,
          824.8248248248249,
          825.8258258258259,
          826.8268268268268,
          827.827827827828,
          828.8288288288289,
          829.8298298298299,
          830.8308308308309,
          831.8318318318319,
          832.8328328328329,
          833.8338338338339,
          834.834834834835,
          835.835835835836,
          836.8368368368369,
          837.8378378378379,
          838.8388388388389,
          839.8398398398399,
          840.8408408408409,
          841.8418418418419,
          842.842842842843,
          843.843843843844,
          844.8448448448449,
          845.8458458458459,
          846.8468468468469,
          847.8478478478479,
          848.8488488488489,
          849.8498498498499,
          850.850850850851,
          851.851851851852,
          852.852852852853,
          853.8538538538539,
          854.8548548548549,
          855.8558558558559,
          856.8568568568569,
          857.8578578578579,
          858.858858858859,
          859.85985985986,
          860.860860860861,
          861.8618618618619,
          862.8628628628629,
          863.8638638638639,
          864.8648648648649,
          865.865865865866,
          866.866866866867,
          867.867867867868,
          868.868868868869,
          869.86986986987,
          870.8708708708709,
          871.8718718718719,
          872.8728728728729,
          873.873873873874,
          874.874874874875,
          875.875875875876,
          876.876876876877,
          877.877877877878,
          878.8788788788789,
          879.8798798798799,
          880.8808808808809,
          881.881881881882,
          882.882882882883,
          883.883883883884,
          884.884884884885,
          885.885885885886,
          886.8868868868869,
          887.8878878878879,
          888.8888888888889,
          889.88988988989,
          890.890890890891,
          891.891891891892,
          892.892892892893,
          893.893893893894,
          894.894894894895,
          895.8958958958959,
          896.896896896897,
          897.897897897898,
          898.898898898899,
          899.8998998999,
          900.900900900901,
          901.901901901902,
          902.902902902903,
          903.9039039039039,
          904.904904904905,
          905.905905905906,
          906.906906906907,
          907.907907907908,
          908.908908908909,
          909.90990990991,
          910.910910910911,
          911.911911911912,
          912.912912912913,
          913.913913913914,
          914.914914914915,
          915.915915915916,
          916.916916916917,
          917.917917917918,
          918.918918918919,
          919.91991991992,
          920.920920920921,
          921.921921921922,
          922.922922922923,
          923.923923923924,
          924.924924924925,
          925.925925925926,
          926.926926926927,
          927.927927927928,
          928.928928928929,
          929.92992992993,
          930.930930930931,
          931.931931931932,
          932.932932932933,
          933.933933933934,
          934.934934934935,
          935.9359359359361,
          936.9369369369371,
          937.937937937938,
          938.938938938939,
          939.93993993994,
          940.940940940941,
          941.941941941942,
          942.942942942943,
          943.9439439439441,
          944.9449449449451,
          945.945945945946,
          946.946946946947,
          947.947947947948,
          948.948948948949,
          949.94994994995,
          950.950950950951,
          951.9519519519521,
          952.9529529529531,
          953.953953953954,
          954.954954954955,
          955.955955955956,
          956.956956956957,
          957.957957957958,
          958.958958958959,
          959.9599599599601,
          960.9609609609611,
          961.9619619619621,
          962.962962962963,
          963.963963963964,
          964.964964964965,
          965.965965965966,
          966.9669669669671,
          967.9679679679681,
          968.9689689689691,
          969.9699699699701,
          970.970970970971,
          971.971971971972,
          972.972972972973,
          973.973973973974,
          974.9749749749751,
          975.9759759759761,
          976.9769769769771,
          977.9779779779781,
          978.9789789789791,
          979.97997997998,
          980.980980980981,
          981.981981981982,
          982.9829829829831,
          983.9839839839841,
          984.9849849849851,
          985.9859859859861,
          986.9869869869871,
          987.987987987988,
          988.988988988989,
          989.98998998999,
          990.9909909909911,
          991.9919919919921,
          992.9929929929931,
          993.9939939939941,
          994.9949949949951,
          995.995995995996,
          996.996996996997,
          997.9979979979981,
          998.9989989989991,
          1000
         ],
         "xaxis": "x",
         "y": [
          0.6174649498660001,
          0.03869905509376335,
          0.02562899966914379,
          0.02347394609692322,
          0.024960267034746575,
          0.027864451755834536,
          0.03235794225709076,
          0.03820575234247499,
          0.04646732652315145,
          0.0578053193763194,
          0.07514463933920831,
          0.10469571396151596,
          0.16429524433240347,
          0.35487323363154805,
          3.388958188900273,
          0.3118039540927297,
          0.1666239284534441,
          0.11530085458663562,
          0.08900252520863244,
          0.0729494988420244,
          0.06195100489645474,
          0.054089044488685796,
          0.04816252363004224,
          0.043443358035319846,
          0.039684116344250155,
          0.03656848869464658,
          0.03409161998931936,
          0.031982954695096114,
          0.028486313096328104,
          0.027757207073243743,
          0.02631056714570895,
          0.02538003139337065,
          0.024060773102673714,
          0.02307469977032558,
          0.022134034140382397,
          0.021297975637819624,
          0.020494471967625678,
          0.019755669803653744,
          0.01905440098980076,
          0.018482356397219665,
          0.017846823561898564,
          0.01740106647752053,
          0.016652293808605844,
          0.016302253064298354,
          0.015476425708634632,
          0.015194249712500933,
          0.014912161780771647,
          0.014532944411438906,
          0.014214738476189166,
          0.013806503007907636,
          0.013448364651693702,
          0.01328194622490644,
          0.012953295022491235,
          0.012607953880303358,
          0.012435781981286297,
          0.012141200944570503,
          0.011866578978926963,
          0.01164254005168074,
          0.011382201727188337,
          0.011192947550573581,
          0.011019021909063167,
          0.010770558529640878,
          0.010616059791327789,
          0.010334969596192995,
          0.010223806036120277,
          0.010055028957761449,
          0.009890160833371436,
          0.009703101497248656,
          0.009540862117060954,
          0.009377013815082146,
          0.009289810877383002,
          0.009140462651753379,
          0.0090043476096319,
          0.00889614705869344,
          0.008712270071429313,
          0.008569701879351889,
          0.008454160519070457,
          0.008375348799257864,
          0.008352916181417007,
          0.00817529687830087,
          0.008056516998039455,
          0.007934863822270759,
          0.007809091090129802,
          0.0076833398335515455,
          0.007684433223647231,
          0.007596389215682842,
          0.007432076189979119,
          0.007340462364975979,
          0.007322059532814526,
          0.007295120301295952,
          0.007095223012854287,
          0.007049723799830618,
          0.007009356122408983,
          0.006962177151404919,
          0.0068049549976644625,
          0.0067794277436667135,
          0.006661689450125339,
          0.006589430971051251,
          0.00661680149431604,
          0.00648696345467056,
          0.006391307919143293,
          0.006327999787485869,
          0.006275791173310036,
          0.00619006207871507,
          0.006227309383326333,
          0.006100785398727494,
          0.006032381360007483,
          0.005982806502913586,
          0.005906692626579691,
          0.005837001455123926,
          0.005799749809110847,
          0.0057119922610665815,
          0.005720891252091884,
          0.005612862277320281,
          0.005637800307951301,
          0.0055974237287078005,
          0.005481586569400647,
          0.005444691336699724,
          0.005415681724302553,
          0.005323944181402694,
          0.005368726053494802,
          0.0053062967643292885,
          0.005243345736828477,
          0.005109008006296839,
          0.005146738567228692,
          0.005057803797333984,
          0.005130367258934476,
          0.0050765573331547275,
          0.00500841896083938,
          0.00498871618751426,
          0.004970466381362669,
          0.004969532069594943,
          0.004899574551270959,
          0.004793747104758963,
          0.004759495904221939,
          0.004747684487613123,
          0.004687881893423596,
          0.0048640010643905204,
          0.004799853915989482,
          0.004700780004408046,
          0.004662035318175934,
          0.004602792100656102,
          0.004508612347582577,
          0.004409919191498542,
          0.004544054576885017,
          0.004368908859744907,
          0.004444251576835247,
          0.004362423418580902,
          0.004344780116768694,
          0.004348481809122461,
          0.004312220770819359,
          0.004265597453091243,
          0.004290240498163792,
          0.004331463336966022,
          0.004201513187492097,
          0.004140064811920427,
          0.004129761219926324,
          0.004130248552118098,
          0.004086116962754711,
          0.004025393249835029,
          0.004000561655578257,
          0.004062315719386938,
          0.0040057544116724325,
          0.003990502146576526,
          0.003969396507784151,
          0.003955572318452592,
          0.003940398800542014,
          0.003916695029633079,
          0.0039350689165676515,
          0.0038844777944795107,
          0.0038670651274707265,
          0.0038306232273253417,
          0.0038574559066570234,
          0.0037839955597742444,
          0.0037194228584325234,
          0.0036962845777830772,
          0.003762421351400167,
          0.003716692829942941,
          0.003697889946246484,
          0.0036631655977989526,
          0.003641005642446011,
          0.003683058296630733,
          0.0036020681357959773,
          0.003600383844987261,
          0.0035579804729221286,
          0.003496363845959606,
          0.0035255907376406555,
          0.0034715674388197675,
          0.003467303299755804,
          0.003491982506888253,
          0.0034779473814927557,
          0.003463259081378992,
          0.003409228635147663,
          0.003426714779126558,
          0.0034343160084320526,
          0.0033366972194176442,
          0.003344859578351081,
          0.00340130599040657,
          0.0033567071048386226,
          0.0033527946490648263,
          0.0033036379306824607,
          0.0032898753716113604,
          0.0032593769968869164,
          0.0032495813108062636,
          0.0032402987854294307,
          0.003192499744534823,
          0.0032162952729114036,
          0.0032125226448491986,
          0.0031585111263258635,
          0.003209055250124388,
          0.003180367406393369,
          0.00319314565979411,
          0.0032071354389470765,
          0.0030677907369199894,
          0.003114997303373188,
          0.003125154681210599,
          0.0031134851659638516,
          0.0031522270183463093,
          0.003092502463893468,
          0.0030648202766775236,
          0.003042463359262579,
          0.0030671318698153663,
          0.002987690194622125,
          0.0030124940529341216,
          0.002978929806493316,
          0.002988926431534122,
          0.002966580809449399,
          0.002992668130020553,
          0.002965035980444298,
          0.0029678192689239417,
          0.0029611327249861276,
          0.00288780618876785,
          0.0029083521754224902,
          0.0029093256204568473,
          0.0029031151133763426,
          0.0029107746630464356,
          0.0028908306993476293,
          0.0028623037938544623,
          0.0028622700915898205,
          0.0028182115801164195,
          0.0028470638823349537,
          0.002822686898699706,
          0.0028049118216046626,
          0.0028049473976293573,
          0.002837668010444385,
          0.002813476098749745,
          0.002798493771275602,
          0.0027994064205106874,
          0.0027548472907257733,
          0.0027904033647112763,
          0.002761216107239322,
          0.0027257832996546334,
          0.002696558732116092,
          0.002709483685792393,
          0.002746765631418526,
          0.0027189613591295397,
          0.0027151381655437855,
          0.0027068928466481763,
          0.002729165102886819,
          0.0026748740615838845,
          0.002713989235809339,
          0.002648788838214697,
          0.0026432452957598383,
          0.00266082557410289,
          0.0026547186361922147,
          0.0026574056593960506,
          0.0026970141523982127,
          0.002591360554034376,
          0.002603733788116082,
          0.0026164386811447352,
          0.002578262972295454,
          0.002583522044613065,
          0.0025743446601563273,
          0.0025735334128750864,
          0.002559967575994795,
          0.0025176810987081384,
          0.0025432641783536525,
          0.002507808065445537,
          0.0025489492161074457,
          0.0025062291525007,
          0.0025596060166345014,
          0.0025265690642746336,
          0.00248128259571603,
          0.0025114329142659074,
          0.0025003977266985712,
          0.002534552744321057,
          0.00247486823163171,
          0.002480011717176291,
          0.002459965172596815,
          0.0024354835470490775,
          0.002471323377365681,
          0.0024376043432130803,
          0.0024103039063268937,
          0.002433727496479501,
          0.002448980745489425,
          0.0024230354481791254,
          0.002437767698106806,
          0.0024346221673309247,
          0.0024029450335940313,
          0.0023957533062590576,
          0.00241880868185994,
          0.0023943950036448107,
          0.002376536175126433,
          0.00240353219700705,
          0.0023844689917317187,
          0.0023866068495355364,
          0.0023850787498295276,
          0.0023740729264685838,
          0.0023725069904940482,
          0.00233827825553194,
          0.002340585446528814,
          0.0023592720635476462,
          0.0024007237588821156,
          0.002327312534526219,
          0.002332274394812199,
          0.0022812750804907067,
          0.0023280548794570245,
          0.0023276705836298597,
          0.0023174942801405143,
          0.002316256342137535,
          0.002300701876230711,
          0.0023156163817018493,
          0.002284301912935732,
          0.002300198639586799,
          0.002291535726051957,
          0.0023015764313815803,
          0.002323242394183849,
          0.0022604277297323338,
          0.0022829457755892185,
          0.002259793965870759,
          0.002261688783043516,
          0.002268904752175717,
          0.002236854901839109,
          0.0022152632919118062,
          0.0022454162586233,
          0.0022398652093092507,
          0.002204798323753449,
          0.002247346794238622,
          0.0022373814501604155,
          0.0022052549990846763,
          0.002235445304117943,
          0.0022002117485102925,
          0.002210929105692062,
          0.002231538091750461,
          0.0022501703338924065,
          0.0022214929482793737,
          0.0021885082356876005,
          0.0022230084394309463,
          0.0021957737556843964,
          0.0022170549740229456,
          0.0021924009915611515,
          0.0021828619762383466,
          0.002185676436659903,
          0.0021627701953771724,
          0.0021914186726878604,
          0.002177188329788925,
          0.002119467414075338,
          0.0021385429288929086,
          0.002142026817486233,
          0.002129440537260674,
          0.0021667535364451747,
          0.0021673823859568314,
          0.0021184001762042737,
          0.002099512387472299,
          0.0021179155024475434,
          0.0021404316026639586,
          0.002107754089880681,
          0.0021067657246868193,
          0.0021268110083754593,
          0.002074153656129119,
          0.0020958851066291513,
          0.0021107037317593313,
          0.00212724323191092,
          0.0021152776803388938,
          0.0020861461391501303,
          0.002117954665871618,
          0.0020788311758021595,
          0.0021250698237783227,
          0.0020792165069808155,
          0.0020919537215868464,
          0.002079263551628642,
          0.0020668811194792082,
          0.0020888189731961913,
          0.002099221155040566,
          0.002072322252502084,
          0.002076861059701163,
          0.002093692156426421,
          0.0020723524091692492,
          0.002087018979525807,
          0.0021341722875910037,
          0.0020810764053034825,
          0.002056609036229748,
          0.0020439449043287454,
          0.0020581762985766115,
          0.002077811798440885,
          0.002045048300287593,
          0.0020599942056108767,
          0.002037492022719106,
          0.002033378185107106,
          0.002037693958496389,
          0.002027102994594258,
          0.002063729382758032,
          0.0020253889374240424,
          0.002027603297643288,
          0.002023823326948697,
          0.002007144646551421,
          0.0020311655624573534,
          0.0020033364131184033,
          0.0020098126874652064,
          0.002059874640082903,
          0.0020386174013273736,
          0.0020287661240436373,
          0.002052163978176552,
          0.002032128929538262,
          0.0020294280870441113,
          0.001988035635447335,
          0.0020591645980821663,
          0.002007060552076566,
          0.00199380425714435,
          0.00198895466501849,
          0.002040163402287095,
          0.002007256489770572,
          0.0020088335156811725,
          0.0019914093706035847,
          0.002009900712706,
          0.001982653504983461,
          0.001998128045244425,
          0.0019727512297377826,
          0.0019945956925678746,
          0.002019257480088976,
          0.001984443023496317,
          0.0019791556917133865,
          0.0019812961647000444,
          0.0019878833845073693,
          0.001996970291266042,
          0.001990885656317236,
          0.0019848990765812457,
          0.0019758403770718507,
          0.0019861523182626096,
          0.00197795140265757,
          0.0019930091026805776,
          0.0019802059904578274,
          0.0019726262793278364,
          0.0019854810142822124,
          0.0019767633441491535,
          0.0019725182830672185,
          0.0019713576131699944,
          0.001980448289587559,
          0.0019672603341466042,
          0.0019693532388580476,
          0.0019683434733349246,
          0.0019632456285696037,
          0.0019649687356783924,
          0.0019645729360076216,
          0.0019639548176187626,
          0.001965550604800249,
          0.0019619474694696987,
          0.0019603036309734515,
          0.001961443131537466,
          0.001961303298571631,
          0.0019589039561134416,
          0.0019603863655497373,
          0.001958231845582403,
          0.0019564082747903994,
          0.0019570308293285015,
          0.0019547040405621377,
          0.001954430584171112,
          0.0019538822545701294,
          0.001953752206857017,
          0.001953549733149165,
          0.0019516901290512504,
          0.0019518760940814765,
          0.001950977777028515,
          0.0019503336480116945,
          0.001949561006452417,
          0.001949592589657418,
          0.0019487575401751628,
          0.0019481552220355209,
          0.00194764024126409,
          0.0019473077686177722,
          0.0019468207630885593,
          0.001946629569287968,
          0.001946323995145247,
          0.001945905188974178,
          0.001945536321327176,
          0.0019452918782318495,
          0.0019450657268239907,
          0.0019448479439893467,
          0.001944480972297063,
          0.0019442467506475905,
          0.001944069169998246,
          0.0019439385930111299,
          0.0019438662441014116,
          0.0019436264156951356,
          0.0019434737914006059,
          0.0019433351122632979,
          0.0019432311792160308,
          0.001943224522892291,
          0.0019432723173345352,
          0.0019431272371553017,
          0.0019431875179999837,
          0.0019431272371552965,
          0.001943272317334552,
          0.0019432245228922838,
          0.0019432311792160336,
          0.001943335112263293,
          0.0019434737914007904,
          0.0019436264156951345,
          0.0019438662441014056,
          0.0019439385930111312,
          0.0019440691699982896,
          0.0019442467506475833,
          0.0019444809722970638,
          0.0019448479439893487,
          0.0019450657268239944,
          0.0019452918782318553,
          0.0019455363213271757,
          0.0019459051889741728,
          0.001946323995145265,
          0.0019466295692879667,
          0.0019468207630885589,
          0.001947307768617778,
          0.0019476402412640563,
          0.0019481552220355237,
          0.0019487575401751654,
          0.001949592589657408,
          0.001949561006452387,
          0.0019503336480116917,
          0.0019509777770285145,
          0.0019518760940814815,
          0.0019516901290512194,
          0.0019535497331491687,
          0.0019537522068570124,
          0.001953882254570118,
          0.001954430584171088,
          0.001954704040562131,
          0.0019570308293284993,
          0.0019564082747903886,
          0.0019582318455823935,
          0.001960386365549736,
          0.001958903956113439,
          0.001961303298571629,
          0.0019614431315375185,
          0.001960303630973452,
          0.001961947469469694,
          0.001965550604800253,
          0.0019639548176185496,
          0.0019645729360076324,
          0.001964968735678387,
          0.0019632456285696063,
          0.001968343473334922,
          0.0019693532388580515,
          0.001967260334146603,
          0.00198044828958756,
          0.001971357613170038,
          0.001972518283067216,
          0.001976763344149152,
          0.001985481014282218,
          0.001972626279327813,
          0.001980205990457829,
          0.001993009102680577,
          0.00197795140265757,
          0.0019861523182626586,
          0.001975840377071853,
          0.0019848990765812475,
          0.0019908856563172366,
          0.001996970291266016,
          0.0019878833845073636,
          0.001981296164700044,
          0.00197915569171339,
          0.001984443023496334,
          0.0020192574800889642,
          0.0019945956925678647,
          0.001972751229737789,
          0.0019981280452445105,
          0.0019826535049834834,
          0.0020099007127060025,
          0.001991409370603578,
          0.0020088335156810146,
          0.0020072564897705733,
          0.0020401634022870953,
          0.001988954665018488,
          0.001993804257144386,
          0.0020070605520765643,
          0.002059164598082172,
          0.0019880356354473375,
          0.002029428087043857,
          0.002032128929538264,
          0.0020521639781765646,
          0.0020287661240436425,
          0.0020386174013273944,
          0.0020598746400829087,
          0.0020098126874652073,
          0.0020033364131184,
          0.0020311655624573586,
          0.0020071446465514233,
          0.0020238233269486965,
          0.0020276032976432883,
          0.0020253889374239934,
          0.0020637293827580343,
          0.002027102994594258,
          0.0020376939584963952,
          0.002033378185107174,
          0.0020374920227191045,
          0.0020599942056108776,
          0.0020450483002875967,
          0.0020778117984408912,
          0.0020581762985766036,
          0.002043944904328741,
          0.0020566090362297406,
          0.0020810764053035137,
          0.002134172287591009,
          0.0020870189795258146,
          0.0020723524091692683,
          0.002093692156426467,
          0.0020768610597011773,
          0.002072322252502083,
          0.0020992211550405634,
          0.0020888189731961934,
          0.0020668811194792178,
          0.002079263551628641,
          0.002091953721586842,
          0.0020792165069808,
          0.0021250698237783357,
          0.0020788311758021664,
          0.0021179546658716165,
          0.0020861461391501654,
          0.0021152776803388825,
          0.00212724323191093,
          0.002110703731759327,
          0.002095885106629135,
          0.0020741536561291146,
          0.0021268110083754624,
          0.002106765724686821,
          0.0021077540898806345,
          0.0021404316026639647,
          0.0021179155024475425,
          0.0020995123874722943,
          0.002118400176204305,
          0.0021673823859568392,
          0.002166753536445175,
          0.0021294405372606737,
          0.00214202681748622,
          0.002138542928892908,
          0.0021194674140753438,
          0.002177188329788929,
          0.0021914186726878834,
          0.002162770195377175,
          0.0021856764366599024,
          0.002182861976238351,
          0.0021924009915611133,
          0.0022170549740229513,
          0.002195773755684406,
          0.002223008439430953,
          0.0021885082356875476,
          0.002221492948279378,
          0.002250170333892406,
          0.0022315380917504652,
          0.0022109291056920293,
          0.002200211748510275,
          0.002235445304117941,
          0.002205254999084686,
          0.002237381450160406,
          0.002247346794238617,
          0.0022047983237534446,
          0.0022398652093092693,
          0.0022454162586233186,
          0.002215263291911815,
          0.002236854901839102,
          0.0022689047521757097,
          0.0022616887830434855,
          0.002259793965870761,
          0.0022829457755892215,
          0.0022604277297323385,
          0.002323242394183903,
          0.0023015764313815807,
          0.0022915357260519576,
          0.0023001986395867974,
          0.0022843019129357277,
          0.0023156163817018446,
          0.0023007018762307113,
          0.00231625634213753,
          0.0023174942801406076,
          0.002327670583629864,
          0.0023280548794570323,
          0.0022812750804907024,
          0.002332274394812152,
          0.0023273125345262126,
          0.002400723758882118,
          0.002359272063547646,
          0.002340585446528836,
          0.002338278255531936,
          0.0023725069904940465,
          0.0023740729264685833,
          0.002385078749829426,
          0.002386606849535533,
          0.002384468991731721,
          0.002403532197007055,
          0.0023765361751264097,
          0.0023943950036448124,
          0.002418808681859941,
          0.002395753306259053,
          0.0024029450335940586,
          0.0024346221673309226,
          0.002437767698106804,
          0.0024230354481791345,
          0.002448980745489342,
          0.0024337274964795308,
          0.0024103039063269023,
          0.002437604343213074,
          0.002471323377365693,
          0.002435483547049073,
          0.002459965172596817,
          0.00248001171717629,
          0.002474868231631717,
          0.0025345527443210495,
          0.0025003977266985747,
          0.002511432914265907,
          0.0024812825957160564,
          0.0025265690642746375,
          0.0025596060166345014,
          0.0025062291525007048,
          0.0025489492161074275,
          0.002507808065445537,
          0.002543264178353656,
          0.0025176810987081297,
          0.002559967575994822,
          0.0025735334128750885,
          0.002574344660156327,
          0.002583522044613069,
          0.0025782629722955115,
          0.00261643868114472,
          0.0026037337881160906,
          0.0025913605540343865,
          0.0026970141523981715,
          0.002657405659396047,
          0.00265471863619222,
          0.0026608255741028737,
          0.002643245295759789,
          0.0026487888382147004,
          0.0027139892358093425,
          0.002674874061583881,
          0.0027291651028867746,
          0.0027068928466481793,
          0.00271513816554378,
          0.002718961359129545,
          0.00274676563141846,
          0.002709483685792382,
          0.0026965587321160877,
          0.0027257832996546347,
          0.0027612161072393354,
          0.002790403364711274,
          0.0027548472907257754,
          0.002799406420510682,
          0.0027984937712755746,
          0.0028134760987497454,
          0.002837668010444386,
          0.0028049473976293573,
          0.0028049118216046344,
          0.0028226868986997037,
          0.0028470638823349537,
          0.0028182115801164186,
          0.0028622700915898144,
          0.0028623037938544597,
          0.00289083069934763,
          0.0029107746630464347,
          0.0029031151133763378,
          0.002909325620456844,
          0.0029083521754224876,
          0.0028878061887678565,
          0.002961132724986118,
          0.002967819268923942,
          0.0029650359804443078,
          0.0029926681300205577,
          0.002966580809449245,
          0.002988926431534119,
          0.002978929806493312,
          0.0030124940529341116,
          0.002987690194622092,
          0.0030671318698153676,
          0.003042463359262577,
          0.003064820276677533,
          0.003092502463893427,
          0.003152227018346311,
          0.0031134851659638555,
          0.0031251546812105825,
          0.003114997303373249,
          0.003067790736920011,
          0.0032071354389470756,
          0.0031931456597941053,
          0.0031803674063933586,
          0.0032090552501243944,
          0.003158511126325862,
          0.0032125226448492055,
          0.0032162952729114912,
          0.003192499744534822,
          0.0032402987854294346,
          0.0032495813108062576,
          0.0032593769968868587,
          0.0032898753716113674,
          0.0033036379306824607,
          0.0033527946490648263,
          0.0033567071048386113,
          0.0034013059904065687,
          0.003344859578351081,
          0.0033366972194176356,
          0.003434316008432081,
          0.003426714779126558,
          0.0034092286351476626,
          0.003463259081378996,
          0.00347794738149272,
          0.003491982506888256,
          0.003467303299755807,
          0.003471567438819766,
          0.003525590737640283,
          0.0034963638459595886,
          0.003557980472922137,
          0.0036003838449872607,
          0.003602068135795997,
          0.0036830582966307273,
          0.0036410056424460106,
          0.0036631655977989604,
          0.0036978899462465275,
          0.0037166928299429383,
          0.0037624213514001626,
          0.003696284577783085,
          0.003719422858432549,
          0.003783995559774234,
          0.0038574559066570173,
          0.003830623227325337,
          0.003867065127470713,
          0.003884477794479508,
          0.003935068916567651,
          0.003916695029633075,
          0.003940398800542025,
          0.003955572318452591,
          0.003969396507784152,
          0.003990502146576524,
          0.004005754411672475,
          0.004062315719386942,
          0.004000561655578256,
          0.004025393249835022,
          0.004086116962754721,
          0.004130248552118102,
          0.004129761219926327,
          0.004140064811920426,
          0.004201513187492093,
          0.004331463336966026,
          0.004290240498163792,
          0.0042655974530912445,
          0.004312220770819402,
          0.004348481809122455,
          0.004344780116768696,
          0.004362423418580891,
          0.004444251576835325,
          0.004368908859744921,
          0.004544054576885015,
          0.0044099191914985306,
          0.004508612347582492,
          0.004602792100656106,
          0.0046620353181759284,
          0.004700780004408038,
          0.00479985391598948,
          0.00486400106439053,
          0.004687881893423595,
          0.0047476844876131186,
          0.00475949590422193,
          0.004793747104758949,
          0.00489957455127096,
          0.004969532069594945,
          0.004970466381362695,
          0.004988716187514264,
          0.005008418960839378,
          0.005076557333154723,
          0.005130367258934437,
          0.005057803797333992,
          0.00514673856722869,
          0.005109008006296842,
          0.005243345736828511,
          0.005306296764329286,
          0.005368726053494801,
          0.0053239441814026955,
          0.005415681724302548,
          0.0054446913366997226,
          0.005481586569400649,
          0.005597423728707802,
          0.005637800307951285,
          0.0056128622773202845,
          0.005720891252091884,
          0.005711992261066585,
          0.005799749809110836,
          0.005837001455123933,
          0.005906692626579695,
          0.005982806502913575,
          0.006032381360007411,
          0.006100785398727499,
          0.006227309383326334,
          0.0061900620787150714,
          0.006275791173309975,
          0.006327999787485864,
          0.0063913079191432924,
          0.0064869634546705635,
          0.0066168014943160025,
          0.006589430971051248,
          0.0066616894501253365,
          0.0067794277436667135,
          0.006804954997664479,
          0.006962177151404922,
          0.007009356122408986,
          0.007049723799830627,
          0.007095223012854265,
          0.007295120301295956,
          0.007322059532814527,
          0.0073404623649759825,
          0.0074320761899790855,
          0.007596389215682848,
          0.007684433223647227,
          0.007683339833551533,
          0.007809091090129834,
          0.00793486382227077,
          0.008056516998039456,
          0.008175296878300879,
          0.00835291618141701,
          0.008375348799257856,
          0.008454160519070456,
          0.008569701879351896,
          0.008712270071429301,
          0.008896147058693439,
          0.009004347609631896,
          0.009140462651753382,
          0.009289810877383026,
          0.009377013815082155,
          0.009540862117060945,
          0.009703101497248654,
          0.009890160833371442,
          0.01005502895776145,
          0.010223806036120272,
          0.010334969596192988,
          0.01061605979132775,
          0.01077055852964088,
          0.011019021909063169,
          0.011192947550573585,
          0.01138220172718832,
          0.01164254005168074,
          0.011866578978926954,
          0.012141200944570496,
          0.012435781981286292,
          0.012607953880303361,
          0.01295329502249124,
          0.013281946224906442,
          0.013448364651693691,
          0.013806503007907641,
          0.014214738476189166,
          0.014532944411438915,
          0.01491216178077172,
          0.015194249712500921,
          0.015476425708634632,
          0.016302253064298344,
          0.01665229380860596,
          0.017401066477520523,
          0.017846823561898564,
          0.01848235639721965,
          0.019054400989800716,
          0.01975566980365376,
          0.020494471967625678,
          0.021297975637819627,
          0.02213403414038234,
          0.023074699770325578,
          0.02406077310267371,
          0.025380031393370646,
          0.026310567145709,
          0.02775720707324373,
          0.028486313096328097,
          0.03198295469509612,
          0.03409161998931949,
          0.036568488694646586,
          0.039684116344250155,
          0.043443358035319846,
          0.048162523630042295,
          0.054089044488685796,
          0.06195100489645474,
          0.0729494988420244,
          0.0890025252086324,
          0.11530085458663562,
          0.16662392845344412,
          0.3118039540927297,
          3.3889581889002733,
          0.35487323363154805,
          0.16429524433240347,
          0.10469571396151593,
          0.07514463933920837,
          0.0578053193763194,
          0.046467326523151456,
          0.038205752342474995,
          0.032357942257090794,
          0.027864451755834522,
          0.024960267034746565,
          0.02347394609692322,
          0.025628999669143795,
          0.03869905509376334
         ],
         "yaxis": "y"
        }
       ],
       "layout": {
        "legend": {
         "tracegroupgap": 0
        },
        "margin": {
         "t": 60
        },
        "template": {
         "data": {
          "bar": [
           {
            "error_x": {
             "color": "#2a3f5f"
            },
            "error_y": {
             "color": "#2a3f5f"
            },
            "marker": {
             "line": {
              "color": "#E5ECF6",
              "width": 0.5
             },
             "pattern": {
              "fillmode": "overlay",
              "size": 10,
              "solidity": 0.2
             }
            },
            "type": "bar"
           }
          ],
          "barpolar": [
           {
            "marker": {
             "line": {
              "color": "#E5ECF6",
              "width": 0.5
             },
             "pattern": {
              "fillmode": "overlay",
              "size": 10,
              "solidity": 0.2
             }
            },
            "type": "barpolar"
           }
          ],
          "carpet": [
           {
            "aaxis": {
             "endlinecolor": "#2a3f5f",
             "gridcolor": "white",
             "linecolor": "white",
             "minorgridcolor": "white",
             "startlinecolor": "#2a3f5f"
            },
            "baxis": {
             "endlinecolor": "#2a3f5f",
             "gridcolor": "white",
             "linecolor": "white",
             "minorgridcolor": "white",
             "startlinecolor": "#2a3f5f"
            },
            "type": "carpet"
           }
          ],
          "choropleth": [
           {
            "colorbar": {
             "outlinewidth": 0,
             "ticks": ""
            },
            "type": "choropleth"
           }
          ],
          "contour": [
           {
            "colorbar": {
             "outlinewidth": 0,
             "ticks": ""
            },
            "colorscale": [
             [
              0,
              "#0d0887"
             ],
             [
              0.1111111111111111,
              "#46039f"
             ],
             [
              0.2222222222222222,
              "#7201a8"
             ],
             [
              0.3333333333333333,
              "#9c179e"
             ],
             [
              0.4444444444444444,
              "#bd3786"
             ],
             [
              0.5555555555555556,
              "#d8576b"
             ],
             [
              0.6666666666666666,
              "#ed7953"
             ],
             [
              0.7777777777777778,
              "#fb9f3a"
             ],
             [
              0.8888888888888888,
              "#fdca26"
             ],
             [
              1,
              "#f0f921"
             ]
            ],
            "type": "contour"
           }
          ],
          "contourcarpet": [
           {
            "colorbar": {
             "outlinewidth": 0,
             "ticks": ""
            },
            "type": "contourcarpet"
           }
          ],
          "heatmap": [
           {
            "colorbar": {
             "outlinewidth": 0,
             "ticks": ""
            },
            "colorscale": [
             [
              0,
              "#0d0887"
             ],
             [
              0.1111111111111111,
              "#46039f"
             ],
             [
              0.2222222222222222,
              "#7201a8"
             ],
             [
              0.3333333333333333,
              "#9c179e"
             ],
             [
              0.4444444444444444,
              "#bd3786"
             ],
             [
              0.5555555555555556,
              "#d8576b"
             ],
             [
              0.6666666666666666,
              "#ed7953"
             ],
             [
              0.7777777777777778,
              "#fb9f3a"
             ],
             [
              0.8888888888888888,
              "#fdca26"
             ],
             [
              1,
              "#f0f921"
             ]
            ],
            "type": "heatmap"
           }
          ],
          "heatmapgl": [
           {
            "colorbar": {
             "outlinewidth": 0,
             "ticks": ""
            },
            "colorscale": [
             [
              0,
              "#0d0887"
             ],
             [
              0.1111111111111111,
              "#46039f"
             ],
             [
              0.2222222222222222,
              "#7201a8"
             ],
             [
              0.3333333333333333,
              "#9c179e"
             ],
             [
              0.4444444444444444,
              "#bd3786"
             ],
             [
              0.5555555555555556,
              "#d8576b"
             ],
             [
              0.6666666666666666,
              "#ed7953"
             ],
             [
              0.7777777777777778,
              "#fb9f3a"
             ],
             [
              0.8888888888888888,
              "#fdca26"
             ],
             [
              1,
              "#f0f921"
             ]
            ],
            "type": "heatmapgl"
           }
          ],
          "histogram": [
           {
            "marker": {
             "pattern": {
              "fillmode": "overlay",
              "size": 10,
              "solidity": 0.2
             }
            },
            "type": "histogram"
           }
          ],
          "histogram2d": [
           {
            "colorbar": {
             "outlinewidth": 0,
             "ticks": ""
            },
            "colorscale": [
             [
              0,
              "#0d0887"
             ],
             [
              0.1111111111111111,
              "#46039f"
             ],
             [
              0.2222222222222222,
              "#7201a8"
             ],
             [
              0.3333333333333333,
              "#9c179e"
             ],
             [
              0.4444444444444444,
              "#bd3786"
             ],
             [
              0.5555555555555556,
              "#d8576b"
             ],
             [
              0.6666666666666666,
              "#ed7953"
             ],
             [
              0.7777777777777778,
              "#fb9f3a"
             ],
             [
              0.8888888888888888,
              "#fdca26"
             ],
             [
              1,
              "#f0f921"
             ]
            ],
            "type": "histogram2d"
           }
          ],
          "histogram2dcontour": [
           {
            "colorbar": {
             "outlinewidth": 0,
             "ticks": ""
            },
            "colorscale": [
             [
              0,
              "#0d0887"
             ],
             [
              0.1111111111111111,
              "#46039f"
             ],
             [
              0.2222222222222222,
              "#7201a8"
             ],
             [
              0.3333333333333333,
              "#9c179e"
             ],
             [
              0.4444444444444444,
              "#bd3786"
             ],
             [
              0.5555555555555556,
              "#d8576b"
             ],
             [
              0.6666666666666666,
              "#ed7953"
             ],
             [
              0.7777777777777778,
              "#fb9f3a"
             ],
             [
              0.8888888888888888,
              "#fdca26"
             ],
             [
              1,
              "#f0f921"
             ]
            ],
            "type": "histogram2dcontour"
           }
          ],
          "mesh3d": [
           {
            "colorbar": {
             "outlinewidth": 0,
             "ticks": ""
            },
            "type": "mesh3d"
           }
          ],
          "parcoords": [
           {
            "line": {
             "colorbar": {
              "outlinewidth": 0,
              "ticks": ""
             }
            },
            "type": "parcoords"
           }
          ],
          "pie": [
           {
            "automargin": true,
            "type": "pie"
           }
          ],
          "scatter": [
           {
            "marker": {
             "colorbar": {
              "outlinewidth": 0,
              "ticks": ""
             }
            },
            "type": "scatter"
           }
          ],
          "scatter3d": [
           {
            "line": {
             "colorbar": {
              "outlinewidth": 0,
              "ticks": ""
             }
            },
            "marker": {
             "colorbar": {
              "outlinewidth": 0,
              "ticks": ""
             }
            },
            "type": "scatter3d"
           }
          ],
          "scattercarpet": [
           {
            "marker": {
             "colorbar": {
              "outlinewidth": 0,
              "ticks": ""
             }
            },
            "type": "scattercarpet"
           }
          ],
          "scattergeo": [
           {
            "marker": {
             "colorbar": {
              "outlinewidth": 0,
              "ticks": ""
             }
            },
            "type": "scattergeo"
           }
          ],
          "scattergl": [
           {
            "marker": {
             "colorbar": {
              "outlinewidth": 0,
              "ticks": ""
             }
            },
            "type": "scattergl"
           }
          ],
          "scattermapbox": [
           {
            "marker": {
             "colorbar": {
              "outlinewidth": 0,
              "ticks": ""
             }
            },
            "type": "scattermapbox"
           }
          ],
          "scatterpolar": [
           {
            "marker": {
             "colorbar": {
              "outlinewidth": 0,
              "ticks": ""
             }
            },
            "type": "scatterpolar"
           }
          ],
          "scatterpolargl": [
           {
            "marker": {
             "colorbar": {
              "outlinewidth": 0,
              "ticks": ""
             }
            },
            "type": "scatterpolargl"
           }
          ],
          "scatterternary": [
           {
            "marker": {
             "colorbar": {
              "outlinewidth": 0,
              "ticks": ""
             }
            },
            "type": "scatterternary"
           }
          ],
          "surface": [
           {
            "colorbar": {
             "outlinewidth": 0,
             "ticks": ""
            },
            "colorscale": [
             [
              0,
              "#0d0887"
             ],
             [
              0.1111111111111111,
              "#46039f"
             ],
             [
              0.2222222222222222,
              "#7201a8"
             ],
             [
              0.3333333333333333,
              "#9c179e"
             ],
             [
              0.4444444444444444,
              "#bd3786"
             ],
             [
              0.5555555555555556,
              "#d8576b"
             ],
             [
              0.6666666666666666,
              "#ed7953"
             ],
             [
              0.7777777777777778,
              "#fb9f3a"
             ],
             [
              0.8888888888888888,
              "#fdca26"
             ],
             [
              1,
              "#f0f921"
             ]
            ],
            "type": "surface"
           }
          ],
          "table": [
           {
            "cells": {
             "fill": {
              "color": "#EBF0F8"
             },
             "line": {
              "color": "white"
             }
            },
            "header": {
             "fill": {
              "color": "#C8D4E3"
             },
             "line": {
              "color": "white"
             }
            },
            "type": "table"
           }
          ]
         },
         "layout": {
          "annotationdefaults": {
           "arrowcolor": "#2a3f5f",
           "arrowhead": 0,
           "arrowwidth": 1
          },
          "autotypenumbers": "strict",
          "coloraxis": {
           "colorbar": {
            "outlinewidth": 0,
            "ticks": ""
           }
          },
          "colorscale": {
           "diverging": [
            [
             0,
             "#8e0152"
            ],
            [
             0.1,
             "#c51b7d"
            ],
            [
             0.2,
             "#de77ae"
            ],
            [
             0.3,
             "#f1b6da"
            ],
            [
             0.4,
             "#fde0ef"
            ],
            [
             0.5,
             "#f7f7f7"
            ],
            [
             0.6,
             "#e6f5d0"
            ],
            [
             0.7,
             "#b8e186"
            ],
            [
             0.8,
             "#7fbc41"
            ],
            [
             0.9,
             "#4d9221"
            ],
            [
             1,
             "#276419"
            ]
           ],
           "sequential": [
            [
             0,
             "#0d0887"
            ],
            [
             0.1111111111111111,
             "#46039f"
            ],
            [
             0.2222222222222222,
             "#7201a8"
            ],
            [
             0.3333333333333333,
             "#9c179e"
            ],
            [
             0.4444444444444444,
             "#bd3786"
            ],
            [
             0.5555555555555556,
             "#d8576b"
            ],
            [
             0.6666666666666666,
             "#ed7953"
            ],
            [
             0.7777777777777778,
             "#fb9f3a"
            ],
            [
             0.8888888888888888,
             "#fdca26"
            ],
            [
             1,
             "#f0f921"
            ]
           ],
           "sequentialminus": [
            [
             0,
             "#0d0887"
            ],
            [
             0.1111111111111111,
             "#46039f"
            ],
            [
             0.2222222222222222,
             "#7201a8"
            ],
            [
             0.3333333333333333,
             "#9c179e"
            ],
            [
             0.4444444444444444,
             "#bd3786"
            ],
            [
             0.5555555555555556,
             "#d8576b"
            ],
            [
             0.6666666666666666,
             "#ed7953"
            ],
            [
             0.7777777777777778,
             "#fb9f3a"
            ],
            [
             0.8888888888888888,
             "#fdca26"
            ],
            [
             1,
             "#f0f921"
            ]
           ]
          },
          "colorway": [
           "#636efa",
           "#EF553B",
           "#00cc96",
           "#ab63fa",
           "#FFA15A",
           "#19d3f3",
           "#FF6692",
           "#B6E880",
           "#FF97FF",
           "#FECB52"
          ],
          "font": {
           "color": "#2a3f5f"
          },
          "geo": {
           "bgcolor": "white",
           "lakecolor": "white",
           "landcolor": "#E5ECF6",
           "showlakes": true,
           "showland": true,
           "subunitcolor": "white"
          },
          "hoverlabel": {
           "align": "left"
          },
          "hovermode": "closest",
          "mapbox": {
           "style": "light"
          },
          "paper_bgcolor": "white",
          "plot_bgcolor": "#E5ECF6",
          "polar": {
           "angularaxis": {
            "gridcolor": "white",
            "linecolor": "white",
            "ticks": ""
           },
           "bgcolor": "#E5ECF6",
           "radialaxis": {
            "gridcolor": "white",
            "linecolor": "white",
            "ticks": ""
           }
          },
          "scene": {
           "xaxis": {
            "backgroundcolor": "#E5ECF6",
            "gridcolor": "white",
            "gridwidth": 2,
            "linecolor": "white",
            "showbackground": true,
            "ticks": "",
            "zerolinecolor": "white"
           },
           "yaxis": {
            "backgroundcolor": "#E5ECF6",
            "gridcolor": "white",
            "gridwidth": 2,
            "linecolor": "white",
            "showbackground": true,
            "ticks": "",
            "zerolinecolor": "white"
           },
           "zaxis": {
            "backgroundcolor": "#E5ECF6",
            "gridcolor": "white",
            "gridwidth": 2,
            "linecolor": "white",
            "showbackground": true,
            "ticks": "",
            "zerolinecolor": "white"
           }
          },
          "shapedefaults": {
           "line": {
            "color": "#2a3f5f"
           }
          },
          "ternary": {
           "aaxis": {
            "gridcolor": "white",
            "linecolor": "white",
            "ticks": ""
           },
           "baxis": {
            "gridcolor": "white",
            "linecolor": "white",
            "ticks": ""
           },
           "bgcolor": "#E5ECF6",
           "caxis": {
            "gridcolor": "white",
            "linecolor": "white",
            "ticks": ""
           }
          },
          "title": {
           "x": 0.05
          },
          "xaxis": {
           "automargin": true,
           "gridcolor": "white",
           "linecolor": "white",
           "ticks": "",
           "title": {
            "standoff": 15
           },
           "zerolinecolor": "white",
           "zerolinewidth": 2
          },
          "yaxis": {
           "automargin": true,
           "gridcolor": "white",
           "linecolor": "white",
           "ticks": "",
           "title": {
            "standoff": 15
           },
           "zerolinecolor": "white",
           "zerolinewidth": 2
          }
         }
        },
        "xaxis": {
         "anchor": "y",
         "domain": [
          0,
          1
         ],
         "title": {
          "text": "x"
         }
        },
        "yaxis": {
         "anchor": "x",
         "domain": [
          0,
          1
         ],
         "title": {
          "text": "y"
         },
         "type": "log"
        }
       }
      }
     },
     "metadata": {}
    }
   ],
   "metadata": {}
  },
  {
   "cell_type": "code",
   "execution_count": 22,
   "source": [
    "plt.grid();\r\n",
    "plt.plot(Frequency_Al,Amplitude_Al);plt.xlabel('Frequency [Hz]');plt.ylabel('|FFT(f)|');"
   ],
   "outputs": [
    {
     "output_type": "display_data",
     "data": {
      "text/plain": [
       "<Figure size 432x288 with 1 Axes>"
      ],
      "image/svg+xml": "<?xml version=\"1.0\" encoding=\"utf-8\" standalone=\"no\"?>\r\n<!DOCTYPE svg PUBLIC \"-//W3C//DTD SVG 1.1//EN\"\r\n  \"http://www.w3.org/Graphics/SVG/1.1/DTD/svg11.dtd\">\r\n<svg height=\"262.592447pt\" version=\"1.1\" viewBox=\"0 0 386.103125 262.592447\" width=\"386.103125pt\" xmlns=\"http://www.w3.org/2000/svg\" xmlns:xlink=\"http://www.w3.org/1999/xlink\">\r\n <metadata>\r\n  <rdf:RDF xmlns:cc=\"http://creativecommons.org/ns#\" xmlns:dc=\"http://purl.org/dc/elements/1.1/\" xmlns:rdf=\"http://www.w3.org/1999/02/22-rdf-syntax-ns#\">\r\n   <cc:Work>\r\n    <dc:type rdf:resource=\"http://purl.org/dc/dcmitype/StillImage\"/>\r\n    <dc:date>2021-08-27T14:06:43.473366</dc:date>\r\n    <dc:format>image/svg+xml</dc:format>\r\n    <dc:creator>\r\n     <cc:Agent>\r\n      <dc:title>Matplotlib v3.4.2, https://matplotlib.org/</dc:title>\r\n     </cc:Agent>\r\n    </dc:creator>\r\n   </cc:Work>\r\n  </rdf:RDF>\r\n </metadata>\r\n <defs>\r\n  <style type=\"text/css\">*{stroke-linecap:butt;stroke-linejoin:round;}</style>\r\n </defs>\r\n <g id=\"figure_1\">\r\n  <g id=\"patch_1\">\r\n   <path d=\"M 0 262.592447 \r\nL 386.103125 262.592447 \r\nL 386.103125 0 \r\nL 0 0 \r\nz\r\n\" style=\"fill:none;\"/>\r\n  </g>\r\n  <g id=\"axes_1\">\r\n   <g id=\"patch_2\">\r\n    <path d=\"M 44.103125 225.036197 \r\nL 378.903125 225.036197 \r\nL 378.903125 7.596197 \r\nL 44.103125 7.596197 \r\nz\r\n\" style=\"fill:#ffffff;\"/>\r\n   </g>\r\n   <g id=\"matplotlib.axis_1\">\r\n    <g id=\"xtick_1\">\r\n     <g id=\"line2d_1\">\r\n      <path clip-path=\"url(#p63ad4092d7)\" d=\"M 59.321307 225.036197 \r\nL 59.321307 7.596197 \r\n\" style=\"fill:none;stroke:#b0b0b0;stroke-linecap:square;stroke-width:0.8;\"/>\r\n     </g>\r\n     <g id=\"line2d_2\">\r\n      <defs>\r\n       <path d=\"M 0 0 \r\nL 0 3.5 \r\n\" id=\"m70fa3d4f4c\" style=\"stroke:#000000;stroke-width:0.8;\"/>\r\n      </defs>\r\n      <g>\r\n       <use style=\"stroke:#000000;stroke-width:0.8;\" x=\"59.321307\" xlink:href=\"#m70fa3d4f4c\" y=\"225.036197\"/>\r\n      </g>\r\n     </g>\r\n     <g id=\"text_1\">\r\n      <!-- 0 -->\r\n      <g transform=\"translate(56.140057 239.634634)scale(0.1 -0.1)\">\r\n       <defs>\r\n        <path d=\"M 2034 4250 \r\nQ 1547 4250 1301 3770 \r\nQ 1056 3291 1056 2328 \r\nQ 1056 1369 1301 889 \r\nQ 1547 409 2034 409 \r\nQ 2525 409 2770 889 \r\nQ 3016 1369 3016 2328 \r\nQ 3016 3291 2770 3770 \r\nQ 2525 4250 2034 4250 \r\nz\r\nM 2034 4750 \r\nQ 2819 4750 3233 4129 \r\nQ 3647 3509 3647 2328 \r\nQ 3647 1150 3233 529 \r\nQ 2819 -91 2034 -91 \r\nQ 1250 -91 836 529 \r\nQ 422 1150 422 2328 \r\nQ 422 3509 836 4129 \r\nQ 1250 4750 2034 4750 \r\nz\r\n\" id=\"DejaVuSans-30\" transform=\"scale(0.015625)\"/>\r\n       </defs>\r\n       <use xlink:href=\"#DejaVuSans-30\"/>\r\n      </g>\r\n     </g>\r\n    </g>\r\n    <g id=\"xtick_2\">\r\n     <g id=\"line2d_3\">\r\n      <path clip-path=\"url(#p63ad4092d7)\" d=\"M 120.194034 225.036197 \r\nL 120.194034 7.596197 \r\n\" style=\"fill:none;stroke:#b0b0b0;stroke-linecap:square;stroke-width:0.8;\"/>\r\n     </g>\r\n     <g id=\"line2d_4\">\r\n      <g>\r\n       <use style=\"stroke:#000000;stroke-width:0.8;\" x=\"120.194034\" xlink:href=\"#m70fa3d4f4c\" y=\"225.036197\"/>\r\n      </g>\r\n     </g>\r\n     <g id=\"text_2\">\r\n      <!-- 100 -->\r\n      <g transform=\"translate(110.650284 239.634634)scale(0.1 -0.1)\">\r\n       <defs>\r\n        <path d=\"M 794 531 \r\nL 1825 531 \r\nL 1825 4091 \r\nL 703 3866 \r\nL 703 4441 \r\nL 1819 4666 \r\nL 2450 4666 \r\nL 2450 531 \r\nL 3481 531 \r\nL 3481 0 \r\nL 794 0 \r\nL 794 531 \r\nz\r\n\" id=\"DejaVuSans-31\" transform=\"scale(0.015625)\"/>\r\n       </defs>\r\n       <use xlink:href=\"#DejaVuSans-31\"/>\r\n       <use x=\"63.623047\" xlink:href=\"#DejaVuSans-30\"/>\r\n       <use x=\"127.246094\" xlink:href=\"#DejaVuSans-30\"/>\r\n      </g>\r\n     </g>\r\n    </g>\r\n    <g id=\"xtick_3\">\r\n     <g id=\"line2d_5\">\r\n      <path clip-path=\"url(#p63ad4092d7)\" d=\"M 181.066761 225.036197 \r\nL 181.066761 7.596197 \r\n\" style=\"fill:none;stroke:#b0b0b0;stroke-linecap:square;stroke-width:0.8;\"/>\r\n     </g>\r\n     <g id=\"line2d_6\">\r\n      <g>\r\n       <use style=\"stroke:#000000;stroke-width:0.8;\" x=\"181.066761\" xlink:href=\"#m70fa3d4f4c\" y=\"225.036197\"/>\r\n      </g>\r\n     </g>\r\n     <g id=\"text_3\">\r\n      <!-- 200 -->\r\n      <g transform=\"translate(171.523011 239.634634)scale(0.1 -0.1)\">\r\n       <defs>\r\n        <path d=\"M 1228 531 \r\nL 3431 531 \r\nL 3431 0 \r\nL 469 0 \r\nL 469 531 \r\nQ 828 903 1448 1529 \r\nQ 2069 2156 2228 2338 \r\nQ 2531 2678 2651 2914 \r\nQ 2772 3150 2772 3378 \r\nQ 2772 3750 2511 3984 \r\nQ 2250 4219 1831 4219 \r\nQ 1534 4219 1204 4116 \r\nQ 875 4013 500 3803 \r\nL 500 4441 \r\nQ 881 4594 1212 4672 \r\nQ 1544 4750 1819 4750 \r\nQ 2544 4750 2975 4387 \r\nQ 3406 4025 3406 3419 \r\nQ 3406 3131 3298 2873 \r\nQ 3191 2616 2906 2266 \r\nQ 2828 2175 2409 1742 \r\nQ 1991 1309 1228 531 \r\nz\r\n\" id=\"DejaVuSans-32\" transform=\"scale(0.015625)\"/>\r\n       </defs>\r\n       <use xlink:href=\"#DejaVuSans-32\"/>\r\n       <use x=\"63.623047\" xlink:href=\"#DejaVuSans-30\"/>\r\n       <use x=\"127.246094\" xlink:href=\"#DejaVuSans-30\"/>\r\n      </g>\r\n     </g>\r\n    </g>\r\n    <g id=\"xtick_4\">\r\n     <g id=\"line2d_7\">\r\n      <path clip-path=\"url(#p63ad4092d7)\" d=\"M 241.939489 225.036197 \r\nL 241.939489 7.596197 \r\n\" style=\"fill:none;stroke:#b0b0b0;stroke-linecap:square;stroke-width:0.8;\"/>\r\n     </g>\r\n     <g id=\"line2d_8\">\r\n      <g>\r\n       <use style=\"stroke:#000000;stroke-width:0.8;\" x=\"241.939489\" xlink:href=\"#m70fa3d4f4c\" y=\"225.036197\"/>\r\n      </g>\r\n     </g>\r\n     <g id=\"text_4\">\r\n      <!-- 300 -->\r\n      <g transform=\"translate(232.395739 239.634634)scale(0.1 -0.1)\">\r\n       <defs>\r\n        <path d=\"M 2597 2516 \r\nQ 3050 2419 3304 2112 \r\nQ 3559 1806 3559 1356 \r\nQ 3559 666 3084 287 \r\nQ 2609 -91 1734 -91 \r\nQ 1441 -91 1130 -33 \r\nQ 819 25 488 141 \r\nL 488 750 \r\nQ 750 597 1062 519 \r\nQ 1375 441 1716 441 \r\nQ 2309 441 2620 675 \r\nQ 2931 909 2931 1356 \r\nQ 2931 1769 2642 2001 \r\nQ 2353 2234 1838 2234 \r\nL 1294 2234 \r\nL 1294 2753 \r\nL 1863 2753 \r\nQ 2328 2753 2575 2939 \r\nQ 2822 3125 2822 3475 \r\nQ 2822 3834 2567 4026 \r\nQ 2313 4219 1838 4219 \r\nQ 1578 4219 1281 4162 \r\nQ 984 4106 628 3988 \r\nL 628 4550 \r\nQ 988 4650 1302 4700 \r\nQ 1616 4750 1894 4750 \r\nQ 2613 4750 3031 4423 \r\nQ 3450 4097 3450 3541 \r\nQ 3450 3153 3228 2886 \r\nQ 3006 2619 2597 2516 \r\nz\r\n\" id=\"DejaVuSans-33\" transform=\"scale(0.015625)\"/>\r\n       </defs>\r\n       <use xlink:href=\"#DejaVuSans-33\"/>\r\n       <use x=\"63.623047\" xlink:href=\"#DejaVuSans-30\"/>\r\n       <use x=\"127.246094\" xlink:href=\"#DejaVuSans-30\"/>\r\n      </g>\r\n     </g>\r\n    </g>\r\n    <g id=\"xtick_5\">\r\n     <g id=\"line2d_9\">\r\n      <path clip-path=\"url(#p63ad4092d7)\" d=\"M 302.812216 225.036197 \r\nL 302.812216 7.596197 \r\n\" style=\"fill:none;stroke:#b0b0b0;stroke-linecap:square;stroke-width:0.8;\"/>\r\n     </g>\r\n     <g id=\"line2d_10\">\r\n      <g>\r\n       <use style=\"stroke:#000000;stroke-width:0.8;\" x=\"302.812216\" xlink:href=\"#m70fa3d4f4c\" y=\"225.036197\"/>\r\n      </g>\r\n     </g>\r\n     <g id=\"text_5\">\r\n      <!-- 400 -->\r\n      <g transform=\"translate(293.268466 239.634634)scale(0.1 -0.1)\">\r\n       <defs>\r\n        <path d=\"M 2419 4116 \r\nL 825 1625 \r\nL 2419 1625 \r\nL 2419 4116 \r\nz\r\nM 2253 4666 \r\nL 3047 4666 \r\nL 3047 1625 \r\nL 3713 1625 \r\nL 3713 1100 \r\nL 3047 1100 \r\nL 3047 0 \r\nL 2419 0 \r\nL 2419 1100 \r\nL 313 1100 \r\nL 313 1709 \r\nL 2253 4666 \r\nz\r\n\" id=\"DejaVuSans-34\" transform=\"scale(0.015625)\"/>\r\n       </defs>\r\n       <use xlink:href=\"#DejaVuSans-34\"/>\r\n       <use x=\"63.623047\" xlink:href=\"#DejaVuSans-30\"/>\r\n       <use x=\"127.246094\" xlink:href=\"#DejaVuSans-30\"/>\r\n      </g>\r\n     </g>\r\n    </g>\r\n    <g id=\"xtick_6\">\r\n     <g id=\"line2d_11\">\r\n      <path clip-path=\"url(#p63ad4092d7)\" d=\"M 363.684943 225.036197 \r\nL 363.684943 7.596197 \r\n\" style=\"fill:none;stroke:#b0b0b0;stroke-linecap:square;stroke-width:0.8;\"/>\r\n     </g>\r\n     <g id=\"line2d_12\">\r\n      <g>\r\n       <use style=\"stroke:#000000;stroke-width:0.8;\" x=\"363.684943\" xlink:href=\"#m70fa3d4f4c\" y=\"225.036197\"/>\r\n      </g>\r\n     </g>\r\n     <g id=\"text_6\">\r\n      <!-- 500 -->\r\n      <g transform=\"translate(354.141193 239.634634)scale(0.1 -0.1)\">\r\n       <defs>\r\n        <path d=\"M 691 4666 \r\nL 3169 4666 \r\nL 3169 4134 \r\nL 1269 4134 \r\nL 1269 2991 \r\nQ 1406 3038 1543 3061 \r\nQ 1681 3084 1819 3084 \r\nQ 2600 3084 3056 2656 \r\nQ 3513 2228 3513 1497 \r\nQ 3513 744 3044 326 \r\nQ 2575 -91 1722 -91 \r\nQ 1428 -91 1123 -41 \r\nQ 819 9 494 109 \r\nL 494 744 \r\nQ 775 591 1075 516 \r\nQ 1375 441 1709 441 \r\nQ 2250 441 2565 725 \r\nQ 2881 1009 2881 1497 \r\nQ 2881 1984 2565 2268 \r\nQ 2250 2553 1709 2553 \r\nQ 1456 2553 1204 2497 \r\nQ 953 2441 691 2322 \r\nL 691 4666 \r\nz\r\n\" id=\"DejaVuSans-35\" transform=\"scale(0.015625)\"/>\r\n       </defs>\r\n       <use xlink:href=\"#DejaVuSans-35\"/>\r\n       <use x=\"63.623047\" xlink:href=\"#DejaVuSans-30\"/>\r\n       <use x=\"127.246094\" xlink:href=\"#DejaVuSans-30\"/>\r\n      </g>\r\n     </g>\r\n    </g>\r\n    <g id=\"text_7\">\r\n     <!-- Frequency [Hz] -->\r\n     <g transform=\"translate(173.798437 253.312759)scale(0.1 -0.1)\">\r\n      <defs>\r\n       <path d=\"M 628 4666 \r\nL 3309 4666 \r\nL 3309 4134 \r\nL 1259 4134 \r\nL 1259 2759 \r\nL 3109 2759 \r\nL 3109 2228 \r\nL 1259 2228 \r\nL 1259 0 \r\nL 628 0 \r\nL 628 4666 \r\nz\r\n\" id=\"DejaVuSans-46\" transform=\"scale(0.015625)\"/>\r\n       <path d=\"M 2631 2963 \r\nQ 2534 3019 2420 3045 \r\nQ 2306 3072 2169 3072 \r\nQ 1681 3072 1420 2755 \r\nQ 1159 2438 1159 1844 \r\nL 1159 0 \r\nL 581 0 \r\nL 581 3500 \r\nL 1159 3500 \r\nL 1159 2956 \r\nQ 1341 3275 1631 3429 \r\nQ 1922 3584 2338 3584 \r\nQ 2397 3584 2469 3576 \r\nQ 2541 3569 2628 3553 \r\nL 2631 2963 \r\nz\r\n\" id=\"DejaVuSans-72\" transform=\"scale(0.015625)\"/>\r\n       <path d=\"M 3597 1894 \r\nL 3597 1613 \r\nL 953 1613 \r\nQ 991 1019 1311 708 \r\nQ 1631 397 2203 397 \r\nQ 2534 397 2845 478 \r\nQ 3156 559 3463 722 \r\nL 3463 178 \r\nQ 3153 47 2828 -22 \r\nQ 2503 -91 2169 -91 \r\nQ 1331 -91 842 396 \r\nQ 353 884 353 1716 \r\nQ 353 2575 817 3079 \r\nQ 1281 3584 2069 3584 \r\nQ 2775 3584 3186 3129 \r\nQ 3597 2675 3597 1894 \r\nz\r\nM 3022 2063 \r\nQ 3016 2534 2758 2815 \r\nQ 2500 3097 2075 3097 \r\nQ 1594 3097 1305 2825 \r\nQ 1016 2553 972 2059 \r\nL 3022 2063 \r\nz\r\n\" id=\"DejaVuSans-65\" transform=\"scale(0.015625)\"/>\r\n       <path d=\"M 947 1747 \r\nQ 947 1113 1208 752 \r\nQ 1469 391 1925 391 \r\nQ 2381 391 2643 752 \r\nQ 2906 1113 2906 1747 \r\nQ 2906 2381 2643 2742 \r\nQ 2381 3103 1925 3103 \r\nQ 1469 3103 1208 2742 \r\nQ 947 2381 947 1747 \r\nz\r\nM 2906 525 \r\nQ 2725 213 2448 61 \r\nQ 2172 -91 1784 -91 \r\nQ 1150 -91 751 415 \r\nQ 353 922 353 1747 \r\nQ 353 2572 751 3078 \r\nQ 1150 3584 1784 3584 \r\nQ 2172 3584 2448 3432 \r\nQ 2725 3281 2906 2969 \r\nL 2906 3500 \r\nL 3481 3500 \r\nL 3481 -1331 \r\nL 2906 -1331 \r\nL 2906 525 \r\nz\r\n\" id=\"DejaVuSans-71\" transform=\"scale(0.015625)\"/>\r\n       <path d=\"M 544 1381 \r\nL 544 3500 \r\nL 1119 3500 \r\nL 1119 1403 \r\nQ 1119 906 1312 657 \r\nQ 1506 409 1894 409 \r\nQ 2359 409 2629 706 \r\nQ 2900 1003 2900 1516 \r\nL 2900 3500 \r\nL 3475 3500 \r\nL 3475 0 \r\nL 2900 0 \r\nL 2900 538 \r\nQ 2691 219 2414 64 \r\nQ 2138 -91 1772 -91 \r\nQ 1169 -91 856 284 \r\nQ 544 659 544 1381 \r\nz\r\nM 1991 3584 \r\nL 1991 3584 \r\nz\r\n\" id=\"DejaVuSans-75\" transform=\"scale(0.015625)\"/>\r\n       <path d=\"M 3513 2113 \r\nL 3513 0 \r\nL 2938 0 \r\nL 2938 2094 \r\nQ 2938 2591 2744 2837 \r\nQ 2550 3084 2163 3084 \r\nQ 1697 3084 1428 2787 \r\nQ 1159 2491 1159 1978 \r\nL 1159 0 \r\nL 581 0 \r\nL 581 3500 \r\nL 1159 3500 \r\nL 1159 2956 \r\nQ 1366 3272 1645 3428 \r\nQ 1925 3584 2291 3584 \r\nQ 2894 3584 3203 3211 \r\nQ 3513 2838 3513 2113 \r\nz\r\n\" id=\"DejaVuSans-6e\" transform=\"scale(0.015625)\"/>\r\n       <path d=\"M 3122 3366 \r\nL 3122 2828 \r\nQ 2878 2963 2633 3030 \r\nQ 2388 3097 2138 3097 \r\nQ 1578 3097 1268 2742 \r\nQ 959 2388 959 1747 \r\nQ 959 1106 1268 751 \r\nQ 1578 397 2138 397 \r\nQ 2388 397 2633 464 \r\nQ 2878 531 3122 666 \r\nL 3122 134 \r\nQ 2881 22 2623 -34 \r\nQ 2366 -91 2075 -91 \r\nQ 1284 -91 818 406 \r\nQ 353 903 353 1747 \r\nQ 353 2603 823 3093 \r\nQ 1294 3584 2113 3584 \r\nQ 2378 3584 2631 3529 \r\nQ 2884 3475 3122 3366 \r\nz\r\n\" id=\"DejaVuSans-63\" transform=\"scale(0.015625)\"/>\r\n       <path d=\"M 2059 -325 \r\nQ 1816 -950 1584 -1140 \r\nQ 1353 -1331 966 -1331 \r\nL 506 -1331 \r\nL 506 -850 \r\nL 844 -850 \r\nQ 1081 -850 1212 -737 \r\nQ 1344 -625 1503 -206 \r\nL 1606 56 \r\nL 191 3500 \r\nL 800 3500 \r\nL 1894 763 \r\nL 2988 3500 \r\nL 3597 3500 \r\nL 2059 -325 \r\nz\r\n\" id=\"DejaVuSans-79\" transform=\"scale(0.015625)\"/>\r\n       <path id=\"DejaVuSans-20\" transform=\"scale(0.015625)\"/>\r\n       <path d=\"M 550 4863 \r\nL 1875 4863 \r\nL 1875 4416 \r\nL 1125 4416 \r\nL 1125 -397 \r\nL 1875 -397 \r\nL 1875 -844 \r\nL 550 -844 \r\nL 550 4863 \r\nz\r\n\" id=\"DejaVuSans-5b\" transform=\"scale(0.015625)\"/>\r\n       <path d=\"M 628 4666 \r\nL 1259 4666 \r\nL 1259 2753 \r\nL 3553 2753 \r\nL 3553 4666 \r\nL 4184 4666 \r\nL 4184 0 \r\nL 3553 0 \r\nL 3553 2222 \r\nL 1259 2222 \r\nL 1259 0 \r\nL 628 0 \r\nL 628 4666 \r\nz\r\n\" id=\"DejaVuSans-48\" transform=\"scale(0.015625)\"/>\r\n       <path d=\"M 353 3500 \r\nL 3084 3500 \r\nL 3084 2975 \r\nL 922 459 \r\nL 3084 459 \r\nL 3084 0 \r\nL 275 0 \r\nL 275 525 \r\nL 2438 3041 \r\nL 353 3041 \r\nL 353 3500 \r\nz\r\n\" id=\"DejaVuSans-7a\" transform=\"scale(0.015625)\"/>\r\n       <path d=\"M 1947 4863 \r\nL 1947 -844 \r\nL 622 -844 \r\nL 622 -397 \r\nL 1369 -397 \r\nL 1369 4416 \r\nL 622 4416 \r\nL 622 4863 \r\nL 1947 4863 \r\nz\r\n\" id=\"DejaVuSans-5d\" transform=\"scale(0.015625)\"/>\r\n      </defs>\r\n      <use xlink:href=\"#DejaVuSans-46\"/>\r\n      <use x=\"50.269531\" xlink:href=\"#DejaVuSans-72\"/>\r\n      <use x=\"89.132812\" xlink:href=\"#DejaVuSans-65\"/>\r\n      <use x=\"150.65625\" xlink:href=\"#DejaVuSans-71\"/>\r\n      <use x=\"214.132812\" xlink:href=\"#DejaVuSans-75\"/>\r\n      <use x=\"277.511719\" xlink:href=\"#DejaVuSans-65\"/>\r\n      <use x=\"339.035156\" xlink:href=\"#DejaVuSans-6e\"/>\r\n      <use x=\"402.414062\" xlink:href=\"#DejaVuSans-63\"/>\r\n      <use x=\"457.394531\" xlink:href=\"#DejaVuSans-79\"/>\r\n      <use x=\"516.574219\" xlink:href=\"#DejaVuSans-20\"/>\r\n      <use x=\"548.361328\" xlink:href=\"#DejaVuSans-5b\"/>\r\n      <use x=\"587.375\" xlink:href=\"#DejaVuSans-48\"/>\r\n      <use x=\"662.570312\" xlink:href=\"#DejaVuSans-7a\"/>\r\n      <use x=\"715.060547\" xlink:href=\"#DejaVuSans-5d\"/>\r\n     </g>\r\n    </g>\r\n   </g>\r\n   <g id=\"matplotlib.axis_2\">\r\n    <g id=\"ytick_1\">\r\n     <g id=\"line2d_13\">\r\n      <path clip-path=\"url(#p63ad4092d7)\" d=\"M 44.103125 215.265965 \r\nL 378.903125 215.265965 \r\n\" style=\"fill:none;stroke:#b0b0b0;stroke-linecap:square;stroke-width:0.8;\"/>\r\n     </g>\r\n     <g id=\"line2d_14\">\r\n      <defs>\r\n       <path d=\"M 0 0 \r\nL -3.5 0 \r\n\" id=\"me0b53d9d94\" style=\"stroke:#000000;stroke-width:0.8;\"/>\r\n      </defs>\r\n      <g>\r\n       <use style=\"stroke:#000000;stroke-width:0.8;\" x=\"44.103125\" xlink:href=\"#me0b53d9d94\" y=\"215.265965\"/>\r\n      </g>\r\n     </g>\r\n     <g id=\"text_8\">\r\n      <!-- 0.0 -->\r\n      <g transform=\"translate(21.2 219.065184)scale(0.1 -0.1)\">\r\n       <defs>\r\n        <path d=\"M 684 794 \r\nL 1344 794 \r\nL 1344 0 \r\nL 684 0 \r\nL 684 794 \r\nz\r\n\" id=\"DejaVuSans-2e\" transform=\"scale(0.015625)\"/>\r\n       </defs>\r\n       <use xlink:href=\"#DejaVuSans-30\"/>\r\n       <use x=\"63.623047\" xlink:href=\"#DejaVuSans-2e\"/>\r\n       <use x=\"95.410156\" xlink:href=\"#DejaVuSans-30\"/>\r\n      </g>\r\n     </g>\r\n    </g>\r\n    <g id=\"ytick_2\">\r\n     <g id=\"line2d_15\">\r\n      <path clip-path=\"url(#p63ad4092d7)\" d=\"M 44.103125 186.085001 \r\nL 378.903125 186.085001 \r\n\" style=\"fill:none;stroke:#b0b0b0;stroke-linecap:square;stroke-width:0.8;\"/>\r\n     </g>\r\n     <g id=\"line2d_16\">\r\n      <g>\r\n       <use style=\"stroke:#000000;stroke-width:0.8;\" x=\"44.103125\" xlink:href=\"#me0b53d9d94\" y=\"186.085001\"/>\r\n      </g>\r\n     </g>\r\n     <g id=\"text_9\">\r\n      <!-- 0.5 -->\r\n      <g transform=\"translate(21.2 189.88422)scale(0.1 -0.1)\">\r\n       <use xlink:href=\"#DejaVuSans-30\"/>\r\n       <use x=\"63.623047\" xlink:href=\"#DejaVuSans-2e\"/>\r\n       <use x=\"95.410156\" xlink:href=\"#DejaVuSans-35\"/>\r\n      </g>\r\n     </g>\r\n    </g>\r\n    <g id=\"ytick_3\">\r\n     <g id=\"line2d_17\">\r\n      <path clip-path=\"url(#p63ad4092d7)\" d=\"M 44.103125 156.904037 \r\nL 378.903125 156.904037 \r\n\" style=\"fill:none;stroke:#b0b0b0;stroke-linecap:square;stroke-width:0.8;\"/>\r\n     </g>\r\n     <g id=\"line2d_18\">\r\n      <g>\r\n       <use style=\"stroke:#000000;stroke-width:0.8;\" x=\"44.103125\" xlink:href=\"#me0b53d9d94\" y=\"156.904037\"/>\r\n      </g>\r\n     </g>\r\n     <g id=\"text_10\">\r\n      <!-- 1.0 -->\r\n      <g transform=\"translate(21.2 160.703256)scale(0.1 -0.1)\">\r\n       <use xlink:href=\"#DejaVuSans-31\"/>\r\n       <use x=\"63.623047\" xlink:href=\"#DejaVuSans-2e\"/>\r\n       <use x=\"95.410156\" xlink:href=\"#DejaVuSans-30\"/>\r\n      </g>\r\n     </g>\r\n    </g>\r\n    <g id=\"ytick_4\">\r\n     <g id=\"line2d_19\">\r\n      <path clip-path=\"url(#p63ad4092d7)\" d=\"M 44.103125 127.723074 \r\nL 378.903125 127.723074 \r\n\" style=\"fill:none;stroke:#b0b0b0;stroke-linecap:square;stroke-width:0.8;\"/>\r\n     </g>\r\n     <g id=\"line2d_20\">\r\n      <g>\r\n       <use style=\"stroke:#000000;stroke-width:0.8;\" x=\"44.103125\" xlink:href=\"#me0b53d9d94\" y=\"127.723074\"/>\r\n      </g>\r\n     </g>\r\n     <g id=\"text_11\">\r\n      <!-- 1.5 -->\r\n      <g transform=\"translate(21.2 131.522292)scale(0.1 -0.1)\">\r\n       <use xlink:href=\"#DejaVuSans-31\"/>\r\n       <use x=\"63.623047\" xlink:href=\"#DejaVuSans-2e\"/>\r\n       <use x=\"95.410156\" xlink:href=\"#DejaVuSans-35\"/>\r\n      </g>\r\n     </g>\r\n    </g>\r\n    <g id=\"ytick_5\">\r\n     <g id=\"line2d_21\">\r\n      <path clip-path=\"url(#p63ad4092d7)\" d=\"M 44.103125 98.54211 \r\nL 378.903125 98.54211 \r\n\" style=\"fill:none;stroke:#b0b0b0;stroke-linecap:square;stroke-width:0.8;\"/>\r\n     </g>\r\n     <g id=\"line2d_22\">\r\n      <g>\r\n       <use style=\"stroke:#000000;stroke-width:0.8;\" x=\"44.103125\" xlink:href=\"#me0b53d9d94\" y=\"98.54211\"/>\r\n      </g>\r\n     </g>\r\n     <g id=\"text_12\">\r\n      <!-- 2.0 -->\r\n      <g transform=\"translate(21.2 102.341329)scale(0.1 -0.1)\">\r\n       <use xlink:href=\"#DejaVuSans-32\"/>\r\n       <use x=\"63.623047\" xlink:href=\"#DejaVuSans-2e\"/>\r\n       <use x=\"95.410156\" xlink:href=\"#DejaVuSans-30\"/>\r\n      </g>\r\n     </g>\r\n    </g>\r\n    <g id=\"ytick_6\">\r\n     <g id=\"line2d_23\">\r\n      <path clip-path=\"url(#p63ad4092d7)\" d=\"M 44.103125 69.361146 \r\nL 378.903125 69.361146 \r\n\" style=\"fill:none;stroke:#b0b0b0;stroke-linecap:square;stroke-width:0.8;\"/>\r\n     </g>\r\n     <g id=\"line2d_24\">\r\n      <g>\r\n       <use style=\"stroke:#000000;stroke-width:0.8;\" x=\"44.103125\" xlink:href=\"#me0b53d9d94\" y=\"69.361146\"/>\r\n      </g>\r\n     </g>\r\n     <g id=\"text_13\">\r\n      <!-- 2.5 -->\r\n      <g transform=\"translate(21.2 73.160365)scale(0.1 -0.1)\">\r\n       <use xlink:href=\"#DejaVuSans-32\"/>\r\n       <use x=\"63.623047\" xlink:href=\"#DejaVuSans-2e\"/>\r\n       <use x=\"95.410156\" xlink:href=\"#DejaVuSans-35\"/>\r\n      </g>\r\n     </g>\r\n    </g>\r\n    <g id=\"ytick_7\">\r\n     <g id=\"line2d_25\">\r\n      <path clip-path=\"url(#p63ad4092d7)\" d=\"M 44.103125 40.180182 \r\nL 378.903125 40.180182 \r\n\" style=\"fill:none;stroke:#b0b0b0;stroke-linecap:square;stroke-width:0.8;\"/>\r\n     </g>\r\n     <g id=\"line2d_26\">\r\n      <g>\r\n       <use style=\"stroke:#000000;stroke-width:0.8;\" x=\"44.103125\" xlink:href=\"#me0b53d9d94\" y=\"40.180182\"/>\r\n      </g>\r\n     </g>\r\n     <g id=\"text_14\">\r\n      <!-- 3.0 -->\r\n      <g transform=\"translate(21.2 43.979401)scale(0.1 -0.1)\">\r\n       <use xlink:href=\"#DejaVuSans-33\"/>\r\n       <use x=\"63.623047\" xlink:href=\"#DejaVuSans-2e\"/>\r\n       <use x=\"95.410156\" xlink:href=\"#DejaVuSans-30\"/>\r\n      </g>\r\n     </g>\r\n    </g>\r\n    <g id=\"ytick_8\">\r\n     <g id=\"line2d_27\">\r\n      <path clip-path=\"url(#p63ad4092d7)\" d=\"M 44.103125 10.999219 \r\nL 378.903125 10.999219 \r\n\" style=\"fill:none;stroke:#b0b0b0;stroke-linecap:square;stroke-width:0.8;\"/>\r\n     </g>\r\n     <g id=\"line2d_28\">\r\n      <g>\r\n       <use style=\"stroke:#000000;stroke-width:0.8;\" x=\"44.103125\" xlink:href=\"#me0b53d9d94\" y=\"10.999219\"/>\r\n      </g>\r\n     </g>\r\n     <g id=\"text_15\">\r\n      <!-- 3.5 -->\r\n      <g transform=\"translate(21.2 14.798437)scale(0.1 -0.1)\">\r\n       <use xlink:href=\"#DejaVuSans-33\"/>\r\n       <use x=\"63.623047\" xlink:href=\"#DejaVuSans-2e\"/>\r\n       <use x=\"95.410156\" xlink:href=\"#DejaVuSans-35\"/>\r\n      </g>\r\n     </g>\r\n    </g>\r\n    <g id=\"text_16\">\r\n     <!-- |FFT(f)| -->\r\n     <g transform=\"translate(14.842188 134.064634)rotate(-90)scale(0.1 -0.1)\">\r\n      <defs>\r\n       <path d=\"M 1344 4891 \r\nL 1344 -1509 \r\nL 813 -1509 \r\nL 813 4891 \r\nL 1344 4891 \r\nz\r\n\" id=\"DejaVuSans-7c\" transform=\"scale(0.015625)\"/>\r\n       <path d=\"M -19 4666 \r\nL 3928 4666 \r\nL 3928 4134 \r\nL 2272 4134 \r\nL 2272 0 \r\nL 1638 0 \r\nL 1638 4134 \r\nL -19 4134 \r\nL -19 4666 \r\nz\r\n\" id=\"DejaVuSans-54\" transform=\"scale(0.015625)\"/>\r\n       <path d=\"M 1984 4856 \r\nQ 1566 4138 1362 3434 \r\nQ 1159 2731 1159 2009 \r\nQ 1159 1288 1364 580 \r\nQ 1569 -128 1984 -844 \r\nL 1484 -844 \r\nQ 1016 -109 783 600 \r\nQ 550 1309 550 2009 \r\nQ 550 2706 781 3412 \r\nQ 1013 4119 1484 4856 \r\nL 1984 4856 \r\nz\r\n\" id=\"DejaVuSans-28\" transform=\"scale(0.015625)\"/>\r\n       <path d=\"M 2375 4863 \r\nL 2375 4384 \r\nL 1825 4384 \r\nQ 1516 4384 1395 4259 \r\nQ 1275 4134 1275 3809 \r\nL 1275 3500 \r\nL 2222 3500 \r\nL 2222 3053 \r\nL 1275 3053 \r\nL 1275 0 \r\nL 697 0 \r\nL 697 3053 \r\nL 147 3053 \r\nL 147 3500 \r\nL 697 3500 \r\nL 697 3744 \r\nQ 697 4328 969 4595 \r\nQ 1241 4863 1831 4863 \r\nL 2375 4863 \r\nz\r\n\" id=\"DejaVuSans-66\" transform=\"scale(0.015625)\"/>\r\n       <path d=\"M 513 4856 \r\nL 1013 4856 \r\nQ 1481 4119 1714 3412 \r\nQ 1947 2706 1947 2009 \r\nQ 1947 1309 1714 600 \r\nQ 1481 -109 1013 -844 \r\nL 513 -844 \r\nQ 928 -128 1133 580 \r\nQ 1338 1288 1338 2009 \r\nQ 1338 2731 1133 3434 \r\nQ 928 4138 513 4856 \r\nz\r\n\" id=\"DejaVuSans-29\" transform=\"scale(0.015625)\"/>\r\n      </defs>\r\n      <use xlink:href=\"#DejaVuSans-7c\"/>\r\n      <use x=\"33.691406\" xlink:href=\"#DejaVuSans-46\"/>\r\n      <use x=\"91.210938\" xlink:href=\"#DejaVuSans-46\"/>\r\n      <use x=\"146.980469\" xlink:href=\"#DejaVuSans-54\"/>\r\n      <use x=\"208.064453\" xlink:href=\"#DejaVuSans-28\"/>\r\n      <use x=\"247.078125\" xlink:href=\"#DejaVuSans-66\"/>\r\n      <use x=\"282.283203\" xlink:href=\"#DejaVuSans-29\"/>\r\n      <use x=\"321.296875\" xlink:href=\"#DejaVuSans-7c\"/>\r\n     </g>\r\n    </g>\r\n   </g>\r\n   <g id=\"line2d_29\">\r\n    <path clip-path=\"url(#p63ad4092d7)\" d=\"M 59.321307 179.22952 \r\nL 59.931254 213.007413 \r\nL 60.541201 213.770207 \r\nL 61.151148 213.89598 \r\nL 62.371043 213.639742 \r\nL 63.590937 213.036203 \r\nL 64.200884 212.554042 \r\nL 64.810831 211.892335 \r\nL 65.420778 210.880379 \r\nL 66.030726 209.155721 \r\nL 66.640673 205.677378 \r\nL 67.25062 194.554879 \r\nL 67.860567 17.479833 \r\nL 68.470514 197.068485 \r\nL 69.080461 205.541471 \r\nL 69.690409 208.536785 \r\nL 70.300356 210.071606 \r\nL 70.910303 211.008491 \r\nL 71.52025 211.650385 \r\nL 72.740144 212.455107 \r\nL 73.960039 212.949923 \r\nL 76.399827 213.603449 \r\nL 79.449563 213.919281 \r\nL 84.329141 214.250405 \r\nL 87.988824 214.417794 \r\nL 101.407661 214.718704 \r\nL 149.593488 215.012395 \r\nL 208.758363 215.101765 \r\nL 319.768747 215.150831 \r\nL 363.684943 215.15256 \r\nL 363.684943 215.15256 \r\n\" style=\"fill:none;stroke:#1f77b4;stroke-linecap:square;stroke-width:1.5;\"/>\r\n   </g>\r\n   <g id=\"patch_3\">\r\n    <path d=\"M 44.103125 225.036197 \r\nL 44.103125 7.596197 \r\n\" style=\"fill:none;stroke:#000000;stroke-linecap:square;stroke-linejoin:miter;stroke-width:0.8;\"/>\r\n   </g>\r\n   <g id=\"patch_4\">\r\n    <path d=\"M 378.903125 225.036197 \r\nL 378.903125 7.596197 \r\n\" style=\"fill:none;stroke:#000000;stroke-linecap:square;stroke-linejoin:miter;stroke-width:0.8;\"/>\r\n   </g>\r\n   <g id=\"patch_5\">\r\n    <path d=\"M 44.103125 225.036197 \r\nL 378.903125 225.036197 \r\n\" style=\"fill:none;stroke:#000000;stroke-linecap:square;stroke-linejoin:miter;stroke-width:0.8;\"/>\r\n   </g>\r\n   <g id=\"patch_6\">\r\n    <path d=\"M 44.103125 7.596197 \r\nL 378.903125 7.596197 \r\n\" style=\"fill:none;stroke:#000000;stroke-linecap:square;stroke-linejoin:miter;stroke-width:0.8;\"/>\r\n   </g>\r\n  </g>\r\n </g>\r\n <defs>\r\n  <clipPath id=\"p63ad4092d7\">\r\n   <rect height=\"217.44\" width=\"334.8\" x=\"44.103125\" y=\"7.596197\"/>\r\n  </clipPath>\r\n </defs>\r\n</svg>\r\n",
      "image/png": "[encoded data removed]"
     },
     "metadata": {
      "needs_background": "light"
     }
    }
   ],
   "metadata": {}
  },
  {
   "cell_type": "code",
   "execution_count": 23,
   "source": [
    "F_Al_strain = np.fft.fft(AlBeam_Data['Strain Gauge Data'])\r\n",
    "Amplitude_Al_strain = 2.0*np.abs(F_Al_strain[0:int(N)])/N\r\n",
    "Frequency_Al_strain = np.linspace(0.0,1.0/(dt),int(N))"
   ],
   "outputs": [],
   "metadata": {}
  },
  {
   "cell_type": "code",
   "execution_count": 24,
   "source": [
    "plt.grid();\r\n",
    "plt.plot(Frequency_Al_strain,Amplitude_Al_strain);plt.xlabel('Frequency');plt.ylabel('Amplitude');"
   ],
   "outputs": [
    {
     "output_type": "display_data",
     "data": {
      "text/plain": [
       "<Figure size 432x288 with 1 Axes>"
      ],
      "image/svg+xml": "<?xml version=\"1.0\" encoding=\"utf-8\" standalone=\"no\"?>\r\n<!DOCTYPE svg PUBLIC \"-//W3C//DTD SVG 1.1//EN\"\r\n  \"http://www.w3.org/Graphics/SVG/1.1/DTD/svg11.dtd\">\r\n<svg height=\"262.19625pt\" version=\"1.1\" viewBox=\"0 0 411.23125 262.19625\" width=\"411.23125pt\" xmlns=\"http://www.w3.org/2000/svg\" xmlns:xlink=\"http://www.w3.org/1999/xlink\">\r\n <metadata>\r\n  <rdf:RDF xmlns:cc=\"http://creativecommons.org/ns#\" xmlns:dc=\"http://purl.org/dc/elements/1.1/\" xmlns:rdf=\"http://www.w3.org/1999/02/22-rdf-syntax-ns#\">\r\n   <cc:Work>\r\n    <dc:type rdf:resource=\"http://purl.org/dc/dcmitype/StillImage\"/>\r\n    <dc:date>2021-08-27T14:06:45.134461</dc:date>\r\n    <dc:format>image/svg+xml</dc:format>\r\n    <dc:creator>\r\n     <cc:Agent>\r\n      <dc:title>Matplotlib v3.4.2, https://matplotlib.org/</dc:title>\r\n     </cc:Agent>\r\n    </dc:creator>\r\n   </cc:Work>\r\n  </rdf:RDF>\r\n </metadata>\r\n <defs>\r\n  <style type=\"text/css\">*{stroke-linecap:butt;stroke-linejoin:round;}</style>\r\n </defs>\r\n <g id=\"figure_1\">\r\n  <g id=\"patch_1\">\r\n   <path d=\"M 0 262.19625 \r\nL 411.23125 262.19625 \r\nL 411.23125 0 \r\nL 0 0 \r\nz\r\n\" style=\"fill:none;\"/>\r\n  </g>\r\n  <g id=\"axes_1\">\r\n   <g id=\"patch_2\">\r\n    <path d=\"M 69.23125 224.64 \r\nL 404.03125 224.64 \r\nL 404.03125 7.2 \r\nL 69.23125 7.2 \r\nz\r\n\" style=\"fill:#ffffff;\"/>\r\n   </g>\r\n   <g id=\"matplotlib.axis_1\">\r\n    <g id=\"xtick_1\">\r\n     <g id=\"line2d_1\">\r\n      <path clip-path=\"url(#p0395b1396f)\" d=\"M 84.449432 224.64 \r\nL 84.449432 7.2 \r\n\" style=\"fill:none;stroke:#b0b0b0;stroke-linecap:square;stroke-width:0.8;\"/>\r\n     </g>\r\n     <g id=\"line2d_2\">\r\n      <defs>\r\n       <path d=\"M 0 0 \r\nL 0 3.5 \r\n\" id=\"mb18ac08633\" style=\"stroke:#000000;stroke-width:0.8;\"/>\r\n      </defs>\r\n      <g>\r\n       <use style=\"stroke:#000000;stroke-width:0.8;\" x=\"84.449432\" xlink:href=\"#mb18ac08633\" y=\"224.64\"/>\r\n      </g>\r\n     </g>\r\n     <g id=\"text_1\">\r\n      <!-- 0 -->\r\n      <g transform=\"translate(81.268182 239.238438)scale(0.1 -0.1)\">\r\n       <defs>\r\n        <path d=\"M 2034 4250 \r\nQ 1547 4250 1301 3770 \r\nQ 1056 3291 1056 2328 \r\nQ 1056 1369 1301 889 \r\nQ 1547 409 2034 409 \r\nQ 2525 409 2770 889 \r\nQ 3016 1369 3016 2328 \r\nQ 3016 3291 2770 3770 \r\nQ 2525 4250 2034 4250 \r\nz\r\nM 2034 4750 \r\nQ 2819 4750 3233 4129 \r\nQ 3647 3509 3647 2328 \r\nQ 3647 1150 3233 529 \r\nQ 2819 -91 2034 -91 \r\nQ 1250 -91 836 529 \r\nQ 422 1150 422 2328 \r\nQ 422 3509 836 4129 \r\nQ 1250 4750 2034 4750 \r\nz\r\n\" id=\"DejaVuSans-30\" transform=\"scale(0.015625)\"/>\r\n       </defs>\r\n       <use xlink:href=\"#DejaVuSans-30\"/>\r\n      </g>\r\n     </g>\r\n    </g>\r\n    <g id=\"xtick_2\">\r\n     <g id=\"line2d_3\">\r\n      <path clip-path=\"url(#p0395b1396f)\" d=\"M 145.322159 224.64 \r\nL 145.322159 7.2 \r\n\" style=\"fill:none;stroke:#b0b0b0;stroke-linecap:square;stroke-width:0.8;\"/>\r\n     </g>\r\n     <g id=\"line2d_4\">\r\n      <g>\r\n       <use style=\"stroke:#000000;stroke-width:0.8;\" x=\"145.322159\" xlink:href=\"#mb18ac08633\" y=\"224.64\"/>\r\n      </g>\r\n     </g>\r\n     <g id=\"text_2\">\r\n      <!-- 200 -->\r\n      <g transform=\"translate(135.778409 239.238438)scale(0.1 -0.1)\">\r\n       <defs>\r\n        <path d=\"M 1228 531 \r\nL 3431 531 \r\nL 3431 0 \r\nL 469 0 \r\nL 469 531 \r\nQ 828 903 1448 1529 \r\nQ 2069 2156 2228 2338 \r\nQ 2531 2678 2651 2914 \r\nQ 2772 3150 2772 3378 \r\nQ 2772 3750 2511 3984 \r\nQ 2250 4219 1831 4219 \r\nQ 1534 4219 1204 4116 \r\nQ 875 4013 500 3803 \r\nL 500 4441 \r\nQ 881 4594 1212 4672 \r\nQ 1544 4750 1819 4750 \r\nQ 2544 4750 2975 4387 \r\nQ 3406 4025 3406 3419 \r\nQ 3406 3131 3298 2873 \r\nQ 3191 2616 2906 2266 \r\nQ 2828 2175 2409 1742 \r\nQ 1991 1309 1228 531 \r\nz\r\n\" id=\"DejaVuSans-32\" transform=\"scale(0.015625)\"/>\r\n       </defs>\r\n       <use xlink:href=\"#DejaVuSans-32\"/>\r\n       <use x=\"63.623047\" xlink:href=\"#DejaVuSans-30\"/>\r\n       <use x=\"127.246094\" xlink:href=\"#DejaVuSans-30\"/>\r\n      </g>\r\n     </g>\r\n    </g>\r\n    <g id=\"xtick_3\">\r\n     <g id=\"line2d_5\">\r\n      <path clip-path=\"url(#p0395b1396f)\" d=\"M 206.194886 224.64 \r\nL 206.194886 7.2 \r\n\" style=\"fill:none;stroke:#b0b0b0;stroke-linecap:square;stroke-width:0.8;\"/>\r\n     </g>\r\n     <g id=\"line2d_6\">\r\n      <g>\r\n       <use style=\"stroke:#000000;stroke-width:0.8;\" x=\"206.194886\" xlink:href=\"#mb18ac08633\" y=\"224.64\"/>\r\n      </g>\r\n     </g>\r\n     <g id=\"text_3\">\r\n      <!-- 400 -->\r\n      <g transform=\"translate(196.651136 239.238438)scale(0.1 -0.1)\">\r\n       <defs>\r\n        <path d=\"M 2419 4116 \r\nL 825 1625 \r\nL 2419 1625 \r\nL 2419 4116 \r\nz\r\nM 2253 4666 \r\nL 3047 4666 \r\nL 3047 1625 \r\nL 3713 1625 \r\nL 3713 1100 \r\nL 3047 1100 \r\nL 3047 0 \r\nL 2419 0 \r\nL 2419 1100 \r\nL 313 1100 \r\nL 313 1709 \r\nL 2253 4666 \r\nz\r\n\" id=\"DejaVuSans-34\" transform=\"scale(0.015625)\"/>\r\n       </defs>\r\n       <use xlink:href=\"#DejaVuSans-34\"/>\r\n       <use x=\"63.623047\" xlink:href=\"#DejaVuSans-30\"/>\r\n       <use x=\"127.246094\" xlink:href=\"#DejaVuSans-30\"/>\r\n      </g>\r\n     </g>\r\n    </g>\r\n    <g id=\"xtick_4\">\r\n     <g id=\"line2d_7\">\r\n      <path clip-path=\"url(#p0395b1396f)\" d=\"M 267.067614 224.64 \r\nL 267.067614 7.2 \r\n\" style=\"fill:none;stroke:#b0b0b0;stroke-linecap:square;stroke-width:0.8;\"/>\r\n     </g>\r\n     <g id=\"line2d_8\">\r\n      <g>\r\n       <use style=\"stroke:#000000;stroke-width:0.8;\" x=\"267.067614\" xlink:href=\"#mb18ac08633\" y=\"224.64\"/>\r\n      </g>\r\n     </g>\r\n     <g id=\"text_4\">\r\n      <!-- 600 -->\r\n      <g transform=\"translate(257.523864 239.238438)scale(0.1 -0.1)\">\r\n       <defs>\r\n        <path d=\"M 2113 2584 \r\nQ 1688 2584 1439 2293 \r\nQ 1191 2003 1191 1497 \r\nQ 1191 994 1439 701 \r\nQ 1688 409 2113 409 \r\nQ 2538 409 2786 701 \r\nQ 3034 994 3034 1497 \r\nQ 3034 2003 2786 2293 \r\nQ 2538 2584 2113 2584 \r\nz\r\nM 3366 4563 \r\nL 3366 3988 \r\nQ 3128 4100 2886 4159 \r\nQ 2644 4219 2406 4219 \r\nQ 1781 4219 1451 3797 \r\nQ 1122 3375 1075 2522 \r\nQ 1259 2794 1537 2939 \r\nQ 1816 3084 2150 3084 \r\nQ 2853 3084 3261 2657 \r\nQ 3669 2231 3669 1497 \r\nQ 3669 778 3244 343 \r\nQ 2819 -91 2113 -91 \r\nQ 1303 -91 875 529 \r\nQ 447 1150 447 2328 \r\nQ 447 3434 972 4092 \r\nQ 1497 4750 2381 4750 \r\nQ 2619 4750 2861 4703 \r\nQ 3103 4656 3366 4563 \r\nz\r\n\" id=\"DejaVuSans-36\" transform=\"scale(0.015625)\"/>\r\n       </defs>\r\n       <use xlink:href=\"#DejaVuSans-36\"/>\r\n       <use x=\"63.623047\" xlink:href=\"#DejaVuSans-30\"/>\r\n       <use x=\"127.246094\" xlink:href=\"#DejaVuSans-30\"/>\r\n      </g>\r\n     </g>\r\n    </g>\r\n    <g id=\"xtick_5\">\r\n     <g id=\"line2d_9\">\r\n      <path clip-path=\"url(#p0395b1396f)\" d=\"M 327.940341 224.64 \r\nL 327.940341 7.2 \r\n\" style=\"fill:none;stroke:#b0b0b0;stroke-linecap:square;stroke-width:0.8;\"/>\r\n     </g>\r\n     <g id=\"line2d_10\">\r\n      <g>\r\n       <use style=\"stroke:#000000;stroke-width:0.8;\" x=\"327.940341\" xlink:href=\"#mb18ac08633\" y=\"224.64\"/>\r\n      </g>\r\n     </g>\r\n     <g id=\"text_5\">\r\n      <!-- 800 -->\r\n      <g transform=\"translate(318.396591 239.238438)scale(0.1 -0.1)\">\r\n       <defs>\r\n        <path d=\"M 2034 2216 \r\nQ 1584 2216 1326 1975 \r\nQ 1069 1734 1069 1313 \r\nQ 1069 891 1326 650 \r\nQ 1584 409 2034 409 \r\nQ 2484 409 2743 651 \r\nQ 3003 894 3003 1313 \r\nQ 3003 1734 2745 1975 \r\nQ 2488 2216 2034 2216 \r\nz\r\nM 1403 2484 \r\nQ 997 2584 770 2862 \r\nQ 544 3141 544 3541 \r\nQ 544 4100 942 4425 \r\nQ 1341 4750 2034 4750 \r\nQ 2731 4750 3128 4425 \r\nQ 3525 4100 3525 3541 \r\nQ 3525 3141 3298 2862 \r\nQ 3072 2584 2669 2484 \r\nQ 3125 2378 3379 2068 \r\nQ 3634 1759 3634 1313 \r\nQ 3634 634 3220 271 \r\nQ 2806 -91 2034 -91 \r\nQ 1263 -91 848 271 \r\nQ 434 634 434 1313 \r\nQ 434 1759 690 2068 \r\nQ 947 2378 1403 2484 \r\nz\r\nM 1172 3481 \r\nQ 1172 3119 1398 2916 \r\nQ 1625 2713 2034 2713 \r\nQ 2441 2713 2670 2916 \r\nQ 2900 3119 2900 3481 \r\nQ 2900 3844 2670 4047 \r\nQ 2441 4250 2034 4250 \r\nQ 1625 4250 1398 4047 \r\nQ 1172 3844 1172 3481 \r\nz\r\n\" id=\"DejaVuSans-38\" transform=\"scale(0.015625)\"/>\r\n       </defs>\r\n       <use xlink:href=\"#DejaVuSans-38\"/>\r\n       <use x=\"63.623047\" xlink:href=\"#DejaVuSans-30\"/>\r\n       <use x=\"127.246094\" xlink:href=\"#DejaVuSans-30\"/>\r\n      </g>\r\n     </g>\r\n    </g>\r\n    <g id=\"xtick_6\">\r\n     <g id=\"line2d_11\">\r\n      <path clip-path=\"url(#p0395b1396f)\" d=\"M 388.813068 224.64 \r\nL 388.813068 7.2 \r\n\" style=\"fill:none;stroke:#b0b0b0;stroke-linecap:square;stroke-width:0.8;\"/>\r\n     </g>\r\n     <g id=\"line2d_12\">\r\n      <g>\r\n       <use style=\"stroke:#000000;stroke-width:0.8;\" x=\"388.813068\" xlink:href=\"#mb18ac08633\" y=\"224.64\"/>\r\n      </g>\r\n     </g>\r\n     <g id=\"text_6\">\r\n      <!-- 1000 -->\r\n      <g transform=\"translate(376.088068 239.238438)scale(0.1 -0.1)\">\r\n       <defs>\r\n        <path d=\"M 794 531 \r\nL 1825 531 \r\nL 1825 4091 \r\nL 703 3866 \r\nL 703 4441 \r\nL 1819 4666 \r\nL 2450 4666 \r\nL 2450 531 \r\nL 3481 531 \r\nL 3481 0 \r\nL 794 0 \r\nL 794 531 \r\nz\r\n\" id=\"DejaVuSans-31\" transform=\"scale(0.015625)\"/>\r\n       </defs>\r\n       <use xlink:href=\"#DejaVuSans-31\"/>\r\n       <use x=\"63.623047\" xlink:href=\"#DejaVuSans-30\"/>\r\n       <use x=\"127.246094\" xlink:href=\"#DejaVuSans-30\"/>\r\n       <use x=\"190.869141\" xlink:href=\"#DejaVuSans-30\"/>\r\n      </g>\r\n     </g>\r\n    </g>\r\n    <g id=\"text_7\">\r\n     <!-- Frequency -->\r\n     <g transform=\"translate(210.801563 252.916563)scale(0.1 -0.1)\">\r\n      <defs>\r\n       <path d=\"M 628 4666 \r\nL 3309 4666 \r\nL 3309 4134 \r\nL 1259 4134 \r\nL 1259 2759 \r\nL 3109 2759 \r\nL 3109 2228 \r\nL 1259 2228 \r\nL 1259 0 \r\nL 628 0 \r\nL 628 4666 \r\nz\r\n\" id=\"DejaVuSans-46\" transform=\"scale(0.015625)\"/>\r\n       <path d=\"M 2631 2963 \r\nQ 2534 3019 2420 3045 \r\nQ 2306 3072 2169 3072 \r\nQ 1681 3072 1420 2755 \r\nQ 1159 2438 1159 1844 \r\nL 1159 0 \r\nL 581 0 \r\nL 581 3500 \r\nL 1159 3500 \r\nL 1159 2956 \r\nQ 1341 3275 1631 3429 \r\nQ 1922 3584 2338 3584 \r\nQ 2397 3584 2469 3576 \r\nQ 2541 3569 2628 3553 \r\nL 2631 2963 \r\nz\r\n\" id=\"DejaVuSans-72\" transform=\"scale(0.015625)\"/>\r\n       <path d=\"M 3597 1894 \r\nL 3597 1613 \r\nL 953 1613 \r\nQ 991 1019 1311 708 \r\nQ 1631 397 2203 397 \r\nQ 2534 397 2845 478 \r\nQ 3156 559 3463 722 \r\nL 3463 178 \r\nQ 3153 47 2828 -22 \r\nQ 2503 -91 2169 -91 \r\nQ 1331 -91 842 396 \r\nQ 353 884 353 1716 \r\nQ 353 2575 817 3079 \r\nQ 1281 3584 2069 3584 \r\nQ 2775 3584 3186 3129 \r\nQ 3597 2675 3597 1894 \r\nz\r\nM 3022 2063 \r\nQ 3016 2534 2758 2815 \r\nQ 2500 3097 2075 3097 \r\nQ 1594 3097 1305 2825 \r\nQ 1016 2553 972 2059 \r\nL 3022 2063 \r\nz\r\n\" id=\"DejaVuSans-65\" transform=\"scale(0.015625)\"/>\r\n       <path d=\"M 947 1747 \r\nQ 947 1113 1208 752 \r\nQ 1469 391 1925 391 \r\nQ 2381 391 2643 752 \r\nQ 2906 1113 2906 1747 \r\nQ 2906 2381 2643 2742 \r\nQ 2381 3103 1925 3103 \r\nQ 1469 3103 1208 2742 \r\nQ 947 2381 947 1747 \r\nz\r\nM 2906 525 \r\nQ 2725 213 2448 61 \r\nQ 2172 -91 1784 -91 \r\nQ 1150 -91 751 415 \r\nQ 353 922 353 1747 \r\nQ 353 2572 751 3078 \r\nQ 1150 3584 1784 3584 \r\nQ 2172 3584 2448 3432 \r\nQ 2725 3281 2906 2969 \r\nL 2906 3500 \r\nL 3481 3500 \r\nL 3481 -1331 \r\nL 2906 -1331 \r\nL 2906 525 \r\nz\r\n\" id=\"DejaVuSans-71\" transform=\"scale(0.015625)\"/>\r\n       <path d=\"M 544 1381 \r\nL 544 3500 \r\nL 1119 3500 \r\nL 1119 1403 \r\nQ 1119 906 1312 657 \r\nQ 1506 409 1894 409 \r\nQ 2359 409 2629 706 \r\nQ 2900 1003 2900 1516 \r\nL 2900 3500 \r\nL 3475 3500 \r\nL 3475 0 \r\nL 2900 0 \r\nL 2900 538 \r\nQ 2691 219 2414 64 \r\nQ 2138 -91 1772 -91 \r\nQ 1169 -91 856 284 \r\nQ 544 659 544 1381 \r\nz\r\nM 1991 3584 \r\nL 1991 3584 \r\nz\r\n\" id=\"DejaVuSans-75\" transform=\"scale(0.015625)\"/>\r\n       <path d=\"M 3513 2113 \r\nL 3513 0 \r\nL 2938 0 \r\nL 2938 2094 \r\nQ 2938 2591 2744 2837 \r\nQ 2550 3084 2163 3084 \r\nQ 1697 3084 1428 2787 \r\nQ 1159 2491 1159 1978 \r\nL 1159 0 \r\nL 581 0 \r\nL 581 3500 \r\nL 1159 3500 \r\nL 1159 2956 \r\nQ 1366 3272 1645 3428 \r\nQ 1925 3584 2291 3584 \r\nQ 2894 3584 3203 3211 \r\nQ 3513 2838 3513 2113 \r\nz\r\n\" id=\"DejaVuSans-6e\" transform=\"scale(0.015625)\"/>\r\n       <path d=\"M 3122 3366 \r\nL 3122 2828 \r\nQ 2878 2963 2633 3030 \r\nQ 2388 3097 2138 3097 \r\nQ 1578 3097 1268 2742 \r\nQ 959 2388 959 1747 \r\nQ 959 1106 1268 751 \r\nQ 1578 397 2138 397 \r\nQ 2388 397 2633 464 \r\nQ 2878 531 3122 666 \r\nL 3122 134 \r\nQ 2881 22 2623 -34 \r\nQ 2366 -91 2075 -91 \r\nQ 1284 -91 818 406 \r\nQ 353 903 353 1747 \r\nQ 353 2603 823 3093 \r\nQ 1294 3584 2113 3584 \r\nQ 2378 3584 2631 3529 \r\nQ 2884 3475 3122 3366 \r\nz\r\n\" id=\"DejaVuSans-63\" transform=\"scale(0.015625)\"/>\r\n       <path d=\"M 2059 -325 \r\nQ 1816 -950 1584 -1140 \r\nQ 1353 -1331 966 -1331 \r\nL 506 -1331 \r\nL 506 -850 \r\nL 844 -850 \r\nQ 1081 -850 1212 -737 \r\nQ 1344 -625 1503 -206 \r\nL 1606 56 \r\nL 191 3500 \r\nL 800 3500 \r\nL 1894 763 \r\nL 2988 3500 \r\nL 3597 3500 \r\nL 2059 -325 \r\nz\r\n\" id=\"DejaVuSans-79\" transform=\"scale(0.015625)\"/>\r\n      </defs>\r\n      <use xlink:href=\"#DejaVuSans-46\"/>\r\n      <use x=\"50.269531\" xlink:href=\"#DejaVuSans-72\"/>\r\n      <use x=\"89.132812\" xlink:href=\"#DejaVuSans-65\"/>\r\n      <use x=\"150.65625\" xlink:href=\"#DejaVuSans-71\"/>\r\n      <use x=\"214.132812\" xlink:href=\"#DejaVuSans-75\"/>\r\n      <use x=\"277.511719\" xlink:href=\"#DejaVuSans-65\"/>\r\n      <use x=\"339.035156\" xlink:href=\"#DejaVuSans-6e\"/>\r\n      <use x=\"402.414062\" xlink:href=\"#DejaVuSans-63\"/>\r\n      <use x=\"457.394531\" xlink:href=\"#DejaVuSans-79\"/>\r\n     </g>\r\n    </g>\r\n   </g>\r\n   <g id=\"matplotlib.axis_2\">\r\n    <g id=\"ytick_1\">\r\n     <g id=\"line2d_13\">\r\n      <path clip-path=\"url(#p0395b1396f)\" d=\"M 69.23125 214.756772 \r\nL 404.03125 214.756772 \r\n\" style=\"fill:none;stroke:#b0b0b0;stroke-linecap:square;stroke-width:0.8;\"/>\r\n     </g>\r\n     <g id=\"line2d_14\">\r\n      <defs>\r\n       <path d=\"M 0 0 \r\nL -3.5 0 \r\n\" id=\"m5cfd038085\" style=\"stroke:#000000;stroke-width:0.8;\"/>\r\n      </defs>\r\n      <g>\r\n       <use style=\"stroke:#000000;stroke-width:0.8;\" x=\"69.23125\" xlink:href=\"#m5cfd038085\" y=\"214.756772\"/>\r\n      </g>\r\n     </g>\r\n     <g id=\"text_8\">\r\n      <!-- 0.00000 -->\r\n      <g transform=\"translate(20.878125 218.555991)scale(0.1 -0.1)\">\r\n       <defs>\r\n        <path d=\"M 684 794 \r\nL 1344 794 \r\nL 1344 0 \r\nL 684 0 \r\nL 684 794 \r\nz\r\n\" id=\"DejaVuSans-2e\" transform=\"scale(0.015625)\"/>\r\n       </defs>\r\n       <use xlink:href=\"#DejaVuSans-30\"/>\r\n       <use x=\"63.623047\" xlink:href=\"#DejaVuSans-2e\"/>\r\n       <use x=\"95.410156\" xlink:href=\"#DejaVuSans-30\"/>\r\n       <use x=\"159.033203\" xlink:href=\"#DejaVuSans-30\"/>\r\n       <use x=\"222.65625\" xlink:href=\"#DejaVuSans-30\"/>\r\n       <use x=\"286.279297\" xlink:href=\"#DejaVuSans-30\"/>\r\n       <use x=\"349.902344\" xlink:href=\"#DejaVuSans-30\"/>\r\n      </g>\r\n     </g>\r\n    </g>\r\n    <g id=\"ytick_2\">\r\n     <g id=\"line2d_15\">\r\n      <path clip-path=\"url(#p0395b1396f)\" d=\"M 69.23125 182.132995 \r\nL 404.03125 182.132995 \r\n\" style=\"fill:none;stroke:#b0b0b0;stroke-linecap:square;stroke-width:0.8;\"/>\r\n     </g>\r\n     <g id=\"line2d_16\">\r\n      <g>\r\n       <use style=\"stroke:#000000;stroke-width:0.8;\" x=\"69.23125\" xlink:href=\"#m5cfd038085\" y=\"182.132995\"/>\r\n      </g>\r\n     </g>\r\n     <g id=\"text_9\">\r\n      <!-- 0.00005 -->\r\n      <g transform=\"translate(20.878125 185.932214)scale(0.1 -0.1)\">\r\n       <defs>\r\n        <path d=\"M 691 4666 \r\nL 3169 4666 \r\nL 3169 4134 \r\nL 1269 4134 \r\nL 1269 2991 \r\nQ 1406 3038 1543 3061 \r\nQ 1681 3084 1819 3084 \r\nQ 2600 3084 3056 2656 \r\nQ 3513 2228 3513 1497 \r\nQ 3513 744 3044 326 \r\nQ 2575 -91 1722 -91 \r\nQ 1428 -91 1123 -41 \r\nQ 819 9 494 109 \r\nL 494 744 \r\nQ 775 591 1075 516 \r\nQ 1375 441 1709 441 \r\nQ 2250 441 2565 725 \r\nQ 2881 1009 2881 1497 \r\nQ 2881 1984 2565 2268 \r\nQ 2250 2553 1709 2553 \r\nQ 1456 2553 1204 2497 \r\nQ 953 2441 691 2322 \r\nL 691 4666 \r\nz\r\n\" id=\"DejaVuSans-35\" transform=\"scale(0.015625)\"/>\r\n       </defs>\r\n       <use xlink:href=\"#DejaVuSans-30\"/>\r\n       <use x=\"63.623047\" xlink:href=\"#DejaVuSans-2e\"/>\r\n       <use x=\"95.410156\" xlink:href=\"#DejaVuSans-30\"/>\r\n       <use x=\"159.033203\" xlink:href=\"#DejaVuSans-30\"/>\r\n       <use x=\"222.65625\" xlink:href=\"#DejaVuSans-30\"/>\r\n       <use x=\"286.279297\" xlink:href=\"#DejaVuSans-30\"/>\r\n       <use x=\"349.902344\" xlink:href=\"#DejaVuSans-35\"/>\r\n      </g>\r\n     </g>\r\n    </g>\r\n    <g id=\"ytick_3\">\r\n     <g id=\"line2d_17\">\r\n      <path clip-path=\"url(#p0395b1396f)\" d=\"M 69.23125 149.509217 \r\nL 404.03125 149.509217 \r\n\" style=\"fill:none;stroke:#b0b0b0;stroke-linecap:square;stroke-width:0.8;\"/>\r\n     </g>\r\n     <g id=\"line2d_18\">\r\n      <g>\r\n       <use style=\"stroke:#000000;stroke-width:0.8;\" x=\"69.23125\" xlink:href=\"#m5cfd038085\" y=\"149.509217\"/>\r\n      </g>\r\n     </g>\r\n     <g id=\"text_10\">\r\n      <!-- 0.00010 -->\r\n      <g transform=\"translate(20.878125 153.308436)scale(0.1 -0.1)\">\r\n       <use xlink:href=\"#DejaVuSans-30\"/>\r\n       <use x=\"63.623047\" xlink:href=\"#DejaVuSans-2e\"/>\r\n       <use x=\"95.410156\" xlink:href=\"#DejaVuSans-30\"/>\r\n       <use x=\"159.033203\" xlink:href=\"#DejaVuSans-30\"/>\r\n       <use x=\"222.65625\" xlink:href=\"#DejaVuSans-30\"/>\r\n       <use x=\"286.279297\" xlink:href=\"#DejaVuSans-31\"/>\r\n       <use x=\"349.902344\" xlink:href=\"#DejaVuSans-30\"/>\r\n      </g>\r\n     </g>\r\n    </g>\r\n    <g id=\"ytick_4\">\r\n     <g id=\"line2d_19\">\r\n      <path clip-path=\"url(#p0395b1396f)\" d=\"M 69.23125 116.88544 \r\nL 404.03125 116.88544 \r\n\" style=\"fill:none;stroke:#b0b0b0;stroke-linecap:square;stroke-width:0.8;\"/>\r\n     </g>\r\n     <g id=\"line2d_20\">\r\n      <g>\r\n       <use style=\"stroke:#000000;stroke-width:0.8;\" x=\"69.23125\" xlink:href=\"#m5cfd038085\" y=\"116.88544\"/>\r\n      </g>\r\n     </g>\r\n     <g id=\"text_11\">\r\n      <!-- 0.00015 -->\r\n      <g transform=\"translate(20.878125 120.684658)scale(0.1 -0.1)\">\r\n       <use xlink:href=\"#DejaVuSans-30\"/>\r\n       <use x=\"63.623047\" xlink:href=\"#DejaVuSans-2e\"/>\r\n       <use x=\"95.410156\" xlink:href=\"#DejaVuSans-30\"/>\r\n       <use x=\"159.033203\" xlink:href=\"#DejaVuSans-30\"/>\r\n       <use x=\"222.65625\" xlink:href=\"#DejaVuSans-30\"/>\r\n       <use x=\"286.279297\" xlink:href=\"#DejaVuSans-31\"/>\r\n       <use x=\"349.902344\" xlink:href=\"#DejaVuSans-35\"/>\r\n      </g>\r\n     </g>\r\n    </g>\r\n    <g id=\"ytick_5\">\r\n     <g id=\"line2d_21\">\r\n      <path clip-path=\"url(#p0395b1396f)\" d=\"M 69.23125 84.261662 \r\nL 404.03125 84.261662 \r\n\" style=\"fill:none;stroke:#b0b0b0;stroke-linecap:square;stroke-width:0.8;\"/>\r\n     </g>\r\n     <g id=\"line2d_22\">\r\n      <g>\r\n       <use style=\"stroke:#000000;stroke-width:0.8;\" x=\"69.23125\" xlink:href=\"#m5cfd038085\" y=\"84.261662\"/>\r\n      </g>\r\n     </g>\r\n     <g id=\"text_12\">\r\n      <!-- 0.00020 -->\r\n      <g transform=\"translate(20.878125 88.060881)scale(0.1 -0.1)\">\r\n       <use xlink:href=\"#DejaVuSans-30\"/>\r\n       <use x=\"63.623047\" xlink:href=\"#DejaVuSans-2e\"/>\r\n       <use x=\"95.410156\" xlink:href=\"#DejaVuSans-30\"/>\r\n       <use x=\"159.033203\" xlink:href=\"#DejaVuSans-30\"/>\r\n       <use x=\"222.65625\" xlink:href=\"#DejaVuSans-30\"/>\r\n       <use x=\"286.279297\" xlink:href=\"#DejaVuSans-32\"/>\r\n       <use x=\"349.902344\" xlink:href=\"#DejaVuSans-30\"/>\r\n      </g>\r\n     </g>\r\n    </g>\r\n    <g id=\"ytick_6\">\r\n     <g id=\"line2d_23\">\r\n      <path clip-path=\"url(#p0395b1396f)\" d=\"M 69.23125 51.637884 \r\nL 404.03125 51.637884 \r\n\" style=\"fill:none;stroke:#b0b0b0;stroke-linecap:square;stroke-width:0.8;\"/>\r\n     </g>\r\n     <g id=\"line2d_24\">\r\n      <g>\r\n       <use style=\"stroke:#000000;stroke-width:0.8;\" x=\"69.23125\" xlink:href=\"#m5cfd038085\" y=\"51.637884\"/>\r\n      </g>\r\n     </g>\r\n     <g id=\"text_13\">\r\n      <!-- 0.00025 -->\r\n      <g transform=\"translate(20.878125 55.437103)scale(0.1 -0.1)\">\r\n       <use xlink:href=\"#DejaVuSans-30\"/>\r\n       <use x=\"63.623047\" xlink:href=\"#DejaVuSans-2e\"/>\r\n       <use x=\"95.410156\" xlink:href=\"#DejaVuSans-30\"/>\r\n       <use x=\"159.033203\" xlink:href=\"#DejaVuSans-30\"/>\r\n       <use x=\"222.65625\" xlink:href=\"#DejaVuSans-30\"/>\r\n       <use x=\"286.279297\" xlink:href=\"#DejaVuSans-32\"/>\r\n       <use x=\"349.902344\" xlink:href=\"#DejaVuSans-35\"/>\r\n      </g>\r\n     </g>\r\n    </g>\r\n    <g id=\"ytick_7\">\r\n     <g id=\"line2d_25\">\r\n      <path clip-path=\"url(#p0395b1396f)\" d=\"M 69.23125 19.014107 \r\nL 404.03125 19.014107 \r\n\" style=\"fill:none;stroke:#b0b0b0;stroke-linecap:square;stroke-width:0.8;\"/>\r\n     </g>\r\n     <g id=\"line2d_26\">\r\n      <g>\r\n       <use style=\"stroke:#000000;stroke-width:0.8;\" x=\"69.23125\" xlink:href=\"#m5cfd038085\" y=\"19.014107\"/>\r\n      </g>\r\n     </g>\r\n     <g id=\"text_14\">\r\n      <!-- 0.00030 -->\r\n      <g transform=\"translate(20.878125 22.813325)scale(0.1 -0.1)\">\r\n       <defs>\r\n        <path d=\"M 2597 2516 \r\nQ 3050 2419 3304 2112 \r\nQ 3559 1806 3559 1356 \r\nQ 3559 666 3084 287 \r\nQ 2609 -91 1734 -91 \r\nQ 1441 -91 1130 -33 \r\nQ 819 25 488 141 \r\nL 488 750 \r\nQ 750 597 1062 519 \r\nQ 1375 441 1716 441 \r\nQ 2309 441 2620 675 \r\nQ 2931 909 2931 1356 \r\nQ 2931 1769 2642 2001 \r\nQ 2353 2234 1838 2234 \r\nL 1294 2234 \r\nL 1294 2753 \r\nL 1863 2753 \r\nQ 2328 2753 2575 2939 \r\nQ 2822 3125 2822 3475 \r\nQ 2822 3834 2567 4026 \r\nQ 2313 4219 1838 4219 \r\nQ 1578 4219 1281 4162 \r\nQ 984 4106 628 3988 \r\nL 628 4550 \r\nQ 988 4650 1302 4700 \r\nQ 1616 4750 1894 4750 \r\nQ 2613 4750 3031 4423 \r\nQ 3450 4097 3450 3541 \r\nQ 3450 3153 3228 2886 \r\nQ 3006 2619 2597 2516 \r\nz\r\n\" id=\"DejaVuSans-33\" transform=\"scale(0.015625)\"/>\r\n       </defs>\r\n       <use xlink:href=\"#DejaVuSans-30\"/>\r\n       <use x=\"63.623047\" xlink:href=\"#DejaVuSans-2e\"/>\r\n       <use x=\"95.410156\" xlink:href=\"#DejaVuSans-30\"/>\r\n       <use x=\"159.033203\" xlink:href=\"#DejaVuSans-30\"/>\r\n       <use x=\"222.65625\" xlink:href=\"#DejaVuSans-30\"/>\r\n       <use x=\"286.279297\" xlink:href=\"#DejaVuSans-33\"/>\r\n       <use x=\"349.902344\" xlink:href=\"#DejaVuSans-30\"/>\r\n      </g>\r\n     </g>\r\n    </g>\r\n    <g id=\"text_15\">\r\n     <!-- Amplitude -->\r\n     <g transform=\"translate(14.798437 141.542656)rotate(-90)scale(0.1 -0.1)\">\r\n      <defs>\r\n       <path d=\"M 2188 4044 \r\nL 1331 1722 \r\nL 3047 1722 \r\nL 2188 4044 \r\nz\r\nM 1831 4666 \r\nL 2547 4666 \r\nL 4325 0 \r\nL 3669 0 \r\nL 3244 1197 \r\nL 1141 1197 \r\nL 716 0 \r\nL 50 0 \r\nL 1831 4666 \r\nz\r\n\" id=\"DejaVuSans-41\" transform=\"scale(0.015625)\"/>\r\n       <path d=\"M 3328 2828 \r\nQ 3544 3216 3844 3400 \r\nQ 4144 3584 4550 3584 \r\nQ 5097 3584 5394 3201 \r\nQ 5691 2819 5691 2113 \r\nL 5691 0 \r\nL 5113 0 \r\nL 5113 2094 \r\nQ 5113 2597 4934 2840 \r\nQ 4756 3084 4391 3084 \r\nQ 3944 3084 3684 2787 \r\nQ 3425 2491 3425 1978 \r\nL 3425 0 \r\nL 2847 0 \r\nL 2847 2094 \r\nQ 2847 2600 2669 2842 \r\nQ 2491 3084 2119 3084 \r\nQ 1678 3084 1418 2786 \r\nQ 1159 2488 1159 1978 \r\nL 1159 0 \r\nL 581 0 \r\nL 581 3500 \r\nL 1159 3500 \r\nL 1159 2956 \r\nQ 1356 3278 1631 3431 \r\nQ 1906 3584 2284 3584 \r\nQ 2666 3584 2933 3390 \r\nQ 3200 3197 3328 2828 \r\nz\r\n\" id=\"DejaVuSans-6d\" transform=\"scale(0.015625)\"/>\r\n       <path d=\"M 1159 525 \r\nL 1159 -1331 \r\nL 581 -1331 \r\nL 581 3500 \r\nL 1159 3500 \r\nL 1159 2969 \r\nQ 1341 3281 1617 3432 \r\nQ 1894 3584 2278 3584 \r\nQ 2916 3584 3314 3078 \r\nQ 3713 2572 3713 1747 \r\nQ 3713 922 3314 415 \r\nQ 2916 -91 2278 -91 \r\nQ 1894 -91 1617 61 \r\nQ 1341 213 1159 525 \r\nz\r\nM 3116 1747 \r\nQ 3116 2381 2855 2742 \r\nQ 2594 3103 2138 3103 \r\nQ 1681 3103 1420 2742 \r\nQ 1159 2381 1159 1747 \r\nQ 1159 1113 1420 752 \r\nQ 1681 391 2138 391 \r\nQ 2594 391 2855 752 \r\nQ 3116 1113 3116 1747 \r\nz\r\n\" id=\"DejaVuSans-70\" transform=\"scale(0.015625)\"/>\r\n       <path d=\"M 603 4863 \r\nL 1178 4863 \r\nL 1178 0 \r\nL 603 0 \r\nL 603 4863 \r\nz\r\n\" id=\"DejaVuSans-6c\" transform=\"scale(0.015625)\"/>\r\n       <path d=\"M 603 3500 \r\nL 1178 3500 \r\nL 1178 0 \r\nL 603 0 \r\nL 603 3500 \r\nz\r\nM 603 4863 \r\nL 1178 4863 \r\nL 1178 4134 \r\nL 603 4134 \r\nL 603 4863 \r\nz\r\n\" id=\"DejaVuSans-69\" transform=\"scale(0.015625)\"/>\r\n       <path d=\"M 1172 4494 \r\nL 1172 3500 \r\nL 2356 3500 \r\nL 2356 3053 \r\nL 1172 3053 \r\nL 1172 1153 \r\nQ 1172 725 1289 603 \r\nQ 1406 481 1766 481 \r\nL 2356 481 \r\nL 2356 0 \r\nL 1766 0 \r\nQ 1100 0 847 248 \r\nQ 594 497 594 1153 \r\nL 594 3053 \r\nL 172 3053 \r\nL 172 3500 \r\nL 594 3500 \r\nL 594 4494 \r\nL 1172 4494 \r\nz\r\n\" id=\"DejaVuSans-74\" transform=\"scale(0.015625)\"/>\r\n       <path d=\"M 2906 2969 \r\nL 2906 4863 \r\nL 3481 4863 \r\nL 3481 0 \r\nL 2906 0 \r\nL 2906 525 \r\nQ 2725 213 2448 61 \r\nQ 2172 -91 1784 -91 \r\nQ 1150 -91 751 415 \r\nQ 353 922 353 1747 \r\nQ 353 2572 751 3078 \r\nQ 1150 3584 1784 3584 \r\nQ 2172 3584 2448 3432 \r\nQ 2725 3281 2906 2969 \r\nz\r\nM 947 1747 \r\nQ 947 1113 1208 752 \r\nQ 1469 391 1925 391 \r\nQ 2381 391 2643 752 \r\nQ 2906 1113 2906 1747 \r\nQ 2906 2381 2643 2742 \r\nQ 2381 3103 1925 3103 \r\nQ 1469 3103 1208 2742 \r\nQ 947 2381 947 1747 \r\nz\r\n\" id=\"DejaVuSans-64\" transform=\"scale(0.015625)\"/>\r\n      </defs>\r\n      <use xlink:href=\"#DejaVuSans-41\"/>\r\n      <use x=\"68.408203\" xlink:href=\"#DejaVuSans-6d\"/>\r\n      <use x=\"165.820312\" xlink:href=\"#DejaVuSans-70\"/>\r\n      <use x=\"229.296875\" xlink:href=\"#DejaVuSans-6c\"/>\r\n      <use x=\"257.080078\" xlink:href=\"#DejaVuSans-69\"/>\r\n      <use x=\"284.863281\" xlink:href=\"#DejaVuSans-74\"/>\r\n      <use x=\"324.072266\" xlink:href=\"#DejaVuSans-75\"/>\r\n      <use x=\"387.451172\" xlink:href=\"#DejaVuSans-64\"/>\r\n      <use x=\"450.927734\" xlink:href=\"#DejaVuSans-65\"/>\r\n     </g>\r\n    </g>\r\n   </g>\r\n   <g id=\"line2d_27\">\r\n    <path clip-path=\"url(#p0395b1396f)\" d=\"M 84.449432 17.083636 \r\nL 84.7541 214.734121 \r\nL 87.496115 214.745413 \r\nL 88.714788 214.743552 \r\nL 91.761471 214.703193 \r\nL 92.066139 214.642552 \r\nL 92.370808 214.714044 \r\nL 92.980144 214.486588 \r\nL 93.284813 213.521682 \r\nL 93.589481 214.250813 \r\nL 93.894149 214.545712 \r\nL 94.808154 214.705498 \r\nL 95.722159 214.664452 \r\nL 96.940832 214.720855 \r\nL 97.550169 214.723344 \r\nL 108.21356 214.712287 \r\nL 109.432233 214.743415 \r\nL 110.346238 214.729939 \r\nL 110.955574 214.727737 \r\nL 111.260243 214.59924 \r\nL 111.564911 214.687028 \r\nL 111.869579 214.555118 \r\nL 112.174248 214.719747 \r\nL 114.002257 214.726687 \r\nL 116.439604 214.736318 \r\nL 117.658277 214.724307 \r\nL 120.70496 214.73656 \r\nL 122.837638 214.712577 \r\nL 123.751643 214.730165 \r\nL 128.626336 214.678408 \r\nL 128.931004 214.443465 \r\nL 129.845009 214.693379 \r\nL 137.157049 214.727804 \r\nL 140.5084 214.747742 \r\nL 141.117736 214.727096 \r\nL 142.945746 214.685702 \r\nL 146.601766 214.731244 \r\nL 146.906434 214.378232 \r\nL 147.211103 214.742241 \r\nL 153.609137 214.712034 \r\nL 155.437147 214.744635 \r\nL 156.65582 214.706878 \r\nL 157.265157 214.698058 \r\nL 158.788498 214.738539 \r\nL 161.530513 214.713053 \r\nL 162.749186 214.71962 \r\nL 165.186533 214.646739 \r\nL 165.795869 214.726954 \r\nL 168.233216 214.71773 \r\nL 169.756557 214.752469 \r\nL 170.061225 214.626418 \r\nL 170.97523 214.679643 \r\nL 171.584567 214.721069 \r\nL 176.154592 214.716152 \r\nL 177.373265 214.698553 \r\nL 178.28727 214.744483 \r\nL 179.201275 214.683172 \r\nL 180.419948 214.738145 \r\nL 182.247958 214.724024 \r\nL 182.552626 214.465049 \r\nL 182.857294 214.692819 \r\nL 183.466631 214.705214 \r\nL 184.989972 214.734285 \r\nL 186.513314 214.716292 \r\nL 187.731987 214.744478 \r\nL 192.911348 214.725103 \r\nL 195.958031 214.754609 \r\nL 197.481373 214.699251 \r\nL 198.700046 214.711472 \r\nL 199.614051 214.719528 \r\nL 202.356066 214.729054 \r\nL 203.879407 214.725836 \r\nL 205.707417 214.703547 \r\nL 206.621422 214.744286 \r\nL 214.542798 214.73275 \r\nL 217.894149 214.725113 \r\nL 218.198818 214.645804 \r\nL 218.808154 214.731849 \r\nL 221.854837 214.732214 \r\nL 223.07351 214.72084 \r\nL 225.510857 214.721181 \r\nL 226.72953 214.732902 \r\nL 227.643535 214.725279 \r\nL 228.252872 214.707205 \r\nL 228.55754 214.614731 \r\nL 228.862208 214.748465 \r\nL 247.446975 214.71654 \r\nL 248.970316 214.750599 \r\nL 250.18899 214.708567 \r\nL 253.235673 214.738097 \r\nL 254.149678 214.744631 \r\nL 262.071053 214.723671 \r\nL 263.899063 214.741244 \r\nL 274.257786 214.739786 \r\nL 278.218474 214.742458 \r\nL 279.741815 214.720709 \r\nL 281.265157 214.731342 \r\nL 283.702503 214.746221 \r\nL 289.491201 214.727159 \r\nL 290.709874 214.692819 \r\nL 291.014542 214.465049 \r\nL 291.319211 214.724024 \r\nL 294.365894 214.683172 \r\nL 295.584567 214.737782 \r\nL 303.505943 214.626418 \r\nL 303.810611 214.752469 \r\nL 304.115279 214.670737 \r\nL 304.419948 214.742039 \r\nL 304.724616 214.676865 \r\nL 305.638621 214.73181 \r\nL 310.513314 214.699572 \r\nL 312.341324 214.728779 \r\nL 312.645992 214.678397 \r\nL 313.255329 214.733615 \r\nL 316.302012 214.698058 \r\nL 316.911348 214.706878 \r\nL 323.004714 214.724203 \r\nL 324.528056 214.728388 \r\nL 326.356066 214.742241 \r\nL 326.660734 214.378232 \r\nL 326.965402 214.731244 \r\nL 330.012085 214.744409 \r\nL 330.92609 214.669077 \r\nL 331.840095 214.729882 \r\nL 332.7541 214.688958 \r\nL 333.363437 214.736217 \r\nL 334.277442 214.722251 \r\nL 335.191447 214.731145 \r\nL 335.800783 214.739165 \r\nL 344.331496 214.558847 \r\nL 344.636164 214.443465 \r\nL 344.940832 214.678408 \r\nL 353.166877 214.740658 \r\nL 354.38555 214.714001 \r\nL 355.604223 214.735873 \r\nL 358.041569 214.728908 \r\nL 359.869579 214.756364 \r\nL 360.783584 214.706132 \r\nL 361.392921 214.719747 \r\nL 361.697589 214.555118 \r\nL 362.002257 214.687028 \r\nL 362.306926 214.59924 \r\nL 362.916262 214.741805 \r\nL 365.962945 214.712347 \r\nL 367.790955 214.741709 \r\nL 368.400292 214.714999 \r\nL 370.228302 214.745962 \r\nL 371.446975 214.70098 \r\nL 373.274985 214.731648 \r\nL 375.407663 214.693827 \r\nL 376.931004 214.739992 \r\nL 378.149678 214.679795 \r\nL 379.673019 214.545712 \r\nL 379.977687 214.250813 \r\nL 380.282356 213.521682 \r\nL 380.587024 214.486588 \r\nL 381.196361 214.714044 \r\nL 381.501029 214.642552 \r\nL 382.415034 214.722787 \r\nL 383.633707 214.693517 \r\nL 384.85238 214.743552 \r\nL 386.071053 214.745413 \r\nL 388.813068 214.734121 \r\nL 388.813068 214.734121 \r\n\" style=\"fill:none;stroke:#1f77b4;stroke-linecap:square;stroke-width:1.5;\"/>\r\n   </g>\r\n   <g id=\"patch_3\">\r\n    <path d=\"M 69.23125 224.64 \r\nL 69.23125 7.2 \r\n\" style=\"fill:none;stroke:#000000;stroke-linecap:square;stroke-linejoin:miter;stroke-width:0.8;\"/>\r\n   </g>\r\n   <g id=\"patch_4\">\r\n    <path d=\"M 404.03125 224.64 \r\nL 404.03125 7.2 \r\n\" style=\"fill:none;stroke:#000000;stroke-linecap:square;stroke-linejoin:miter;stroke-width:0.8;\"/>\r\n   </g>\r\n   <g id=\"patch_5\">\r\n    <path d=\"M 69.23125 224.64 \r\nL 404.03125 224.64 \r\n\" style=\"fill:none;stroke:#000000;stroke-linecap:square;stroke-linejoin:miter;stroke-width:0.8;\"/>\r\n   </g>\r\n   <g id=\"patch_6\">\r\n    <path d=\"M 69.23125 7.2 \r\nL 404.03125 7.2 \r\n\" style=\"fill:none;stroke:#000000;stroke-linecap:square;stroke-linejoin:miter;stroke-width:0.8;\"/>\r\n   </g>\r\n  </g>\r\n </g>\r\n <defs>\r\n  <clipPath id=\"p0395b1396f\">\r\n   <rect height=\"217.44\" width=\"334.8\" x=\"69.23125\" y=\"7.2\"/>\r\n  </clipPath>\r\n </defs>\r\n</svg>\r\n",
      "image/png": "[encoded data removed]"
     },
     "metadata": {
      "needs_background": "light"
     }
    }
   ],
   "metadata": {}
  },
  {
   "cell_type": "markdown",
   "source": [
    "# Composite Beam"
   ],
   "metadata": {}
  },
  {
   "cell_type": "code",
   "execution_count": 25,
   "source": [
    "CompositeBeam_Data = vibration1_df['Composite Beam']\r\n",
    "CompositeBeam_Data"
   ],
   "outputs": [
    {
     "output_type": "execute_result",
     "data": {
      "text/plain": [
       "     Accelerometer  Strain Gauge Data   Time\n",
       "0        -0.110702           0.000152  0.000\n",
       "1        -0.103641           0.000150  0.001\n",
       "2        -0.096022           0.000147  0.002\n",
       "3        -0.088173           0.000149  0.003\n",
       "4        -0.079823           0.000150  0.004\n",
       "..             ...                ...    ...\n",
       "995      -0.100469           0.000149  0.995\n",
       "996      -0.101080           0.000152  0.996\n",
       "997      -0.099967           0.000149  0.997\n",
       "998      -0.097368           0.000148  0.998\n",
       "999      -0.095669           0.000149  0.999\n",
       "\n",
       "[1000 rows x 3 columns]"
      ],
      "text/html": [
       "<div>\n",
       "<style scoped>\n",
       "    .dataframe tbody tr th:only-of-type {\n",
       "        vertical-align: middle;\n",
       "    }\n",
       "\n",
       "    .dataframe tbody tr th {\n",
       "        vertical-align: top;\n",
       "    }\n",
       "\n",
       "    .dataframe thead th {\n",
       "        text-align: right;\n",
       "    }\n",
       "</style>\n",
       "<table border=\"1\" class=\"dataframe\">\n",
       "  <thead>\n",
       "    <tr style=\"text-align: right;\">\n",
       "      <th></th>\n",
       "      <th>Accelerometer</th>\n",
       "      <th>Strain Gauge Data</th>\n",
       "      <th>Time</th>\n",
       "    </tr>\n",
       "  </thead>\n",
       "  <tbody>\n",
       "    <tr>\n",
       "      <th>0</th>\n",
       "      <td>-0.110702</td>\n",
       "      <td>0.000152</td>\n",
       "      <td>0.000</td>\n",
       "    </tr>\n",
       "    <tr>\n",
       "      <th>1</th>\n",
       "      <td>-0.103641</td>\n",
       "      <td>0.000150</td>\n",
       "      <td>0.001</td>\n",
       "    </tr>\n",
       "    <tr>\n",
       "      <th>2</th>\n",
       "      <td>-0.096022</td>\n",
       "      <td>0.000147</td>\n",
       "      <td>0.002</td>\n",
       "    </tr>\n",
       "    <tr>\n",
       "      <th>3</th>\n",
       "      <td>-0.088173</td>\n",
       "      <td>0.000149</td>\n",
       "      <td>0.003</td>\n",
       "    </tr>\n",
       "    <tr>\n",
       "      <th>4</th>\n",
       "      <td>-0.079823</td>\n",
       "      <td>0.000150</td>\n",
       "      <td>0.004</td>\n",
       "    </tr>\n",
       "    <tr>\n",
       "      <th>...</th>\n",
       "      <td>...</td>\n",
       "      <td>...</td>\n",
       "      <td>...</td>\n",
       "    </tr>\n",
       "    <tr>\n",
       "      <th>995</th>\n",
       "      <td>-0.100469</td>\n",
       "      <td>0.000149</td>\n",
       "      <td>0.995</td>\n",
       "    </tr>\n",
       "    <tr>\n",
       "      <th>996</th>\n",
       "      <td>-0.101080</td>\n",
       "      <td>0.000152</td>\n",
       "      <td>0.996</td>\n",
       "    </tr>\n",
       "    <tr>\n",
       "      <th>997</th>\n",
       "      <td>-0.099967</td>\n",
       "      <td>0.000149</td>\n",
       "      <td>0.997</td>\n",
       "    </tr>\n",
       "    <tr>\n",
       "      <th>998</th>\n",
       "      <td>-0.097368</td>\n",
       "      <td>0.000148</td>\n",
       "      <td>0.998</td>\n",
       "    </tr>\n",
       "    <tr>\n",
       "      <th>999</th>\n",
       "      <td>-0.095669</td>\n",
       "      <td>0.000149</td>\n",
       "      <td>0.999</td>\n",
       "    </tr>\n",
       "  </tbody>\n",
       "</table>\n",
       "<p>1000 rows × 3 columns</p>\n",
       "</div>"
      ]
     },
     "metadata": {},
     "execution_count": 25
    }
   ],
   "metadata": {}
  },
  {
   "cell_type": "code",
   "execution_count": 26,
   "source": [
    "b2 = 0.01\r\n",
    "h2 = 0.0057\r\n",
    "l2 = 0.2\r\n",
    "E =  47.4*pow(10,9)\r\n",
    "I2 = (b2*pow(h2,3)/12)\r\n",
    "A2 = b2*h2\r\n",
    "M = 27.75*pow(10,-3)\r\n",
    "rho2 = M/(A2*l2)"
   ],
   "outputs": [],
   "metadata": {}
  },
  {
   "cell_type": "code",
   "execution_count": 27,
   "source": [
    "w02 = pow((1.875/l2),2)*np.sqrt((E*I2)/(rho2*A2))\r\n",
    "w12 = pow((4.694/l2),2)*np.sqrt((E*I2)/(rho2*A2))\r\n",
    "w22 = pow((7.85/l2),2)*np.sqrt((E*I2)/(rho2*A2))\r\n",
    "w32 = pow((10.995/l2),2)*np.sqrt((E*I2)/(rho2*A2))"
   ],
   "outputs": [],
   "metadata": {}
  },
  {
   "cell_type": "code",
   "execution_count": 28,
   "source": [
    "print(f\"I2 = {I2}\\nA2 = {A2}\\nrho = {rho2}\\nw02 = {w02}\\nw12 = {w12}\\nw22 = {w22}\\nw32 = {w32}\")"
   ],
   "outputs": [
    {
     "output_type": "stream",
     "name": "stdout",
     "text": [
      "I2 = 1.543275e-10\n",
      "A2 = 5.7e-05\n",
      "rho = 2434.210526315789\n",
      "w02 = 638.1707403302619\n",
      "w12 = 3999.6364226240025\n",
      "w22 = 11185.970189084886\n",
      "w32 = 21944.455609683584\n"
     ]
    }
   ],
   "metadata": {}
  },
  {
   "cell_type": "code",
   "execution_count": 29,
   "source": [
    "plt.grid();\r\n",
    "plt.plot(CompositeBeam_Data['Time'],CompositeBeam_Data['Accelerometer']);plt.xlabel('Time [s]');plt.ylabel('Acceleration [m/s2]');"
   ],
   "outputs": [
    {
     "output_type": "display_data",
     "data": {
      "text/plain": [
       "<Figure size 432x288 with 1 Axes>"
      ],
      "image/svg+xml": "<?xml version=\"1.0\" encoding=\"utf-8\" standalone=\"no\"?>\r\n<!DOCTYPE svg PUBLIC \"-//W3C//DTD SVG 1.1//EN\"\r\n  \"http://www.w3.org/Graphics/SVG/1.1/DTD/svg11.dtd\">\r\n<svg height=\"262.19625pt\" version=\"1.1\" viewBox=\"0 0 400.523438 262.19625\" width=\"400.523438pt\" xmlns=\"http://www.w3.org/2000/svg\" xmlns:xlink=\"http://www.w3.org/1999/xlink\">\r\n <metadata>\r\n  <rdf:RDF xmlns:cc=\"http://creativecommons.org/ns#\" xmlns:dc=\"http://purl.org/dc/elements/1.1/\" xmlns:rdf=\"http://www.w3.org/1999/02/22-rdf-syntax-ns#\">\r\n   <cc:Work>\r\n    <dc:type rdf:resource=\"http://purl.org/dc/dcmitype/StillImage\"/>\r\n    <dc:date>2021-08-27T14:06:46.544542</dc:date>\r\n    <dc:format>image/svg+xml</dc:format>\r\n    <dc:creator>\r\n     <cc:Agent>\r\n      <dc:title>Matplotlib v3.4.2, https://matplotlib.org/</dc:title>\r\n     </cc:Agent>\r\n    </dc:creator>\r\n   </cc:Work>\r\n  </rdf:RDF>\r\n </metadata>\r\n <defs>\r\n  <style type=\"text/css\">*{stroke-linecap:butt;stroke-linejoin:round;}</style>\r\n </defs>\r\n <g id=\"figure_1\">\r\n  <g id=\"patch_1\">\r\n   <path d=\"M 0 262.19625 \r\nL 400.523438 262.19625 \r\nL 400.523438 0 \r\nL 0 0 \r\nz\r\n\" style=\"fill:none;\"/>\r\n  </g>\r\n  <g id=\"axes_1\">\r\n   <g id=\"patch_2\">\r\n    <path d=\"M 58.523438 224.64 \r\nL 393.323438 224.64 \r\nL 393.323438 7.2 \r\nL 58.523438 7.2 \r\nz\r\n\" style=\"fill:#ffffff;\"/>\r\n   </g>\r\n   <g id=\"matplotlib.axis_1\">\r\n    <g id=\"xtick_1\">\r\n     <g id=\"line2d_1\">\r\n      <path clip-path=\"url(#pb5103ce41a)\" d=\"M 73.741619 224.64 \r\nL 73.741619 7.2 \r\n\" style=\"fill:none;stroke:#b0b0b0;stroke-linecap:square;stroke-width:0.8;\"/>\r\n     </g>\r\n     <g id=\"line2d_2\">\r\n      <defs>\r\n       <path d=\"M 0 0 \r\nL 0 3.5 \r\n\" id=\"mf44c490a79\" style=\"stroke:#000000;stroke-width:0.8;\"/>\r\n      </defs>\r\n      <g>\r\n       <use style=\"stroke:#000000;stroke-width:0.8;\" x=\"73.741619\" xlink:href=\"#mf44c490a79\" y=\"224.64\"/>\r\n      </g>\r\n     </g>\r\n     <g id=\"text_1\">\r\n      <!-- 0.0 -->\r\n      <g transform=\"translate(65.790057 239.238437)scale(0.1 -0.1)\">\r\n       <defs>\r\n        <path d=\"M 2034 4250 \r\nQ 1547 4250 1301 3770 \r\nQ 1056 3291 1056 2328 \r\nQ 1056 1369 1301 889 \r\nQ 1547 409 2034 409 \r\nQ 2525 409 2770 889 \r\nQ 3016 1369 3016 2328 \r\nQ 3016 3291 2770 3770 \r\nQ 2525 4250 2034 4250 \r\nz\r\nM 2034 4750 \r\nQ 2819 4750 3233 4129 \r\nQ 3647 3509 3647 2328 \r\nQ 3647 1150 3233 529 \r\nQ 2819 -91 2034 -91 \r\nQ 1250 -91 836 529 \r\nQ 422 1150 422 2328 \r\nQ 422 3509 836 4129 \r\nQ 1250 4750 2034 4750 \r\nz\r\n\" id=\"DejaVuSans-30\" transform=\"scale(0.015625)\"/>\r\n        <path d=\"M 684 794 \r\nL 1344 794 \r\nL 1344 0 \r\nL 684 0 \r\nL 684 794 \r\nz\r\n\" id=\"DejaVuSans-2e\" transform=\"scale(0.015625)\"/>\r\n       </defs>\r\n       <use xlink:href=\"#DejaVuSans-30\"/>\r\n       <use x=\"63.623047\" xlink:href=\"#DejaVuSans-2e\"/>\r\n       <use x=\"95.410156\" xlink:href=\"#DejaVuSans-30\"/>\r\n      </g>\r\n     </g>\r\n    </g>\r\n    <g id=\"xtick_2\">\r\n     <g id=\"line2d_3\">\r\n      <path clip-path=\"url(#pb5103ce41a)\" d=\"M 134.67528 224.64 \r\nL 134.67528 7.2 \r\n\" style=\"fill:none;stroke:#b0b0b0;stroke-linecap:square;stroke-width:0.8;\"/>\r\n     </g>\r\n     <g id=\"line2d_4\">\r\n      <g>\r\n       <use style=\"stroke:#000000;stroke-width:0.8;\" x=\"134.67528\" xlink:href=\"#mf44c490a79\" y=\"224.64\"/>\r\n      </g>\r\n     </g>\r\n     <g id=\"text_2\">\r\n      <!-- 0.2 -->\r\n      <g transform=\"translate(126.723718 239.238437)scale(0.1 -0.1)\">\r\n       <defs>\r\n        <path d=\"M 1228 531 \r\nL 3431 531 \r\nL 3431 0 \r\nL 469 0 \r\nL 469 531 \r\nQ 828 903 1448 1529 \r\nQ 2069 2156 2228 2338 \r\nQ 2531 2678 2651 2914 \r\nQ 2772 3150 2772 3378 \r\nQ 2772 3750 2511 3984 \r\nQ 2250 4219 1831 4219 \r\nQ 1534 4219 1204 4116 \r\nQ 875 4013 500 3803 \r\nL 500 4441 \r\nQ 881 4594 1212 4672 \r\nQ 1544 4750 1819 4750 \r\nQ 2544 4750 2975 4387 \r\nQ 3406 4025 3406 3419 \r\nQ 3406 3131 3298 2873 \r\nQ 3191 2616 2906 2266 \r\nQ 2828 2175 2409 1742 \r\nQ 1991 1309 1228 531 \r\nz\r\n\" id=\"DejaVuSans-32\" transform=\"scale(0.015625)\"/>\r\n       </defs>\r\n       <use xlink:href=\"#DejaVuSans-30\"/>\r\n       <use x=\"63.623047\" xlink:href=\"#DejaVuSans-2e\"/>\r\n       <use x=\"95.410156\" xlink:href=\"#DejaVuSans-32\"/>\r\n      </g>\r\n     </g>\r\n    </g>\r\n    <g id=\"xtick_3\">\r\n     <g id=\"line2d_5\">\r\n      <path clip-path=\"url(#pb5103ce41a)\" d=\"M 195.608941 224.64 \r\nL 195.608941 7.2 \r\n\" style=\"fill:none;stroke:#b0b0b0;stroke-linecap:square;stroke-width:0.8;\"/>\r\n     </g>\r\n     <g id=\"line2d_6\">\r\n      <g>\r\n       <use style=\"stroke:#000000;stroke-width:0.8;\" x=\"195.608941\" xlink:href=\"#mf44c490a79\" y=\"224.64\"/>\r\n      </g>\r\n     </g>\r\n     <g id=\"text_3\">\r\n      <!-- 0.4 -->\r\n      <g transform=\"translate(187.657379 239.238437)scale(0.1 -0.1)\">\r\n       <defs>\r\n        <path d=\"M 2419 4116 \r\nL 825 1625 \r\nL 2419 1625 \r\nL 2419 4116 \r\nz\r\nM 2253 4666 \r\nL 3047 4666 \r\nL 3047 1625 \r\nL 3713 1625 \r\nL 3713 1100 \r\nL 3047 1100 \r\nL 3047 0 \r\nL 2419 0 \r\nL 2419 1100 \r\nL 313 1100 \r\nL 313 1709 \r\nL 2253 4666 \r\nz\r\n\" id=\"DejaVuSans-34\" transform=\"scale(0.015625)\"/>\r\n       </defs>\r\n       <use xlink:href=\"#DejaVuSans-30\"/>\r\n       <use x=\"63.623047\" xlink:href=\"#DejaVuSans-2e\"/>\r\n       <use x=\"95.410156\" xlink:href=\"#DejaVuSans-34\"/>\r\n      </g>\r\n     </g>\r\n    </g>\r\n    <g id=\"xtick_4\">\r\n     <g id=\"line2d_7\">\r\n      <path clip-path=\"url(#pb5103ce41a)\" d=\"M 256.542602 224.64 \r\nL 256.542602 7.2 \r\n\" style=\"fill:none;stroke:#b0b0b0;stroke-linecap:square;stroke-width:0.8;\"/>\r\n     </g>\r\n     <g id=\"line2d_8\">\r\n      <g>\r\n       <use style=\"stroke:#000000;stroke-width:0.8;\" x=\"256.542602\" xlink:href=\"#mf44c490a79\" y=\"224.64\"/>\r\n      </g>\r\n     </g>\r\n     <g id=\"text_4\">\r\n      <!-- 0.6 -->\r\n      <g transform=\"translate(248.59104 239.238437)scale(0.1 -0.1)\">\r\n       <defs>\r\n        <path d=\"M 2113 2584 \r\nQ 1688 2584 1439 2293 \r\nQ 1191 2003 1191 1497 \r\nQ 1191 994 1439 701 \r\nQ 1688 409 2113 409 \r\nQ 2538 409 2786 701 \r\nQ 3034 994 3034 1497 \r\nQ 3034 2003 2786 2293 \r\nQ 2538 2584 2113 2584 \r\nz\r\nM 3366 4563 \r\nL 3366 3988 \r\nQ 3128 4100 2886 4159 \r\nQ 2644 4219 2406 4219 \r\nQ 1781 4219 1451 3797 \r\nQ 1122 3375 1075 2522 \r\nQ 1259 2794 1537 2939 \r\nQ 1816 3084 2150 3084 \r\nQ 2853 3084 3261 2657 \r\nQ 3669 2231 3669 1497 \r\nQ 3669 778 3244 343 \r\nQ 2819 -91 2113 -91 \r\nQ 1303 -91 875 529 \r\nQ 447 1150 447 2328 \r\nQ 447 3434 972 4092 \r\nQ 1497 4750 2381 4750 \r\nQ 2619 4750 2861 4703 \r\nQ 3103 4656 3366 4563 \r\nz\r\n\" id=\"DejaVuSans-36\" transform=\"scale(0.015625)\"/>\r\n       </defs>\r\n       <use xlink:href=\"#DejaVuSans-30\"/>\r\n       <use x=\"63.623047\" xlink:href=\"#DejaVuSans-2e\"/>\r\n       <use x=\"95.410156\" xlink:href=\"#DejaVuSans-36\"/>\r\n      </g>\r\n     </g>\r\n    </g>\r\n    <g id=\"xtick_5\">\r\n     <g id=\"line2d_9\">\r\n      <path clip-path=\"url(#pb5103ce41a)\" d=\"M 317.476263 224.64 \r\nL 317.476263 7.2 \r\n\" style=\"fill:none;stroke:#b0b0b0;stroke-linecap:square;stroke-width:0.8;\"/>\r\n     </g>\r\n     <g id=\"line2d_10\">\r\n      <g>\r\n       <use style=\"stroke:#000000;stroke-width:0.8;\" x=\"317.476263\" xlink:href=\"#mf44c490a79\" y=\"224.64\"/>\r\n      </g>\r\n     </g>\r\n     <g id=\"text_5\">\r\n      <!-- 0.8 -->\r\n      <g transform=\"translate(309.524701 239.238437)scale(0.1 -0.1)\">\r\n       <defs>\r\n        <path d=\"M 2034 2216 \r\nQ 1584 2216 1326 1975 \r\nQ 1069 1734 1069 1313 \r\nQ 1069 891 1326 650 \r\nQ 1584 409 2034 409 \r\nQ 2484 409 2743 651 \r\nQ 3003 894 3003 1313 \r\nQ 3003 1734 2745 1975 \r\nQ 2488 2216 2034 2216 \r\nz\r\nM 1403 2484 \r\nQ 997 2584 770 2862 \r\nQ 544 3141 544 3541 \r\nQ 544 4100 942 4425 \r\nQ 1341 4750 2034 4750 \r\nQ 2731 4750 3128 4425 \r\nQ 3525 4100 3525 3541 \r\nQ 3525 3141 3298 2862 \r\nQ 3072 2584 2669 2484 \r\nQ 3125 2378 3379 2068 \r\nQ 3634 1759 3634 1313 \r\nQ 3634 634 3220 271 \r\nQ 2806 -91 2034 -91 \r\nQ 1263 -91 848 271 \r\nQ 434 634 434 1313 \r\nQ 434 1759 690 2068 \r\nQ 947 2378 1403 2484 \r\nz\r\nM 1172 3481 \r\nQ 1172 3119 1398 2916 \r\nQ 1625 2713 2034 2713 \r\nQ 2441 2713 2670 2916 \r\nQ 2900 3119 2900 3481 \r\nQ 2900 3844 2670 4047 \r\nQ 2441 4250 2034 4250 \r\nQ 1625 4250 1398 4047 \r\nQ 1172 3844 1172 3481 \r\nz\r\n\" id=\"DejaVuSans-38\" transform=\"scale(0.015625)\"/>\r\n       </defs>\r\n       <use xlink:href=\"#DejaVuSans-30\"/>\r\n       <use x=\"63.623047\" xlink:href=\"#DejaVuSans-2e\"/>\r\n       <use x=\"95.410156\" xlink:href=\"#DejaVuSans-38\"/>\r\n      </g>\r\n     </g>\r\n    </g>\r\n    <g id=\"xtick_6\">\r\n     <g id=\"line2d_11\">\r\n      <path clip-path=\"url(#pb5103ce41a)\" d=\"M 378.409924 224.64 \r\nL 378.409924 7.2 \r\n\" style=\"fill:none;stroke:#b0b0b0;stroke-linecap:square;stroke-width:0.8;\"/>\r\n     </g>\r\n     <g id=\"line2d_12\">\r\n      <g>\r\n       <use style=\"stroke:#000000;stroke-width:0.8;\" x=\"378.409924\" xlink:href=\"#mf44c490a79\" y=\"224.64\"/>\r\n      </g>\r\n     </g>\r\n     <g id=\"text_6\">\r\n      <!-- 1.0 -->\r\n      <g transform=\"translate(370.458361 239.238437)scale(0.1 -0.1)\">\r\n       <defs>\r\n        <path d=\"M 794 531 \r\nL 1825 531 \r\nL 1825 4091 \r\nL 703 3866 \r\nL 703 4441 \r\nL 1819 4666 \r\nL 2450 4666 \r\nL 2450 531 \r\nL 3481 531 \r\nL 3481 0 \r\nL 794 0 \r\nL 794 531 \r\nz\r\n\" id=\"DejaVuSans-31\" transform=\"scale(0.015625)\"/>\r\n       </defs>\r\n       <use xlink:href=\"#DejaVuSans-31\"/>\r\n       <use x=\"63.623047\" xlink:href=\"#DejaVuSans-2e\"/>\r\n       <use x=\"95.410156\" xlink:href=\"#DejaVuSans-30\"/>\r\n      </g>\r\n     </g>\r\n    </g>\r\n    <g id=\"text_7\">\r\n     <!-- Time [s] -->\r\n     <g transform=\"translate(205.594531 252.916562)scale(0.1 -0.1)\">\r\n      <defs>\r\n       <path d=\"M -19 4666 \r\nL 3928 4666 \r\nL 3928 4134 \r\nL 2272 4134 \r\nL 2272 0 \r\nL 1638 0 \r\nL 1638 4134 \r\nL -19 4134 \r\nL -19 4666 \r\nz\r\n\" id=\"DejaVuSans-54\" transform=\"scale(0.015625)\"/>\r\n       <path d=\"M 603 3500 \r\nL 1178 3500 \r\nL 1178 0 \r\nL 603 0 \r\nL 603 3500 \r\nz\r\nM 603 4863 \r\nL 1178 4863 \r\nL 1178 4134 \r\nL 603 4134 \r\nL 603 4863 \r\nz\r\n\" id=\"DejaVuSans-69\" transform=\"scale(0.015625)\"/>\r\n       <path d=\"M 3328 2828 \r\nQ 3544 3216 3844 3400 \r\nQ 4144 3584 4550 3584 \r\nQ 5097 3584 5394 3201 \r\nQ 5691 2819 5691 2113 \r\nL 5691 0 \r\nL 5113 0 \r\nL 5113 2094 \r\nQ 5113 2597 4934 2840 \r\nQ 4756 3084 4391 3084 \r\nQ 3944 3084 3684 2787 \r\nQ 3425 2491 3425 1978 \r\nL 3425 0 \r\nL 2847 0 \r\nL 2847 2094 \r\nQ 2847 2600 2669 2842 \r\nQ 2491 3084 2119 3084 \r\nQ 1678 3084 1418 2786 \r\nQ 1159 2488 1159 1978 \r\nL 1159 0 \r\nL 581 0 \r\nL 581 3500 \r\nL 1159 3500 \r\nL 1159 2956 \r\nQ 1356 3278 1631 3431 \r\nQ 1906 3584 2284 3584 \r\nQ 2666 3584 2933 3390 \r\nQ 3200 3197 3328 2828 \r\nz\r\n\" id=\"DejaVuSans-6d\" transform=\"scale(0.015625)\"/>\r\n       <path d=\"M 3597 1894 \r\nL 3597 1613 \r\nL 953 1613 \r\nQ 991 1019 1311 708 \r\nQ 1631 397 2203 397 \r\nQ 2534 397 2845 478 \r\nQ 3156 559 3463 722 \r\nL 3463 178 \r\nQ 3153 47 2828 -22 \r\nQ 2503 -91 2169 -91 \r\nQ 1331 -91 842 396 \r\nQ 353 884 353 1716 \r\nQ 353 2575 817 3079 \r\nQ 1281 3584 2069 3584 \r\nQ 2775 3584 3186 3129 \r\nQ 3597 2675 3597 1894 \r\nz\r\nM 3022 2063 \r\nQ 3016 2534 2758 2815 \r\nQ 2500 3097 2075 3097 \r\nQ 1594 3097 1305 2825 \r\nQ 1016 2553 972 2059 \r\nL 3022 2063 \r\nz\r\n\" id=\"DejaVuSans-65\" transform=\"scale(0.015625)\"/>\r\n       <path id=\"DejaVuSans-20\" transform=\"scale(0.015625)\"/>\r\n       <path d=\"M 550 4863 \r\nL 1875 4863 \r\nL 1875 4416 \r\nL 1125 4416 \r\nL 1125 -397 \r\nL 1875 -397 \r\nL 1875 -844 \r\nL 550 -844 \r\nL 550 4863 \r\nz\r\n\" id=\"DejaVuSans-5b\" transform=\"scale(0.015625)\"/>\r\n       <path d=\"M 2834 3397 \r\nL 2834 2853 \r\nQ 2591 2978 2328 3040 \r\nQ 2066 3103 1784 3103 \r\nQ 1356 3103 1142 2972 \r\nQ 928 2841 928 2578 \r\nQ 928 2378 1081 2264 \r\nQ 1234 2150 1697 2047 \r\nL 1894 2003 \r\nQ 2506 1872 2764 1633 \r\nQ 3022 1394 3022 966 \r\nQ 3022 478 2636 193 \r\nQ 2250 -91 1575 -91 \r\nQ 1294 -91 989 -36 \r\nQ 684 19 347 128 \r\nL 347 722 \r\nQ 666 556 975 473 \r\nQ 1284 391 1588 391 \r\nQ 1994 391 2212 530 \r\nQ 2431 669 2431 922 \r\nQ 2431 1156 2273 1281 \r\nQ 2116 1406 1581 1522 \r\nL 1381 1569 \r\nQ 847 1681 609 1914 \r\nQ 372 2147 372 2553 \r\nQ 372 3047 722 3315 \r\nQ 1072 3584 1716 3584 \r\nQ 2034 3584 2315 3537 \r\nQ 2597 3491 2834 3397 \r\nz\r\n\" id=\"DejaVuSans-73\" transform=\"scale(0.015625)\"/>\r\n       <path d=\"M 1947 4863 \r\nL 1947 -844 \r\nL 622 -844 \r\nL 622 -397 \r\nL 1369 -397 \r\nL 1369 4416 \r\nL 622 4416 \r\nL 622 4863 \r\nL 1947 4863 \r\nz\r\n\" id=\"DejaVuSans-5d\" transform=\"scale(0.015625)\"/>\r\n      </defs>\r\n      <use xlink:href=\"#DejaVuSans-54\"/>\r\n      <use x=\"57.958984\" xlink:href=\"#DejaVuSans-69\"/>\r\n      <use x=\"85.742188\" xlink:href=\"#DejaVuSans-6d\"/>\r\n      <use x=\"183.154297\" xlink:href=\"#DejaVuSans-65\"/>\r\n      <use x=\"244.677734\" xlink:href=\"#DejaVuSans-20\"/>\r\n      <use x=\"276.464844\" xlink:href=\"#DejaVuSans-5b\"/>\r\n      <use x=\"315.478516\" xlink:href=\"#DejaVuSans-73\"/>\r\n      <use x=\"367.578125\" xlink:href=\"#DejaVuSans-5d\"/>\r\n     </g>\r\n    </g>\r\n   </g>\r\n   <g id=\"matplotlib.axis_2\">\r\n    <g id=\"ytick_1\">\r\n     <g id=\"line2d_13\">\r\n      <path clip-path=\"url(#pb5103ce41a)\" d=\"M 58.523438 199.767802 \r\nL 393.323438 199.767802 \r\n\" style=\"fill:none;stroke:#b0b0b0;stroke-linecap:square;stroke-width:0.8;\"/>\r\n     </g>\r\n     <g id=\"line2d_14\">\r\n      <defs>\r\n       <path d=\"M 0 0 \r\nL -3.5 0 \r\n\" id=\"m7ebbdc9223\" style=\"stroke:#000000;stroke-width:0.8;\"/>\r\n      </defs>\r\n      <g>\r\n       <use style=\"stroke:#000000;stroke-width:0.8;\" x=\"58.523438\" xlink:href=\"#m7ebbdc9223\" y=\"199.767802\"/>\r\n      </g>\r\n     </g>\r\n     <g id=\"text_8\">\r\n      <!-- −0.14 -->\r\n      <g transform=\"translate(20.878125 203.567021)scale(0.1 -0.1)\">\r\n       <defs>\r\n        <path d=\"M 678 2272 \r\nL 4684 2272 \r\nL 4684 1741 \r\nL 678 1741 \r\nL 678 2272 \r\nz\r\n\" id=\"DejaVuSans-2212\" transform=\"scale(0.015625)\"/>\r\n       </defs>\r\n       <use xlink:href=\"#DejaVuSans-2212\"/>\r\n       <use x=\"83.789062\" xlink:href=\"#DejaVuSans-30\"/>\r\n       <use x=\"147.412109\" xlink:href=\"#DejaVuSans-2e\"/>\r\n       <use x=\"179.199219\" xlink:href=\"#DejaVuSans-31\"/>\r\n       <use x=\"242.822266\" xlink:href=\"#DejaVuSans-34\"/>\r\n      </g>\r\n     </g>\r\n    </g>\r\n    <g id=\"ytick_2\">\r\n     <g id=\"line2d_15\">\r\n      <path clip-path=\"url(#pb5103ce41a)\" d=\"M 58.523438 168.889737 \r\nL 393.323438 168.889737 \r\n\" style=\"fill:none;stroke:#b0b0b0;stroke-linecap:square;stroke-width:0.8;\"/>\r\n     </g>\r\n     <g id=\"line2d_16\">\r\n      <g>\r\n       <use style=\"stroke:#000000;stroke-width:0.8;\" x=\"58.523438\" xlink:href=\"#m7ebbdc9223\" y=\"168.889737\"/>\r\n      </g>\r\n     </g>\r\n     <g id=\"text_9\">\r\n      <!-- −0.12 -->\r\n      <g transform=\"translate(20.878125 172.688955)scale(0.1 -0.1)\">\r\n       <use xlink:href=\"#DejaVuSans-2212\"/>\r\n       <use x=\"83.789062\" xlink:href=\"#DejaVuSans-30\"/>\r\n       <use x=\"147.412109\" xlink:href=\"#DejaVuSans-2e\"/>\r\n       <use x=\"179.199219\" xlink:href=\"#DejaVuSans-31\"/>\r\n       <use x=\"242.822266\" xlink:href=\"#DejaVuSans-32\"/>\r\n      </g>\r\n     </g>\r\n    </g>\r\n    <g id=\"ytick_3\">\r\n     <g id=\"line2d_17\">\r\n      <path clip-path=\"url(#pb5103ce41a)\" d=\"M 58.523438 138.011672 \r\nL 393.323438 138.011672 \r\n\" style=\"fill:none;stroke:#b0b0b0;stroke-linecap:square;stroke-width:0.8;\"/>\r\n     </g>\r\n     <g id=\"line2d_18\">\r\n      <g>\r\n       <use style=\"stroke:#000000;stroke-width:0.8;\" x=\"58.523438\" xlink:href=\"#m7ebbdc9223\" y=\"138.011672\"/>\r\n      </g>\r\n     </g>\r\n     <g id=\"text_10\">\r\n      <!-- −0.10 -->\r\n      <g transform=\"translate(20.878125 141.81089)scale(0.1 -0.1)\">\r\n       <use xlink:href=\"#DejaVuSans-2212\"/>\r\n       <use x=\"83.789062\" xlink:href=\"#DejaVuSans-30\"/>\r\n       <use x=\"147.412109\" xlink:href=\"#DejaVuSans-2e\"/>\r\n       <use x=\"179.199219\" xlink:href=\"#DejaVuSans-31\"/>\r\n       <use x=\"242.822266\" xlink:href=\"#DejaVuSans-30\"/>\r\n      </g>\r\n     </g>\r\n    </g>\r\n    <g id=\"ytick_4\">\r\n     <g id=\"line2d_19\">\r\n      <path clip-path=\"url(#pb5103ce41a)\" d=\"M 58.523438 107.133606 \r\nL 393.323438 107.133606 \r\n\" style=\"fill:none;stroke:#b0b0b0;stroke-linecap:square;stroke-width:0.8;\"/>\r\n     </g>\r\n     <g id=\"line2d_20\">\r\n      <g>\r\n       <use style=\"stroke:#000000;stroke-width:0.8;\" x=\"58.523438\" xlink:href=\"#m7ebbdc9223\" y=\"107.133606\"/>\r\n      </g>\r\n     </g>\r\n     <g id=\"text_11\">\r\n      <!-- −0.08 -->\r\n      <g transform=\"translate(20.878125 110.932825)scale(0.1 -0.1)\">\r\n       <use xlink:href=\"#DejaVuSans-2212\"/>\r\n       <use x=\"83.789062\" xlink:href=\"#DejaVuSans-30\"/>\r\n       <use x=\"147.412109\" xlink:href=\"#DejaVuSans-2e\"/>\r\n       <use x=\"179.199219\" xlink:href=\"#DejaVuSans-30\"/>\r\n       <use x=\"242.822266\" xlink:href=\"#DejaVuSans-38\"/>\r\n      </g>\r\n     </g>\r\n    </g>\r\n    <g id=\"ytick_5\">\r\n     <g id=\"line2d_21\">\r\n      <path clip-path=\"url(#pb5103ce41a)\" d=\"M 58.523438 76.255541 \r\nL 393.323438 76.255541 \r\n\" style=\"fill:none;stroke:#b0b0b0;stroke-linecap:square;stroke-width:0.8;\"/>\r\n     </g>\r\n     <g id=\"line2d_22\">\r\n      <g>\r\n       <use style=\"stroke:#000000;stroke-width:0.8;\" x=\"58.523438\" xlink:href=\"#m7ebbdc9223\" y=\"76.255541\"/>\r\n      </g>\r\n     </g>\r\n     <g id=\"text_12\">\r\n      <!-- −0.06 -->\r\n      <g transform=\"translate(20.878125 80.05476)scale(0.1 -0.1)\">\r\n       <use xlink:href=\"#DejaVuSans-2212\"/>\r\n       <use x=\"83.789062\" xlink:href=\"#DejaVuSans-30\"/>\r\n       <use x=\"147.412109\" xlink:href=\"#DejaVuSans-2e\"/>\r\n       <use x=\"179.199219\" xlink:href=\"#DejaVuSans-30\"/>\r\n       <use x=\"242.822266\" xlink:href=\"#DejaVuSans-36\"/>\r\n      </g>\r\n     </g>\r\n    </g>\r\n    <g id=\"ytick_6\">\r\n     <g id=\"line2d_23\">\r\n      <path clip-path=\"url(#pb5103ce41a)\" d=\"M 58.523438 45.377476 \r\nL 393.323438 45.377476 \r\n\" style=\"fill:none;stroke:#b0b0b0;stroke-linecap:square;stroke-width:0.8;\"/>\r\n     </g>\r\n     <g id=\"line2d_24\">\r\n      <g>\r\n       <use style=\"stroke:#000000;stroke-width:0.8;\" x=\"58.523438\" xlink:href=\"#m7ebbdc9223\" y=\"45.377476\"/>\r\n      </g>\r\n     </g>\r\n     <g id=\"text_13\">\r\n      <!-- −0.04 -->\r\n      <g transform=\"translate(20.878125 49.176695)scale(0.1 -0.1)\">\r\n       <use xlink:href=\"#DejaVuSans-2212\"/>\r\n       <use x=\"83.789062\" xlink:href=\"#DejaVuSans-30\"/>\r\n       <use x=\"147.412109\" xlink:href=\"#DejaVuSans-2e\"/>\r\n       <use x=\"179.199219\" xlink:href=\"#DejaVuSans-30\"/>\r\n       <use x=\"242.822266\" xlink:href=\"#DejaVuSans-34\"/>\r\n      </g>\r\n     </g>\r\n    </g>\r\n    <g id=\"ytick_7\">\r\n     <g id=\"line2d_25\">\r\n      <path clip-path=\"url(#pb5103ce41a)\" d=\"M 58.523438 14.499411 \r\nL 393.323438 14.499411 \r\n\" style=\"fill:none;stroke:#b0b0b0;stroke-linecap:square;stroke-width:0.8;\"/>\r\n     </g>\r\n     <g id=\"line2d_26\">\r\n      <g>\r\n       <use style=\"stroke:#000000;stroke-width:0.8;\" x=\"58.523438\" xlink:href=\"#m7ebbdc9223\" y=\"14.499411\"/>\r\n      </g>\r\n     </g>\r\n     <g id=\"text_14\">\r\n      <!-- −0.02 -->\r\n      <g transform=\"translate(20.878125 18.29863)scale(0.1 -0.1)\">\r\n       <use xlink:href=\"#DejaVuSans-2212\"/>\r\n       <use x=\"83.789062\" xlink:href=\"#DejaVuSans-30\"/>\r\n       <use x=\"147.412109\" xlink:href=\"#DejaVuSans-2e\"/>\r\n       <use x=\"179.199219\" xlink:href=\"#DejaVuSans-30\"/>\r\n       <use x=\"242.822266\" xlink:href=\"#DejaVuSans-32\"/>\r\n      </g>\r\n     </g>\r\n    </g>\r\n    <g id=\"text_15\">\r\n     <!-- Acceleration [m/s2] -->\r\n     <g transform=\"translate(14.798438 164.821562)rotate(-90)scale(0.1 -0.1)\">\r\n      <defs>\r\n       <path d=\"M 2188 4044 \r\nL 1331 1722 \r\nL 3047 1722 \r\nL 2188 4044 \r\nz\r\nM 1831 4666 \r\nL 2547 4666 \r\nL 4325 0 \r\nL 3669 0 \r\nL 3244 1197 \r\nL 1141 1197 \r\nL 716 0 \r\nL 50 0 \r\nL 1831 4666 \r\nz\r\n\" id=\"DejaVuSans-41\" transform=\"scale(0.015625)\"/>\r\n       <path d=\"M 3122 3366 \r\nL 3122 2828 \r\nQ 2878 2963 2633 3030 \r\nQ 2388 3097 2138 3097 \r\nQ 1578 3097 1268 2742 \r\nQ 959 2388 959 1747 \r\nQ 959 1106 1268 751 \r\nQ 1578 397 2138 397 \r\nQ 2388 397 2633 464 \r\nQ 2878 531 3122 666 \r\nL 3122 134 \r\nQ 2881 22 2623 -34 \r\nQ 2366 -91 2075 -91 \r\nQ 1284 -91 818 406 \r\nQ 353 903 353 1747 \r\nQ 353 2603 823 3093 \r\nQ 1294 3584 2113 3584 \r\nQ 2378 3584 2631 3529 \r\nQ 2884 3475 3122 3366 \r\nz\r\n\" id=\"DejaVuSans-63\" transform=\"scale(0.015625)\"/>\r\n       <path d=\"M 603 4863 \r\nL 1178 4863 \r\nL 1178 0 \r\nL 603 0 \r\nL 603 4863 \r\nz\r\n\" id=\"DejaVuSans-6c\" transform=\"scale(0.015625)\"/>\r\n       <path d=\"M 2631 2963 \r\nQ 2534 3019 2420 3045 \r\nQ 2306 3072 2169 3072 \r\nQ 1681 3072 1420 2755 \r\nQ 1159 2438 1159 1844 \r\nL 1159 0 \r\nL 581 0 \r\nL 581 3500 \r\nL 1159 3500 \r\nL 1159 2956 \r\nQ 1341 3275 1631 3429 \r\nQ 1922 3584 2338 3584 \r\nQ 2397 3584 2469 3576 \r\nQ 2541 3569 2628 3553 \r\nL 2631 2963 \r\nz\r\n\" id=\"DejaVuSans-72\" transform=\"scale(0.015625)\"/>\r\n       <path d=\"M 2194 1759 \r\nQ 1497 1759 1228 1600 \r\nQ 959 1441 959 1056 \r\nQ 959 750 1161 570 \r\nQ 1363 391 1709 391 \r\nQ 2188 391 2477 730 \r\nQ 2766 1069 2766 1631 \r\nL 2766 1759 \r\nL 2194 1759 \r\nz\r\nM 3341 1997 \r\nL 3341 0 \r\nL 2766 0 \r\nL 2766 531 \r\nQ 2569 213 2275 61 \r\nQ 1981 -91 1556 -91 \r\nQ 1019 -91 701 211 \r\nQ 384 513 384 1019 \r\nQ 384 1609 779 1909 \r\nQ 1175 2209 1959 2209 \r\nL 2766 2209 \r\nL 2766 2266 \r\nQ 2766 2663 2505 2880 \r\nQ 2244 3097 1772 3097 \r\nQ 1472 3097 1187 3025 \r\nQ 903 2953 641 2809 \r\nL 641 3341 \r\nQ 956 3463 1253 3523 \r\nQ 1550 3584 1831 3584 \r\nQ 2591 3584 2966 3190 \r\nQ 3341 2797 3341 1997 \r\nz\r\n\" id=\"DejaVuSans-61\" transform=\"scale(0.015625)\"/>\r\n       <path d=\"M 1172 4494 \r\nL 1172 3500 \r\nL 2356 3500 \r\nL 2356 3053 \r\nL 1172 3053 \r\nL 1172 1153 \r\nQ 1172 725 1289 603 \r\nQ 1406 481 1766 481 \r\nL 2356 481 \r\nL 2356 0 \r\nL 1766 0 \r\nQ 1100 0 847 248 \r\nQ 594 497 594 1153 \r\nL 594 3053 \r\nL 172 3053 \r\nL 172 3500 \r\nL 594 3500 \r\nL 594 4494 \r\nL 1172 4494 \r\nz\r\n\" id=\"DejaVuSans-74\" transform=\"scale(0.015625)\"/>\r\n       <path d=\"M 1959 3097 \r\nQ 1497 3097 1228 2736 \r\nQ 959 2375 959 1747 \r\nQ 959 1119 1226 758 \r\nQ 1494 397 1959 397 \r\nQ 2419 397 2687 759 \r\nQ 2956 1122 2956 1747 \r\nQ 2956 2369 2687 2733 \r\nQ 2419 3097 1959 3097 \r\nz\r\nM 1959 3584 \r\nQ 2709 3584 3137 3096 \r\nQ 3566 2609 3566 1747 \r\nQ 3566 888 3137 398 \r\nQ 2709 -91 1959 -91 \r\nQ 1206 -91 779 398 \r\nQ 353 888 353 1747 \r\nQ 353 2609 779 3096 \r\nQ 1206 3584 1959 3584 \r\nz\r\n\" id=\"DejaVuSans-6f\" transform=\"scale(0.015625)\"/>\r\n       <path d=\"M 3513 2113 \r\nL 3513 0 \r\nL 2938 0 \r\nL 2938 2094 \r\nQ 2938 2591 2744 2837 \r\nQ 2550 3084 2163 3084 \r\nQ 1697 3084 1428 2787 \r\nQ 1159 2491 1159 1978 \r\nL 1159 0 \r\nL 581 0 \r\nL 581 3500 \r\nL 1159 3500 \r\nL 1159 2956 \r\nQ 1366 3272 1645 3428 \r\nQ 1925 3584 2291 3584 \r\nQ 2894 3584 3203 3211 \r\nQ 3513 2838 3513 2113 \r\nz\r\n\" id=\"DejaVuSans-6e\" transform=\"scale(0.015625)\"/>\r\n       <path d=\"M 1625 4666 \r\nL 2156 4666 \r\nL 531 -594 \r\nL 0 -594 \r\nL 1625 4666 \r\nz\r\n\" id=\"DejaVuSans-2f\" transform=\"scale(0.015625)\"/>\r\n      </defs>\r\n      <use xlink:href=\"#DejaVuSans-41\"/>\r\n      <use x=\"66.658203\" xlink:href=\"#DejaVuSans-63\"/>\r\n      <use x=\"121.638672\" xlink:href=\"#DejaVuSans-63\"/>\r\n      <use x=\"176.619141\" xlink:href=\"#DejaVuSans-65\"/>\r\n      <use x=\"238.142578\" xlink:href=\"#DejaVuSans-6c\"/>\r\n      <use x=\"265.925781\" xlink:href=\"#DejaVuSans-65\"/>\r\n      <use x=\"327.449219\" xlink:href=\"#DejaVuSans-72\"/>\r\n      <use x=\"368.5625\" xlink:href=\"#DejaVuSans-61\"/>\r\n      <use x=\"429.841797\" xlink:href=\"#DejaVuSans-74\"/>\r\n      <use x=\"469.050781\" xlink:href=\"#DejaVuSans-69\"/>\r\n      <use x=\"496.833984\" xlink:href=\"#DejaVuSans-6f\"/>\r\n      <use x=\"558.015625\" xlink:href=\"#DejaVuSans-6e\"/>\r\n      <use x=\"621.394531\" xlink:href=\"#DejaVuSans-20\"/>\r\n      <use x=\"653.181641\" xlink:href=\"#DejaVuSans-5b\"/>\r\n      <use x=\"692.195312\" xlink:href=\"#DejaVuSans-6d\"/>\r\n      <use x=\"789.607422\" xlink:href=\"#DejaVuSans-2f\"/>\r\n      <use x=\"823.298828\" xlink:href=\"#DejaVuSans-73\"/>\r\n      <use x=\"875.398438\" xlink:href=\"#DejaVuSans-32\"/>\r\n      <use x=\"939.021484\" xlink:href=\"#DejaVuSans-5d\"/>\r\n     </g>\r\n    </g>\r\n   </g>\r\n   <g id=\"line2d_27\">\r\n    <path clip-path=\"url(#pb5103ce41a)\" d=\"M 73.741619 154.535191 \r\nL 74.655624 119.752572 \r\nL 75.874297 72.013312 \r\nL 76.483634 55.085152 \r\nL 76.788302 49.168402 \r\nL 77.092971 46.152133 \r\nL 77.397639 45.532669 \r\nL 77.702307 47.941053 \r\nL 78.311644 56.61355 \r\nL 78.92098 73.263818 \r\nL 81.662995 173.657526 \r\nL 81.967664 180.228477 \r\nL 82.272332 183.956841 \r\nL 82.577 184.825248 \r\nL 82.881668 187.766256 \r\nL 83.186337 183.58053 \r\nL 84.100342 162.657697 \r\nL 84.709678 137.641769 \r\nL 86.537688 61.586631 \r\nL 87.147025 47.032119 \r\nL 87.451693 42.244299 \r\nL 87.756361 40.125384 \r\nL 88.06103 40.032755 \r\nL 88.365698 42.747976 \r\nL 88.975035 55.386201 \r\nL 89.889039 88.217798 \r\nL 92.021718 182.816332 \r\nL 92.631054 197.903468 \r\nL 92.935723 201.278678 \r\nL 93.240391 202.048666 \r\nL 93.849727 191.216728 \r\nL 94.459064 170.010215 \r\nL 95.068401 139.760684 \r\nL 96.89641 43.118496 \r\nL 97.201079 29.183449 \r\nL 97.505747 21.587776 \r\nL 97.810415 18.583086 \r\nL 98.115084 17.083636 \r\nL 98.419752 19.995696 \r\nL 98.72442 25.924025 \r\nL 99.333757 49.052614 \r\nL 99.943094 82.914722 \r\nL 101.466435 177.559572 \r\nL 102.075772 205.227038 \r\nL 102.38044 212.301666 \r\nL 102.685108 214.640576 \r\nL 102.989777 214.756364 \r\nL 103.294445 212.243771 \r\nL 103.599113 204.873885 \r\nL 104.20845 180.784258 \r\nL 106.950465 29.200817 \r\nL 107.255133 22.369344 \r\nL 107.559801 18.565719 \r\nL 107.864469 18.959397 \r\nL 108.169138 21.773037 \r\nL 108.473806 27.765049 \r\nL 108.778474 36.755962 \r\nL 109.692479 79.875295 \r\nL 110.911152 152.94311 \r\nL 111.520489 181.502142 \r\nL 112.129826 199.605545 \r\nL 112.739162 205.724925 \r\nL 113.043831 204.920201 \r\nL 113.653167 192.056189 \r\nL 114.567172 152.271542 \r\nL 116.090514 70.53123 \r\nL 116.69985 46.84107 \r\nL 117.004519 38.417515 \r\nL 117.613855 30.607638 \r\nL 117.918523 32.408136 \r\nL 118.52786 42.70166 \r\nL 119.441865 75.747464 \r\nL 120.965207 150.384204 \r\nL 121.574543 170.913359 \r\nL 122.18388 184.408413 \r\nL 122.488548 188.57098 \r\nL 122.793216 189.074657 \r\nL 123.097885 187.482576 \r\nL 123.402553 183.082643 \r\nL 124.316558 158.952491 \r\nL 126.753904 71.353321 \r\nL 127.363241 57.412485 \r\nL 127.667909 53.302023 \r\nL 127.972578 51.808361 \r\nL 128.277246 51.733099 \r\nL 128.581914 53.672543 \r\nL 128.886582 57.545642 \r\nL 129.191251 63.00503 \r\nL 129.800587 80.176342 \r\nL 131.323929 133.583411 \r\nL 132.237934 164.180305 \r\nL 132.84727 178.79271 \r\nL 133.151939 182.295288 \r\nL 133.456607 181.994239 \r\nL 133.761275 182.220026 \r\nL 134.370612 173.854366 \r\nL 134.67528 168.093929 \r\nL 135.893953 123.046732 \r\nL 137.112627 69.587559 \r\nL 138.026632 43.749538 \r\nL 138.3313 39.013823 \r\nL 138.635968 38.903825 \r\nL 139.245305 42.122721 \r\nL 139.549973 47.466323 \r\nL 140.15931 67.99548 \r\nL 141.073315 107.096979 \r\nL 142.291988 166.525005 \r\nL 142.901324 184.616831 \r\nL 143.205993 191.691459 \r\nL 143.510661 195.292456 \r\nL 143.815329 196.757169 \r\nL 144.424666 190.041483 \r\nL 144.729334 183.458954 \r\nL 145.338671 159.444589 \r\nL 146.862012 81.600531 \r\nL 147.471349 54.569898 \r\nL 148.080686 31.80025 \r\nL 148.690022 21.825141 \r\nL 148.994691 22.861441 \r\nL 149.299359 25.594031 \r\nL 149.604027 33.392331 \r\nL 150.213364 58.477731 \r\nL 151.127369 107.728022 \r\nL 152.041374 162.489805 \r\nL 152.65071 188.872027 \r\nL 152.955379 199.049765 \r\nL 153.260047 204.538102 \r\nL 153.564715 207.102798 \r\nL 153.869383 207.46753 \r\nL 154.174052 201.776565 \r\nL 154.47872 193.491957 \r\nL 155.392725 151.947336 \r\nL 157.220735 47.97 \r\nL 157.830071 30.231327 \r\nL 158.13474 23.961424 \r\nL 158.439408 22.050927 \r\nL 158.744076 22.95986 \r\nL 159.048745 27.139796 \r\nL 159.658081 45.613721 \r\nL 160.572086 86.764662 \r\nL 161.181423 120.007305 \r\nL 162.704764 183.794738 \r\nL 163.314101 194.580361 \r\nL 163.618769 195.52982 \r\nL 163.923438 191.917244 \r\nL 164.532774 176.222224 \r\nL 165.142111 153.481524 \r\nL 167.579457 47.784739 \r\nL 167.884125 40.079069 \r\nL 168.188794 35.650191 \r\nL 168.493462 33.577592 \r\nL 168.79813 33.716537 \r\nL 169.102799 37.456479 \r\nL 170.016804 61.586631 \r\nL 172.45415 161.546135 \r\nL 173.063487 174.404357 \r\nL 173.368155 177.542203 \r\nL 173.672823 178.184825 \r\nL 173.977492 176.204855 \r\nL 174.586828 165.778176 \r\nL 175.500833 140.947507 \r\nL 177.328843 71.445952 \r\nL 177.93818 60.087181 \r\nL 178.547516 50.088915 \r\nL 178.852184 48.450518 \r\nL 179.461521 51.90678 \r\nL 180.375526 67.323911 \r\nL 180.984863 86.029411 \r\nL 182.812872 148.52581 \r\nL 183.726877 167.839195 \r\nL 184.336214 172.557544 \r\nL 184.640882 172.77175 \r\nL 184.945551 169.703377 \r\nL 185.250219 165.013976 \r\nL 186.164224 138.174393 \r\nL 187.382897 88.727263 \r\nL 188.296902 55.357254 \r\nL 188.906238 38.27857 \r\nL 189.210907 34.857044 \r\nL 189.515575 33.044968 \r\nL 189.820243 33.49654 \r\nL 190.124912 38.28436 \r\nL 190.734248 55.177783 \r\nL 191.952922 105.667 \r\nL 192.866926 147.558984 \r\nL 193.476263 169.460223 \r\nL 193.780931 179.180599 \r\nL 194.0856 184.871564 \r\nL 194.390268 185.427344 \r\nL 194.694936 185.242084 \r\nL 194.999605 182.497916 \r\nL 195.608941 166.160275 \r\nL 195.913609 156.677263 \r\nL 198.655624 33.994427 \r\nL 198.960293 26.890853 \r\nL 199.264961 23.150911 \r\nL 199.569629 23.150911 \r\nL 199.874297 25.484033 \r\nL 200.178966 30.509217 \r\nL 200.788302 49.417346 \r\nL 201.702307 93.445612 \r\nL 202.92098 158.49513 \r\nL 203.530317 180.680049 \r\nL 204.139654 194.458783 \r\nL 204.444322 194.412468 \r\nL 204.74899 191.755142 \r\nL 205.053659 186.724166 \r\nL 205.662995 167.503412 \r\nL 206.881668 106.940665 \r\nL 208.100342 45.15636 \r\nL 208.40501 34.370737 \r\nL 209.014347 23.289856 \r\nL 209.319015 23.040912 \r\nL 209.928352 30.642374 \r\nL 210.537688 49.886287 \r\nL 212.06103 122.201482 \r\nL 212.670366 149.967367 \r\nL 213.279703 173.217534 \r\nL 213.889039 182.069502 \r\nL 214.193708 183.076855 \r\nL 214.498376 182.752649 \r\nL 214.803044 177.912724 \r\nL 215.717049 150.592621 \r\nL 217.545059 77.189021 \r\nL 218.154396 57.783006 \r\nL 218.763732 44.276372 \r\nL 219.068401 40.495906 \r\nL 219.373069 38.29015 \r\nL 219.677737 40.270119 \r\nL 219.982406 44.230058 \r\nL 220.89641 67.653905 \r\nL 223.333757 153.562575 \r\nL 223.638425 161.088773 \r\nL 223.943094 164.573984 \r\nL 224.247762 166.472901 \r\nL 224.55243 166.183432 \r\nL 224.857098 164.249778 \r\nL 225.161767 161.528767 \r\nL 225.466435 156.463055 \r\nL 226.38044 131.458707 \r\nL 228.513118 63.248184 \r\nL 229.427123 51.796782 \r\nL 229.731791 50.743114 \r\nL 230.03646 51.310474 \r\nL 230.341128 52.445193 \r\nL 230.950465 61.806628 \r\nL 232.169138 95.738208 \r\nL 233.692479 142.649586 \r\nL 234.301816 154.402036 \r\nL 234.911152 162.993481 \r\nL 235.215821 163.578209 \r\nL 235.520489 163.080322 \r\nL 235.825157 159.178278 \r\nL 237.043831 127.94455 \r\nL 237.957836 95.014534 \r\nL 238.567172 69.251775 \r\nL 239.785845 37.514372 \r\nL 240.090514 35.511246 \r\nL 240.395182 35.308616 \r\nL 240.69985 35.991764 \r\nL 241.309187 46.511075 \r\nL 241.918523 68.528102 \r\nL 244.051202 157.041995 \r\nL 244.660538 172.314389 \r\nL 245.269875 178.028512 \r\nL 245.574543 176.34959 \r\nL 246.18388 165.100817 \r\nL 246.793216 144.357454 \r\nL 247.707221 103.160197 \r\nL 248.621226 62.061361 \r\nL 249.230563 43.095339 \r\nL 249.839899 29.855017 \r\nL 250.144568 26.751907 \r\nL 250.449236 26.63033 \r\nL 250.753904 30.76974 \r\nL 251.667909 55.519357 \r\nL 252.277246 80.570021 \r\nL 253.191251 127.840341 \r\nL 254.105256 164.099253 \r\nL 254.409924 173.333322 \r\nL 254.714592 178.144299 \r\nL 255.019261 179.36586 \r\nL 255.323929 179.36586 \r\nL 255.628597 175.637496 \r\nL 256.237934 160.735621 \r\nL 257.151939 120.05362 \r\nL 258.67528 46.418445 \r\nL 259.284617 28.679772 \r\nL 259.589285 23.666165 \r\nL 259.893953 23.052491 \r\nL 260.198622 22.166716 \r\nL 260.50329 24.412996 \r\nL 261.417295 50.685221 \r\nL 263.854641 153.498891 \r\nL 264.463978 166.739212 \r\nL 264.768646 168.047613 \r\nL 265.073315 165.893962 \r\nL 265.377983 162.617171 \r\nL 265.98732 151.762077 \r\nL 266.596656 132.228695 \r\nL 268.424666 64.655004 \r\nL 269.034003 48.705252 \r\nL 269.643339 39.314871 \r\nL 269.948008 38.643302 \r\nL 270.252676 40.472747 \r\nL 270.557344 43.170601 \r\nL 271.471349 63.172922 \r\nL 272.080686 79.701614 \r\nL 272.994691 111.010602 \r\nL 273.908695 136.576522 \r\nL 274.8227 152.462592 \r\nL 275.127369 153.753624 \r\nL 275.432037 153.23258 \r\nL 275.736705 152.155754 \r\nL 276.041374 149.631583 \r\nL 276.955379 129.849257 \r\nL 279.088057 65.587096 \r\nL 280.002062 47.96421 \r\nL 280.30673 45.839506 \r\nL 280.611398 45.729508 \r\nL 280.916066 49.191559 \r\nL 281.220735 50.650485 \r\nL 281.525403 55.050416 \r\nL 282.744076 83.551554 \r\nL 284.267418 131.175027 \r\nL 285.181423 149.023697 \r\nL 285.486091 151.183138 \r\nL 285.790759 152.288911 \r\nL 286.095428 152.358383 \r\nL 286.704764 147.240568 \r\nL 287.009433 141.77539 \r\nL 287.923437 115.960526 \r\nL 289.446779 61.007692 \r\nL 290.056116 43.529543 \r\nL 290.665452 35.059674 \r\nL 290.970121 32.73234 \r\nL 291.274789 31.840776 \r\nL 291.579457 35.933871 \r\nL 292.79813 68.423893 \r\nL 294.016804 121.003079 \r\nL 295.235477 159.930897 \r\nL 295.540145 165.726071 \r\nL 295.844813 167.978141 \r\nL 296.149482 167.23131 \r\nL 296.758818 158.147767 \r\nL 297.368155 141.439605 \r\nL 298.586828 87.841487 \r\nL 299.805501 38.782247 \r\nL 300.414838 26.508754 \r\nL 300.719506 22.734075 \r\nL 301.024175 22.074084 \r\nL 301.328843 25.345087 \r\nL 301.93818 38.359622 \r\nL 302.547516 60.984535 \r\nL 304.680194 149.070013 \r\nL 305.289531 161.135089 \r\nL 305.594199 165.73765 \r\nL 305.898867 165.54081 \r\nL 306.508204 158.402501 \r\nL 307.117541 142.90432 \r\nL 307.726877 120.534139 \r\nL 309.554887 47.553165 \r\nL 309.859555 38.695407 \r\nL 310.468892 29.455549 \r\nL 310.77356 26.25402 \r\nL 311.078229 29.021346 \r\nL 311.687565 37.91384 \r\nL 312.296902 55.999875 \r\nL 312.906238 79.371618 \r\nL 313.515575 105.180692 \r\nL 314.734248 147.130569 \r\nL 315.038917 153.626258 \r\nL 315.343585 156.306743 \r\nL 315.648253 157.267781 \r\nL 315.952922 157.308307 \r\nL 316.562258 146.511104 \r\nL 316.866926 140.629091 \r\nL 317.476263 124.303027 \r\nL 318.694936 79.365829 \r\nL 319.913609 47.147907 \r\nL 320.218278 43.222704 \r\nL 320.827614 40.640639 \r\nL 321.132283 41.491678 \r\nL 322.046288 55.999875 \r\nL 322.960293 79.944768 \r\nL 323.569629 99.379731 \r\nL 324.483634 122.543055 \r\nL 325.092971 135.436013 \r\nL 325.702307 141.729074 \r\nL 326.006976 145.359018 \r\nL 326.311644 145.799012 \r\nL 326.92098 140.241202 \r\nL 327.225649 135.957057 \r\nL 328.139654 113.940031 \r\nL 328.74899 96.450301 \r\nL 329.967664 62.460827 \r\nL 330.577 49.74734 \r\nL 330.881668 45.99582 \r\nL 331.491005 44.316898 \r\nL 332.100342 48.589463 \r\nL 332.40501 50.534697 \r\nL 333.319015 73.582234 \r\nL 333.928352 90.927229 \r\nL 334.842356 121.940959 \r\nL 335.756361 140.495935 \r\nL 336.365698 146.36637 \r\nL 336.670366 147.634246 \r\nL 336.975035 145.469016 \r\nL 337.584371 137.149672 \r\nL 337.889039 132.332904 \r\nL 338.803044 105.759631 \r\nL 340.326386 55.218308 \r\nL 340.935723 41.566941 \r\nL 341.240391 35.708084 \r\nL 341.545059 33.334436 \r\nL 341.849727 33.704958 \r\nL 342.154396 35.233355 \r\nL 342.459064 38.741721 \r\nL 343.068401 50.812587 \r\nL 343.982406 83.545764 \r\nL 345.201079 131.267657 \r\nL 345.810415 147.871611 \r\nL 346.419752 157.3662 \r\nL 346.72442 159.247751 \r\nL 347.029089 158.003033 \r\nL 347.333757 154.92887 \r\nL 347.638425 149.203168 \r\nL 348.857098 106.790142 \r\nL 350.38044 43.795854 \r\nL 350.989777 29.061871 \r\nL 351.599113 24.158263 \r\nL 351.903781 24.146685 \r\nL 352.20845 30.706057 \r\nL 352.513118 34.359157 \r\nL 352.817786 41.931672 \r\nL 354.03646 87.245181 \r\nL 354.950465 126.485626 \r\nL 355.559801 146.059533 \r\nL 356.169138 157.018837 \r\nL 356.473806 159.108805 \r\nL 356.778474 158.419868 \r\nL 357.083143 155.698857 \r\nL 357.387811 151.403135 \r\nL 357.692479 144.837973 \r\nL 360.129826 53.875172 \r\nL 360.739162 39.32066 \r\nL 361.043831 33.409698 \r\nL 361.348499 31.759724 \r\nL 361.653167 32.008668 \r\nL 361.957836 32.078141 \r\nL 362.567172 42.174826 \r\nL 363.481177 69.379141 \r\nL 364.69985 117.998389 \r\nL 365.918523 146.777417 \r\nL 366.223192 150.911037 \r\nL 366.52786 152.786798 \r\nL 366.832528 151.34524 \r\nL 367.137197 149.220537 \r\nL 367.441865 143.593255 \r\nL 368.965207 100.809708 \r\nL 370.18388 62.223463 \r\nL 370.793216 50.691011 \r\nL 371.097885 47.605268 \r\nL 371.402553 46.788965 \r\nL 371.707221 44.542685 \r\nL 372.621226 52.601508 \r\nL 374.449236 98.169749 \r\nL 375.058573 113.911084 \r\nL 375.363241 119.439945 \r\nL 375.667909 127.990866 \r\nL 376.277246 134.53866 \r\nL 376.581914 138.955958 \r\nL 376.886582 138.735963 \r\nL 377.191251 139.679632 \r\nL 377.495919 137.960185 \r\nL 378.105256 131.325551 \r\nL 378.105256 131.325551 \r\n\" style=\"fill:none;stroke:#1f77b4;stroke-linecap:square;stroke-width:1.5;\"/>\r\n   </g>\r\n   <g id=\"patch_3\">\r\n    <path d=\"M 58.523438 224.64 \r\nL 58.523438 7.2 \r\n\" style=\"fill:none;stroke:#000000;stroke-linecap:square;stroke-linejoin:miter;stroke-width:0.8;\"/>\r\n   </g>\r\n   <g id=\"patch_4\">\r\n    <path d=\"M 393.323438 224.64 \r\nL 393.323438 7.2 \r\n\" style=\"fill:none;stroke:#000000;stroke-linecap:square;stroke-linejoin:miter;stroke-width:0.8;\"/>\r\n   </g>\r\n   <g id=\"patch_5\">\r\n    <path d=\"M 58.523438 224.64 \r\nL 393.323438 224.64 \r\n\" style=\"fill:none;stroke:#000000;stroke-linecap:square;stroke-linejoin:miter;stroke-width:0.8;\"/>\r\n   </g>\r\n   <g id=\"patch_6\">\r\n    <path d=\"M 58.523438 7.2 \r\nL 393.323438 7.2 \r\n\" style=\"fill:none;stroke:#000000;stroke-linecap:square;stroke-linejoin:miter;stroke-width:0.8;\"/>\r\n   </g>\r\n  </g>\r\n </g>\r\n <defs>\r\n  <clipPath id=\"pb5103ce41a\">\r\n   <rect height=\"217.44\" width=\"334.8\" x=\"58.523438\" y=\"7.2\"/>\r\n  </clipPath>\r\n </defs>\r\n</svg>\r\n",
      "image/png": "[encoded data removed]"
     },
     "metadata": {
      "needs_background": "light"
     }
    }
   ],
   "metadata": {}
  },
  {
   "cell_type": "code",
   "execution_count": 30,
   "source": [
    "plt.grid();\r\n",
    "plt.plot(CompositeBeam_Data['Time'],CompositeBeam_Data['Strain Gauge Data']);plt.xlabel('Time [s]');plt.ylabel('Strain');"
   ],
   "outputs": [
    {
     "output_type": "display_data",
     "data": {
      "text/plain": [
       "<Figure size 432x288 with 1 Axes>"
      ],
      "image/svg+xml": "<?xml version=\"1.0\" encoding=\"utf-8\" standalone=\"no\"?>\r\n<!DOCTYPE svg PUBLIC \"-//W3C//DTD SVG 1.1//EN\"\r\n  \"http://www.w3.org/Graphics/SVG/1.1/DTD/svg11.dtd\">\r\n<svg height=\"262.19625pt\" version=\"1.1\" viewBox=\"0 0 417.59375 262.19625\" width=\"417.59375pt\" xmlns=\"http://www.w3.org/2000/svg\" xmlns:xlink=\"http://www.w3.org/1999/xlink\">\r\n <metadata>\r\n  <rdf:RDF xmlns:cc=\"http://creativecommons.org/ns#\" xmlns:dc=\"http://purl.org/dc/elements/1.1/\" xmlns:rdf=\"http://www.w3.org/1999/02/22-rdf-syntax-ns#\">\r\n   <cc:Work>\r\n    <dc:type rdf:resource=\"http://purl.org/dc/dcmitype/StillImage\"/>\r\n    <dc:date>2021-08-27T14:06:47.190579</dc:date>\r\n    <dc:format>image/svg+xml</dc:format>\r\n    <dc:creator>\r\n     <cc:Agent>\r\n      <dc:title>Matplotlib v3.4.2, https://matplotlib.org/</dc:title>\r\n     </cc:Agent>\r\n    </dc:creator>\r\n   </cc:Work>\r\n  </rdf:RDF>\r\n </metadata>\r\n <defs>\r\n  <style type=\"text/css\">*{stroke-linecap:butt;stroke-linejoin:round;}</style>\r\n </defs>\r\n <g id=\"figure_1\">\r\n  <g id=\"patch_1\">\r\n   <path d=\"M 0 262.19625 \r\nL 417.59375 262.19625 \r\nL 417.59375 0 \r\nL 0 0 \r\nz\r\n\" style=\"fill:none;\"/>\r\n  </g>\r\n  <g id=\"axes_1\">\r\n   <g id=\"patch_2\">\r\n    <path d=\"M 75.59375 224.64 \r\nL 410.39375 224.64 \r\nL 410.39375 7.2 \r\nL 75.59375 7.2 \r\nz\r\n\" style=\"fill:#ffffff;\"/>\r\n   </g>\r\n   <g id=\"matplotlib.axis_1\">\r\n    <g id=\"xtick_1\">\r\n     <g id=\"line2d_1\">\r\n      <path clip-path=\"url(#p137625983a)\" d=\"M 90.811932 224.64 \r\nL 90.811932 7.2 \r\n\" style=\"fill:none;stroke:#b0b0b0;stroke-linecap:square;stroke-width:0.8;\"/>\r\n     </g>\r\n     <g id=\"line2d_2\">\r\n      <defs>\r\n       <path d=\"M 0 0 \r\nL 0 3.5 \r\n\" id=\"m8b44d5c159\" style=\"stroke:#000000;stroke-width:0.8;\"/>\r\n      </defs>\r\n      <g>\r\n       <use style=\"stroke:#000000;stroke-width:0.8;\" x=\"90.811932\" xlink:href=\"#m8b44d5c159\" y=\"224.64\"/>\r\n      </g>\r\n     </g>\r\n     <g id=\"text_1\">\r\n      <!-- 0.0 -->\r\n      <g transform=\"translate(82.860369 239.238438)scale(0.1 -0.1)\">\r\n       <defs>\r\n        <path d=\"M 2034 4250 \r\nQ 1547 4250 1301 3770 \r\nQ 1056 3291 1056 2328 \r\nQ 1056 1369 1301 889 \r\nQ 1547 409 2034 409 \r\nQ 2525 409 2770 889 \r\nQ 3016 1369 3016 2328 \r\nQ 3016 3291 2770 3770 \r\nQ 2525 4250 2034 4250 \r\nz\r\nM 2034 4750 \r\nQ 2819 4750 3233 4129 \r\nQ 3647 3509 3647 2328 \r\nQ 3647 1150 3233 529 \r\nQ 2819 -91 2034 -91 \r\nQ 1250 -91 836 529 \r\nQ 422 1150 422 2328 \r\nQ 422 3509 836 4129 \r\nQ 1250 4750 2034 4750 \r\nz\r\n\" id=\"DejaVuSans-30\" transform=\"scale(0.015625)\"/>\r\n        <path d=\"M 684 794 \r\nL 1344 794 \r\nL 1344 0 \r\nL 684 0 \r\nL 684 794 \r\nz\r\n\" id=\"DejaVuSans-2e\" transform=\"scale(0.015625)\"/>\r\n       </defs>\r\n       <use xlink:href=\"#DejaVuSans-30\"/>\r\n       <use x=\"63.623047\" xlink:href=\"#DejaVuSans-2e\"/>\r\n       <use x=\"95.410156\" xlink:href=\"#DejaVuSans-30\"/>\r\n      </g>\r\n     </g>\r\n    </g>\r\n    <g id=\"xtick_2\">\r\n     <g id=\"line2d_3\">\r\n      <path clip-path=\"url(#p137625983a)\" d=\"M 151.745593 224.64 \r\nL 151.745593 7.2 \r\n\" style=\"fill:none;stroke:#b0b0b0;stroke-linecap:square;stroke-width:0.8;\"/>\r\n     </g>\r\n     <g id=\"line2d_4\">\r\n      <g>\r\n       <use style=\"stroke:#000000;stroke-width:0.8;\" x=\"151.745593\" xlink:href=\"#m8b44d5c159\" y=\"224.64\"/>\r\n      </g>\r\n     </g>\r\n     <g id=\"text_2\">\r\n      <!-- 0.2 -->\r\n      <g transform=\"translate(143.79403 239.238438)scale(0.1 -0.1)\">\r\n       <defs>\r\n        <path d=\"M 1228 531 \r\nL 3431 531 \r\nL 3431 0 \r\nL 469 0 \r\nL 469 531 \r\nQ 828 903 1448 1529 \r\nQ 2069 2156 2228 2338 \r\nQ 2531 2678 2651 2914 \r\nQ 2772 3150 2772 3378 \r\nQ 2772 3750 2511 3984 \r\nQ 2250 4219 1831 4219 \r\nQ 1534 4219 1204 4116 \r\nQ 875 4013 500 3803 \r\nL 500 4441 \r\nQ 881 4594 1212 4672 \r\nQ 1544 4750 1819 4750 \r\nQ 2544 4750 2975 4387 \r\nQ 3406 4025 3406 3419 \r\nQ 3406 3131 3298 2873 \r\nQ 3191 2616 2906 2266 \r\nQ 2828 2175 2409 1742 \r\nQ 1991 1309 1228 531 \r\nz\r\n\" id=\"DejaVuSans-32\" transform=\"scale(0.015625)\"/>\r\n       </defs>\r\n       <use xlink:href=\"#DejaVuSans-30\"/>\r\n       <use x=\"63.623047\" xlink:href=\"#DejaVuSans-2e\"/>\r\n       <use x=\"95.410156\" xlink:href=\"#DejaVuSans-32\"/>\r\n      </g>\r\n     </g>\r\n    </g>\r\n    <g id=\"xtick_3\">\r\n     <g id=\"line2d_5\">\r\n      <path clip-path=\"url(#p137625983a)\" d=\"M 212.679254 224.64 \r\nL 212.679254 7.2 \r\n\" style=\"fill:none;stroke:#b0b0b0;stroke-linecap:square;stroke-width:0.8;\"/>\r\n     </g>\r\n     <g id=\"line2d_6\">\r\n      <g>\r\n       <use style=\"stroke:#000000;stroke-width:0.8;\" x=\"212.679254\" xlink:href=\"#m8b44d5c159\" y=\"224.64\"/>\r\n      </g>\r\n     </g>\r\n     <g id=\"text_3\">\r\n      <!-- 0.4 -->\r\n      <g transform=\"translate(204.727691 239.238438)scale(0.1 -0.1)\">\r\n       <defs>\r\n        <path d=\"M 2419 4116 \r\nL 825 1625 \r\nL 2419 1625 \r\nL 2419 4116 \r\nz\r\nM 2253 4666 \r\nL 3047 4666 \r\nL 3047 1625 \r\nL 3713 1625 \r\nL 3713 1100 \r\nL 3047 1100 \r\nL 3047 0 \r\nL 2419 0 \r\nL 2419 1100 \r\nL 313 1100 \r\nL 313 1709 \r\nL 2253 4666 \r\nz\r\n\" id=\"DejaVuSans-34\" transform=\"scale(0.015625)\"/>\r\n       </defs>\r\n       <use xlink:href=\"#DejaVuSans-30\"/>\r\n       <use x=\"63.623047\" xlink:href=\"#DejaVuSans-2e\"/>\r\n       <use x=\"95.410156\" xlink:href=\"#DejaVuSans-34\"/>\r\n      </g>\r\n     </g>\r\n    </g>\r\n    <g id=\"xtick_4\">\r\n     <g id=\"line2d_7\">\r\n      <path clip-path=\"url(#p137625983a)\" d=\"M 273.612915 224.64 \r\nL 273.612915 7.2 \r\n\" style=\"fill:none;stroke:#b0b0b0;stroke-linecap:square;stroke-width:0.8;\"/>\r\n     </g>\r\n     <g id=\"line2d_8\">\r\n      <g>\r\n       <use style=\"stroke:#000000;stroke-width:0.8;\" x=\"273.612915\" xlink:href=\"#m8b44d5c159\" y=\"224.64\"/>\r\n      </g>\r\n     </g>\r\n     <g id=\"text_4\">\r\n      <!-- 0.6 -->\r\n      <g transform=\"translate(265.661352 239.238438)scale(0.1 -0.1)\">\r\n       <defs>\r\n        <path d=\"M 2113 2584 \r\nQ 1688 2584 1439 2293 \r\nQ 1191 2003 1191 1497 \r\nQ 1191 994 1439 701 \r\nQ 1688 409 2113 409 \r\nQ 2538 409 2786 701 \r\nQ 3034 994 3034 1497 \r\nQ 3034 2003 2786 2293 \r\nQ 2538 2584 2113 2584 \r\nz\r\nM 3366 4563 \r\nL 3366 3988 \r\nQ 3128 4100 2886 4159 \r\nQ 2644 4219 2406 4219 \r\nQ 1781 4219 1451 3797 \r\nQ 1122 3375 1075 2522 \r\nQ 1259 2794 1537 2939 \r\nQ 1816 3084 2150 3084 \r\nQ 2853 3084 3261 2657 \r\nQ 3669 2231 3669 1497 \r\nQ 3669 778 3244 343 \r\nQ 2819 -91 2113 -91 \r\nQ 1303 -91 875 529 \r\nQ 447 1150 447 2328 \r\nQ 447 3434 972 4092 \r\nQ 1497 4750 2381 4750 \r\nQ 2619 4750 2861 4703 \r\nQ 3103 4656 3366 4563 \r\nz\r\n\" id=\"DejaVuSans-36\" transform=\"scale(0.015625)\"/>\r\n       </defs>\r\n       <use xlink:href=\"#DejaVuSans-30\"/>\r\n       <use x=\"63.623047\" xlink:href=\"#DejaVuSans-2e\"/>\r\n       <use x=\"95.410156\" xlink:href=\"#DejaVuSans-36\"/>\r\n      </g>\r\n     </g>\r\n    </g>\r\n    <g id=\"xtick_5\">\r\n     <g id=\"line2d_9\">\r\n      <path clip-path=\"url(#p137625983a)\" d=\"M 334.546576 224.64 \r\nL 334.546576 7.2 \r\n\" style=\"fill:none;stroke:#b0b0b0;stroke-linecap:square;stroke-width:0.8;\"/>\r\n     </g>\r\n     <g id=\"line2d_10\">\r\n      <g>\r\n       <use style=\"stroke:#000000;stroke-width:0.8;\" x=\"334.546576\" xlink:href=\"#m8b44d5c159\" y=\"224.64\"/>\r\n      </g>\r\n     </g>\r\n     <g id=\"text_5\">\r\n      <!-- 0.8 -->\r\n      <g transform=\"translate(326.595013 239.238438)scale(0.1 -0.1)\">\r\n       <defs>\r\n        <path d=\"M 2034 2216 \r\nQ 1584 2216 1326 1975 \r\nQ 1069 1734 1069 1313 \r\nQ 1069 891 1326 650 \r\nQ 1584 409 2034 409 \r\nQ 2484 409 2743 651 \r\nQ 3003 894 3003 1313 \r\nQ 3003 1734 2745 1975 \r\nQ 2488 2216 2034 2216 \r\nz\r\nM 1403 2484 \r\nQ 997 2584 770 2862 \r\nQ 544 3141 544 3541 \r\nQ 544 4100 942 4425 \r\nQ 1341 4750 2034 4750 \r\nQ 2731 4750 3128 4425 \r\nQ 3525 4100 3525 3541 \r\nQ 3525 3141 3298 2862 \r\nQ 3072 2584 2669 2484 \r\nQ 3125 2378 3379 2068 \r\nQ 3634 1759 3634 1313 \r\nQ 3634 634 3220 271 \r\nQ 2806 -91 2034 -91 \r\nQ 1263 -91 848 271 \r\nQ 434 634 434 1313 \r\nQ 434 1759 690 2068 \r\nQ 947 2378 1403 2484 \r\nz\r\nM 1172 3481 \r\nQ 1172 3119 1398 2916 \r\nQ 1625 2713 2034 2713 \r\nQ 2441 2713 2670 2916 \r\nQ 2900 3119 2900 3481 \r\nQ 2900 3844 2670 4047 \r\nQ 2441 4250 2034 4250 \r\nQ 1625 4250 1398 4047 \r\nQ 1172 3844 1172 3481 \r\nz\r\n\" id=\"DejaVuSans-38\" transform=\"scale(0.015625)\"/>\r\n       </defs>\r\n       <use xlink:href=\"#DejaVuSans-30\"/>\r\n       <use x=\"63.623047\" xlink:href=\"#DejaVuSans-2e\"/>\r\n       <use x=\"95.410156\" xlink:href=\"#DejaVuSans-38\"/>\r\n      </g>\r\n     </g>\r\n    </g>\r\n    <g id=\"xtick_6\">\r\n     <g id=\"line2d_11\">\r\n      <path clip-path=\"url(#p137625983a)\" d=\"M 395.480236 224.64 \r\nL 395.480236 7.2 \r\n\" style=\"fill:none;stroke:#b0b0b0;stroke-linecap:square;stroke-width:0.8;\"/>\r\n     </g>\r\n     <g id=\"line2d_12\">\r\n      <g>\r\n       <use style=\"stroke:#000000;stroke-width:0.8;\" x=\"395.480236\" xlink:href=\"#m8b44d5c159\" y=\"224.64\"/>\r\n      </g>\r\n     </g>\r\n     <g id=\"text_6\">\r\n      <!-- 1.0 -->\r\n      <g transform=\"translate(387.528674 239.238438)scale(0.1 -0.1)\">\r\n       <defs>\r\n        <path d=\"M 794 531 \r\nL 1825 531 \r\nL 1825 4091 \r\nL 703 3866 \r\nL 703 4441 \r\nL 1819 4666 \r\nL 2450 4666 \r\nL 2450 531 \r\nL 3481 531 \r\nL 3481 0 \r\nL 794 0 \r\nL 794 531 \r\nz\r\n\" id=\"DejaVuSans-31\" transform=\"scale(0.015625)\"/>\r\n       </defs>\r\n       <use xlink:href=\"#DejaVuSans-31\"/>\r\n       <use x=\"63.623047\" xlink:href=\"#DejaVuSans-2e\"/>\r\n       <use x=\"95.410156\" xlink:href=\"#DejaVuSans-30\"/>\r\n      </g>\r\n     </g>\r\n    </g>\r\n    <g id=\"text_7\">\r\n     <!-- Time [s] -->\r\n     <g transform=\"translate(222.664844 252.916563)scale(0.1 -0.1)\">\r\n      <defs>\r\n       <path d=\"M -19 4666 \r\nL 3928 4666 \r\nL 3928 4134 \r\nL 2272 4134 \r\nL 2272 0 \r\nL 1638 0 \r\nL 1638 4134 \r\nL -19 4134 \r\nL -19 4666 \r\nz\r\n\" id=\"DejaVuSans-54\" transform=\"scale(0.015625)\"/>\r\n       <path d=\"M 603 3500 \r\nL 1178 3500 \r\nL 1178 0 \r\nL 603 0 \r\nL 603 3500 \r\nz\r\nM 603 4863 \r\nL 1178 4863 \r\nL 1178 4134 \r\nL 603 4134 \r\nL 603 4863 \r\nz\r\n\" id=\"DejaVuSans-69\" transform=\"scale(0.015625)\"/>\r\n       <path d=\"M 3328 2828 \r\nQ 3544 3216 3844 3400 \r\nQ 4144 3584 4550 3584 \r\nQ 5097 3584 5394 3201 \r\nQ 5691 2819 5691 2113 \r\nL 5691 0 \r\nL 5113 0 \r\nL 5113 2094 \r\nQ 5113 2597 4934 2840 \r\nQ 4756 3084 4391 3084 \r\nQ 3944 3084 3684 2787 \r\nQ 3425 2491 3425 1978 \r\nL 3425 0 \r\nL 2847 0 \r\nL 2847 2094 \r\nQ 2847 2600 2669 2842 \r\nQ 2491 3084 2119 3084 \r\nQ 1678 3084 1418 2786 \r\nQ 1159 2488 1159 1978 \r\nL 1159 0 \r\nL 581 0 \r\nL 581 3500 \r\nL 1159 3500 \r\nL 1159 2956 \r\nQ 1356 3278 1631 3431 \r\nQ 1906 3584 2284 3584 \r\nQ 2666 3584 2933 3390 \r\nQ 3200 3197 3328 2828 \r\nz\r\n\" id=\"DejaVuSans-6d\" transform=\"scale(0.015625)\"/>\r\n       <path d=\"M 3597 1894 \r\nL 3597 1613 \r\nL 953 1613 \r\nQ 991 1019 1311 708 \r\nQ 1631 397 2203 397 \r\nQ 2534 397 2845 478 \r\nQ 3156 559 3463 722 \r\nL 3463 178 \r\nQ 3153 47 2828 -22 \r\nQ 2503 -91 2169 -91 \r\nQ 1331 -91 842 396 \r\nQ 353 884 353 1716 \r\nQ 353 2575 817 3079 \r\nQ 1281 3584 2069 3584 \r\nQ 2775 3584 3186 3129 \r\nQ 3597 2675 3597 1894 \r\nz\r\nM 3022 2063 \r\nQ 3016 2534 2758 2815 \r\nQ 2500 3097 2075 3097 \r\nQ 1594 3097 1305 2825 \r\nQ 1016 2553 972 2059 \r\nL 3022 2063 \r\nz\r\n\" id=\"DejaVuSans-65\" transform=\"scale(0.015625)\"/>\r\n       <path id=\"DejaVuSans-20\" transform=\"scale(0.015625)\"/>\r\n       <path d=\"M 550 4863 \r\nL 1875 4863 \r\nL 1875 4416 \r\nL 1125 4416 \r\nL 1125 -397 \r\nL 1875 -397 \r\nL 1875 -844 \r\nL 550 -844 \r\nL 550 4863 \r\nz\r\n\" id=\"DejaVuSans-5b\" transform=\"scale(0.015625)\"/>\r\n       <path d=\"M 2834 3397 \r\nL 2834 2853 \r\nQ 2591 2978 2328 3040 \r\nQ 2066 3103 1784 3103 \r\nQ 1356 3103 1142 2972 \r\nQ 928 2841 928 2578 \r\nQ 928 2378 1081 2264 \r\nQ 1234 2150 1697 2047 \r\nL 1894 2003 \r\nQ 2506 1872 2764 1633 \r\nQ 3022 1394 3022 966 \r\nQ 3022 478 2636 193 \r\nQ 2250 -91 1575 -91 \r\nQ 1294 -91 989 -36 \r\nQ 684 19 347 128 \r\nL 347 722 \r\nQ 666 556 975 473 \r\nQ 1284 391 1588 391 \r\nQ 1994 391 2212 530 \r\nQ 2431 669 2431 922 \r\nQ 2431 1156 2273 1281 \r\nQ 2116 1406 1581 1522 \r\nL 1381 1569 \r\nQ 847 1681 609 1914 \r\nQ 372 2147 372 2553 \r\nQ 372 3047 722 3315 \r\nQ 1072 3584 1716 3584 \r\nQ 2034 3584 2315 3537 \r\nQ 2597 3491 2834 3397 \r\nz\r\n\" id=\"DejaVuSans-73\" transform=\"scale(0.015625)\"/>\r\n       <path d=\"M 1947 4863 \r\nL 1947 -844 \r\nL 622 -844 \r\nL 622 -397 \r\nL 1369 -397 \r\nL 1369 4416 \r\nL 622 4416 \r\nL 622 4863 \r\nL 1947 4863 \r\nz\r\n\" id=\"DejaVuSans-5d\" transform=\"scale(0.015625)\"/>\r\n      </defs>\r\n      <use xlink:href=\"#DejaVuSans-54\"/>\r\n      <use x=\"57.958984\" xlink:href=\"#DejaVuSans-69\"/>\r\n      <use x=\"85.742188\" xlink:href=\"#DejaVuSans-6d\"/>\r\n      <use x=\"183.154297\" xlink:href=\"#DejaVuSans-65\"/>\r\n      <use x=\"244.677734\" xlink:href=\"#DejaVuSans-20\"/>\r\n      <use x=\"276.464844\" xlink:href=\"#DejaVuSans-5b\"/>\r\n      <use x=\"315.478516\" xlink:href=\"#DejaVuSans-73\"/>\r\n      <use x=\"367.578125\" xlink:href=\"#DejaVuSans-5d\"/>\r\n     </g>\r\n    </g>\r\n   </g>\r\n   <g id=\"matplotlib.axis_2\">\r\n    <g id=\"ytick_1\">\r\n     <g id=\"line2d_13\">\r\n      <path clip-path=\"url(#p137625983a)\" d=\"M 75.59375 220.745901 \r\nL 410.39375 220.745901 \r\n\" style=\"fill:none;stroke:#b0b0b0;stroke-linecap:square;stroke-width:0.8;\"/>\r\n     </g>\r\n     <g id=\"line2d_14\">\r\n      <defs>\r\n       <path d=\"M 0 0 \r\nL -3.5 0 \r\n\" id=\"m8f5b65531f\" style=\"stroke:#000000;stroke-width:0.8;\"/>\r\n      </defs>\r\n      <g>\r\n       <use style=\"stroke:#000000;stroke-width:0.8;\" x=\"75.59375\" xlink:href=\"#m8f5b65531f\" y=\"220.745901\"/>\r\n      </g>\r\n     </g>\r\n     <g id=\"text_8\">\r\n      <!-- 0.000146 -->\r\n      <g transform=\"translate(20.878125 224.54512)scale(0.1 -0.1)\">\r\n       <use xlink:href=\"#DejaVuSans-30\"/>\r\n       <use x=\"63.623047\" xlink:href=\"#DejaVuSans-2e\"/>\r\n       <use x=\"95.410156\" xlink:href=\"#DejaVuSans-30\"/>\r\n       <use x=\"159.033203\" xlink:href=\"#DejaVuSans-30\"/>\r\n       <use x=\"222.65625\" xlink:href=\"#DejaVuSans-30\"/>\r\n       <use x=\"286.279297\" xlink:href=\"#DejaVuSans-31\"/>\r\n       <use x=\"349.902344\" xlink:href=\"#DejaVuSans-34\"/>\r\n       <use x=\"413.525391\" xlink:href=\"#DejaVuSans-36\"/>\r\n      </g>\r\n     </g>\r\n    </g>\r\n    <g id=\"ytick_2\">\r\n     <g id=\"line2d_15\">\r\n      <path clip-path=\"url(#p137625983a)\" d=\"M 75.59375 184.772702 \r\nL 410.39375 184.772702 \r\n\" style=\"fill:none;stroke:#b0b0b0;stroke-linecap:square;stroke-width:0.8;\"/>\r\n     </g>\r\n     <g id=\"line2d_16\">\r\n      <g>\r\n       <use style=\"stroke:#000000;stroke-width:0.8;\" x=\"75.59375\" xlink:href=\"#m8f5b65531f\" y=\"184.772702\"/>\r\n      </g>\r\n     </g>\r\n     <g id=\"text_9\">\r\n      <!-- 0.000148 -->\r\n      <g transform=\"translate(20.878125 188.571921)scale(0.1 -0.1)\">\r\n       <use xlink:href=\"#DejaVuSans-30\"/>\r\n       <use x=\"63.623047\" xlink:href=\"#DejaVuSans-2e\"/>\r\n       <use x=\"95.410156\" xlink:href=\"#DejaVuSans-30\"/>\r\n       <use x=\"159.033203\" xlink:href=\"#DejaVuSans-30\"/>\r\n       <use x=\"222.65625\" xlink:href=\"#DejaVuSans-30\"/>\r\n       <use x=\"286.279297\" xlink:href=\"#DejaVuSans-31\"/>\r\n       <use x=\"349.902344\" xlink:href=\"#DejaVuSans-34\"/>\r\n       <use x=\"413.525391\" xlink:href=\"#DejaVuSans-38\"/>\r\n      </g>\r\n     </g>\r\n    </g>\r\n    <g id=\"ytick_3\">\r\n     <g id=\"line2d_17\">\r\n      <path clip-path=\"url(#p137625983a)\" d=\"M 75.59375 148.799504 \r\nL 410.39375 148.799504 \r\n\" style=\"fill:none;stroke:#b0b0b0;stroke-linecap:square;stroke-width:0.8;\"/>\r\n     </g>\r\n     <g id=\"line2d_18\">\r\n      <g>\r\n       <use style=\"stroke:#000000;stroke-width:0.8;\" x=\"75.59375\" xlink:href=\"#m8f5b65531f\" y=\"148.799504\"/>\r\n      </g>\r\n     </g>\r\n     <g id=\"text_10\">\r\n      <!-- 0.000150 -->\r\n      <g transform=\"translate(20.878125 152.598722)scale(0.1 -0.1)\">\r\n       <defs>\r\n        <path d=\"M 691 4666 \r\nL 3169 4666 \r\nL 3169 4134 \r\nL 1269 4134 \r\nL 1269 2991 \r\nQ 1406 3038 1543 3061 \r\nQ 1681 3084 1819 3084 \r\nQ 2600 3084 3056 2656 \r\nQ 3513 2228 3513 1497 \r\nQ 3513 744 3044 326 \r\nQ 2575 -91 1722 -91 \r\nQ 1428 -91 1123 -41 \r\nQ 819 9 494 109 \r\nL 494 744 \r\nQ 775 591 1075 516 \r\nQ 1375 441 1709 441 \r\nQ 2250 441 2565 725 \r\nQ 2881 1009 2881 1497 \r\nQ 2881 1984 2565 2268 \r\nQ 2250 2553 1709 2553 \r\nQ 1456 2553 1204 2497 \r\nQ 953 2441 691 2322 \r\nL 691 4666 \r\nz\r\n\" id=\"DejaVuSans-35\" transform=\"scale(0.015625)\"/>\r\n       </defs>\r\n       <use xlink:href=\"#DejaVuSans-30\"/>\r\n       <use x=\"63.623047\" xlink:href=\"#DejaVuSans-2e\"/>\r\n       <use x=\"95.410156\" xlink:href=\"#DejaVuSans-30\"/>\r\n       <use x=\"159.033203\" xlink:href=\"#DejaVuSans-30\"/>\r\n       <use x=\"222.65625\" xlink:href=\"#DejaVuSans-30\"/>\r\n       <use x=\"286.279297\" xlink:href=\"#DejaVuSans-31\"/>\r\n       <use x=\"349.902344\" xlink:href=\"#DejaVuSans-35\"/>\r\n       <use x=\"413.525391\" xlink:href=\"#DejaVuSans-30\"/>\r\n      </g>\r\n     </g>\r\n    </g>\r\n    <g id=\"ytick_4\">\r\n     <g id=\"line2d_19\">\r\n      <path clip-path=\"url(#p137625983a)\" d=\"M 75.59375 112.826305 \r\nL 410.39375 112.826305 \r\n\" style=\"fill:none;stroke:#b0b0b0;stroke-linecap:square;stroke-width:0.8;\"/>\r\n     </g>\r\n     <g id=\"line2d_20\">\r\n      <g>\r\n       <use style=\"stroke:#000000;stroke-width:0.8;\" x=\"75.59375\" xlink:href=\"#m8f5b65531f\" y=\"112.826305\"/>\r\n      </g>\r\n     </g>\r\n     <g id=\"text_11\">\r\n      <!-- 0.000152 -->\r\n      <g transform=\"translate(20.878125 116.625524)scale(0.1 -0.1)\">\r\n       <use xlink:href=\"#DejaVuSans-30\"/>\r\n       <use x=\"63.623047\" xlink:href=\"#DejaVuSans-2e\"/>\r\n       <use x=\"95.410156\" xlink:href=\"#DejaVuSans-30\"/>\r\n       <use x=\"159.033203\" xlink:href=\"#DejaVuSans-30\"/>\r\n       <use x=\"222.65625\" xlink:href=\"#DejaVuSans-30\"/>\r\n       <use x=\"286.279297\" xlink:href=\"#DejaVuSans-31\"/>\r\n       <use x=\"349.902344\" xlink:href=\"#DejaVuSans-35\"/>\r\n       <use x=\"413.525391\" xlink:href=\"#DejaVuSans-32\"/>\r\n      </g>\r\n     </g>\r\n    </g>\r\n    <g id=\"ytick_5\">\r\n     <g id=\"line2d_21\">\r\n      <path clip-path=\"url(#p137625983a)\" d=\"M 75.59375 76.853106 \r\nL 410.39375 76.853106 \r\n\" style=\"fill:none;stroke:#b0b0b0;stroke-linecap:square;stroke-width:0.8;\"/>\r\n     </g>\r\n     <g id=\"line2d_22\">\r\n      <g>\r\n       <use style=\"stroke:#000000;stroke-width:0.8;\" x=\"75.59375\" xlink:href=\"#m8f5b65531f\" y=\"76.853106\"/>\r\n      </g>\r\n     </g>\r\n     <g id=\"text_12\">\r\n      <!-- 0.000154 -->\r\n      <g transform=\"translate(20.878125 80.652325)scale(0.1 -0.1)\">\r\n       <use xlink:href=\"#DejaVuSans-30\"/>\r\n       <use x=\"63.623047\" xlink:href=\"#DejaVuSans-2e\"/>\r\n       <use x=\"95.410156\" xlink:href=\"#DejaVuSans-30\"/>\r\n       <use x=\"159.033203\" xlink:href=\"#DejaVuSans-30\"/>\r\n       <use x=\"222.65625\" xlink:href=\"#DejaVuSans-30\"/>\r\n       <use x=\"286.279297\" xlink:href=\"#DejaVuSans-31\"/>\r\n       <use x=\"349.902344\" xlink:href=\"#DejaVuSans-35\"/>\r\n       <use x=\"413.525391\" xlink:href=\"#DejaVuSans-34\"/>\r\n      </g>\r\n     </g>\r\n    </g>\r\n    <g id=\"ytick_6\">\r\n     <g id=\"line2d_23\">\r\n      <path clip-path=\"url(#p137625983a)\" d=\"M 75.59375 40.879907 \r\nL 410.39375 40.879907 \r\n\" style=\"fill:none;stroke:#b0b0b0;stroke-linecap:square;stroke-width:0.8;\"/>\r\n     </g>\r\n     <g id=\"line2d_24\">\r\n      <g>\r\n       <use style=\"stroke:#000000;stroke-width:0.8;\" x=\"75.59375\" xlink:href=\"#m8f5b65531f\" y=\"40.879907\"/>\r\n      </g>\r\n     </g>\r\n     <g id=\"text_13\">\r\n      <!-- 0.000156 -->\r\n      <g transform=\"translate(20.878125 44.679126)scale(0.1 -0.1)\">\r\n       <use xlink:href=\"#DejaVuSans-30\"/>\r\n       <use x=\"63.623047\" xlink:href=\"#DejaVuSans-2e\"/>\r\n       <use x=\"95.410156\" xlink:href=\"#DejaVuSans-30\"/>\r\n       <use x=\"159.033203\" xlink:href=\"#DejaVuSans-30\"/>\r\n       <use x=\"222.65625\" xlink:href=\"#DejaVuSans-30\"/>\r\n       <use x=\"286.279297\" xlink:href=\"#DejaVuSans-31\"/>\r\n       <use x=\"349.902344\" xlink:href=\"#DejaVuSans-35\"/>\r\n       <use x=\"413.525391\" xlink:href=\"#DejaVuSans-36\"/>\r\n      </g>\r\n     </g>\r\n    </g>\r\n    <g id=\"text_14\">\r\n     <!-- Strain -->\r\n     <g transform=\"translate(14.798437 130.731719)rotate(-90)scale(0.1 -0.1)\">\r\n      <defs>\r\n       <path d=\"M 3425 4513 \r\nL 3425 3897 \r\nQ 3066 4069 2747 4153 \r\nQ 2428 4238 2131 4238 \r\nQ 1616 4238 1336 4038 \r\nQ 1056 3838 1056 3469 \r\nQ 1056 3159 1242 3001 \r\nQ 1428 2844 1947 2747 \r\nL 2328 2669 \r\nQ 3034 2534 3370 2195 \r\nQ 3706 1856 3706 1288 \r\nQ 3706 609 3251 259 \r\nQ 2797 -91 1919 -91 \r\nQ 1588 -91 1214 -16 \r\nQ 841 59 441 206 \r\nL 441 856 \r\nQ 825 641 1194 531 \r\nQ 1563 422 1919 422 \r\nQ 2459 422 2753 634 \r\nQ 3047 847 3047 1241 \r\nQ 3047 1584 2836 1778 \r\nQ 2625 1972 2144 2069 \r\nL 1759 2144 \r\nQ 1053 2284 737 2584 \r\nQ 422 2884 422 3419 \r\nQ 422 4038 858 4394 \r\nQ 1294 4750 2059 4750 \r\nQ 2388 4750 2728 4690 \r\nQ 3069 4631 3425 4513 \r\nz\r\n\" id=\"DejaVuSans-53\" transform=\"scale(0.015625)\"/>\r\n       <path d=\"M 1172 4494 \r\nL 1172 3500 \r\nL 2356 3500 \r\nL 2356 3053 \r\nL 1172 3053 \r\nL 1172 1153 \r\nQ 1172 725 1289 603 \r\nQ 1406 481 1766 481 \r\nL 2356 481 \r\nL 2356 0 \r\nL 1766 0 \r\nQ 1100 0 847 248 \r\nQ 594 497 594 1153 \r\nL 594 3053 \r\nL 172 3053 \r\nL 172 3500 \r\nL 594 3500 \r\nL 594 4494 \r\nL 1172 4494 \r\nz\r\n\" id=\"DejaVuSans-74\" transform=\"scale(0.015625)\"/>\r\n       <path d=\"M 2631 2963 \r\nQ 2534 3019 2420 3045 \r\nQ 2306 3072 2169 3072 \r\nQ 1681 3072 1420 2755 \r\nQ 1159 2438 1159 1844 \r\nL 1159 0 \r\nL 581 0 \r\nL 581 3500 \r\nL 1159 3500 \r\nL 1159 2956 \r\nQ 1341 3275 1631 3429 \r\nQ 1922 3584 2338 3584 \r\nQ 2397 3584 2469 3576 \r\nQ 2541 3569 2628 3553 \r\nL 2631 2963 \r\nz\r\n\" id=\"DejaVuSans-72\" transform=\"scale(0.015625)\"/>\r\n       <path d=\"M 2194 1759 \r\nQ 1497 1759 1228 1600 \r\nQ 959 1441 959 1056 \r\nQ 959 750 1161 570 \r\nQ 1363 391 1709 391 \r\nQ 2188 391 2477 730 \r\nQ 2766 1069 2766 1631 \r\nL 2766 1759 \r\nL 2194 1759 \r\nz\r\nM 3341 1997 \r\nL 3341 0 \r\nL 2766 0 \r\nL 2766 531 \r\nQ 2569 213 2275 61 \r\nQ 1981 -91 1556 -91 \r\nQ 1019 -91 701 211 \r\nQ 384 513 384 1019 \r\nQ 384 1609 779 1909 \r\nQ 1175 2209 1959 2209 \r\nL 2766 2209 \r\nL 2766 2266 \r\nQ 2766 2663 2505 2880 \r\nQ 2244 3097 1772 3097 \r\nQ 1472 3097 1187 3025 \r\nQ 903 2953 641 2809 \r\nL 641 3341 \r\nQ 956 3463 1253 3523 \r\nQ 1550 3584 1831 3584 \r\nQ 2591 3584 2966 3190 \r\nQ 3341 2797 3341 1997 \r\nz\r\n\" id=\"DejaVuSans-61\" transform=\"scale(0.015625)\"/>\r\n       <path d=\"M 3513 2113 \r\nL 3513 0 \r\nL 2938 0 \r\nL 2938 2094 \r\nQ 2938 2591 2744 2837 \r\nQ 2550 3084 2163 3084 \r\nQ 1697 3084 1428 2787 \r\nQ 1159 2491 1159 1978 \r\nL 1159 0 \r\nL 581 0 \r\nL 581 3500 \r\nL 1159 3500 \r\nL 1159 2956 \r\nQ 1366 3272 1645 3428 \r\nQ 1925 3584 2291 3584 \r\nQ 2894 3584 3203 3211 \r\nQ 3513 2838 3513 2113 \r\nz\r\n\" id=\"DejaVuSans-6e\" transform=\"scale(0.015625)\"/>\r\n      </defs>\r\n      <use xlink:href=\"#DejaVuSans-53\"/>\r\n      <use x=\"63.476562\" xlink:href=\"#DejaVuSans-74\"/>\r\n      <use x=\"102.685547\" xlink:href=\"#DejaVuSans-72\"/>\r\n      <use x=\"143.798828\" xlink:href=\"#DejaVuSans-61\"/>\r\n      <use x=\"205.078125\" xlink:href=\"#DejaVuSans-69\"/>\r\n      <use x=\"232.861328\" xlink:href=\"#DejaVuSans-6e\"/>\r\n     </g>\r\n    </g>\r\n   </g>\r\n   <g id=\"line2d_25\">\r\n    <path clip-path=\"url(#p137625983a)\" d=\"M 90.811932 112.4306 \r\nL 91.421268 194.647346 \r\nL 92.030605 148.87145 \r\nL 92.335273 163.458582 \r\nL 92.639942 156.533741 \r\nL 92.94461 115.380402 \r\nL 93.249278 169.681946 \r\nL 93.553947 179.538602 \r\nL 93.858615 134.680023 \r\nL 94.163283 139.98607 \r\nL 94.467951 130.489146 \r\nL 94.77262 116.71141 \r\nL 95.077288 156.533741 \r\nL 95.381956 119.877052 \r\nL 95.686625 97.159977 \r\nL 95.991293 86.170165 \r\nL 96.295961 102.789782 \r\nL 96.60063 71.223301 \r\nL 96.905298 62.535773 \r\nL 97.514635 80.810158 \r\nL 97.819303 85.468687 \r\nL 98.123971 119.661213 \r\nL 98.428639 72.392429 \r\nL 98.733308 64.028661 \r\nL 99.037976 71.33122 \r\nL 99.342644 75.396192 \r\nL 99.647313 118.222285 \r\nL 99.951981 83.382242 \r\nL 100.256649 63.596982 \r\nL 100.561318 146.353326 \r\nL 100.865986 134.841903 \r\nL 101.170654 139.014794 \r\nL 101.475322 133.870626 \r\nL 101.779991 168.171071 \r\nL 102.084659 166.840063 \r\nL 102.389327 149.357088 \r\nL 102.693996 153.224207 \r\nL 102.998664 107.448312 \r\nL 103.303332 119.984971 \r\nL 103.608001 158.638174 \r\nL 103.912669 149.249169 \r\nL 104.217337 163.242743 \r\nL 104.522006 152.41481 \r\nL 104.826674 104.22871 \r\nL 105.131342 145.507956 \r\nL 105.43601 155.688371 \r\nL 105.740679 97.375816 \r\nL 106.045347 77.752436 \r\nL 106.350015 126.046455 \r\nL 106.654684 106.692875 \r\nL 106.959352 39.063261 \r\nL 107.568689 101.386828 \r\nL 107.873357 76.043709 \r\nL 108.178025 77.050959 \r\nL 108.482693 125.344978 \r\nL 109.09203 48.380319 \r\nL 109.396698 91.368292 \r\nL 109.701367 63.866781 \r\nL 110.006035 118.923762 \r\nL 110.310703 126.963772 \r\nL 110.615372 87.770972 \r\nL 110.92004 155.364612 \r\nL 111.224708 138.313316 \r\nL 111.529377 132.431698 \r\nL 112.138713 197.597148 \r\nL 112.443381 177.614036 \r\nL 112.74805 185.006528 \r\nL 113.052718 154.717095 \r\nL 113.357386 153.386087 \r\nL 113.662055 125.183099 \r\nL 113.966723 188.90962 \r\nL 114.271391 180.491892 \r\nL 114.57606 165.652947 \r\nL 114.880728 125.992496 \r\nL 115.185396 107.178513 \r\nL 115.490064 149.195209 \r\nL 115.794733 164.789591 \r\nL 116.404069 92.015809 \r\nL 116.708738 108.77932 \r\nL 117.013406 91.85393 \r\nL 117.318074 106.153277 \r\nL 117.622743 47.103271 \r\nL 117.927411 78.022235 \r\nL 118.232079 81.403716 \r\nL 118.536748 106.045357 \r\nL 118.841416 107.178513 \r\nL 119.146084 98.383066 \r\nL 119.450752 55.610932 \r\nL 119.755421 77.752436 \r\nL 120.364757 98.976623 \r\nL 120.669426 126.693973 \r\nL 120.974094 81.943314 \r\nL 121.278762 122.017457 \r\nL 121.888099 154.177497 \r\nL 122.192767 140.09399 \r\nL 122.497436 174.934033 \r\nL 122.802104 183.171895 \r\nL 123.106772 154.555215 \r\nL 123.41144 140.471708 \r\nL 123.716109 159.105825 \r\nL 124.020777 131.514382 \r\nL 124.325445 158.206495 \r\nL 124.630114 206.392595 \r\nL 125.23945 161.264217 \r\nL 125.544119 112.538519 \r\nL 125.848787 96.458499 \r\nL 126.153455 125.830616 \r\nL 126.762792 75.072433 \r\nL 127.06746 108.527508 \r\nL 127.372128 123.528332 \r\nL 127.676797 90.666814 \r\nL 127.981465 100.955149 \r\nL 128.286133 72.446389 \r\nL 128.590802 66.223026 \r\nL 128.89547 74.011223 \r\nL 129.200138 91.638091 \r\nL 129.504807 59.046373 \r\nL 130.114143 96.566419 \r\nL 130.418811 79.37123 \r\nL 130.72348 115.97396 \r\nL 131.028148 103.689112 \r\nL 131.942153 153.332127 \r\nL 132.246821 153.907698 \r\nL 132.55149 143.727283 \r\nL 132.856158 146.946884 \r\nL 133.465494 175.185845 \r\nL 133.770163 148.87145 \r\nL 134.074831 176.372961 \r\nL 134.379499 122.880814 \r\nL 134.684168 197.866947 \r\nL 134.988836 165.976706 \r\nL 135.293504 171.336713 \r\nL 135.598173 171.228793 \r\nL 135.902841 124.01397 \r\nL 136.207509 109.966436 \r\nL 136.512178 155.796291 \r\nL 137.121514 67.518061 \r\nL 137.426182 111.045632 \r\nL 137.730851 138.367276 \r\nL 138.340187 63.974701 \r\nL 138.644856 75.989749 \r\nL 138.949524 98.706824 \r\nL 139.254192 77.698476 \r\nL 139.558861 80.594319 \r\nL 139.863529 93.346818 \r\nL 140.168197 31.34701 \r\nL 140.472865 67.78786 \r\nL 140.777534 75.989749 \r\nL 141.082202 109.750596 \r\nL 141.38687 120.524569 \r\nL 141.691539 72.446389 \r\nL 141.996207 144.644599 \r\nL 142.300875 149.788767 \r\nL 142.605544 159.861262 \r\nL 142.910212 122.826854 \r\nL 143.519549 210.781325 \r\nL 143.824217 172.667721 \r\nL 144.128885 149.087289 \r\nL 144.433553 177.650009 \r\nL 144.738222 138.421236 \r\nL 145.347558 196.21218 \r\nL 145.652227 174.610274 \r\nL 145.956895 137.521906 \r\nL 146.261563 138.744995 \r\nL 146.566232 101.170989 \r\nL 146.8709 123.042693 \r\nL 147.175568 120.956248 \r\nL 147.480236 93.130979 \r\nL 148.089573 135.417474 \r\nL 148.394241 82.680764 \r\nL 148.69891 77.806396 \r\nL 149.003578 58.992413 \r\nL 149.308246 63.650942 \r\nL 149.612915 81.187877 \r\nL 149.917583 80.540359 \r\nL 150.222251 63.23725 \r\nL 150.52692 62.913492 \r\nL 150.831588 47.480989 \r\nL 151.136256 66.276986 \r\nL 151.440924 125.237058 \r\nL 151.745593 123.636251 \r\nL 152.050261 99.516221 \r\nL 152.354929 100.84723 \r\nL 152.659598 172.14611 \r\nL 152.964266 132.79143 \r\nL 153.268934 133.115189 \r\nL 153.573603 150.166485 \r\nL 153.878271 158.314415 \r\nL 154.182939 183.387734 \r\nL 154.487607 172.88356 \r\nL 154.792276 175.941282 \r\nL 155.096944 167.091875 \r\nL 155.401612 171.120874 \r\nL 155.706281 183.873372 \r\nL 156.315617 146.353326 \r\nL 156.924954 69.010949 \r\nL 157.229622 154.771055 \r\nL 157.534291 147.540442 \r\nL 157.838959 71.169341 \r\nL 158.448295 146.191447 \r\nL 158.752964 71.636992 \r\nL 159.057632 57.877244 \r\nL 159.3623 58.254962 \r\nL 159.666969 90.612855 \r\nL 159.971637 58.147043 \r\nL 160.276305 96.944138 \r\nL 160.580974 79.569083 \r\nL 160.885642 44.261388 \r\nL 161.19031 49.675354 \r\nL 161.799647 127.071692 \r\nL 162.104315 123.798131 \r\nL 162.408983 82.410965 \r\nL 162.713652 105.955424 \r\nL 163.01832 157.181259 \r\nL 163.322988 162.487306 \r\nL 163.627657 122.179337 \r\nL 163.932325 129.805655 \r\nL 164.236993 167.145835 \r\nL 164.541662 156.01213 \r\nL 164.84633 191.050026 \r\nL 165.150998 160.40086 \r\nL 165.455666 152.145011 \r\nL 165.760335 129.266057 \r\nL 166.065003 185.492166 \r\nL 166.369671 148.403798 \r\nL 166.67434 156.80354 \r\nL 166.979008 130.704985 \r\nL 167.283676 68.489337 \r\nL 167.893013 152.684609 \r\nL 168.197681 104.930188 \r\nL 168.50235 87.932851 \r\nL 168.807018 122.934774 \r\nL 169.111686 98.383066 \r\nL 169.416354 88.472449 \r\nL 169.721023 49.567435 \r\nL 170.025691 88.580369 \r\nL 170.330359 83.328282 \r\nL 170.635028 67.572021 \r\nL 170.939696 67.78786 \r\nL 171.549033 90.181176 \r\nL 171.853701 77.266798 \r\nL 172.158369 102.088305 \r\nL 172.463037 145.723795 \r\nL 172.767706 137.989557 \r\nL 173.072374 102.735823 \r\nL 173.377042 154.986894 \r\nL 173.986379 127.233571 \r\nL 174.291047 142.396274 \r\nL 174.595716 174.718193 \r\nL 174.900384 164.735631 \r\nL 175.205052 138.043517 \r\nL 175.814389 158.961932 \r\nL 176.119057 128.024981 \r\nL 176.423725 178.351486 \r\nL 176.728394 121.226047 \r\nL 177.033062 129.535856 \r\nL 177.33773 122.395176 \r\nL 177.642399 95.073531 \r\nL 177.947067 102.196225 \r\nL 178.251735 157.01938 \r\nL 178.556404 117.089129 \r\nL 178.861072 101.656627 \r\nL 179.16574 122.017457 \r\nL 180.079745 55.880731 \r\nL 180.384413 89.066007 \r\nL 180.689082 78.939552 \r\nL 180.99375 94.803732 \r\nL 181.298418 133.492908 \r\nL 181.603087 68.219538 \r\nL 181.907755 52.139519 \r\nL 182.212423 91.044533 \r\nL 182.517092 107.016633 \r\nL 182.82176 110.559993 \r\nL 183.126428 124.06793 \r\nL 183.431096 102.843742 \r\nL 183.735765 145.921648 \r\nL 184.040433 152.738569 \r\nL 184.345101 133.115189 \r\nL 184.64977 131.622301 \r\nL 184.954438 160.292941 \r\nL 185.259106 164.84355 \r\nL 185.563775 194.971104 \r\nL 185.868443 171.498592 \r\nL 186.173111 158.314415 \r\nL 186.477779 138.960834 \r\nL 187.087116 167.415634 \r\nL 187.391784 165.922746 \r\nL 187.696453 155.202733 \r\nL 188.001121 104.066831 \r\nL 188.305789 100.649377 \r\nL 188.610458 170.149597 \r\nL 188.915126 112.592479 \r\nL 189.219794 81.457676 \r\nL 189.524463 115.596241 \r\nL 189.829131 113.941474 \r\nL 190.133799 78.885592 \r\nL 190.438467 81.025997 \r\nL 191.047804 71.27726 \r\nL 191.352472 97.915414 \r\nL 191.657141 93.778496 \r\nL 191.961809 110.883752 \r\nL 192.266477 69.442627 \r\nL 192.571146 76.097669 \r\nL 192.875814 86.439964 \r\nL 193.180482 123.798131 \r\nL 193.48515 102.412064 \r\nL 193.789819 71.852831 \r\nL 194.094487 118.492084 \r\nL 194.399155 145.723795 \r\nL 194.703824 149.680847 \r\nL 195.008492 144.968358 \r\nL 195.31316 173.800877 \r\nL 195.617829 161.731869 \r\nL 195.922497 160.670659 \r\nL 196.227165 147.810241 \r\nL 196.531834 166.894023 \r\nL 196.836502 128.29478 \r\nL 197.14117 169.987718 \r\nL 197.445838 179.376723 \r\nL 197.750507 161.264217 \r\nL 198.055175 122.017457 \r\nL 198.359843 125.830616 \r\nL 198.664512 98.167226 \r\nL 198.96918 123.528332 \r\nL 199.273848 115.542281 \r\nL 199.578517 96.728298 \r\nL 199.883185 86.493923 \r\nL 200.187853 99.732061 \r\nL 200.79719 38.145944 \r\nL 201.101858 76.151629 \r\nL 201.406526 89.119967 \r\nL 201.711195 64.945977 \r\nL 202.015863 109.103079 \r\nL 202.320531 86.439964 \r\nL 202.6252 87.932851 \r\nL 202.929868 106.009384 \r\nL 203.234536 98.221186 \r\nL 203.539205 124.85934 \r\nL 203.843873 100.487498 \r\nL 204.148541 63.34517 \r\nL 204.757878 151.983132 \r\nL 205.062546 134.787943 \r\nL 205.367214 129.266057 \r\nL 205.671883 176.64276 \r\nL 205.976551 180.653771 \r\nL 206.281219 171.174833 \r\nL 206.585888 153.008368 \r\nL 206.890556 179.646522 \r\nL 207.195224 124.75142 \r\nL 207.499893 164.519792 \r\nL 207.804561 182.956056 \r\nL 208.109229 141.532918 \r\nL 208.413897 125.129139 \r\nL 208.718566 97.106017 \r\nL 209.023234 104.606429 \r\nL 209.327902 164.89751 \r\nL 209.937239 102.358104 \r\nL 210.241907 109.103079 \r\nL 210.546576 98.383066 \r\nL 210.851244 83.598081 \r\nL 211.155912 62.265974 \r\nL 211.46058 60.557247 \r\nL 211.765249 100.703337 \r\nL 212.069917 103.059581 \r\nL 212.374585 100.79327 \r\nL 212.679254 82.734724 \r\nL 212.983922 49.729314 \r\nL 213.28859 104.930188 \r\nL 213.593259 92.015809 \r\nL 213.897927 83.92184 \r\nL 214.202595 108.365628 \r\nL 214.507264 106.045357 \r\nL 214.811932 111.891002 \r\nL 215.1166 98.437025 \r\nL 215.421268 106.638915 \r\nL 216.030605 182.812163 \r\nL 216.335273 186.823175 \r\nL 216.639942 168.225031 \r\nL 216.94461 169.879798 \r\nL 217.249278 160.45482 \r\nL 217.553947 137.521906 \r\nL 217.858615 167.001942 \r\nL 218.163283 154.986894 \r\nL 218.467951 158.854013 \r\nL 218.77262 126.100415 \r\nL 219.077288 128.942298 \r\nL 219.381956 93.832456 \r\nL 219.686625 154.986894 \r\nL 219.991293 145.346077 \r\nL 220.295961 100.055819 \r\nL 220.60063 75.234312 \r\nL 220.905298 115.81208 \r\nL 221.514635 58.830534 \r\nL 221.819303 65.161817 \r\nL 222.123971 96.566419 \r\nL 222.428639 78.076195 \r\nL 222.733308 101.117029 \r\nL 223.037976 96.080781 \r\nL 223.342644 69.388667 \r\nL 223.647313 77.806396 \r\nL 223.951981 68.057659 \r\nL 224.256649 109.858516 \r\nL 224.561318 116.92725 \r\nL 224.865986 71.852831 \r\nL 225.475322 138.637075 \r\nL 225.779991 133.115189 \r\nL 226.084659 108.527508 \r\nL 226.693996 187.794451 \r\nL 226.998664 200.169232 \r\nL 227.303332 148.02608 \r\nL 227.608001 141.424998 \r\nL 227.912669 142.989832 \r\nL 228.217337 145.777755 \r\nL 228.522006 180.653771 \r\nL 228.826674 180.707731 \r\nL 229.131342 144.212921 \r\nL 229.43601 128.45666 \r\nL 229.740679 121.963497 \r\nL 230.045347 127.323504 \r\nL 230.350015 136.928348 \r\nL 230.654684 90.882654 \r\nL 230.959352 77.698476 \r\nL 231.26402 126.640013 \r\nL 231.568689 50.304885 \r\nL 231.873357 69.928265 \r\nL 232.178025 42.372795 \r\nL 232.482693 75.504111 \r\nL 232.787362 74.532835 \r\nL 233.09203 101.818506 \r\nL 233.701367 47.732802 \r\nL 234.615372 110.991672 \r\nL 234.92004 125.075179 \r\nL 235.224708 91.638091 \r\nL 235.529377 103.689112 \r\nL 236.138713 153.907698 \r\nL 236.443381 148.02608 \r\nL 236.74805 147.648361 \r\nL 237.052718 188.06425 \r\nL 237.357386 171.282753 \r\nL 237.662055 147.432522 \r\nL 237.966723 165.868787 \r\nL 238.271391 157.127299 \r\nL 238.57606 99.300382 \r\nL 239.185396 172.09215 \r\nL 239.490064 171.066914 \r\nL 239.794733 134.248345 \r\nL 240.099401 114.624965 \r\nL 240.404069 152.738569 \r\nL 240.708738 132.84539 \r\nL 241.013406 100.217699 \r\nL 241.318074 93.238898 \r\nL 241.622743 104.066831 \r\nL 242.232079 65.593495 \r\nL 242.536748 61.132818 \r\nL 242.841416 109.264958 \r\nL 243.146084 88.41849 \r\nL 243.450752 99.192463 \r\nL 243.755421 123.636251 \r\nL 244.060089 58.290936 \r\nL 244.364757 49.891194 \r\nL 244.669426 79.37123 \r\nL 244.974094 80.16264 \r\nL 245.278762 163.890261 \r\nL 245.583431 97.753535 \r\nL 245.888099 78.022235 \r\nL 246.192767 139.230633 \r\nL 246.497436 141.910636 \r\nL 246.802104 125.129139 \r\nL 247.41144 182.164646 \r\nL 248.020777 139.824191 \r\nL 248.325445 144.212921 \r\nL 248.630114 124.967259 \r\nL 248.934782 116.02792 \r\nL 249.23945 192.45298 \r\nL 249.544119 174.448394 \r\nL 249.848787 143.241644 \r\nL 250.458123 115.92 \r\nL 250.762792 112.700399 \r\nL 251.06746 136.280831 \r\nL 251.676797 80.864118 \r\nL 251.981465 121.280007 \r\nL 252.286133 105.847504 \r\nL 252.590802 76.313508 \r\nL 252.89547 74.173103 \r\nL 253.200138 75.665991 \r\nL 253.809475 126.693973 \r\nL 254.114143 99.030583 \r\nL 254.418811 102.735823 \r\nL 254.72348 60.287448 \r\nL 255.637485 133.331028 \r\nL 256.246821 91.476211 \r\nL 256.55149 153.386087 \r\nL 256.856158 151.497494 \r\nL 257.160826 153.386087 \r\nL 257.465494 123.798131 \r\nL 257.770163 186.337537 \r\nL 258.379499 135.579353 \r\nL 258.684168 139.98607 \r\nL 258.988836 147.864201 \r\nL 259.293504 106.045357 \r\nL 259.598173 179.106924 \r\nL 259.902841 175.671483 \r\nL 260.512178 140.723521 \r\nL 260.816846 103.635153 \r\nL 261.121514 103.32938 \r\nL 261.426182 147.378562 \r\nL 261.730851 93.130979 \r\nL 262.035519 64.13658 \r\nL 262.340187 131.298542 \r\nL 262.644856 116.76537 \r\nL 262.949524 65.647455 \r\nL 263.254192 86.332044 \r\nL 263.558861 92.717287 \r\nL 263.863529 88.526409 \r\nL 264.168197 86.224124 \r\nL 264.472865 106.423076 \r\nL 264.777534 55.934691 \r\nL 265.082202 34.494665 \r\nL 265.38687 83.92184 \r\nL 265.691539 90.397015 \r\nL 265.996207 125.021219 \r\nL 266.300875 118.168325 \r\nL 266.605544 124.80538 \r\nL 266.910212 148.76353 \r\nL 267.21488 151.119775 \r\nL 267.519549 146.407286 \r\nL 267.824217 116.459598 \r\nL 268.128885 157.451058 \r\nL 268.433553 169.717919 \r\nL 268.738222 166.570264 \r\nL 269.04289 151.119775 \r\nL 269.347558 157.882736 \r\nL 269.652227 106.423076 \r\nL 269.956895 171.012954 \r\nL 270.261563 184.305051 \r\nL 270.566232 139.500432 \r\nL 270.8709 120.092891 \r\nL 271.175568 139.824191 \r\nL 271.480236 98.598905 \r\nL 271.784905 143.403524 \r\nL 272.089573 85.252848 \r\nL 272.394241 59.370132 \r\nL 272.69891 122.557055 \r\nL 273.003578 113.239997 \r\nL 273.308246 109.912476 \r\nL 273.612915 56.905967 \r\nL 273.917583 43.505951 \r\nL 274.831588 117.790606 \r\nL 275.136256 62.104095 \r\nL 275.440924 81.943314 \r\nL 275.745593 120.578529 \r\nL 276.050261 120.848328 \r\nL 276.354929 135.363514 \r\nL 276.659598 156.533741 \r\nL 276.964266 116.981209 \r\nL 277.268934 135.417474 \r\nL 277.573603 172.88356 \r\nL 277.878271 142.018556 \r\nL 278.182939 138.744995 \r\nL 278.487607 137.629825 \r\nL 278.792276 145.238157 \r\nL 279.096944 173.746917 \r\nL 279.401612 136.658549 \r\nL 279.706281 169.825838 \r\nL 280.010949 100.325618 \r\nL 280.315617 161.947708 \r\nL 280.620286 174.286515 \r\nL 280.924954 175.401684 \r\nL 281.229622 132.629551 \r\nL 281.534291 135.633313 \r\nL 281.838959 101.710586 \r\nL 282.143627 129.266057 \r\nL 282.752964 118.276245 \r\nL 283.057632 115.002683 \r\nL 283.3623 80.432439 \r\nL 283.666969 76.475388 \r\nL 283.971637 54.279924 \r\nL 284.276305 83.220362 \r\nL 284.580974 89.443726 \r\nL 284.885642 108.257709 \r\nL 285.19031 100.84723 \r\nL 285.494979 85.306808 \r\nL 285.799647 17.083636 \r\nL 286.408983 118.114365 \r\nL 286.713652 138.744995 \r\nL 287.01832 137.737745 \r\nL 287.322988 104.822268 \r\nL 287.627657 127.431424 \r\nL 287.932325 183.711493 \r\nL 288.236993 156.80354 \r\nL 288.541662 90.612855 \r\nL 288.84633 149.033329 \r\nL 289.150998 178.729205 \r\nL 289.455666 161.839788 \r\nL 289.760335 165.598988 \r\nL 290.065003 162.055627 \r\nL 290.369671 132.683511 \r\nL 290.67434 169.933758 \r\nL 290.979008 177.074438 \r\nL 291.283676 147.378562 \r\nL 291.893013 106.962674 \r\nL 292.197681 79.47915 \r\nL 292.50235 137.090227 \r\nL 292.807018 129.535856 \r\nL 293.111686 99.732061 \r\nL 293.416354 87.249361 \r\nL 293.721023 135.957072 \r\nL 294.025691 85.198888 \r\nL 294.330359 85.252848 \r\nL 294.635028 92.501448 \r\nL 294.939696 94.479974 \r\nL 295.244364 72.932027 \r\nL 295.549033 117.844566 \r\nL 295.853701 92.069769 \r\nL 296.158369 38.739502 \r\nL 296.767706 112.32268 \r\nL 297.072374 152.900448 \r\nL 297.681711 95.34333 \r\nL 297.986379 111.675163 \r\nL 298.291047 172.505842 \r\nL 298.595716 119.823092 \r\nL 299.205052 176.049202 \r\nL 299.509721 171.552552 \r\nL 300.119057 155.796291 \r\nL 300.423725 185.114448 \r\nL 300.728394 169.142348 \r\nL 301.033062 168.332951 \r\nL 301.33773 158.800053 \r\nL 301.642399 164.519792 \r\nL 301.947067 160.185021 \r\nL 302.251735 158.638174 \r\nL 302.556404 107.016633 \r\nL 302.861072 127.233571 \r\nL 303.16574 117.304968 \r\nL 303.470408 116.02792 \r\nL 303.775077 87.249361 \r\nL 304.079745 132.84539 \r\nL 304.384413 42.067023 \r\nL 304.689082 55.610932 \r\nL 304.99375 45.430517 \r\nL 305.298418 74.478875 \r\nL 305.603087 64.730138 \r\nL 305.907755 89.551645 \r\nL 306.212423 94.749773 \r\nL 306.517092 50.053073 \r\nL 306.82176 90.558895 \r\nL 307.126428 78.723712 \r\nL 307.735765 148.709571 \r\nL 308.040433 118.707923 \r\nL 308.345101 57.931204 \r\nL 308.64977 136.33479 \r\nL 308.954438 158.314415 \r\nL 309.259106 124.85934 \r\nL 309.563775 144.644599 \r\nL 309.868443 193.262377 \r\nL 310.173111 191.643583 \r\nL 310.477779 160.185021 \r\nL 310.782448 161.372137 \r\nL 311.087116 143.241644 \r\nL 311.391784 141.586877 \r\nL 311.696453 201.140508 \r\nL 312.001121 160.131061 \r\nL 312.305789 157.397098 \r\nL 312.915126 94.695813 \r\nL 313.219794 137.198147 \r\nL 313.524463 139.446472 \r\nL 313.829131 105.685625 \r\nL 314.133799 106.315156 \r\nL 314.438467 129.104177 \r\nL 315.047804 53.794286 \r\nL 315.352472 44.747026 \r\nL 315.657141 99.030583 \r\nL 315.961809 89.119967 \r\nL 316.266477 116.081879 \r\nL 316.571146 118.060405 \r\nL 316.875814 44.045549 \r\nL 317.180482 68.597257 \r\nL 317.48515 80.810158 \r\nL 317.789819 109.966436 \r\nL 318.094487 119.661213 \r\nL 318.399155 104.066831 \r\nL 318.703824 71.061421 \r\nL 319.008492 118.923762 \r\nL 319.617829 148.92541 \r\nL 320.227165 157.774817 \r\nL 320.531834 168.764629 \r\nL 320.836502 137.090227 \r\nL 321.14117 142.558154 \r\nL 321.445838 160.023142 \r\nL 321.750507 153.386087 \r\nL 322.055175 158.368375 \r\nL 322.359843 181.517128 \r\nL 322.664512 161.785828 \r\nL 322.96918 155.95817 \r\nL 323.273848 77.104919 \r\nL 323.578517 133.546867 \r\nL 323.883185 140.77748 \r\nL 324.187853 110.991672 \r\nL 324.492521 104.120791 \r\nL 324.79719 103.635153 \r\nL 325.101858 102.142265 \r\nL 325.406526 37.228628 \r\nL 325.711195 38.145944 \r\nL 326.015863 99.83998 \r\nL 326.320531 83.75996 \r\nL 326.6252 109.103079 \r\nL 326.929868 116.405638 \r\nL 327.234536 93.616617 \r\nL 327.539205 26.040963 \r\nL 327.843873 61.024899 \r\nL 328.148541 112.592479 \r\nL 328.453209 98.652865 \r\nL 328.757878 127.917062 \r\nL 329.062546 103.365354 \r\nL 329.367214 165.814827 \r\nL 329.671883 156.533741 \r\nL 329.976551 161.372137 \r\nL 330.281219 128.996258 \r\nL 330.585888 185.438207 \r\nL 330.890556 155.850251 \r\nL 331.195224 144.212921 \r\nL 331.499893 139.98607 \r\nL 331.804561 148.295879 \r\nL 332.109229 162.972944 \r\nL 332.413897 165.760867 \r\nL 332.718566 173.423158 \r\nL 333.023234 150.490244 \r\nL 333.327902 137.360026 \r\nL 333.632571 88.688289 \r\nL 333.937239 92.609367 \r\nL 334.241907 136.49667 \r\nL 334.546576 114.571005 \r\nL 334.851244 84.569357 \r\nL 335.155912 120.524569 \r\nL 335.46058 105.901464 \r\nL 335.765249 53.632406 \r\nL 336.069917 61.186778 \r\nL 336.374585 93.184938 \r\nL 336.679254 80.16264 \r\nL 336.983922 130.219347 \r\nL 337.28859 113.401876 \r\nL 337.593259 49.567435 \r\nL 337.897927 58.506775 \r\nL 338.202595 94.048295 \r\nL 338.507264 72.932027 \r\nL 338.811932 137.791705 \r\nL 339.1166 118.438124 \r\nL 339.421268 75.018473 \r\nL 340.030605 172.613761 \r\nL 340.639942 140.615601 \r\nL 340.94461 187.200893 \r\nL 341.249278 168.009192 \r\nL 341.553947 129.895588 \r\nL 341.858615 173.477118 \r\nL 342.163283 145.292117 \r\nL 342.467951 138.421236 \r\nL 342.77262 170.419396 \r\nL 343.077288 165.329189 \r\nL 343.381956 164.89751 \r\nL 343.686625 134.572104 \r\nL 343.991293 87.609093 \r\nL 344.60063 140.309829 \r\nL 344.905298 90.343056 \r\nL 345.209966 101.926426 \r\nL 345.514635 121.118127 \r\nL 345.819303 112.26872 \r\nL 346.123971 63.45309 \r\nL 346.428639 62.967451 \r\nL 346.733308 89.605605 \r\nL 347.037976 88.958088 \r\nL 347.342644 67.67994 \r\nL 347.647313 127.125651 \r\nL 347.951981 57.391606 \r\nL 348.256649 71.744912 \r\nL 348.561318 105.415826 \r\nL 348.865986 102.843742 \r\nL 349.170654 130.057467 \r\nL 349.475322 132.107939 \r\nL 349.779991 109.210998 \r\nL 350.084659 147.108763 \r\nL 350.389327 150.382324 \r\nL 350.998664 124.75142 \r\nL 351.303332 151.443534 \r\nL 351.608001 137.198147 \r\nL 351.912669 140.471708 \r\nL 352.217337 165.598988 \r\nL 352.522006 146.299366 \r\nL 352.826674 109.588717 \r\nL 353.131342 196.787751 \r\nL 353.43601 156.641661 \r\nL 353.740679 139.284593 \r\nL 354.045347 148.709571 \r\nL 354.654684 97.645615 \r\nL 354.959352 124.121889 \r\nL 355.26402 91.85393 \r\nL 355.568689 85.198888 \r\nL 355.873357 121.172087 \r\nL 356.482693 63.507049 \r\nL 356.787362 59.208252 \r\nL 357.09203 71.529073 \r\nL 357.396698 74.119143 \r\nL 357.701367 74.586795 \r\nL 358.006035 99.192463 \r\nL 358.615372 71.529073 \r\nL 358.92004 93.562657 \r\nL 359.224708 83.382242 \r\nL 359.529377 135.165661 \r\nL 359.834045 165.221269 \r\nL 360.138713 111.998921 \r\nL 360.443381 117.574767 \r\nL 360.74805 162.217507 \r\nL 361.052718 155.634411 \r\nL 361.357386 134.787943 \r\nL 361.662055 199.197955 \r\nL 361.966723 170.095637 \r\nL 362.271391 174.772153 \r\nL 362.57606 148.241919 \r\nL 362.880728 144.644599 \r\nL 363.185396 125.884576 \r\nL 363.490064 163.566502 \r\nL 363.794733 164.627711 \r\nL 364.099401 159.069852 \r\nL 364.404069 146.731045 \r\nL 364.708738 125.291018 \r\nL 365.013406 94.533933 \r\nL 365.318074 136.982308 \r\nL 365.927411 81.457676 \r\nL 366.232079 112.862278 \r\nL 366.536748 101.602667 \r\nL 366.841416 70.467863 \r\nL 367.146084 79.730962 \r\nL 367.450752 64.730138 \r\nL 367.755421 79.37123 \r\nL 368.060089 108.419588 \r\nL 368.364757 97.321856 \r\nL 368.974094 54.819522 \r\nL 369.278762 87.35728 \r\nL 369.583431 86.709763 \r\nL 370.192767 193.370297 \r\nL 370.497436 86.116205 \r\nL 371.106772 177.020478 \r\nL 371.41144 127.017732 \r\nL 371.716109 117.790606 \r\nL 372.325445 190.042776 \r\nL 372.630114 169.358187 \r\nL 372.934782 162.972944 \r\nL 373.23945 168.009192 \r\nL 373.544119 123.528332 \r\nL 373.848787 172.505842 \r\nL 374.153455 176.966518 \r\nL 374.458123 200.223191 \r\nL 374.762792 170.419396 \r\nL 375.06746 100.703337 \r\nL 375.372128 94.372054 \r\nL 375.981465 134.680023 \r\nL 376.286133 127.539343 \r\nL 376.590802 101.548707 \r\nL 376.89547 123.096653 \r\nL 377.200138 58.992413 \r\nL 377.504807 36.653056 \r\nL 378.114143 83.598081 \r\nL 378.418811 87.609093 \r\nL 378.72348 97.699575 \r\nL 379.028148 92.123729 \r\nL 379.332816 44.477227 \r\nL 379.637485 53.632406 \r\nL 379.942153 70.090145 \r\nL 380.246821 125.452898 \r\nL 380.55149 118.707923 \r\nL 380.856158 100.055819 \r\nL 381.160826 139.554392 \r\nL 381.465494 155.094813 \r\nL 381.770163 131.082703 \r\nL 382.074831 120.524569 \r\nL 382.379499 158.800053 \r\nL 382.684168 170.473356 \r\nL 382.988836 150.220445 \r\nL 383.293504 172.505842 \r\nL 383.598173 174.826113 \r\nL 384.207509 118.492084 \r\nL 384.512178 164.789591 \r\nL 385.426182 120.30873 \r\nL 385.730851 63.183291 \r\nL 386.035519 146.569165 \r\nL 386.644856 113.779595 \r\nL 386.949524 113.024157 \r\nL 387.254192 127.539343 \r\nL 387.558861 99.678101 \r\nL 387.863529 57.499525 \r\nL 388.168197 39.33306 \r\nL 388.472865 79.784922 \r\nL 388.777534 45.430517 \r\nL 389.082202 90.828694 \r\nL 389.38687 83.706 \r\nL 389.691539 47.31911 \r\nL 389.996207 120.524569 \r\nL 390.300875 104.22871 \r\nL 390.605544 108.527508 \r\nL 390.910212 142.558154 \r\nL 391.519549 87.717012 \r\nL 391.824217 180.383972 \r\nL 392.128885 123.204573 \r\nL 392.433553 131.082703 \r\nL 392.738222 113.347916 \r\nL 393.347558 214.756364 \r\nL 393.652227 143.781242 \r\nL 393.956895 162.595225 \r\nL 394.261563 116.657451 \r\nL 394.566232 170.311477 \r\nL 394.8709 178.351486 \r\nL 395.175568 166.840063 \r\nL 395.175568 166.840063 \r\n\" style=\"fill:none;stroke:#1f77b4;stroke-linecap:square;stroke-width:1.5;\"/>\r\n   </g>\r\n   <g id=\"patch_3\">\r\n    <path d=\"M 75.59375 224.64 \r\nL 75.59375 7.2 \r\n\" style=\"fill:none;stroke:#000000;stroke-linecap:square;stroke-linejoin:miter;stroke-width:0.8;\"/>\r\n   </g>\r\n   <g id=\"patch_4\">\r\n    <path d=\"M 410.39375 224.64 \r\nL 410.39375 7.2 \r\n\" style=\"fill:none;stroke:#000000;stroke-linecap:square;stroke-linejoin:miter;stroke-width:0.8;\"/>\r\n   </g>\r\n   <g id=\"patch_5\">\r\n    <path d=\"M 75.59375 224.64 \r\nL 410.39375 224.64 \r\n\" style=\"fill:none;stroke:#000000;stroke-linecap:square;stroke-linejoin:miter;stroke-width:0.8;\"/>\r\n   </g>\r\n   <g id=\"patch_6\">\r\n    <path d=\"M 75.59375 7.2 \r\nL 410.39375 7.2 \r\n\" style=\"fill:none;stroke:#000000;stroke-linecap:square;stroke-linejoin:miter;stroke-width:0.8;\"/>\r\n   </g>\r\n  </g>\r\n </g>\r\n <defs>\r\n  <clipPath id=\"p137625983a\">\r\n   <rect height=\"217.44\" width=\"334.8\" x=\"75.59375\" y=\"7.2\"/>\r\n  </clipPath>\r\n </defs>\r\n</svg>\r\n",
      "image/png": "[encoded data removed]"
     },
     "metadata": {
      "needs_background": "light"
     }
    }
   ],
   "metadata": {}
  },
  {
   "cell_type": "markdown",
   "source": [
    "### Fourier Transformation"
   ],
   "metadata": {}
  },
  {
   "cell_type": "code",
   "execution_count": 31,
   "source": [
    "dt1 = CompositeBeam_Data['Time'][1]-CompositeBeam_Data['Time'][0]\r\n",
    "N1 = len(CompositeBeam_Data['Accelerometer'])"
   ],
   "outputs": [],
   "metadata": {}
  },
  {
   "cell_type": "code",
   "execution_count": 65,
   "source": [
    "F_Cm = np.fft.fft(CompositeBeam_Data['Accelerometer'])\r\n",
    "Amplitude_Cm = 2.0*np.abs(F_Cm[0:int(N1/2)])/N1\r\n",
    "Frequency_Cm = np.linspace(0.0,1.0/(2*dt1),int(N1/2))"
   ],
   "outputs": [],
   "metadata": {}
  },
  {
   "cell_type": "code",
   "execution_count": 66,
   "source": [
    "px.line(x=Frequency_Cm,y=Amplitude_Cm,log_y=True)"
   ],
   "outputs": [
    {
     "output_type": "display_data",
     "data": {
      "application/vnd.plotly.v1+json": {
       "config": {
        "plotlyServerURL": "https://plot.ly"
       },
       "data": [
        {
         "hovertemplate": "x=%{x}<br>y=%{y}<extra></extra>",
         "legendgroup": "",
         "line": {
          "color": "#636efa",
          "dash": "solid"
         },
         "mode": "lines",
         "name": "",
         "orientation": "v",
         "showlegend": false,
         "type": "scatter",
         "x": [
          0,
          1.002004008016032,
          2.004008016032064,
          3.006012024048096,
          4.008016032064128,
          5.0100200400801596,
          6.012024048096192,
          7.014028056112224,
          8.016032064128256,
          9.018036072144287,
          10.020040080160319,
          11.02204408817635,
          12.024048096192384,
          13.026052104208416,
          14.028056112224448,
          15.03006012024048,
          16.03206412825651,
          17.034068136272545,
          18.036072144288575,
          19.03807615230461,
          20.040080160320638,
          21.04208416833667,
          22.0440881763527,
          23.046092184368735,
          24.04809619238477,
          25.0501002004008,
          26.052104208416832,
          27.054108216432862,
          28.056112224448896,
          29.058116232464926,
          30.06012024048096,
          31.06212424849699,
          32.06412825651302,
          33.06613226452905,
          34.06813627254509,
          35.07014028056112,
          36.07214428857715,
          37.07414829659318,
          38.07615230460922,
          39.07815631262525,
          40.080160320641276,
          41.08216432865731,
          42.08416833667334,
          43.08617234468937,
          44.0881763527054,
          45.09018036072144,
          46.09218436873747,
          47.0941883767535,
          48.09619238476954,
          49.09819639278557,
          50.1002004008016,
          51.10220440881763,
          52.104208416833664,
          53.106212424849694,
          54.108216432865724,
          55.110220440881754,
          56.11222444889779,
          57.11422845691382,
          58.11623246492985,
          59.11823647294589,
          60.12024048096192,
          61.12224448897795,
          62.12424849699398,
          63.126252505010015,
          64.12825651302605,
          65.13026052104208,
          66.1322645290581,
          67.13426853707413,
          68.13627254509018,
          69.13827655310621,
          70.14028056112224,
          71.14228456913827,
          72.1442885771543,
          73.14629258517033,
          74.14829659318636,
          75.1503006012024,
          76.15230460921843,
          77.15430861723446,
          78.1563126252505,
          79.15831663326652,
          80.16032064128255,
          81.16232464929858,
          82.16432865731463,
          83.16633266533066,
          84.16833667334669,
          85.17034068136272,
          86.17234468937875,
          87.17434869739478,
          88.1763527054108,
          89.17835671342685,
          90.18036072144288,
          91.18236472945891,
          92.18436873747494,
          93.18637274549097,
          94.188376753507,
          95.19038076152303,
          96.19238476953907,
          97.1943887775551,
          98.19639278557113,
          99.19839679358716,
          100.2004008016032,
          101.20240480961922,
          102.20440881763525,
          103.20641282565128,
          104.20841683366733,
          105.21042084168336,
          106.21242484969939,
          107.21442885771542,
          108.21643286573145,
          109.21843687374748,
          110.22044088176351,
          111.22244488977955,
          112.22444889779558,
          113.22645290581161,
          114.22845691382764,
          115.23046092184367,
          116.2324649298597,
          117.23446893787573,
          118.23647294589178,
          119.2384769539078,
          120.24048096192384,
          121.24248496993987,
          122.2444889779559,
          123.24649298597193,
          124.24849699398796,
          125.250501002004,
          126.25250501002003,
          127.25450901803606,
          128.2565130260521,
          129.25851703406812,
          130.26052104208415,
          131.26252505010018,
          132.2645290581162,
          133.26653306613224,
          134.26853707414827,
          135.2705410821643,
          136.27254509018036,
          137.2745490981964,
          138.27655310621242,
          139.27855711422845,
          140.28056112224448,
          141.2825651302605,
          142.28456913827654,
          143.28657314629257,
          144.2885771543086,
          145.29058116232463,
          146.29258517034066,
          147.2945891783567,
          148.29659318637272,
          149.29859719438875,
          150.3006012024048,
          151.30260521042084,
          152.30460921843687,
          153.3066132264529,
          154.30861723446893,
          155.31062124248496,
          156.312625250501,
          157.31462925851702,
          158.31663326653305,
          159.31863727454908,
          160.3206412825651,
          161.32264529058114,
          162.32464929859717,
          163.3266533066132,
          164.32865731462925,
          165.33066132264528,
          166.3326653306613,
          167.33466933867734,
          168.33667334669337,
          169.3386773547094,
          170.34068136272543,
          171.34268537074146,
          172.3446893787575,
          173.34669338677352,
          174.34869739478955,
          175.35070140280558,
          176.3527054108216,
          177.35470941883764,
          178.3567134268537,
          179.35871743486973,
          180.36072144288576,
          181.3627254509018,
          182.36472945891782,
          183.36673346693385,
          184.36873747494988,
          185.3707414829659,
          186.37274549098194,
          187.37474949899797,
          188.376753507014,
          189.37875751503003,
          190.38076152304606,
          191.3827655310621,
          192.38476953907815,
          193.38677354709418,
          194.3887775551102,
          195.39078156312624,
          196.39278557114227,
          197.3947895791583,
          198.39679358717433,
          199.39879759519036,
          200.4008016032064,
          201.40280561122242,
          202.40480961923845,
          203.40681362725448,
          204.4088176352705,
          205.41082164328654,
          206.41282565130257,
          207.41482965931863,
          208.41683366733466,
          209.4188376753507,
          210.42084168336672,
          211.42284569138275,
          212.42484969939878,
          213.4268537074148,
          214.42885771543084,
          215.43086172344687,
          216.4328657314629,
          217.43486973947893,
          218.43687374749496,
          219.438877755511,
          220.44088176352702,
          221.44288577154308,
          222.4448897795591,
          223.44689378757514,
          224.44889779559117,
          225.4509018036072,
          226.45290581162322,
          227.45490981963925,
          228.45691382765528,
          229.45891783567131,
          230.46092184368734,
          231.46292585170337,
          232.4649298597194,
          233.46693386773543,
          234.46893787575146,
          235.47094188376752,
          236.47294589178355,
          237.47494989979958,
          238.4769539078156,
          239.47895791583164,
          240.48096192384767,
          241.4829659318637,
          242.48496993987973,
          243.48697394789576,
          244.4889779559118,
          245.49098196392782,
          246.49298597194385,
          247.49498997995988,
          248.4969939879759,
          249.49899799599197,
          250.501002004008,
          251.50300601202403,
          252.50501002004006,
          253.5070140280561,
          254.50901803607212,
          255.51102204408815,
          256.5130260521042,
          257.51503006012024,
          258.51703406813624,
          259.5190380761523,
          260.5210420841683,
          261.52304609218436,
          262.52505010020036,
          263.5270541082164,
          264.5290581162324,
          265.5310621242485,
          266.5330661322645,
          267.53507014028054,
          268.53707414829654,
          269.5390781563126,
          270.5410821643286,
          271.54308617234466,
          272.5450901803607,
          273.5470941883767,
          274.5490981963928,
          275.5511022044088,
          276.55310621242484,
          277.55511022044084,
          278.5571142284569,
          279.5591182364729,
          280.56112224448896,
          281.56312625250496,
          282.565130260521,
          283.567134268537,
          284.5691382765531,
          285.57114228456913,
          286.57314629258514,
          287.5751503006012,
          288.5771543086172,
          289.57915831663325,
          290.58116232464926,
          291.5831663326653,
          292.5851703406813,
          293.5871743486974,
          294.5891783567134,
          295.59118236472943,
          296.59318637274544,
          297.5951903807615,
          298.5971943887775,
          299.59919839679355,
          300.6012024048096,
          301.6032064128256,
          302.6052104208417,
          303.6072144288577,
          304.60921843687373,
          305.61122244488973,
          306.6132264529058,
          307.6152304609218,
          308.61723446893785,
          309.61923847695385,
          310.6212424849699,
          311.6232464929859,
          312.625250501002,
          313.62725450901803,
          314.62925851703403,
          315.6312625250501,
          316.6332665330661,
          317.63527054108215,
          318.63727454909815,
          319.6392785571142,
          320.6412825651302,
          321.64328657314627,
          322.64529058116227,
          323.64729458917833,
          324.64929859719433,
          325.6513026052104,
          326.6533066132264,
          327.65531062124245,
          328.6573146292585,
          329.6593186372745,
          330.66132264529057,
          331.66332665330657,
          332.6653306613226,
          333.66733466933863,
          334.6693386773547,
          335.6713426853707,
          336.67334669338675,
          337.67535070140275,
          338.6773547094188,
          339.6793587174348,
          340.68136272545087,
          341.68336673346687,
          342.6853707414829,
          343.687374749499,
          344.689378757515,
          345.69138276553105,
          346.69338677354705,
          347.6953907815631,
          348.6973947895791,
          349.69939879759517,
          350.70140280561117,
          351.7034068136272,
          352.7054108216432,
          353.7074148296593,
          354.7094188376753,
          355.71142284569135,
          356.7134268537074,
          357.7154308617234,
          358.71743486973946,
          359.71943887775547,
          360.7214428857715,
          361.7234468937875,
          362.7254509018036,
          363.7274549098196,
          364.72945891783564,
          365.73146292585164,
          366.7334669338677,
          367.7354709418837,
          368.73747494989976,
          369.73947895791576,
          370.7414829659318,
          371.7434869739479,
          372.7454909819639,
          373.74749498997994,
          374.74949899799594,
          375.751503006012,
          376.753507014028,
          377.75551102204406,
          378.75751503006006,
          379.7595190380761,
          380.7615230460921,
          381.7635270541082,
          382.7655310621242,
          383.76753507014024,
          384.7695390781563,
          385.7715430861723,
          386.77354709418836,
          387.77555110220436,
          388.7775551102204,
          389.7795591182364,
          390.7815631262525,
          391.7835671342685,
          392.78557114228454,
          393.78757515030054,
          394.7895791583166,
          395.7915831663326,
          396.79358717434866,
          397.79559118236466,
          398.7975951903807,
          399.7995991983968,
          400.8016032064128,
          401.80360721442884,
          402.80561122244484,
          403.8076152304609,
          404.8096192384769,
          405.81162324649296,
          406.81362725450896,
          407.815631262525,
          408.817635270541,
          409.8196392785571,
          410.8216432865731,
          411.82364729458914,
          412.82565130260514,
          413.8276553106212,
          414.82965931863725,
          415.83166332665326,
          416.8336673346693,
          417.8356713426853,
          418.8376753507014,
          419.8396793587174,
          420.84168336673343,
          421.84368737474944,
          422.8456913827655,
          423.8476953907815,
          424.84969939879755,
          425.85170340681356,
          426.8537074148296,
          427.8557114228457,
          428.8577154308617,
          429.85971943887773,
          430.86172344689373,
          431.8637274549098,
          432.8657314629258,
          433.86773547094185,
          434.86973947895785,
          435.8717434869739,
          436.8737474949899,
          437.875751503006,
          438.877755511022,
          439.87975951903803,
          440.88176352705403,
          441.8837675350701,
          442.88577154308615,
          443.88777555110215,
          444.8897795591182,
          445.8917835671342,
          446.89378757515027,
          447.8957915831663,
          448.89779559118233,
          449.89979959919833,
          450.9018036072144,
          451.9038076152304,
          452.90581162324645,
          453.90781563126245,
          454.9098196392785,
          455.9118236472945,
          456.91382765531057,
          457.9158316633266,
          458.91783567134263,
          459.9198396793587,
          460.9218436873747,
          461.92384769539075,
          462.92585170340675,
          463.9278557114228,
          464.9298597194388,
          465.93186372745487,
          466.93386773547087,
          467.9358717434869,
          468.93787575150293,
          469.939879759519,
          470.94188376753505,
          471.94388777555105,
          472.9458917835671,
          473.9478957915831,
          474.94989979959917,
          475.95190380761517,
          476.9539078156312,
          477.9559118236472,
          478.9579158316633,
          479.9599198396793,
          480.96192384769535,
          481.96392785571135,
          482.9659318637274,
          483.9679358717434,
          484.96993987975947,
          485.9719438877755,
          486.9739478957915,
          487.9759519038076,
          488.9779559118236,
          489.97995991983964,
          490.98196392785565,
          491.9839679358717,
          492.9859719438877,
          493.98797595190376,
          494.98997995991976,
          495.9919839679358,
          496.9939879759518,
          497.9959919839679,
          498.99799599198394,
          500
         ],
         "xaxis": "x",
         "y": [
          0.15648219105199995,
          0.006420866926753696,
          0.0026531656307157646,
          0.0015454178830718469,
          0.0009733817415023666,
          0.0009089148718837758,
          0.0007282202709910067,
          0.0005075596607452378,
          0.0005517912076332249,
          0.0005241324821273792,
          0.0003942998448177264,
          0.0004399528609601339,
          0.00028497764996450356,
          0.000403547331389279,
          0.0004111469497673688,
          0.0003478110875604659,
          0.0003631162098306803,
          0.0001831213721033769,
          0.00031727889620274867,
          0.0002456604649826086,
          0.00034935615897614545,
          0.000339347709165505,
          0.00039992349202632967,
          0.0004899653502453181,
          0.0005358146164579256,
          0.0006306503611269573,
          0.00047234985903298206,
          0.0008785988900350391,
          0.00125678782501267,
          0.003399944978091757,
          0.04523873023521934,
          0.003623194326272364,
          0.0018539262255478374,
          0.0013632022856201146,
          0.0014191122822841576,
          0.0015713145238611854,
          0.008193484300332298,
          0.0014194256932439685,
          0.0006070831021862371,
          0.00044114463848498724,
          0.0005226776535550502,
          0.00027049518316399107,
          0.00035754437390819364,
          0.0004306071156099956,
          0.0004121584403590328,
          0.00031363793767373154,
          0.000370337494560019,
          0.001061725201708584,
          0.00011176754748336752,
          0.00022401201552431615,
          0.0001321609740956424,
          0.0001552576757346121,
          0.00008511605470834669,
          0.00022070424216778992,
          0.00023870051317940216,
          0.0001429960330269809,
          0.0001408977005843338,
          0.000239070023431254,
          0.00012458302205910568,
          0.00019439420839584734,
          0.00011840543000675568,
          0.0001567292611552434,
          0.00012991944300538892,
          0.00012631597698466656,
          0.0001402138720777178,
          0.00017219898911880117,
          0.00017961413393369742,
          0.00014772092471386643,
          0.0001462054370014726,
          0.00017422722506558365,
          0.00013221087841329068,
          0.00016030756004565465,
          0.00009533404596003635,
          0.00006932159791304585,
          0.000036298457949632165,
          0.00007661861211943708,
          0.0001779860153901626,
          0.00011192171349687717,
          0.00012776447747028254,
          0.00009259591664464137,
          0.00011526346958026593,
          0.00011116981759339832,
          0.00010069058107657137,
          0.00014148501063368074,
          0.00003161823149957838,
          0.00012339032449672126,
          0.00004722971910657143,
          0.00011083163446853389,
          0.00006105642958245008,
          0.00010671984893628171,
          0.00009456600024241879,
          0.00008978002522491636,
          0.00007864418170944292,
          0.00008579346093284712,
          0.00010585088026434401,
          0.000037586731329219686,
          0.0001380977894431745,
          0.000016674701470141454,
          0.00008796972661916739,
          0.0001342478668972764,
          0.00012820977688846809,
          0.00005056020913553303,
          0.00006960077848063733,
          0.00004620913239249069,
          0.00010955661654786435,
          0.000019467619836765087,
          0.00007288883549240101,
          0.000043652923588646766,
          0.00005576232548567849,
          0.00009295492801928454,
          0.00010888420916933407,
          0.000021509613499162883,
          0.00009944654242424762,
          0.00005629434617938309,
          0.000050350435040640553,
          0.00007299517196729842,
          0.00011346024629186802,
          0.00008562484217804848,
          0.00004474198076637132,
          0.00003005064375547604,
          0.000040922515866491714,
          0.00004738915547127053,
          0.000046352079401365,
          0.00008756027549228667,
          0.0001135876099440786,
          0.00014842930714999587,
          0.00007412576682697613,
          0.00006759751502374575,
          0.0000523461895380926,
          0.00010435558562452886,
          0.00006674609037053103,
          0.000047153952210333634,
          0.000034422944221829796,
          0.000045724030763999575,
          0.00004043408007112443,
          0.000049808784057154706,
          0.000025054002178511702,
          0.00004773541740676051,
          0.00008828462760158223,
          0.00006003301146915894,
          0.000037810284639346875,
          0.00008017742975506579,
          0.000023062022996443888,
          0.00007700645800652514,
          0.00010417186373811124,
          0.000050204396959497204,
          0.00003254838817565414,
          0.00003712323298761824,
          0.00003060041748690864,
          0.00008817519911426985,
          0.00007745329125720265,
          0.00007640413208546397,
          0.000057439991960528126,
          0.00010020946435916946,
          0.00004949302905072869,
          0.00009970737682702953,
          0.00007871508389660292,
          0.000058600836163508524,
          0.0000496898973940943,
          0.000053566575065221484,
          0.00006245936342671356,
          0.000041513855472573545,
          0.00008811567055531451,
          0.00004813564778610128,
          0.00006922007385243012,
          0.00008235795619494887,
          0.000028318236085104034,
          0.00005521167966598038,
          0.00004832463155807444,
          0.00002246635419283631,
          0.00004791435386861668,
          0.0000497901867507746,
          0.00005854092991431453,
          0.00005347627735618286,
          0.00005419219255400788,
          0.00006915354659844684,
          0.00005102596877041394,
          0.00006491807637729727,
          0.000017811690381221486,
          0.00008486001792237773,
          0.00002643360850716633,
          0.00004244548963518495,
          0.00003046950149719192,
          0.00003307482668071279,
          0.00004125655819462007,
          0.000024267699690076338,
          0.00006885748730094129,
          0.00009901056351852923,
          0.0000153807004902681,
          0.00004456331370323715,
          0.00005365763832884855,
          0.000006628314359477122,
          0.000049374715465318255,
          0.00006609111534422828,
          0.00003265108133215966,
          0.00004870526982787711,
          0.00004412453424414321,
          0.000022250130722236718,
          0.000010588518810569571,
          0.000031510080487973174,
          0.00001334880835085175,
          0.00009004694603697367,
          0.000040304291578098464,
          0.000041001636863434286,
          0.000038616429980183367,
          0.000031806596505577334,
          0.00006171905069307022,
          0.000026069798703620342,
          0.00011810544938215187,
          0.000021015193989209575,
          0.00006911295237162062,
          0.000054606935409237216,
          0.000031342480912705376,
          0.000022569300089949062,
          0.00006650464749027387,
          0.00009323648918165513,
          0.00004382412168783059,
          0.00004052371006899431,
          0.000040669152783543344,
          0.00004036905992245587,
          0.00004037225969693622,
          0.00003245511863139477,
          0.00005465679836911696,
          0.00008834690090976673,
          0.000035536423692289444,
          0.0000669739200677005,
          0.00002951856750868885,
          0.000030328928631572604,
          0.000059524841836110114,
          0.000006518928946968364,
          0.00005023133839758715,
          0.000043851157744832026,
          0.0000392853579565044,
          0.00004424043628562367,
          0.00007780373229169537,
          0.000040695042670878504,
          0.00008967766382766438,
          0.000010532451683740207,
          0.000048279669366193614,
          0.00003895857882845645,
          0.000042954808597689486,
          0.00003284704903484061,
          0.00005237011481862682,
          0.00003791133183401825,
          0.000025124926044533342,
          0.000008716818765268647,
          0.000016835734877045505,
          0.00006001602499884252,
          0.00001938083710168955,
          0.000042239446375309863,
          0.000009271715777503308,
          0.00004301891272403237,
          0.0000616006851814501,
          0.00003433379838015487,
          0.000047583701213479603,
          0.000042176755216761656,
          0.000005134529512919535,
          0.00003875021240400814,
          0.00007675489370281777,
          0.0000020067347080681628,
          0.000016452805523549414,
          0.00001723281722700664,
          0.00004446880795567325,
          4.632017915214986e-7,
          0.000050792104416255974,
          0.0000522818360924931,
          0.00002399458227242233,
          0.00010513674217947495,
          0.000024665132399321157,
          0.00006801806657540576,
          0.000013638682533175347,
          0.00004445429235764385,
          0.000049481513155218794,
          0.00005490418390244974,
          0.0000065996852802171586,
          0.00004592825817951729,
          0.000014861496041158492,
          0.00009275743768091926,
          0.000025888587767052975,
          0.000027058393701733592,
          0.000024247813899559975,
          0.000016660776111672545,
          0.000026718287430623516,
          0.000006577658842596062,
          0.000040282642047539515,
          0.000013863217536449365,
          0.00003764555743734589,
          0.000018415564773613692,
          0.0000390270982338901,
          0.000058271958263191946,
          0.000056881880500284066,
          0.000036002437354788085,
          0.000046001796026318235,
          0.000050567780942721046,
          0.000028592654649362504,
          0.0000414011294603239,
          0.000022303150171146216,
          0.000011263604082754657,
          0.000025870872171647605,
          0.000049630372513213165,
          0.0000334505679657872,
          0.00005356506542908784,
          0.00006447508777844428,
          0.00003721014766894651,
          0.000025846516657516174,
          0.000018132475488119065,
          0.000050111342460216674,
          0.00003436292099908063,
          0.0000220228365107075,
          0.0000682456527985233,
          0.00002306059222720912,
          0.000006214291540313413,
          0.00005109180713141471,
          0.00002630664965605922,
          0.00005343056741165347,
          0.00001942615313134509,
          0.00003621900948266232,
          0.00003184637548050773,
          0.00001138516244674836,
          0.00004861850938020385,
          0.00003987228026012422,
          0.000041990175105794274,
          0.0000499789430956333,
          0.000019552160509391553,
          0.000026041018051456187,
          0.000029554732029476748,
          0.000033167745534585675,
          0.00007967209159754829,
          0.000023560830101069003,
          0.000039838098633835874,
          0.00007099495118439989,
          0.00004337676025010344,
          0.00007776887020635762,
          0.000022815713105581618,
          0.000036235612968061855,
          0.00009303058306505322,
          0.000029149386361421285,
          0.00005136505679058294,
          0.000019565589100378833,
          0.00005698247124907367,
          0.000041677405477533725,
          0.000026614149805295874,
          0.00005202280218648103,
          0.000023260951114430366,
          0.000051745068324666976,
          0.000032644057538921735,
          0.000024857779611332467,
          0.00002342794976697829,
          0.000030437106460316853,
          0.00003735729972954327,
          0.00007454419227542797,
          0.00002196763023047154,
          0.000050549904591566976,
          0.000012540278087057117,
          0.000013714808872969533,
          0.000029789982756232017,
          0.000027162029401158542,
          0.00005353201830690492,
          0.00002973747746811648,
          0.00006565711350362508,
          0.00004015581048843683,
          0.000034605874034554014,
          0.0000327164959012941,
          0.00005669835208495584,
          0.00002072773273481693,
          0.00004011694728149535,
          0.000014631761279704024,
          0.00001808825743602874,
          0.00003610666915928171,
          0.000029486210353882156,
          0.000011150269440145883,
          0.00003150949415929264,
          0.00002768468221307592,
          0.000016796947671653864,
          0.0000025559899078870515,
          0.000019031458517642787,
          0.00003244206248747803,
          0.000012787683687126893,
          0.000020254034146309345,
          0.00003399275653706074,
          0.00005700861725255342,
          0.00003435087267992975,
          0.00003303147197768051,
          0.0000163757213529305,
          0.000018111195207470177,
          0.00006701277442506904,
          0.000044590901254956,
          0.000029095261696681332,
          0.000051112915307971656,
          0.00003090091725257321,
          0.000003763447693411332,
          0.000020771852897597977,
          0.000030601354310136325,
          0.0000527007835690897,
          0.00003943759071370049,
          0.000016016379049681854,
          0.000045879642868272165,
          0.00004814886051768916,
          0.000003917811602061311,
          0.00007065559179095479,
          0.000028426904214001348,
          0.000020223406191869805,
          0.0000041459608669793614,
          0.00003011571288593404,
          0.00004109285880276687,
          0.000048752208734395264,
          0.000039184455009119313,
          0.000022715383638849216,
          0.00003193686745782946,
          0.000007972619930820914,
          0.000009321509585366426,
          0.00002823326194770463,
          0.00003893811022909963,
          0.0000166827347231446,
          0.00006078344782180176,
          0.000015524829422814612,
          0.000009414691229740226,
          0.000038937365801729094,
          0.000009531100654693516,
          0.0000410172720724748,
          0.000020820561919689955,
          0.000037998228625416265,
          0.000048001970833758176,
          0.000013270514125335703,
          0.000014359410311304448,
          0.000025957633788905512,
          0.00004915394370271118,
          0.000022310335941354797,
          0.000024809515525867938,
          0.0000349107877794944,
          0.000042755994398898456,
          0.000029431144434271367,
          0.0000042184828912984735,
          0.000031596967290390405,
          0.000029413116920939294,
          0.000030112528403858574,
          0.0000374599508050012,
          0.00003099849597731964,
          0.000017216706650419887,
          0.000030267989173328707,
          0.00002844579488707959,
          0.000014401733532689866,
          0.000016746363211572708,
          0.00002187219810733372,
          0.00002724833813013734,
          0.00001483980102951267,
          0.00002883365430895472,
          0.000020082786286836627,
          0.000013644738644096803,
          0.00001106333873448525,
          0.00002094975176648795,
          0.0000207111462004177,
          0.00001782347385939142,
          0.000016640518249168437,
          0.00002299787392654467,
          0.000019875950314524625,
          0.00002419643760416313,
          0.00001749047495842538,
          0.00001902180641752546,
          0.00002030372575038192,
          0.000017681653979396487,
          0.000020700073249737806,
          0.00001940305286690024,
          0.000018543843318631333,
          0.000020779491231234677,
          0.000020623784328965862,
          0.000018700972987318052,
          0.000018743080926146514,
          0.00001892139719320215,
          0.000019641415687854564,
          0.000019461642735730316,
          0.000019312183593989438,
          0.0000196109575695487,
          0.000019477487832199258,
          0.000019350258334602502,
          0.00001912862718348801,
          0.000019217022901596603,
          0.000019470386368180845,
          0.000018992002381581142,
          0.00001918977753816265,
          0.000019285913031176786,
          0.000019220776899550865,
          0.00001908516217006034,
          0.00001912063047533746,
          0.000019144117933296285,
          0.000019155979591954027,
          0.00001922016597336808,
          0.000019138778880346933,
          0.000019169332036005877,
          0.000019132312782932112,
          0.00001918958115019081,
          0.00001913325590480554,
          0.00001925884205102395,
          0.000019103021540814654,
          0.00001917180354112877,
          0.000019229653355689495,
          0.000019103187916795097,
          0.000019177873384024292,
          0.00001916661327277487,
          0.00001917257792411027
         ],
         "yaxis": "y"
        }
       ],
       "layout": {
        "legend": {
         "tracegroupgap": 0
        },
        "margin": {
         "t": 60
        },
        "template": {
         "data": {
          "bar": [
           {
            "error_x": {
             "color": "#2a3f5f"
            },
            "error_y": {
             "color": "#2a3f5f"
            },
            "marker": {
             "line": {
              "color": "#E5ECF6",
              "width": 0.5
             },
             "pattern": {
              "fillmode": "overlay",
              "size": 10,
              "solidity": 0.2
             }
            },
            "type": "bar"
           }
          ],
          "barpolar": [
           {
            "marker": {
             "line": {
              "color": "#E5ECF6",
              "width": 0.5
             },
             "pattern": {
              "fillmode": "overlay",
              "size": 10,
              "solidity": 0.2
             }
            },
            "type": "barpolar"
           }
          ],
          "carpet": [
           {
            "aaxis": {
             "endlinecolor": "#2a3f5f",
             "gridcolor": "white",
             "linecolor": "white",
             "minorgridcolor": "white",
             "startlinecolor": "#2a3f5f"
            },
            "baxis": {
             "endlinecolor": "#2a3f5f",
             "gridcolor": "white",
             "linecolor": "white",
             "minorgridcolor": "white",
             "startlinecolor": "#2a3f5f"
            },
            "type": "carpet"
           }
          ],
          "choropleth": [
           {
            "colorbar": {
             "outlinewidth": 0,
             "ticks": ""
            },
            "type": "choropleth"
           }
          ],
          "contour": [
           {
            "colorbar": {
             "outlinewidth": 0,
             "ticks": ""
            },
            "colorscale": [
             [
              0,
              "#0d0887"
             ],
             [
              0.1111111111111111,
              "#46039f"
             ],
             [
              0.2222222222222222,
              "#7201a8"
             ],
             [
              0.3333333333333333,
              "#9c179e"
             ],
             [
              0.4444444444444444,
              "#bd3786"
             ],
             [
              0.5555555555555556,
              "#d8576b"
             ],
             [
              0.6666666666666666,
              "#ed7953"
             ],
             [
              0.7777777777777778,
              "#fb9f3a"
             ],
             [
              0.8888888888888888,
              "#fdca26"
             ],
             [
              1,
              "#f0f921"
             ]
            ],
            "type": "contour"
           }
          ],
          "contourcarpet": [
           {
            "colorbar": {
             "outlinewidth": 0,
             "ticks": ""
            },
            "type": "contourcarpet"
           }
          ],
          "heatmap": [
           {
            "colorbar": {
             "outlinewidth": 0,
             "ticks": ""
            },
            "colorscale": [
             [
              0,
              "#0d0887"
             ],
             [
              0.1111111111111111,
              "#46039f"
             ],
             [
              0.2222222222222222,
              "#7201a8"
             ],
             [
              0.3333333333333333,
              "#9c179e"
             ],
             [
              0.4444444444444444,
              "#bd3786"
             ],
             [
              0.5555555555555556,
              "#d8576b"
             ],
             [
              0.6666666666666666,
              "#ed7953"
             ],
             [
              0.7777777777777778,
              "#fb9f3a"
             ],
             [
              0.8888888888888888,
              "#fdca26"
             ],
             [
              1,
              "#f0f921"
             ]
            ],
            "type": "heatmap"
           }
          ],
          "heatmapgl": [
           {
            "colorbar": {
             "outlinewidth": 0,
             "ticks": ""
            },
            "colorscale": [
             [
              0,
              "#0d0887"
             ],
             [
              0.1111111111111111,
              "#46039f"
             ],
             [
              0.2222222222222222,
              "#7201a8"
             ],
             [
              0.3333333333333333,
              "#9c179e"
             ],
             [
              0.4444444444444444,
              "#bd3786"
             ],
             [
              0.5555555555555556,
              "#d8576b"
             ],
             [
              0.6666666666666666,
              "#ed7953"
             ],
             [
              0.7777777777777778,
              "#fb9f3a"
             ],
             [
              0.8888888888888888,
              "#fdca26"
             ],
             [
              1,
              "#f0f921"
             ]
            ],
            "type": "heatmapgl"
           }
          ],
          "histogram": [
           {
            "marker": {
             "pattern": {
              "fillmode": "overlay",
              "size": 10,
              "solidity": 0.2
             }
            },
            "type": "histogram"
           }
          ],
          "histogram2d": [
           {
            "colorbar": {
             "outlinewidth": 0,
             "ticks": ""
            },
            "colorscale": [
             [
              0,
              "#0d0887"
             ],
             [
              0.1111111111111111,
              "#46039f"
             ],
             [
              0.2222222222222222,
              "#7201a8"
             ],
             [
              0.3333333333333333,
              "#9c179e"
             ],
             [
              0.4444444444444444,
              "#bd3786"
             ],
             [
              0.5555555555555556,
              "#d8576b"
             ],
             [
              0.6666666666666666,
              "#ed7953"
             ],
             [
              0.7777777777777778,
              "#fb9f3a"
             ],
             [
              0.8888888888888888,
              "#fdca26"
             ],
             [
              1,
              "#f0f921"
             ]
            ],
            "type": "histogram2d"
           }
          ],
          "histogram2dcontour": [
           {
            "colorbar": {
             "outlinewidth": 0,
             "ticks": ""
            },
            "colorscale": [
             [
              0,
              "#0d0887"
             ],
             [
              0.1111111111111111,
              "#46039f"
             ],
             [
              0.2222222222222222,
              "#7201a8"
             ],
             [
              0.3333333333333333,
              "#9c179e"
             ],
             [
              0.4444444444444444,
              "#bd3786"
             ],
             [
              0.5555555555555556,
              "#d8576b"
             ],
             [
              0.6666666666666666,
              "#ed7953"
             ],
             [
              0.7777777777777778,
              "#fb9f3a"
             ],
             [
              0.8888888888888888,
              "#fdca26"
             ],
             [
              1,
              "#f0f921"
             ]
            ],
            "type": "histogram2dcontour"
           }
          ],
          "mesh3d": [
           {
            "colorbar": {
             "outlinewidth": 0,
             "ticks": ""
            },
            "type": "mesh3d"
           }
          ],
          "parcoords": [
           {
            "line": {
             "colorbar": {
              "outlinewidth": 0,
              "ticks": ""
             }
            },
            "type": "parcoords"
           }
          ],
          "pie": [
           {
            "automargin": true,
            "type": "pie"
           }
          ],
          "scatter": [
           {
            "marker": {
             "colorbar": {
              "outlinewidth": 0,
              "ticks": ""
             }
            },
            "type": "scatter"
           }
          ],
          "scatter3d": [
           {
            "line": {
             "colorbar": {
              "outlinewidth": 0,
              "ticks": ""
             }
            },
            "marker": {
             "colorbar": {
              "outlinewidth": 0,
              "ticks": ""
             }
            },
            "type": "scatter3d"
           }
          ],
          "scattercarpet": [
           {
            "marker": {
             "colorbar": {
              "outlinewidth": 0,
              "ticks": ""
             }
            },
            "type": "scattercarpet"
           }
          ],
          "scattergeo": [
           {
            "marker": {
             "colorbar": {
              "outlinewidth": 0,
              "ticks": ""
             }
            },
            "type": "scattergeo"
           }
          ],
          "scattergl": [
           {
            "marker": {
             "colorbar": {
              "outlinewidth": 0,
              "ticks": ""
             }
            },
            "type": "scattergl"
           }
          ],
          "scattermapbox": [
           {
            "marker": {
             "colorbar": {
              "outlinewidth": 0,
              "ticks": ""
             }
            },
            "type": "scattermapbox"
           }
          ],
          "scatterpolar": [
           {
            "marker": {
             "colorbar": {
              "outlinewidth": 0,
              "ticks": ""
             }
            },
            "type": "scatterpolar"
           }
          ],
          "scatterpolargl": [
           {
            "marker": {
             "colorbar": {
              "outlinewidth": 0,
              "ticks": ""
             }
            },
            "type": "scatterpolargl"
           }
          ],
          "scatterternary": [
           {
            "marker": {
             "colorbar": {
              "outlinewidth": 0,
              "ticks": ""
             }
            },
            "type": "scatterternary"
           }
          ],
          "surface": [
           {
            "colorbar": {
             "outlinewidth": 0,
             "ticks": ""
            },
            "colorscale": [
             [
              0,
              "#0d0887"
             ],
             [
              0.1111111111111111,
              "#46039f"
             ],
             [
              0.2222222222222222,
              "#7201a8"
             ],
             [
              0.3333333333333333,
              "#9c179e"
             ],
             [
              0.4444444444444444,
              "#bd3786"
             ],
             [
              0.5555555555555556,
              "#d8576b"
             ],
             [
              0.6666666666666666,
              "#ed7953"
             ],
             [
              0.7777777777777778,
              "#fb9f3a"
             ],
             [
              0.8888888888888888,
              "#fdca26"
             ],
             [
              1,
              "#f0f921"
             ]
            ],
            "type": "surface"
           }
          ],
          "table": [
           {
            "cells": {
             "fill": {
              "color": "#EBF0F8"
             },
             "line": {
              "color": "white"
             }
            },
            "header": {
             "fill": {
              "color": "#C8D4E3"
             },
             "line": {
              "color": "white"
             }
            },
            "type": "table"
           }
          ]
         },
         "layout": {
          "annotationdefaults": {
           "arrowcolor": "#2a3f5f",
           "arrowhead": 0,
           "arrowwidth": 1
          },
          "autotypenumbers": "strict",
          "coloraxis": {
           "colorbar": {
            "outlinewidth": 0,
            "ticks": ""
           }
          },
          "colorscale": {
           "diverging": [
            [
             0,
             "#8e0152"
            ],
            [
             0.1,
             "#c51b7d"
            ],
            [
             0.2,
             "#de77ae"
            ],
            [
             0.3,
             "#f1b6da"
            ],
            [
             0.4,
             "#fde0ef"
            ],
            [
             0.5,
             "#f7f7f7"
            ],
            [
             0.6,
             "#e6f5d0"
            ],
            [
             0.7,
             "#b8e186"
            ],
            [
             0.8,
             "#7fbc41"
            ],
            [
             0.9,
             "#4d9221"
            ],
            [
             1,
             "#276419"
            ]
           ],
           "sequential": [
            [
             0,
             "#0d0887"
            ],
            [
             0.1111111111111111,
             "#46039f"
            ],
            [
             0.2222222222222222,
             "#7201a8"
            ],
            [
             0.3333333333333333,
             "#9c179e"
            ],
            [
             0.4444444444444444,
             "#bd3786"
            ],
            [
             0.5555555555555556,
             "#d8576b"
            ],
            [
             0.6666666666666666,
             "#ed7953"
            ],
            [
             0.7777777777777778,
             "#fb9f3a"
            ],
            [
             0.8888888888888888,
             "#fdca26"
            ],
            [
             1,
             "#f0f921"
            ]
           ],
           "sequentialminus": [
            [
             0,
             "#0d0887"
            ],
            [
             0.1111111111111111,
             "#46039f"
            ],
            [
             0.2222222222222222,
             "#7201a8"
            ],
            [
             0.3333333333333333,
             "#9c179e"
            ],
            [
             0.4444444444444444,
             "#bd3786"
            ],
            [
             0.5555555555555556,
             "#d8576b"
            ],
            [
             0.6666666666666666,
             "#ed7953"
            ],
            [
             0.7777777777777778,
             "#fb9f3a"
            ],
            [
             0.8888888888888888,
             "#fdca26"
            ],
            [
             1,
             "#f0f921"
            ]
           ]
          },
          "colorway": [
           "#636efa",
           "#EF553B",
           "#00cc96",
           "#ab63fa",
           "#FFA15A",
           "#19d3f3",
           "#FF6692",
           "#B6E880",
           "#FF97FF",
           "#FECB52"
          ],
          "font": {
           "color": "#2a3f5f"
          },
          "geo": {
           "bgcolor": "white",
           "lakecolor": "white",
           "landcolor": "#E5ECF6",
           "showlakes": true,
           "showland": true,
           "subunitcolor": "white"
          },
          "hoverlabel": {
           "align": "left"
          },
          "hovermode": "closest",
          "mapbox": {
           "style": "light"
          },
          "paper_bgcolor": "white",
          "plot_bgcolor": "#E5ECF6",
          "polar": {
           "angularaxis": {
            "gridcolor": "white",
            "linecolor": "white",
            "ticks": ""
           },
           "bgcolor": "#E5ECF6",
           "radialaxis": {
            "gridcolor": "white",
            "linecolor": "white",
            "ticks": ""
           }
          },
          "scene": {
           "xaxis": {
            "backgroundcolor": "#E5ECF6",
            "gridcolor": "white",
            "gridwidth": 2,
            "linecolor": "white",
            "showbackground": true,
            "ticks": "",
            "zerolinecolor": "white"
           },
           "yaxis": {
            "backgroundcolor": "#E5ECF6",
            "gridcolor": "white",
            "gridwidth": 2,
            "linecolor": "white",
            "showbackground": true,
            "ticks": "",
            "zerolinecolor": "white"
           },
           "zaxis": {
            "backgroundcolor": "#E5ECF6",
            "gridcolor": "white",
            "gridwidth": 2,
            "linecolor": "white",
            "showbackground": true,
            "ticks": "",
            "zerolinecolor": "white"
           }
          },
          "shapedefaults": {
           "line": {
            "color": "#2a3f5f"
           }
          },
          "ternary": {
           "aaxis": {
            "gridcolor": "white",
            "linecolor": "white",
            "ticks": ""
           },
           "baxis": {
            "gridcolor": "white",
            "linecolor": "white",
            "ticks": ""
           },
           "bgcolor": "#E5ECF6",
           "caxis": {
            "gridcolor": "white",
            "linecolor": "white",
            "ticks": ""
           }
          },
          "title": {
           "x": 0.05
          },
          "xaxis": {
           "automargin": true,
           "gridcolor": "white",
           "linecolor": "white",
           "ticks": "",
           "title": {
            "standoff": 15
           },
           "zerolinecolor": "white",
           "zerolinewidth": 2
          },
          "yaxis": {
           "automargin": true,
           "gridcolor": "white",
           "linecolor": "white",
           "ticks": "",
           "title": {
            "standoff": 15
           },
           "zerolinecolor": "white",
           "zerolinewidth": 2
          }
         }
        },
        "xaxis": {
         "anchor": "y",
         "domain": [
          0,
          1
         ],
         "title": {
          "text": "x"
         }
        },
        "yaxis": {
         "anchor": "x",
         "domain": [
          0,
          1
         ],
         "title": {
          "text": "y"
         },
         "type": "log"
        }
       }
      }
     },
     "metadata": {}
    }
   ],
   "metadata": {}
  },
  {
   "cell_type": "code",
   "execution_count": 34,
   "source": [
    "plt.grid();\r\n",
    "plt.plot(Frequency_Cm,Amplitude_Cm);plt.xlabel('Frequency [Hz]');plt.ylabel('|FFT(f)|');"
   ],
   "outputs": [
    {
     "output_type": "display_data",
     "data": {
      "text/plain": [
       "<Figure size 432x288 with 1 Axes>"
      ],
      "image/svg+xml": "<?xml version=\"1.0\" encoding=\"utf-8\" standalone=\"no\"?>\r\n<!DOCTYPE svg PUBLIC \"-//W3C//DTD SVG 1.1//EN\"\r\n  \"http://www.w3.org/Graphics/SVG/1.1/DTD/svg11.dtd\">\r\n<svg height=\"262.19625pt\" version=\"1.1\" viewBox=\"0 0 392.465625 262.19625\" width=\"392.465625pt\" xmlns=\"http://www.w3.org/2000/svg\" xmlns:xlink=\"http://www.w3.org/1999/xlink\">\r\n <metadata>\r\n  <rdf:RDF xmlns:cc=\"http://creativecommons.org/ns#\" xmlns:dc=\"http://purl.org/dc/elements/1.1/\" xmlns:rdf=\"http://www.w3.org/1999/02/22-rdf-syntax-ns#\">\r\n   <cc:Work>\r\n    <dc:type rdf:resource=\"http://purl.org/dc/dcmitype/StillImage\"/>\r\n    <dc:date>2021-08-27T14:06:48.456651</dc:date>\r\n    <dc:format>image/svg+xml</dc:format>\r\n    <dc:creator>\r\n     <cc:Agent>\r\n      <dc:title>Matplotlib v3.4.2, https://matplotlib.org/</dc:title>\r\n     </cc:Agent>\r\n    </dc:creator>\r\n   </cc:Work>\r\n  </rdf:RDF>\r\n </metadata>\r\n <defs>\r\n  <style type=\"text/css\">*{stroke-linecap:butt;stroke-linejoin:round;}</style>\r\n </defs>\r\n <g id=\"figure_1\">\r\n  <g id=\"patch_1\">\r\n   <path d=\"M 0 262.19625 \r\nL 392.465625 262.19625 \r\nL 392.465625 0 \r\nL 0 0 \r\nz\r\n\" style=\"fill:none;\"/>\r\n  </g>\r\n  <g id=\"axes_1\">\r\n   <g id=\"patch_2\">\r\n    <path d=\"M 50.465625 224.64 \r\nL 385.265625 224.64 \r\nL 385.265625 7.2 \r\nL 50.465625 7.2 \r\nz\r\n\" style=\"fill:#ffffff;\"/>\r\n   </g>\r\n   <g id=\"matplotlib.axis_1\">\r\n    <g id=\"xtick_1\">\r\n     <g id=\"line2d_1\">\r\n      <path clip-path=\"url(#pe7973c83bc)\" d=\"M 65.683807 224.64 \r\nL 65.683807 7.2 \r\n\" style=\"fill:none;stroke:#b0b0b0;stroke-linecap:square;stroke-width:0.8;\"/>\r\n     </g>\r\n     <g id=\"line2d_2\">\r\n      <defs>\r\n       <path d=\"M 0 0 \r\nL 0 3.5 \r\n\" id=\"m8d482d1274\" style=\"stroke:#000000;stroke-width:0.8;\"/>\r\n      </defs>\r\n      <g>\r\n       <use style=\"stroke:#000000;stroke-width:0.8;\" x=\"65.683807\" xlink:href=\"#m8d482d1274\" y=\"224.64\"/>\r\n      </g>\r\n     </g>\r\n     <g id=\"text_1\">\r\n      <!-- 0 -->\r\n      <g transform=\"translate(62.502557 239.238437)scale(0.1 -0.1)\">\r\n       <defs>\r\n        <path d=\"M 2034 4250 \r\nQ 1547 4250 1301 3770 \r\nQ 1056 3291 1056 2328 \r\nQ 1056 1369 1301 889 \r\nQ 1547 409 2034 409 \r\nQ 2525 409 2770 889 \r\nQ 3016 1369 3016 2328 \r\nQ 3016 3291 2770 3770 \r\nQ 2525 4250 2034 4250 \r\nz\r\nM 2034 4750 \r\nQ 2819 4750 3233 4129 \r\nQ 3647 3509 3647 2328 \r\nQ 3647 1150 3233 529 \r\nQ 2819 -91 2034 -91 \r\nQ 1250 -91 836 529 \r\nQ 422 1150 422 2328 \r\nQ 422 3509 836 4129 \r\nQ 1250 4750 2034 4750 \r\nz\r\n\" id=\"DejaVuSans-30\" transform=\"scale(0.015625)\"/>\r\n       </defs>\r\n       <use xlink:href=\"#DejaVuSans-30\"/>\r\n      </g>\r\n     </g>\r\n    </g>\r\n    <g id=\"xtick_2\">\r\n     <g id=\"line2d_3\">\r\n      <path clip-path=\"url(#pe7973c83bc)\" d=\"M 126.556534 224.64 \r\nL 126.556534 7.2 \r\n\" style=\"fill:none;stroke:#b0b0b0;stroke-linecap:square;stroke-width:0.8;\"/>\r\n     </g>\r\n     <g id=\"line2d_4\">\r\n      <g>\r\n       <use style=\"stroke:#000000;stroke-width:0.8;\" x=\"126.556534\" xlink:href=\"#m8d482d1274\" y=\"224.64\"/>\r\n      </g>\r\n     </g>\r\n     <g id=\"text_2\">\r\n      <!-- 100 -->\r\n      <g transform=\"translate(117.012784 239.238437)scale(0.1 -0.1)\">\r\n       <defs>\r\n        <path d=\"M 794 531 \r\nL 1825 531 \r\nL 1825 4091 \r\nL 703 3866 \r\nL 703 4441 \r\nL 1819 4666 \r\nL 2450 4666 \r\nL 2450 531 \r\nL 3481 531 \r\nL 3481 0 \r\nL 794 0 \r\nL 794 531 \r\nz\r\n\" id=\"DejaVuSans-31\" transform=\"scale(0.015625)\"/>\r\n       </defs>\r\n       <use xlink:href=\"#DejaVuSans-31\"/>\r\n       <use x=\"63.623047\" xlink:href=\"#DejaVuSans-30\"/>\r\n       <use x=\"127.246094\" xlink:href=\"#DejaVuSans-30\"/>\r\n      </g>\r\n     </g>\r\n    </g>\r\n    <g id=\"xtick_3\">\r\n     <g id=\"line2d_5\">\r\n      <path clip-path=\"url(#pe7973c83bc)\" d=\"M 187.429261 224.64 \r\nL 187.429261 7.2 \r\n\" style=\"fill:none;stroke:#b0b0b0;stroke-linecap:square;stroke-width:0.8;\"/>\r\n     </g>\r\n     <g id=\"line2d_6\">\r\n      <g>\r\n       <use style=\"stroke:#000000;stroke-width:0.8;\" x=\"187.429261\" xlink:href=\"#m8d482d1274\" y=\"224.64\"/>\r\n      </g>\r\n     </g>\r\n     <g id=\"text_3\">\r\n      <!-- 200 -->\r\n      <g transform=\"translate(177.885511 239.238437)scale(0.1 -0.1)\">\r\n       <defs>\r\n        <path d=\"M 1228 531 \r\nL 3431 531 \r\nL 3431 0 \r\nL 469 0 \r\nL 469 531 \r\nQ 828 903 1448 1529 \r\nQ 2069 2156 2228 2338 \r\nQ 2531 2678 2651 2914 \r\nQ 2772 3150 2772 3378 \r\nQ 2772 3750 2511 3984 \r\nQ 2250 4219 1831 4219 \r\nQ 1534 4219 1204 4116 \r\nQ 875 4013 500 3803 \r\nL 500 4441 \r\nQ 881 4594 1212 4672 \r\nQ 1544 4750 1819 4750 \r\nQ 2544 4750 2975 4387 \r\nQ 3406 4025 3406 3419 \r\nQ 3406 3131 3298 2873 \r\nQ 3191 2616 2906 2266 \r\nQ 2828 2175 2409 1742 \r\nQ 1991 1309 1228 531 \r\nz\r\n\" id=\"DejaVuSans-32\" transform=\"scale(0.015625)\"/>\r\n       </defs>\r\n       <use xlink:href=\"#DejaVuSans-32\"/>\r\n       <use x=\"63.623047\" xlink:href=\"#DejaVuSans-30\"/>\r\n       <use x=\"127.246094\" xlink:href=\"#DejaVuSans-30\"/>\r\n      </g>\r\n     </g>\r\n    </g>\r\n    <g id=\"xtick_4\">\r\n     <g id=\"line2d_7\">\r\n      <path clip-path=\"url(#pe7973c83bc)\" d=\"M 248.301989 224.64 \r\nL 248.301989 7.2 \r\n\" style=\"fill:none;stroke:#b0b0b0;stroke-linecap:square;stroke-width:0.8;\"/>\r\n     </g>\r\n     <g id=\"line2d_8\">\r\n      <g>\r\n       <use style=\"stroke:#000000;stroke-width:0.8;\" x=\"248.301989\" xlink:href=\"#m8d482d1274\" y=\"224.64\"/>\r\n      </g>\r\n     </g>\r\n     <g id=\"text_4\">\r\n      <!-- 300 -->\r\n      <g transform=\"translate(238.758239 239.238437)scale(0.1 -0.1)\">\r\n       <defs>\r\n        <path d=\"M 2597 2516 \r\nQ 3050 2419 3304 2112 \r\nQ 3559 1806 3559 1356 \r\nQ 3559 666 3084 287 \r\nQ 2609 -91 1734 -91 \r\nQ 1441 -91 1130 -33 \r\nQ 819 25 488 141 \r\nL 488 750 \r\nQ 750 597 1062 519 \r\nQ 1375 441 1716 441 \r\nQ 2309 441 2620 675 \r\nQ 2931 909 2931 1356 \r\nQ 2931 1769 2642 2001 \r\nQ 2353 2234 1838 2234 \r\nL 1294 2234 \r\nL 1294 2753 \r\nL 1863 2753 \r\nQ 2328 2753 2575 2939 \r\nQ 2822 3125 2822 3475 \r\nQ 2822 3834 2567 4026 \r\nQ 2313 4219 1838 4219 \r\nQ 1578 4219 1281 4162 \r\nQ 984 4106 628 3988 \r\nL 628 4550 \r\nQ 988 4650 1302 4700 \r\nQ 1616 4750 1894 4750 \r\nQ 2613 4750 3031 4423 \r\nQ 3450 4097 3450 3541 \r\nQ 3450 3153 3228 2886 \r\nQ 3006 2619 2597 2516 \r\nz\r\n\" id=\"DejaVuSans-33\" transform=\"scale(0.015625)\"/>\r\n       </defs>\r\n       <use xlink:href=\"#DejaVuSans-33\"/>\r\n       <use x=\"63.623047\" xlink:href=\"#DejaVuSans-30\"/>\r\n       <use x=\"127.246094\" xlink:href=\"#DejaVuSans-30\"/>\r\n      </g>\r\n     </g>\r\n    </g>\r\n    <g id=\"xtick_5\">\r\n     <g id=\"line2d_9\">\r\n      <path clip-path=\"url(#pe7973c83bc)\" d=\"M 309.174716 224.64 \r\nL 309.174716 7.2 \r\n\" style=\"fill:none;stroke:#b0b0b0;stroke-linecap:square;stroke-width:0.8;\"/>\r\n     </g>\r\n     <g id=\"line2d_10\">\r\n      <g>\r\n       <use style=\"stroke:#000000;stroke-width:0.8;\" x=\"309.174716\" xlink:href=\"#m8d482d1274\" y=\"224.64\"/>\r\n      </g>\r\n     </g>\r\n     <g id=\"text_5\">\r\n      <!-- 400 -->\r\n      <g transform=\"translate(299.630966 239.238437)scale(0.1 -0.1)\">\r\n       <defs>\r\n        <path d=\"M 2419 4116 \r\nL 825 1625 \r\nL 2419 1625 \r\nL 2419 4116 \r\nz\r\nM 2253 4666 \r\nL 3047 4666 \r\nL 3047 1625 \r\nL 3713 1625 \r\nL 3713 1100 \r\nL 3047 1100 \r\nL 3047 0 \r\nL 2419 0 \r\nL 2419 1100 \r\nL 313 1100 \r\nL 313 1709 \r\nL 2253 4666 \r\nz\r\n\" id=\"DejaVuSans-34\" transform=\"scale(0.015625)\"/>\r\n       </defs>\r\n       <use xlink:href=\"#DejaVuSans-34\"/>\r\n       <use x=\"63.623047\" xlink:href=\"#DejaVuSans-30\"/>\r\n       <use x=\"127.246094\" xlink:href=\"#DejaVuSans-30\"/>\r\n      </g>\r\n     </g>\r\n    </g>\r\n    <g id=\"xtick_6\">\r\n     <g id=\"line2d_11\">\r\n      <path clip-path=\"url(#pe7973c83bc)\" d=\"M 370.047443 224.64 \r\nL 370.047443 7.2 \r\n\" style=\"fill:none;stroke:#b0b0b0;stroke-linecap:square;stroke-width:0.8;\"/>\r\n     </g>\r\n     <g id=\"line2d_12\">\r\n      <g>\r\n       <use style=\"stroke:#000000;stroke-width:0.8;\" x=\"370.047443\" xlink:href=\"#m8d482d1274\" y=\"224.64\"/>\r\n      </g>\r\n     </g>\r\n     <g id=\"text_6\">\r\n      <!-- 500 -->\r\n      <g transform=\"translate(360.503693 239.238437)scale(0.1 -0.1)\">\r\n       <defs>\r\n        <path d=\"M 691 4666 \r\nL 3169 4666 \r\nL 3169 4134 \r\nL 1269 4134 \r\nL 1269 2991 \r\nQ 1406 3038 1543 3061 \r\nQ 1681 3084 1819 3084 \r\nQ 2600 3084 3056 2656 \r\nQ 3513 2228 3513 1497 \r\nQ 3513 744 3044 326 \r\nQ 2575 -91 1722 -91 \r\nQ 1428 -91 1123 -41 \r\nQ 819 9 494 109 \r\nL 494 744 \r\nQ 775 591 1075 516 \r\nQ 1375 441 1709 441 \r\nQ 2250 441 2565 725 \r\nQ 2881 1009 2881 1497 \r\nQ 2881 1984 2565 2268 \r\nQ 2250 2553 1709 2553 \r\nQ 1456 2553 1204 2497 \r\nQ 953 2441 691 2322 \r\nL 691 4666 \r\nz\r\n\" id=\"DejaVuSans-35\" transform=\"scale(0.015625)\"/>\r\n       </defs>\r\n       <use xlink:href=\"#DejaVuSans-35\"/>\r\n       <use x=\"63.623047\" xlink:href=\"#DejaVuSans-30\"/>\r\n       <use x=\"127.246094\" xlink:href=\"#DejaVuSans-30\"/>\r\n      </g>\r\n     </g>\r\n    </g>\r\n    <g id=\"text_7\">\r\n     <!-- Frequency [Hz] -->\r\n     <g transform=\"translate(180.160938 252.916562)scale(0.1 -0.1)\">\r\n      <defs>\r\n       <path d=\"M 628 4666 \r\nL 3309 4666 \r\nL 3309 4134 \r\nL 1259 4134 \r\nL 1259 2759 \r\nL 3109 2759 \r\nL 3109 2228 \r\nL 1259 2228 \r\nL 1259 0 \r\nL 628 0 \r\nL 628 4666 \r\nz\r\n\" id=\"DejaVuSans-46\" transform=\"scale(0.015625)\"/>\r\n       <path d=\"M 2631 2963 \r\nQ 2534 3019 2420 3045 \r\nQ 2306 3072 2169 3072 \r\nQ 1681 3072 1420 2755 \r\nQ 1159 2438 1159 1844 \r\nL 1159 0 \r\nL 581 0 \r\nL 581 3500 \r\nL 1159 3500 \r\nL 1159 2956 \r\nQ 1341 3275 1631 3429 \r\nQ 1922 3584 2338 3584 \r\nQ 2397 3584 2469 3576 \r\nQ 2541 3569 2628 3553 \r\nL 2631 2963 \r\nz\r\n\" id=\"DejaVuSans-72\" transform=\"scale(0.015625)\"/>\r\n       <path d=\"M 3597 1894 \r\nL 3597 1613 \r\nL 953 1613 \r\nQ 991 1019 1311 708 \r\nQ 1631 397 2203 397 \r\nQ 2534 397 2845 478 \r\nQ 3156 559 3463 722 \r\nL 3463 178 \r\nQ 3153 47 2828 -22 \r\nQ 2503 -91 2169 -91 \r\nQ 1331 -91 842 396 \r\nQ 353 884 353 1716 \r\nQ 353 2575 817 3079 \r\nQ 1281 3584 2069 3584 \r\nQ 2775 3584 3186 3129 \r\nQ 3597 2675 3597 1894 \r\nz\r\nM 3022 2063 \r\nQ 3016 2534 2758 2815 \r\nQ 2500 3097 2075 3097 \r\nQ 1594 3097 1305 2825 \r\nQ 1016 2553 972 2059 \r\nL 3022 2063 \r\nz\r\n\" id=\"DejaVuSans-65\" transform=\"scale(0.015625)\"/>\r\n       <path d=\"M 947 1747 \r\nQ 947 1113 1208 752 \r\nQ 1469 391 1925 391 \r\nQ 2381 391 2643 752 \r\nQ 2906 1113 2906 1747 \r\nQ 2906 2381 2643 2742 \r\nQ 2381 3103 1925 3103 \r\nQ 1469 3103 1208 2742 \r\nQ 947 2381 947 1747 \r\nz\r\nM 2906 525 \r\nQ 2725 213 2448 61 \r\nQ 2172 -91 1784 -91 \r\nQ 1150 -91 751 415 \r\nQ 353 922 353 1747 \r\nQ 353 2572 751 3078 \r\nQ 1150 3584 1784 3584 \r\nQ 2172 3584 2448 3432 \r\nQ 2725 3281 2906 2969 \r\nL 2906 3500 \r\nL 3481 3500 \r\nL 3481 -1331 \r\nL 2906 -1331 \r\nL 2906 525 \r\nz\r\n\" id=\"DejaVuSans-71\" transform=\"scale(0.015625)\"/>\r\n       <path d=\"M 544 1381 \r\nL 544 3500 \r\nL 1119 3500 \r\nL 1119 1403 \r\nQ 1119 906 1312 657 \r\nQ 1506 409 1894 409 \r\nQ 2359 409 2629 706 \r\nQ 2900 1003 2900 1516 \r\nL 2900 3500 \r\nL 3475 3500 \r\nL 3475 0 \r\nL 2900 0 \r\nL 2900 538 \r\nQ 2691 219 2414 64 \r\nQ 2138 -91 1772 -91 \r\nQ 1169 -91 856 284 \r\nQ 544 659 544 1381 \r\nz\r\nM 1991 3584 \r\nL 1991 3584 \r\nz\r\n\" id=\"DejaVuSans-75\" transform=\"scale(0.015625)\"/>\r\n       <path d=\"M 3513 2113 \r\nL 3513 0 \r\nL 2938 0 \r\nL 2938 2094 \r\nQ 2938 2591 2744 2837 \r\nQ 2550 3084 2163 3084 \r\nQ 1697 3084 1428 2787 \r\nQ 1159 2491 1159 1978 \r\nL 1159 0 \r\nL 581 0 \r\nL 581 3500 \r\nL 1159 3500 \r\nL 1159 2956 \r\nQ 1366 3272 1645 3428 \r\nQ 1925 3584 2291 3584 \r\nQ 2894 3584 3203 3211 \r\nQ 3513 2838 3513 2113 \r\nz\r\n\" id=\"DejaVuSans-6e\" transform=\"scale(0.015625)\"/>\r\n       <path d=\"M 3122 3366 \r\nL 3122 2828 \r\nQ 2878 2963 2633 3030 \r\nQ 2388 3097 2138 3097 \r\nQ 1578 3097 1268 2742 \r\nQ 959 2388 959 1747 \r\nQ 959 1106 1268 751 \r\nQ 1578 397 2138 397 \r\nQ 2388 397 2633 464 \r\nQ 2878 531 3122 666 \r\nL 3122 134 \r\nQ 2881 22 2623 -34 \r\nQ 2366 -91 2075 -91 \r\nQ 1284 -91 818 406 \r\nQ 353 903 353 1747 \r\nQ 353 2603 823 3093 \r\nQ 1294 3584 2113 3584 \r\nQ 2378 3584 2631 3529 \r\nQ 2884 3475 3122 3366 \r\nz\r\n\" id=\"DejaVuSans-63\" transform=\"scale(0.015625)\"/>\r\n       <path d=\"M 2059 -325 \r\nQ 1816 -950 1584 -1140 \r\nQ 1353 -1331 966 -1331 \r\nL 506 -1331 \r\nL 506 -850 \r\nL 844 -850 \r\nQ 1081 -850 1212 -737 \r\nQ 1344 -625 1503 -206 \r\nL 1606 56 \r\nL 191 3500 \r\nL 800 3500 \r\nL 1894 763 \r\nL 2988 3500 \r\nL 3597 3500 \r\nL 2059 -325 \r\nz\r\n\" id=\"DejaVuSans-79\" transform=\"scale(0.015625)\"/>\r\n       <path id=\"DejaVuSans-20\" transform=\"scale(0.015625)\"/>\r\n       <path d=\"M 550 4863 \r\nL 1875 4863 \r\nL 1875 4416 \r\nL 1125 4416 \r\nL 1125 -397 \r\nL 1875 -397 \r\nL 1875 -844 \r\nL 550 -844 \r\nL 550 4863 \r\nz\r\n\" id=\"DejaVuSans-5b\" transform=\"scale(0.015625)\"/>\r\n       <path d=\"M 628 4666 \r\nL 1259 4666 \r\nL 1259 2753 \r\nL 3553 2753 \r\nL 3553 4666 \r\nL 4184 4666 \r\nL 4184 0 \r\nL 3553 0 \r\nL 3553 2222 \r\nL 1259 2222 \r\nL 1259 0 \r\nL 628 0 \r\nL 628 4666 \r\nz\r\n\" id=\"DejaVuSans-48\" transform=\"scale(0.015625)\"/>\r\n       <path d=\"M 353 3500 \r\nL 3084 3500 \r\nL 3084 2975 \r\nL 922 459 \r\nL 3084 459 \r\nL 3084 0 \r\nL 275 0 \r\nL 275 525 \r\nL 2438 3041 \r\nL 353 3041 \r\nL 353 3500 \r\nz\r\n\" id=\"DejaVuSans-7a\" transform=\"scale(0.015625)\"/>\r\n       <path d=\"M 1947 4863 \r\nL 1947 -844 \r\nL 622 -844 \r\nL 622 -397 \r\nL 1369 -397 \r\nL 1369 4416 \r\nL 622 4416 \r\nL 622 4863 \r\nL 1947 4863 \r\nz\r\n\" id=\"DejaVuSans-5d\" transform=\"scale(0.015625)\"/>\r\n      </defs>\r\n      <use xlink:href=\"#DejaVuSans-46\"/>\r\n      <use x=\"50.269531\" xlink:href=\"#DejaVuSans-72\"/>\r\n      <use x=\"89.132812\" xlink:href=\"#DejaVuSans-65\"/>\r\n      <use x=\"150.65625\" xlink:href=\"#DejaVuSans-71\"/>\r\n      <use x=\"214.132812\" xlink:href=\"#DejaVuSans-75\"/>\r\n      <use x=\"277.511719\" xlink:href=\"#DejaVuSans-65\"/>\r\n      <use x=\"339.035156\" xlink:href=\"#DejaVuSans-6e\"/>\r\n      <use x=\"402.414062\" xlink:href=\"#DejaVuSans-63\"/>\r\n      <use x=\"457.394531\" xlink:href=\"#DejaVuSans-79\"/>\r\n      <use x=\"516.574219\" xlink:href=\"#DejaVuSans-20\"/>\r\n      <use x=\"548.361328\" xlink:href=\"#DejaVuSans-5b\"/>\r\n      <use x=\"587.375\" xlink:href=\"#DejaVuSans-48\"/>\r\n      <use x=\"662.570312\" xlink:href=\"#DejaVuSans-7a\"/>\r\n      <use x=\"715.060547\" xlink:href=\"#DejaVuSans-5d\"/>\r\n     </g>\r\n    </g>\r\n   </g>\r\n   <g id=\"matplotlib.axis_2\">\r\n    <g id=\"ytick_1\">\r\n     <g id=\"line2d_13\">\r\n      <path clip-path=\"url(#pe7973c83bc)\" d=\"M 50.465625 214.756949 \r\nL 385.265625 214.756949 \r\n\" style=\"fill:none;stroke:#b0b0b0;stroke-linecap:square;stroke-width:0.8;\"/>\r\n     </g>\r\n     <g id=\"line2d_14\">\r\n      <defs>\r\n       <path d=\"M 0 0 \r\nL -3.5 0 \r\n\" id=\"mdb7a4b23d8\" style=\"stroke:#000000;stroke-width:0.8;\"/>\r\n      </defs>\r\n      <g>\r\n       <use style=\"stroke:#000000;stroke-width:0.8;\" x=\"50.465625\" xlink:href=\"#mdb7a4b23d8\" y=\"214.756949\"/>\r\n      </g>\r\n     </g>\r\n     <g id=\"text_8\">\r\n      <!-- 0.00 -->\r\n      <g transform=\"translate(21.2 218.556168)scale(0.1 -0.1)\">\r\n       <defs>\r\n        <path d=\"M 684 794 \r\nL 1344 794 \r\nL 1344 0 \r\nL 684 0 \r\nL 684 794 \r\nz\r\n\" id=\"DejaVuSans-2e\" transform=\"scale(0.015625)\"/>\r\n       </defs>\r\n       <use xlink:href=\"#DejaVuSans-30\"/>\r\n       <use x=\"63.623047\" xlink:href=\"#DejaVuSans-2e\"/>\r\n       <use x=\"95.410156\" xlink:href=\"#DejaVuSans-30\"/>\r\n       <use x=\"159.033203\" xlink:href=\"#DejaVuSans-30\"/>\r\n      </g>\r\n     </g>\r\n    </g>\r\n    <g id=\"ytick_2\">\r\n     <g id=\"line2d_15\">\r\n      <path clip-path=\"url(#pe7973c83bc)\" d=\"M 50.465625 189.492309 \r\nL 385.265625 189.492309 \r\n\" style=\"fill:none;stroke:#b0b0b0;stroke-linecap:square;stroke-width:0.8;\"/>\r\n     </g>\r\n     <g id=\"line2d_16\">\r\n      <g>\r\n       <use style=\"stroke:#000000;stroke-width:0.8;\" x=\"50.465625\" xlink:href=\"#mdb7a4b23d8\" y=\"189.492309\"/>\r\n      </g>\r\n     </g>\r\n     <g id=\"text_9\">\r\n      <!-- 0.02 -->\r\n      <g transform=\"translate(21.2 193.291527)scale(0.1 -0.1)\">\r\n       <use xlink:href=\"#DejaVuSans-30\"/>\r\n       <use x=\"63.623047\" xlink:href=\"#DejaVuSans-2e\"/>\r\n       <use x=\"95.410156\" xlink:href=\"#DejaVuSans-30\"/>\r\n       <use x=\"159.033203\" xlink:href=\"#DejaVuSans-32\"/>\r\n      </g>\r\n     </g>\r\n    </g>\r\n    <g id=\"ytick_3\">\r\n     <g id=\"line2d_17\">\r\n      <path clip-path=\"url(#pe7973c83bc)\" d=\"M 50.465625 164.227668 \r\nL 385.265625 164.227668 \r\n\" style=\"fill:none;stroke:#b0b0b0;stroke-linecap:square;stroke-width:0.8;\"/>\r\n     </g>\r\n     <g id=\"line2d_18\">\r\n      <g>\r\n       <use style=\"stroke:#000000;stroke-width:0.8;\" x=\"50.465625\" xlink:href=\"#mdb7a4b23d8\" y=\"164.227668\"/>\r\n      </g>\r\n     </g>\r\n     <g id=\"text_10\">\r\n      <!-- 0.04 -->\r\n      <g transform=\"translate(21.2 168.026887)scale(0.1 -0.1)\">\r\n       <use xlink:href=\"#DejaVuSans-30\"/>\r\n       <use x=\"63.623047\" xlink:href=\"#DejaVuSans-2e\"/>\r\n       <use x=\"95.410156\" xlink:href=\"#DejaVuSans-30\"/>\r\n       <use x=\"159.033203\" xlink:href=\"#DejaVuSans-34\"/>\r\n      </g>\r\n     </g>\r\n    </g>\r\n    <g id=\"ytick_4\">\r\n     <g id=\"line2d_19\">\r\n      <path clip-path=\"url(#pe7973c83bc)\" d=\"M 50.465625 138.963028 \r\nL 385.265625 138.963028 \r\n\" style=\"fill:none;stroke:#b0b0b0;stroke-linecap:square;stroke-width:0.8;\"/>\r\n     </g>\r\n     <g id=\"line2d_20\">\r\n      <g>\r\n       <use style=\"stroke:#000000;stroke-width:0.8;\" x=\"50.465625\" xlink:href=\"#mdb7a4b23d8\" y=\"138.963028\"/>\r\n      </g>\r\n     </g>\r\n     <g id=\"text_11\">\r\n      <!-- 0.06 -->\r\n      <g transform=\"translate(21.2 142.762247)scale(0.1 -0.1)\">\r\n       <defs>\r\n        <path d=\"M 2113 2584 \r\nQ 1688 2584 1439 2293 \r\nQ 1191 2003 1191 1497 \r\nQ 1191 994 1439 701 \r\nQ 1688 409 2113 409 \r\nQ 2538 409 2786 701 \r\nQ 3034 994 3034 1497 \r\nQ 3034 2003 2786 2293 \r\nQ 2538 2584 2113 2584 \r\nz\r\nM 3366 4563 \r\nL 3366 3988 \r\nQ 3128 4100 2886 4159 \r\nQ 2644 4219 2406 4219 \r\nQ 1781 4219 1451 3797 \r\nQ 1122 3375 1075 2522 \r\nQ 1259 2794 1537 2939 \r\nQ 1816 3084 2150 3084 \r\nQ 2853 3084 3261 2657 \r\nQ 3669 2231 3669 1497 \r\nQ 3669 778 3244 343 \r\nQ 2819 -91 2113 -91 \r\nQ 1303 -91 875 529 \r\nQ 447 1150 447 2328 \r\nQ 447 3434 972 4092 \r\nQ 1497 4750 2381 4750 \r\nQ 2619 4750 2861 4703 \r\nQ 3103 4656 3366 4563 \r\nz\r\n\" id=\"DejaVuSans-36\" transform=\"scale(0.015625)\"/>\r\n       </defs>\r\n       <use xlink:href=\"#DejaVuSans-30\"/>\r\n       <use x=\"63.623047\" xlink:href=\"#DejaVuSans-2e\"/>\r\n       <use x=\"95.410156\" xlink:href=\"#DejaVuSans-30\"/>\r\n       <use x=\"159.033203\" xlink:href=\"#DejaVuSans-36\"/>\r\n      </g>\r\n     </g>\r\n    </g>\r\n    <g id=\"ytick_5\">\r\n     <g id=\"line2d_21\">\r\n      <path clip-path=\"url(#pe7973c83bc)\" d=\"M 50.465625 113.698388 \r\nL 385.265625 113.698388 \r\n\" style=\"fill:none;stroke:#b0b0b0;stroke-linecap:square;stroke-width:0.8;\"/>\r\n     </g>\r\n     <g id=\"line2d_22\">\r\n      <g>\r\n       <use style=\"stroke:#000000;stroke-width:0.8;\" x=\"50.465625\" xlink:href=\"#mdb7a4b23d8\" y=\"113.698388\"/>\r\n      </g>\r\n     </g>\r\n     <g id=\"text_12\">\r\n      <!-- 0.08 -->\r\n      <g transform=\"translate(21.2 117.497607)scale(0.1 -0.1)\">\r\n       <defs>\r\n        <path d=\"M 2034 2216 \r\nQ 1584 2216 1326 1975 \r\nQ 1069 1734 1069 1313 \r\nQ 1069 891 1326 650 \r\nQ 1584 409 2034 409 \r\nQ 2484 409 2743 651 \r\nQ 3003 894 3003 1313 \r\nQ 3003 1734 2745 1975 \r\nQ 2488 2216 2034 2216 \r\nz\r\nM 1403 2484 \r\nQ 997 2584 770 2862 \r\nQ 544 3141 544 3541 \r\nQ 544 4100 942 4425 \r\nQ 1341 4750 2034 4750 \r\nQ 2731 4750 3128 4425 \r\nQ 3525 4100 3525 3541 \r\nQ 3525 3141 3298 2862 \r\nQ 3072 2584 2669 2484 \r\nQ 3125 2378 3379 2068 \r\nQ 3634 1759 3634 1313 \r\nQ 3634 634 3220 271 \r\nQ 2806 -91 2034 -91 \r\nQ 1263 -91 848 271 \r\nQ 434 634 434 1313 \r\nQ 434 1759 690 2068 \r\nQ 947 2378 1403 2484 \r\nz\r\nM 1172 3481 \r\nQ 1172 3119 1398 2916 \r\nQ 1625 2713 2034 2713 \r\nQ 2441 2713 2670 2916 \r\nQ 2900 3119 2900 3481 \r\nQ 2900 3844 2670 4047 \r\nQ 2441 4250 2034 4250 \r\nQ 1625 4250 1398 4047 \r\nQ 1172 3844 1172 3481 \r\nz\r\n\" id=\"DejaVuSans-38\" transform=\"scale(0.015625)\"/>\r\n       </defs>\r\n       <use xlink:href=\"#DejaVuSans-30\"/>\r\n       <use x=\"63.623047\" xlink:href=\"#DejaVuSans-2e\"/>\r\n       <use x=\"95.410156\" xlink:href=\"#DejaVuSans-30\"/>\r\n       <use x=\"159.033203\" xlink:href=\"#DejaVuSans-38\"/>\r\n      </g>\r\n     </g>\r\n    </g>\r\n    <g id=\"ytick_6\">\r\n     <g id=\"line2d_23\">\r\n      <path clip-path=\"url(#pe7973c83bc)\" d=\"M 50.465625 88.433748 \r\nL 385.265625 88.433748 \r\n\" style=\"fill:none;stroke:#b0b0b0;stroke-linecap:square;stroke-width:0.8;\"/>\r\n     </g>\r\n     <g id=\"line2d_24\">\r\n      <g>\r\n       <use style=\"stroke:#000000;stroke-width:0.8;\" x=\"50.465625\" xlink:href=\"#mdb7a4b23d8\" y=\"88.433748\"/>\r\n      </g>\r\n     </g>\r\n     <g id=\"text_13\">\r\n      <!-- 0.10 -->\r\n      <g transform=\"translate(21.2 92.232967)scale(0.1 -0.1)\">\r\n       <use xlink:href=\"#DejaVuSans-30\"/>\r\n       <use x=\"63.623047\" xlink:href=\"#DejaVuSans-2e\"/>\r\n       <use x=\"95.410156\" xlink:href=\"#DejaVuSans-31\"/>\r\n       <use x=\"159.033203\" xlink:href=\"#DejaVuSans-30\"/>\r\n      </g>\r\n     </g>\r\n    </g>\r\n    <g id=\"ytick_7\">\r\n     <g id=\"line2d_25\">\r\n      <path clip-path=\"url(#pe7973c83bc)\" d=\"M 50.465625 63.169108 \r\nL 385.265625 63.169108 \r\n\" style=\"fill:none;stroke:#b0b0b0;stroke-linecap:square;stroke-width:0.8;\"/>\r\n     </g>\r\n     <g id=\"line2d_26\">\r\n      <g>\r\n       <use style=\"stroke:#000000;stroke-width:0.8;\" x=\"50.465625\" xlink:href=\"#mdb7a4b23d8\" y=\"63.169108\"/>\r\n      </g>\r\n     </g>\r\n     <g id=\"text_14\">\r\n      <!-- 0.12 -->\r\n      <g transform=\"translate(21.2 66.968327)scale(0.1 -0.1)\">\r\n       <use xlink:href=\"#DejaVuSans-30\"/>\r\n       <use x=\"63.623047\" xlink:href=\"#DejaVuSans-2e\"/>\r\n       <use x=\"95.410156\" xlink:href=\"#DejaVuSans-31\"/>\r\n       <use x=\"159.033203\" xlink:href=\"#DejaVuSans-32\"/>\r\n      </g>\r\n     </g>\r\n    </g>\r\n    <g id=\"ytick_8\">\r\n     <g id=\"line2d_27\">\r\n      <path clip-path=\"url(#pe7973c83bc)\" d=\"M 50.465625 37.904468 \r\nL 385.265625 37.904468 \r\n\" style=\"fill:none;stroke:#b0b0b0;stroke-linecap:square;stroke-width:0.8;\"/>\r\n     </g>\r\n     <g id=\"line2d_28\">\r\n      <g>\r\n       <use style=\"stroke:#000000;stroke-width:0.8;\" x=\"50.465625\" xlink:href=\"#mdb7a4b23d8\" y=\"37.904468\"/>\r\n      </g>\r\n     </g>\r\n     <g id=\"text_15\">\r\n      <!-- 0.14 -->\r\n      <g transform=\"translate(21.2 41.703686)scale(0.1 -0.1)\">\r\n       <use xlink:href=\"#DejaVuSans-30\"/>\r\n       <use x=\"63.623047\" xlink:href=\"#DejaVuSans-2e\"/>\r\n       <use x=\"95.410156\" xlink:href=\"#DejaVuSans-31\"/>\r\n       <use x=\"159.033203\" xlink:href=\"#DejaVuSans-34\"/>\r\n      </g>\r\n     </g>\r\n    </g>\r\n    <g id=\"ytick_9\">\r\n     <g id=\"line2d_29\">\r\n      <path clip-path=\"url(#pe7973c83bc)\" d=\"M 50.465625 12.639828 \r\nL 385.265625 12.639828 \r\n\" style=\"fill:none;stroke:#b0b0b0;stroke-linecap:square;stroke-width:0.8;\"/>\r\n     </g>\r\n     <g id=\"line2d_30\">\r\n      <g>\r\n       <use style=\"stroke:#000000;stroke-width:0.8;\" x=\"50.465625\" xlink:href=\"#mdb7a4b23d8\" y=\"12.639828\"/>\r\n      </g>\r\n     </g>\r\n     <g id=\"text_16\">\r\n      <!-- 0.16 -->\r\n      <g transform=\"translate(21.2 16.439046)scale(0.1 -0.1)\">\r\n       <use xlink:href=\"#DejaVuSans-30\"/>\r\n       <use x=\"63.623047\" xlink:href=\"#DejaVuSans-2e\"/>\r\n       <use x=\"95.410156\" xlink:href=\"#DejaVuSans-31\"/>\r\n       <use x=\"159.033203\" xlink:href=\"#DejaVuSans-36\"/>\r\n      </g>\r\n     </g>\r\n    </g>\r\n    <g id=\"text_17\">\r\n     <!-- |FFT(f)| -->\r\n     <g transform=\"translate(14.842188 133.668437)rotate(-90)scale(0.1 -0.1)\">\r\n      <defs>\r\n       <path d=\"M 1344 4891 \r\nL 1344 -1509 \r\nL 813 -1509 \r\nL 813 4891 \r\nL 1344 4891 \r\nz\r\n\" id=\"DejaVuSans-7c\" transform=\"scale(0.015625)\"/>\r\n       <path d=\"M -19 4666 \r\nL 3928 4666 \r\nL 3928 4134 \r\nL 2272 4134 \r\nL 2272 0 \r\nL 1638 0 \r\nL 1638 4134 \r\nL -19 4134 \r\nL -19 4666 \r\nz\r\n\" id=\"DejaVuSans-54\" transform=\"scale(0.015625)\"/>\r\n       <path d=\"M 1984 4856 \r\nQ 1566 4138 1362 3434 \r\nQ 1159 2731 1159 2009 \r\nQ 1159 1288 1364 580 \r\nQ 1569 -128 1984 -844 \r\nL 1484 -844 \r\nQ 1016 -109 783 600 \r\nQ 550 1309 550 2009 \r\nQ 550 2706 781 3412 \r\nQ 1013 4119 1484 4856 \r\nL 1984 4856 \r\nz\r\n\" id=\"DejaVuSans-28\" transform=\"scale(0.015625)\"/>\r\n       <path d=\"M 2375 4863 \r\nL 2375 4384 \r\nL 1825 4384 \r\nQ 1516 4384 1395 4259 \r\nQ 1275 4134 1275 3809 \r\nL 1275 3500 \r\nL 2222 3500 \r\nL 2222 3053 \r\nL 1275 3053 \r\nL 1275 0 \r\nL 697 0 \r\nL 697 3053 \r\nL 147 3053 \r\nL 147 3500 \r\nL 697 3500 \r\nL 697 3744 \r\nQ 697 4328 969 4595 \r\nQ 1241 4863 1831 4863 \r\nL 2375 4863 \r\nz\r\n\" id=\"DejaVuSans-66\" transform=\"scale(0.015625)\"/>\r\n       <path d=\"M 513 4856 \r\nL 1013 4856 \r\nQ 1481 4119 1714 3412 \r\nQ 1947 2706 1947 2009 \r\nQ 1947 1309 1714 600 \r\nQ 1481 -109 1013 -844 \r\nL 513 -844 \r\nQ 928 -128 1133 580 \r\nQ 1338 1288 1338 2009 \r\nQ 1338 2731 1133 3434 \r\nQ 928 4138 513 4856 \r\nz\r\n\" id=\"DejaVuSans-29\" transform=\"scale(0.015625)\"/>\r\n      </defs>\r\n      <use xlink:href=\"#DejaVuSans-7c\"/>\r\n      <use x=\"33.691406\" xlink:href=\"#DejaVuSans-46\"/>\r\n      <use x=\"91.210938\" xlink:href=\"#DejaVuSans-46\"/>\r\n      <use x=\"146.980469\" xlink:href=\"#DejaVuSans-54\"/>\r\n      <use x=\"208.064453\" xlink:href=\"#DejaVuSans-28\"/>\r\n      <use x=\"247.078125\" xlink:href=\"#DejaVuSans-66\"/>\r\n      <use x=\"282.283203\" xlink:href=\"#DejaVuSans-29\"/>\r\n      <use x=\"321.296875\" xlink:href=\"#DejaVuSans-7c\"/>\r\n     </g>\r\n    </g>\r\n   </g>\r\n   <g id=\"line2d_31\">\r\n    <path clip-path=\"url(#pe7973c83bc)\" d=\"M 65.683807 17.083636 \r\nL 66.293754 206.645904 \r\nL 66.903701 211.405385 \r\nL 67.513648 212.804727 \r\nL 68.123595 213.527342 \r\nL 68.733543 213.608778 \r\nL 69.953437 214.115783 \r\nL 71.173331 214.094848 \r\nL 71.783278 214.258857 \r\nL 72.393226 214.201186 \r\nL 73.003173 214.396956 \r\nL 73.61312 214.247175 \r\nL 75.442961 214.298249 \r\nL 76.052909 214.525624 \r\nL 76.662856 214.356152 \r\nL 77.272803 214.446623 \r\nL 77.88275 214.315631 \r\nL 79.102644 214.251753 \r\nL 80.932486 213.960291 \r\nL 81.542433 214.160261 \r\nL 82.762327 213.169334 \r\nL 83.372275 210.462029 \r\nL 83.982222 157.609937 \r\nL 84.592169 210.180014 \r\nL 85.202116 212.41501 \r\nL 85.812063 213.034908 \r\nL 86.42201 212.964281 \r\nL 87.031958 212.772014 \r\nL 87.641905 204.406677 \r\nL 88.251852 212.963885 \r\nL 88.861799 213.990062 \r\nL 89.471746 214.199681 \r\nL 90.081694 214.096686 \r\nL 90.691641 214.415251 \r\nL 91.911535 214.212992 \r\nL 93.741377 214.289127 \r\nL 94.351324 213.415744 \r\nL 94.961271 214.61576 \r\nL 95.571218 214.47397 \r\nL 96.181165 214.589999 \r\nL 96.791112 214.560822 \r\nL 97.40106 214.649427 \r\nL 98.011007 214.478148 \r\nL 98.620954 214.455415 \r\nL 99.230901 214.576312 \r\nL 99.840848 214.578962 \r\nL 100.450795 214.454948 \r\nL 101.060743 214.599572 \r\nL 101.67069 214.511384 \r\nL 102.280637 214.607375 \r\nL 103.500531 214.59283 \r\nL 111.429844 214.660162 \r\nL 112.039792 214.532111 \r\nL 113.259686 214.595553 \r\nL 114.47958 214.611344 \r\nL 123.628788 214.709468 \r\nL 124.238735 214.582499 \r\nL 124.848682 214.735885 \r\nL 126.068576 214.587363 \r\nL 140.097361 214.698395 \r\nL 141.927203 214.569448 \r\nL 143.147097 214.671557 \r\nL 147.416727 214.705871 \r\nL 151.686357 214.655666 \r\nL 152.296305 214.727816 \r\nL 153.516199 214.625356 \r\nL 154.736093 214.715833 \r\nL 166.325089 214.652912 \r\nL 167.544984 214.687204 \r\nL 174.254403 214.734448 \r\nL 174.86435 214.649751 \r\nL 176.084244 214.70333 \r\nL 179.13398 214.669966 \r\nL 179.743927 214.631875 \r\nL 180.353874 214.737519 \r\nL 181.573769 214.689167 \r\nL 182.183716 214.748576 \r\nL 183.40361 214.67346 \r\nL 185.233452 214.701209 \r\nL 187.67324 214.740086 \r\nL 188.283187 214.643199 \r\nL 189.503082 214.705154 \r\nL 191.94287 214.724017 \r\nL 192.552818 214.607754 \r\nL 193.162765 214.730402 \r\nL 194.382659 214.687968 \r\nL 196.212501 214.672938 \r\nL 197.432395 214.701589 \r\nL 207.801497 214.701063 \r\nL 209.631338 214.643665 \r\nL 210.241285 214.743644 \r\nL 212.071127 214.702687 \r\nL 216.950704 214.732466 \r\nL 219.390493 214.679133 \r\nL 221.830282 214.750463 \r\nL 223.050176 214.65999 \r\nL 223.660123 214.754414 \r\nL 228.5397 214.624137 \r\nL 229.149648 214.725791 \r\nL 229.759595 214.671026 \r\nL 230.979489 214.700793 \r\nL 237.688908 214.723197 \r\nL 239.518749 214.739436 \r\nL 242.568485 214.685094 \r\nL 245.008274 214.72083 \r\nL 249.887851 214.675502 \r\nL 251.717693 214.734043 \r\nL 252.937587 214.71354 \r\nL 256.59727 214.723717 \r\nL 258.427112 214.711196 \r\nL 264.526583 214.71505 \r\nL 265.13653 214.656304 \r\nL 266.356425 214.706624 \r\nL 268.186266 214.658709 \r\nL 269.406161 214.711175 \r\nL 270.016108 214.63943 \r\nL 271.236002 214.692063 \r\nL 273.065844 214.704301 \r\nL 277.335474 214.727354 \r\nL 285.874734 214.713234 \r\nL 308.442779 214.752 \r\nL 309.052726 214.667694 \r\nL 310.882568 214.751711 \r\nL 313.322357 214.70745 \r\nL 316.372092 214.721284 \r\nL 320.031775 214.707762 \r\nL 321.861617 214.730648 \r\nL 325.5213 214.694856 \r\nL 327.351141 214.712848 \r\nL 332.230719 214.71779 \r\nL 335.890402 214.729319 \r\nL 345.649556 214.7313 \r\nL 366.38776 214.732817 \r\nL 370.047443 214.732729 \r\nL 370.047443 214.732729 \r\n\" style=\"fill:none;stroke:#1f77b4;stroke-linecap:square;stroke-width:1.5;\"/>\r\n   </g>\r\n   <g id=\"patch_3\">\r\n    <path d=\"M 50.465625 224.64 \r\nL 50.465625 7.2 \r\n\" style=\"fill:none;stroke:#000000;stroke-linecap:square;stroke-linejoin:miter;stroke-width:0.8;\"/>\r\n   </g>\r\n   <g id=\"patch_4\">\r\n    <path d=\"M 385.265625 224.64 \r\nL 385.265625 7.2 \r\n\" style=\"fill:none;stroke:#000000;stroke-linecap:square;stroke-linejoin:miter;stroke-width:0.8;\"/>\r\n   </g>\r\n   <g id=\"patch_5\">\r\n    <path d=\"M 50.465625 224.64 \r\nL 385.265625 224.64 \r\n\" style=\"fill:none;stroke:#000000;stroke-linecap:square;stroke-linejoin:miter;stroke-width:0.8;\"/>\r\n   </g>\r\n   <g id=\"patch_6\">\r\n    <path d=\"M 50.465625 7.2 \r\nL 385.265625 7.2 \r\n\" style=\"fill:none;stroke:#000000;stroke-linecap:square;stroke-linejoin:miter;stroke-width:0.8;\"/>\r\n   </g>\r\n  </g>\r\n </g>\r\n <defs>\r\n  <clipPath id=\"pe7973c83bc\">\r\n   <rect height=\"217.44\" width=\"334.8\" x=\"50.465625\" y=\"7.2\"/>\r\n  </clipPath>\r\n </defs>\r\n</svg>\r\n",
      "image/png": "[encoded data removed]"
     },
     "metadata": {
      "needs_background": "light"
     }
    }
   ],
   "metadata": {}
  },
  {
   "cell_type": "code",
   "execution_count": 35,
   "source": [
    "F_Cm_strain = np.fft.fft(CompositeBeam_Data['Strain Gauge Data'])\r\n",
    "Amplitude_Cm_strain = 2.0*np.abs(F_Cm_strain[0:int(N1)])/N1\r\n",
    "Frequency_Cm_starin = np.linspace(0.0,1.0/(dt1),int(N1))"
   ],
   "outputs": [],
   "metadata": {}
  },
  {
   "cell_type": "code",
   "execution_count": 36,
   "source": [
    "plt.grid();\r\n",
    "plt.plot(Frequency_Cm_starin,Amplitude_Cm_strain);plt.xlabel('Frequency [Hz]');plt.ylabel('|FFT(f)|');"
   ],
   "outputs": [
    {
     "output_type": "display_data",
     "data": {
      "text/plain": [
       "<Figure size 432x288 with 1 Axes>"
      ],
      "image/svg+xml": "<?xml version=\"1.0\" encoding=\"utf-8\" standalone=\"no\"?>\r\n<!DOCTYPE svg PUBLIC \"-//W3C//DTD SVG 1.1//EN\"\r\n  \"http://www.w3.org/Graphics/SVG/1.1/DTD/svg11.dtd\">\r\n<svg height=\"262.19625pt\" version=\"1.1\" viewBox=\"0 0 411.553125 262.19625\" width=\"411.553125pt\" xmlns=\"http://www.w3.org/2000/svg\" xmlns:xlink=\"http://www.w3.org/1999/xlink\">\r\n <metadata>\r\n  <rdf:RDF xmlns:cc=\"http://creativecommons.org/ns#\" xmlns:dc=\"http://purl.org/dc/elements/1.1/\" xmlns:rdf=\"http://www.w3.org/1999/02/22-rdf-syntax-ns#\">\r\n   <cc:Work>\r\n    <dc:type rdf:resource=\"http://purl.org/dc/dcmitype/StillImage\"/>\r\n    <dc:date>2021-08-27T14:06:49.513712</dc:date>\r\n    <dc:format>image/svg+xml</dc:format>\r\n    <dc:creator>\r\n     <cc:Agent>\r\n      <dc:title>Matplotlib v3.4.2, https://matplotlib.org/</dc:title>\r\n     </cc:Agent>\r\n    </dc:creator>\r\n   </cc:Work>\r\n  </rdf:RDF>\r\n </metadata>\r\n <defs>\r\n  <style type=\"text/css\">*{stroke-linecap:butt;stroke-linejoin:round;}</style>\r\n </defs>\r\n <g id=\"figure_1\">\r\n  <g id=\"patch_1\">\r\n   <path d=\"M 0 262.19625 \r\nL 411.553125 262.19625 \r\nL 411.553125 0 \r\nL 0 0 \r\nz\r\n\" style=\"fill:none;\"/>\r\n  </g>\r\n  <g id=\"axes_1\">\r\n   <g id=\"patch_2\">\r\n    <path d=\"M 69.553125 224.64 \r\nL 404.353125 224.64 \r\nL 404.353125 7.2 \r\nL 69.553125 7.2 \r\nz\r\n\" style=\"fill:#ffffff;\"/>\r\n   </g>\r\n   <g id=\"matplotlib.axis_1\">\r\n    <g id=\"xtick_1\">\r\n     <g id=\"line2d_1\">\r\n      <path clip-path=\"url(#pe10a5cc9ae)\" d=\"M 84.771307 224.64 \r\nL 84.771307 7.2 \r\n\" style=\"fill:none;stroke:#b0b0b0;stroke-linecap:square;stroke-width:0.8;\"/>\r\n     </g>\r\n     <g id=\"line2d_2\">\r\n      <defs>\r\n       <path d=\"M 0 0 \r\nL 0 3.5 \r\n\" id=\"med445e47f8\" style=\"stroke:#000000;stroke-width:0.8;\"/>\r\n      </defs>\r\n      <g>\r\n       <use style=\"stroke:#000000;stroke-width:0.8;\" x=\"84.771307\" xlink:href=\"#med445e47f8\" y=\"224.64\"/>\r\n      </g>\r\n     </g>\r\n     <g id=\"text_1\">\r\n      <!-- 0 -->\r\n      <g transform=\"translate(81.590057 239.238437)scale(0.1 -0.1)\">\r\n       <defs>\r\n        <path d=\"M 2034 4250 \r\nQ 1547 4250 1301 3770 \r\nQ 1056 3291 1056 2328 \r\nQ 1056 1369 1301 889 \r\nQ 1547 409 2034 409 \r\nQ 2525 409 2770 889 \r\nQ 3016 1369 3016 2328 \r\nQ 3016 3291 2770 3770 \r\nQ 2525 4250 2034 4250 \r\nz\r\nM 2034 4750 \r\nQ 2819 4750 3233 4129 \r\nQ 3647 3509 3647 2328 \r\nQ 3647 1150 3233 529 \r\nQ 2819 -91 2034 -91 \r\nQ 1250 -91 836 529 \r\nQ 422 1150 422 2328 \r\nQ 422 3509 836 4129 \r\nQ 1250 4750 2034 4750 \r\nz\r\n\" id=\"DejaVuSans-30\" transform=\"scale(0.015625)\"/>\r\n       </defs>\r\n       <use xlink:href=\"#DejaVuSans-30\"/>\r\n      </g>\r\n     </g>\r\n    </g>\r\n    <g id=\"xtick_2\">\r\n     <g id=\"line2d_3\">\r\n      <path clip-path=\"url(#pe10a5cc9ae)\" d=\"M 145.644034 224.64 \r\nL 145.644034 7.2 \r\n\" style=\"fill:none;stroke:#b0b0b0;stroke-linecap:square;stroke-width:0.8;\"/>\r\n     </g>\r\n     <g id=\"line2d_4\">\r\n      <g>\r\n       <use style=\"stroke:#000000;stroke-width:0.8;\" x=\"145.644034\" xlink:href=\"#med445e47f8\" y=\"224.64\"/>\r\n      </g>\r\n     </g>\r\n     <g id=\"text_2\">\r\n      <!-- 200 -->\r\n      <g transform=\"translate(136.100284 239.238437)scale(0.1 -0.1)\">\r\n       <defs>\r\n        <path d=\"M 1228 531 \r\nL 3431 531 \r\nL 3431 0 \r\nL 469 0 \r\nL 469 531 \r\nQ 828 903 1448 1529 \r\nQ 2069 2156 2228 2338 \r\nQ 2531 2678 2651 2914 \r\nQ 2772 3150 2772 3378 \r\nQ 2772 3750 2511 3984 \r\nQ 2250 4219 1831 4219 \r\nQ 1534 4219 1204 4116 \r\nQ 875 4013 500 3803 \r\nL 500 4441 \r\nQ 881 4594 1212 4672 \r\nQ 1544 4750 1819 4750 \r\nQ 2544 4750 2975 4387 \r\nQ 3406 4025 3406 3419 \r\nQ 3406 3131 3298 2873 \r\nQ 3191 2616 2906 2266 \r\nQ 2828 2175 2409 1742 \r\nQ 1991 1309 1228 531 \r\nz\r\n\" id=\"DejaVuSans-32\" transform=\"scale(0.015625)\"/>\r\n       </defs>\r\n       <use xlink:href=\"#DejaVuSans-32\"/>\r\n       <use x=\"63.623047\" xlink:href=\"#DejaVuSans-30\"/>\r\n       <use x=\"127.246094\" xlink:href=\"#DejaVuSans-30\"/>\r\n      </g>\r\n     </g>\r\n    </g>\r\n    <g id=\"xtick_3\">\r\n     <g id=\"line2d_5\">\r\n      <path clip-path=\"url(#pe10a5cc9ae)\" d=\"M 206.516761 224.64 \r\nL 206.516761 7.2 \r\n\" style=\"fill:none;stroke:#b0b0b0;stroke-linecap:square;stroke-width:0.8;\"/>\r\n     </g>\r\n     <g id=\"line2d_6\">\r\n      <g>\r\n       <use style=\"stroke:#000000;stroke-width:0.8;\" x=\"206.516761\" xlink:href=\"#med445e47f8\" y=\"224.64\"/>\r\n      </g>\r\n     </g>\r\n     <g id=\"text_3\">\r\n      <!-- 400 -->\r\n      <g transform=\"translate(196.973011 239.238437)scale(0.1 -0.1)\">\r\n       <defs>\r\n        <path d=\"M 2419 4116 \r\nL 825 1625 \r\nL 2419 1625 \r\nL 2419 4116 \r\nz\r\nM 2253 4666 \r\nL 3047 4666 \r\nL 3047 1625 \r\nL 3713 1625 \r\nL 3713 1100 \r\nL 3047 1100 \r\nL 3047 0 \r\nL 2419 0 \r\nL 2419 1100 \r\nL 313 1100 \r\nL 313 1709 \r\nL 2253 4666 \r\nz\r\n\" id=\"DejaVuSans-34\" transform=\"scale(0.015625)\"/>\r\n       </defs>\r\n       <use xlink:href=\"#DejaVuSans-34\"/>\r\n       <use x=\"63.623047\" xlink:href=\"#DejaVuSans-30\"/>\r\n       <use x=\"127.246094\" xlink:href=\"#DejaVuSans-30\"/>\r\n      </g>\r\n     </g>\r\n    </g>\r\n    <g id=\"xtick_4\">\r\n     <g id=\"line2d_7\">\r\n      <path clip-path=\"url(#pe10a5cc9ae)\" d=\"M 267.389489 224.64 \r\nL 267.389489 7.2 \r\n\" style=\"fill:none;stroke:#b0b0b0;stroke-linecap:square;stroke-width:0.8;\"/>\r\n     </g>\r\n     <g id=\"line2d_8\">\r\n      <g>\r\n       <use style=\"stroke:#000000;stroke-width:0.8;\" x=\"267.389489\" xlink:href=\"#med445e47f8\" y=\"224.64\"/>\r\n      </g>\r\n     </g>\r\n     <g id=\"text_4\">\r\n      <!-- 600 -->\r\n      <g transform=\"translate(257.845739 239.238437)scale(0.1 -0.1)\">\r\n       <defs>\r\n        <path d=\"M 2113 2584 \r\nQ 1688 2584 1439 2293 \r\nQ 1191 2003 1191 1497 \r\nQ 1191 994 1439 701 \r\nQ 1688 409 2113 409 \r\nQ 2538 409 2786 701 \r\nQ 3034 994 3034 1497 \r\nQ 3034 2003 2786 2293 \r\nQ 2538 2584 2113 2584 \r\nz\r\nM 3366 4563 \r\nL 3366 3988 \r\nQ 3128 4100 2886 4159 \r\nQ 2644 4219 2406 4219 \r\nQ 1781 4219 1451 3797 \r\nQ 1122 3375 1075 2522 \r\nQ 1259 2794 1537 2939 \r\nQ 1816 3084 2150 3084 \r\nQ 2853 3084 3261 2657 \r\nQ 3669 2231 3669 1497 \r\nQ 3669 778 3244 343 \r\nQ 2819 -91 2113 -91 \r\nQ 1303 -91 875 529 \r\nQ 447 1150 447 2328 \r\nQ 447 3434 972 4092 \r\nQ 1497 4750 2381 4750 \r\nQ 2619 4750 2861 4703 \r\nQ 3103 4656 3366 4563 \r\nz\r\n\" id=\"DejaVuSans-36\" transform=\"scale(0.015625)\"/>\r\n       </defs>\r\n       <use xlink:href=\"#DejaVuSans-36\"/>\r\n       <use x=\"63.623047\" xlink:href=\"#DejaVuSans-30\"/>\r\n       <use x=\"127.246094\" xlink:href=\"#DejaVuSans-30\"/>\r\n      </g>\r\n     </g>\r\n    </g>\r\n    <g id=\"xtick_5\">\r\n     <g id=\"line2d_9\">\r\n      <path clip-path=\"url(#pe10a5cc9ae)\" d=\"M 328.262216 224.64 \r\nL 328.262216 7.2 \r\n\" style=\"fill:none;stroke:#b0b0b0;stroke-linecap:square;stroke-width:0.8;\"/>\r\n     </g>\r\n     <g id=\"line2d_10\">\r\n      <g>\r\n       <use style=\"stroke:#000000;stroke-width:0.8;\" x=\"328.262216\" xlink:href=\"#med445e47f8\" y=\"224.64\"/>\r\n      </g>\r\n     </g>\r\n     <g id=\"text_5\">\r\n      <!-- 800 -->\r\n      <g transform=\"translate(318.718466 239.238437)scale(0.1 -0.1)\">\r\n       <defs>\r\n        <path d=\"M 2034 2216 \r\nQ 1584 2216 1326 1975 \r\nQ 1069 1734 1069 1313 \r\nQ 1069 891 1326 650 \r\nQ 1584 409 2034 409 \r\nQ 2484 409 2743 651 \r\nQ 3003 894 3003 1313 \r\nQ 3003 1734 2745 1975 \r\nQ 2488 2216 2034 2216 \r\nz\r\nM 1403 2484 \r\nQ 997 2584 770 2862 \r\nQ 544 3141 544 3541 \r\nQ 544 4100 942 4425 \r\nQ 1341 4750 2034 4750 \r\nQ 2731 4750 3128 4425 \r\nQ 3525 4100 3525 3541 \r\nQ 3525 3141 3298 2862 \r\nQ 3072 2584 2669 2484 \r\nQ 3125 2378 3379 2068 \r\nQ 3634 1759 3634 1313 \r\nQ 3634 634 3220 271 \r\nQ 2806 -91 2034 -91 \r\nQ 1263 -91 848 271 \r\nQ 434 634 434 1313 \r\nQ 434 1759 690 2068 \r\nQ 947 2378 1403 2484 \r\nz\r\nM 1172 3481 \r\nQ 1172 3119 1398 2916 \r\nQ 1625 2713 2034 2713 \r\nQ 2441 2713 2670 2916 \r\nQ 2900 3119 2900 3481 \r\nQ 2900 3844 2670 4047 \r\nQ 2441 4250 2034 4250 \r\nQ 1625 4250 1398 4047 \r\nQ 1172 3844 1172 3481 \r\nz\r\n\" id=\"DejaVuSans-38\" transform=\"scale(0.015625)\"/>\r\n       </defs>\r\n       <use xlink:href=\"#DejaVuSans-38\"/>\r\n       <use x=\"63.623047\" xlink:href=\"#DejaVuSans-30\"/>\r\n       <use x=\"127.246094\" xlink:href=\"#DejaVuSans-30\"/>\r\n      </g>\r\n     </g>\r\n    </g>\r\n    <g id=\"xtick_6\">\r\n     <g id=\"line2d_11\">\r\n      <path clip-path=\"url(#pe10a5cc9ae)\" d=\"M 389.134943 224.64 \r\nL 389.134943 7.2 \r\n\" style=\"fill:none;stroke:#b0b0b0;stroke-linecap:square;stroke-width:0.8;\"/>\r\n     </g>\r\n     <g id=\"line2d_12\">\r\n      <g>\r\n       <use style=\"stroke:#000000;stroke-width:0.8;\" x=\"389.134943\" xlink:href=\"#med445e47f8\" y=\"224.64\"/>\r\n      </g>\r\n     </g>\r\n     <g id=\"text_6\">\r\n      <!-- 1000 -->\r\n      <g transform=\"translate(376.409943 239.238437)scale(0.1 -0.1)\">\r\n       <defs>\r\n        <path d=\"M 794 531 \r\nL 1825 531 \r\nL 1825 4091 \r\nL 703 3866 \r\nL 703 4441 \r\nL 1819 4666 \r\nL 2450 4666 \r\nL 2450 531 \r\nL 3481 531 \r\nL 3481 0 \r\nL 794 0 \r\nL 794 531 \r\nz\r\n\" id=\"DejaVuSans-31\" transform=\"scale(0.015625)\"/>\r\n       </defs>\r\n       <use xlink:href=\"#DejaVuSans-31\"/>\r\n       <use x=\"63.623047\" xlink:href=\"#DejaVuSans-30\"/>\r\n       <use x=\"127.246094\" xlink:href=\"#DejaVuSans-30\"/>\r\n       <use x=\"190.869141\" xlink:href=\"#DejaVuSans-30\"/>\r\n      </g>\r\n     </g>\r\n    </g>\r\n    <g id=\"text_7\">\r\n     <!-- Frequency [Hz] -->\r\n     <g transform=\"translate(199.248437 252.916562)scale(0.1 -0.1)\">\r\n      <defs>\r\n       <path d=\"M 628 4666 \r\nL 3309 4666 \r\nL 3309 4134 \r\nL 1259 4134 \r\nL 1259 2759 \r\nL 3109 2759 \r\nL 3109 2228 \r\nL 1259 2228 \r\nL 1259 0 \r\nL 628 0 \r\nL 628 4666 \r\nz\r\n\" id=\"DejaVuSans-46\" transform=\"scale(0.015625)\"/>\r\n       <path d=\"M 2631 2963 \r\nQ 2534 3019 2420 3045 \r\nQ 2306 3072 2169 3072 \r\nQ 1681 3072 1420 2755 \r\nQ 1159 2438 1159 1844 \r\nL 1159 0 \r\nL 581 0 \r\nL 581 3500 \r\nL 1159 3500 \r\nL 1159 2956 \r\nQ 1341 3275 1631 3429 \r\nQ 1922 3584 2338 3584 \r\nQ 2397 3584 2469 3576 \r\nQ 2541 3569 2628 3553 \r\nL 2631 2963 \r\nz\r\n\" id=\"DejaVuSans-72\" transform=\"scale(0.015625)\"/>\r\n       <path d=\"M 3597 1894 \r\nL 3597 1613 \r\nL 953 1613 \r\nQ 991 1019 1311 708 \r\nQ 1631 397 2203 397 \r\nQ 2534 397 2845 478 \r\nQ 3156 559 3463 722 \r\nL 3463 178 \r\nQ 3153 47 2828 -22 \r\nQ 2503 -91 2169 -91 \r\nQ 1331 -91 842 396 \r\nQ 353 884 353 1716 \r\nQ 353 2575 817 3079 \r\nQ 1281 3584 2069 3584 \r\nQ 2775 3584 3186 3129 \r\nQ 3597 2675 3597 1894 \r\nz\r\nM 3022 2063 \r\nQ 3016 2534 2758 2815 \r\nQ 2500 3097 2075 3097 \r\nQ 1594 3097 1305 2825 \r\nQ 1016 2553 972 2059 \r\nL 3022 2063 \r\nz\r\n\" id=\"DejaVuSans-65\" transform=\"scale(0.015625)\"/>\r\n       <path d=\"M 947 1747 \r\nQ 947 1113 1208 752 \r\nQ 1469 391 1925 391 \r\nQ 2381 391 2643 752 \r\nQ 2906 1113 2906 1747 \r\nQ 2906 2381 2643 2742 \r\nQ 2381 3103 1925 3103 \r\nQ 1469 3103 1208 2742 \r\nQ 947 2381 947 1747 \r\nz\r\nM 2906 525 \r\nQ 2725 213 2448 61 \r\nQ 2172 -91 1784 -91 \r\nQ 1150 -91 751 415 \r\nQ 353 922 353 1747 \r\nQ 353 2572 751 3078 \r\nQ 1150 3584 1784 3584 \r\nQ 2172 3584 2448 3432 \r\nQ 2725 3281 2906 2969 \r\nL 2906 3500 \r\nL 3481 3500 \r\nL 3481 -1331 \r\nL 2906 -1331 \r\nL 2906 525 \r\nz\r\n\" id=\"DejaVuSans-71\" transform=\"scale(0.015625)\"/>\r\n       <path d=\"M 544 1381 \r\nL 544 3500 \r\nL 1119 3500 \r\nL 1119 1403 \r\nQ 1119 906 1312 657 \r\nQ 1506 409 1894 409 \r\nQ 2359 409 2629 706 \r\nQ 2900 1003 2900 1516 \r\nL 2900 3500 \r\nL 3475 3500 \r\nL 3475 0 \r\nL 2900 0 \r\nL 2900 538 \r\nQ 2691 219 2414 64 \r\nQ 2138 -91 1772 -91 \r\nQ 1169 -91 856 284 \r\nQ 544 659 544 1381 \r\nz\r\nM 1991 3584 \r\nL 1991 3584 \r\nz\r\n\" id=\"DejaVuSans-75\" transform=\"scale(0.015625)\"/>\r\n       <path d=\"M 3513 2113 \r\nL 3513 0 \r\nL 2938 0 \r\nL 2938 2094 \r\nQ 2938 2591 2744 2837 \r\nQ 2550 3084 2163 3084 \r\nQ 1697 3084 1428 2787 \r\nQ 1159 2491 1159 1978 \r\nL 1159 0 \r\nL 581 0 \r\nL 581 3500 \r\nL 1159 3500 \r\nL 1159 2956 \r\nQ 1366 3272 1645 3428 \r\nQ 1925 3584 2291 3584 \r\nQ 2894 3584 3203 3211 \r\nQ 3513 2838 3513 2113 \r\nz\r\n\" id=\"DejaVuSans-6e\" transform=\"scale(0.015625)\"/>\r\n       <path d=\"M 3122 3366 \r\nL 3122 2828 \r\nQ 2878 2963 2633 3030 \r\nQ 2388 3097 2138 3097 \r\nQ 1578 3097 1268 2742 \r\nQ 959 2388 959 1747 \r\nQ 959 1106 1268 751 \r\nQ 1578 397 2138 397 \r\nQ 2388 397 2633 464 \r\nQ 2878 531 3122 666 \r\nL 3122 134 \r\nQ 2881 22 2623 -34 \r\nQ 2366 -91 2075 -91 \r\nQ 1284 -91 818 406 \r\nQ 353 903 353 1747 \r\nQ 353 2603 823 3093 \r\nQ 1294 3584 2113 3584 \r\nQ 2378 3584 2631 3529 \r\nQ 2884 3475 3122 3366 \r\nz\r\n\" id=\"DejaVuSans-63\" transform=\"scale(0.015625)\"/>\r\n       <path d=\"M 2059 -325 \r\nQ 1816 -950 1584 -1140 \r\nQ 1353 -1331 966 -1331 \r\nL 506 -1331 \r\nL 506 -850 \r\nL 844 -850 \r\nQ 1081 -850 1212 -737 \r\nQ 1344 -625 1503 -206 \r\nL 1606 56 \r\nL 191 3500 \r\nL 800 3500 \r\nL 1894 763 \r\nL 2988 3500 \r\nL 3597 3500 \r\nL 2059 -325 \r\nz\r\n\" id=\"DejaVuSans-79\" transform=\"scale(0.015625)\"/>\r\n       <path id=\"DejaVuSans-20\" transform=\"scale(0.015625)\"/>\r\n       <path d=\"M 550 4863 \r\nL 1875 4863 \r\nL 1875 4416 \r\nL 1125 4416 \r\nL 1125 -397 \r\nL 1875 -397 \r\nL 1875 -844 \r\nL 550 -844 \r\nL 550 4863 \r\nz\r\n\" id=\"DejaVuSans-5b\" transform=\"scale(0.015625)\"/>\r\n       <path d=\"M 628 4666 \r\nL 1259 4666 \r\nL 1259 2753 \r\nL 3553 2753 \r\nL 3553 4666 \r\nL 4184 4666 \r\nL 4184 0 \r\nL 3553 0 \r\nL 3553 2222 \r\nL 1259 2222 \r\nL 1259 0 \r\nL 628 0 \r\nL 628 4666 \r\nz\r\n\" id=\"DejaVuSans-48\" transform=\"scale(0.015625)\"/>\r\n       <path d=\"M 353 3500 \r\nL 3084 3500 \r\nL 3084 2975 \r\nL 922 459 \r\nL 3084 459 \r\nL 3084 0 \r\nL 275 0 \r\nL 275 525 \r\nL 2438 3041 \r\nL 353 3041 \r\nL 353 3500 \r\nz\r\n\" id=\"DejaVuSans-7a\" transform=\"scale(0.015625)\"/>\r\n       <path d=\"M 1947 4863 \r\nL 1947 -844 \r\nL 622 -844 \r\nL 622 -397 \r\nL 1369 -397 \r\nL 1369 4416 \r\nL 622 4416 \r\nL 622 4863 \r\nL 1947 4863 \r\nz\r\n\" id=\"DejaVuSans-5d\" transform=\"scale(0.015625)\"/>\r\n      </defs>\r\n      <use xlink:href=\"#DejaVuSans-46\"/>\r\n      <use x=\"50.269531\" xlink:href=\"#DejaVuSans-72\"/>\r\n      <use x=\"89.132812\" xlink:href=\"#DejaVuSans-65\"/>\r\n      <use x=\"150.65625\" xlink:href=\"#DejaVuSans-71\"/>\r\n      <use x=\"214.132812\" xlink:href=\"#DejaVuSans-75\"/>\r\n      <use x=\"277.511719\" xlink:href=\"#DejaVuSans-65\"/>\r\n      <use x=\"339.035156\" xlink:href=\"#DejaVuSans-6e\"/>\r\n      <use x=\"402.414062\" xlink:href=\"#DejaVuSans-63\"/>\r\n      <use x=\"457.394531\" xlink:href=\"#DejaVuSans-79\"/>\r\n      <use x=\"516.574219\" xlink:href=\"#DejaVuSans-20\"/>\r\n      <use x=\"548.361328\" xlink:href=\"#DejaVuSans-5b\"/>\r\n      <use x=\"587.375\" xlink:href=\"#DejaVuSans-48\"/>\r\n      <use x=\"662.570312\" xlink:href=\"#DejaVuSans-7a\"/>\r\n      <use x=\"715.060547\" xlink:href=\"#DejaVuSans-5d\"/>\r\n     </g>\r\n    </g>\r\n   </g>\r\n   <g id=\"matplotlib.axis_2\">\r\n    <g id=\"ytick_1\">\r\n     <g id=\"line2d_13\">\r\n      <path clip-path=\"url(#pe10a5cc9ae)\" d=\"M 69.553125 214.758662 \r\nL 404.353125 214.758662 \r\n\" style=\"fill:none;stroke:#b0b0b0;stroke-linecap:square;stroke-width:0.8;\"/>\r\n     </g>\r\n     <g id=\"line2d_14\">\r\n      <defs>\r\n       <path d=\"M 0 0 \r\nL -3.5 0 \r\n\" id=\"m9cf1251944\" style=\"stroke:#000000;stroke-width:0.8;\"/>\r\n      </defs>\r\n      <g>\r\n       <use style=\"stroke:#000000;stroke-width:0.8;\" x=\"69.553125\" xlink:href=\"#m9cf1251944\" y=\"214.758662\"/>\r\n      </g>\r\n     </g>\r\n     <g id=\"text_8\">\r\n      <!-- 0.00000 -->\r\n      <g transform=\"translate(21.2 218.557881)scale(0.1 -0.1)\">\r\n       <defs>\r\n        <path d=\"M 684 794 \r\nL 1344 794 \r\nL 1344 0 \r\nL 684 0 \r\nL 684 794 \r\nz\r\n\" id=\"DejaVuSans-2e\" transform=\"scale(0.015625)\"/>\r\n       </defs>\r\n       <use xlink:href=\"#DejaVuSans-30\"/>\r\n       <use x=\"63.623047\" xlink:href=\"#DejaVuSans-2e\"/>\r\n       <use x=\"95.410156\" xlink:href=\"#DejaVuSans-30\"/>\r\n       <use x=\"159.033203\" xlink:href=\"#DejaVuSans-30\"/>\r\n       <use x=\"222.65625\" xlink:href=\"#DejaVuSans-30\"/>\r\n       <use x=\"286.279297\" xlink:href=\"#DejaVuSans-30\"/>\r\n       <use x=\"349.902344\" xlink:href=\"#DejaVuSans-30\"/>\r\n      </g>\r\n     </g>\r\n    </g>\r\n    <g id=\"ytick_2\">\r\n     <g id=\"line2d_15\">\r\n      <path clip-path=\"url(#pe10a5cc9ae)\" d=\"M 69.553125 182.160667 \r\nL 404.353125 182.160667 \r\n\" style=\"fill:none;stroke:#b0b0b0;stroke-linecap:square;stroke-width:0.8;\"/>\r\n     </g>\r\n     <g id=\"line2d_16\">\r\n      <g>\r\n       <use style=\"stroke:#000000;stroke-width:0.8;\" x=\"69.553125\" xlink:href=\"#m9cf1251944\" y=\"182.160667\"/>\r\n      </g>\r\n     </g>\r\n     <g id=\"text_9\">\r\n      <!-- 0.00005 -->\r\n      <g transform=\"translate(21.2 185.959886)scale(0.1 -0.1)\">\r\n       <defs>\r\n        <path d=\"M 691 4666 \r\nL 3169 4666 \r\nL 3169 4134 \r\nL 1269 4134 \r\nL 1269 2991 \r\nQ 1406 3038 1543 3061 \r\nQ 1681 3084 1819 3084 \r\nQ 2600 3084 3056 2656 \r\nQ 3513 2228 3513 1497 \r\nQ 3513 744 3044 326 \r\nQ 2575 -91 1722 -91 \r\nQ 1428 -91 1123 -41 \r\nQ 819 9 494 109 \r\nL 494 744 \r\nQ 775 591 1075 516 \r\nQ 1375 441 1709 441 \r\nQ 2250 441 2565 725 \r\nQ 2881 1009 2881 1497 \r\nQ 2881 1984 2565 2268 \r\nQ 2250 2553 1709 2553 \r\nQ 1456 2553 1204 2497 \r\nQ 953 2441 691 2322 \r\nL 691 4666 \r\nz\r\n\" id=\"DejaVuSans-35\" transform=\"scale(0.015625)\"/>\r\n       </defs>\r\n       <use xlink:href=\"#DejaVuSans-30\"/>\r\n       <use x=\"63.623047\" xlink:href=\"#DejaVuSans-2e\"/>\r\n       <use x=\"95.410156\" xlink:href=\"#DejaVuSans-30\"/>\r\n       <use x=\"159.033203\" xlink:href=\"#DejaVuSans-30\"/>\r\n       <use x=\"222.65625\" xlink:href=\"#DejaVuSans-30\"/>\r\n       <use x=\"286.279297\" xlink:href=\"#DejaVuSans-30\"/>\r\n       <use x=\"349.902344\" xlink:href=\"#DejaVuSans-35\"/>\r\n      </g>\r\n     </g>\r\n    </g>\r\n    <g id=\"ytick_3\">\r\n     <g id=\"line2d_17\">\r\n      <path clip-path=\"url(#pe10a5cc9ae)\" d=\"M 69.553125 149.562672 \r\nL 404.353125 149.562672 \r\n\" style=\"fill:none;stroke:#b0b0b0;stroke-linecap:square;stroke-width:0.8;\"/>\r\n     </g>\r\n     <g id=\"line2d_18\">\r\n      <g>\r\n       <use style=\"stroke:#000000;stroke-width:0.8;\" x=\"69.553125\" xlink:href=\"#m9cf1251944\" y=\"149.562672\"/>\r\n      </g>\r\n     </g>\r\n     <g id=\"text_10\">\r\n      <!-- 0.00010 -->\r\n      <g transform=\"translate(21.2 153.36189)scale(0.1 -0.1)\">\r\n       <use xlink:href=\"#DejaVuSans-30\"/>\r\n       <use x=\"63.623047\" xlink:href=\"#DejaVuSans-2e\"/>\r\n       <use x=\"95.410156\" xlink:href=\"#DejaVuSans-30\"/>\r\n       <use x=\"159.033203\" xlink:href=\"#DejaVuSans-30\"/>\r\n       <use x=\"222.65625\" xlink:href=\"#DejaVuSans-30\"/>\r\n       <use x=\"286.279297\" xlink:href=\"#DejaVuSans-31\"/>\r\n       <use x=\"349.902344\" xlink:href=\"#DejaVuSans-30\"/>\r\n      </g>\r\n     </g>\r\n    </g>\r\n    <g id=\"ytick_4\">\r\n     <g id=\"line2d_19\">\r\n      <path clip-path=\"url(#pe10a5cc9ae)\" d=\"M 69.553125 116.964676 \r\nL 404.353125 116.964676 \r\n\" style=\"fill:none;stroke:#b0b0b0;stroke-linecap:square;stroke-width:0.8;\"/>\r\n     </g>\r\n     <g id=\"line2d_20\">\r\n      <g>\r\n       <use style=\"stroke:#000000;stroke-width:0.8;\" x=\"69.553125\" xlink:href=\"#m9cf1251944\" y=\"116.964676\"/>\r\n      </g>\r\n     </g>\r\n     <g id=\"text_11\">\r\n      <!-- 0.00015 -->\r\n      <g transform=\"translate(21.2 120.763895)scale(0.1 -0.1)\">\r\n       <use xlink:href=\"#DejaVuSans-30\"/>\r\n       <use x=\"63.623047\" xlink:href=\"#DejaVuSans-2e\"/>\r\n       <use x=\"95.410156\" xlink:href=\"#DejaVuSans-30\"/>\r\n       <use x=\"159.033203\" xlink:href=\"#DejaVuSans-30\"/>\r\n       <use x=\"222.65625\" xlink:href=\"#DejaVuSans-30\"/>\r\n       <use x=\"286.279297\" xlink:href=\"#DejaVuSans-31\"/>\r\n       <use x=\"349.902344\" xlink:href=\"#DejaVuSans-35\"/>\r\n      </g>\r\n     </g>\r\n    </g>\r\n    <g id=\"ytick_5\">\r\n     <g id=\"line2d_21\">\r\n      <path clip-path=\"url(#pe10a5cc9ae)\" d=\"M 69.553125 84.366681 \r\nL 404.353125 84.366681 \r\n\" style=\"fill:none;stroke:#b0b0b0;stroke-linecap:square;stroke-width:0.8;\"/>\r\n     </g>\r\n     <g id=\"line2d_22\">\r\n      <g>\r\n       <use style=\"stroke:#000000;stroke-width:0.8;\" x=\"69.553125\" xlink:href=\"#m9cf1251944\" y=\"84.366681\"/>\r\n      </g>\r\n     </g>\r\n     <g id=\"text_12\">\r\n      <!-- 0.00020 -->\r\n      <g transform=\"translate(21.2 88.1659)scale(0.1 -0.1)\">\r\n       <use xlink:href=\"#DejaVuSans-30\"/>\r\n       <use x=\"63.623047\" xlink:href=\"#DejaVuSans-2e\"/>\r\n       <use x=\"95.410156\" xlink:href=\"#DejaVuSans-30\"/>\r\n       <use x=\"159.033203\" xlink:href=\"#DejaVuSans-30\"/>\r\n       <use x=\"222.65625\" xlink:href=\"#DejaVuSans-30\"/>\r\n       <use x=\"286.279297\" xlink:href=\"#DejaVuSans-32\"/>\r\n       <use x=\"349.902344\" xlink:href=\"#DejaVuSans-30\"/>\r\n      </g>\r\n     </g>\r\n    </g>\r\n    <g id=\"ytick_6\">\r\n     <g id=\"line2d_23\">\r\n      <path clip-path=\"url(#pe10a5cc9ae)\" d=\"M 69.553125 51.768686 \r\nL 404.353125 51.768686 \r\n\" style=\"fill:none;stroke:#b0b0b0;stroke-linecap:square;stroke-width:0.8;\"/>\r\n     </g>\r\n     <g id=\"line2d_24\">\r\n      <g>\r\n       <use style=\"stroke:#000000;stroke-width:0.8;\" x=\"69.553125\" xlink:href=\"#m9cf1251944\" y=\"51.768686\"/>\r\n      </g>\r\n     </g>\r\n     <g id=\"text_13\">\r\n      <!-- 0.00025 -->\r\n      <g transform=\"translate(21.2 55.567904)scale(0.1 -0.1)\">\r\n       <use xlink:href=\"#DejaVuSans-30\"/>\r\n       <use x=\"63.623047\" xlink:href=\"#DejaVuSans-2e\"/>\r\n       <use x=\"95.410156\" xlink:href=\"#DejaVuSans-30\"/>\r\n       <use x=\"159.033203\" xlink:href=\"#DejaVuSans-30\"/>\r\n       <use x=\"222.65625\" xlink:href=\"#DejaVuSans-30\"/>\r\n       <use x=\"286.279297\" xlink:href=\"#DejaVuSans-32\"/>\r\n       <use x=\"349.902344\" xlink:href=\"#DejaVuSans-35\"/>\r\n      </g>\r\n     </g>\r\n    </g>\r\n    <g id=\"ytick_7\">\r\n     <g id=\"line2d_25\">\r\n      <path clip-path=\"url(#pe10a5cc9ae)\" d=\"M 69.553125 19.17069 \r\nL 404.353125 19.17069 \r\n\" style=\"fill:none;stroke:#b0b0b0;stroke-linecap:square;stroke-width:0.8;\"/>\r\n     </g>\r\n     <g id=\"line2d_26\">\r\n      <g>\r\n       <use style=\"stroke:#000000;stroke-width:0.8;\" x=\"69.553125\" xlink:href=\"#m9cf1251944\" y=\"19.17069\"/>\r\n      </g>\r\n     </g>\r\n     <g id=\"text_14\">\r\n      <!-- 0.00030 -->\r\n      <g transform=\"translate(21.2 22.969909)scale(0.1 -0.1)\">\r\n       <defs>\r\n        <path d=\"M 2597 2516 \r\nQ 3050 2419 3304 2112 \r\nQ 3559 1806 3559 1356 \r\nQ 3559 666 3084 287 \r\nQ 2609 -91 1734 -91 \r\nQ 1441 -91 1130 -33 \r\nQ 819 25 488 141 \r\nL 488 750 \r\nQ 750 597 1062 519 \r\nQ 1375 441 1716 441 \r\nQ 2309 441 2620 675 \r\nQ 2931 909 2931 1356 \r\nQ 2931 1769 2642 2001 \r\nQ 2353 2234 1838 2234 \r\nL 1294 2234 \r\nL 1294 2753 \r\nL 1863 2753 \r\nQ 2328 2753 2575 2939 \r\nQ 2822 3125 2822 3475 \r\nQ 2822 3834 2567 4026 \r\nQ 2313 4219 1838 4219 \r\nQ 1578 4219 1281 4162 \r\nQ 984 4106 628 3988 \r\nL 628 4550 \r\nQ 988 4650 1302 4700 \r\nQ 1616 4750 1894 4750 \r\nQ 2613 4750 3031 4423 \r\nQ 3450 4097 3450 3541 \r\nQ 3450 3153 3228 2886 \r\nQ 3006 2619 2597 2516 \r\nz\r\n\" id=\"DejaVuSans-33\" transform=\"scale(0.015625)\"/>\r\n       </defs>\r\n       <use xlink:href=\"#DejaVuSans-30\"/>\r\n       <use x=\"63.623047\" xlink:href=\"#DejaVuSans-2e\"/>\r\n       <use x=\"95.410156\" xlink:href=\"#DejaVuSans-30\"/>\r\n       <use x=\"159.033203\" xlink:href=\"#DejaVuSans-30\"/>\r\n       <use x=\"222.65625\" xlink:href=\"#DejaVuSans-30\"/>\r\n       <use x=\"286.279297\" xlink:href=\"#DejaVuSans-33\"/>\r\n       <use x=\"349.902344\" xlink:href=\"#DejaVuSans-30\"/>\r\n      </g>\r\n     </g>\r\n    </g>\r\n    <g id=\"text_15\">\r\n     <!-- |FFT(f)| -->\r\n     <g transform=\"translate(14.842188 133.668437)rotate(-90)scale(0.1 -0.1)\">\r\n      <defs>\r\n       <path d=\"M 1344 4891 \r\nL 1344 -1509 \r\nL 813 -1509 \r\nL 813 4891 \r\nL 1344 4891 \r\nz\r\n\" id=\"DejaVuSans-7c\" transform=\"scale(0.015625)\"/>\r\n       <path d=\"M -19 4666 \r\nL 3928 4666 \r\nL 3928 4134 \r\nL 2272 4134 \r\nL 2272 0 \r\nL 1638 0 \r\nL 1638 4134 \r\nL -19 4134 \r\nL -19 4666 \r\nz\r\n\" id=\"DejaVuSans-54\" transform=\"scale(0.015625)\"/>\r\n       <path d=\"M 1984 4856 \r\nQ 1566 4138 1362 3434 \r\nQ 1159 2731 1159 2009 \r\nQ 1159 1288 1364 580 \r\nQ 1569 -128 1984 -844 \r\nL 1484 -844 \r\nQ 1016 -109 783 600 \r\nQ 550 1309 550 2009 \r\nQ 550 2706 781 3412 \r\nQ 1013 4119 1484 4856 \r\nL 1984 4856 \r\nz\r\n\" id=\"DejaVuSans-28\" transform=\"scale(0.015625)\"/>\r\n       <path d=\"M 2375 4863 \r\nL 2375 4384 \r\nL 1825 4384 \r\nQ 1516 4384 1395 4259 \r\nQ 1275 4134 1275 3809 \r\nL 1275 3500 \r\nL 2222 3500 \r\nL 2222 3053 \r\nL 1275 3053 \r\nL 1275 0 \r\nL 697 0 \r\nL 697 3053 \r\nL 147 3053 \r\nL 147 3500 \r\nL 697 3500 \r\nL 697 3744 \r\nQ 697 4328 969 4595 \r\nQ 1241 4863 1831 4863 \r\nL 2375 4863 \r\nz\r\n\" id=\"DejaVuSans-66\" transform=\"scale(0.015625)\"/>\r\n       <path d=\"M 513 4856 \r\nL 1013 4856 \r\nQ 1481 4119 1714 3412 \r\nQ 1947 2706 1947 2009 \r\nQ 1947 1309 1714 600 \r\nQ 1481 -109 1013 -844 \r\nL 513 -844 \r\nQ 928 -128 1133 580 \r\nQ 1338 1288 1338 2009 \r\nQ 1338 2731 1133 3434 \r\nQ 928 4138 513 4856 \r\nz\r\n\" id=\"DejaVuSans-29\" transform=\"scale(0.015625)\"/>\r\n      </defs>\r\n      <use xlink:href=\"#DejaVuSans-7c\"/>\r\n      <use x=\"33.691406\" xlink:href=\"#DejaVuSans-46\"/>\r\n      <use x=\"91.210938\" xlink:href=\"#DejaVuSans-46\"/>\r\n      <use x=\"146.980469\" xlink:href=\"#DejaVuSans-54\"/>\r\n      <use x=\"208.064453\" xlink:href=\"#DejaVuSans-28\"/>\r\n      <use x=\"247.078125\" xlink:href=\"#DejaVuSans-66\"/>\r\n      <use x=\"282.283203\" xlink:href=\"#DejaVuSans-29\"/>\r\n      <use x=\"321.296875\" xlink:href=\"#DejaVuSans-7c\"/>\r\n     </g>\r\n    </g>\r\n   </g>\r\n   <g id=\"line2d_27\">\r\n    <path clip-path=\"url(#pe10a5cc9ae)\" d=\"M 84.771307 17.083636 \r\nL 85.075975 214.71639 \r\nL 92.083346 214.679801 \r\nL 93.302019 214.399236 \r\nL 93.606688 213.467503 \r\nL 93.911356 214.163907 \r\nL 94.216024 214.475018 \r\nL 95.130029 214.695363 \r\nL 96.044034 214.680461 \r\nL 96.653371 214.702229 \r\nL 99.700054 214.719498 \r\nL 100.614059 214.717897 \r\nL 102.1374 214.724689 \r\nL 104.270078 214.72163 \r\nL 105.488752 214.745115 \r\nL 109.754108 214.722329 \r\nL 111.277449 214.743418 \r\nL 112.800791 214.64237 \r\nL 113.410127 214.728326 \r\nL 114.628801 214.720334 \r\nL 115.847474 214.74599 \r\nL 116.152142 214.685762 \r\nL 116.761479 214.746598 \r\nL 118.28482 214.721345 \r\nL 120.722167 214.736682 \r\nL 121.331503 214.734061 \r\nL 122.854845 214.733193 \r\nL 128.034206 214.675802 \r\nL 128.338874 214.746485 \r\nL 129.252879 214.47494 \r\nL 129.557548 214.48971 \r\nL 130.166884 214.721431 \r\nL 132.299562 214.724499 \r\nL 146.923641 214.750611 \r\nL 147.228309 214.336131 \r\nL 147.532978 214.717453 \r\nL 149.970324 214.747306 \r\nL 151.188997 214.718979 \r\nL 164.899071 214.604022 \r\nL 165.203739 214.480512 \r\nL 165.508408 214.682707 \r\nL 167.336417 214.749272 \r\nL 168.555091 214.710656 \r\nL 169.469096 214.734745 \r\nL 171.297105 214.739246 \r\nL 182.569833 214.710027 \r\nL 182.874501 214.430763 \r\nL 183.179169 214.650537 \r\nL 187.139857 214.718125 \r\nL 188.967867 214.724129 \r\nL 191.709882 214.718053 \r\nL 195.975238 214.73313 \r\nL 198.107916 214.67497 \r\nL 199.021921 214.741624 \r\nL 200.545263 214.719899 \r\nL 200.849931 214.552162 \r\nL 201.154599 214.71656 \r\nL 202.677941 214.749873 \r\nL 208.771307 214.744291 \r\nL 209.380643 214.749311 \r\nL 210.294648 214.747267 \r\nL 212.427326 214.740377 \r\nL 214.560005 214.731713 \r\nL 215.169341 214.736432 \r\nL 224.004722 214.724169 \r\nL 225.832732 214.720937 \r\nL 236.191454 214.752255 \r\nL 236.496123 214.65664 \r\nL 237.105459 214.742243 \r\nL 245.026835 214.72084 \r\nL 245.636172 214.669614 \r\nL 246.550177 214.724641 \r\nL 248.682855 214.716647 \r\nL 250.206196 214.724169 \r\nL 252.034206 214.74764 \r\nL 259.346245 214.685043 \r\nL 259.955582 214.751046 \r\nL 260.564919 214.725943 \r\nL 263.306933 214.741042 \r\nL 267.267621 214.711848 \r\nL 268.790963 214.751036 \r\nL 270.009636 214.731222 \r\nL 273.056319 214.71656 \r\nL 273.360987 214.552162 \r\nL 273.665656 214.719899 \r\nL 275.188997 214.741624 \r\nL 276.712339 214.742299 \r\nL 279.149685 214.743335 \r\nL 287.071061 214.718125 \r\nL 287.985066 214.723898 \r\nL 289.203739 214.735942 \r\nL 291.031749 214.650537 \r\nL 291.336417 214.430763 \r\nL 291.641086 214.710027 \r\nL 293.164427 214.739787 \r\nL 294.3831 214.719913 \r\nL 296.21111 214.741978 \r\nL 296.820447 214.685696 \r\nL 298.648457 214.739597 \r\nL 301.085803 214.73804 \r\nL 303.218481 214.694057 \r\nL 303.827818 214.674477 \r\nL 304.437154 214.718882 \r\nL 306.874501 214.749272 \r\nL 307.483838 214.727074 \r\nL 309.311847 214.604022 \r\nL 310.225852 214.7275 \r\nL 311.139857 214.700107 \r\nL 312.053862 214.710051 \r\nL 314.491209 214.739709 \r\nL 315.405213 214.704313 \r\nL 326.677941 214.717453 \r\nL 326.982609 214.336131 \r\nL 327.287277 214.750611 \r\nL 327.896614 214.726777 \r\nL 338.255336 214.75378 \r\nL 339.169341 214.719046 \r\nL 341.302019 214.726661 \r\nL 344.348702 214.661465 \r\nL 344.653371 214.48971 \r\nL 344.958039 214.47494 \r\nL 345.262707 214.662288 \r\nL 345.567376 214.64875 \r\nL 345.872044 214.746485 \r\nL 346.481381 214.706908 \r\nL 347.395385 214.739193 \r\nL 348.30939 214.748714 \r\nL 359.582118 214.720334 \r\nL 361.105459 214.726011 \r\nL 361.714796 214.606615 \r\nL 363.542806 214.721047 \r\nL 369.026835 214.741954 \r\nL 370.550177 214.70313 \r\nL 373.901528 214.738586 \r\nL 374.510865 214.719498 \r\nL 375.120201 214.704365 \r\nL 379.690226 214.55903 \r\nL 379.994894 214.475018 \r\nL 380.299562 214.163907 \r\nL 380.604231 213.467503 \r\nL 380.908899 214.399236 \r\nL 381.213567 214.594643 \r\nL 381.822904 214.626899 \r\nL 382.736909 214.694129 \r\nL 384.26025 214.71449 \r\nL 385.783592 214.680745 \r\nL 387.91627 214.739552 \r\nL 389.134943 214.71639 \r\nL 389.134943 214.71639 \r\n\" style=\"fill:none;stroke:#1f77b4;stroke-linecap:square;stroke-width:1.5;\"/>\r\n   </g>\r\n   <g id=\"patch_3\">\r\n    <path d=\"M 69.553125 224.64 \r\nL 69.553125 7.2 \r\n\" style=\"fill:none;stroke:#000000;stroke-linecap:square;stroke-linejoin:miter;stroke-width:0.8;\"/>\r\n   </g>\r\n   <g id=\"patch_4\">\r\n    <path d=\"M 404.353125 224.64 \r\nL 404.353125 7.2 \r\n\" style=\"fill:none;stroke:#000000;stroke-linecap:square;stroke-linejoin:miter;stroke-width:0.8;\"/>\r\n   </g>\r\n   <g id=\"patch_5\">\r\n    <path d=\"M 69.553125 224.64 \r\nL 404.353125 224.64 \r\n\" style=\"fill:none;stroke:#000000;stroke-linecap:square;stroke-linejoin:miter;stroke-width:0.8;\"/>\r\n   </g>\r\n   <g id=\"patch_6\">\r\n    <path d=\"M 69.553125 7.2 \r\nL 404.353125 7.2 \r\n\" style=\"fill:none;stroke:#000000;stroke-linecap:square;stroke-linejoin:miter;stroke-width:0.8;\"/>\r\n   </g>\r\n  </g>\r\n </g>\r\n <defs>\r\n  <clipPath id=\"pe10a5cc9ae\">\r\n   <rect height=\"217.44\" width=\"334.8\" x=\"69.553125\" y=\"7.2\"/>\r\n  </clipPath>\r\n </defs>\r\n</svg>\r\n",
      "image/png": "[encoded data removed]"
     },
     "metadata": {
      "needs_background": "light"
     }
    }
   ],
   "metadata": {}
  },
  {
   "cell_type": "markdown",
   "source": [
    "# Forced Vibration"
   ],
   "metadata": {}
  },
  {
   "cell_type": "code",
   "execution_count": 37,
   "source": [
    "vibration48_data = vibration1_df['vibration48']\r\n",
    "vibration48_data"
   ],
   "outputs": [
    {
     "output_type": "execute_result",
     "data": {
      "text/plain": [
       "     Accelerometer  Strain Gauge Data   Time\n",
       "0         2.139563          -0.000101  0.000\n",
       "1         2.094152          -0.000102  0.001\n",
       "2         2.045581          -0.000102  0.002\n",
       "3         1.991692          -0.000103  0.003\n",
       "4         1.929827          -0.000103  0.004\n",
       "..             ...                ...    ...\n",
       "995       0.740420          -0.000039  0.995\n",
       "996       0.815481          -0.000041  0.996\n",
       "997       0.887808          -0.000044  0.997\n",
       "998       0.957037          -0.000046  0.998\n",
       "999       1.024793          -0.000047  0.999\n",
       "\n",
       "[1000 rows x 3 columns]"
      ],
      "text/html": [
       "<div>\n",
       "<style scoped>\n",
       "    .dataframe tbody tr th:only-of-type {\n",
       "        vertical-align: middle;\n",
       "    }\n",
       "\n",
       "    .dataframe tbody tr th {\n",
       "        vertical-align: top;\n",
       "    }\n",
       "\n",
       "    .dataframe thead th {\n",
       "        text-align: right;\n",
       "    }\n",
       "</style>\n",
       "<table border=\"1\" class=\"dataframe\">\n",
       "  <thead>\n",
       "    <tr style=\"text-align: right;\">\n",
       "      <th></th>\n",
       "      <th>Accelerometer</th>\n",
       "      <th>Strain Gauge Data</th>\n",
       "      <th>Time</th>\n",
       "    </tr>\n",
       "  </thead>\n",
       "  <tbody>\n",
       "    <tr>\n",
       "      <th>0</th>\n",
       "      <td>2.139563</td>\n",
       "      <td>-0.000101</td>\n",
       "      <td>0.000</td>\n",
       "    </tr>\n",
       "    <tr>\n",
       "      <th>1</th>\n",
       "      <td>2.094152</td>\n",
       "      <td>-0.000102</td>\n",
       "      <td>0.001</td>\n",
       "    </tr>\n",
       "    <tr>\n",
       "      <th>2</th>\n",
       "      <td>2.045581</td>\n",
       "      <td>-0.000102</td>\n",
       "      <td>0.002</td>\n",
       "    </tr>\n",
       "    <tr>\n",
       "      <th>3</th>\n",
       "      <td>1.991692</td>\n",
       "      <td>-0.000103</td>\n",
       "      <td>0.003</td>\n",
       "    </tr>\n",
       "    <tr>\n",
       "      <th>4</th>\n",
       "      <td>1.929827</td>\n",
       "      <td>-0.000103</td>\n",
       "      <td>0.004</td>\n",
       "    </tr>\n",
       "    <tr>\n",
       "      <th>...</th>\n",
       "      <td>...</td>\n",
       "      <td>...</td>\n",
       "      <td>...</td>\n",
       "    </tr>\n",
       "    <tr>\n",
       "      <th>995</th>\n",
       "      <td>0.740420</td>\n",
       "      <td>-0.000039</td>\n",
       "      <td>0.995</td>\n",
       "    </tr>\n",
       "    <tr>\n",
       "      <th>996</th>\n",
       "      <td>0.815481</td>\n",
       "      <td>-0.000041</td>\n",
       "      <td>0.996</td>\n",
       "    </tr>\n",
       "    <tr>\n",
       "      <th>997</th>\n",
       "      <td>0.887808</td>\n",
       "      <td>-0.000044</td>\n",
       "      <td>0.997</td>\n",
       "    </tr>\n",
       "    <tr>\n",
       "      <th>998</th>\n",
       "      <td>0.957037</td>\n",
       "      <td>-0.000046</td>\n",
       "      <td>0.998</td>\n",
       "    </tr>\n",
       "    <tr>\n",
       "      <th>999</th>\n",
       "      <td>1.024793</td>\n",
       "      <td>-0.000047</td>\n",
       "      <td>0.999</td>\n",
       "    </tr>\n",
       "  </tbody>\n",
       "</table>\n",
       "<p>1000 rows × 3 columns</p>\n",
       "</div>"
      ]
     },
     "metadata": {},
     "execution_count": 37
    }
   ],
   "metadata": {}
  },
  {
   "cell_type": "code",
   "execution_count": 58,
   "source": [
    "b3 = 0.025\r\n",
    "h3 = 0.0035\r\n",
    "l3 = 1\r\n",
    "E =  69*pow(10,9)\r\n",
    "I3 = ((b3*np.power(h3,3))/12)\r\n",
    "A3 = b3*h3\r\n",
    "rho3 = 2700"
   ],
   "outputs": [],
   "metadata": {}
  },
  {
   "cell_type": "code",
   "execution_count": 59,
   "source": [
    "w03 = np.power((1.875/l3),2)*np.sqrt((E*I3)/(rho3*A3))\r\n",
    "w13 = np.power((4.694/l3),2)*np.sqrt((E*I3)/(rho3*A3))\r\n",
    "w23 = np.power((7.85/l3),2)*np.sqrt((E*I3)/(rho3*A3))\r\n",
    "w33 = np.power((10.995/l3),2)*np.sqrt((E*I3)/(rho3*A3))"
   ],
   "outputs": [],
   "metadata": {}
  },
  {
   "cell_type": "code",
   "execution_count": 60,
   "source": [
    "print(f\"I3 = {I3}\\nA3 = {A3}\\nrho = {rho3}\\nw03 = {w03}\\nw13 = {w13}\\nw23 = {w23}\\nw33 = {w33}\")"
   ],
   "outputs": [
    {
     "output_type": "stream",
     "name": "stdout",
     "text": [
      "I3 = 8.932291666666668e-11\n",
      "A3 = 8.750000000000001e-05\n",
      "rho = 2700\n",
      "w03 = 17.956538819520677\n",
      "w13 = 112.53983009256912\n",
      "w23 = 314.74540470212634\n",
      "w33 = 617.4624502912924\n"
     ]
    }
   ],
   "metadata": {}
  },
  {
   "cell_type": "code",
   "execution_count": 41,
   "source": [
    "plt.grid();\r\n",
    "plt.plot(vibration48_data['Time'],vibration48_data['Accelerometer']);plt.xlabel('Time [s]');plt.ylabel('Acceleration [m/s2]');"
   ],
   "outputs": [
    {
     "output_type": "display_data",
     "data": {
      "text/plain": [
       "<Figure size 432x288 with 1 Axes>"
      ],
      "image/svg+xml": "<?xml version=\"1.0\" encoding=\"utf-8\" standalone=\"no\"?>\r\n<!DOCTYPE svg PUBLIC \"-//W3C//DTD SVG 1.1//EN\"\r\n  \"http://www.w3.org/Graphics/SVG/1.1/DTD/svg11.dtd\">\r\n<svg height=\"262.19625pt\" version=\"1.1\" viewBox=\"0 0 384.620313 262.19625\" width=\"384.620313pt\" xmlns=\"http://www.w3.org/2000/svg\" xmlns:xlink=\"http://www.w3.org/1999/xlink\">\r\n <metadata>\r\n  <rdf:RDF xmlns:cc=\"http://creativecommons.org/ns#\" xmlns:dc=\"http://purl.org/dc/elements/1.1/\" xmlns:rdf=\"http://www.w3.org/1999/02/22-rdf-syntax-ns#\">\r\n   <cc:Work>\r\n    <dc:type rdf:resource=\"http://purl.org/dc/dcmitype/StillImage\"/>\r\n    <dc:date>2021-08-27T14:06:50.528770</dc:date>\r\n    <dc:format>image/svg+xml</dc:format>\r\n    <dc:creator>\r\n     <cc:Agent>\r\n      <dc:title>Matplotlib v3.4.2, https://matplotlib.org/</dc:title>\r\n     </cc:Agent>\r\n    </dc:creator>\r\n   </cc:Work>\r\n  </rdf:RDF>\r\n </metadata>\r\n <defs>\r\n  <style type=\"text/css\">*{stroke-linecap:butt;stroke-linejoin:round;}</style>\r\n </defs>\r\n <g id=\"figure_1\">\r\n  <g id=\"patch_1\">\r\n   <path d=\"M 0 262.19625 \r\nL 384.620313 262.19625 \r\nL 384.620313 0 \r\nL 0 0 \r\nz\r\n\" style=\"fill:none;\"/>\r\n  </g>\r\n  <g id=\"axes_1\">\r\n   <g id=\"patch_2\">\r\n    <path d=\"M 42.620313 224.64 \r\nL 377.420313 224.64 \r\nL 377.420313 7.2 \r\nL 42.620313 7.2 \r\nz\r\n\" style=\"fill:#ffffff;\"/>\r\n   </g>\r\n   <g id=\"matplotlib.axis_1\">\r\n    <g id=\"xtick_1\">\r\n     <g id=\"line2d_1\">\r\n      <path clip-path=\"url(#p093ea2901a)\" d=\"M 57.838494 224.64 \r\nL 57.838494 7.2 \r\n\" style=\"fill:none;stroke:#b0b0b0;stroke-linecap:square;stroke-width:0.8;\"/>\r\n     </g>\r\n     <g id=\"line2d_2\">\r\n      <defs>\r\n       <path d=\"M 0 0 \r\nL 0 3.5 \r\n\" id=\"m7df26cfca4\" style=\"stroke:#000000;stroke-width:0.8;\"/>\r\n      </defs>\r\n      <g>\r\n       <use style=\"stroke:#000000;stroke-width:0.8;\" x=\"57.838494\" xlink:href=\"#m7df26cfca4\" y=\"224.64\"/>\r\n      </g>\r\n     </g>\r\n     <g id=\"text_1\">\r\n      <!-- 0.0 -->\r\n      <g transform=\"translate(49.886932 239.238437)scale(0.1 -0.1)\">\r\n       <defs>\r\n        <path d=\"M 2034 4250 \r\nQ 1547 4250 1301 3770 \r\nQ 1056 3291 1056 2328 \r\nQ 1056 1369 1301 889 \r\nQ 1547 409 2034 409 \r\nQ 2525 409 2770 889 \r\nQ 3016 1369 3016 2328 \r\nQ 3016 3291 2770 3770 \r\nQ 2525 4250 2034 4250 \r\nz\r\nM 2034 4750 \r\nQ 2819 4750 3233 4129 \r\nQ 3647 3509 3647 2328 \r\nQ 3647 1150 3233 529 \r\nQ 2819 -91 2034 -91 \r\nQ 1250 -91 836 529 \r\nQ 422 1150 422 2328 \r\nQ 422 3509 836 4129 \r\nQ 1250 4750 2034 4750 \r\nz\r\n\" id=\"DejaVuSans-30\" transform=\"scale(0.015625)\"/>\r\n        <path d=\"M 684 794 \r\nL 1344 794 \r\nL 1344 0 \r\nL 684 0 \r\nL 684 794 \r\nz\r\n\" id=\"DejaVuSans-2e\" transform=\"scale(0.015625)\"/>\r\n       </defs>\r\n       <use xlink:href=\"#DejaVuSans-30\"/>\r\n       <use x=\"63.623047\" xlink:href=\"#DejaVuSans-2e\"/>\r\n       <use x=\"95.410156\" xlink:href=\"#DejaVuSans-30\"/>\r\n      </g>\r\n     </g>\r\n    </g>\r\n    <g id=\"xtick_2\">\r\n     <g id=\"line2d_3\">\r\n      <path clip-path=\"url(#p093ea2901a)\" d=\"M 118.772155 224.64 \r\nL 118.772155 7.2 \r\n\" style=\"fill:none;stroke:#b0b0b0;stroke-linecap:square;stroke-width:0.8;\"/>\r\n     </g>\r\n     <g id=\"line2d_4\">\r\n      <g>\r\n       <use style=\"stroke:#000000;stroke-width:0.8;\" x=\"118.772155\" xlink:href=\"#m7df26cfca4\" y=\"224.64\"/>\r\n      </g>\r\n     </g>\r\n     <g id=\"text_2\">\r\n      <!-- 0.2 -->\r\n      <g transform=\"translate(110.820593 239.238437)scale(0.1 -0.1)\">\r\n       <defs>\r\n        <path d=\"M 1228 531 \r\nL 3431 531 \r\nL 3431 0 \r\nL 469 0 \r\nL 469 531 \r\nQ 828 903 1448 1529 \r\nQ 2069 2156 2228 2338 \r\nQ 2531 2678 2651 2914 \r\nQ 2772 3150 2772 3378 \r\nQ 2772 3750 2511 3984 \r\nQ 2250 4219 1831 4219 \r\nQ 1534 4219 1204 4116 \r\nQ 875 4013 500 3803 \r\nL 500 4441 \r\nQ 881 4594 1212 4672 \r\nQ 1544 4750 1819 4750 \r\nQ 2544 4750 2975 4387 \r\nQ 3406 4025 3406 3419 \r\nQ 3406 3131 3298 2873 \r\nQ 3191 2616 2906 2266 \r\nQ 2828 2175 2409 1742 \r\nQ 1991 1309 1228 531 \r\nz\r\n\" id=\"DejaVuSans-32\" transform=\"scale(0.015625)\"/>\r\n       </defs>\r\n       <use xlink:href=\"#DejaVuSans-30\"/>\r\n       <use x=\"63.623047\" xlink:href=\"#DejaVuSans-2e\"/>\r\n       <use x=\"95.410156\" xlink:href=\"#DejaVuSans-32\"/>\r\n      </g>\r\n     </g>\r\n    </g>\r\n    <g id=\"xtick_3\">\r\n     <g id=\"line2d_5\">\r\n      <path clip-path=\"url(#p093ea2901a)\" d=\"M 179.705816 224.64 \r\nL 179.705816 7.2 \r\n\" style=\"fill:none;stroke:#b0b0b0;stroke-linecap:square;stroke-width:0.8;\"/>\r\n     </g>\r\n     <g id=\"line2d_6\">\r\n      <g>\r\n       <use style=\"stroke:#000000;stroke-width:0.8;\" x=\"179.705816\" xlink:href=\"#m7df26cfca4\" y=\"224.64\"/>\r\n      </g>\r\n     </g>\r\n     <g id=\"text_3\">\r\n      <!-- 0.4 -->\r\n      <g transform=\"translate(171.754254 239.238437)scale(0.1 -0.1)\">\r\n       <defs>\r\n        <path d=\"M 2419 4116 \r\nL 825 1625 \r\nL 2419 1625 \r\nL 2419 4116 \r\nz\r\nM 2253 4666 \r\nL 3047 4666 \r\nL 3047 1625 \r\nL 3713 1625 \r\nL 3713 1100 \r\nL 3047 1100 \r\nL 3047 0 \r\nL 2419 0 \r\nL 2419 1100 \r\nL 313 1100 \r\nL 313 1709 \r\nL 2253 4666 \r\nz\r\n\" id=\"DejaVuSans-34\" transform=\"scale(0.015625)\"/>\r\n       </defs>\r\n       <use xlink:href=\"#DejaVuSans-30\"/>\r\n       <use x=\"63.623047\" xlink:href=\"#DejaVuSans-2e\"/>\r\n       <use x=\"95.410156\" xlink:href=\"#DejaVuSans-34\"/>\r\n      </g>\r\n     </g>\r\n    </g>\r\n    <g id=\"xtick_4\">\r\n     <g id=\"line2d_7\">\r\n      <path clip-path=\"url(#p093ea2901a)\" d=\"M 240.639477 224.64 \r\nL 240.639477 7.2 \r\n\" style=\"fill:none;stroke:#b0b0b0;stroke-linecap:square;stroke-width:0.8;\"/>\r\n     </g>\r\n     <g id=\"line2d_8\">\r\n      <g>\r\n       <use style=\"stroke:#000000;stroke-width:0.8;\" x=\"240.639477\" xlink:href=\"#m7df26cfca4\" y=\"224.64\"/>\r\n      </g>\r\n     </g>\r\n     <g id=\"text_4\">\r\n      <!-- 0.6 -->\r\n      <g transform=\"translate(232.687915 239.238437)scale(0.1 -0.1)\">\r\n       <defs>\r\n        <path d=\"M 2113 2584 \r\nQ 1688 2584 1439 2293 \r\nQ 1191 2003 1191 1497 \r\nQ 1191 994 1439 701 \r\nQ 1688 409 2113 409 \r\nQ 2538 409 2786 701 \r\nQ 3034 994 3034 1497 \r\nQ 3034 2003 2786 2293 \r\nQ 2538 2584 2113 2584 \r\nz\r\nM 3366 4563 \r\nL 3366 3988 \r\nQ 3128 4100 2886 4159 \r\nQ 2644 4219 2406 4219 \r\nQ 1781 4219 1451 3797 \r\nQ 1122 3375 1075 2522 \r\nQ 1259 2794 1537 2939 \r\nQ 1816 3084 2150 3084 \r\nQ 2853 3084 3261 2657 \r\nQ 3669 2231 3669 1497 \r\nQ 3669 778 3244 343 \r\nQ 2819 -91 2113 -91 \r\nQ 1303 -91 875 529 \r\nQ 447 1150 447 2328 \r\nQ 447 3434 972 4092 \r\nQ 1497 4750 2381 4750 \r\nQ 2619 4750 2861 4703 \r\nQ 3103 4656 3366 4563 \r\nz\r\n\" id=\"DejaVuSans-36\" transform=\"scale(0.015625)\"/>\r\n       </defs>\r\n       <use xlink:href=\"#DejaVuSans-30\"/>\r\n       <use x=\"63.623047\" xlink:href=\"#DejaVuSans-2e\"/>\r\n       <use x=\"95.410156\" xlink:href=\"#DejaVuSans-36\"/>\r\n      </g>\r\n     </g>\r\n    </g>\r\n    <g id=\"xtick_5\">\r\n     <g id=\"line2d_9\">\r\n      <path clip-path=\"url(#p093ea2901a)\" d=\"M 301.573138 224.64 \r\nL 301.573138 7.2 \r\n\" style=\"fill:none;stroke:#b0b0b0;stroke-linecap:square;stroke-width:0.8;\"/>\r\n     </g>\r\n     <g id=\"line2d_10\">\r\n      <g>\r\n       <use style=\"stroke:#000000;stroke-width:0.8;\" x=\"301.573138\" xlink:href=\"#m7df26cfca4\" y=\"224.64\"/>\r\n      </g>\r\n     </g>\r\n     <g id=\"text_5\">\r\n      <!-- 0.8 -->\r\n      <g transform=\"translate(293.621576 239.238437)scale(0.1 -0.1)\">\r\n       <defs>\r\n        <path d=\"M 2034 2216 \r\nQ 1584 2216 1326 1975 \r\nQ 1069 1734 1069 1313 \r\nQ 1069 891 1326 650 \r\nQ 1584 409 2034 409 \r\nQ 2484 409 2743 651 \r\nQ 3003 894 3003 1313 \r\nQ 3003 1734 2745 1975 \r\nQ 2488 2216 2034 2216 \r\nz\r\nM 1403 2484 \r\nQ 997 2584 770 2862 \r\nQ 544 3141 544 3541 \r\nQ 544 4100 942 4425 \r\nQ 1341 4750 2034 4750 \r\nQ 2731 4750 3128 4425 \r\nQ 3525 4100 3525 3541 \r\nQ 3525 3141 3298 2862 \r\nQ 3072 2584 2669 2484 \r\nQ 3125 2378 3379 2068 \r\nQ 3634 1759 3634 1313 \r\nQ 3634 634 3220 271 \r\nQ 2806 -91 2034 -91 \r\nQ 1263 -91 848 271 \r\nQ 434 634 434 1313 \r\nQ 434 1759 690 2068 \r\nQ 947 2378 1403 2484 \r\nz\r\nM 1172 3481 \r\nQ 1172 3119 1398 2916 \r\nQ 1625 2713 2034 2713 \r\nQ 2441 2713 2670 2916 \r\nQ 2900 3119 2900 3481 \r\nQ 2900 3844 2670 4047 \r\nQ 2441 4250 2034 4250 \r\nQ 1625 4250 1398 4047 \r\nQ 1172 3844 1172 3481 \r\nz\r\n\" id=\"DejaVuSans-38\" transform=\"scale(0.015625)\"/>\r\n       </defs>\r\n       <use xlink:href=\"#DejaVuSans-30\"/>\r\n       <use x=\"63.623047\" xlink:href=\"#DejaVuSans-2e\"/>\r\n       <use x=\"95.410156\" xlink:href=\"#DejaVuSans-38\"/>\r\n      </g>\r\n     </g>\r\n    </g>\r\n    <g id=\"xtick_6\">\r\n     <g id=\"line2d_11\">\r\n      <path clip-path=\"url(#p093ea2901a)\" d=\"M 362.506799 224.64 \r\nL 362.506799 7.2 \r\n\" style=\"fill:none;stroke:#b0b0b0;stroke-linecap:square;stroke-width:0.8;\"/>\r\n     </g>\r\n     <g id=\"line2d_12\">\r\n      <g>\r\n       <use style=\"stroke:#000000;stroke-width:0.8;\" x=\"362.506799\" xlink:href=\"#m7df26cfca4\" y=\"224.64\"/>\r\n      </g>\r\n     </g>\r\n     <g id=\"text_6\">\r\n      <!-- 1.0 -->\r\n      <g transform=\"translate(354.555236 239.238437)scale(0.1 -0.1)\">\r\n       <defs>\r\n        <path d=\"M 794 531 \r\nL 1825 531 \r\nL 1825 4091 \r\nL 703 3866 \r\nL 703 4441 \r\nL 1819 4666 \r\nL 2450 4666 \r\nL 2450 531 \r\nL 3481 531 \r\nL 3481 0 \r\nL 794 0 \r\nL 794 531 \r\nz\r\n\" id=\"DejaVuSans-31\" transform=\"scale(0.015625)\"/>\r\n       </defs>\r\n       <use xlink:href=\"#DejaVuSans-31\"/>\r\n       <use x=\"63.623047\" xlink:href=\"#DejaVuSans-2e\"/>\r\n       <use x=\"95.410156\" xlink:href=\"#DejaVuSans-30\"/>\r\n      </g>\r\n     </g>\r\n    </g>\r\n    <g id=\"text_7\">\r\n     <!-- Time [s] -->\r\n     <g transform=\"translate(189.691406 252.916562)scale(0.1 -0.1)\">\r\n      <defs>\r\n       <path d=\"M -19 4666 \r\nL 3928 4666 \r\nL 3928 4134 \r\nL 2272 4134 \r\nL 2272 0 \r\nL 1638 0 \r\nL 1638 4134 \r\nL -19 4134 \r\nL -19 4666 \r\nz\r\n\" id=\"DejaVuSans-54\" transform=\"scale(0.015625)\"/>\r\n       <path d=\"M 603 3500 \r\nL 1178 3500 \r\nL 1178 0 \r\nL 603 0 \r\nL 603 3500 \r\nz\r\nM 603 4863 \r\nL 1178 4863 \r\nL 1178 4134 \r\nL 603 4134 \r\nL 603 4863 \r\nz\r\n\" id=\"DejaVuSans-69\" transform=\"scale(0.015625)\"/>\r\n       <path d=\"M 3328 2828 \r\nQ 3544 3216 3844 3400 \r\nQ 4144 3584 4550 3584 \r\nQ 5097 3584 5394 3201 \r\nQ 5691 2819 5691 2113 \r\nL 5691 0 \r\nL 5113 0 \r\nL 5113 2094 \r\nQ 5113 2597 4934 2840 \r\nQ 4756 3084 4391 3084 \r\nQ 3944 3084 3684 2787 \r\nQ 3425 2491 3425 1978 \r\nL 3425 0 \r\nL 2847 0 \r\nL 2847 2094 \r\nQ 2847 2600 2669 2842 \r\nQ 2491 3084 2119 3084 \r\nQ 1678 3084 1418 2786 \r\nQ 1159 2488 1159 1978 \r\nL 1159 0 \r\nL 581 0 \r\nL 581 3500 \r\nL 1159 3500 \r\nL 1159 2956 \r\nQ 1356 3278 1631 3431 \r\nQ 1906 3584 2284 3584 \r\nQ 2666 3584 2933 3390 \r\nQ 3200 3197 3328 2828 \r\nz\r\n\" id=\"DejaVuSans-6d\" transform=\"scale(0.015625)\"/>\r\n       <path d=\"M 3597 1894 \r\nL 3597 1613 \r\nL 953 1613 \r\nQ 991 1019 1311 708 \r\nQ 1631 397 2203 397 \r\nQ 2534 397 2845 478 \r\nQ 3156 559 3463 722 \r\nL 3463 178 \r\nQ 3153 47 2828 -22 \r\nQ 2503 -91 2169 -91 \r\nQ 1331 -91 842 396 \r\nQ 353 884 353 1716 \r\nQ 353 2575 817 3079 \r\nQ 1281 3584 2069 3584 \r\nQ 2775 3584 3186 3129 \r\nQ 3597 2675 3597 1894 \r\nz\r\nM 3022 2063 \r\nQ 3016 2534 2758 2815 \r\nQ 2500 3097 2075 3097 \r\nQ 1594 3097 1305 2825 \r\nQ 1016 2553 972 2059 \r\nL 3022 2063 \r\nz\r\n\" id=\"DejaVuSans-65\" transform=\"scale(0.015625)\"/>\r\n       <path id=\"DejaVuSans-20\" transform=\"scale(0.015625)\"/>\r\n       <path d=\"M 550 4863 \r\nL 1875 4863 \r\nL 1875 4416 \r\nL 1125 4416 \r\nL 1125 -397 \r\nL 1875 -397 \r\nL 1875 -844 \r\nL 550 -844 \r\nL 550 4863 \r\nz\r\n\" id=\"DejaVuSans-5b\" transform=\"scale(0.015625)\"/>\r\n       <path d=\"M 2834 3397 \r\nL 2834 2853 \r\nQ 2591 2978 2328 3040 \r\nQ 2066 3103 1784 3103 \r\nQ 1356 3103 1142 2972 \r\nQ 928 2841 928 2578 \r\nQ 928 2378 1081 2264 \r\nQ 1234 2150 1697 2047 \r\nL 1894 2003 \r\nQ 2506 1872 2764 1633 \r\nQ 3022 1394 3022 966 \r\nQ 3022 478 2636 193 \r\nQ 2250 -91 1575 -91 \r\nQ 1294 -91 989 -36 \r\nQ 684 19 347 128 \r\nL 347 722 \r\nQ 666 556 975 473 \r\nQ 1284 391 1588 391 \r\nQ 1994 391 2212 530 \r\nQ 2431 669 2431 922 \r\nQ 2431 1156 2273 1281 \r\nQ 2116 1406 1581 1522 \r\nL 1381 1569 \r\nQ 847 1681 609 1914 \r\nQ 372 2147 372 2553 \r\nQ 372 3047 722 3315 \r\nQ 1072 3584 1716 3584 \r\nQ 2034 3584 2315 3537 \r\nQ 2597 3491 2834 3397 \r\nz\r\n\" id=\"DejaVuSans-73\" transform=\"scale(0.015625)\"/>\r\n       <path d=\"M 1947 4863 \r\nL 1947 -844 \r\nL 622 -844 \r\nL 622 -397 \r\nL 1369 -397 \r\nL 1369 4416 \r\nL 622 4416 \r\nL 622 4863 \r\nL 1947 4863 \r\nz\r\n\" id=\"DejaVuSans-5d\" transform=\"scale(0.015625)\"/>\r\n      </defs>\r\n      <use xlink:href=\"#DejaVuSans-54\"/>\r\n      <use x=\"57.958984\" xlink:href=\"#DejaVuSans-69\"/>\r\n      <use x=\"85.742188\" xlink:href=\"#DejaVuSans-6d\"/>\r\n      <use x=\"183.154297\" xlink:href=\"#DejaVuSans-65\"/>\r\n      <use x=\"244.677734\" xlink:href=\"#DejaVuSans-20\"/>\r\n      <use x=\"276.464844\" xlink:href=\"#DejaVuSans-5b\"/>\r\n      <use x=\"315.478516\" xlink:href=\"#DejaVuSans-73\"/>\r\n      <use x=\"367.578125\" xlink:href=\"#DejaVuSans-5d\"/>\r\n     </g>\r\n    </g>\r\n   </g>\r\n   <g id=\"matplotlib.axis_2\">\r\n    <g id=\"ytick_1\">\r\n     <g id=\"line2d_13\">\r\n      <path clip-path=\"url(#p093ea2901a)\" d=\"M 42.620313 193.01203 \r\nL 377.420313 193.01203 \r\n\" style=\"fill:none;stroke:#b0b0b0;stroke-linecap:square;stroke-width:0.8;\"/>\r\n     </g>\r\n     <g id=\"line2d_14\">\r\n      <defs>\r\n       <path d=\"M 0 0 \r\nL -3.5 0 \r\n\" id=\"m908489dc7b\" style=\"stroke:#000000;stroke-width:0.8;\"/>\r\n      </defs>\r\n      <g>\r\n       <use style=\"stroke:#000000;stroke-width:0.8;\" x=\"42.620313\" xlink:href=\"#m908489dc7b\" y=\"193.01203\"/>\r\n      </g>\r\n     </g>\r\n     <g id=\"text_8\">\r\n      <!-- −2 -->\r\n      <g transform=\"translate(20.878125 196.811249)scale(0.1 -0.1)\">\r\n       <defs>\r\n        <path d=\"M 678 2272 \r\nL 4684 2272 \r\nL 4684 1741 \r\nL 678 1741 \r\nL 678 2272 \r\nz\r\n\" id=\"DejaVuSans-2212\" transform=\"scale(0.015625)\"/>\r\n       </defs>\r\n       <use xlink:href=\"#DejaVuSans-2212\"/>\r\n       <use x=\"83.789062\" xlink:href=\"#DejaVuSans-32\"/>\r\n      </g>\r\n     </g>\r\n    </g>\r\n    <g id=\"ytick_2\">\r\n     <g id=\"line2d_15\">\r\n      <path clip-path=\"url(#p093ea2901a)\" d=\"M 42.620313 151.309244 \r\nL 377.420313 151.309244 \r\n\" style=\"fill:none;stroke:#b0b0b0;stroke-linecap:square;stroke-width:0.8;\"/>\r\n     </g>\r\n     <g id=\"line2d_16\">\r\n      <g>\r\n       <use style=\"stroke:#000000;stroke-width:0.8;\" x=\"42.620313\" xlink:href=\"#m908489dc7b\" y=\"151.309244\"/>\r\n      </g>\r\n     </g>\r\n     <g id=\"text_9\">\r\n      <!-- −1 -->\r\n      <g transform=\"translate(20.878125 155.108463)scale(0.1 -0.1)\">\r\n       <use xlink:href=\"#DejaVuSans-2212\"/>\r\n       <use x=\"83.789062\" xlink:href=\"#DejaVuSans-31\"/>\r\n      </g>\r\n     </g>\r\n    </g>\r\n    <g id=\"ytick_3\">\r\n     <g id=\"line2d_17\">\r\n      <path clip-path=\"url(#p093ea2901a)\" d=\"M 42.620313 109.606458 \r\nL 377.420313 109.606458 \r\n\" style=\"fill:none;stroke:#b0b0b0;stroke-linecap:square;stroke-width:0.8;\"/>\r\n     </g>\r\n     <g id=\"line2d_18\">\r\n      <g>\r\n       <use style=\"stroke:#000000;stroke-width:0.8;\" x=\"42.620313\" xlink:href=\"#m908489dc7b\" y=\"109.606458\"/>\r\n      </g>\r\n     </g>\r\n     <g id=\"text_10\">\r\n      <!-- 0 -->\r\n      <g transform=\"translate(29.257813 113.405676)scale(0.1 -0.1)\">\r\n       <use xlink:href=\"#DejaVuSans-30\"/>\r\n      </g>\r\n     </g>\r\n    </g>\r\n    <g id=\"ytick_4\">\r\n     <g id=\"line2d_19\">\r\n      <path clip-path=\"url(#p093ea2901a)\" d=\"M 42.620313 67.903671 \r\nL 377.420313 67.903671 \r\n\" style=\"fill:none;stroke:#b0b0b0;stroke-linecap:square;stroke-width:0.8;\"/>\r\n     </g>\r\n     <g id=\"line2d_20\">\r\n      <g>\r\n       <use style=\"stroke:#000000;stroke-width:0.8;\" x=\"42.620313\" xlink:href=\"#m908489dc7b\" y=\"67.903671\"/>\r\n      </g>\r\n     </g>\r\n     <g id=\"text_11\">\r\n      <!-- 1 -->\r\n      <g transform=\"translate(29.257813 71.70289)scale(0.1 -0.1)\">\r\n       <use xlink:href=\"#DejaVuSans-31\"/>\r\n      </g>\r\n     </g>\r\n    </g>\r\n    <g id=\"ytick_5\">\r\n     <g id=\"line2d_21\">\r\n      <path clip-path=\"url(#p093ea2901a)\" d=\"M 42.620313 26.200885 \r\nL 377.420313 26.200885 \r\n\" style=\"fill:none;stroke:#b0b0b0;stroke-linecap:square;stroke-width:0.8;\"/>\r\n     </g>\r\n     <g id=\"line2d_22\">\r\n      <g>\r\n       <use style=\"stroke:#000000;stroke-width:0.8;\" x=\"42.620313\" xlink:href=\"#m908489dc7b\" y=\"26.200885\"/>\r\n      </g>\r\n     </g>\r\n     <g id=\"text_12\">\r\n      <!-- 2 -->\r\n      <g transform=\"translate(29.257813 30.000104)scale(0.1 -0.1)\">\r\n       <use xlink:href=\"#DejaVuSans-32\"/>\r\n      </g>\r\n     </g>\r\n    </g>\r\n    <g id=\"text_13\">\r\n     <!-- Acceleration [m/s2] -->\r\n     <g transform=\"translate(14.798438 164.821562)rotate(-90)scale(0.1 -0.1)\">\r\n      <defs>\r\n       <path d=\"M 2188 4044 \r\nL 1331 1722 \r\nL 3047 1722 \r\nL 2188 4044 \r\nz\r\nM 1831 4666 \r\nL 2547 4666 \r\nL 4325 0 \r\nL 3669 0 \r\nL 3244 1197 \r\nL 1141 1197 \r\nL 716 0 \r\nL 50 0 \r\nL 1831 4666 \r\nz\r\n\" id=\"DejaVuSans-41\" transform=\"scale(0.015625)\"/>\r\n       <path d=\"M 3122 3366 \r\nL 3122 2828 \r\nQ 2878 2963 2633 3030 \r\nQ 2388 3097 2138 3097 \r\nQ 1578 3097 1268 2742 \r\nQ 959 2388 959 1747 \r\nQ 959 1106 1268 751 \r\nQ 1578 397 2138 397 \r\nQ 2388 397 2633 464 \r\nQ 2878 531 3122 666 \r\nL 3122 134 \r\nQ 2881 22 2623 -34 \r\nQ 2366 -91 2075 -91 \r\nQ 1284 -91 818 406 \r\nQ 353 903 353 1747 \r\nQ 353 2603 823 3093 \r\nQ 1294 3584 2113 3584 \r\nQ 2378 3584 2631 3529 \r\nQ 2884 3475 3122 3366 \r\nz\r\n\" id=\"DejaVuSans-63\" transform=\"scale(0.015625)\"/>\r\n       <path d=\"M 603 4863 \r\nL 1178 4863 \r\nL 1178 0 \r\nL 603 0 \r\nL 603 4863 \r\nz\r\n\" id=\"DejaVuSans-6c\" transform=\"scale(0.015625)\"/>\r\n       <path d=\"M 2631 2963 \r\nQ 2534 3019 2420 3045 \r\nQ 2306 3072 2169 3072 \r\nQ 1681 3072 1420 2755 \r\nQ 1159 2438 1159 1844 \r\nL 1159 0 \r\nL 581 0 \r\nL 581 3500 \r\nL 1159 3500 \r\nL 1159 2956 \r\nQ 1341 3275 1631 3429 \r\nQ 1922 3584 2338 3584 \r\nQ 2397 3584 2469 3576 \r\nQ 2541 3569 2628 3553 \r\nL 2631 2963 \r\nz\r\n\" id=\"DejaVuSans-72\" transform=\"scale(0.015625)\"/>\r\n       <path d=\"M 2194 1759 \r\nQ 1497 1759 1228 1600 \r\nQ 959 1441 959 1056 \r\nQ 959 750 1161 570 \r\nQ 1363 391 1709 391 \r\nQ 2188 391 2477 730 \r\nQ 2766 1069 2766 1631 \r\nL 2766 1759 \r\nL 2194 1759 \r\nz\r\nM 3341 1997 \r\nL 3341 0 \r\nL 2766 0 \r\nL 2766 531 \r\nQ 2569 213 2275 61 \r\nQ 1981 -91 1556 -91 \r\nQ 1019 -91 701 211 \r\nQ 384 513 384 1019 \r\nQ 384 1609 779 1909 \r\nQ 1175 2209 1959 2209 \r\nL 2766 2209 \r\nL 2766 2266 \r\nQ 2766 2663 2505 2880 \r\nQ 2244 3097 1772 3097 \r\nQ 1472 3097 1187 3025 \r\nQ 903 2953 641 2809 \r\nL 641 3341 \r\nQ 956 3463 1253 3523 \r\nQ 1550 3584 1831 3584 \r\nQ 2591 3584 2966 3190 \r\nQ 3341 2797 3341 1997 \r\nz\r\n\" id=\"DejaVuSans-61\" transform=\"scale(0.015625)\"/>\r\n       <path d=\"M 1172 4494 \r\nL 1172 3500 \r\nL 2356 3500 \r\nL 2356 3053 \r\nL 1172 3053 \r\nL 1172 1153 \r\nQ 1172 725 1289 603 \r\nQ 1406 481 1766 481 \r\nL 2356 481 \r\nL 2356 0 \r\nL 1766 0 \r\nQ 1100 0 847 248 \r\nQ 594 497 594 1153 \r\nL 594 3053 \r\nL 172 3053 \r\nL 172 3500 \r\nL 594 3500 \r\nL 594 4494 \r\nL 1172 4494 \r\nz\r\n\" id=\"DejaVuSans-74\" transform=\"scale(0.015625)\"/>\r\n       <path d=\"M 1959 3097 \r\nQ 1497 3097 1228 2736 \r\nQ 959 2375 959 1747 \r\nQ 959 1119 1226 758 \r\nQ 1494 397 1959 397 \r\nQ 2419 397 2687 759 \r\nQ 2956 1122 2956 1747 \r\nQ 2956 2369 2687 2733 \r\nQ 2419 3097 1959 3097 \r\nz\r\nM 1959 3584 \r\nQ 2709 3584 3137 3096 \r\nQ 3566 2609 3566 1747 \r\nQ 3566 888 3137 398 \r\nQ 2709 -91 1959 -91 \r\nQ 1206 -91 779 398 \r\nQ 353 888 353 1747 \r\nQ 353 2609 779 3096 \r\nQ 1206 3584 1959 3584 \r\nz\r\n\" id=\"DejaVuSans-6f\" transform=\"scale(0.015625)\"/>\r\n       <path d=\"M 3513 2113 \r\nL 3513 0 \r\nL 2938 0 \r\nL 2938 2094 \r\nQ 2938 2591 2744 2837 \r\nQ 2550 3084 2163 3084 \r\nQ 1697 3084 1428 2787 \r\nQ 1159 2491 1159 1978 \r\nL 1159 0 \r\nL 581 0 \r\nL 581 3500 \r\nL 1159 3500 \r\nL 1159 2956 \r\nQ 1366 3272 1645 3428 \r\nQ 1925 3584 2291 3584 \r\nQ 2894 3584 3203 3211 \r\nQ 3513 2838 3513 2113 \r\nz\r\n\" id=\"DejaVuSans-6e\" transform=\"scale(0.015625)\"/>\r\n       <path d=\"M 1625 4666 \r\nL 2156 4666 \r\nL 531 -594 \r\nL 0 -594 \r\nL 1625 4666 \r\nz\r\n\" id=\"DejaVuSans-2f\" transform=\"scale(0.015625)\"/>\r\n      </defs>\r\n      <use xlink:href=\"#DejaVuSans-41\"/>\r\n      <use x=\"66.658203\" xlink:href=\"#DejaVuSans-63\"/>\r\n      <use x=\"121.638672\" xlink:href=\"#DejaVuSans-63\"/>\r\n      <use x=\"176.619141\" xlink:href=\"#DejaVuSans-65\"/>\r\n      <use x=\"238.142578\" xlink:href=\"#DejaVuSans-6c\"/>\r\n      <use x=\"265.925781\" xlink:href=\"#DejaVuSans-65\"/>\r\n      <use x=\"327.449219\" xlink:href=\"#DejaVuSans-72\"/>\r\n      <use x=\"368.5625\" xlink:href=\"#DejaVuSans-61\"/>\r\n      <use x=\"429.841797\" xlink:href=\"#DejaVuSans-74\"/>\r\n      <use x=\"469.050781\" xlink:href=\"#DejaVuSans-69\"/>\r\n      <use x=\"496.833984\" xlink:href=\"#DejaVuSans-6f\"/>\r\n      <use x=\"558.015625\" xlink:href=\"#DejaVuSans-6e\"/>\r\n      <use x=\"621.394531\" xlink:href=\"#DejaVuSans-20\"/>\r\n      <use x=\"653.181641\" xlink:href=\"#DejaVuSans-5b\"/>\r\n      <use x=\"692.195312\" xlink:href=\"#DejaVuSans-6d\"/>\r\n      <use x=\"789.607422\" xlink:href=\"#DejaVuSans-2f\"/>\r\n      <use x=\"823.298828\" xlink:href=\"#DejaVuSans-73\"/>\r\n      <use x=\"875.398438\" xlink:href=\"#DejaVuSans-32\"/>\r\n      <use x=\"939.021484\" xlink:href=\"#DejaVuSans-5d\"/>\r\n     </g>\r\n    </g>\r\n   </g>\r\n   <g id=\"line2d_23\">\r\n    <path clip-path=\"url(#p093ea2901a)\" d=\"M 57.838494 20.380723 \r\nL 58.752499 26.547357 \r\nL 59.666504 34.825102 \r\nL 60.580509 45.187844 \r\nL 62.103851 65.517219 \r\nL 64.236529 97.682736 \r\nL 68.501885 164.442328 \r\nL 70.025227 183.778543 \r\nL 71.2439 196.532626 \r\nL 72.157905 204.32247 \r\nL 73.07191 209.99917 \r\nL 73.681246 212.584421 \r\nL 74.290583 214.223269 \r\nL 74.899919 214.756364 \r\nL 75.204588 214.712421 \r\nL 75.509256 214.323977 \r\nL 76.118593 212.958479 \r\nL 76.727929 210.775121 \r\nL 77.337266 207.764989 \r\nL 78.251271 201.636667 \r\nL 79.165276 193.601309 \r\nL 80.079281 183.820452 \r\nL 81.297954 168.328649 \r\nL 82.821295 146.477084 \r\nL 85.867978 99.154571 \r\nL 88.000656 66.862545 \r\nL 89.21933 51.076749 \r\nL 90.438003 38.011317 \r\nL 91.352008 30.194106 \r\nL 92.266013 23.784616 \r\nL 92.875349 20.728353 \r\nL 93.484686 18.520287 \r\nL 94.094023 17.318673 \r\nL 94.398691 17.083636 \r\nL 94.703359 17.169175 \r\nL 95.008027 17.463793 \r\nL 95.312696 17.977653 \r\nL 95.922032 19.6839 \r\nL 96.531369 22.292139 \r\nL 97.445374 27.690328 \r\nL 98.359379 34.727053 \r\nL 99.273384 43.687391 \r\nL 100.492057 57.993688 \r\nL 102.320067 83.811327 \r\nL 108.413433 173.783448 \r\nL 109.632106 187.283613 \r\nL 110.546111 195.474256 \r\nL 111.460116 202.126132 \r\nL 112.069453 205.566931 \r\nL 112.678789 208.151557 \r\nL 113.288126 209.894396 \r\nL 113.592794 210.437656 \r\nL 113.897462 210.730396 \r\nL 114.202131 210.765894 \r\nL 114.506799 210.518347 \r\nL 115.116136 209.41275 \r\nL 115.725472 207.225952 \r\nL 116.334809 204.316371 \r\nL 117.248814 198.266083 \r\nL 118.467487 187.694107 \r\nL 119.68616 174.360172 \r\nL 120.904833 158.574533 \r\nL 123.34218 122.596194 \r\nL 126.998199 69.11768 \r\nL 128.521541 50.283753 \r\nL 129.435546 40.933251 \r\nL 130.349551 33.359209 \r\nL 131.263556 27.404937 \r\nL 132.177561 23.223686 \r\nL 132.786897 21.406254 \r\nL 133.091566 20.836723 \r\nL 133.396234 20.587768 \r\nL 133.700902 20.531785 \r\nL 134.00557 20.660328 \r\nL 134.310239 21.08599 \r\nL 134.919575 22.640237 \r\nL 135.528912 25.146674 \r\nL 136.138249 28.574337 \r\nL 137.052254 35.050757 \r\nL 138.270927 46.261539 \r\nL 139.4896 59.867886 \r\nL 141.012941 79.910932 \r\nL 147.106308 167.092476 \r\nL 148.324981 181.167802 \r\nL 149.543654 192.375301 \r\nL 150.457659 198.70754 \r\nL 151.371664 203.212807 \r\nL 151.981 205.167853 \r\nL 152.590337 206.427326 \r\nL 152.895005 206.696923 \r\nL 153.199674 206.711466 \r\nL 153.504342 206.604034 \r\nL 153.80901 206.198857 \r\nL 154.418347 204.741408 \r\nL 155.027684 202.309252 \r\nL 155.63702 199.088791 \r\nL 156.551025 192.614247 \r\nL 157.46503 184.731671 \r\nL 158.683703 172.034509 \r\nL 160.207045 153.110821 \r\nL 162.339723 122.620432 \r\nL 165.691074 74.755286 \r\nL 167.214416 55.997046 \r\nL 168.433089 43.62828 \r\nL 169.347094 36.203736 \r\nL 170.261099 30.55237 \r\nL 170.870435 27.777275 \r\nL 171.479772 25.775629 \r\nL 172.089109 24.493168 \r\nL 172.698445 24.145069 \r\nL 173.003113 24.261727 \r\nL 173.61245 25.209538 \r\nL 174.221787 26.997571 \r\nL 174.831123 29.615193 \r\nL 175.745128 35.227777 \r\nL 176.659133 42.532066 \r\nL 177.573138 51.379655 \r\nL 178.791811 65.066223 \r\nL 180.315153 84.845146 \r\nL 185.494514 157.093941 \r\nL 187.017855 174.665579 \r\nL 188.236529 186.354568 \r\nL 189.150534 193.251646 \r\nL 190.064539 198.337704 \r\nL 190.673875 200.72842 \r\nL 191.283212 202.246857 \r\nL 191.58788 202.759935 \r\nL 191.892548 202.956346 \r\nL 192.197217 202.979178 \r\nL 192.501885 202.820297 \r\nL 192.806553 202.501285 \r\nL 193.41589 201.141729 \r\nL 194.025227 198.964001 \r\nL 194.634563 195.997498 \r\nL 195.548568 189.904206 \r\nL 196.462573 182.181917 \r\nL 197.681246 169.722295 \r\nL 199.509256 147.38924 \r\nL 201.946602 114.034309 \r\nL 204.688617 76.46294 \r\nL 206.211959 58.497853 \r\nL 207.430632 46.555218 \r\nL 208.649305 37.156082 \r\nL 209.258642 33.448189 \r\nL 209.867978 30.679193 \r\nL 210.477315 28.648147 \r\nL 210.781983 27.992921 \r\nL 211.39132 27.42167 \r\nL 211.695988 27.400402 \r\nL 212.305325 28.048748 \r\nL 212.914661 29.445053 \r\nL 213.523998 31.688147 \r\nL 214.133335 34.471374 \r\nL 215.04734 40.214691 \r\nL 215.961344 47.585128 \r\nL 217.180018 59.747631 \r\nL 218.703359 77.737426 \r\nL 221.140706 110.364572 \r\nL 224.492057 155.343126 \r\nL 225.71073 169.071291 \r\nL 226.929403 180.538065 \r\nL 228.148077 189.640239 \r\nL 229.062082 194.678914 \r\nL 229.671418 197.082297 \r\nL 230.280755 198.576964 \r\nL 230.585423 199.007317 \r\nL 230.890091 199.240009 \r\nL 231.19476 199.249548 \r\nL 231.499428 199.09442 \r\nL 231.804096 198.776346 \r\nL 232.413433 197.355177 \r\nL 233.02277 195.22921 \r\nL 233.936774 190.758659 \r\nL 234.850779 184.704617 \r\nL 235.764784 177.021423 \r\nL 236.678789 167.845126 \r\nL 238.202131 149.943529 \r\nL 241.553482 105.801287 \r\nL 243.68616 77.892397 \r\nL 245.209502 60.737507 \r\nL 246.428175 49.441498 \r\nL 247.34218 42.450123 \r\nL 248.256185 36.76451 \r\nL 248.865521 33.872913 \r\nL 249.474858 31.882995 \r\nL 250.084195 30.757382 \r\nL 250.388863 30.459794 \r\nL 250.693531 30.398962 \r\nL 251.302868 31.023851 \r\nL 251.912204 32.418123 \r\nL 252.521541 34.447604 \r\nL 253.130878 37.344675 \r\nL 254.044883 42.809638 \r\nL 254.958887 49.774741 \r\nL 256.177561 61.428388 \r\nL 257.396234 75.329352 \r\nL 259.83358 106.192234 \r\nL 263.794268 156.776023 \r\nL 265.012941 169.484913 \r\nL 266.231615 179.992304 \r\nL 267.450288 188.157144 \r\nL 268.364293 192.585474 \r\nL 268.973629 194.533169 \r\nL 269.582966 195.669729 \r\nL 269.887634 195.900544 \r\nL 270.192303 195.901013 \r\nL 270.496971 195.693655 \r\nL 270.801639 195.287539 \r\nL 271.410976 193.905465 \r\nL 272.020312 191.80921 \r\nL 272.934317 187.315671 \r\nL 273.848322 181.57595 \r\nL 274.762327 174.323423 \r\nL 275.981 162.445217 \r\nL 277.504342 144.876236 \r\nL 280.246357 110.244942 \r\nL 282.988371 75.73578 \r\nL 284.207045 62.696149 \r\nL 285.425718 51.743704 \r\nL 286.644391 43.114107 \r\nL 287.558396 38.31172 \r\nL 288.167733 36.098024 \r\nL 288.777069 34.539711 \r\nL 289.081738 34.050403 \r\nL 289.386406 33.819119 \r\nL 289.691074 33.828502 \r\nL 289.995742 33.955012 \r\nL 290.300411 34.27246 \r\nL 290.909747 35.431695 \r\nL 291.519084 37.43772 \r\nL 292.433089 41.641333 \r\nL 293.347094 47.383087 \r\nL 294.565767 57.297334 \r\nL 295.78444 69.541936 \r\nL 297.61245 90.901064 \r\nL 302.487143 151.31622 \r\nL 304.010484 166.856344 \r\nL 305.229158 177.004534 \r\nL 306.143163 183.134419 \r\nL 307.057168 187.820617 \r\nL 307.666504 190.125482 \r\nL 308.275841 191.661901 \r\nL 308.580509 192.105548 \r\nL 308.885177 192.336831 \r\nL 309.189846 192.379054 \r\nL 309.494514 192.273185 \r\nL 310.103851 191.411227 \r\nL 310.713187 189.821012 \r\nL 311.322524 187.580263 \r\nL 311.93186 184.664115 \r\nL 312.845865 179.008213 \r\nL 313.75987 171.776328 \r\nL 314.978543 160.26827 \r\nL 316.501885 143.591899 \r\nL 319.2439 110.161592 \r\nL 321.985914 77.441557 \r\nL 323.509256 61.997919 \r\nL 324.727929 51.801251 \r\nL 325.641934 45.715778 \r\nL 326.555939 41.000025 \r\nL 327.165276 38.882815 \r\nL 327.774612 37.480724 \r\nL 328.383949 36.815333 \r\nL 328.688617 36.76107 \r\nL 329.297954 37.208 \r\nL 329.602622 37.676354 \r\nL 330.211959 39.242485 \r\nL 330.821295 41.419119 \r\nL 331.7353 46.016181 \r\nL 332.649305 52.056931 \r\nL 333.867978 62.267672 \r\nL 335.39132 77.576512 \r\nL 336.914661 94.945797 \r\nL 342.398691 158.784706 \r\nL 343.922032 172.054995 \r\nL 344.836037 178.476057 \r\nL 345.750042 183.50316 \r\nL 346.359379 185.911078 \r\nL 346.968715 187.581202 \r\nL 347.578052 188.548403 \r\nL 347.88272 188.745597 \r\nL 348.187389 188.782033 \r\nL 348.492057 188.659119 \r\nL 349.101394 187.834222 \r\nL 349.71073 186.439794 \r\nL 350.320067 184.432675 \r\nL 350.929403 181.642724 \r\nL 351.843408 176.292543 \r\nL 352.757413 169.420797 \r\nL 353.976086 158.357636 \r\nL 355.19476 145.845471 \r\nL 357.327438 121.436334 \r\nL 360.983457 78.728866 \r\nL 362.202131 66.869738 \r\nL 362.202131 66.869738 \r\n\" style=\"fill:none;stroke:#1f77b4;stroke-linecap:square;stroke-width:1.5;\"/>\r\n   </g>\r\n   <g id=\"patch_3\">\r\n    <path d=\"M 42.620313 224.64 \r\nL 42.620313 7.2 \r\n\" style=\"fill:none;stroke:#000000;stroke-linecap:square;stroke-linejoin:miter;stroke-width:0.8;\"/>\r\n   </g>\r\n   <g id=\"patch_4\">\r\n    <path d=\"M 377.420313 224.64 \r\nL 377.420313 7.2 \r\n\" style=\"fill:none;stroke:#000000;stroke-linecap:square;stroke-linejoin:miter;stroke-width:0.8;\"/>\r\n   </g>\r\n   <g id=\"patch_5\">\r\n    <path d=\"M 42.620313 224.64 \r\nL 377.420313 224.64 \r\n\" style=\"fill:none;stroke:#000000;stroke-linecap:square;stroke-linejoin:miter;stroke-width:0.8;\"/>\r\n   </g>\r\n   <g id=\"patch_6\">\r\n    <path d=\"M 42.620313 7.2 \r\nL 377.420313 7.2 \r\n\" style=\"fill:none;stroke:#000000;stroke-linecap:square;stroke-linejoin:miter;stroke-width:0.8;\"/>\r\n   </g>\r\n  </g>\r\n </g>\r\n <defs>\r\n  <clipPath id=\"p093ea2901a\">\r\n   <rect height=\"217.44\" width=\"334.8\" x=\"42.620313\" y=\"7.2\"/>\r\n  </clipPath>\r\n </defs>\r\n</svg>\r\n",
      "image/png": "[encoded data removed]"
     },
     "metadata": {
      "needs_background": "light"
     }
    }
   ],
   "metadata": {}
  },
  {
   "cell_type": "code",
   "execution_count": 42,
   "source": [
    "plt.grid();\r\n",
    "plt.plot(vibration48_data['Time'],vibration48_data['Strain Gauge Data']);plt.xlabel('Time [s]');plt.ylabel('Strain');"
   ],
   "outputs": [
    {
     "output_type": "display_data",
     "data": {
      "text/plain": [
       "<Figure size 432x288 with 1 Axes>"
      ],
      "image/svg+xml": "<?xml version=\"1.0\" encoding=\"utf-8\" standalone=\"no\"?>\r\n<!DOCTYPE svg PUBLIC \"-//W3C//DTD SVG 1.1//EN\"\r\n  \"http://www.w3.org/Graphics/SVG/1.1/DTD/svg11.dtd\">\r\n<svg height=\"262.19625pt\" version=\"1.1\" viewBox=\"0 0 419.610938 262.19625\" width=\"419.610938pt\" xmlns=\"http://www.w3.org/2000/svg\" xmlns:xlink=\"http://www.w3.org/1999/xlink\">\r\n <metadata>\r\n  <rdf:RDF xmlns:cc=\"http://creativecommons.org/ns#\" xmlns:dc=\"http://purl.org/dc/elements/1.1/\" xmlns:rdf=\"http://www.w3.org/1999/02/22-rdf-syntax-ns#\">\r\n   <cc:Work>\r\n    <dc:type rdf:resource=\"http://purl.org/dc/dcmitype/StillImage\"/>\r\n    <dc:date>2021-08-27T14:06:51.118804</dc:date>\r\n    <dc:format>image/svg+xml</dc:format>\r\n    <dc:creator>\r\n     <cc:Agent>\r\n      <dc:title>Matplotlib v3.4.2, https://matplotlib.org/</dc:title>\r\n     </cc:Agent>\r\n    </dc:creator>\r\n   </cc:Work>\r\n  </rdf:RDF>\r\n </metadata>\r\n <defs>\r\n  <style type=\"text/css\">*{stroke-linecap:butt;stroke-linejoin:round;}</style>\r\n </defs>\r\n <g id=\"figure_1\">\r\n  <g id=\"patch_1\">\r\n   <path d=\"M 0 262.19625 \r\nL 419.610938 262.19625 \r\nL 419.610938 0 \r\nL 0 0 \r\nz\r\n\" style=\"fill:none;\"/>\r\n  </g>\r\n  <g id=\"axes_1\">\r\n   <g id=\"patch_2\">\r\n    <path d=\"M 77.610938 224.64 \r\nL 412.410938 224.64 \r\nL 412.410938 7.2 \r\nL 77.610938 7.2 \r\nz\r\n\" style=\"fill:#ffffff;\"/>\r\n   </g>\r\n   <g id=\"matplotlib.axis_1\">\r\n    <g id=\"xtick_1\">\r\n     <g id=\"line2d_1\">\r\n      <path clip-path=\"url(#pbdd0a0ceb2)\" d=\"M 92.829119 224.64 \r\nL 92.829119 7.2 \r\n\" style=\"fill:none;stroke:#b0b0b0;stroke-linecap:square;stroke-width:0.8;\"/>\r\n     </g>\r\n     <g id=\"line2d_2\">\r\n      <defs>\r\n       <path d=\"M 0 0 \r\nL 0 3.5 \r\n\" id=\"mc58c345608\" style=\"stroke:#000000;stroke-width:0.8;\"/>\r\n      </defs>\r\n      <g>\r\n       <use style=\"stroke:#000000;stroke-width:0.8;\" x=\"92.829119\" xlink:href=\"#mc58c345608\" y=\"224.64\"/>\r\n      </g>\r\n     </g>\r\n     <g id=\"text_1\">\r\n      <!-- 0.0 -->\r\n      <g transform=\"translate(84.877557 239.238437)scale(0.1 -0.1)\">\r\n       <defs>\r\n        <path d=\"M 2034 4250 \r\nQ 1547 4250 1301 3770 \r\nQ 1056 3291 1056 2328 \r\nQ 1056 1369 1301 889 \r\nQ 1547 409 2034 409 \r\nQ 2525 409 2770 889 \r\nQ 3016 1369 3016 2328 \r\nQ 3016 3291 2770 3770 \r\nQ 2525 4250 2034 4250 \r\nz\r\nM 2034 4750 \r\nQ 2819 4750 3233 4129 \r\nQ 3647 3509 3647 2328 \r\nQ 3647 1150 3233 529 \r\nQ 2819 -91 2034 -91 \r\nQ 1250 -91 836 529 \r\nQ 422 1150 422 2328 \r\nQ 422 3509 836 4129 \r\nQ 1250 4750 2034 4750 \r\nz\r\n\" id=\"DejaVuSans-30\" transform=\"scale(0.015625)\"/>\r\n        <path d=\"M 684 794 \r\nL 1344 794 \r\nL 1344 0 \r\nL 684 0 \r\nL 684 794 \r\nz\r\n\" id=\"DejaVuSans-2e\" transform=\"scale(0.015625)\"/>\r\n       </defs>\r\n       <use xlink:href=\"#DejaVuSans-30\"/>\r\n       <use x=\"63.623047\" xlink:href=\"#DejaVuSans-2e\"/>\r\n       <use x=\"95.410156\" xlink:href=\"#DejaVuSans-30\"/>\r\n      </g>\r\n     </g>\r\n    </g>\r\n    <g id=\"xtick_2\">\r\n     <g id=\"line2d_3\">\r\n      <path clip-path=\"url(#pbdd0a0ceb2)\" d=\"M 153.76278 224.64 \r\nL 153.76278 7.2 \r\n\" style=\"fill:none;stroke:#b0b0b0;stroke-linecap:square;stroke-width:0.8;\"/>\r\n     </g>\r\n     <g id=\"line2d_4\">\r\n      <g>\r\n       <use style=\"stroke:#000000;stroke-width:0.8;\" x=\"153.76278\" xlink:href=\"#mc58c345608\" y=\"224.64\"/>\r\n      </g>\r\n     </g>\r\n     <g id=\"text_2\">\r\n      <!-- 0.2 -->\r\n      <g transform=\"translate(145.811218 239.238437)scale(0.1 -0.1)\">\r\n       <defs>\r\n        <path d=\"M 1228 531 \r\nL 3431 531 \r\nL 3431 0 \r\nL 469 0 \r\nL 469 531 \r\nQ 828 903 1448 1529 \r\nQ 2069 2156 2228 2338 \r\nQ 2531 2678 2651 2914 \r\nQ 2772 3150 2772 3378 \r\nQ 2772 3750 2511 3984 \r\nQ 2250 4219 1831 4219 \r\nQ 1534 4219 1204 4116 \r\nQ 875 4013 500 3803 \r\nL 500 4441 \r\nQ 881 4594 1212 4672 \r\nQ 1544 4750 1819 4750 \r\nQ 2544 4750 2975 4387 \r\nQ 3406 4025 3406 3419 \r\nQ 3406 3131 3298 2873 \r\nQ 3191 2616 2906 2266 \r\nQ 2828 2175 2409 1742 \r\nQ 1991 1309 1228 531 \r\nz\r\n\" id=\"DejaVuSans-32\" transform=\"scale(0.015625)\"/>\r\n       </defs>\r\n       <use xlink:href=\"#DejaVuSans-30\"/>\r\n       <use x=\"63.623047\" xlink:href=\"#DejaVuSans-2e\"/>\r\n       <use x=\"95.410156\" xlink:href=\"#DejaVuSans-32\"/>\r\n      </g>\r\n     </g>\r\n    </g>\r\n    <g id=\"xtick_3\">\r\n     <g id=\"line2d_5\">\r\n      <path clip-path=\"url(#pbdd0a0ceb2)\" d=\"M 214.696441 224.64 \r\nL 214.696441 7.2 \r\n\" style=\"fill:none;stroke:#b0b0b0;stroke-linecap:square;stroke-width:0.8;\"/>\r\n     </g>\r\n     <g id=\"line2d_6\">\r\n      <g>\r\n       <use style=\"stroke:#000000;stroke-width:0.8;\" x=\"214.696441\" xlink:href=\"#mc58c345608\" y=\"224.64\"/>\r\n      </g>\r\n     </g>\r\n     <g id=\"text_3\">\r\n      <!-- 0.4 -->\r\n      <g transform=\"translate(206.744879 239.238437)scale(0.1 -0.1)\">\r\n       <defs>\r\n        <path d=\"M 2419 4116 \r\nL 825 1625 \r\nL 2419 1625 \r\nL 2419 4116 \r\nz\r\nM 2253 4666 \r\nL 3047 4666 \r\nL 3047 1625 \r\nL 3713 1625 \r\nL 3713 1100 \r\nL 3047 1100 \r\nL 3047 0 \r\nL 2419 0 \r\nL 2419 1100 \r\nL 313 1100 \r\nL 313 1709 \r\nL 2253 4666 \r\nz\r\n\" id=\"DejaVuSans-34\" transform=\"scale(0.015625)\"/>\r\n       </defs>\r\n       <use xlink:href=\"#DejaVuSans-30\"/>\r\n       <use x=\"63.623047\" xlink:href=\"#DejaVuSans-2e\"/>\r\n       <use x=\"95.410156\" xlink:href=\"#DejaVuSans-34\"/>\r\n      </g>\r\n     </g>\r\n    </g>\r\n    <g id=\"xtick_4\">\r\n     <g id=\"line2d_7\">\r\n      <path clip-path=\"url(#pbdd0a0ceb2)\" d=\"M 275.630102 224.64 \r\nL 275.630102 7.2 \r\n\" style=\"fill:none;stroke:#b0b0b0;stroke-linecap:square;stroke-width:0.8;\"/>\r\n     </g>\r\n     <g id=\"line2d_8\">\r\n      <g>\r\n       <use style=\"stroke:#000000;stroke-width:0.8;\" x=\"275.630102\" xlink:href=\"#mc58c345608\" y=\"224.64\"/>\r\n      </g>\r\n     </g>\r\n     <g id=\"text_4\">\r\n      <!-- 0.6 -->\r\n      <g transform=\"translate(267.67854 239.238437)scale(0.1 -0.1)\">\r\n       <defs>\r\n        <path d=\"M 2113 2584 \r\nQ 1688 2584 1439 2293 \r\nQ 1191 2003 1191 1497 \r\nQ 1191 994 1439 701 \r\nQ 1688 409 2113 409 \r\nQ 2538 409 2786 701 \r\nQ 3034 994 3034 1497 \r\nQ 3034 2003 2786 2293 \r\nQ 2538 2584 2113 2584 \r\nz\r\nM 3366 4563 \r\nL 3366 3988 \r\nQ 3128 4100 2886 4159 \r\nQ 2644 4219 2406 4219 \r\nQ 1781 4219 1451 3797 \r\nQ 1122 3375 1075 2522 \r\nQ 1259 2794 1537 2939 \r\nQ 1816 3084 2150 3084 \r\nQ 2853 3084 3261 2657 \r\nQ 3669 2231 3669 1497 \r\nQ 3669 778 3244 343 \r\nQ 2819 -91 2113 -91 \r\nQ 1303 -91 875 529 \r\nQ 447 1150 447 2328 \r\nQ 447 3434 972 4092 \r\nQ 1497 4750 2381 4750 \r\nQ 2619 4750 2861 4703 \r\nQ 3103 4656 3366 4563 \r\nz\r\n\" id=\"DejaVuSans-36\" transform=\"scale(0.015625)\"/>\r\n       </defs>\r\n       <use xlink:href=\"#DejaVuSans-30\"/>\r\n       <use x=\"63.623047\" xlink:href=\"#DejaVuSans-2e\"/>\r\n       <use x=\"95.410156\" xlink:href=\"#DejaVuSans-36\"/>\r\n      </g>\r\n     </g>\r\n    </g>\r\n    <g id=\"xtick_5\">\r\n     <g id=\"line2d_9\">\r\n      <path clip-path=\"url(#pbdd0a0ceb2)\" d=\"M 336.563763 224.64 \r\nL 336.563763 7.2 \r\n\" style=\"fill:none;stroke:#b0b0b0;stroke-linecap:square;stroke-width:0.8;\"/>\r\n     </g>\r\n     <g id=\"line2d_10\">\r\n      <g>\r\n       <use style=\"stroke:#000000;stroke-width:0.8;\" x=\"336.563763\" xlink:href=\"#mc58c345608\" y=\"224.64\"/>\r\n      </g>\r\n     </g>\r\n     <g id=\"text_5\">\r\n      <!-- 0.8 -->\r\n      <g transform=\"translate(328.612201 239.238437)scale(0.1 -0.1)\">\r\n       <defs>\r\n        <path d=\"M 2034 2216 \r\nQ 1584 2216 1326 1975 \r\nQ 1069 1734 1069 1313 \r\nQ 1069 891 1326 650 \r\nQ 1584 409 2034 409 \r\nQ 2484 409 2743 651 \r\nQ 3003 894 3003 1313 \r\nQ 3003 1734 2745 1975 \r\nQ 2488 2216 2034 2216 \r\nz\r\nM 1403 2484 \r\nQ 997 2584 770 2862 \r\nQ 544 3141 544 3541 \r\nQ 544 4100 942 4425 \r\nQ 1341 4750 2034 4750 \r\nQ 2731 4750 3128 4425 \r\nQ 3525 4100 3525 3541 \r\nQ 3525 3141 3298 2862 \r\nQ 3072 2584 2669 2484 \r\nQ 3125 2378 3379 2068 \r\nQ 3634 1759 3634 1313 \r\nQ 3634 634 3220 271 \r\nQ 2806 -91 2034 -91 \r\nQ 1263 -91 848 271 \r\nQ 434 634 434 1313 \r\nQ 434 1759 690 2068 \r\nQ 947 2378 1403 2484 \r\nz\r\nM 1172 3481 \r\nQ 1172 3119 1398 2916 \r\nQ 1625 2713 2034 2713 \r\nQ 2441 2713 2670 2916 \r\nQ 2900 3119 2900 3481 \r\nQ 2900 3844 2670 4047 \r\nQ 2441 4250 2034 4250 \r\nQ 1625 4250 1398 4047 \r\nQ 1172 3844 1172 3481 \r\nz\r\n\" id=\"DejaVuSans-38\" transform=\"scale(0.015625)\"/>\r\n       </defs>\r\n       <use xlink:href=\"#DejaVuSans-30\"/>\r\n       <use x=\"63.623047\" xlink:href=\"#DejaVuSans-2e\"/>\r\n       <use x=\"95.410156\" xlink:href=\"#DejaVuSans-38\"/>\r\n      </g>\r\n     </g>\r\n    </g>\r\n    <g id=\"xtick_6\">\r\n     <g id=\"line2d_11\">\r\n      <path clip-path=\"url(#pbdd0a0ceb2)\" d=\"M 397.497424 224.64 \r\nL 397.497424 7.2 \r\n\" style=\"fill:none;stroke:#b0b0b0;stroke-linecap:square;stroke-width:0.8;\"/>\r\n     </g>\r\n     <g id=\"line2d_12\">\r\n      <g>\r\n       <use style=\"stroke:#000000;stroke-width:0.8;\" x=\"397.497424\" xlink:href=\"#mc58c345608\" y=\"224.64\"/>\r\n      </g>\r\n     </g>\r\n     <g id=\"text_6\">\r\n      <!-- 1.0 -->\r\n      <g transform=\"translate(389.545861 239.238437)scale(0.1 -0.1)\">\r\n       <defs>\r\n        <path d=\"M 794 531 \r\nL 1825 531 \r\nL 1825 4091 \r\nL 703 3866 \r\nL 703 4441 \r\nL 1819 4666 \r\nL 2450 4666 \r\nL 2450 531 \r\nL 3481 531 \r\nL 3481 0 \r\nL 794 0 \r\nL 794 531 \r\nz\r\n\" id=\"DejaVuSans-31\" transform=\"scale(0.015625)\"/>\r\n       </defs>\r\n       <use xlink:href=\"#DejaVuSans-31\"/>\r\n       <use x=\"63.623047\" xlink:href=\"#DejaVuSans-2e\"/>\r\n       <use x=\"95.410156\" xlink:href=\"#DejaVuSans-30\"/>\r\n      </g>\r\n     </g>\r\n    </g>\r\n    <g id=\"text_7\">\r\n     <!-- Time [s] -->\r\n     <g transform=\"translate(224.682031 252.916562)scale(0.1 -0.1)\">\r\n      <defs>\r\n       <path d=\"M -19 4666 \r\nL 3928 4666 \r\nL 3928 4134 \r\nL 2272 4134 \r\nL 2272 0 \r\nL 1638 0 \r\nL 1638 4134 \r\nL -19 4134 \r\nL -19 4666 \r\nz\r\n\" id=\"DejaVuSans-54\" transform=\"scale(0.015625)\"/>\r\n       <path d=\"M 603 3500 \r\nL 1178 3500 \r\nL 1178 0 \r\nL 603 0 \r\nL 603 3500 \r\nz\r\nM 603 4863 \r\nL 1178 4863 \r\nL 1178 4134 \r\nL 603 4134 \r\nL 603 4863 \r\nz\r\n\" id=\"DejaVuSans-69\" transform=\"scale(0.015625)\"/>\r\n       <path d=\"M 3328 2828 \r\nQ 3544 3216 3844 3400 \r\nQ 4144 3584 4550 3584 \r\nQ 5097 3584 5394 3201 \r\nQ 5691 2819 5691 2113 \r\nL 5691 0 \r\nL 5113 0 \r\nL 5113 2094 \r\nQ 5113 2597 4934 2840 \r\nQ 4756 3084 4391 3084 \r\nQ 3944 3084 3684 2787 \r\nQ 3425 2491 3425 1978 \r\nL 3425 0 \r\nL 2847 0 \r\nL 2847 2094 \r\nQ 2847 2600 2669 2842 \r\nQ 2491 3084 2119 3084 \r\nQ 1678 3084 1418 2786 \r\nQ 1159 2488 1159 1978 \r\nL 1159 0 \r\nL 581 0 \r\nL 581 3500 \r\nL 1159 3500 \r\nL 1159 2956 \r\nQ 1356 3278 1631 3431 \r\nQ 1906 3584 2284 3584 \r\nQ 2666 3584 2933 3390 \r\nQ 3200 3197 3328 2828 \r\nz\r\n\" id=\"DejaVuSans-6d\" transform=\"scale(0.015625)\"/>\r\n       <path d=\"M 3597 1894 \r\nL 3597 1613 \r\nL 953 1613 \r\nQ 991 1019 1311 708 \r\nQ 1631 397 2203 397 \r\nQ 2534 397 2845 478 \r\nQ 3156 559 3463 722 \r\nL 3463 178 \r\nQ 3153 47 2828 -22 \r\nQ 2503 -91 2169 -91 \r\nQ 1331 -91 842 396 \r\nQ 353 884 353 1716 \r\nQ 353 2575 817 3079 \r\nQ 1281 3584 2069 3584 \r\nQ 2775 3584 3186 3129 \r\nQ 3597 2675 3597 1894 \r\nz\r\nM 3022 2063 \r\nQ 3016 2534 2758 2815 \r\nQ 2500 3097 2075 3097 \r\nQ 1594 3097 1305 2825 \r\nQ 1016 2553 972 2059 \r\nL 3022 2063 \r\nz\r\n\" id=\"DejaVuSans-65\" transform=\"scale(0.015625)\"/>\r\n       <path id=\"DejaVuSans-20\" transform=\"scale(0.015625)\"/>\r\n       <path d=\"M 550 4863 \r\nL 1875 4863 \r\nL 1875 4416 \r\nL 1125 4416 \r\nL 1125 -397 \r\nL 1875 -397 \r\nL 1875 -844 \r\nL 550 -844 \r\nL 550 4863 \r\nz\r\n\" id=\"DejaVuSans-5b\" transform=\"scale(0.015625)\"/>\r\n       <path d=\"M 2834 3397 \r\nL 2834 2853 \r\nQ 2591 2978 2328 3040 \r\nQ 2066 3103 1784 3103 \r\nQ 1356 3103 1142 2972 \r\nQ 928 2841 928 2578 \r\nQ 928 2378 1081 2264 \r\nQ 1234 2150 1697 2047 \r\nL 1894 2003 \r\nQ 2506 1872 2764 1633 \r\nQ 3022 1394 3022 966 \r\nQ 3022 478 2636 193 \r\nQ 2250 -91 1575 -91 \r\nQ 1294 -91 989 -36 \r\nQ 684 19 347 128 \r\nL 347 722 \r\nQ 666 556 975 473 \r\nQ 1284 391 1588 391 \r\nQ 1994 391 2212 530 \r\nQ 2431 669 2431 922 \r\nQ 2431 1156 2273 1281 \r\nQ 2116 1406 1581 1522 \r\nL 1381 1569 \r\nQ 847 1681 609 1914 \r\nQ 372 2147 372 2553 \r\nQ 372 3047 722 3315 \r\nQ 1072 3584 1716 3584 \r\nQ 2034 3584 2315 3537 \r\nQ 2597 3491 2834 3397 \r\nz\r\n\" id=\"DejaVuSans-73\" transform=\"scale(0.015625)\"/>\r\n       <path d=\"M 1947 4863 \r\nL 1947 -844 \r\nL 622 -844 \r\nL 622 -397 \r\nL 1369 -397 \r\nL 1369 4416 \r\nL 622 4416 \r\nL 622 4863 \r\nL 1947 4863 \r\nz\r\n\" id=\"DejaVuSans-5d\" transform=\"scale(0.015625)\"/>\r\n      </defs>\r\n      <use xlink:href=\"#DejaVuSans-54\"/>\r\n      <use x=\"57.958984\" xlink:href=\"#DejaVuSans-69\"/>\r\n      <use x=\"85.742188\" xlink:href=\"#DejaVuSans-6d\"/>\r\n      <use x=\"183.154297\" xlink:href=\"#DejaVuSans-65\"/>\r\n      <use x=\"244.677734\" xlink:href=\"#DejaVuSans-20\"/>\r\n      <use x=\"276.464844\" xlink:href=\"#DejaVuSans-5b\"/>\r\n      <use x=\"315.478516\" xlink:href=\"#DejaVuSans-73\"/>\r\n      <use x=\"367.578125\" xlink:href=\"#DejaVuSans-5d\"/>\r\n     </g>\r\n    </g>\r\n   </g>\r\n   <g id=\"matplotlib.axis_2\">\r\n    <g id=\"ytick_1\">\r\n     <g id=\"line2d_13\">\r\n      <path clip-path=\"url(#pbdd0a0ceb2)\" d=\"M 77.610938 208.335599 \r\nL 412.410938 208.335599 \r\n\" style=\"fill:none;stroke:#b0b0b0;stroke-linecap:square;stroke-width:0.8;\"/>\r\n     </g>\r\n     <g id=\"line2d_14\">\r\n      <defs>\r\n       <path d=\"M 0 0 \r\nL -3.5 0 \r\n\" id=\"m4e6bccbd61\" style=\"stroke:#000000;stroke-width:0.8;\"/>\r\n      </defs>\r\n      <g>\r\n       <use style=\"stroke:#000000;stroke-width:0.8;\" x=\"77.610938\" xlink:href=\"#m4e6bccbd61\" y=\"208.335599\"/>\r\n      </g>\r\n     </g>\r\n     <g id=\"text_8\">\r\n      <!-- −0.00010 -->\r\n      <g transform=\"translate(20.878125 212.134818)scale(0.1 -0.1)\">\r\n       <defs>\r\n        <path d=\"M 678 2272 \r\nL 4684 2272 \r\nL 4684 1741 \r\nL 678 1741 \r\nL 678 2272 \r\nz\r\n\" id=\"DejaVuSans-2212\" transform=\"scale(0.015625)\"/>\r\n       </defs>\r\n       <use xlink:href=\"#DejaVuSans-2212\"/>\r\n       <use x=\"83.789062\" xlink:href=\"#DejaVuSans-30\"/>\r\n       <use x=\"147.412109\" xlink:href=\"#DejaVuSans-2e\"/>\r\n       <use x=\"179.199219\" xlink:href=\"#DejaVuSans-30\"/>\r\n       <use x=\"242.822266\" xlink:href=\"#DejaVuSans-30\"/>\r\n       <use x=\"306.445312\" xlink:href=\"#DejaVuSans-30\"/>\r\n       <use x=\"370.068359\" xlink:href=\"#DejaVuSans-31\"/>\r\n       <use x=\"433.691406\" xlink:href=\"#DejaVuSans-30\"/>\r\n      </g>\r\n     </g>\r\n    </g>\r\n    <g id=\"ytick_2\">\r\n     <g id=\"line2d_15\">\r\n      <path clip-path=\"url(#pbdd0a0ceb2)\" d=\"M 77.610938 172.162279 \r\nL 412.410938 172.162279 \r\n\" style=\"fill:none;stroke:#b0b0b0;stroke-linecap:square;stroke-width:0.8;\"/>\r\n     </g>\r\n     <g id=\"line2d_16\">\r\n      <g>\r\n       <use style=\"stroke:#000000;stroke-width:0.8;\" x=\"77.610938\" xlink:href=\"#m4e6bccbd61\" y=\"172.162279\"/>\r\n      </g>\r\n     </g>\r\n     <g id=\"text_9\">\r\n      <!-- −0.00008 -->\r\n      <g transform=\"translate(20.878125 175.961497)scale(0.1 -0.1)\">\r\n       <use xlink:href=\"#DejaVuSans-2212\"/>\r\n       <use x=\"83.789062\" xlink:href=\"#DejaVuSans-30\"/>\r\n       <use x=\"147.412109\" xlink:href=\"#DejaVuSans-2e\"/>\r\n       <use x=\"179.199219\" xlink:href=\"#DejaVuSans-30\"/>\r\n       <use x=\"242.822266\" xlink:href=\"#DejaVuSans-30\"/>\r\n       <use x=\"306.445312\" xlink:href=\"#DejaVuSans-30\"/>\r\n       <use x=\"370.068359\" xlink:href=\"#DejaVuSans-30\"/>\r\n       <use x=\"433.691406\" xlink:href=\"#DejaVuSans-38\"/>\r\n      </g>\r\n     </g>\r\n    </g>\r\n    <g id=\"ytick_3\">\r\n     <g id=\"line2d_17\">\r\n      <path clip-path=\"url(#pbdd0a0ceb2)\" d=\"M 77.610938 135.988958 \r\nL 412.410938 135.988958 \r\n\" style=\"fill:none;stroke:#b0b0b0;stroke-linecap:square;stroke-width:0.8;\"/>\r\n     </g>\r\n     <g id=\"line2d_18\">\r\n      <g>\r\n       <use style=\"stroke:#000000;stroke-width:0.8;\" x=\"77.610938\" xlink:href=\"#m4e6bccbd61\" y=\"135.988958\"/>\r\n      </g>\r\n     </g>\r\n     <g id=\"text_10\">\r\n      <!-- −0.00006 -->\r\n      <g transform=\"translate(20.878125 139.788177)scale(0.1 -0.1)\">\r\n       <use xlink:href=\"#DejaVuSans-2212\"/>\r\n       <use x=\"83.789062\" xlink:href=\"#DejaVuSans-30\"/>\r\n       <use x=\"147.412109\" xlink:href=\"#DejaVuSans-2e\"/>\r\n       <use x=\"179.199219\" xlink:href=\"#DejaVuSans-30\"/>\r\n       <use x=\"242.822266\" xlink:href=\"#DejaVuSans-30\"/>\r\n       <use x=\"306.445312\" xlink:href=\"#DejaVuSans-30\"/>\r\n       <use x=\"370.068359\" xlink:href=\"#DejaVuSans-30\"/>\r\n       <use x=\"433.691406\" xlink:href=\"#DejaVuSans-36\"/>\r\n      </g>\r\n     </g>\r\n    </g>\r\n    <g id=\"ytick_4\">\r\n     <g id=\"line2d_19\">\r\n      <path clip-path=\"url(#pbdd0a0ceb2)\" d=\"M 77.610938 99.815638 \r\nL 412.410938 99.815638 \r\n\" style=\"fill:none;stroke:#b0b0b0;stroke-linecap:square;stroke-width:0.8;\"/>\r\n     </g>\r\n     <g id=\"line2d_20\">\r\n      <g>\r\n       <use style=\"stroke:#000000;stroke-width:0.8;\" x=\"77.610938\" xlink:href=\"#m4e6bccbd61\" y=\"99.815638\"/>\r\n      </g>\r\n     </g>\r\n     <g id=\"text_11\">\r\n      <!-- −0.00004 -->\r\n      <g transform=\"translate(20.878125 103.614856)scale(0.1 -0.1)\">\r\n       <use xlink:href=\"#DejaVuSans-2212\"/>\r\n       <use x=\"83.789062\" xlink:href=\"#DejaVuSans-30\"/>\r\n       <use x=\"147.412109\" xlink:href=\"#DejaVuSans-2e\"/>\r\n       <use x=\"179.199219\" xlink:href=\"#DejaVuSans-30\"/>\r\n       <use x=\"242.822266\" xlink:href=\"#DejaVuSans-30\"/>\r\n       <use x=\"306.445312\" xlink:href=\"#DejaVuSans-30\"/>\r\n       <use x=\"370.068359\" xlink:href=\"#DejaVuSans-30\"/>\r\n       <use x=\"433.691406\" xlink:href=\"#DejaVuSans-34\"/>\r\n      </g>\r\n     </g>\r\n    </g>\r\n    <g id=\"ytick_5\">\r\n     <g id=\"line2d_21\">\r\n      <path clip-path=\"url(#pbdd0a0ceb2)\" d=\"M 77.610938 63.642317 \r\nL 412.410938 63.642317 \r\n\" style=\"fill:none;stroke:#b0b0b0;stroke-linecap:square;stroke-width:0.8;\"/>\r\n     </g>\r\n     <g id=\"line2d_22\">\r\n      <g>\r\n       <use style=\"stroke:#000000;stroke-width:0.8;\" x=\"77.610938\" xlink:href=\"#m4e6bccbd61\" y=\"63.642317\"/>\r\n      </g>\r\n     </g>\r\n     <g id=\"text_12\">\r\n      <!-- −0.00002 -->\r\n      <g transform=\"translate(20.878125 67.441536)scale(0.1 -0.1)\">\r\n       <use xlink:href=\"#DejaVuSans-2212\"/>\r\n       <use x=\"83.789062\" xlink:href=\"#DejaVuSans-30\"/>\r\n       <use x=\"147.412109\" xlink:href=\"#DejaVuSans-2e\"/>\r\n       <use x=\"179.199219\" xlink:href=\"#DejaVuSans-30\"/>\r\n       <use x=\"242.822266\" xlink:href=\"#DejaVuSans-30\"/>\r\n       <use x=\"306.445312\" xlink:href=\"#DejaVuSans-30\"/>\r\n       <use x=\"370.068359\" xlink:href=\"#DejaVuSans-30\"/>\r\n       <use x=\"433.691406\" xlink:href=\"#DejaVuSans-32\"/>\r\n      </g>\r\n     </g>\r\n    </g>\r\n    <g id=\"ytick_6\">\r\n     <g id=\"line2d_23\">\r\n      <path clip-path=\"url(#pbdd0a0ceb2)\" d=\"M 77.610938 27.468997 \r\nL 412.410938 27.468997 \r\n\" style=\"fill:none;stroke:#b0b0b0;stroke-linecap:square;stroke-width:0.8;\"/>\r\n     </g>\r\n     <g id=\"line2d_24\">\r\n      <g>\r\n       <use style=\"stroke:#000000;stroke-width:0.8;\" x=\"77.610938\" xlink:href=\"#m4e6bccbd61\" y=\"27.468997\"/>\r\n      </g>\r\n     </g>\r\n     <g id=\"text_13\">\r\n      <!-- 0.00000 -->\r\n      <g transform=\"translate(29.257812 31.268215)scale(0.1 -0.1)\">\r\n       <use xlink:href=\"#DejaVuSans-30\"/>\r\n       <use x=\"63.623047\" xlink:href=\"#DejaVuSans-2e\"/>\r\n       <use x=\"95.410156\" xlink:href=\"#DejaVuSans-30\"/>\r\n       <use x=\"159.033203\" xlink:href=\"#DejaVuSans-30\"/>\r\n       <use x=\"222.65625\" xlink:href=\"#DejaVuSans-30\"/>\r\n       <use x=\"286.279297\" xlink:href=\"#DejaVuSans-30\"/>\r\n       <use x=\"349.902344\" xlink:href=\"#DejaVuSans-30\"/>\r\n      </g>\r\n     </g>\r\n    </g>\r\n    <g id=\"text_14\">\r\n     <!-- Strain -->\r\n     <g transform=\"translate(14.798438 130.731719)rotate(-90)scale(0.1 -0.1)\">\r\n      <defs>\r\n       <path d=\"M 3425 4513 \r\nL 3425 3897 \r\nQ 3066 4069 2747 4153 \r\nQ 2428 4238 2131 4238 \r\nQ 1616 4238 1336 4038 \r\nQ 1056 3838 1056 3469 \r\nQ 1056 3159 1242 3001 \r\nQ 1428 2844 1947 2747 \r\nL 2328 2669 \r\nQ 3034 2534 3370 2195 \r\nQ 3706 1856 3706 1288 \r\nQ 3706 609 3251 259 \r\nQ 2797 -91 1919 -91 \r\nQ 1588 -91 1214 -16 \r\nQ 841 59 441 206 \r\nL 441 856 \r\nQ 825 641 1194 531 \r\nQ 1563 422 1919 422 \r\nQ 2459 422 2753 634 \r\nQ 3047 847 3047 1241 \r\nQ 3047 1584 2836 1778 \r\nQ 2625 1972 2144 2069 \r\nL 1759 2144 \r\nQ 1053 2284 737 2584 \r\nQ 422 2884 422 3419 \r\nQ 422 4038 858 4394 \r\nQ 1294 4750 2059 4750 \r\nQ 2388 4750 2728 4690 \r\nQ 3069 4631 3425 4513 \r\nz\r\n\" id=\"DejaVuSans-53\" transform=\"scale(0.015625)\"/>\r\n       <path d=\"M 1172 4494 \r\nL 1172 3500 \r\nL 2356 3500 \r\nL 2356 3053 \r\nL 1172 3053 \r\nL 1172 1153 \r\nQ 1172 725 1289 603 \r\nQ 1406 481 1766 481 \r\nL 2356 481 \r\nL 2356 0 \r\nL 1766 0 \r\nQ 1100 0 847 248 \r\nQ 594 497 594 1153 \r\nL 594 3053 \r\nL 172 3053 \r\nL 172 3500 \r\nL 594 3500 \r\nL 594 4494 \r\nL 1172 4494 \r\nz\r\n\" id=\"DejaVuSans-74\" transform=\"scale(0.015625)\"/>\r\n       <path d=\"M 2631 2963 \r\nQ 2534 3019 2420 3045 \r\nQ 2306 3072 2169 3072 \r\nQ 1681 3072 1420 2755 \r\nQ 1159 2438 1159 1844 \r\nL 1159 0 \r\nL 581 0 \r\nL 581 3500 \r\nL 1159 3500 \r\nL 1159 2956 \r\nQ 1341 3275 1631 3429 \r\nQ 1922 3584 2338 3584 \r\nQ 2397 3584 2469 3576 \r\nQ 2541 3569 2628 3553 \r\nL 2631 2963 \r\nz\r\n\" id=\"DejaVuSans-72\" transform=\"scale(0.015625)\"/>\r\n       <path d=\"M 2194 1759 \r\nQ 1497 1759 1228 1600 \r\nQ 959 1441 959 1056 \r\nQ 959 750 1161 570 \r\nQ 1363 391 1709 391 \r\nQ 2188 391 2477 730 \r\nQ 2766 1069 2766 1631 \r\nL 2766 1759 \r\nL 2194 1759 \r\nz\r\nM 3341 1997 \r\nL 3341 0 \r\nL 2766 0 \r\nL 2766 531 \r\nQ 2569 213 2275 61 \r\nQ 1981 -91 1556 -91 \r\nQ 1019 -91 701 211 \r\nQ 384 513 384 1019 \r\nQ 384 1609 779 1909 \r\nQ 1175 2209 1959 2209 \r\nL 2766 2209 \r\nL 2766 2266 \r\nQ 2766 2663 2505 2880 \r\nQ 2244 3097 1772 3097 \r\nQ 1472 3097 1187 3025 \r\nQ 903 2953 641 2809 \r\nL 641 3341 \r\nQ 956 3463 1253 3523 \r\nQ 1550 3584 1831 3584 \r\nQ 2591 3584 2966 3190 \r\nQ 3341 2797 3341 1997 \r\nz\r\n\" id=\"DejaVuSans-61\" transform=\"scale(0.015625)\"/>\r\n       <path d=\"M 3513 2113 \r\nL 3513 0 \r\nL 2938 0 \r\nL 2938 2094 \r\nQ 2938 2591 2744 2837 \r\nQ 2550 3084 2163 3084 \r\nQ 1697 3084 1428 2787 \r\nQ 1159 2491 1159 1978 \r\nL 1159 0 \r\nL 581 0 \r\nL 581 3500 \r\nL 1159 3500 \r\nL 1159 2956 \r\nQ 1366 3272 1645 3428 \r\nQ 1925 3584 2291 3584 \r\nQ 2894 3584 3203 3211 \r\nQ 3513 2838 3513 2113 \r\nz\r\n\" id=\"DejaVuSans-6e\" transform=\"scale(0.015625)\"/>\r\n      </defs>\r\n      <use xlink:href=\"#DejaVuSans-53\"/>\r\n      <use x=\"63.476562\" xlink:href=\"#DejaVuSans-74\"/>\r\n      <use x=\"102.685547\" xlink:href=\"#DejaVuSans-72\"/>\r\n      <use x=\"143.798828\" xlink:href=\"#DejaVuSans-61\"/>\r\n      <use x=\"205.078125\" xlink:href=\"#DejaVuSans-69\"/>\r\n      <use x=\"232.861328\" xlink:href=\"#DejaVuSans-6e\"/>\r\n     </g>\r\n    </g>\r\n   </g>\r\n   <g id=\"line2d_25\">\r\n    <path clip-path=\"url(#pbdd0a0ceb2)\" d=\"M 92.829119 209.435268 \r\nL 93.133788 211.896863 \r\nL 93.438456 212.349029 \r\nL 93.743124 214.492298 \r\nL 94.047793 213.729041 \r\nL 94.352461 214.756364 \r\nL 94.657129 214.401865 \r\nL 94.961797 212.683632 \r\nL 95.266466 214.579114 \r\nL 95.571134 213.927995 \r\nL 95.875802 212.349029 \r\nL 96.180471 213.011001 \r\nL 96.485139 211.703335 \r\nL 96.789807 209.187481 \r\nL 97.094476 209.149499 \r\nL 97.399144 205.819745 \r\nL 97.703812 205.438116 \r\nL 98.00848 201.095509 \r\nL 98.313149 201.381278 \r\nL 98.617817 195.676746 \r\nL 98.922485 195.72558 \r\nL 99.227154 190.974214 \r\nL 99.531822 188.447508 \r\nL 99.83649 187.186867 \r\nL 101.6645 162.590818 \r\nL 101.969168 156.875433 \r\nL 102.273837 154.487994 \r\nL 103.187842 142.594207 \r\nL 103.49251 134.447975 \r\nL 104.101847 125.209309 \r\nL 104.406515 120.960752 \r\nL 104.711183 118.755988 \r\nL 105.015852 111.284389 \r\nL 105.32052 109.539026 \r\nL 105.625188 102.584705 \r\nL 105.929856 98.249333 \r\nL 106.234525 91.859316 \r\nL 106.539193 90.911575 \r\nL 107.757866 69.967222 \r\nL 108.062535 67.650321 \r\nL 108.367203 64.020328 \r\nL 108.976539 54.097987 \r\nL 109.281208 52.023447 \r\nL 109.890544 43.419622 \r\nL 110.195213 39.914428 \r\nL 110.804549 36.380294 \r\nL 112.023223 26.251764 \r\nL 112.327891 26.580942 \r\nL 112.632559 23.392263 \r\nL 112.937227 23.365133 \r\nL 113.241896 21.82415 \r\nL 113.546564 21.388262 \r\nL 113.851232 22.486122 \r\nL 114.155901 20.214437 \r\nL 114.460569 17.083636 \r\nL 114.765237 20.332001 \r\nL 115.069906 18.894111 \r\nL 115.374574 18.725905 \r\nL 115.679242 20.429669 \r\nL 115.98391 20.693734 \r\nL 116.288579 23.128198 \r\nL 116.897915 25.611497 \r\nL 117.81192 31.865864 \r\nL 118.116589 35.900998 \r\nL 118.421257 36.487005 \r\nL 119.63993 50.891222 \r\nL 120.249267 57.916081 \r\nL 121.163272 68.24899 \r\nL 123.29595 102.056575 \r\nL 123.905286 111.763685 \r\nL 124.819291 123.104021 \r\nL 126.342633 147.463135 \r\nL 126.951969 153.869431 \r\nL 128.170643 172.388362 \r\nL 128.475311 174.678133 \r\nL 128.779979 178.734971 \r\nL 129.084648 180.820363 \r\nL 129.389316 186.389246 \r\nL 129.693984 188.87797 \r\nL 129.998652 194.313012 \r\nL 130.303321 196.624487 \r\nL 130.912657 198.500073 \r\nL 131.217326 201.753864 \r\nL 131.521994 202.792038 \r\nL 131.826662 206.456395 \r\nL 132.131331 207.129219 \r\nL 132.435999 205.756441 \r\nL 132.740667 209.985103 \r\nL 133.045336 210.560258 \r\nL 133.350004 210.527702 \r\nL 133.654672 212.629372 \r\nL 133.95934 212.370733 \r\nL 134.264009 209.936269 \r\nL 134.568677 210.216612 \r\nL 134.873345 210.345027 \r\nL 135.178014 209.057257 \r\nL 135.482682 209.084387 \r\nL 135.78735 206.800042 \r\nL 136.092019 205.901135 \r\nL 136.396687 203.567956 \r\nL 137.006023 200.675899 \r\nL 137.310692 197.244859 \r\nL 138.224697 190.715575 \r\nL 139.748038 173.82806 \r\nL 140.052707 171.209112 \r\nL 140.662043 162.201955 \r\nL 141.576048 148.184793 \r\nL 141.880716 144.565653 \r\nL 142.185385 136.889674 \r\nL 142.490053 134.131458 \r\nL 142.794721 130.300704 \r\nL 143.09939 129.788851 \r\nL 143.404058 120.727434 \r\nL 144.622731 101.64239 \r\nL 144.927399 99.535294 \r\nL 145.536736 87.905572 \r\nL 146.450741 77.999508 \r\nL 146.755409 74.125345 \r\nL 147.364746 62.942363 \r\nL 148.278751 54.678568 \r\nL 148.583419 52.826494 \r\nL 148.888087 47.756803 \r\nL 149.192756 46.335192 \r\nL 149.497424 40.878447 \r\nL 149.802092 39.552694 \r\nL 150.106761 36.116229 \r\nL 150.411429 36.481579 \r\nL 151.020766 30.147631 \r\nL 151.325434 29.921548 \r\nL 151.93477 23.520679 \r\nL 152.239439 25.200929 \r\nL 152.544107 24.68546 \r\nL 152.848775 22.232909 \r\nL 153.153444 22.012251 \r\nL 153.458112 24.168181 \r\nL 153.76278 21.764464 \r\nL 154.067449 23.294595 \r\nL 154.372117 23.229484 \r\nL 154.676785 23.683459 \r\nL 154.981453 25.029106 \r\nL 155.286122 24.350856 \r\nL 156.809463 35.819608 \r\nL 157.4188 41.992585 \r\nL 158.028137 43.345467 \r\nL 158.332805 47.993739 \r\nL 158.637473 54.593561 \r\nL 158.942141 55.42193 \r\nL 159.24681 59.920083 \r\nL 159.551478 62.571587 \r\nL 160.160815 70.726862 \r\nL 160.770151 81.607797 \r\nL 161.379488 87.173062 \r\nL 161.988824 96.008396 \r\nL 162.293493 100.882751 \r\nL 162.598161 103.085706 \r\nL 163.207498 113.029752 \r\nL 164.426171 131.561344 \r\nL 164.730839 138.591629 \r\nL 165.035508 141.780307 \r\nL 165.949512 155.323598 \r\nL 166.254181 156.906181 \r\nL 166.558849 161.539983 \r\nL 166.863517 163.560263 \r\nL 167.168186 167.63157 \r\nL 167.472854 173.251096 \r\nL 168.082191 179.429499 \r\nL 168.691527 186.557452 \r\nL 169.9102 196.695025 \r\nL 170.214869 197.082079 \r\nL 170.519537 198.769565 \r\nL 171.128874 203.757866 \r\nL 171.433542 204.899134 \r\nL 171.73821 203.736162 \r\nL 172.042879 207.102089 \r\nL 172.347547 206.941118 \r\nL 172.652215 205.43269 \r\nL 172.956883 207.905137 \r\nL 173.261552 205.761867 \r\nL 173.870888 206.827172 \r\nL 174.175557 204.248014 \r\nL 174.480225 204.047252 \r\nL 174.784893 203.121215 \r\nL 175.089562 203.529974 \r\nL 175.39423 202.07038 \r\nL 176.003566 197.065801 \r\nL 176.308235 195.262561 \r\nL 176.612903 189.751556 \r\nL 176.917571 190.214574 \r\nL 177.526908 186.637033 \r\nL 177.831576 180.167435 \r\nL 178.136245 180.592471 \r\nL 178.745581 167.734664 \r\nL 179.354918 164.701531 \r\nL 179.964254 156.62222 \r\nL 180.268923 152.715502 \r\nL 180.573591 145.891405 \r\nL 181.182928 139.468832 \r\nL 181.792264 130.494231 \r\nL 182.096933 124.994077 \r\nL 182.401601 123.335531 \r\nL 183.620274 103.915884 \r\nL 184.229611 95.899876 \r\nL 185.143616 83.709467 \r\nL 186.362289 68.981499 \r\nL 186.666957 62.645742 \r\nL 186.971625 58.90723 \r\nL 187.276294 58.438785 \r\nL 187.580962 52.320068 \r\nL 187.88563 49.594408 \r\nL 188.190299 45.139664 \r\nL 188.494967 42.893301 \r\nL 189.104304 40.429897 \r\nL 189.71364 35.215513 \r\nL 190.018309 33.07767 \r\nL 190.322977 31.920124 \r\nL 190.627645 29.489277 \r\nL 190.932313 31.089946 \r\nL 191.236982 30.131353 \r\nL 191.54165 27.555813 \r\nL 191.846318 26.942675 \r\nL 192.150987 27.819878 \r\nL 192.455655 28.33173 \r\nL 192.760323 25.761616 \r\nL 193.064992 27.081942 \r\nL 193.36966 27.346007 \r\nL 193.674328 29.257767 \r\nL 193.978996 27.555813 \r\nL 194.283665 29.219785 \r\nL 194.588333 32.285474 \r\nL 194.893001 32.124503 \r\nL 195.19767 34.93517 \r\nL 195.502338 36.552117 \r\nL 196.416343 44.902729 \r\nL 196.721011 45.074552 \r\nL 197.02568 47.827341 \r\nL 197.330348 52.600411 \r\nL 197.635016 55.331497 \r\nL 197.939684 59.424508 \r\nL 198.244353 60.336076 \r\nL 198.549021 63.750837 \r\nL 198.853689 69.337807 \r\nL 199.158358 72.606066 \r\nL 199.463026 74.072894 \r\nL 199.767694 81.926122 \r\nL 200.072363 83.472532 \r\nL 200.681699 94.424004 \r\nL 201.291036 99.379749 \r\nL 201.595704 103.452865 \r\nL 201.900372 110.380056 \r\nL 203.119046 126.965523 \r\nL 203.423714 133.020937 \r\nL 204.033051 140.418381 \r\nL 205.86106 163.941892 \r\nL 206.165729 165.687254 \r\nL 206.470397 172.679557 \r\nL 206.775065 175.00731 \r\nL 207.079734 174.538866 \r\nL 207.384402 179.957629 \r\nL 207.68907 181.697566 \r\nL 207.993738 185.958783 \r\nL 208.298407 188.51262 \r\nL 208.603075 189.724426 \r\nL 208.907743 193.291115 \r\nL 209.212412 195.045521 \r\nL 209.51708 194.17917 \r\nL 209.821748 198.838294 \r\nL 210.431085 202.491799 \r\nL 210.735753 200.147768 \r\nL 211.040422 202.669049 \r\nL 211.34509 202.497225 \r\nL 211.649758 204.112364 \r\nL 211.954426 204.801466 \r\nL 212.868431 200.028396 \r\nL 213.1731 203.379854 \r\nL 213.477768 201.828019 \r\nL 213.782436 201.639918 \r\nL 214.087105 200.762715 \r\nL 214.391773 198.225156 \r\nL 214.696441 197.906831 \r\nL 215.305778 193.699874 \r\nL 215.610446 191.845991 \r\nL 216.219783 183.318131 \r\nL 216.524451 182.813513 \r\nL 216.829119 179.510889 \r\nL 217.133788 174.484606 \r\nL 217.438456 173.01416 \r\nL 217.743124 166.893635 \r\nL 218.047793 166.323905 \r\nL 218.352461 161.36816 \r\nL 218.657129 160.085816 \r\nL 218.961797 153.701225 \r\nL 219.266466 150.044102 \r\nL 219.571134 149.714925 \r\nL 220.180471 137.126609 \r\nL 220.789807 130.94278 \r\nL 221.399144 122.559613 \r\nL 221.703812 119.736285 \r\nL 222.00848 113.789391 \r\nL 222.313149 110.197381 \r\nL 222.617817 103.71693 \r\nL 223.227154 97.095404 \r\nL 223.531822 91.859316 \r\nL 224.445827 80.989233 \r\nL 224.750495 74.75657 \r\nL 225.055164 73.005781 \r\nL 225.359832 67.644895 \r\nL 226.273837 59.075435 \r\nL 226.578505 52.895224 \r\nL 226.883173 52.562429 \r\nL 227.187842 51.198695 \r\nL 227.49251 46.819914 \r\nL 227.797178 46.507015 \r\nL 228.101847 41.464454 \r\nL 228.406515 40.29063 \r\nL 228.711183 39.999435 \r\nL 229.015852 37.300905 \r\nL 229.32052 35.846738 \r\nL 229.625188 33.406847 \r\nL 229.929856 32.312604 \r\nL 230.234525 31.909272 \r\nL 230.539193 32.31803 \r\nL 230.843861 30.049963 \r\nL 231.14853 32.274622 \r\nL 231.453198 30.512982 \r\nL 231.757866 30.357436 \r\nL 232.062535 31.531261 \r\nL 232.367203 30.918123 \r\nL 232.671871 32.151633 \r\nL 232.976539 32.026835 \r\nL 233.281208 32.544114 \r\nL 233.585876 34.877293 \r\nL 233.890544 33.81018 \r\nL 234.499881 39.670258 \r\nL 234.804549 39.854742 \r\nL 235.413886 49.093408 \r\nL 235.718554 47.934053 \r\nL 236.023223 52.260382 \r\nL 236.327891 51.129966 \r\nL 236.937227 60.64174 \r\nL 237.241896 62.097716 \r\nL 238.460569 78.549343 \r\nL 238.765237 81.813985 \r\nL 239.069906 87.292434 \r\nL 239.374574 89.915 \r\nL 239.679242 91.540991 \r\nL 239.98391 95.27046 \r\nL 240.288579 101.987846 \r\nL 240.593247 105.219932 \r\nL 241.202584 113.424041 \r\nL 241.507252 117.464601 \r\nL 241.81192 123.697264 \r\nL 242.116589 125.679562 \r\nL 242.421257 131.863391 \r\nL 242.725925 135.185911 \r\nL 243.335262 144.522245 \r\nL 243.944598 148.470562 \r\nL 244.553935 158.345879 \r\nL 246.077277 178.018739 \r\nL 246.381945 178.621025 \r\nL 246.686613 179.908795 \r\nL 246.991281 182.209419 \r\nL 247.600618 187.913951 \r\nL 247.905286 187.785536 \r\nL 248.514623 193.629336 \r\nL 249.428628 198.800312 \r\nL 249.733296 197.01335 \r\nL 250.037965 199.619638 \r\nL 250.342633 200.223732 \r\nL 250.647301 200.422685 \r\nL 250.951969 200.368425 \r\nL 251.256638 201.299888 \r\nL 251.561306 201.661622 \r\nL 251.865974 198.590507 \r\nL 252.170643 198.445813 \r\nL 252.475311 196.463515 \r\nL 252.779979 196.479793 \r\nL 253.389316 194.734431 \r\nL 253.693984 192.951086 \r\nL 253.998652 192.676169 \r\nL 254.912657 184.29481 \r\nL 255.217326 184.099475 \r\nL 255.521994 179.925073 \r\nL 255.826662 177.78723 \r\nL 256.435999 170.056991 \r\nL 257.350004 160.559686 \r\nL 257.654672 155.544255 \r\nL 258.264009 150.830872 \r\nL 258.568677 147.425154 \r\nL 258.873345 141.888827 \r\nL 259.482682 135.144311 \r\nL 259.78735 130.624455 \r\nL 260.092019 124.062614 \r\nL 260.701355 118.654703 \r\nL 261.310692 109.076008 \r\nL 261.61536 104.362624 \r\nL 261.920028 101.879326 \r\nL 262.834033 88.202193 \r\nL 263.138702 84.011514 \r\nL 263.44337 83.061964 \r\nL 264.357375 71.851852 \r\nL 265.576048 59.149591 \r\nL 266.185385 52.826494 \r\nL 266.490053 51.824493 \r\nL 266.794721 48.851046 \r\nL 267.09939 47.05685 \r\nL 268.013395 38.803907 \r\nL 268.318063 39.089676 \r\nL 268.622731 37.671682 \r\nL 268.927399 38.400574 \r\nL 269.232068 37.047692 \r\nL 269.536736 34.871867 \r\nL 269.841404 35.168488 \r\nL 270.146073 32.582096 \r\nL 270.450741 32.786475 \r\nL 270.755409 34.251494 \r\nL 271.060078 32.710511 \r\nL 271.364746 32.721363 \r\nL 271.669414 36.206662 \r\nL 271.974082 34.548116 \r\nL 272.278751 34.888145 \r\nL 272.888087 40.339464 \r\nL 273.192756 39.520138 \r\nL 273.497424 40.704815 \r\nL 274.411429 49.10426 \r\nL 275.020766 53.175567 \r\nL 275.325434 54.792514 \r\nL 275.630102 58.901804 \r\nL 275.93477 59.775389 \r\nL 276.544107 67.840231 \r\nL 277.153444 74.653476 \r\nL 277.76278 84.523366 \r\nL 278.067449 86.753452 \r\nL 279.895458 109.745214 \r\nL 280.200127 115.158552 \r\nL 280.504795 118.434046 \r\nL 280.809463 123.071465 \r\nL 281.114132 124.288698 \r\nL 281.4188 129.045489 \r\nL 282.028137 134.771726 \r\nL 282.332805 141.47826 \r\nL 282.637473 143.929002 \r\nL 283.24681 151.832873 \r\nL 285.684156 177.582851 \r\nL 286.902829 185.776108 \r\nL 287.207498 188.259406 \r\nL 287.512166 189.324711 \r\nL 288.121503 194.432384 \r\nL 288.426171 193.661892 \r\nL 288.730839 195.799735 \r\nL 289.035508 194.405254 \r\nL 289.340176 195.69845 \r\nL 289.644844 199.183749 \r\nL 289.949512 198.391553 \r\nL 290.254181 198.062376 \r\nL 290.558849 196.085504 \r\nL 290.863517 196.812588 \r\nL 291.168186 195.116059 \r\nL 291.777522 196.32244 \r\nL 292.082191 194.454087 \r\nL 292.386859 190.552795 \r\nL 292.691527 189.751556 \r\nL 292.996195 189.411527 \r\nL 293.300864 184.643883 \r\nL 293.605532 183.356113 \r\nL 293.9102 183.07577 \r\nL 294.519537 175.993033 \r\nL 294.824205 175.653004 \r\nL 295.128874 172.777225 \r\nL 295.433542 167.873932 \r\nL 295.73821 166.991303 \r\nL 296.042879 161.657546 \r\nL 296.347547 159.541407 \r\nL 296.652215 154.876858 \r\nL 296.956883 152.726354 \r\nL 298.480225 132.187142 \r\nL 298.784893 129.886519 \r\nL 299.39423 122.257566 \r\nL 299.698898 119.752563 \r\nL 300.308235 110.87563 \r\nL 300.917571 103.000699 \r\nL 301.831576 89.021519 \r\nL 302.440913 84.172485 \r\nL 302.745581 79.507936 \r\nL 303.354918 75.984654 \r\nL 303.659586 69.827955 \r\nL 305.182928 54.155864 \r\nL 305.487596 56.118267 \r\nL 305.792264 50.896648 \r\nL 307.010938 42.871597 \r\nL 307.924942 39.950601 \r\nL 308.229611 38.248646 \r\nL 308.534279 39.433322 \r\nL 308.838947 40.021139 \r\nL 309.143616 36.751071 \r\nL 309.448284 35.716514 \r\nL 309.752952 36.347738 \r\nL 310.362289 38.406 \r\nL 310.666957 39.939749 \r\nL 310.971625 40.361168 \r\nL 311.276294 39.180109 \r\nL 311.580962 39.773352 \r\nL 311.88563 42.719669 \r\nL 312.494967 43.367171 \r\nL 312.799635 47.536146 \r\nL 313.104304 46.318914 \r\nL 314.018309 55.157865 \r\nL 314.322977 58.030027 \r\nL 314.627645 63.745411 \r\nL 314.932313 64.801672 \r\nL 315.236982 68.01748 \r\nL 315.54165 66.579591 \r\nL 315.846318 70.596638 \r\nL 316.455655 79.943824 \r\nL 317.064992 86.748026 \r\nL 317.36966 89.898722 \r\nL 317.674328 94.952135 \r\nL 317.978996 97.677794 \r\nL 318.588333 105.881904 \r\nL 319.19767 111.096288 \r\nL 319.502338 117.690684 \r\nL 319.807006 120.432622 \r\nL 320.416343 129.551916 \r\nL 321.330348 141.516242 \r\nL 321.635016 141.698917 \r\nL 321.939684 145.442856 \r\nL 322.549021 155.851729 \r\nL 323.158358 160.349881 \r\nL 323.463026 166.528284 \r\nL 323.767694 167.045563 \r\nL 324.377031 173.251096 \r\nL 324.681699 177.188562 \r\nL 324.986367 178.767527 \r\nL 325.291036 179.75325 \r\nL 325.595704 182.882242 \r\nL 325.900372 181.616176 \r\nL 326.205041 185.975061 \r\nL 326.814377 187.848839 \r\nL 327.119046 188.080348 \r\nL 327.423714 187.472637 \r\nL 327.728382 192.36327 \r\nL 328.033051 192.061222 \r\nL 328.337719 193.117483 \r\nL 328.642387 195.385551 \r\nL 328.947055 194.783265 \r\nL 329.251724 196.000497 \r\nL 329.556392 193.258559 \r\nL 330.165729 192.314436 \r\nL 330.470397 189.66474 \r\nL 330.775065 191.328713 \r\nL 331.384402 187.69872 \r\nL 331.68907 188.140034 \r\nL 331.993738 187.391247 \r\nL 332.298407 183.298235 \r\nL 332.603075 183.249401 \r\nL 332.907743 179.628452 \r\nL 333.51708 176.611597 \r\nL 333.821748 171.328484 \r\nL 334.126417 171.522011 \r\nL 334.735753 162.885631 \r\nL 335.040422 161.67925 \r\nL 335.954426 149.962712 \r\nL 336.259095 148.821444 \r\nL 336.868431 142.664745 \r\nL 337.1731 136.274727 \r\nL 337.477768 133.968678 \r\nL 337.782436 130.38752 \r\nL 338.087105 125.151431 \r\nL 338.391773 122.322678 \r\nL 338.696441 117.075738 \r\nL 339.001109 116.052033 \r\nL 339.915114 101.718354 \r\nL 340.219783 99.218778 \r\nL 341.438456 85.82018 \r\nL 342.047793 79.497084 \r\nL 342.352461 75.25757 \r\nL 343.266466 66.950367 \r\nL 343.875802 61.169871 \r\nL 344.180471 59.538454 \r\nL 344.485139 57.04973 \r\nL 344.789807 56.036877 \r\nL 345.399144 49.997741 \r\nL 346.313149 43.414196 \r\nL 346.617817 43.157366 \r\nL 346.922485 42.574975 \r\nL 347.227154 40.026565 \r\nL 347.531822 40.495009 \r\nL 347.83649 39.180109 \r\nL 348.141159 39.196387 \r\nL 348.445827 39.397149 \r\nL 348.750495 38.308332 \r\nL 349.359832 40.636085 \r\nL 349.6645 40.048269 \r\nL 349.969168 41.723094 \r\nL 350.273837 44.750801 \r\nL 350.578505 44.115959 \r\nL 350.883173 44.788783 \r\nL 351.187842 47.546998 \r\nL 351.49251 48.31749 \r\nL 351.797178 48.603259 \r\nL 352.101847 52.146436 \r\nL 352.406515 53.466762 \r\nL 353.015852 58.590713 \r\nL 353.32052 60.464491 \r\nL 353.625188 65.474496 \r\nL 353.929856 65.980922 \r\nL 354.539193 69.95637 \r\nL 355.14853 80.368861 \r\nL 355.453198 83.385716 \r\nL 355.757866 84.964681 \r\nL 356.062535 89.479111 \r\nL 356.367203 90.296628 \r\nL 356.976539 100.215353 \r\nL 357.281208 102.024019 \r\nL 357.890544 108.160823 \r\nL 358.499881 118.804822 \r\nL 359.109218 123.368087 \r\nL 359.718554 131.599326 \r\nL 360.632559 142.572503 \r\nL 360.937227 147.378128 \r\nL 362.765237 164.366928 \r\nL 363.069906 164.867929 \r\nL 363.374574 167.179404 \r\nL 363.679242 172.507734 \r\nL 363.98391 175.584275 \r\nL 364.593247 178.32983 \r\nL 364.897915 181.057298 \r\nL 365.202584 181.373815 \r\nL 365.81192 185.909949 \r\nL 366.116589 188.575923 \r\nL 366.421257 187.870543 \r\nL 366.725925 191.064647 \r\nL 367.030594 191.189445 \r\nL 367.335262 189.61048 \r\nL 367.63993 191.448085 \r\nL 367.944598 191.227427 \r\nL 368.249267 190.780687 \r\nL 368.553935 189.681018 \r\nL 368.858603 189.509195 \r\nL 369.163272 189.482065 \r\nL 369.46794 190.50577 \r\nL 369.772608 189.158313 \r\nL 370.077277 186.685867 \r\nL 370.686613 183.437503 \r\nL 371.29595 178.999036 \r\nL 371.600618 178.805509 \r\nL 372.819291 170.373508 \r\nL 373.428628 164.777495 \r\nL 373.733296 162.563688 \r\nL 374.037965 159.304472 \r\nL 374.342633 154.542254 \r\nL 374.647301 154.12807 \r\nL 374.951969 150.583084 \r\nL 375.561306 141.440278 \r\nL 375.865974 140.223045 \r\nL 376.475311 132.002658 \r\nL 376.779979 127.893369 \r\nL 377.084648 126.303552 \r\nL 377.998652 113.456597 \r\nL 378.303321 111.004046 \r\nL 378.912657 102.693225 \r\nL 379.217326 102.353196 \r\nL 379.521994 96.869321 \r\nL 379.826662 93.98269 \r\nL 380.435999 85.950404 \r\nL 380.740667 81.634927 \r\nL 381.045336 80.278427 \r\nL 381.350004 76.366283 \r\nL 381.654672 74.288125 \r\nL 381.95934 70.462797 \r\nL 382.264009 69.741139 \r\nL 382.568677 64.020328 \r\nL 382.873345 63.320375 \r\nL 383.178014 58.460489 \r\nL 383.482682 59.742833 \r\nL 383.78735 57.409654 \r\nL 384.396687 50.196694 \r\nL 384.701355 50.390221 \r\nL 385.006023 49.308639 \r\nL 385.61536 45.107108 \r\nL 385.920028 44.960606 \r\nL 386.224697 45.499588 \r\nL 386.529365 44.674837 \r\nL 386.834033 43.258651 \r\nL 387.138702 43.797634 \r\nL 387.44337 45.59183 \r\nL 387.748038 41.001436 \r\nL 388.052707 43.059698 \r\nL 388.357375 43.656558 \r\nL 388.662043 45.349469 \r\nL 388.966711 41.83704 \r\nL 389.27138 43.383449 \r\nL 389.576048 46.038571 \r\nL 389.880716 46.006015 \r\nL 390.794721 52.971188 \r\nL 391.09939 52.92778 \r\nL 391.404058 55.00232 \r\nL 391.708726 58.654016 \r\nL 392.013395 59.845927 \r\nL 393.232068 70.66175 \r\nL 393.841404 79.044917 \r\nL 394.146073 79.582091 \r\nL 394.755409 86.295859 \r\nL 395.060078 88.213045 \r\nL 395.364746 91.902724 \r\nL 395.669414 97.305209 \r\nL 395.974082 98.140813 \r\nL 396.278751 101.79251 \r\nL 396.583419 107.665248 \r\nL 396.888087 111.344075 \r\nL 397.192756 113.342651 \r\nL 397.192756 113.342651 \r\n\" style=\"fill:none;stroke:#1f77b4;stroke-linecap:square;stroke-width:1.5;\"/>\r\n   </g>\r\n   <g id=\"patch_3\">\r\n    <path d=\"M 77.610938 224.64 \r\nL 77.610938 7.2 \r\n\" style=\"fill:none;stroke:#000000;stroke-linecap:square;stroke-linejoin:miter;stroke-width:0.8;\"/>\r\n   </g>\r\n   <g id=\"patch_4\">\r\n    <path d=\"M 412.410938 224.64 \r\nL 412.410938 7.2 \r\n\" style=\"fill:none;stroke:#000000;stroke-linecap:square;stroke-linejoin:miter;stroke-width:0.8;\"/>\r\n   </g>\r\n   <g id=\"patch_5\">\r\n    <path d=\"M 77.610938 224.64 \r\nL 412.410938 224.64 \r\n\" style=\"fill:none;stroke:#000000;stroke-linecap:square;stroke-linejoin:miter;stroke-width:0.8;\"/>\r\n   </g>\r\n   <g id=\"patch_6\">\r\n    <path d=\"M 77.610938 7.2 \r\nL 412.410938 7.2 \r\n\" style=\"fill:none;stroke:#000000;stroke-linecap:square;stroke-linejoin:miter;stroke-width:0.8;\"/>\r\n   </g>\r\n  </g>\r\n </g>\r\n <defs>\r\n  <clipPath id=\"pbdd0a0ceb2\">\r\n   <rect height=\"217.44\" width=\"334.8\" x=\"77.610938\" y=\"7.2\"/>\r\n  </clipPath>\r\n </defs>\r\n</svg>\r\n",
      "image/png": "[encoded data removed]"
     },
     "metadata": {
      "needs_background": "light"
     }
    }
   ],
   "metadata": {}
  },
  {
   "cell_type": "markdown",
   "source": [
    "### Fourier Transformation "
   ],
   "metadata": {}
  },
  {
   "cell_type": "code",
   "execution_count": 43,
   "source": [
    "dt = vibration48_data['Time'][1]-vibration48_data['Time'][0]\r\n",
    "N = len(vibration48_data['Accelerometer'])"
   ],
   "outputs": [],
   "metadata": {}
  },
  {
   "cell_type": "code",
   "execution_count": 44,
   "source": [
    "F_Al48 = np.fft.fft(vibration48_data['Accelerometer'])\r\n",
    "Amplitude_Al48 = 2.0*np.abs(F_Al48[0:int(N/2)])/N\r\n",
    "Frequency_Al48 = np.linspace(0.0,1.0/(2*dt),int(N/2))"
   ],
   "outputs": [],
   "metadata": {}
  },
  {
   "cell_type": "code",
   "execution_count": 49,
   "source": [
    "px.line(x=Frequency_Al48,y=Amplitude_Al48,log_y=True)"
   ],
   "outputs": [
    {
     "output_type": "display_data",
     "data": {
      "application/vnd.plotly.v1+json": {
       "config": {
        "plotlyServerURL": "https://plot.ly"
       },
       "data": [
        {
         "hovertemplate": "x=%{x}<br>y=%{y}<extra></extra>",
         "legendgroup": "",
         "line": {
          "color": "#636efa",
          "dash": "solid"
         },
         "mode": "lines",
         "name": "",
         "orientation": "v",
         "showlegend": false,
         "type": "scatter",
         "x": [
          0,
          1.002004008016032,
          2.004008016032064,
          3.006012024048096,
          4.008016032064128,
          5.0100200400801596,
          6.012024048096192,
          7.014028056112224,
          8.016032064128256,
          9.018036072144287,
          10.020040080160319,
          11.02204408817635,
          12.024048096192384,
          13.026052104208416,
          14.028056112224448,
          15.03006012024048,
          16.03206412825651,
          17.034068136272545,
          18.036072144288575,
          19.03807615230461,
          20.040080160320638,
          21.04208416833667,
          22.0440881763527,
          23.046092184368735,
          24.04809619238477,
          25.0501002004008,
          26.052104208416832,
          27.054108216432862,
          28.056112224448896,
          29.058116232464926,
          30.06012024048096,
          31.06212424849699,
          32.06412825651302,
          33.06613226452905,
          34.06813627254509,
          35.07014028056112,
          36.07214428857715,
          37.07414829659318,
          38.07615230460922,
          39.07815631262525,
          40.080160320641276,
          41.08216432865731,
          42.08416833667334,
          43.08617234468937,
          44.0881763527054,
          45.09018036072144,
          46.09218436873747,
          47.0941883767535,
          48.09619238476954,
          49.09819639278557,
          50.1002004008016,
          51.10220440881763,
          52.104208416833664,
          53.106212424849694,
          54.108216432865724,
          55.110220440881754,
          56.11222444889779,
          57.11422845691382,
          58.11623246492985,
          59.11823647294589,
          60.12024048096192,
          61.12224448897795,
          62.12424849699398,
          63.126252505010015,
          64.12825651302605,
          65.13026052104208,
          66.1322645290581,
          67.13426853707413,
          68.13627254509018,
          69.13827655310621,
          70.14028056112224,
          71.14228456913827,
          72.1442885771543,
          73.14629258517033,
          74.14829659318636,
          75.1503006012024,
          76.15230460921843,
          77.15430861723446,
          78.1563126252505,
          79.15831663326652,
          80.16032064128255,
          81.16232464929858,
          82.16432865731463,
          83.16633266533066,
          84.16833667334669,
          85.17034068136272,
          86.17234468937875,
          87.17434869739478,
          88.1763527054108,
          89.17835671342685,
          90.18036072144288,
          91.18236472945891,
          92.18436873747494,
          93.18637274549097,
          94.188376753507,
          95.19038076152303,
          96.19238476953907,
          97.1943887775551,
          98.19639278557113,
          99.19839679358716,
          100.2004008016032,
          101.20240480961922,
          102.20440881763525,
          103.20641282565128,
          104.20841683366733,
          105.21042084168336,
          106.21242484969939,
          107.21442885771542,
          108.21643286573145,
          109.21843687374748,
          110.22044088176351,
          111.22244488977955,
          112.22444889779558,
          113.22645290581161,
          114.22845691382764,
          115.23046092184367,
          116.2324649298597,
          117.23446893787573,
          118.23647294589178,
          119.2384769539078,
          120.24048096192384,
          121.24248496993987,
          122.2444889779559,
          123.24649298597193,
          124.24849699398796,
          125.250501002004,
          126.25250501002003,
          127.25450901803606,
          128.2565130260521,
          129.25851703406812,
          130.26052104208415,
          131.26252505010018,
          132.2645290581162,
          133.26653306613224,
          134.26853707414827,
          135.2705410821643,
          136.27254509018036,
          137.2745490981964,
          138.27655310621242,
          139.27855711422845,
          140.28056112224448,
          141.2825651302605,
          142.28456913827654,
          143.28657314629257,
          144.2885771543086,
          145.29058116232463,
          146.29258517034066,
          147.2945891783567,
          148.29659318637272,
          149.29859719438875,
          150.3006012024048,
          151.30260521042084,
          152.30460921843687,
          153.3066132264529,
          154.30861723446893,
          155.31062124248496,
          156.312625250501,
          157.31462925851702,
          158.31663326653305,
          159.31863727454908,
          160.3206412825651,
          161.32264529058114,
          162.32464929859717,
          163.3266533066132,
          164.32865731462925,
          165.33066132264528,
          166.3326653306613,
          167.33466933867734,
          168.33667334669337,
          169.3386773547094,
          170.34068136272543,
          171.34268537074146,
          172.3446893787575,
          173.34669338677352,
          174.34869739478955,
          175.35070140280558,
          176.3527054108216,
          177.35470941883764,
          178.3567134268537,
          179.35871743486973,
          180.36072144288576,
          181.3627254509018,
          182.36472945891782,
          183.36673346693385,
          184.36873747494988,
          185.3707414829659,
          186.37274549098194,
          187.37474949899797,
          188.376753507014,
          189.37875751503003,
          190.38076152304606,
          191.3827655310621,
          192.38476953907815,
          193.38677354709418,
          194.3887775551102,
          195.39078156312624,
          196.39278557114227,
          197.3947895791583,
          198.39679358717433,
          199.39879759519036,
          200.4008016032064,
          201.40280561122242,
          202.40480961923845,
          203.40681362725448,
          204.4088176352705,
          205.41082164328654,
          206.41282565130257,
          207.41482965931863,
          208.41683366733466,
          209.4188376753507,
          210.42084168336672,
          211.42284569138275,
          212.42484969939878,
          213.4268537074148,
          214.42885771543084,
          215.43086172344687,
          216.4328657314629,
          217.43486973947893,
          218.43687374749496,
          219.438877755511,
          220.44088176352702,
          221.44288577154308,
          222.4448897795591,
          223.44689378757514,
          224.44889779559117,
          225.4509018036072,
          226.45290581162322,
          227.45490981963925,
          228.45691382765528,
          229.45891783567131,
          230.46092184368734,
          231.46292585170337,
          232.4649298597194,
          233.46693386773543,
          234.46893787575146,
          235.47094188376752,
          236.47294589178355,
          237.47494989979958,
          238.4769539078156,
          239.47895791583164,
          240.48096192384767,
          241.4829659318637,
          242.48496993987973,
          243.48697394789576,
          244.4889779559118,
          245.49098196392782,
          246.49298597194385,
          247.49498997995988,
          248.4969939879759,
          249.49899799599197,
          250.501002004008,
          251.50300601202403,
          252.50501002004006,
          253.5070140280561,
          254.50901803607212,
          255.51102204408815,
          256.5130260521042,
          257.51503006012024,
          258.51703406813624,
          259.5190380761523,
          260.5210420841683,
          261.52304609218436,
          262.52505010020036,
          263.5270541082164,
          264.5290581162324,
          265.5310621242485,
          266.5330661322645,
          267.53507014028054,
          268.53707414829654,
          269.5390781563126,
          270.5410821643286,
          271.54308617234466,
          272.5450901803607,
          273.5470941883767,
          274.5490981963928,
          275.5511022044088,
          276.55310621242484,
          277.55511022044084,
          278.5571142284569,
          279.5591182364729,
          280.56112224448896,
          281.56312625250496,
          282.565130260521,
          283.567134268537,
          284.5691382765531,
          285.57114228456913,
          286.57314629258514,
          287.5751503006012,
          288.5771543086172,
          289.57915831663325,
          290.58116232464926,
          291.5831663326653,
          292.5851703406813,
          293.5871743486974,
          294.5891783567134,
          295.59118236472943,
          296.59318637274544,
          297.5951903807615,
          298.5971943887775,
          299.59919839679355,
          300.6012024048096,
          301.6032064128256,
          302.6052104208417,
          303.6072144288577,
          304.60921843687373,
          305.61122244488973,
          306.6132264529058,
          307.6152304609218,
          308.61723446893785,
          309.61923847695385,
          310.6212424849699,
          311.6232464929859,
          312.625250501002,
          313.62725450901803,
          314.62925851703403,
          315.6312625250501,
          316.6332665330661,
          317.63527054108215,
          318.63727454909815,
          319.6392785571142,
          320.6412825651302,
          321.64328657314627,
          322.64529058116227,
          323.64729458917833,
          324.64929859719433,
          325.6513026052104,
          326.6533066132264,
          327.65531062124245,
          328.6573146292585,
          329.6593186372745,
          330.66132264529057,
          331.66332665330657,
          332.6653306613226,
          333.66733466933863,
          334.6693386773547,
          335.6713426853707,
          336.67334669338675,
          337.67535070140275,
          338.6773547094188,
          339.6793587174348,
          340.68136272545087,
          341.68336673346687,
          342.6853707414829,
          343.687374749499,
          344.689378757515,
          345.69138276553105,
          346.69338677354705,
          347.6953907815631,
          348.6973947895791,
          349.69939879759517,
          350.70140280561117,
          351.7034068136272,
          352.7054108216432,
          353.7074148296593,
          354.7094188376753,
          355.71142284569135,
          356.7134268537074,
          357.7154308617234,
          358.71743486973946,
          359.71943887775547,
          360.7214428857715,
          361.7234468937875,
          362.7254509018036,
          363.7274549098196,
          364.72945891783564,
          365.73146292585164,
          366.7334669338677,
          367.7354709418837,
          368.73747494989976,
          369.73947895791576,
          370.7414829659318,
          371.7434869739479,
          372.7454909819639,
          373.74749498997994,
          374.74949899799594,
          375.751503006012,
          376.753507014028,
          377.75551102204406,
          378.75751503006006,
          379.7595190380761,
          380.7615230460921,
          381.7635270541082,
          382.7655310621242,
          383.76753507014024,
          384.7695390781563,
          385.7715430861723,
          386.77354709418836,
          387.77555110220436,
          388.7775551102204,
          389.7795591182364,
          390.7815631262525,
          391.7835671342685,
          392.78557114228454,
          393.78757515030054,
          394.7895791583166,
          395.7915831663326,
          396.79358717434866,
          397.79559118236466,
          398.7975951903807,
          399.7995991983968,
          400.8016032064128,
          401.80360721442884,
          402.80561122244484,
          403.8076152304609,
          404.8096192384769,
          405.81162324649296,
          406.81362725450896,
          407.815631262525,
          408.817635270541,
          409.8196392785571,
          410.8216432865731,
          411.82364729458914,
          412.82565130260514,
          413.8276553106212,
          414.82965931863725,
          415.83166332665326,
          416.8336673346693,
          417.8356713426853,
          418.8376753507014,
          419.8396793587174,
          420.84168336673343,
          421.84368737474944,
          422.8456913827655,
          423.8476953907815,
          424.84969939879755,
          425.85170340681356,
          426.8537074148296,
          427.8557114228457,
          428.8577154308617,
          429.85971943887773,
          430.86172344689373,
          431.8637274549098,
          432.8657314629258,
          433.86773547094185,
          434.86973947895785,
          435.8717434869739,
          436.8737474949899,
          437.875751503006,
          438.877755511022,
          439.87975951903803,
          440.88176352705403,
          441.8837675350701,
          442.88577154308615,
          443.88777555110215,
          444.8897795591182,
          445.8917835671342,
          446.89378757515027,
          447.8957915831663,
          448.89779559118233,
          449.89979959919833,
          450.9018036072144,
          451.9038076152304,
          452.90581162324645,
          453.90781563126245,
          454.9098196392785,
          455.9118236472945,
          456.91382765531057,
          457.9158316633266,
          458.91783567134263,
          459.9198396793587,
          460.9218436873747,
          461.92384769539075,
          462.92585170340675,
          463.9278557114228,
          464.9298597194388,
          465.93186372745487,
          466.93386773547087,
          467.9358717434869,
          468.93787575150293,
          469.939879759519,
          470.94188376753505,
          471.94388777555105,
          472.9458917835671,
          473.9478957915831,
          474.94989979959917,
          475.95190380761517,
          476.9539078156312,
          477.9559118236472,
          478.9579158316633,
          479.9599198396793,
          480.96192384769535,
          481.96392785571135,
          482.9659318637274,
          483.9679358717434,
          484.96993987975947,
          485.9719438877755,
          486.9739478957915,
          487.9759519038076,
          488.9779559118236,
          489.97995991983964,
          490.98196392785565,
          491.9839679358717,
          492.9859719438877,
          493.98797595190376,
          494.98997995991976,
          495.9919839679358,
          496.9939879759518,
          497.9959919839679,
          498.99799599198394,
          500
         ],
         "xaxis": "x",
         "y": [
          0.315429969414,
          0.09211456229556703,
          0.09638139205878793,
          0.10623587238271862,
          0.12477966169601887,
          0.1586205949829851,
          0.23262910535043171,
          0.49800169803932176,
          1.9508565702873104,
          0.31094823042964387,
          0.16455741309970823,
          0.11024943465040338,
          0.08218851972579172,
          0.06517314629804255,
          0.05380447385197615,
          0.04526191004817652,
          0.04122223055387919,
          0.03584028954351969,
          0.03172199094134431,
          0.02870866352000816,
          0.02630854743962359,
          0.02418879739838295,
          0.022430814037515713,
          0.02137791152312516,
          0.019199137882987178,
          0.01819047977380634,
          0.017169727129541783,
          0.016227807090826402,
          0.015349401521454495,
          0.015085884526415358,
          0.014262531200915375,
          0.014077406970154261,
          0.01293059922833191,
          0.012360457095464754,
          0.01199773083431905,
          0.011570301319437416,
          0.01110887324740623,
          0.010826490555981472,
          0.010477068995546365,
          0.010046044083079735,
          0.009843750581693757,
          0.009585562244764272,
          0.009220255927022712,
          0.009029831724739687,
          0.008762791110200155,
          0.008457964776310622,
          0.00824572970392939,
          0.007762983942909774,
          0.008078669668928994,
          0.007542834892375845,
          0.007703216642347359,
          0.007581323658075758,
          0.007837840582153323,
          0.008774880989641463,
          0.006791513523829958,
          0.005280794408006366,
          0.007146721283025949,
          0.006741944792426986,
          0.006428517090142168,
          0.006328924202358634,
          0.0062584034373933325,
          0.0061655867758592395,
          0.006056305624458675,
          0.005987728990094832,
          0.00577594307517384,
          0.00562082126937919,
          0.00554513733496614,
          0.005431710088279015,
          0.005436811893016364,
          0.00536583015132256,
          0.005217611381670845,
          0.005192517240458842,
          0.005114531694088585,
          0.004902224356671816,
          0.0049274718313238475,
          0.004862918946760765,
          0.004849588335251179,
          0.004709468376068807,
          0.004728535993615116,
          0.004416248289319821,
          0.004636535336936285,
          0.0044796452976315305,
          0.0044894858668102135,
          0.00435329472397612,
          0.004297891509125088,
          0.004279367622188807,
          0.004288907140401634,
          0.00418168746959758,
          0.004173587208538818,
          0.004040218624638089,
          0.004035158017992959,
          0.00398586725790803,
          0.003934129380075794,
          0.003919534476021731,
          0.003773682769663296,
          0.0038234113246002122,
          0.003736669838937154,
          0.003714902379943857,
          0.0036968089313454164,
          0.0037318025769177993,
          0.003622070908296323,
          0.0036466472124786526,
          0.003504054770423399,
          0.0034490401894233533,
          0.003442275629123306,
          0.003421273427466235,
          0.0034433518774271963,
          0.0033490200425937964,
          0.0033548883690764004,
          0.0032971094517867377,
          0.003239300581994214,
          0.0032461939649787615,
          0.0032760070513680227,
          0.0032247389556990923,
          0.0030899253952619095,
          0.0031929559565393004,
          0.0030513082353432093,
          0.00307460911050848,
          0.0031352299893009795,
          0.0030287310679328384,
          0.002976493527140827,
          0.0029912938778472414,
          0.0029464080947801175,
          0.002988721116418907,
          0.0029176967877532272,
          0.0028584897370940816,
          0.002860291168704363,
          0.0028364878037660367,
          0.0028031118048851508,
          0.00282671758332198,
          0.002751541280628788,
          0.002763986466835317,
          0.002740288458739031,
          0.002719630063345053,
          0.002753259058954671,
          0.0026703895776572155,
          0.0027158744682915944,
          0.0026145519656459227,
          0.0026321917336258865,
          0.0026354996241453894,
          0.002610508843118917,
          0.0025172335133555055,
          0.0025889652357782237,
          0.002557581714433945,
          0.002573785408194472,
          0.0024371084273972126,
          0.002513292394746655,
          0.0024399731806400817,
          0.0024047003919925873,
          0.0025096574534126475,
          0.0024738763693216955,
          0.0022865814024740083,
          0.0025671351625878172,
          0.002480010777435322,
          0.0023894383606025515,
          0.0023236546302012936,
          0.002234966187269824,
          0.002415658751952081,
          0.002424921578178268,
          0.0023316671838403903,
          0.0023922148490540893,
          0.002331791967991969,
          0.0023021668641019385,
          0.002249102829414289,
          0.002242498573891348,
          0.0022226681070565573,
          0.002204232197128117,
          0.002246798408417571,
          0.002233669288788549,
          0.00223087681886574,
          0.002194632280761948,
          0.0021765018872676694,
          0.0021174427817745325,
          0.0020948304753840748,
          0.0021159863305815537,
          0.0021152570189009014,
          0.00207361269360058,
          0.002116986650081851,
          0.0020628880566896726,
          0.0020818325665570565,
          0.0020413340877812707,
          0.0020365825911897936,
          0.0020763467850667375,
          0.0020380553094762996,
          0.002062855556526079,
          0.002045920881650948,
          0.002004664399684527,
          0.0020660008744001254,
          0.001989120512414633,
          0.002020464087990363,
          0.0019411024936685714,
          0.0019933620607529693,
          0.0019536134815380797,
          0.001937521345783418,
          0.0019210138513031012,
          0.001911088127466468,
          0.0019103204780559979,
          0.0018849793297020358,
          0.0018745401584414733,
          0.0018712365999184312,
          0.0019098043383441374,
          0.0018456211048662728,
          0.0018828121980811023,
          0.001822060935513819,
          0.0018881905956895499,
          0.001868960880435714,
          0.0018138252875244843,
          0.0018232550674544491,
          0.001828966129065574,
          0.001823482878588058,
          0.0017888055283629821,
          0.0018006785545946044,
          0.0017838927591580407,
          0.0017707667125105592,
          0.001768815544114688,
          0.0017793202743707722,
          0.0017846122838484962,
          0.0017732012904614087,
          0.0017257526946413918,
          0.0017291859528148392,
          0.0017772981748251926,
          0.0017179729096947782,
          0.0017216254476940351,
          0.0017295604050420858,
          0.0017085744253394672,
          0.0016594165848724958,
          0.001685807582410862,
          0.0016679609873471277,
          0.0016528285548438615,
          0.0016720639689830898,
          0.0016496849842244632,
          0.001669832247219546,
          0.0016960054684811716,
          0.0016002760276564202,
          0.001613516997865027,
          0.0016595377466461128,
          0.0016400364221486666,
          0.0016027018789545235,
          0.001625826678574807,
          0.001610566427555595,
          0.001647113916838461,
          0.0015896433728368306,
          0.001611361230750855,
          0.0016260040740352674,
          0.0015906044166124963,
          0.0015667316804655114,
          0.0015573007441848261,
          0.001582687165881864,
          0.0015979707055331909,
          0.001542169820798273,
          0.001583749445160404,
          0.001567098265740924,
          0.0015774706890642268,
          0.0015082299900886964,
          0.0015584945155864079,
          0.001508726241367768,
          0.0015113757051174873,
          0.0015175704675325376,
          0.0015375090013017242,
          0.0015140711854172233,
          0.001513230660999139,
          0.001534505227121702,
          0.001480895695044113,
          0.00149641993955226,
          0.0014551801573075376,
          0.0014802374253703092,
          0.0015473326966313774,
          0.0014812169625789383,
          0.0014368128012835712,
          0.0015013391792633888,
          0.0014682563679888326,
          0.0014305308069484481,
          0.0015102362649246047,
          0.0014567910191822283,
          0.0014256312868324874,
          0.001450831929981865,
          0.00147266353499508,
          0.0014181407271673092,
          0.0014652725650479957,
          0.0014447052389223115,
          0.001407025866747638,
          0.0014564483156356343,
          0.0014178452816806545,
          0.0013649267451162554,
          0.0013750757485853815,
          0.0014100476165417946,
          0.0014207150012162473,
          0.0013992370090099404,
          0.001412522295109919,
          0.0013599414152645258,
          0.0013688738980145224,
          0.0014085745161611382,
          0.0013961334480248138,
          0.0013680683500974739,
          0.0013394673767951702,
          0.0013911999429339664,
          0.0013894497597510898,
          0.0013865473567942622,
          0.0013104423310850042,
          0.0012831084371684033,
          0.0013819636473126591,
          0.0013715575212694003,
          0.001427985380687905,
          0.001201237554161253,
          0.0013641736384976961,
          0.0013522324678457553,
          0.001317357345647009,
          0.0014410087086775844,
          0.0013981154527449456,
          0.0013175894965105053,
          0.0013452299011201042,
          0.0013872979965420635,
          0.0013654081693328783,
          0.0014357790517804845,
          0.001299144795145776,
          0.0013449082583381572,
          0.0012966569531058863,
          0.00133789119879604,
          0.0013019363456207478,
          0.0013172448702965481,
          0.0013200902702309755,
          0.001270286235922896,
          0.0012867504600860677,
          0.0012885515305554743,
          0.0012989827046446998,
          0.0012942007091643025,
          0.0013469714927077836,
          0.0012788739211868864,
          0.00131605229609201,
          0.0013032774941942739,
          0.0012758929154581572,
          0.0012973809358498946,
          0.001281035934650624,
          0.0012458040257929059,
          0.0012753903875879571,
          0.0012597093190451455,
          0.0012598952274154183,
          0.0012722112060743755,
          0.001284879791321627,
          0.001267315159417189,
          0.0012291652319000666,
          0.0013021414370760675,
          0.0012659436925781386,
          0.0012831182853676778,
          0.0012740322630058836,
          0.0012702600835402316,
          0.0012106935720312814,
          0.0012657740836493714,
          0.001244292060367384,
          0.0012617904387272336,
          0.001217332127345755,
          0.001248862834176041,
          0.0012422936847060343,
          0.001263438261561872,
          0.0012177912669027145,
          0.001225508903084541,
          0.0012075455441062982,
          0.0012277674676412064,
          0.0012212305092864737,
          0.001227201619238451,
          0.001213983141103917,
          0.0012341904532301331,
          0.0012225032316047107,
          0.0012016225664596277,
          0.001212682968638133,
          0.0012455558917383006,
          0.0012028608854853335,
          0.0012046044186851176,
          0.0012119344267256772,
          0.0012031883864108445,
          0.0012018279839355692,
          0.0012152307072401925,
          0.0011689013936115754,
          0.0012185514670557023,
          0.0011953235170716302,
          0.001198459866793795,
          0.0011859308165226032,
          0.0011708124120875317,
          0.001201478734371738,
          0.0012277450573212711,
          0.0011740173220757561,
          0.0012046228681226862,
          0.0011554697498161062,
          0.0011604157040360982,
          0.0012030909406581338,
          0.0011599345661009728,
          0.0012131078270844525,
          0.001187671242344681,
          0.0011601696195168998,
          0.0012220098075374304,
          0.0011558144082115774,
          0.0011837638913103363,
          0.0011686417123689763,
          0.001213319629639815,
          0.0011424907431725616,
          0.001164109708496846,
          0.0011904655264168545,
          0.0011521249005298016,
          0.0011508150194480084,
          0.0011920267478023638,
          0.0011931411966959364,
          0.0011697285199847366,
          0.0011274456198362547,
          0.001157216890177965,
          0.0011439198835248787,
          0.0011441937701620521,
          0.0011332513209223734,
          0.001118775139461665,
          0.0011596705309503564,
          0.001124719912590614,
          0.0011425445805813312,
          0.0011348887609238896,
          0.0011411814761927816,
          0.001135556827202182,
          0.0011417671634731486,
          0.0011082730186125355,
          0.0011615146881784422,
          0.0011366662976696007,
          0.0011555295936265095,
          0.0011146193031165796,
          0.001114334328169304,
          0.0011441865810356386,
          0.0011544382622864057,
          0.0011546790473588374,
          0.0011280716781596944,
          0.00112001691596044,
          0.0011023738648137554,
          0.001123380675746336,
          0.0011441084846084142,
          0.0011330668786279617,
          0.0011409158809859452,
          0.0011195537933643797,
          0.00115108921548343,
          0.0011246402728943828,
          0.0011336480512741459,
          0.0011209490168991498,
          0.001129909989819996,
          0.0011297053252060996,
          0.0011213056613121452,
          0.0011138525907368351,
          0.0011192000677796633,
          0.0011297381656467974,
          0.0011246855930482692,
          0.001124997246006883,
          0.0011238049437530151,
          0.0011203628165457687,
          0.0011223046641529327,
          0.0011214643813404852,
          0.0011223191171635103,
          0.0011136899952119623,
          0.0011158248867331971,
          0.0011188481391463687,
          0.0011148193241807603,
          0.0011152861390258202,
          0.0011182675277188645,
          0.0011166322351698478,
          0.0011110764492740083,
          0.0011115571850853023,
          0.0011135994969442792,
          0.0011127416571004762,
          0.0011108839756845041,
          0.001110955056283717,
          0.0011080898994534109,
          0.0011105192412803062,
          0.0011106340294833432,
          0.0011088692473797167,
          0.0011096038285823351,
          0.0011085733306879877,
          0.0011094483731658635,
          0.0011076101862911901,
          0.0011080767333846938,
          0.0011071176598233905,
          0.0011068598057773675,
          0.001107530834393509,
          0.0011064749292672023,
          0.0011061429056497141,
          0.0011059619709173475,
          0.0011055167509881549,
          0.0011053264994581315,
          0.0011050451905225778,
          0.0011049045760604833,
          0.0011047956584595274,
          0.0011044830131937372,
          0.0011043841620158304,
          0.0011041518534765258,
          0.0011040546662196447,
          0.0011037621547193824,
          0.0011036120542809314,
          0.0011035014170265572,
          0.0011034040050046236,
          0.0011032718628084988,
          0.0011031339568171104,
          0.0011030496618396318,
          0.0011029811549108934,
          0.0011029540332956663,
          0.0011027965468232521,
          0.0011027954620390556,
          0.001102729438076831,
          0.001102807233160202,
          0.001102697386726445
         ],
         "yaxis": "y"
        }
       ],
       "layout": {
        "legend": {
         "tracegroupgap": 0
        },
        "margin": {
         "t": 60
        },
        "template": {
         "data": {
          "bar": [
           {
            "error_x": {
             "color": "#2a3f5f"
            },
            "error_y": {
             "color": "#2a3f5f"
            },
            "marker": {
             "line": {
              "color": "#E5ECF6",
              "width": 0.5
             },
             "pattern": {
              "fillmode": "overlay",
              "size": 10,
              "solidity": 0.2
             }
            },
            "type": "bar"
           }
          ],
          "barpolar": [
           {
            "marker": {
             "line": {
              "color": "#E5ECF6",
              "width": 0.5
             },
             "pattern": {
              "fillmode": "overlay",
              "size": 10,
              "solidity": 0.2
             }
            },
            "type": "barpolar"
           }
          ],
          "carpet": [
           {
            "aaxis": {
             "endlinecolor": "#2a3f5f",
             "gridcolor": "white",
             "linecolor": "white",
             "minorgridcolor": "white",
             "startlinecolor": "#2a3f5f"
            },
            "baxis": {
             "endlinecolor": "#2a3f5f",
             "gridcolor": "white",
             "linecolor": "white",
             "minorgridcolor": "white",
             "startlinecolor": "#2a3f5f"
            },
            "type": "carpet"
           }
          ],
          "choropleth": [
           {
            "colorbar": {
             "outlinewidth": 0,
             "ticks": ""
            },
            "type": "choropleth"
           }
          ],
          "contour": [
           {
            "colorbar": {
             "outlinewidth": 0,
             "ticks": ""
            },
            "colorscale": [
             [
              0,
              "#0d0887"
             ],
             [
              0.1111111111111111,
              "#46039f"
             ],
             [
              0.2222222222222222,
              "#7201a8"
             ],
             [
              0.3333333333333333,
              "#9c179e"
             ],
             [
              0.4444444444444444,
              "#bd3786"
             ],
             [
              0.5555555555555556,
              "#d8576b"
             ],
             [
              0.6666666666666666,
              "#ed7953"
             ],
             [
              0.7777777777777778,
              "#fb9f3a"
             ],
             [
              0.8888888888888888,
              "#fdca26"
             ],
             [
              1,
              "#f0f921"
             ]
            ],
            "type": "contour"
           }
          ],
          "contourcarpet": [
           {
            "colorbar": {
             "outlinewidth": 0,
             "ticks": ""
            },
            "type": "contourcarpet"
           }
          ],
          "heatmap": [
           {
            "colorbar": {
             "outlinewidth": 0,
             "ticks": ""
            },
            "colorscale": [
             [
              0,
              "#0d0887"
             ],
             [
              0.1111111111111111,
              "#46039f"
             ],
             [
              0.2222222222222222,
              "#7201a8"
             ],
             [
              0.3333333333333333,
              "#9c179e"
             ],
             [
              0.4444444444444444,
              "#bd3786"
             ],
             [
              0.5555555555555556,
              "#d8576b"
             ],
             [
              0.6666666666666666,
              "#ed7953"
             ],
             [
              0.7777777777777778,
              "#fb9f3a"
             ],
             [
              0.8888888888888888,
              "#fdca26"
             ],
             [
              1,
              "#f0f921"
             ]
            ],
            "type": "heatmap"
           }
          ],
          "heatmapgl": [
           {
            "colorbar": {
             "outlinewidth": 0,
             "ticks": ""
            },
            "colorscale": [
             [
              0,
              "#0d0887"
             ],
             [
              0.1111111111111111,
              "#46039f"
             ],
             [
              0.2222222222222222,
              "#7201a8"
             ],
             [
              0.3333333333333333,
              "#9c179e"
             ],
             [
              0.4444444444444444,
              "#bd3786"
             ],
             [
              0.5555555555555556,
              "#d8576b"
             ],
             [
              0.6666666666666666,
              "#ed7953"
             ],
             [
              0.7777777777777778,
              "#fb9f3a"
             ],
             [
              0.8888888888888888,
              "#fdca26"
             ],
             [
              1,
              "#f0f921"
             ]
            ],
            "type": "heatmapgl"
           }
          ],
          "histogram": [
           {
            "marker": {
             "pattern": {
              "fillmode": "overlay",
              "size": 10,
              "solidity": 0.2
             }
            },
            "type": "histogram"
           }
          ],
          "histogram2d": [
           {
            "colorbar": {
             "outlinewidth": 0,
             "ticks": ""
            },
            "colorscale": [
             [
              0,
              "#0d0887"
             ],
             [
              0.1111111111111111,
              "#46039f"
             ],
             [
              0.2222222222222222,
              "#7201a8"
             ],
             [
              0.3333333333333333,
              "#9c179e"
             ],
             [
              0.4444444444444444,
              "#bd3786"
             ],
             [
              0.5555555555555556,
              "#d8576b"
             ],
             [
              0.6666666666666666,
              "#ed7953"
             ],
             [
              0.7777777777777778,
              "#fb9f3a"
             ],
             [
              0.8888888888888888,
              "#fdca26"
             ],
             [
              1,
              "#f0f921"
             ]
            ],
            "type": "histogram2d"
           }
          ],
          "histogram2dcontour": [
           {
            "colorbar": {
             "outlinewidth": 0,
             "ticks": ""
            },
            "colorscale": [
             [
              0,
              "#0d0887"
             ],
             [
              0.1111111111111111,
              "#46039f"
             ],
             [
              0.2222222222222222,
              "#7201a8"
             ],
             [
              0.3333333333333333,
              "#9c179e"
             ],
             [
              0.4444444444444444,
              "#bd3786"
             ],
             [
              0.5555555555555556,
              "#d8576b"
             ],
             [
              0.6666666666666666,
              "#ed7953"
             ],
             [
              0.7777777777777778,
              "#fb9f3a"
             ],
             [
              0.8888888888888888,
              "#fdca26"
             ],
             [
              1,
              "#f0f921"
             ]
            ],
            "type": "histogram2dcontour"
           }
          ],
          "mesh3d": [
           {
            "colorbar": {
             "outlinewidth": 0,
             "ticks": ""
            },
            "type": "mesh3d"
           }
          ],
          "parcoords": [
           {
            "line": {
             "colorbar": {
              "outlinewidth": 0,
              "ticks": ""
             }
            },
            "type": "parcoords"
           }
          ],
          "pie": [
           {
            "automargin": true,
            "type": "pie"
           }
          ],
          "scatter": [
           {
            "marker": {
             "colorbar": {
              "outlinewidth": 0,
              "ticks": ""
             }
            },
            "type": "scatter"
           }
          ],
          "scatter3d": [
           {
            "line": {
             "colorbar": {
              "outlinewidth": 0,
              "ticks": ""
             }
            },
            "marker": {
             "colorbar": {
              "outlinewidth": 0,
              "ticks": ""
             }
            },
            "type": "scatter3d"
           }
          ],
          "scattercarpet": [
           {
            "marker": {
             "colorbar": {
              "outlinewidth": 0,
              "ticks": ""
             }
            },
            "type": "scattercarpet"
           }
          ],
          "scattergeo": [
           {
            "marker": {
             "colorbar": {
              "outlinewidth": 0,
              "ticks": ""
             }
            },
            "type": "scattergeo"
           }
          ],
          "scattergl": [
           {
            "marker": {
             "colorbar": {
              "outlinewidth": 0,
              "ticks": ""
             }
            },
            "type": "scattergl"
           }
          ],
          "scattermapbox": [
           {
            "marker": {
             "colorbar": {
              "outlinewidth": 0,
              "ticks": ""
             }
            },
            "type": "scattermapbox"
           }
          ],
          "scatterpolar": [
           {
            "marker": {
             "colorbar": {
              "outlinewidth": 0,
              "ticks": ""
             }
            },
            "type": "scatterpolar"
           }
          ],
          "scatterpolargl": [
           {
            "marker": {
             "colorbar": {
              "outlinewidth": 0,
              "ticks": ""
             }
            },
            "type": "scatterpolargl"
           }
          ],
          "scatterternary": [
           {
            "marker": {
             "colorbar": {
              "outlinewidth": 0,
              "ticks": ""
             }
            },
            "type": "scatterternary"
           }
          ],
          "surface": [
           {
            "colorbar": {
             "outlinewidth": 0,
             "ticks": ""
            },
            "colorscale": [
             [
              0,
              "#0d0887"
             ],
             [
              0.1111111111111111,
              "#46039f"
             ],
             [
              0.2222222222222222,
              "#7201a8"
             ],
             [
              0.3333333333333333,
              "#9c179e"
             ],
             [
              0.4444444444444444,
              "#bd3786"
             ],
             [
              0.5555555555555556,
              "#d8576b"
             ],
             [
              0.6666666666666666,
              "#ed7953"
             ],
             [
              0.7777777777777778,
              "#fb9f3a"
             ],
             [
              0.8888888888888888,
              "#fdca26"
             ],
             [
              1,
              "#f0f921"
             ]
            ],
            "type": "surface"
           }
          ],
          "table": [
           {
            "cells": {
             "fill": {
              "color": "#EBF0F8"
             },
             "line": {
              "color": "white"
             }
            },
            "header": {
             "fill": {
              "color": "#C8D4E3"
             },
             "line": {
              "color": "white"
             }
            },
            "type": "table"
           }
          ]
         },
         "layout": {
          "annotationdefaults": {
           "arrowcolor": "#2a3f5f",
           "arrowhead": 0,
           "arrowwidth": 1
          },
          "autotypenumbers": "strict",
          "coloraxis": {
           "colorbar": {
            "outlinewidth": 0,
            "ticks": ""
           }
          },
          "colorscale": {
           "diverging": [
            [
             0,
             "#8e0152"
            ],
            [
             0.1,
             "#c51b7d"
            ],
            [
             0.2,
             "#de77ae"
            ],
            [
             0.3,
             "#f1b6da"
            ],
            [
             0.4,
             "#fde0ef"
            ],
            [
             0.5,
             "#f7f7f7"
            ],
            [
             0.6,
             "#e6f5d0"
            ],
            [
             0.7,
             "#b8e186"
            ],
            [
             0.8,
             "#7fbc41"
            ],
            [
             0.9,
             "#4d9221"
            ],
            [
             1,
             "#276419"
            ]
           ],
           "sequential": [
            [
             0,
             "#0d0887"
            ],
            [
             0.1111111111111111,
             "#46039f"
            ],
            [
             0.2222222222222222,
             "#7201a8"
            ],
            [
             0.3333333333333333,
             "#9c179e"
            ],
            [
             0.4444444444444444,
             "#bd3786"
            ],
            [
             0.5555555555555556,
             "#d8576b"
            ],
            [
             0.6666666666666666,
             "#ed7953"
            ],
            [
             0.7777777777777778,
             "#fb9f3a"
            ],
            [
             0.8888888888888888,
             "#fdca26"
            ],
            [
             1,
             "#f0f921"
            ]
           ],
           "sequentialminus": [
            [
             0,
             "#0d0887"
            ],
            [
             0.1111111111111111,
             "#46039f"
            ],
            [
             0.2222222222222222,
             "#7201a8"
            ],
            [
             0.3333333333333333,
             "#9c179e"
            ],
            [
             0.4444444444444444,
             "#bd3786"
            ],
            [
             0.5555555555555556,
             "#d8576b"
            ],
            [
             0.6666666666666666,
             "#ed7953"
            ],
            [
             0.7777777777777778,
             "#fb9f3a"
            ],
            [
             0.8888888888888888,
             "#fdca26"
            ],
            [
             1,
             "#f0f921"
            ]
           ]
          },
          "colorway": [
           "#636efa",
           "#EF553B",
           "#00cc96",
           "#ab63fa",
           "#FFA15A",
           "#19d3f3",
           "#FF6692",
           "#B6E880",
           "#FF97FF",
           "#FECB52"
          ],
          "font": {
           "color": "#2a3f5f"
          },
          "geo": {
           "bgcolor": "white",
           "lakecolor": "white",
           "landcolor": "#E5ECF6",
           "showlakes": true,
           "showland": true,
           "subunitcolor": "white"
          },
          "hoverlabel": {
           "align": "left"
          },
          "hovermode": "closest",
          "mapbox": {
           "style": "light"
          },
          "paper_bgcolor": "white",
          "plot_bgcolor": "#E5ECF6",
          "polar": {
           "angularaxis": {
            "gridcolor": "white",
            "linecolor": "white",
            "ticks": ""
           },
           "bgcolor": "#E5ECF6",
           "radialaxis": {
            "gridcolor": "white",
            "linecolor": "white",
            "ticks": ""
           }
          },
          "scene": {
           "xaxis": {
            "backgroundcolor": "#E5ECF6",
            "gridcolor": "white",
            "gridwidth": 2,
            "linecolor": "white",
            "showbackground": true,
            "ticks": "",
            "zerolinecolor": "white"
           },
           "yaxis": {
            "backgroundcolor": "#E5ECF6",
            "gridcolor": "white",
            "gridwidth": 2,
            "linecolor": "white",
            "showbackground": true,
            "ticks": "",
            "zerolinecolor": "white"
           },
           "zaxis": {
            "backgroundcolor": "#E5ECF6",
            "gridcolor": "white",
            "gridwidth": 2,
            "linecolor": "white",
            "showbackground": true,
            "ticks": "",
            "zerolinecolor": "white"
           }
          },
          "shapedefaults": {
           "line": {
            "color": "#2a3f5f"
           }
          },
          "ternary": {
           "aaxis": {
            "gridcolor": "white",
            "linecolor": "white",
            "ticks": ""
           },
           "baxis": {
            "gridcolor": "white",
            "linecolor": "white",
            "ticks": ""
           },
           "bgcolor": "#E5ECF6",
           "caxis": {
            "gridcolor": "white",
            "linecolor": "white",
            "ticks": ""
           }
          },
          "title": {
           "x": 0.05
          },
          "xaxis": {
           "automargin": true,
           "gridcolor": "white",
           "linecolor": "white",
           "ticks": "",
           "title": {
            "standoff": 15
           },
           "zerolinecolor": "white",
           "zerolinewidth": 2
          },
          "yaxis": {
           "automargin": true,
           "gridcolor": "white",
           "linecolor": "white",
           "ticks": "",
           "title": {
            "standoff": 15
           },
           "zerolinecolor": "white",
           "zerolinewidth": 2
          }
         }
        },
        "xaxis": {
         "anchor": "y",
         "domain": [
          0,
          1
         ],
         "title": {
          "text": "x"
         }
        },
        "yaxis": {
         "anchor": "x",
         "domain": [
          0,
          1
         ],
         "title": {
          "text": "y"
         },
         "type": "log"
        }
       }
      }
     },
     "metadata": {}
    }
   ],
   "metadata": {}
  },
  {
   "cell_type": "code",
   "execution_count": 52,
   "source": [
    "plt.grid();\r\n",
    "plt.plot(Frequency_Al48,Amplitude_Al48);plt.xlabel('Frequency [Hz]');plt.ylabel('|FFT(f)|');"
   ],
   "outputs": [
    {
     "output_type": "display_data",
     "data": {
      "text/plain": [
       "<Figure size 432x288 with 1 Axes>"
      ],
      "image/svg+xml": "<?xml version=\"1.0\" encoding=\"utf-8\" standalone=\"no\"?>\r\n<!DOCTYPE svg PUBLIC \"-//W3C//DTD SVG 1.1//EN\"\r\n  \"http://www.w3.org/Graphics/SVG/1.1/DTD/svg11.dtd\">\r\n<svg height=\"262.19625pt\" version=\"1.1\" viewBox=\"0 0 392.465625 262.19625\" width=\"392.465625pt\" xmlns=\"http://www.w3.org/2000/svg\" xmlns:xlink=\"http://www.w3.org/1999/xlink\">\r\n <metadata>\r\n  <rdf:RDF xmlns:cc=\"http://creativecommons.org/ns#\" xmlns:dc=\"http://purl.org/dc/elements/1.1/\" xmlns:rdf=\"http://www.w3.org/1999/02/22-rdf-syntax-ns#\">\r\n   <cc:Work>\r\n    <dc:type rdf:resource=\"http://purl.org/dc/dcmitype/StillImage\"/>\r\n    <dc:date>2021-08-27T14:46:17.294141</dc:date>\r\n    <dc:format>image/svg+xml</dc:format>\r\n    <dc:creator>\r\n     <cc:Agent>\r\n      <dc:title>Matplotlib v3.4.2, https://matplotlib.org/</dc:title>\r\n     </cc:Agent>\r\n    </dc:creator>\r\n   </cc:Work>\r\n  </rdf:RDF>\r\n </metadata>\r\n <defs>\r\n  <style type=\"text/css\">*{stroke-linecap:butt;stroke-linejoin:round;}</style>\r\n </defs>\r\n <g id=\"figure_1\">\r\n  <g id=\"patch_1\">\r\n   <path d=\"M 0 262.19625 \r\nL 392.465625 262.19625 \r\nL 392.465625 0 \r\nL 0 0 \r\nz\r\n\" style=\"fill:none;\"/>\r\n  </g>\r\n  <g id=\"axes_1\">\r\n   <g id=\"patch_2\">\r\n    <path d=\"M 50.465625 224.64 \r\nL 385.265625 224.64 \r\nL 385.265625 7.2 \r\nL 50.465625 7.2 \r\nz\r\n\" style=\"fill:#ffffff;\"/>\r\n   </g>\r\n   <g id=\"matplotlib.axis_1\">\r\n    <g id=\"xtick_1\">\r\n     <g id=\"line2d_1\">\r\n      <path clip-path=\"url(#p04a1e7b748)\" d=\"M 65.683807 224.64 \r\nL 65.683807 7.2 \r\n\" style=\"fill:none;stroke:#b0b0b0;stroke-linecap:square;stroke-width:0.8;\"/>\r\n     </g>\r\n     <g id=\"line2d_2\">\r\n      <defs>\r\n       <path d=\"M 0 0 \r\nL 0 3.5 \r\n\" id=\"m4d2b5e2548\" style=\"stroke:#000000;stroke-width:0.8;\"/>\r\n      </defs>\r\n      <g>\r\n       <use style=\"stroke:#000000;stroke-width:0.8;\" x=\"65.683807\" xlink:href=\"#m4d2b5e2548\" y=\"224.64\"/>\r\n      </g>\r\n     </g>\r\n     <g id=\"text_1\">\r\n      <!-- 0 -->\r\n      <g transform=\"translate(62.502557 239.238437)scale(0.1 -0.1)\">\r\n       <defs>\r\n        <path d=\"M 2034 4250 \r\nQ 1547 4250 1301 3770 \r\nQ 1056 3291 1056 2328 \r\nQ 1056 1369 1301 889 \r\nQ 1547 409 2034 409 \r\nQ 2525 409 2770 889 \r\nQ 3016 1369 3016 2328 \r\nQ 3016 3291 2770 3770 \r\nQ 2525 4250 2034 4250 \r\nz\r\nM 2034 4750 \r\nQ 2819 4750 3233 4129 \r\nQ 3647 3509 3647 2328 \r\nQ 3647 1150 3233 529 \r\nQ 2819 -91 2034 -91 \r\nQ 1250 -91 836 529 \r\nQ 422 1150 422 2328 \r\nQ 422 3509 836 4129 \r\nQ 1250 4750 2034 4750 \r\nz\r\n\" id=\"DejaVuSans-30\" transform=\"scale(0.015625)\"/>\r\n       </defs>\r\n       <use xlink:href=\"#DejaVuSans-30\"/>\r\n      </g>\r\n     </g>\r\n    </g>\r\n    <g id=\"xtick_2\">\r\n     <g id=\"line2d_3\">\r\n      <path clip-path=\"url(#p04a1e7b748)\" d=\"M 126.556534 224.64 \r\nL 126.556534 7.2 \r\n\" style=\"fill:none;stroke:#b0b0b0;stroke-linecap:square;stroke-width:0.8;\"/>\r\n     </g>\r\n     <g id=\"line2d_4\">\r\n      <g>\r\n       <use style=\"stroke:#000000;stroke-width:0.8;\" x=\"126.556534\" xlink:href=\"#m4d2b5e2548\" y=\"224.64\"/>\r\n      </g>\r\n     </g>\r\n     <g id=\"text_2\">\r\n      <!-- 100 -->\r\n      <g transform=\"translate(117.012784 239.238437)scale(0.1 -0.1)\">\r\n       <defs>\r\n        <path d=\"M 794 531 \r\nL 1825 531 \r\nL 1825 4091 \r\nL 703 3866 \r\nL 703 4441 \r\nL 1819 4666 \r\nL 2450 4666 \r\nL 2450 531 \r\nL 3481 531 \r\nL 3481 0 \r\nL 794 0 \r\nL 794 531 \r\nz\r\n\" id=\"DejaVuSans-31\" transform=\"scale(0.015625)\"/>\r\n       </defs>\r\n       <use xlink:href=\"#DejaVuSans-31\"/>\r\n       <use x=\"63.623047\" xlink:href=\"#DejaVuSans-30\"/>\r\n       <use x=\"127.246094\" xlink:href=\"#DejaVuSans-30\"/>\r\n      </g>\r\n     </g>\r\n    </g>\r\n    <g id=\"xtick_3\">\r\n     <g id=\"line2d_5\">\r\n      <path clip-path=\"url(#p04a1e7b748)\" d=\"M 187.429261 224.64 \r\nL 187.429261 7.2 \r\n\" style=\"fill:none;stroke:#b0b0b0;stroke-linecap:square;stroke-width:0.8;\"/>\r\n     </g>\r\n     <g id=\"line2d_6\">\r\n      <g>\r\n       <use style=\"stroke:#000000;stroke-width:0.8;\" x=\"187.429261\" xlink:href=\"#m4d2b5e2548\" y=\"224.64\"/>\r\n      </g>\r\n     </g>\r\n     <g id=\"text_3\">\r\n      <!-- 200 -->\r\n      <g transform=\"translate(177.885511 239.238437)scale(0.1 -0.1)\">\r\n       <defs>\r\n        <path d=\"M 1228 531 \r\nL 3431 531 \r\nL 3431 0 \r\nL 469 0 \r\nL 469 531 \r\nQ 828 903 1448 1529 \r\nQ 2069 2156 2228 2338 \r\nQ 2531 2678 2651 2914 \r\nQ 2772 3150 2772 3378 \r\nQ 2772 3750 2511 3984 \r\nQ 2250 4219 1831 4219 \r\nQ 1534 4219 1204 4116 \r\nQ 875 4013 500 3803 \r\nL 500 4441 \r\nQ 881 4594 1212 4672 \r\nQ 1544 4750 1819 4750 \r\nQ 2544 4750 2975 4387 \r\nQ 3406 4025 3406 3419 \r\nQ 3406 3131 3298 2873 \r\nQ 3191 2616 2906 2266 \r\nQ 2828 2175 2409 1742 \r\nQ 1991 1309 1228 531 \r\nz\r\n\" id=\"DejaVuSans-32\" transform=\"scale(0.015625)\"/>\r\n       </defs>\r\n       <use xlink:href=\"#DejaVuSans-32\"/>\r\n       <use x=\"63.623047\" xlink:href=\"#DejaVuSans-30\"/>\r\n       <use x=\"127.246094\" xlink:href=\"#DejaVuSans-30\"/>\r\n      </g>\r\n     </g>\r\n    </g>\r\n    <g id=\"xtick_4\">\r\n     <g id=\"line2d_7\">\r\n      <path clip-path=\"url(#p04a1e7b748)\" d=\"M 248.301989 224.64 \r\nL 248.301989 7.2 \r\n\" style=\"fill:none;stroke:#b0b0b0;stroke-linecap:square;stroke-width:0.8;\"/>\r\n     </g>\r\n     <g id=\"line2d_8\">\r\n      <g>\r\n       <use style=\"stroke:#000000;stroke-width:0.8;\" x=\"248.301989\" xlink:href=\"#m4d2b5e2548\" y=\"224.64\"/>\r\n      </g>\r\n     </g>\r\n     <g id=\"text_4\">\r\n      <!-- 300 -->\r\n      <g transform=\"translate(238.758239 239.238437)scale(0.1 -0.1)\">\r\n       <defs>\r\n        <path d=\"M 2597 2516 \r\nQ 3050 2419 3304 2112 \r\nQ 3559 1806 3559 1356 \r\nQ 3559 666 3084 287 \r\nQ 2609 -91 1734 -91 \r\nQ 1441 -91 1130 -33 \r\nQ 819 25 488 141 \r\nL 488 750 \r\nQ 750 597 1062 519 \r\nQ 1375 441 1716 441 \r\nQ 2309 441 2620 675 \r\nQ 2931 909 2931 1356 \r\nQ 2931 1769 2642 2001 \r\nQ 2353 2234 1838 2234 \r\nL 1294 2234 \r\nL 1294 2753 \r\nL 1863 2753 \r\nQ 2328 2753 2575 2939 \r\nQ 2822 3125 2822 3475 \r\nQ 2822 3834 2567 4026 \r\nQ 2313 4219 1838 4219 \r\nQ 1578 4219 1281 4162 \r\nQ 984 4106 628 3988 \r\nL 628 4550 \r\nQ 988 4650 1302 4700 \r\nQ 1616 4750 1894 4750 \r\nQ 2613 4750 3031 4423 \r\nQ 3450 4097 3450 3541 \r\nQ 3450 3153 3228 2886 \r\nQ 3006 2619 2597 2516 \r\nz\r\n\" id=\"DejaVuSans-33\" transform=\"scale(0.015625)\"/>\r\n       </defs>\r\n       <use xlink:href=\"#DejaVuSans-33\"/>\r\n       <use x=\"63.623047\" xlink:href=\"#DejaVuSans-30\"/>\r\n       <use x=\"127.246094\" xlink:href=\"#DejaVuSans-30\"/>\r\n      </g>\r\n     </g>\r\n    </g>\r\n    <g id=\"xtick_5\">\r\n     <g id=\"line2d_9\">\r\n      <path clip-path=\"url(#p04a1e7b748)\" d=\"M 309.174716 224.64 \r\nL 309.174716 7.2 \r\n\" style=\"fill:none;stroke:#b0b0b0;stroke-linecap:square;stroke-width:0.8;\"/>\r\n     </g>\r\n     <g id=\"line2d_10\">\r\n      <g>\r\n       <use style=\"stroke:#000000;stroke-width:0.8;\" x=\"309.174716\" xlink:href=\"#m4d2b5e2548\" y=\"224.64\"/>\r\n      </g>\r\n     </g>\r\n     <g id=\"text_5\">\r\n      <!-- 400 -->\r\n      <g transform=\"translate(299.630966 239.238437)scale(0.1 -0.1)\">\r\n       <defs>\r\n        <path d=\"M 2419 4116 \r\nL 825 1625 \r\nL 2419 1625 \r\nL 2419 4116 \r\nz\r\nM 2253 4666 \r\nL 3047 4666 \r\nL 3047 1625 \r\nL 3713 1625 \r\nL 3713 1100 \r\nL 3047 1100 \r\nL 3047 0 \r\nL 2419 0 \r\nL 2419 1100 \r\nL 313 1100 \r\nL 313 1709 \r\nL 2253 4666 \r\nz\r\n\" id=\"DejaVuSans-34\" transform=\"scale(0.015625)\"/>\r\n       </defs>\r\n       <use xlink:href=\"#DejaVuSans-34\"/>\r\n       <use x=\"63.623047\" xlink:href=\"#DejaVuSans-30\"/>\r\n       <use x=\"127.246094\" xlink:href=\"#DejaVuSans-30\"/>\r\n      </g>\r\n     </g>\r\n    </g>\r\n    <g id=\"xtick_6\">\r\n     <g id=\"line2d_11\">\r\n      <path clip-path=\"url(#p04a1e7b748)\" d=\"M 370.047443 224.64 \r\nL 370.047443 7.2 \r\n\" style=\"fill:none;stroke:#b0b0b0;stroke-linecap:square;stroke-width:0.8;\"/>\r\n     </g>\r\n     <g id=\"line2d_12\">\r\n      <g>\r\n       <use style=\"stroke:#000000;stroke-width:0.8;\" x=\"370.047443\" xlink:href=\"#m4d2b5e2548\" y=\"224.64\"/>\r\n      </g>\r\n     </g>\r\n     <g id=\"text_6\">\r\n      <!-- 500 -->\r\n      <g transform=\"translate(360.503693 239.238437)scale(0.1 -0.1)\">\r\n       <defs>\r\n        <path d=\"M 691 4666 \r\nL 3169 4666 \r\nL 3169 4134 \r\nL 1269 4134 \r\nL 1269 2991 \r\nQ 1406 3038 1543 3061 \r\nQ 1681 3084 1819 3084 \r\nQ 2600 3084 3056 2656 \r\nQ 3513 2228 3513 1497 \r\nQ 3513 744 3044 326 \r\nQ 2575 -91 1722 -91 \r\nQ 1428 -91 1123 -41 \r\nQ 819 9 494 109 \r\nL 494 744 \r\nQ 775 591 1075 516 \r\nQ 1375 441 1709 441 \r\nQ 2250 441 2565 725 \r\nQ 2881 1009 2881 1497 \r\nQ 2881 1984 2565 2268 \r\nQ 2250 2553 1709 2553 \r\nQ 1456 2553 1204 2497 \r\nQ 953 2441 691 2322 \r\nL 691 4666 \r\nz\r\n\" id=\"DejaVuSans-35\" transform=\"scale(0.015625)\"/>\r\n       </defs>\r\n       <use xlink:href=\"#DejaVuSans-35\"/>\r\n       <use x=\"63.623047\" xlink:href=\"#DejaVuSans-30\"/>\r\n       <use x=\"127.246094\" xlink:href=\"#DejaVuSans-30\"/>\r\n      </g>\r\n     </g>\r\n    </g>\r\n    <g id=\"text_7\">\r\n     <!-- Frequency [Hz] -->\r\n     <g transform=\"translate(180.160938 252.916562)scale(0.1 -0.1)\">\r\n      <defs>\r\n       <path d=\"M 628 4666 \r\nL 3309 4666 \r\nL 3309 4134 \r\nL 1259 4134 \r\nL 1259 2759 \r\nL 3109 2759 \r\nL 3109 2228 \r\nL 1259 2228 \r\nL 1259 0 \r\nL 628 0 \r\nL 628 4666 \r\nz\r\n\" id=\"DejaVuSans-46\" transform=\"scale(0.015625)\"/>\r\n       <path d=\"M 2631 2963 \r\nQ 2534 3019 2420 3045 \r\nQ 2306 3072 2169 3072 \r\nQ 1681 3072 1420 2755 \r\nQ 1159 2438 1159 1844 \r\nL 1159 0 \r\nL 581 0 \r\nL 581 3500 \r\nL 1159 3500 \r\nL 1159 2956 \r\nQ 1341 3275 1631 3429 \r\nQ 1922 3584 2338 3584 \r\nQ 2397 3584 2469 3576 \r\nQ 2541 3569 2628 3553 \r\nL 2631 2963 \r\nz\r\n\" id=\"DejaVuSans-72\" transform=\"scale(0.015625)\"/>\r\n       <path d=\"M 3597 1894 \r\nL 3597 1613 \r\nL 953 1613 \r\nQ 991 1019 1311 708 \r\nQ 1631 397 2203 397 \r\nQ 2534 397 2845 478 \r\nQ 3156 559 3463 722 \r\nL 3463 178 \r\nQ 3153 47 2828 -22 \r\nQ 2503 -91 2169 -91 \r\nQ 1331 -91 842 396 \r\nQ 353 884 353 1716 \r\nQ 353 2575 817 3079 \r\nQ 1281 3584 2069 3584 \r\nQ 2775 3584 3186 3129 \r\nQ 3597 2675 3597 1894 \r\nz\r\nM 3022 2063 \r\nQ 3016 2534 2758 2815 \r\nQ 2500 3097 2075 3097 \r\nQ 1594 3097 1305 2825 \r\nQ 1016 2553 972 2059 \r\nL 3022 2063 \r\nz\r\n\" id=\"DejaVuSans-65\" transform=\"scale(0.015625)\"/>\r\n       <path d=\"M 947 1747 \r\nQ 947 1113 1208 752 \r\nQ 1469 391 1925 391 \r\nQ 2381 391 2643 752 \r\nQ 2906 1113 2906 1747 \r\nQ 2906 2381 2643 2742 \r\nQ 2381 3103 1925 3103 \r\nQ 1469 3103 1208 2742 \r\nQ 947 2381 947 1747 \r\nz\r\nM 2906 525 \r\nQ 2725 213 2448 61 \r\nQ 2172 -91 1784 -91 \r\nQ 1150 -91 751 415 \r\nQ 353 922 353 1747 \r\nQ 353 2572 751 3078 \r\nQ 1150 3584 1784 3584 \r\nQ 2172 3584 2448 3432 \r\nQ 2725 3281 2906 2969 \r\nL 2906 3500 \r\nL 3481 3500 \r\nL 3481 -1331 \r\nL 2906 -1331 \r\nL 2906 525 \r\nz\r\n\" id=\"DejaVuSans-71\" transform=\"scale(0.015625)\"/>\r\n       <path d=\"M 544 1381 \r\nL 544 3500 \r\nL 1119 3500 \r\nL 1119 1403 \r\nQ 1119 906 1312 657 \r\nQ 1506 409 1894 409 \r\nQ 2359 409 2629 706 \r\nQ 2900 1003 2900 1516 \r\nL 2900 3500 \r\nL 3475 3500 \r\nL 3475 0 \r\nL 2900 0 \r\nL 2900 538 \r\nQ 2691 219 2414 64 \r\nQ 2138 -91 1772 -91 \r\nQ 1169 -91 856 284 \r\nQ 544 659 544 1381 \r\nz\r\nM 1991 3584 \r\nL 1991 3584 \r\nz\r\n\" id=\"DejaVuSans-75\" transform=\"scale(0.015625)\"/>\r\n       <path d=\"M 3513 2113 \r\nL 3513 0 \r\nL 2938 0 \r\nL 2938 2094 \r\nQ 2938 2591 2744 2837 \r\nQ 2550 3084 2163 3084 \r\nQ 1697 3084 1428 2787 \r\nQ 1159 2491 1159 1978 \r\nL 1159 0 \r\nL 581 0 \r\nL 581 3500 \r\nL 1159 3500 \r\nL 1159 2956 \r\nQ 1366 3272 1645 3428 \r\nQ 1925 3584 2291 3584 \r\nQ 2894 3584 3203 3211 \r\nQ 3513 2838 3513 2113 \r\nz\r\n\" id=\"DejaVuSans-6e\" transform=\"scale(0.015625)\"/>\r\n       <path d=\"M 3122 3366 \r\nL 3122 2828 \r\nQ 2878 2963 2633 3030 \r\nQ 2388 3097 2138 3097 \r\nQ 1578 3097 1268 2742 \r\nQ 959 2388 959 1747 \r\nQ 959 1106 1268 751 \r\nQ 1578 397 2138 397 \r\nQ 2388 397 2633 464 \r\nQ 2878 531 3122 666 \r\nL 3122 134 \r\nQ 2881 22 2623 -34 \r\nQ 2366 -91 2075 -91 \r\nQ 1284 -91 818 406 \r\nQ 353 903 353 1747 \r\nQ 353 2603 823 3093 \r\nQ 1294 3584 2113 3584 \r\nQ 2378 3584 2631 3529 \r\nQ 2884 3475 3122 3366 \r\nz\r\n\" id=\"DejaVuSans-63\" transform=\"scale(0.015625)\"/>\r\n       <path d=\"M 2059 -325 \r\nQ 1816 -950 1584 -1140 \r\nQ 1353 -1331 966 -1331 \r\nL 506 -1331 \r\nL 506 -850 \r\nL 844 -850 \r\nQ 1081 -850 1212 -737 \r\nQ 1344 -625 1503 -206 \r\nL 1606 56 \r\nL 191 3500 \r\nL 800 3500 \r\nL 1894 763 \r\nL 2988 3500 \r\nL 3597 3500 \r\nL 2059 -325 \r\nz\r\n\" id=\"DejaVuSans-79\" transform=\"scale(0.015625)\"/>\r\n       <path id=\"DejaVuSans-20\" transform=\"scale(0.015625)\"/>\r\n       <path d=\"M 550 4863 \r\nL 1875 4863 \r\nL 1875 4416 \r\nL 1125 4416 \r\nL 1125 -397 \r\nL 1875 -397 \r\nL 1875 -844 \r\nL 550 -844 \r\nL 550 4863 \r\nz\r\n\" id=\"DejaVuSans-5b\" transform=\"scale(0.015625)\"/>\r\n       <path d=\"M 628 4666 \r\nL 1259 4666 \r\nL 1259 2753 \r\nL 3553 2753 \r\nL 3553 4666 \r\nL 4184 4666 \r\nL 4184 0 \r\nL 3553 0 \r\nL 3553 2222 \r\nL 1259 2222 \r\nL 1259 0 \r\nL 628 0 \r\nL 628 4666 \r\nz\r\n\" id=\"DejaVuSans-48\" transform=\"scale(0.015625)\"/>\r\n       <path d=\"M 353 3500 \r\nL 3084 3500 \r\nL 3084 2975 \r\nL 922 459 \r\nL 3084 459 \r\nL 3084 0 \r\nL 275 0 \r\nL 275 525 \r\nL 2438 3041 \r\nL 353 3041 \r\nL 353 3500 \r\nz\r\n\" id=\"DejaVuSans-7a\" transform=\"scale(0.015625)\"/>\r\n       <path d=\"M 1947 4863 \r\nL 1947 -844 \r\nL 622 -844 \r\nL 622 -397 \r\nL 1369 -397 \r\nL 1369 4416 \r\nL 622 4416 \r\nL 622 4863 \r\nL 1947 4863 \r\nz\r\n\" id=\"DejaVuSans-5d\" transform=\"scale(0.015625)\"/>\r\n      </defs>\r\n      <use xlink:href=\"#DejaVuSans-46\"/>\r\n      <use x=\"50.269531\" xlink:href=\"#DejaVuSans-72\"/>\r\n      <use x=\"89.132812\" xlink:href=\"#DejaVuSans-65\"/>\r\n      <use x=\"150.65625\" xlink:href=\"#DejaVuSans-71\"/>\r\n      <use x=\"214.132812\" xlink:href=\"#DejaVuSans-75\"/>\r\n      <use x=\"277.511719\" xlink:href=\"#DejaVuSans-65\"/>\r\n      <use x=\"339.035156\" xlink:href=\"#DejaVuSans-6e\"/>\r\n      <use x=\"402.414062\" xlink:href=\"#DejaVuSans-63\"/>\r\n      <use x=\"457.394531\" xlink:href=\"#DejaVuSans-79\"/>\r\n      <use x=\"516.574219\" xlink:href=\"#DejaVuSans-20\"/>\r\n      <use x=\"548.361328\" xlink:href=\"#DejaVuSans-5b\"/>\r\n      <use x=\"587.375\" xlink:href=\"#DejaVuSans-48\"/>\r\n      <use x=\"662.570312\" xlink:href=\"#DejaVuSans-7a\"/>\r\n      <use x=\"715.060547\" xlink:href=\"#DejaVuSans-5d\"/>\r\n     </g>\r\n    </g>\r\n   </g>\r\n   <g id=\"matplotlib.axis_2\">\r\n    <g id=\"ytick_1\">\r\n     <g id=\"line2d_13\">\r\n      <path clip-path=\"url(#p04a1e7b748)\" d=\"M 50.465625 214.868126 \r\nL 385.265625 214.868126 \r\n\" style=\"fill:none;stroke:#b0b0b0;stroke-linecap:square;stroke-width:0.8;\"/>\r\n     </g>\r\n     <g id=\"line2d_14\">\r\n      <defs>\r\n       <path d=\"M 0 0 \r\nL -3.5 0 \r\n\" id=\"m177cf9ab01\" style=\"stroke:#000000;stroke-width:0.8;\"/>\r\n      </defs>\r\n      <g>\r\n       <use style=\"stroke:#000000;stroke-width:0.8;\" x=\"50.465625\" xlink:href=\"#m177cf9ab01\" y=\"214.868126\"/>\r\n      </g>\r\n     </g>\r\n     <g id=\"text_8\">\r\n      <!-- 0.00 -->\r\n      <g transform=\"translate(21.2 218.667345)scale(0.1 -0.1)\">\r\n       <defs>\r\n        <path d=\"M 684 794 \r\nL 1344 794 \r\nL 1344 0 \r\nL 684 0 \r\nL 684 794 \r\nz\r\n\" id=\"DejaVuSans-2e\" transform=\"scale(0.015625)\"/>\r\n       </defs>\r\n       <use xlink:href=\"#DejaVuSans-30\"/>\r\n       <use x=\"63.623047\" xlink:href=\"#DejaVuSans-2e\"/>\r\n       <use x=\"95.410156\" xlink:href=\"#DejaVuSans-30\"/>\r\n       <use x=\"159.033203\" xlink:href=\"#DejaVuSans-30\"/>\r\n      </g>\r\n     </g>\r\n    </g>\r\n    <g id=\"ytick_2\">\r\n     <g id=\"line2d_15\">\r\n      <path clip-path=\"url(#p04a1e7b748)\" d=\"M 50.465625 189.522274 \r\nL 385.265625 189.522274 \r\n\" style=\"fill:none;stroke:#b0b0b0;stroke-linecap:square;stroke-width:0.8;\"/>\r\n     </g>\r\n     <g id=\"line2d_16\">\r\n      <g>\r\n       <use style=\"stroke:#000000;stroke-width:0.8;\" x=\"50.465625\" xlink:href=\"#m177cf9ab01\" y=\"189.522274\"/>\r\n      </g>\r\n     </g>\r\n     <g id=\"text_9\">\r\n      <!-- 0.25 -->\r\n      <g transform=\"translate(21.2 193.321493)scale(0.1 -0.1)\">\r\n       <use xlink:href=\"#DejaVuSans-30\"/>\r\n       <use x=\"63.623047\" xlink:href=\"#DejaVuSans-2e\"/>\r\n       <use x=\"95.410156\" xlink:href=\"#DejaVuSans-32\"/>\r\n       <use x=\"159.033203\" xlink:href=\"#DejaVuSans-35\"/>\r\n      </g>\r\n     </g>\r\n    </g>\r\n    <g id=\"ytick_3\">\r\n     <g id=\"line2d_17\">\r\n      <path clip-path=\"url(#p04a1e7b748)\" d=\"M 50.465625 164.176422 \r\nL 385.265625 164.176422 \r\n\" style=\"fill:none;stroke:#b0b0b0;stroke-linecap:square;stroke-width:0.8;\"/>\r\n     </g>\r\n     <g id=\"line2d_18\">\r\n      <g>\r\n       <use style=\"stroke:#000000;stroke-width:0.8;\" x=\"50.465625\" xlink:href=\"#m177cf9ab01\" y=\"164.176422\"/>\r\n      </g>\r\n     </g>\r\n     <g id=\"text_10\">\r\n      <!-- 0.50 -->\r\n      <g transform=\"translate(21.2 167.97564)scale(0.1 -0.1)\">\r\n       <use xlink:href=\"#DejaVuSans-30\"/>\r\n       <use x=\"63.623047\" xlink:href=\"#DejaVuSans-2e\"/>\r\n       <use x=\"95.410156\" xlink:href=\"#DejaVuSans-35\"/>\r\n       <use x=\"159.033203\" xlink:href=\"#DejaVuSans-30\"/>\r\n      </g>\r\n     </g>\r\n    </g>\r\n    <g id=\"ytick_4\">\r\n     <g id=\"line2d_19\">\r\n      <path clip-path=\"url(#p04a1e7b748)\" d=\"M 50.465625 138.830569 \r\nL 385.265625 138.830569 \r\n\" style=\"fill:none;stroke:#b0b0b0;stroke-linecap:square;stroke-width:0.8;\"/>\r\n     </g>\r\n     <g id=\"line2d_20\">\r\n      <g>\r\n       <use style=\"stroke:#000000;stroke-width:0.8;\" x=\"50.465625\" xlink:href=\"#m177cf9ab01\" y=\"138.830569\"/>\r\n      </g>\r\n     </g>\r\n     <g id=\"text_11\">\r\n      <!-- 0.75 -->\r\n      <g transform=\"translate(21.2 142.629788)scale(0.1 -0.1)\">\r\n       <defs>\r\n        <path d=\"M 525 4666 \r\nL 3525 4666 \r\nL 3525 4397 \r\nL 1831 0 \r\nL 1172 0 \r\nL 2766 4134 \r\nL 525 4134 \r\nL 525 4666 \r\nz\r\n\" id=\"DejaVuSans-37\" transform=\"scale(0.015625)\"/>\r\n       </defs>\r\n       <use xlink:href=\"#DejaVuSans-30\"/>\r\n       <use x=\"63.623047\" xlink:href=\"#DejaVuSans-2e\"/>\r\n       <use x=\"95.410156\" xlink:href=\"#DejaVuSans-37\"/>\r\n       <use x=\"159.033203\" xlink:href=\"#DejaVuSans-35\"/>\r\n      </g>\r\n     </g>\r\n    </g>\r\n    <g id=\"ytick_5\">\r\n     <g id=\"line2d_21\">\r\n      <path clip-path=\"url(#p04a1e7b748)\" d=\"M 50.465625 113.484717 \r\nL 385.265625 113.484717 \r\n\" style=\"fill:none;stroke:#b0b0b0;stroke-linecap:square;stroke-width:0.8;\"/>\r\n     </g>\r\n     <g id=\"line2d_22\">\r\n      <g>\r\n       <use style=\"stroke:#000000;stroke-width:0.8;\" x=\"50.465625\" xlink:href=\"#m177cf9ab01\" y=\"113.484717\"/>\r\n      </g>\r\n     </g>\r\n     <g id=\"text_12\">\r\n      <!-- 1.00 -->\r\n      <g transform=\"translate(21.2 117.283936)scale(0.1 -0.1)\">\r\n       <use xlink:href=\"#DejaVuSans-31\"/>\r\n       <use x=\"63.623047\" xlink:href=\"#DejaVuSans-2e\"/>\r\n       <use x=\"95.410156\" xlink:href=\"#DejaVuSans-30\"/>\r\n       <use x=\"159.033203\" xlink:href=\"#DejaVuSans-30\"/>\r\n      </g>\r\n     </g>\r\n    </g>\r\n    <g id=\"ytick_6\">\r\n     <g id=\"line2d_23\">\r\n      <path clip-path=\"url(#p04a1e7b748)\" d=\"M 50.465625 88.138865 \r\nL 385.265625 88.138865 \r\n\" style=\"fill:none;stroke:#b0b0b0;stroke-linecap:square;stroke-width:0.8;\"/>\r\n     </g>\r\n     <g id=\"line2d_24\">\r\n      <g>\r\n       <use style=\"stroke:#000000;stroke-width:0.8;\" x=\"50.465625\" xlink:href=\"#m177cf9ab01\" y=\"88.138865\"/>\r\n      </g>\r\n     </g>\r\n     <g id=\"text_13\">\r\n      <!-- 1.25 -->\r\n      <g transform=\"translate(21.2 91.938083)scale(0.1 -0.1)\">\r\n       <use xlink:href=\"#DejaVuSans-31\"/>\r\n       <use x=\"63.623047\" xlink:href=\"#DejaVuSans-2e\"/>\r\n       <use x=\"95.410156\" xlink:href=\"#DejaVuSans-32\"/>\r\n       <use x=\"159.033203\" xlink:href=\"#DejaVuSans-35\"/>\r\n      </g>\r\n     </g>\r\n    </g>\r\n    <g id=\"ytick_7\">\r\n     <g id=\"line2d_25\">\r\n      <path clip-path=\"url(#p04a1e7b748)\" d=\"M 50.465625 62.793012 \r\nL 385.265625 62.793012 \r\n\" style=\"fill:none;stroke:#b0b0b0;stroke-linecap:square;stroke-width:0.8;\"/>\r\n     </g>\r\n     <g id=\"line2d_26\">\r\n      <g>\r\n       <use style=\"stroke:#000000;stroke-width:0.8;\" x=\"50.465625\" xlink:href=\"#m177cf9ab01\" y=\"62.793012\"/>\r\n      </g>\r\n     </g>\r\n     <g id=\"text_14\">\r\n      <!-- 1.50 -->\r\n      <g transform=\"translate(21.2 66.592231)scale(0.1 -0.1)\">\r\n       <use xlink:href=\"#DejaVuSans-31\"/>\r\n       <use x=\"63.623047\" xlink:href=\"#DejaVuSans-2e\"/>\r\n       <use x=\"95.410156\" xlink:href=\"#DejaVuSans-35\"/>\r\n       <use x=\"159.033203\" xlink:href=\"#DejaVuSans-30\"/>\r\n      </g>\r\n     </g>\r\n    </g>\r\n    <g id=\"ytick_8\">\r\n     <g id=\"line2d_27\">\r\n      <path clip-path=\"url(#p04a1e7b748)\" d=\"M 50.465625 37.44716 \r\nL 385.265625 37.44716 \r\n\" style=\"fill:none;stroke:#b0b0b0;stroke-linecap:square;stroke-width:0.8;\"/>\r\n     </g>\r\n     <g id=\"line2d_28\">\r\n      <g>\r\n       <use style=\"stroke:#000000;stroke-width:0.8;\" x=\"50.465625\" xlink:href=\"#m177cf9ab01\" y=\"37.44716\"/>\r\n      </g>\r\n     </g>\r\n     <g id=\"text_15\">\r\n      <!-- 1.75 -->\r\n      <g transform=\"translate(21.2 41.246379)scale(0.1 -0.1)\">\r\n       <use xlink:href=\"#DejaVuSans-31\"/>\r\n       <use x=\"63.623047\" xlink:href=\"#DejaVuSans-2e\"/>\r\n       <use x=\"95.410156\" xlink:href=\"#DejaVuSans-37\"/>\r\n       <use x=\"159.033203\" xlink:href=\"#DejaVuSans-35\"/>\r\n      </g>\r\n     </g>\r\n    </g>\r\n    <g id=\"ytick_9\">\r\n     <g id=\"line2d_29\">\r\n      <path clip-path=\"url(#p04a1e7b748)\" d=\"M 50.465625 12.101308 \r\nL 385.265625 12.101308 \r\n\" style=\"fill:none;stroke:#b0b0b0;stroke-linecap:square;stroke-width:0.8;\"/>\r\n     </g>\r\n     <g id=\"line2d_30\">\r\n      <g>\r\n       <use style=\"stroke:#000000;stroke-width:0.8;\" x=\"50.465625\" xlink:href=\"#m177cf9ab01\" y=\"12.101308\"/>\r\n      </g>\r\n     </g>\r\n     <g id=\"text_16\">\r\n      <!-- 2.00 -->\r\n      <g transform=\"translate(21.2 15.900527)scale(0.1 -0.1)\">\r\n       <use xlink:href=\"#DejaVuSans-32\"/>\r\n       <use x=\"63.623047\" xlink:href=\"#DejaVuSans-2e\"/>\r\n       <use x=\"95.410156\" xlink:href=\"#DejaVuSans-30\"/>\r\n       <use x=\"159.033203\" xlink:href=\"#DejaVuSans-30\"/>\r\n      </g>\r\n     </g>\r\n    </g>\r\n    <g id=\"text_17\">\r\n     <!-- |FFT(f)| -->\r\n     <g transform=\"translate(14.842188 133.668437)rotate(-90)scale(0.1 -0.1)\">\r\n      <defs>\r\n       <path d=\"M 1344 4891 \r\nL 1344 -1509 \r\nL 813 -1509 \r\nL 813 4891 \r\nL 1344 4891 \r\nz\r\n\" id=\"DejaVuSans-7c\" transform=\"scale(0.015625)\"/>\r\n       <path d=\"M -19 4666 \r\nL 3928 4666 \r\nL 3928 4134 \r\nL 2272 4134 \r\nL 2272 0 \r\nL 1638 0 \r\nL 1638 4134 \r\nL -19 4134 \r\nL -19 4666 \r\nz\r\n\" id=\"DejaVuSans-54\" transform=\"scale(0.015625)\"/>\r\n       <path d=\"M 1984 4856 \r\nQ 1566 4138 1362 3434 \r\nQ 1159 2731 1159 2009 \r\nQ 1159 1288 1364 580 \r\nQ 1569 -128 1984 -844 \r\nL 1484 -844 \r\nQ 1016 -109 783 600 \r\nQ 550 1309 550 2009 \r\nQ 550 2706 781 3412 \r\nQ 1013 4119 1484 4856 \r\nL 1984 4856 \r\nz\r\n\" id=\"DejaVuSans-28\" transform=\"scale(0.015625)\"/>\r\n       <path d=\"M 2375 4863 \r\nL 2375 4384 \r\nL 1825 4384 \r\nQ 1516 4384 1395 4259 \r\nQ 1275 4134 1275 3809 \r\nL 1275 3500 \r\nL 2222 3500 \r\nL 2222 3053 \r\nL 1275 3053 \r\nL 1275 0 \r\nL 697 0 \r\nL 697 3053 \r\nL 147 3053 \r\nL 147 3500 \r\nL 697 3500 \r\nL 697 3744 \r\nQ 697 4328 969 4595 \r\nQ 1241 4863 1831 4863 \r\nL 2375 4863 \r\nz\r\n\" id=\"DejaVuSans-66\" transform=\"scale(0.015625)\"/>\r\n       <path d=\"M 513 4856 \r\nL 1013 4856 \r\nQ 1481 4119 1714 3412 \r\nQ 1947 2706 1947 2009 \r\nQ 1947 1309 1714 600 \r\nQ 1481 -109 1013 -844 \r\nL 513 -844 \r\nQ 928 -128 1133 580 \r\nQ 1338 1288 1338 2009 \r\nQ 1338 2731 1133 3434 \r\nQ 928 4138 513 4856 \r\nz\r\n\" id=\"DejaVuSans-29\" transform=\"scale(0.015625)\"/>\r\n      </defs>\r\n      <use xlink:href=\"#DejaVuSans-7c\"/>\r\n      <use x=\"33.691406\" xlink:href=\"#DejaVuSans-46\"/>\r\n      <use x=\"91.210938\" xlink:href=\"#DejaVuSans-46\"/>\r\n      <use x=\"146.980469\" xlink:href=\"#DejaVuSans-54\"/>\r\n      <use x=\"208.064453\" xlink:href=\"#DejaVuSans-28\"/>\r\n      <use x=\"247.078125\" xlink:href=\"#DejaVuSans-66\"/>\r\n      <use x=\"282.283203\" xlink:href=\"#DejaVuSans-29\"/>\r\n      <use x=\"321.296875\" xlink:href=\"#DejaVuSans-7c\"/>\r\n     </g>\r\n    </g>\r\n   </g>\r\n   <g id=\"line2d_31\">\r\n    <path clip-path=\"url(#p04a1e7b748)\" d=\"M 65.683807 182.88876 \r\nL 66.293754 205.529238 \r\nL 66.903701 205.096652 \r\nL 67.513648 204.097571 \r\nL 68.123595 202.217539 \r\nL 68.733543 198.786629 \r\nL 69.34349 191.283394 \r\nL 69.953437 164.379016 \r\nL 70.563384 17.083636 \r\nL 71.173331 183.343134 \r\nL 71.783278 198.184735 \r\nL 72.393226 203.690663 \r\nL 73.003173 206.535574 \r\nL 73.61312 208.26065 \r\nL 74.223067 209.413245 \r\nL 74.833014 210.279319 \r\nL 75.442961 210.688876 \r\nL 76.662856 211.652042 \r\nL 77.88275 212.200876 \r\nL 79.102644 212.594014 \r\nL 79.712592 212.700761 \r\nL 80.322539 212.921652 \r\nL 83.372275 213.338668 \r\nL 86.42201 213.651755 \r\nL 92.521482 213.979724 \r\nL 96.791112 214.099506 \r\nL 98.011007 213.978499 \r\nL 99.230901 214.332741 \r\nL 99.840848 214.143567 \r\nL 102.890584 214.243038 \r\nL 120.579052 214.459028 \r\nL 151.686357 214.61292 \r\nL 159.615671 214.625877 \r\nL 171.814614 214.6536 \r\nL 370.047443 214.756331 \r\nL 370.047443 214.756331 \r\n\" style=\"fill:none;stroke:#1f77b4;stroke-linecap:square;stroke-width:1.5;\"/>\r\n   </g>\r\n   <g id=\"patch_3\">\r\n    <path d=\"M 50.465625 224.64 \r\nL 50.465625 7.2 \r\n\" style=\"fill:none;stroke:#000000;stroke-linecap:square;stroke-linejoin:miter;stroke-width:0.8;\"/>\r\n   </g>\r\n   <g id=\"patch_4\">\r\n    <path d=\"M 385.265625 224.64 \r\nL 385.265625 7.2 \r\n\" style=\"fill:none;stroke:#000000;stroke-linecap:square;stroke-linejoin:miter;stroke-width:0.8;\"/>\r\n   </g>\r\n   <g id=\"patch_5\">\r\n    <path d=\"M 50.465625 224.64 \r\nL 385.265625 224.64 \r\n\" style=\"fill:none;stroke:#000000;stroke-linecap:square;stroke-linejoin:miter;stroke-width:0.8;\"/>\r\n   </g>\r\n   <g id=\"patch_6\">\r\n    <path d=\"M 50.465625 7.2 \r\nL 385.265625 7.2 \r\n\" style=\"fill:none;stroke:#000000;stroke-linecap:square;stroke-linejoin:miter;stroke-width:0.8;\"/>\r\n   </g>\r\n  </g>\r\n </g>\r\n <defs>\r\n  <clipPath id=\"p04a1e7b748\">\r\n   <rect height=\"217.44\" width=\"334.8\" x=\"50.465625\" y=\"7.2\"/>\r\n  </clipPath>\r\n </defs>\r\n</svg>\r\n",
      "image/png": "[encoded data removed]"
     },
     "metadata": {
      "needs_background": "light"
     }
    }
   ],
   "metadata": {}
  },
  {
   "cell_type": "code",
   "execution_count": 47,
   "source": [
    "F_Al_strain48 = np.fft.fft(vibration48_data['Strain Gauge Data'])\r\n",
    "Amplitude_Al_strain48 = 2.0*np.abs(F_Al_strain48)/N\r\n",
    "Frequency_Al_strain48 = np.linspace(0.0,1.0/(dt),int(N))"
   ],
   "outputs": [],
   "metadata": {}
  },
  {
   "cell_type": "code",
   "execution_count": 48,
   "source": [
    "plt.grid();\r\n",
    "plt.plot(Frequency_Al_strain48,Amplitude_Al_strain48);plt.xlabel('Frequency [Hz]');plt.ylabel('|FFT(f)|');"
   ],
   "outputs": [
    {
     "output_type": "display_data",
     "data": {
      "text/plain": [
       "<Figure size 432x288 with 1 Axes>"
      ],
      "image/svg+xml": "<?xml version=\"1.0\" encoding=\"utf-8\" standalone=\"no\"?>\r\n<!DOCTYPE svg PUBLIC \"-//W3C//DTD SVG 1.1//EN\"\r\n  \"http://www.w3.org/Graphics/SVG/1.1/DTD/svg11.dtd\">\r\n<svg height=\"262.19625pt\" version=\"1.1\" viewBox=\"0 0 411.553125 262.19625\" width=\"411.553125pt\" xmlns=\"http://www.w3.org/2000/svg\" xmlns:xlink=\"http://www.w3.org/1999/xlink\">\r\n <metadata>\r\n  <rdf:RDF xmlns:cc=\"http://creativecommons.org/ns#\" xmlns:dc=\"http://purl.org/dc/elements/1.1/\" xmlns:rdf=\"http://www.w3.org/1999/02/22-rdf-syntax-ns#\">\r\n   <cc:Work>\r\n    <dc:type rdf:resource=\"http://purl.org/dc/dcmitype/StillImage\"/>\r\n    <dc:date>2021-08-27T14:06:52.807900</dc:date>\r\n    <dc:format>image/svg+xml</dc:format>\r\n    <dc:creator>\r\n     <cc:Agent>\r\n      <dc:title>Matplotlib v3.4.2, https://matplotlib.org/</dc:title>\r\n     </cc:Agent>\r\n    </dc:creator>\r\n   </cc:Work>\r\n  </rdf:RDF>\r\n </metadata>\r\n <defs>\r\n  <style type=\"text/css\">*{stroke-linecap:butt;stroke-linejoin:round;}</style>\r\n </defs>\r\n <g id=\"figure_1\">\r\n  <g id=\"patch_1\">\r\n   <path d=\"M 0 262.19625 \r\nL 411.553125 262.19625 \r\nL 411.553125 0 \r\nL 0 0 \r\nz\r\n\" style=\"fill:none;\"/>\r\n  </g>\r\n  <g id=\"axes_1\">\r\n   <g id=\"patch_2\">\r\n    <path d=\"M 69.553125 224.64 \r\nL 404.353125 224.64 \r\nL 404.353125 7.2 \r\nL 69.553125 7.2 \r\nz\r\n\" style=\"fill:#ffffff;\"/>\r\n   </g>\r\n   <g id=\"matplotlib.axis_1\">\r\n    <g id=\"xtick_1\">\r\n     <g id=\"line2d_1\">\r\n      <path clip-path=\"url(#p50b4f371c5)\" d=\"M 84.771307 224.64 \r\nL 84.771307 7.2 \r\n\" style=\"fill:none;stroke:#b0b0b0;stroke-linecap:square;stroke-width:0.8;\"/>\r\n     </g>\r\n     <g id=\"line2d_2\">\r\n      <defs>\r\n       <path d=\"M 0 0 \r\nL 0 3.5 \r\n\" id=\"mcdf3f0e6f1\" style=\"stroke:#000000;stroke-width:0.8;\"/>\r\n      </defs>\r\n      <g>\r\n       <use style=\"stroke:#000000;stroke-width:0.8;\" x=\"84.771307\" xlink:href=\"#mcdf3f0e6f1\" y=\"224.64\"/>\r\n      </g>\r\n     </g>\r\n     <g id=\"text_1\">\r\n      <!-- 0 -->\r\n      <g transform=\"translate(81.590057 239.238438)scale(0.1 -0.1)\">\r\n       <defs>\r\n        <path d=\"M 2034 4250 \r\nQ 1547 4250 1301 3770 \r\nQ 1056 3291 1056 2328 \r\nQ 1056 1369 1301 889 \r\nQ 1547 409 2034 409 \r\nQ 2525 409 2770 889 \r\nQ 3016 1369 3016 2328 \r\nQ 3016 3291 2770 3770 \r\nQ 2525 4250 2034 4250 \r\nz\r\nM 2034 4750 \r\nQ 2819 4750 3233 4129 \r\nQ 3647 3509 3647 2328 \r\nQ 3647 1150 3233 529 \r\nQ 2819 -91 2034 -91 \r\nQ 1250 -91 836 529 \r\nQ 422 1150 422 2328 \r\nQ 422 3509 836 4129 \r\nQ 1250 4750 2034 4750 \r\nz\r\n\" id=\"DejaVuSans-30\" transform=\"scale(0.015625)\"/>\r\n       </defs>\r\n       <use xlink:href=\"#DejaVuSans-30\"/>\r\n      </g>\r\n     </g>\r\n    </g>\r\n    <g id=\"xtick_2\">\r\n     <g id=\"line2d_3\">\r\n      <path clip-path=\"url(#p50b4f371c5)\" d=\"M 145.644034 224.64 \r\nL 145.644034 7.2 \r\n\" style=\"fill:none;stroke:#b0b0b0;stroke-linecap:square;stroke-width:0.8;\"/>\r\n     </g>\r\n     <g id=\"line2d_4\">\r\n      <g>\r\n       <use style=\"stroke:#000000;stroke-width:0.8;\" x=\"145.644034\" xlink:href=\"#mcdf3f0e6f1\" y=\"224.64\"/>\r\n      </g>\r\n     </g>\r\n     <g id=\"text_2\">\r\n      <!-- 200 -->\r\n      <g transform=\"translate(136.100284 239.238438)scale(0.1 -0.1)\">\r\n       <defs>\r\n        <path d=\"M 1228 531 \r\nL 3431 531 \r\nL 3431 0 \r\nL 469 0 \r\nL 469 531 \r\nQ 828 903 1448 1529 \r\nQ 2069 2156 2228 2338 \r\nQ 2531 2678 2651 2914 \r\nQ 2772 3150 2772 3378 \r\nQ 2772 3750 2511 3984 \r\nQ 2250 4219 1831 4219 \r\nQ 1534 4219 1204 4116 \r\nQ 875 4013 500 3803 \r\nL 500 4441 \r\nQ 881 4594 1212 4672 \r\nQ 1544 4750 1819 4750 \r\nQ 2544 4750 2975 4387 \r\nQ 3406 4025 3406 3419 \r\nQ 3406 3131 3298 2873 \r\nQ 3191 2616 2906 2266 \r\nQ 2828 2175 2409 1742 \r\nQ 1991 1309 1228 531 \r\nz\r\n\" id=\"DejaVuSans-32\" transform=\"scale(0.015625)\"/>\r\n       </defs>\r\n       <use xlink:href=\"#DejaVuSans-32\"/>\r\n       <use x=\"63.623047\" xlink:href=\"#DejaVuSans-30\"/>\r\n       <use x=\"127.246094\" xlink:href=\"#DejaVuSans-30\"/>\r\n      </g>\r\n     </g>\r\n    </g>\r\n    <g id=\"xtick_3\">\r\n     <g id=\"line2d_5\">\r\n      <path clip-path=\"url(#p50b4f371c5)\" d=\"M 206.516761 224.64 \r\nL 206.516761 7.2 \r\n\" style=\"fill:none;stroke:#b0b0b0;stroke-linecap:square;stroke-width:0.8;\"/>\r\n     </g>\r\n     <g id=\"line2d_6\">\r\n      <g>\r\n       <use style=\"stroke:#000000;stroke-width:0.8;\" x=\"206.516761\" xlink:href=\"#mcdf3f0e6f1\" y=\"224.64\"/>\r\n      </g>\r\n     </g>\r\n     <g id=\"text_3\">\r\n      <!-- 400 -->\r\n      <g transform=\"translate(196.973011 239.238438)scale(0.1 -0.1)\">\r\n       <defs>\r\n        <path d=\"M 2419 4116 \r\nL 825 1625 \r\nL 2419 1625 \r\nL 2419 4116 \r\nz\r\nM 2253 4666 \r\nL 3047 4666 \r\nL 3047 1625 \r\nL 3713 1625 \r\nL 3713 1100 \r\nL 3047 1100 \r\nL 3047 0 \r\nL 2419 0 \r\nL 2419 1100 \r\nL 313 1100 \r\nL 313 1709 \r\nL 2253 4666 \r\nz\r\n\" id=\"DejaVuSans-34\" transform=\"scale(0.015625)\"/>\r\n       </defs>\r\n       <use xlink:href=\"#DejaVuSans-34\"/>\r\n       <use x=\"63.623047\" xlink:href=\"#DejaVuSans-30\"/>\r\n       <use x=\"127.246094\" xlink:href=\"#DejaVuSans-30\"/>\r\n      </g>\r\n     </g>\r\n    </g>\r\n    <g id=\"xtick_4\">\r\n     <g id=\"line2d_7\">\r\n      <path clip-path=\"url(#p50b4f371c5)\" d=\"M 267.389489 224.64 \r\nL 267.389489 7.2 \r\n\" style=\"fill:none;stroke:#b0b0b0;stroke-linecap:square;stroke-width:0.8;\"/>\r\n     </g>\r\n     <g id=\"line2d_8\">\r\n      <g>\r\n       <use style=\"stroke:#000000;stroke-width:0.8;\" x=\"267.389489\" xlink:href=\"#mcdf3f0e6f1\" y=\"224.64\"/>\r\n      </g>\r\n     </g>\r\n     <g id=\"text_4\">\r\n      <!-- 600 -->\r\n      <g transform=\"translate(257.845739 239.238438)scale(0.1 -0.1)\">\r\n       <defs>\r\n        <path d=\"M 2113 2584 \r\nQ 1688 2584 1439 2293 \r\nQ 1191 2003 1191 1497 \r\nQ 1191 994 1439 701 \r\nQ 1688 409 2113 409 \r\nQ 2538 409 2786 701 \r\nQ 3034 994 3034 1497 \r\nQ 3034 2003 2786 2293 \r\nQ 2538 2584 2113 2584 \r\nz\r\nM 3366 4563 \r\nL 3366 3988 \r\nQ 3128 4100 2886 4159 \r\nQ 2644 4219 2406 4219 \r\nQ 1781 4219 1451 3797 \r\nQ 1122 3375 1075 2522 \r\nQ 1259 2794 1537 2939 \r\nQ 1816 3084 2150 3084 \r\nQ 2853 3084 3261 2657 \r\nQ 3669 2231 3669 1497 \r\nQ 3669 778 3244 343 \r\nQ 2819 -91 2113 -91 \r\nQ 1303 -91 875 529 \r\nQ 447 1150 447 2328 \r\nQ 447 3434 972 4092 \r\nQ 1497 4750 2381 4750 \r\nQ 2619 4750 2861 4703 \r\nQ 3103 4656 3366 4563 \r\nz\r\n\" id=\"DejaVuSans-36\" transform=\"scale(0.015625)\"/>\r\n       </defs>\r\n       <use xlink:href=\"#DejaVuSans-36\"/>\r\n       <use x=\"63.623047\" xlink:href=\"#DejaVuSans-30\"/>\r\n       <use x=\"127.246094\" xlink:href=\"#DejaVuSans-30\"/>\r\n      </g>\r\n     </g>\r\n    </g>\r\n    <g id=\"xtick_5\">\r\n     <g id=\"line2d_9\">\r\n      <path clip-path=\"url(#p50b4f371c5)\" d=\"M 328.262216 224.64 \r\nL 328.262216 7.2 \r\n\" style=\"fill:none;stroke:#b0b0b0;stroke-linecap:square;stroke-width:0.8;\"/>\r\n     </g>\r\n     <g id=\"line2d_10\">\r\n      <g>\r\n       <use style=\"stroke:#000000;stroke-width:0.8;\" x=\"328.262216\" xlink:href=\"#mcdf3f0e6f1\" y=\"224.64\"/>\r\n      </g>\r\n     </g>\r\n     <g id=\"text_5\">\r\n      <!-- 800 -->\r\n      <g transform=\"translate(318.718466 239.238438)scale(0.1 -0.1)\">\r\n       <defs>\r\n        <path d=\"M 2034 2216 \r\nQ 1584 2216 1326 1975 \r\nQ 1069 1734 1069 1313 \r\nQ 1069 891 1326 650 \r\nQ 1584 409 2034 409 \r\nQ 2484 409 2743 651 \r\nQ 3003 894 3003 1313 \r\nQ 3003 1734 2745 1975 \r\nQ 2488 2216 2034 2216 \r\nz\r\nM 1403 2484 \r\nQ 997 2584 770 2862 \r\nQ 544 3141 544 3541 \r\nQ 544 4100 942 4425 \r\nQ 1341 4750 2034 4750 \r\nQ 2731 4750 3128 4425 \r\nQ 3525 4100 3525 3541 \r\nQ 3525 3141 3298 2862 \r\nQ 3072 2584 2669 2484 \r\nQ 3125 2378 3379 2068 \r\nQ 3634 1759 3634 1313 \r\nQ 3634 634 3220 271 \r\nQ 2806 -91 2034 -91 \r\nQ 1263 -91 848 271 \r\nQ 434 634 434 1313 \r\nQ 434 1759 690 2068 \r\nQ 947 2378 1403 2484 \r\nz\r\nM 1172 3481 \r\nQ 1172 3119 1398 2916 \r\nQ 1625 2713 2034 2713 \r\nQ 2441 2713 2670 2916 \r\nQ 2900 3119 2900 3481 \r\nQ 2900 3844 2670 4047 \r\nQ 2441 4250 2034 4250 \r\nQ 1625 4250 1398 4047 \r\nQ 1172 3844 1172 3481 \r\nz\r\n\" id=\"DejaVuSans-38\" transform=\"scale(0.015625)\"/>\r\n       </defs>\r\n       <use xlink:href=\"#DejaVuSans-38\"/>\r\n       <use x=\"63.623047\" xlink:href=\"#DejaVuSans-30\"/>\r\n       <use x=\"127.246094\" xlink:href=\"#DejaVuSans-30\"/>\r\n      </g>\r\n     </g>\r\n    </g>\r\n    <g id=\"xtick_6\">\r\n     <g id=\"line2d_11\">\r\n      <path clip-path=\"url(#p50b4f371c5)\" d=\"M 389.134943 224.64 \r\nL 389.134943 7.2 \r\n\" style=\"fill:none;stroke:#b0b0b0;stroke-linecap:square;stroke-width:0.8;\"/>\r\n     </g>\r\n     <g id=\"line2d_12\">\r\n      <g>\r\n       <use style=\"stroke:#000000;stroke-width:0.8;\" x=\"389.134943\" xlink:href=\"#mcdf3f0e6f1\" y=\"224.64\"/>\r\n      </g>\r\n     </g>\r\n     <g id=\"text_6\">\r\n      <!-- 1000 -->\r\n      <g transform=\"translate(376.409943 239.238438)scale(0.1 -0.1)\">\r\n       <defs>\r\n        <path d=\"M 794 531 \r\nL 1825 531 \r\nL 1825 4091 \r\nL 703 3866 \r\nL 703 4441 \r\nL 1819 4666 \r\nL 2450 4666 \r\nL 2450 531 \r\nL 3481 531 \r\nL 3481 0 \r\nL 794 0 \r\nL 794 531 \r\nz\r\n\" id=\"DejaVuSans-31\" transform=\"scale(0.015625)\"/>\r\n       </defs>\r\n       <use xlink:href=\"#DejaVuSans-31\"/>\r\n       <use x=\"63.623047\" xlink:href=\"#DejaVuSans-30\"/>\r\n       <use x=\"127.246094\" xlink:href=\"#DejaVuSans-30\"/>\r\n       <use x=\"190.869141\" xlink:href=\"#DejaVuSans-30\"/>\r\n      </g>\r\n     </g>\r\n    </g>\r\n    <g id=\"text_7\">\r\n     <!-- Frequency [Hz] -->\r\n     <g transform=\"translate(199.248437 252.916563)scale(0.1 -0.1)\">\r\n      <defs>\r\n       <path d=\"M 628 4666 \r\nL 3309 4666 \r\nL 3309 4134 \r\nL 1259 4134 \r\nL 1259 2759 \r\nL 3109 2759 \r\nL 3109 2228 \r\nL 1259 2228 \r\nL 1259 0 \r\nL 628 0 \r\nL 628 4666 \r\nz\r\n\" id=\"DejaVuSans-46\" transform=\"scale(0.015625)\"/>\r\n       <path d=\"M 2631 2963 \r\nQ 2534 3019 2420 3045 \r\nQ 2306 3072 2169 3072 \r\nQ 1681 3072 1420 2755 \r\nQ 1159 2438 1159 1844 \r\nL 1159 0 \r\nL 581 0 \r\nL 581 3500 \r\nL 1159 3500 \r\nL 1159 2956 \r\nQ 1341 3275 1631 3429 \r\nQ 1922 3584 2338 3584 \r\nQ 2397 3584 2469 3576 \r\nQ 2541 3569 2628 3553 \r\nL 2631 2963 \r\nz\r\n\" id=\"DejaVuSans-72\" transform=\"scale(0.015625)\"/>\r\n       <path d=\"M 3597 1894 \r\nL 3597 1613 \r\nL 953 1613 \r\nQ 991 1019 1311 708 \r\nQ 1631 397 2203 397 \r\nQ 2534 397 2845 478 \r\nQ 3156 559 3463 722 \r\nL 3463 178 \r\nQ 3153 47 2828 -22 \r\nQ 2503 -91 2169 -91 \r\nQ 1331 -91 842 396 \r\nQ 353 884 353 1716 \r\nQ 353 2575 817 3079 \r\nQ 1281 3584 2069 3584 \r\nQ 2775 3584 3186 3129 \r\nQ 3597 2675 3597 1894 \r\nz\r\nM 3022 2063 \r\nQ 3016 2534 2758 2815 \r\nQ 2500 3097 2075 3097 \r\nQ 1594 3097 1305 2825 \r\nQ 1016 2553 972 2059 \r\nL 3022 2063 \r\nz\r\n\" id=\"DejaVuSans-65\" transform=\"scale(0.015625)\"/>\r\n       <path d=\"M 947 1747 \r\nQ 947 1113 1208 752 \r\nQ 1469 391 1925 391 \r\nQ 2381 391 2643 752 \r\nQ 2906 1113 2906 1747 \r\nQ 2906 2381 2643 2742 \r\nQ 2381 3103 1925 3103 \r\nQ 1469 3103 1208 2742 \r\nQ 947 2381 947 1747 \r\nz\r\nM 2906 525 \r\nQ 2725 213 2448 61 \r\nQ 2172 -91 1784 -91 \r\nQ 1150 -91 751 415 \r\nQ 353 922 353 1747 \r\nQ 353 2572 751 3078 \r\nQ 1150 3584 1784 3584 \r\nQ 2172 3584 2448 3432 \r\nQ 2725 3281 2906 2969 \r\nL 2906 3500 \r\nL 3481 3500 \r\nL 3481 -1331 \r\nL 2906 -1331 \r\nL 2906 525 \r\nz\r\n\" id=\"DejaVuSans-71\" transform=\"scale(0.015625)\"/>\r\n       <path d=\"M 544 1381 \r\nL 544 3500 \r\nL 1119 3500 \r\nL 1119 1403 \r\nQ 1119 906 1312 657 \r\nQ 1506 409 1894 409 \r\nQ 2359 409 2629 706 \r\nQ 2900 1003 2900 1516 \r\nL 2900 3500 \r\nL 3475 3500 \r\nL 3475 0 \r\nL 2900 0 \r\nL 2900 538 \r\nQ 2691 219 2414 64 \r\nQ 2138 -91 1772 -91 \r\nQ 1169 -91 856 284 \r\nQ 544 659 544 1381 \r\nz\r\nM 1991 3584 \r\nL 1991 3584 \r\nz\r\n\" id=\"DejaVuSans-75\" transform=\"scale(0.015625)\"/>\r\n       <path d=\"M 3513 2113 \r\nL 3513 0 \r\nL 2938 0 \r\nL 2938 2094 \r\nQ 2938 2591 2744 2837 \r\nQ 2550 3084 2163 3084 \r\nQ 1697 3084 1428 2787 \r\nQ 1159 2491 1159 1978 \r\nL 1159 0 \r\nL 581 0 \r\nL 581 3500 \r\nL 1159 3500 \r\nL 1159 2956 \r\nQ 1366 3272 1645 3428 \r\nQ 1925 3584 2291 3584 \r\nQ 2894 3584 3203 3211 \r\nQ 3513 2838 3513 2113 \r\nz\r\n\" id=\"DejaVuSans-6e\" transform=\"scale(0.015625)\"/>\r\n       <path d=\"M 3122 3366 \r\nL 3122 2828 \r\nQ 2878 2963 2633 3030 \r\nQ 2388 3097 2138 3097 \r\nQ 1578 3097 1268 2742 \r\nQ 959 2388 959 1747 \r\nQ 959 1106 1268 751 \r\nQ 1578 397 2138 397 \r\nQ 2388 397 2633 464 \r\nQ 2878 531 3122 666 \r\nL 3122 134 \r\nQ 2881 22 2623 -34 \r\nQ 2366 -91 2075 -91 \r\nQ 1284 -91 818 406 \r\nQ 353 903 353 1747 \r\nQ 353 2603 823 3093 \r\nQ 1294 3584 2113 3584 \r\nQ 2378 3584 2631 3529 \r\nQ 2884 3475 3122 3366 \r\nz\r\n\" id=\"DejaVuSans-63\" transform=\"scale(0.015625)\"/>\r\n       <path d=\"M 2059 -325 \r\nQ 1816 -950 1584 -1140 \r\nQ 1353 -1331 966 -1331 \r\nL 506 -1331 \r\nL 506 -850 \r\nL 844 -850 \r\nQ 1081 -850 1212 -737 \r\nQ 1344 -625 1503 -206 \r\nL 1606 56 \r\nL 191 3500 \r\nL 800 3500 \r\nL 1894 763 \r\nL 2988 3500 \r\nL 3597 3500 \r\nL 2059 -325 \r\nz\r\n\" id=\"DejaVuSans-79\" transform=\"scale(0.015625)\"/>\r\n       <path id=\"DejaVuSans-20\" transform=\"scale(0.015625)\"/>\r\n       <path d=\"M 550 4863 \r\nL 1875 4863 \r\nL 1875 4416 \r\nL 1125 4416 \r\nL 1125 -397 \r\nL 1875 -397 \r\nL 1875 -844 \r\nL 550 -844 \r\nL 550 4863 \r\nz\r\n\" id=\"DejaVuSans-5b\" transform=\"scale(0.015625)\"/>\r\n       <path d=\"M 628 4666 \r\nL 1259 4666 \r\nL 1259 2753 \r\nL 3553 2753 \r\nL 3553 4666 \r\nL 4184 4666 \r\nL 4184 0 \r\nL 3553 0 \r\nL 3553 2222 \r\nL 1259 2222 \r\nL 1259 0 \r\nL 628 0 \r\nL 628 4666 \r\nz\r\n\" id=\"DejaVuSans-48\" transform=\"scale(0.015625)\"/>\r\n       <path d=\"M 353 3500 \r\nL 3084 3500 \r\nL 3084 2975 \r\nL 922 459 \r\nL 3084 459 \r\nL 3084 0 \r\nL 275 0 \r\nL 275 525 \r\nL 2438 3041 \r\nL 353 3041 \r\nL 353 3500 \r\nz\r\n\" id=\"DejaVuSans-7a\" transform=\"scale(0.015625)\"/>\r\n       <path d=\"M 1947 4863 \r\nL 1947 -844 \r\nL 622 -844 \r\nL 622 -397 \r\nL 1369 -397 \r\nL 1369 4416 \r\nL 622 4416 \r\nL 622 4863 \r\nL 1947 4863 \r\nz\r\n\" id=\"DejaVuSans-5d\" transform=\"scale(0.015625)\"/>\r\n      </defs>\r\n      <use xlink:href=\"#DejaVuSans-46\"/>\r\n      <use x=\"50.269531\" xlink:href=\"#DejaVuSans-72\"/>\r\n      <use x=\"89.132812\" xlink:href=\"#DejaVuSans-65\"/>\r\n      <use x=\"150.65625\" xlink:href=\"#DejaVuSans-71\"/>\r\n      <use x=\"214.132812\" xlink:href=\"#DejaVuSans-75\"/>\r\n      <use x=\"277.511719\" xlink:href=\"#DejaVuSans-65\"/>\r\n      <use x=\"339.035156\" xlink:href=\"#DejaVuSans-6e\"/>\r\n      <use x=\"402.414062\" xlink:href=\"#DejaVuSans-63\"/>\r\n      <use x=\"457.394531\" xlink:href=\"#DejaVuSans-79\"/>\r\n      <use x=\"516.574219\" xlink:href=\"#DejaVuSans-20\"/>\r\n      <use x=\"548.361328\" xlink:href=\"#DejaVuSans-5b\"/>\r\n      <use x=\"587.375\" xlink:href=\"#DejaVuSans-48\"/>\r\n      <use x=\"662.570312\" xlink:href=\"#DejaVuSans-7a\"/>\r\n      <use x=\"715.060547\" xlink:href=\"#DejaVuSans-5d\"/>\r\n     </g>\r\n    </g>\r\n   </g>\r\n   <g id=\"matplotlib.axis_2\">\r\n    <g id=\"ytick_1\">\r\n     <g id=\"line2d_13\">\r\n      <path clip-path=\"url(#p50b4f371c5)\" d=\"M 69.553125 214.761452 \r\nL 404.353125 214.761452 \r\n\" style=\"fill:none;stroke:#b0b0b0;stroke-linecap:square;stroke-width:0.8;\"/>\r\n     </g>\r\n     <g id=\"line2d_14\">\r\n      <defs>\r\n       <path d=\"M 0 0 \r\nL -3.5 0 \r\n\" id=\"m0f8c9fead7\" style=\"stroke:#000000;stroke-width:0.8;\"/>\r\n      </defs>\r\n      <g>\r\n       <use style=\"stroke:#000000;stroke-width:0.8;\" x=\"69.553125\" xlink:href=\"#m0f8c9fead7\" y=\"214.761452\"/>\r\n      </g>\r\n     </g>\r\n     <g id=\"text_8\">\r\n      <!-- 0.00000 -->\r\n      <g transform=\"translate(21.2 218.56067)scale(0.1 -0.1)\">\r\n       <defs>\r\n        <path d=\"M 684 794 \r\nL 1344 794 \r\nL 1344 0 \r\nL 684 0 \r\nL 684 794 \r\nz\r\n\" id=\"DejaVuSans-2e\" transform=\"scale(0.015625)\"/>\r\n       </defs>\r\n       <use xlink:href=\"#DejaVuSans-30\"/>\r\n       <use x=\"63.623047\" xlink:href=\"#DejaVuSans-2e\"/>\r\n       <use x=\"95.410156\" xlink:href=\"#DejaVuSans-30\"/>\r\n       <use x=\"159.033203\" xlink:href=\"#DejaVuSans-30\"/>\r\n       <use x=\"222.65625\" xlink:href=\"#DejaVuSans-30\"/>\r\n       <use x=\"286.279297\" xlink:href=\"#DejaVuSans-30\"/>\r\n       <use x=\"349.902344\" xlink:href=\"#DejaVuSans-30\"/>\r\n      </g>\r\n     </g>\r\n    </g>\r\n    <g id=\"ytick_2\">\r\n     <g id=\"line2d_15\">\r\n      <path clip-path=\"url(#p50b4f371c5)\" d=\"M 69.553125 174.010369 \r\nL 404.353125 174.010369 \r\n\" style=\"fill:none;stroke:#b0b0b0;stroke-linecap:square;stroke-width:0.8;\"/>\r\n     </g>\r\n     <g id=\"line2d_16\">\r\n      <g>\r\n       <use style=\"stroke:#000000;stroke-width:0.8;\" x=\"69.553125\" xlink:href=\"#m0f8c9fead7\" y=\"174.010369\"/>\r\n      </g>\r\n     </g>\r\n     <g id=\"text_9\">\r\n      <!-- 0.00002 -->\r\n      <g transform=\"translate(21.2 177.809588)scale(0.1 -0.1)\">\r\n       <use xlink:href=\"#DejaVuSans-30\"/>\r\n       <use x=\"63.623047\" xlink:href=\"#DejaVuSans-2e\"/>\r\n       <use x=\"95.410156\" xlink:href=\"#DejaVuSans-30\"/>\r\n       <use x=\"159.033203\" xlink:href=\"#DejaVuSans-30\"/>\r\n       <use x=\"222.65625\" xlink:href=\"#DejaVuSans-30\"/>\r\n       <use x=\"286.279297\" xlink:href=\"#DejaVuSans-30\"/>\r\n       <use x=\"349.902344\" xlink:href=\"#DejaVuSans-32\"/>\r\n      </g>\r\n     </g>\r\n    </g>\r\n    <g id=\"ytick_3\">\r\n     <g id=\"line2d_17\">\r\n      <path clip-path=\"url(#p50b4f371c5)\" d=\"M 69.553125 133.259287 \r\nL 404.353125 133.259287 \r\n\" style=\"fill:none;stroke:#b0b0b0;stroke-linecap:square;stroke-width:0.8;\"/>\r\n     </g>\r\n     <g id=\"line2d_18\">\r\n      <g>\r\n       <use style=\"stroke:#000000;stroke-width:0.8;\" x=\"69.553125\" xlink:href=\"#m0f8c9fead7\" y=\"133.259287\"/>\r\n      </g>\r\n     </g>\r\n     <g id=\"text_10\">\r\n      <!-- 0.00004 -->\r\n      <g transform=\"translate(21.2 137.058506)scale(0.1 -0.1)\">\r\n       <use xlink:href=\"#DejaVuSans-30\"/>\r\n       <use x=\"63.623047\" xlink:href=\"#DejaVuSans-2e\"/>\r\n       <use x=\"95.410156\" xlink:href=\"#DejaVuSans-30\"/>\r\n       <use x=\"159.033203\" xlink:href=\"#DejaVuSans-30\"/>\r\n       <use x=\"222.65625\" xlink:href=\"#DejaVuSans-30\"/>\r\n       <use x=\"286.279297\" xlink:href=\"#DejaVuSans-30\"/>\r\n       <use x=\"349.902344\" xlink:href=\"#DejaVuSans-34\"/>\r\n      </g>\r\n     </g>\r\n    </g>\r\n    <g id=\"ytick_4\">\r\n     <g id=\"line2d_19\">\r\n      <path clip-path=\"url(#p50b4f371c5)\" d=\"M 69.553125 92.508205 \r\nL 404.353125 92.508205 \r\n\" style=\"fill:none;stroke:#b0b0b0;stroke-linecap:square;stroke-width:0.8;\"/>\r\n     </g>\r\n     <g id=\"line2d_20\">\r\n      <g>\r\n       <use style=\"stroke:#000000;stroke-width:0.8;\" x=\"69.553125\" xlink:href=\"#m0f8c9fead7\" y=\"92.508205\"/>\r\n      </g>\r\n     </g>\r\n     <g id=\"text_11\">\r\n      <!-- 0.00006 -->\r\n      <g transform=\"translate(21.2 96.307424)scale(0.1 -0.1)\">\r\n       <use xlink:href=\"#DejaVuSans-30\"/>\r\n       <use x=\"63.623047\" xlink:href=\"#DejaVuSans-2e\"/>\r\n       <use x=\"95.410156\" xlink:href=\"#DejaVuSans-30\"/>\r\n       <use x=\"159.033203\" xlink:href=\"#DejaVuSans-30\"/>\r\n       <use x=\"222.65625\" xlink:href=\"#DejaVuSans-30\"/>\r\n       <use x=\"286.279297\" xlink:href=\"#DejaVuSans-30\"/>\r\n       <use x=\"349.902344\" xlink:href=\"#DejaVuSans-36\"/>\r\n      </g>\r\n     </g>\r\n    </g>\r\n    <g id=\"ytick_5\">\r\n     <g id=\"line2d_21\">\r\n      <path clip-path=\"url(#p50b4f371c5)\" d=\"M 69.553125 51.757123 \r\nL 404.353125 51.757123 \r\n\" style=\"fill:none;stroke:#b0b0b0;stroke-linecap:square;stroke-width:0.8;\"/>\r\n     </g>\r\n     <g id=\"line2d_22\">\r\n      <g>\r\n       <use style=\"stroke:#000000;stroke-width:0.8;\" x=\"69.553125\" xlink:href=\"#m0f8c9fead7\" y=\"51.757123\"/>\r\n      </g>\r\n     </g>\r\n     <g id=\"text_12\">\r\n      <!-- 0.00008 -->\r\n      <g transform=\"translate(21.2 55.556341)scale(0.1 -0.1)\">\r\n       <use xlink:href=\"#DejaVuSans-30\"/>\r\n       <use x=\"63.623047\" xlink:href=\"#DejaVuSans-2e\"/>\r\n       <use x=\"95.410156\" xlink:href=\"#DejaVuSans-30\"/>\r\n       <use x=\"159.033203\" xlink:href=\"#DejaVuSans-30\"/>\r\n       <use x=\"222.65625\" xlink:href=\"#DejaVuSans-30\"/>\r\n       <use x=\"286.279297\" xlink:href=\"#DejaVuSans-30\"/>\r\n       <use x=\"349.902344\" xlink:href=\"#DejaVuSans-38\"/>\r\n      </g>\r\n     </g>\r\n    </g>\r\n    <g id=\"ytick_6\">\r\n     <g id=\"line2d_23\">\r\n      <path clip-path=\"url(#p50b4f371c5)\" d=\"M 69.553125 11.00604 \r\nL 404.353125 11.00604 \r\n\" style=\"fill:none;stroke:#b0b0b0;stroke-linecap:square;stroke-width:0.8;\"/>\r\n     </g>\r\n     <g id=\"line2d_24\">\r\n      <g>\r\n       <use style=\"stroke:#000000;stroke-width:0.8;\" x=\"69.553125\" xlink:href=\"#m0f8c9fead7\" y=\"11.00604\"/>\r\n      </g>\r\n     </g>\r\n     <g id=\"text_13\">\r\n      <!-- 0.00010 -->\r\n      <g transform=\"translate(21.2 14.805259)scale(0.1 -0.1)\">\r\n       <use xlink:href=\"#DejaVuSans-30\"/>\r\n       <use x=\"63.623047\" xlink:href=\"#DejaVuSans-2e\"/>\r\n       <use x=\"95.410156\" xlink:href=\"#DejaVuSans-30\"/>\r\n       <use x=\"159.033203\" xlink:href=\"#DejaVuSans-30\"/>\r\n       <use x=\"222.65625\" xlink:href=\"#DejaVuSans-30\"/>\r\n       <use x=\"286.279297\" xlink:href=\"#DejaVuSans-31\"/>\r\n       <use x=\"349.902344\" xlink:href=\"#DejaVuSans-30\"/>\r\n      </g>\r\n     </g>\r\n    </g>\r\n    <g id=\"text_14\">\r\n     <!-- |FFT(f)| -->\r\n     <g transform=\"translate(14.842188 133.668438)rotate(-90)scale(0.1 -0.1)\">\r\n      <defs>\r\n       <path d=\"M 1344 4891 \r\nL 1344 -1509 \r\nL 813 -1509 \r\nL 813 4891 \r\nL 1344 4891 \r\nz\r\n\" id=\"DejaVuSans-7c\" transform=\"scale(0.015625)\"/>\r\n       <path d=\"M -19 4666 \r\nL 3928 4666 \r\nL 3928 4134 \r\nL 2272 4134 \r\nL 2272 0 \r\nL 1638 0 \r\nL 1638 4134 \r\nL -19 4134 \r\nL -19 4666 \r\nz\r\n\" id=\"DejaVuSans-54\" transform=\"scale(0.015625)\"/>\r\n       <path d=\"M 1984 4856 \r\nQ 1566 4138 1362 3434 \r\nQ 1159 2731 1159 2009 \r\nQ 1159 1288 1364 580 \r\nQ 1569 -128 1984 -844 \r\nL 1484 -844 \r\nQ 1016 -109 783 600 \r\nQ 550 1309 550 2009 \r\nQ 550 2706 781 3412 \r\nQ 1013 4119 1484 4856 \r\nL 1984 4856 \r\nz\r\n\" id=\"DejaVuSans-28\" transform=\"scale(0.015625)\"/>\r\n       <path d=\"M 2375 4863 \r\nL 2375 4384 \r\nL 1825 4384 \r\nQ 1516 4384 1395 4259 \r\nQ 1275 4134 1275 3809 \r\nL 1275 3500 \r\nL 2222 3500 \r\nL 2222 3053 \r\nL 1275 3053 \r\nL 1275 0 \r\nL 697 0 \r\nL 697 3053 \r\nL 147 3053 \r\nL 147 3500 \r\nL 697 3500 \r\nL 697 3744 \r\nQ 697 4328 969 4595 \r\nQ 1241 4863 1831 4863 \r\nL 2375 4863 \r\nz\r\n\" id=\"DejaVuSans-66\" transform=\"scale(0.015625)\"/>\r\n       <path d=\"M 513 4856 \r\nL 1013 4856 \r\nQ 1481 4119 1714 3412 \r\nQ 1947 2706 1947 2009 \r\nQ 1947 1309 1714 600 \r\nQ 1481 -109 1013 -844 \r\nL 513 -844 \r\nQ 928 -128 1133 580 \r\nQ 1338 1288 1338 2009 \r\nQ 1338 2731 1133 3434 \r\nQ 928 4138 513 4856 \r\nz\r\n\" id=\"DejaVuSans-29\" transform=\"scale(0.015625)\"/>\r\n      </defs>\r\n      <use xlink:href=\"#DejaVuSans-7c\"/>\r\n      <use x=\"33.691406\" xlink:href=\"#DejaVuSans-46\"/>\r\n      <use x=\"91.210938\" xlink:href=\"#DejaVuSans-46\"/>\r\n      <use x=\"146.980469\" xlink:href=\"#DejaVuSans-54\"/>\r\n      <use x=\"208.064453\" xlink:href=\"#DejaVuSans-28\"/>\r\n      <use x=\"247.078125\" xlink:href=\"#DejaVuSans-66\"/>\r\n      <use x=\"282.283203\" xlink:href=\"#DejaVuSans-29\"/>\r\n      <use x=\"321.296875\" xlink:href=\"#DejaVuSans-7c\"/>\r\n     </g>\r\n    </g>\r\n   </g>\r\n   <g id=\"line2d_25\">\r\n    <path clip-path=\"url(#p50b4f371c5)\" d=\"M 84.771307 17.083636 \r\nL 85.075975 212.992749 \r\nL 85.380643 212.644606 \r\nL 85.685312 212.070036 \r\nL 85.98998 211.126046 \r\nL 86.294648 209.354211 \r\nL 86.599317 205.893763 \r\nL 86.903985 193.545085 \r\nL 87.208653 123.840298 \r\nL 87.513322 199.013048 \r\nL 87.81799 205.928743 \r\nL 88.122658 208.49245 \r\nL 88.427326 209.881001 \r\nL 89.036663 211.290398 \r\nL 89.341331 211.777914 \r\nL 89.646 211.901991 \r\nL 89.950668 212.274507 \r\nL 91.169341 212.955765 \r\nL 92.997351 213.351068 \r\nL 93.302019 213.349496 \r\nL 93.606688 213.617485 \r\nL 95.130029 213.677234 \r\nL 95.434697 213.878358 \r\nL 96.348702 213.769774 \r\nL 96.653371 213.908724 \r\nL 97.262707 213.907175 \r\nL 97.567376 214.077213 \r\nL 98.176712 213.950785 \r\nL 100.30939 214.011142 \r\nL 100.614059 214.145868 \r\nL 100.918727 214.087392 \r\nL 101.223395 214.199451 \r\nL 101.832732 214.112911 \r\nL 102.442068 214.193479 \r\nL 102.746737 214.099156 \r\nL 104.270078 214.237792 \r\nL 104.879415 214.150265 \r\nL 105.184083 214.378112 \r\nL 105.488752 214.198135 \r\nL 105.79342 214.318052 \r\nL 107.316761 214.256639 \r\nL 108.230766 214.311382 \r\nL 108.535435 214.25356 \r\nL 108.840103 214.387153 \r\nL 109.144771 214.221179 \r\nL 109.754108 214.336192 \r\nL 110.363444 214.304696 \r\nL 110.668113 214.369808 \r\nL 110.972781 214.241641 \r\nL 111.277449 214.446584 \r\nL 111.582118 214.337954 \r\nL 111.886786 214.450747 \r\nL 112.191454 214.311538 \r\nL 114.324132 214.404648 \r\nL 114.628801 214.337507 \r\nL 115.238137 214.469546 \r\nL 115.847474 214.357193 \r\nL 116.456811 214.540511 \r\nL 117.066147 214.324109 \r\nL 117.370815 214.510918 \r\nL 118.28482 214.480421 \r\nL 119.198825 214.593927 \r\nL 119.503494 214.375175 \r\nL 119.808162 214.492853 \r\nL 120.11283 214.296729 \r\nL 120.417498 214.556388 \r\nL 121.026835 214.406801 \r\nL 121.331503 214.509188 \r\nL 121.94084 214.431569 \r\nL 122.550177 214.483212 \r\nL 123.76885 214.514154 \r\nL 124.682855 214.46121 \r\nL 124.987523 214.4899 \r\nL 125.292191 214.40378 \r\nL 125.59686 214.523486 \r\nL 126.206196 214.537706 \r\nL 127.120201 214.518929 \r\nL 129.862216 214.495088 \r\nL 130.471553 214.465034 \r\nL 131.385557 214.576047 \r\nL 131.690226 214.475959 \r\nL 132.604231 214.555958 \r\nL 132.908899 214.424382 \r\nL 135.346245 214.547741 \r\nL 140.220938 214.58163 \r\nL 140.525607 214.660481 \r\nL 140.830275 214.540003 \r\nL 141.439611 214.638161 \r\nL 141.74428 214.529032 \r\nL 143.267621 214.631409 \r\nL 143.57229 214.534127 \r\nL 143.876958 214.647368 \r\nL 144.181626 214.429273 \r\nL 144.486295 214.62114 \r\nL 145.704968 214.571741 \r\nL 146.923641 214.596941 \r\nL 147.532978 214.622541 \r\nL 147.837646 214.506121 \r\nL 148.142314 214.631683 \r\nL 148.446982 214.530331 \r\nL 149.056319 214.663357 \r\nL 150.884329 214.544211 \r\nL 151.188997 214.479962 \r\nL 151.798334 214.609803 \r\nL 152.103002 214.530445 \r\nL 153.017007 214.649999 \r\nL 153.321675 214.542991 \r\nL 153.626344 214.64479 \r\nL 153.931012 214.520986 \r\nL 154.23568 214.697393 \r\nL 154.540349 214.583356 \r\nL 154.845017 214.697048 \r\nL 155.149685 214.577441 \r\nL 155.454354 214.688109 \r\nL 156.06369 214.572219 \r\nL 156.977695 214.608071 \r\nL 157.587032 214.500364 \r\nL 157.8917 214.633668 \r\nL 158.501037 214.591574 \r\nL 160.938383 214.594462 \r\nL 161.54772 214.640409 \r\nL 161.852388 214.716878 \r\nL 162.461725 214.585539 \r\nL 163.985066 214.581991 \r\nL 164.594403 214.562184 \r\nL 165.203739 214.576215 \r\nL 165.508408 214.495262 \r\nL 165.813076 214.653941 \r\nL 166.422412 214.571435 \r\nL 168.250422 214.617598 \r\nL 168.555091 214.71347 \r\nL 168.859759 214.619753 \r\nL 169.469096 214.640739 \r\nL 169.773764 214.545437 \r\nL 170.078432 214.669742 \r\nL 170.687769 214.581354 \r\nL 170.992437 214.679255 \r\nL 172.515779 214.506002 \r\nL 173.125115 214.708157 \r\nL 173.429783 214.54069 \r\nL 173.734452 214.620723 \r\nL 174.343788 214.563407 \r\nL 174.648457 214.692261 \r\nL 175.257793 214.505376 \r\nL 176.476467 214.70098 \r\nL 177.085803 214.633507 \r\nL 177.69514 214.582176 \r\nL 181.046491 214.614038 \r\nL 181.351159 214.517323 \r\nL 181.960496 214.656765 \r\nL 182.265164 214.593383 \r\nL 182.569833 214.678585 \r\nL 183.179169 214.60396 \r\nL 183.483838 214.699082 \r\nL 183.788506 214.648146 \r\nL 184.093174 214.756364 \r\nL 184.397842 214.524641 \r\nL 185.007179 214.602164 \r\nL 185.311847 214.596183 \r\nL 185.616516 214.712921 \r\nL 185.921184 214.590961 \r\nL 186.530521 214.552707 \r\nL 190.491209 214.624033 \r\nL 191.100545 214.621228 \r\nL 192.319218 214.619745 \r\nL 192.928555 214.674113 \r\nL 193.233223 214.582112 \r\nL 193.84256 214.622213 \r\nL 194.451896 214.573655 \r\nL 194.756565 214.637854 \r\nL 195.061233 214.551688 \r\nL 195.365901 214.708072 \r\nL 196.279906 214.644708 \r\nL 197.803248 214.688899 \r\nL 198.107916 214.572027 \r\nL 198.717253 214.61007 \r\nL 199.021921 214.521656 \r\nL 199.326589 214.664339 \r\nL 199.631258 214.590077 \r\nL 200.240594 214.689094 \r\nL 200.849931 214.52288 \r\nL 201.154599 214.68013 \r\nL 201.459268 214.711492 \r\nL 202.068604 214.601468 \r\nL 202.373272 214.698827 \r\nL 203.287277 214.559288 \r\nL 203.591946 214.649137 \r\nL 204.201282 214.601941 \r\nL 204.505951 214.694999 \r\nL 204.810619 214.589425 \r\nL 205.419955 214.652643 \r\nL 206.638629 214.618874 \r\nL 206.943297 214.709235 \r\nL 207.247965 214.625483 \r\nL 208.466639 214.748286 \r\nL 208.771307 214.539116 \r\nL 209.075975 214.721042 \r\nL 209.98998 214.589134 \r\nL 210.294648 214.692806 \r\nL 211.208653 214.612324 \r\nL 214.864673 214.674969 \r\nL 215.169341 214.605922 \r\nL 215.778678 214.720692 \r\nL 217.302019 214.632834 \r\nL 217.606688 214.566106 \r\nL 217.911356 214.632675 \r\nL 218.216024 214.571877 \r\nL 218.520693 214.722159 \r\nL 219.130029 214.667288 \r\nL 219.739366 214.558234 \r\nL 220.044034 214.667566 \r\nL 220.348702 214.598719 \r\nL 220.958039 214.637792 \r\nL 223.395385 214.696964 \r\nL 224.004722 214.592778 \r\nL 225.832732 214.627519 \r\nL 226.1374 214.678039 \r\nL 226.442068 214.611581 \r\nL 226.746737 214.694961 \r\nL 227.051405 214.592884 \r\nL 227.356073 214.707371 \r\nL 228.879415 214.651818 \r\nL 229.79342 214.719492 \r\nL 230.402756 214.65566 \r\nL 230.707425 214.604377 \r\nL 231.012093 214.683439 \r\nL 231.62143 214.581688 \r\nL 232.230766 214.598866 \r\nL 233.144771 214.641709 \r\nL 233.449439 214.732401 \r\nL 233.754108 214.623434 \r\nL 234.058776 214.690496 \r\nL 234.972781 214.626696 \r\nL 235.582118 214.664434 \r\nL 236.191454 214.566938 \r\nL 236.496123 214.678086 \r\nL 237.410127 214.644119 \r\nL 237.714796 214.678086 \r\nL 238.019464 214.566938 \r\nL 239.238137 214.626696 \r\nL 239.847474 214.634758 \r\nL 240.152142 214.690496 \r\nL 240.456811 214.623434 \r\nL 240.761479 214.732401 \r\nL 241.370815 214.627941 \r\nL 242.589489 214.581688 \r\nL 244.417498 214.719492 \r\nL 245.026835 214.696085 \r\nL 245.636172 214.68418 \r\nL 246.854845 214.707371 \r\nL 247.159513 214.592884 \r\nL 247.464182 214.694961 \r\nL 247.76885 214.611581 \r\nL 248.073518 214.678039 \r\nL 248.682855 214.674325 \r\nL 250.510865 214.601591 \r\nL 251.120201 214.68345 \r\nL 251.729538 214.642711 \r\nL 252.034206 214.690249 \r\nL 252.643543 214.589685 \r\nL 253.252879 214.637792 \r\nL 254.166884 214.667566 \r\nL 254.471553 214.558234 \r\nL 255.690226 214.722159 \r\nL 255.994894 214.571877 \r\nL 256.299562 214.632675 \r\nL 256.604231 214.566106 \r\nL 257.213567 214.681723 \r\nL 257.822904 214.647727 \r\nL 258.43224 214.720692 \r\nL 259.955582 214.681291 \r\nL 260.26025 214.729206 \r\nL 260.564919 214.580998 \r\nL 261.174255 214.650466 \r\nL 263.002265 214.612324 \r\nL 263.91627 214.692806 \r\nL 264.220938 214.589134 \r\nL 265.134943 214.721042 \r\nL 265.439611 214.539116 \r\nL 265.74428 214.748286 \r\nL 268.486295 214.629478 \r\nL 269.704968 214.694999 \r\nL 270.314304 214.602857 \r\nL 270.618973 214.649137 \r\nL 271.228309 214.575783 \r\nL 272.142314 214.601468 \r\nL 273.056319 214.68013 \r\nL 273.360987 214.52288 \r\nL 273.970324 214.689094 \r\nL 274.884329 214.664339 \r\nL 275.188997 214.521656 \r\nL 275.798334 214.636393 \r\nL 276.103002 214.572027 \r\nL 276.40767 214.688899 \r\nL 276.712339 214.589248 \r\nL 277.017007 214.676342 \r\nL 277.321675 214.564788 \r\nL 277.931012 214.644708 \r\nL 278.540349 214.650293 \r\nL 278.845017 214.708072 \r\nL 279.149685 214.551688 \r\nL 279.454354 214.637854 \r\nL 280.06369 214.565571 \r\nL 280.673027 214.637929 \r\nL 280.977695 214.582112 \r\nL 281.587032 214.686683 \r\nL 282.501037 214.571482 \r\nL 284.329046 214.677466 \r\nL 286.461725 214.586342 \r\nL 286.766393 214.665731 \r\nL 287.375729 214.563138 \r\nL 288.289734 214.590961 \r\nL 288.594403 214.712921 \r\nL 288.899071 214.596183 \r\nL 289.813076 214.524641 \r\nL 290.117744 214.756364 \r\nL 290.422412 214.648146 \r\nL 290.727081 214.699082 \r\nL 291.336417 214.622926 \r\nL 291.641086 214.678585 \r\nL 291.945754 214.593383 \r\nL 292.555091 214.615284 \r\nL 292.859759 214.517323 \r\nL 293.469096 214.618696 \r\nL 294.992437 214.582447 \r\nL 295.297105 214.645222 \r\nL 295.601774 214.548046 \r\nL 296.21111 214.594104 \r\nL 297.429783 214.614437 \r\nL 297.734452 214.70098 \r\nL 298.03912 214.543283 \r\nL 298.343788 214.702065 \r\nL 298.953125 214.505376 \r\nL 299.86713 214.563407 \r\nL 300.781135 214.54069 \r\nL 301.085803 214.708157 \r\nL 301.69514 214.506002 \r\nL 302.304476 214.676565 \r\nL 302.913813 214.650495 \r\nL 303.218481 214.679255 \r\nL 303.52315 214.581354 \r\nL 305.655828 214.71347 \r\nL 305.960496 214.617598 \r\nL 306.569833 214.653545 \r\nL 306.874501 214.500658 \r\nL 307.483838 214.573022 \r\nL 312.053862 214.594814 \r\nL 312.35853 214.716878 \r\nL 313.272535 214.594462 \r\nL 314.18654 214.683435 \r\nL 314.795877 214.565765 \r\nL 315.709882 214.591574 \r\nL 316.928555 214.555226 \r\nL 317.233223 214.608071 \r\nL 317.537892 214.522581 \r\nL 318.147228 214.572219 \r\nL 318.756565 214.688109 \r\nL 319.061233 214.577441 \r\nL 319.365901 214.697048 \r\nL 319.67057 214.583356 \r\nL 319.975238 214.697393 \r\nL 320.279906 214.520986 \r\nL 320.584575 214.64479 \r\nL 320.889243 214.542991 \r\nL 321.193911 214.649999 \r\nL 321.49858 214.52105 \r\nL 322.412584 214.609803 \r\nL 323.326589 214.544211 \r\nL 323.631258 214.673735 \r\nL 323.935926 214.543166 \r\nL 324.240594 214.624739 \r\nL 324.545263 214.576154 \r\nL 325.154599 214.663357 \r\nL 325.763936 214.530331 \r\nL 326.068604 214.631683 \r\nL 326.373272 214.506121 \r\nL 326.982609 214.633668 \r\nL 328.201282 214.559615 \r\nL 329.724624 214.62114 \r\nL 330.029292 214.429273 \r\nL 330.33396 214.647368 \r\nL 330.638629 214.534127 \r\nL 330.943297 214.631409 \r\nL 331.552634 214.525165 \r\nL 332.16197 214.555717 \r\nL 332.466639 214.529032 \r\nL 332.771307 214.638161 \r\nL 333.380643 214.540003 \r\nL 333.685312 214.660481 \r\nL 334.599317 214.486335 \r\nL 335.208653 214.612779 \r\nL 336.122658 214.492896 \r\nL 336.427326 214.594562 \r\nL 337.341331 214.50867 \r\nL 338.255336 214.626868 \r\nL 338.864673 214.547741 \r\nL 339.47401 214.5352 \r\nL 340.692683 214.52073 \r\nL 341.302019 214.424382 \r\nL 341.606688 214.555958 \r\nL 344.958039 214.584959 \r\nL 345.567376 214.543653 \r\nL 346.481381 214.542541 \r\nL 349.832732 214.364739 \r\nL 350.442068 214.514154 \r\nL 351.051405 214.46394 \r\nL 351.96541 214.499635 \r\nL 352.574747 214.457604 \r\nL 352.879415 214.509188 \r\nL 353.184083 214.406801 \r\nL 353.79342 214.556388 \r\nL 354.098088 214.296729 \r\nL 354.402756 214.492853 \r\nL 354.707425 214.375175 \r\nL 355.012093 214.593927 \r\nL 355.926098 214.480421 \r\nL 356.230766 214.304279 \r\nL 356.840103 214.510918 \r\nL 357.144771 214.324109 \r\nL 357.754108 214.540511 \r\nL 358.668113 214.390948 \r\nL 358.972781 214.469546 \r\nL 359.886786 214.404648 \r\nL 361.105459 214.36549 \r\nL 362.019464 214.311538 \r\nL 362.324132 214.450747 \r\nL 362.628801 214.337954 \r\nL 362.933469 214.446584 \r\nL 363.238137 214.241641 \r\nL 363.542806 214.369808 \r\nL 364.152142 214.272179 \r\nL 364.761479 214.297713 \r\nL 365.066147 214.221179 \r\nL 365.370815 214.387153 \r\nL 365.675484 214.25356 \r\nL 366.28482 214.292017 \r\nL 368.722167 214.198135 \r\nL 369.026835 214.378112 \r\nL 369.331503 214.150265 \r\nL 369.94084 214.237792 \r\nL 371.464182 214.099156 \r\nL 372.073518 214.179349 \r\nL 372.682855 214.108244 \r\nL 372.987523 214.199451 \r\nL 373.292191 214.087392 \r\nL 373.59686 214.145868 \r\nL 374.206196 213.903788 \r\nL 374.510865 213.974592 \r\nL 374.815533 213.895793 \r\nL 375.424869 214.042849 \r\nL 376.034206 213.950785 \r\nL 376.948211 213.907175 \r\nL 377.862216 213.769774 \r\nL 378.776221 213.878358 \r\nL 379.385557 213.575621 \r\nL 379.690226 213.683025 \r\nL 380.299562 213.618009 \r\nL 380.604231 213.617485 \r\nL 380.908899 213.349496 \r\nL 382.127572 213.297495 \r\nL 382.43224 213.04682 \r\nL 383.041577 212.955765 \r\nL 383.650914 212.636797 \r\nL 384.26025 212.274507 \r\nL 384.564919 211.901991 \r\nL 384.869587 211.777914 \r\nL 385.478924 210.697242 \r\nL 385.783592 209.881001 \r\nL 386.08826 208.49245 \r\nL 386.392928 205.928743 \r\nL 386.697597 199.013048 \r\nL 387.002265 123.840298 \r\nL 387.306933 193.545085 \r\nL 387.611602 205.893763 \r\nL 387.91627 209.354211 \r\nL 388.220938 211.126046 \r\nL 388.525607 212.070036 \r\nL 389.134943 212.992749 \r\nL 389.134943 212.992749 \r\n\" style=\"fill:none;stroke:#1f77b4;stroke-linecap:square;stroke-width:1.5;\"/>\r\n   </g>\r\n   <g id=\"patch_3\">\r\n    <path d=\"M 69.553125 224.64 \r\nL 69.553125 7.2 \r\n\" style=\"fill:none;stroke:#000000;stroke-linecap:square;stroke-linejoin:miter;stroke-width:0.8;\"/>\r\n   </g>\r\n   <g id=\"patch_4\">\r\n    <path d=\"M 404.353125 224.64 \r\nL 404.353125 7.2 \r\n\" style=\"fill:none;stroke:#000000;stroke-linecap:square;stroke-linejoin:miter;stroke-width:0.8;\"/>\r\n   </g>\r\n   <g id=\"patch_5\">\r\n    <path d=\"M 69.553125 224.64 \r\nL 404.353125 224.64 \r\n\" style=\"fill:none;stroke:#000000;stroke-linecap:square;stroke-linejoin:miter;stroke-width:0.8;\"/>\r\n   </g>\r\n   <g id=\"patch_6\">\r\n    <path d=\"M 69.553125 7.2 \r\nL 404.353125 7.2 \r\n\" style=\"fill:none;stroke:#000000;stroke-linecap:square;stroke-linejoin:miter;stroke-width:0.8;\"/>\r\n   </g>\r\n  </g>\r\n </g>\r\n <defs>\r\n  <clipPath id=\"p50b4f371c5\">\r\n   <rect height=\"217.44\" width=\"334.8\" x=\"69.553125\" y=\"7.2\"/>\r\n  </clipPath>\r\n </defs>\r\n</svg>\r\n",
      "image/png": "[encoded data removed]"
     },
     "metadata": {
      "needs_background": "light"
     }
    }
   ],
   "metadata": {}
  },
  {
   "cell_type": "code",
   "execution_count": null,
   "source": [],
   "outputs": [],
   "metadata": {}
  }
 ],
 "metadata": {
  "orig_nbformat": 4,
  "language_info": {
   "name": "python",
   "version": "3.8.10",
   "mimetype": "text/x-python",
   "codemirror_mode": {
    "name": "ipython",
    "version": 3
   },
   "pygments_lexer": "ipython3",
   "nbconvert_exporter": "python",
   "file_extension": ".py"
  },
  "kernelspec": {
   "name": "python3",
   "display_name": "Python 3.8.10 64-bit"
  },
  "interpreter": {
   "hash": "46b56489f7f0b69c558b3db68ace274265d225be2812e701dbb00a44f2f9de29"
  }
 },
 "nbformat": 4,
 "nbformat_minor": 2
}