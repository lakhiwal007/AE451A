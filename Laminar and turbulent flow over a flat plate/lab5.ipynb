{
 "cells": [
  {
   "cell_type": "markdown",
   "source": [
    "# Laminar and turbulent flow over a flat plate"
   ],
   "metadata": {}
  },
  {
   "cell_type": "code",
   "execution_count": 1,
   "source": [
    "import pandas as pd\r\n",
    "import numpy as np\r\n",
    "import matplotlib.pyplot as plt\r\n",
    "from scipy import stats"
   ],
   "outputs": [],
   "metadata": {}
  },
  {
   "cell_type": "code",
   "execution_count": 2,
   "source": [
    "def parameters_Exp(u,dy,Uinf,islaminar,isTurbulent,x=650,nu= 1.48*pow(10,-5)):\r\n",
    "    f =  1-(u/Uinf)\r\n",
    "    g = (u/Uinf)*(f)\r\n",
    "    deltaStar = np.trapz(f,dy)\r\n",
    "    Theta = np.trapz(g,dy)\r\n",
    "    ShapeFactor = deltaStar/Theta\r\n",
    "\r\n",
    "    if islaminar:\r\n",
    "        Cf = Theta/x\r\n",
    "    if isTurbulent:\r\n",
    "        xt = (dy)*Uinf/nu\r\n",
    "        xt[0] = 1\r\n",
    "        fxt = np.log(xt)\r\n",
    "        fyt = u/Uinf\r\n",
    "        C,b = np.polyfit(fxt,fyt,deg=1)\r\n",
    "        fit_fn = C*fxt + b\r\n",
    "        plt.plot(fxt,fyt,\"-o\")\r\n",
    "        plt.plot(fxt,fit_fn,'--r');plt.legend(['experimental',f'C = {C}\\nD = {b}'])\r\n",
    "        plt.grid();plt.xlabel(\"ln( yUinf/mu )\");plt.ylabel(\"u/Uinf\");\r\n",
    "        Cf = 2*(pow((C*0.41),2))\r\n",
    "    \r\n",
    "    return deltaStar, Theta, ShapeFactor,Cf\r\n",
    "    \r\n",
    "    "
   ],
   "outputs": [],
   "metadata": {}
  },
  {
   "cell_type": "code",
   "execution_count": 3,
   "source": [
    "def parameters_Th(Uinf,islaminar,isTurbulent,x = 650,nu= 1.48*pow(10,-5)):\r\n",
    "    Rex = (Uinf*x)/nu\r\n",
    "    if islaminar:\r\n",
    "        Blt = (5*x)/np.sqrt(Rex)\r\n",
    "        Dt = (1.72*x)/np.sqrt(Rex)\r\n",
    "        Theta = (0.664*x)/np.sqrt(Rex)\r\n",
    "        Cf =  (0.664)/np.sqrt(Rex)\r\n",
    "        H = Dt/Theta\r\n",
    "    if isTurbulent:\r\n",
    "        Blt = (0.16*x)/pow(Rex,(1/7))\r\n",
    "        Dt = (0.02*x)/pow(Rex,(1/7))\r\n",
    "        Theta = (0.016*x)/pow(Rex,(1/7))\r\n",
    "        Cf =  (0.027*x)/pow(Rex,(1/7))\r\n",
    "        H = Dt/Theta\r\n",
    "    return Blt,Dt,Theta,H,Cf"
   ],
   "outputs": [],
   "metadata": {}
  },
  {
   "cell_type": "markdown",
   "source": [
    "# Pitote Tube data"
   ],
   "metadata": {}
  },
  {
   "cell_type": "markdown",
   "source": [
    "## 1. Laminar Flow"
   ],
   "metadata": {}
  },
  {
   "cell_type": "code",
   "execution_count": 4,
   "source": [
    "pitoteDataLaminar = pd.read_csv(\"Aerodynamics-Experiment-I-Data/Pitot_tube_data/Laminar_flow/Laminar_pitot_tube_y_vs_u_at_x_650_mm.txt\",delimiter='\\t')"
   ],
   "outputs": [],
   "metadata": {}
  },
  {
   "cell_type": "code",
   "execution_count": 5,
   "source": [
    "pitoteDataLaminar"
   ],
   "outputs": [
    {
     "output_type": "execute_result",
     "data": {
      "text/html": [
       "<div>\n",
       "<style scoped>\n",
       "    .dataframe tbody tr th:only-of-type {\n",
       "        vertical-align: middle;\n",
       "    }\n",
       "\n",
       "    .dataframe tbody tr th {\n",
       "        vertical-align: top;\n",
       "    }\n",
       "\n",
       "    .dataframe thead th {\n",
       "        text-align: right;\n",
       "    }\n",
       "</style>\n",
       "<table border=\"1\" class=\"dataframe\">\n",
       "  <thead>\n",
       "    <tr style=\"text-align: right;\">\n",
       "      <th></th>\n",
       "      <th>y (mm)</th>\n",
       "      <th>u (m/s)</th>\n",
       "    </tr>\n",
       "  </thead>\n",
       "  <tbody>\n",
       "    <tr>\n",
       "      <th>0</th>\n",
       "      <td>22.0</td>\n",
       "      <td>3.03836</td>\n",
       "    </tr>\n",
       "    <tr>\n",
       "      <th>1</th>\n",
       "      <td>20.0</td>\n",
       "      <td>3.03429</td>\n",
       "    </tr>\n",
       "    <tr>\n",
       "      <th>2</th>\n",
       "      <td>18.0</td>\n",
       "      <td>3.02762</td>\n",
       "    </tr>\n",
       "    <tr>\n",
       "      <th>3</th>\n",
       "      <td>16.0</td>\n",
       "      <td>3.06458</td>\n",
       "    </tr>\n",
       "    <tr>\n",
       "      <th>4</th>\n",
       "      <td>14.0</td>\n",
       "      <td>3.02987</td>\n",
       "    </tr>\n",
       "    <tr>\n",
       "      <th>5</th>\n",
       "      <td>12.0</td>\n",
       "      <td>3.06387</td>\n",
       "    </tr>\n",
       "    <tr>\n",
       "      <th>6</th>\n",
       "      <td>10.0</td>\n",
       "      <td>3.09410</td>\n",
       "    </tr>\n",
       "    <tr>\n",
       "      <th>7</th>\n",
       "      <td>9.0</td>\n",
       "      <td>3.08582</td>\n",
       "    </tr>\n",
       "    <tr>\n",
       "      <th>8</th>\n",
       "      <td>8.0</td>\n",
       "      <td>3.05797</td>\n",
       "    </tr>\n",
       "    <tr>\n",
       "      <th>9</th>\n",
       "      <td>7.0</td>\n",
       "      <td>2.97265</td>\n",
       "    </tr>\n",
       "    <tr>\n",
       "      <th>10</th>\n",
       "      <td>6.0</td>\n",
       "      <td>2.86156</td>\n",
       "    </tr>\n",
       "    <tr>\n",
       "      <th>11</th>\n",
       "      <td>5.0</td>\n",
       "      <td>2.58315</td>\n",
       "    </tr>\n",
       "    <tr>\n",
       "      <th>12</th>\n",
       "      <td>4.0</td>\n",
       "      <td>2.21319</td>\n",
       "    </tr>\n",
       "    <tr>\n",
       "      <th>13</th>\n",
       "      <td>3.0</td>\n",
       "      <td>1.53962</td>\n",
       "    </tr>\n",
       "    <tr>\n",
       "      <th>14</th>\n",
       "      <td>0.0</td>\n",
       "      <td>0.00000</td>\n",
       "    </tr>\n",
       "  </tbody>\n",
       "</table>\n",
       "</div>"
      ],
      "text/plain": [
       "    y (mm)  u (m/s)\n",
       "0     22.0  3.03836\n",
       "1     20.0  3.03429\n",
       "2     18.0  3.02762\n",
       "3     16.0  3.06458\n",
       "4     14.0  3.02987\n",
       "5     12.0  3.06387\n",
       "6     10.0  3.09410\n",
       "7      9.0  3.08582\n",
       "8      8.0  3.05797\n",
       "9      7.0  2.97265\n",
       "10     6.0  2.86156\n",
       "11     5.0  2.58315\n",
       "12     4.0  2.21319\n",
       "13     3.0  1.53962\n",
       "14     0.0  0.00000"
      ]
     },
     "metadata": {},
     "execution_count": 5
    }
   ],
   "metadata": {}
  },
  {
   "cell_type": "code",
   "execution_count": 6,
   "source": [
    "plt.plot(pitoteDataLaminar['u (m/s)'],pitoteDataLaminar['y (mm)'],'-o');\r\n",
    "plt.grid();plt.xlabel('u [m/s]');plt.ylabel('y [mm]');plt.legend([\"Laminar Flow\"]);"
   ],
   "outputs": [
    {
     "output_type": "display_data",
     "data": {
      "image/png": "[encoded data removed]",
      "text/plain": [
       "<Figure size 432x288 with 1 Axes>"
      ]
     },
     "metadata": {
      "needs_background": "light"
     }
    }
   ],
   "metadata": {}
  },
  {
   "cell_type": "code",
   "execution_count": 7,
   "source": [
    "Pitote_UinfLaminar = pitoteDataLaminar['u (m/s)'].mean()\r\n",
    "dyL = pitoteDataLaminar['y (mm)']"
   ],
   "outputs": [],
   "metadata": {}
  },
  {
   "cell_type": "code",
   "execution_count": 8,
   "source": [
    "Pitote_UinfLaminar"
   ],
   "outputs": [
    {
     "output_type": "execute_result",
     "data": {
      "text/plain": [
       "2.644443333333333"
      ]
     },
     "metadata": {},
     "execution_count": 8
    }
   ],
   "metadata": {}
  },
  {
   "cell_type": "code",
   "execution_count": 9,
   "source": [
    "btL_Th,dtL_Th,tL_Th,hL_Th,CfL_Th = parameters_Th(Uinf=Pitote_UinfLaminar,islaminar=1,isTurbulent=0)\r\n",
    "dtL_exp,tL_exp,hL_exp,CfL_exp = parameters_Exp(u=pitoteDataLaminar['u (m/s)'],Uinf=Pitote_UinfLaminar, dy= dyL*pow(10,-3),islaminar=1,isTurbulent=0)"
   ],
   "outputs": [],
   "metadata": {}
  },
  {
   "cell_type": "markdown",
   "source": [
    "> ## Boundary Layer Thickness (mm)"
   ],
   "metadata": {}
  },
  {
   "cell_type": "code",
   "execution_count": 10,
   "source": [
    "ubl = 0.99*Pitote_UinfLaminar"
   ],
   "outputs": [],
   "metadata": {}
  },
  {
   "cell_type": "markdown",
   "source": [
    "> ## Displacement Thickness (mm)"
   ],
   "metadata": {}
  },
  {
   "cell_type": "code",
   "execution_count": 11,
   "source": [
    "fy = 1-(pitoteDataLaminar['u (m/s)']/Pitote_UinfLaminar)\r\n",
    "(dtL_Th,dtL_exp)"
   ],
   "outputs": [
    {
     "output_type": "execute_result",
     "data": {
      "text/plain": [
       "(0.10374062266443833, -7.721978034444131e-05)"
      ]
     },
     "metadata": {},
     "execution_count": 11
    }
   ],
   "metadata": {}
  },
  {
   "cell_type": "markdown",
   "source": [
    "> ## Momentum Thickness (mm)"
   ],
   "metadata": {}
  },
  {
   "cell_type": "code",
   "execution_count": 12,
   "source": [
    "ftheta = (1-fy)*(fy)\r\n",
    "(tL_Th,tL_exp)"
   ],
   "outputs": [
    {
     "output_type": "execute_result",
     "data": {
      "text/plain": [
       "(0.04004870549371341, 0.0021677628504293534)"
      ]
     },
     "metadata": {},
     "execution_count": 12
    }
   ],
   "metadata": {}
  },
  {
   "cell_type": "markdown",
   "source": [
    "> ## Shape Factor"
   ],
   "metadata": {}
  },
  {
   "cell_type": "code",
   "execution_count": 13,
   "source": [
    "(hL_Th,hL_exp)"
   ],
   "outputs": [
    {
     "output_type": "execute_result",
     "data": {
      "text/plain": [
       "(2.5903614457831323, -0.03562187641011882)"
      ]
     },
     "metadata": {},
     "execution_count": 13
    }
   ],
   "metadata": {}
  },
  {
   "cell_type": "code",
   "execution_count": 14,
   "source": [
    "plt.figure(figsize=(15,5));\r\n",
    "plt.subplot(1,2,1);\r\n",
    "plt.plot(dyL,fy,'-o');plt.ylabel('(1-u / Uinf)');plt.xlabel('y (mm)');plt.grid();plt.legend(['laminar flow']);\r\n",
    "plt.subplot(1,2,2);\r\n",
    "plt.plot(dyL,ftheta,'-s');plt.ylabel('(u / Uinf)*(1-u / Uinf)');plt.xlabel('y (mm)');plt.grid();plt.legend(['laminar flow']);"
   ],
   "outputs": [
    {
     "output_type": "display_data",
     "data": {
      "image/png": "[encoded data removed]",
      "text/plain": [
       "<Figure size 1080x360 with 2 Axes>"
      ]
     },
     "metadata": {
      "needs_background": "light"
     }
    }
   ],
   "metadata": {}
  },
  {
   "cell_type": "markdown",
   "source": [
    "## 2. Turbulent Flow"
   ],
   "metadata": {}
  },
  {
   "cell_type": "code",
   "execution_count": 15,
   "source": [
    "pitoteDataTurbulent = pd.read_csv(\"Aerodynamics-Experiment-I-Data/Pitot_tube_data/Turbulent_flow/Turbulent_pitot_tube_y_vs_u_at_x_650_mm.txt\",delimiter='\\t')"
   ],
   "outputs": [],
   "metadata": {}
  },
  {
   "cell_type": "code",
   "execution_count": 16,
   "source": [
    "pitoteDataTurbulent"
   ],
   "outputs": [
    {
     "output_type": "execute_result",
     "data": {
      "text/html": [
       "<div>\n",
       "<style scoped>\n",
       "    .dataframe tbody tr th:only-of-type {\n",
       "        vertical-align: middle;\n",
       "    }\n",
       "\n",
       "    .dataframe tbody tr th {\n",
       "        vertical-align: top;\n",
       "    }\n",
       "\n",
       "    .dataframe thead th {\n",
       "        text-align: right;\n",
       "    }\n",
       "</style>\n",
       "<table border=\"1\" class=\"dataframe\">\n",
       "  <thead>\n",
       "    <tr style=\"text-align: right;\">\n",
       "      <th></th>\n",
       "      <th>y (mm)</th>\n",
       "      <th>u (m/s)</th>\n",
       "    </tr>\n",
       "  </thead>\n",
       "  <tbody>\n",
       "    <tr>\n",
       "      <th>0</th>\n",
       "      <td>1.0</td>\n",
       "      <td>1.20874</td>\n",
       "    </tr>\n",
       "    <tr>\n",
       "      <th>1</th>\n",
       "      <td>2.0</td>\n",
       "      <td>1.66123</td>\n",
       "    </tr>\n",
       "    <tr>\n",
       "      <th>2</th>\n",
       "      <td>3.0</td>\n",
       "      <td>1.91780</td>\n",
       "    </tr>\n",
       "    <tr>\n",
       "      <th>3</th>\n",
       "      <td>4.0</td>\n",
       "      <td>2.11534</td>\n",
       "    </tr>\n",
       "    <tr>\n",
       "      <th>4</th>\n",
       "      <td>5.0</td>\n",
       "      <td>2.26547</td>\n",
       "    </tr>\n",
       "    <tr>\n",
       "      <th>5</th>\n",
       "      <td>6.0</td>\n",
       "      <td>2.37887</td>\n",
       "    </tr>\n",
       "    <tr>\n",
       "      <th>6</th>\n",
       "      <td>7.0</td>\n",
       "      <td>2.54195</td>\n",
       "    </tr>\n",
       "    <tr>\n",
       "      <th>7</th>\n",
       "      <td>8.0</td>\n",
       "      <td>2.63796</td>\n",
       "    </tr>\n",
       "    <tr>\n",
       "      <th>8</th>\n",
       "      <td>9.0</td>\n",
       "      <td>2.70496</td>\n",
       "    </tr>\n",
       "    <tr>\n",
       "      <th>9</th>\n",
       "      <td>10.0</td>\n",
       "      <td>2.85831</td>\n",
       "    </tr>\n",
       "    <tr>\n",
       "      <th>10</th>\n",
       "      <td>12.0</td>\n",
       "      <td>2.98391</td>\n",
       "    </tr>\n",
       "    <tr>\n",
       "      <th>11</th>\n",
       "      <td>14.0</td>\n",
       "      <td>3.06496</td>\n",
       "    </tr>\n",
       "    <tr>\n",
       "      <th>12</th>\n",
       "      <td>16.0</td>\n",
       "      <td>3.13946</td>\n",
       "    </tr>\n",
       "    <tr>\n",
       "      <th>13</th>\n",
       "      <td>18.0</td>\n",
       "      <td>3.14460</td>\n",
       "    </tr>\n",
       "    <tr>\n",
       "      <th>14</th>\n",
       "      <td>20.0</td>\n",
       "      <td>3.17326</td>\n",
       "    </tr>\n",
       "    <tr>\n",
       "      <th>15</th>\n",
       "      <td>22.0</td>\n",
       "      <td>3.14499</td>\n",
       "    </tr>\n",
       "    <tr>\n",
       "      <th>16</th>\n",
       "      <td>24.0</td>\n",
       "      <td>3.19307</td>\n",
       "    </tr>\n",
       "    <tr>\n",
       "      <th>17</th>\n",
       "      <td>26.0</td>\n",
       "      <td>3.16867</td>\n",
       "    </tr>\n",
       "    <tr>\n",
       "      <th>18</th>\n",
       "      <td>28.0</td>\n",
       "      <td>3.14873</td>\n",
       "    </tr>\n",
       "    <tr>\n",
       "      <th>19</th>\n",
       "      <td>30.0</td>\n",
       "      <td>3.14325</td>\n",
       "    </tr>\n",
       "  </tbody>\n",
       "</table>\n",
       "</div>"
      ],
      "text/plain": [
       "    y (mm)  u (m/s)\n",
       "0      1.0  1.20874\n",
       "1      2.0  1.66123\n",
       "2      3.0  1.91780\n",
       "3      4.0  2.11534\n",
       "4      5.0  2.26547\n",
       "5      6.0  2.37887\n",
       "6      7.0  2.54195\n",
       "7      8.0  2.63796\n",
       "8      9.0  2.70496\n",
       "9     10.0  2.85831\n",
       "10    12.0  2.98391\n",
       "11    14.0  3.06496\n",
       "12    16.0  3.13946\n",
       "13    18.0  3.14460\n",
       "14    20.0  3.17326\n",
       "15    22.0  3.14499\n",
       "16    24.0  3.19307\n",
       "17    26.0  3.16867\n",
       "18    28.0  3.14873\n",
       "19    30.0  3.14325"
      ]
     },
     "metadata": {},
     "execution_count": 16
    }
   ],
   "metadata": {}
  },
  {
   "cell_type": "code",
   "execution_count": 17,
   "source": [
    "plt.plot(pitoteDataTurbulent['u (m/s)'],pitoteDataTurbulent['y (mm)'],'-*');plt.grid();plt.xlabel('u [m/s]');plt.ylabel('y [mm]');plt.legend(['turbulent flow']);"
   ],
   "outputs": [
    {
     "output_type": "display_data",
     "data": {
      "image/png": "[encoded data removed]",
      "text/plain": [
       "<Figure size 432x288 with 1 Axes>"
      ]
     },
     "metadata": {
      "needs_background": "light"
     }
    }
   ],
   "metadata": {}
  },
  {
   "cell_type": "code",
   "execution_count": 18,
   "source": [
    "Pitote_Uinf_Turbulent = pitoteDataTurbulent['u (m/s)'].mean()\r\n",
    "dyt = pitoteDataTurbulent['y (mm)']"
   ],
   "outputs": [],
   "metadata": {}
  },
  {
   "cell_type": "code",
   "execution_count": 19,
   "source": [
    "btT_Th, dtT_Th, tT_Th, hT_Th,CfT_Th =parameters_Th(Uinf=Pitote_Uinf_Turbulent,isTurbulent=1,islaminar=0)\r\n",
    "dtT_exp,tT_exp,hT_exp,CfT_exp = parameters_Exp(u=pitoteDataTurbulent['u (m/s)'], Uinf= Pitote_Uinf_Turbulent, dy= dyt*pow(10,-3),isTurbulent=1,islaminar=0)"
   ],
   "outputs": [
    {
     "output_type": "display_data",
     "data": {
      "image/png": "[encoded data removed]",
      "text/plain": [
       "<Figure size 432x288 with 1 Axes>"
      ]
     },
     "metadata": {
      "needs_background": "light"
     }
    }
   ],
   "metadata": {}
  },
  {
   "cell_type": "markdown",
   "source": [
    "> ## Boundary Layer Thickness"
   ],
   "metadata": {}
  },
  {
   "cell_type": "code",
   "execution_count": 20,
   "source": [
    "btL_Th"
   ],
   "outputs": [
    {
     "output_type": "execute_result",
     "data": {
      "text/plain": [
       "0.30157157751290214"
      ]
     },
     "metadata": {},
     "execution_count": 20
    }
   ],
   "metadata": {}
  },
  {
   "cell_type": "markdown",
   "source": [
    "> ## Displacement tickness (mm)"
   ],
   "metadata": {}
  },
  {
   "cell_type": "code",
   "execution_count": 21,
   "source": [
    "fyt = 1-(pitoteDataTurbulent['u (m/s)']/Pitote_Uinf_Turbulent)\r\n",
    "(dtT_Th,dtT_exp)"
   ],
   "outputs": [
    {
     "output_type": "execute_result",
     "data": {
      "text/plain": [
       "(0.9140691165929465, -0.0018167360225750163)"
      ]
     },
     "metadata": {},
     "execution_count": 21
    }
   ],
   "metadata": {}
  },
  {
   "cell_type": "markdown",
   "source": [
    "> ## Momentum Thickness (mm)"
   ],
   "metadata": {}
  },
  {
   "cell_type": "code",
   "execution_count": 22,
   "source": [
    "fThetat = (1-fyt)*fyt\r\n",
    "(tT_Th,tT_exp)"
   ],
   "outputs": [
    {
     "output_type": "execute_result",
     "data": {
      "text/plain": [
       "(0.7312552932743572, -0.002828540881957349)"
      ]
     },
     "metadata": {},
     "execution_count": 22
    }
   ],
   "metadata": {}
  },
  {
   "cell_type": "markdown",
   "source": [
    "> ## Shape Factor"
   ],
   "metadata": {}
  },
  {
   "cell_type": "code",
   "execution_count": 23,
   "source": [
    "(hT_Th,hT_exp)"
   ],
   "outputs": [
    {
     "output_type": "execute_result",
     "data": {
      "text/plain": [
       "(1.25, 0.642287348280374)"
      ]
     },
     "metadata": {},
     "execution_count": 23
    }
   ],
   "metadata": {}
  },
  {
   "cell_type": "markdown",
   "source": [
    "> ## Skin friction"
   ],
   "metadata": {}
  },
  {
   "cell_type": "code",
   "execution_count": 24,
   "source": [
    "(CfT_Th,CfT_exp)"
   ],
   "outputs": [
    {
     "output_type": "execute_result",
     "data": {
      "text/plain": [
       "(1.2339933074004779, 0.003444680460190998)"
      ]
     },
     "metadata": {},
     "execution_count": 24
    }
   ],
   "metadata": {}
  },
  {
   "cell_type": "code",
   "execution_count": 25,
   "source": [
    "plt.figure(figsize=(15,5));\r\n",
    "plt.subplot(1,2,1);\r\n",
    "plt.plot(dyt,fyt,'-o');plt.ylabel('(1-u/Uinf)');plt.xlabel('y (mm)');plt.grid();plt.legend(['turbulent flow']);\r\n",
    "plt.subplot(1,2,2);\r\n",
    "plt.plot(dyt,fThetat,'-s');plt.ylabel('u/Uinf(1-u/Uinf)');plt.xlabel('y (mm)');plt.grid();plt.legend(['turbulent flow']);"
   ],
   "outputs": [
    {
     "output_type": "display_data",
     "data": {
      "image/png": "[encoded data removed]",
      "text/plain": [
       "<Figure size 1080x360 with 2 Axes>"
      ]
     },
     "metadata": {
      "needs_background": "light"
     }
    }
   ],
   "metadata": {}
  },
  {
   "cell_type": "code",
   "execution_count": null,
   "source": [],
   "outputs": [],
   "metadata": {}
  },
  {
   "cell_type": "markdown",
   "source": [
    "# PIV data"
   ],
   "metadata": {}
  },
  {
   "cell_type": "markdown",
   "source": [
    "## 1. Laminar flow"
   ],
   "metadata": {}
  },
  {
   "cell_type": "code",
   "execution_count": 26,
   "source": [
    "pivLaminar_data = pd.read_csv('Aerodynamics-Experiment-I-Data/PIV_data/Laminar_flow/laminar_PIV_y_vs_u_at_x_650_mm.dat',delimiter=' ')"
   ],
   "outputs": [],
   "metadata": {}
  },
  {
   "cell_type": "code",
   "execution_count": 27,
   "source": [
    "pivLaminar_data.drop(['Unnamed: 2'],axis=1)"
   ],
   "outputs": [
    {
     "output_type": "execute_result",
     "data": {
      "text/html": [
       "<div>\n",
       "<style scoped>\n",
       "    .dataframe tbody tr th:only-of-type {\n",
       "        vertical-align: middle;\n",
       "    }\n",
       "\n",
       "    .dataframe tbody tr th {\n",
       "        vertical-align: top;\n",
       "    }\n",
       "\n",
       "    .dataframe thead th {\n",
       "        text-align: right;\n",
       "    }\n",
       "</style>\n",
       "<table border=\"1\" class=\"dataframe\">\n",
       "  <thead>\n",
       "    <tr style=\"text-align: right;\">\n",
       "      <th></th>\n",
       "      <th>y(mm)</th>\n",
       "      <th>u(m/s)</th>\n",
       "    </tr>\n",
       "  </thead>\n",
       "  <tbody>\n",
       "    <tr>\n",
       "      <th>0</th>\n",
       "      <td>0.000000</td>\n",
       "      <td>0.000000</td>\n",
       "    </tr>\n",
       "    <tr>\n",
       "      <th>1</th>\n",
       "      <td>1.143169</td>\n",
       "      <td>1.139810</td>\n",
       "    </tr>\n",
       "    <tr>\n",
       "      <th>2</th>\n",
       "      <td>1.536901</td>\n",
       "      <td>1.363569</td>\n",
       "    </tr>\n",
       "    <tr>\n",
       "      <th>3</th>\n",
       "      <td>1.891262</td>\n",
       "      <td>1.583965</td>\n",
       "    </tr>\n",
       "    <tr>\n",
       "      <th>4</th>\n",
       "      <td>2.284996</td>\n",
       "      <td>1.835112</td>\n",
       "    </tr>\n",
       "    <tr>\n",
       "      <th>...</th>\n",
       "      <td>...</td>\n",
       "      <td>...</td>\n",
       "    </tr>\n",
       "    <tr>\n",
       "      <th>89</th>\n",
       "      <td>34.019672</td>\n",
       "      <td>3.886498</td>\n",
       "    </tr>\n",
       "    <tr>\n",
       "      <th>90</th>\n",
       "      <td>34.413376</td>\n",
       "      <td>3.886417</td>\n",
       "    </tr>\n",
       "    <tr>\n",
       "      <th>91</th>\n",
       "      <td>34.767712</td>\n",
       "      <td>3.886255</td>\n",
       "    </tr>\n",
       "    <tr>\n",
       "      <th>92</th>\n",
       "      <td>35.161411</td>\n",
       "      <td>3.885363</td>\n",
       "    </tr>\n",
       "    <tr>\n",
       "      <th>93</th>\n",
       "      <td>35.515743</td>\n",
       "      <td>3.883732</td>\n",
       "    </tr>\n",
       "  </tbody>\n",
       "</table>\n",
       "<p>94 rows × 2 columns</p>\n",
       "</div>"
      ],
      "text/plain": [
       "        y(mm)    u(m/s)\n",
       "0    0.000000  0.000000\n",
       "1    1.143169  1.139810\n",
       "2    1.536901  1.363569\n",
       "3    1.891262  1.583965\n",
       "4    2.284996  1.835112\n",
       "..        ...       ...\n",
       "89  34.019672  3.886498\n",
       "90  34.413376  3.886417\n",
       "91  34.767712  3.886255\n",
       "92  35.161411  3.885363\n",
       "93  35.515743  3.883732\n",
       "\n",
       "[94 rows x 2 columns]"
      ]
     },
     "metadata": {},
     "execution_count": 27
    }
   ],
   "metadata": {}
  },
  {
   "cell_type": "code",
   "execution_count": 28,
   "source": [
    "plt.plot(pivLaminar_data['u(m/s)'],pivLaminar_data['y(mm)'],'-o');plt.grid();plt.xlabel('u [m/s]');plt.ylabel('y [mm]');plt.legend(['laminar flow']);"
   ],
   "outputs": [
    {
     "output_type": "display_data",
     "data": {
      "image/png": "[encoded data removed]",
      "text/plain": [
       "<Figure size 432x288 with 1 Axes>"
      ]
     },
     "metadata": {
      "needs_background": "light"
     }
    }
   ],
   "metadata": {}
  },
  {
   "cell_type": "code",
   "execution_count": 29,
   "source": [
    "piv_UinfL = pivLaminar_data['u(m/s)'].mean()\r\n",
    "piv_dyL = pivLaminar_data['y(mm)']"
   ],
   "outputs": [],
   "metadata": {}
  },
  {
   "cell_type": "code",
   "execution_count": 30,
   "source": [
    "piv_UinfL"
   ],
   "outputs": [
    {
     "output_type": "execute_result",
     "data": {
      "text/plain": [
       "3.6343092765957445"
      ]
     },
     "metadata": {},
     "execution_count": 30
    }
   ],
   "metadata": {}
  },
  {
   "cell_type": "code",
   "execution_count": 31,
   "source": [
    "piv_btL_Th,piv_dtL_Th, piv_tL_Th, piv_hL_Th,piv_CfL_Th = parameters_Th(Uinf=piv_UinfL,islaminar=1,isTurbulent=0)\r\n",
    "piv_dtL_exp, piv_tL_exp, piv_hL_exp,piv_CfL_exp = parameters_Exp(u= pivLaminar_data['u(m/s)'], Uinf=piv_UinfL, dy= piv_dyL,isTurbulent=0,islaminar=1)"
   ],
   "outputs": [],
   "metadata": {}
  },
  {
   "cell_type": "markdown",
   "source": [
    "> # Boundary Layer Thickness"
   ],
   "metadata": {}
  },
  {
   "cell_type": "code",
   "execution_count": 32,
   "source": [
    "0.99*piv_UinfL"
   ],
   "outputs": [
    {
     "output_type": "execute_result",
     "data": {
      "text/plain": [
       "3.597966183829787"
      ]
     },
     "metadata": {},
     "execution_count": 32
    }
   ],
   "metadata": {}
  },
  {
   "cell_type": "code",
   "execution_count": 33,
   "source": [
    "piv_btL_Th"
   ],
   "outputs": [
    {
     "output_type": "execute_result",
     "data": {
      "text/plain": [
       "0.25724479670369527"
      ]
     },
     "metadata": {},
     "execution_count": 33
    }
   ],
   "metadata": {}
  },
  {
   "cell_type": "markdown",
   "source": [
    "> # Displacement Thickness"
   ],
   "metadata": {}
  },
  {
   "cell_type": "code",
   "execution_count": 34,
   "source": [
    "piv_fyL = 1-(pivLaminar_data['u(m/s)']/piv_UinfL)\r\n",
    "(piv_dtL_Th,piv_dtL_exp)"
   ],
   "outputs": [
    {
     "output_type": "execute_result",
     "data": {
      "text/plain": [
       "(0.08849221006607118, 0.4844853016488985)"
      ]
     },
     "metadata": {},
     "execution_count": 34
    }
   ],
   "metadata": {}
  },
  {
   "cell_type": "markdown",
   "source": [
    "> # Momentum Thickness"
   ],
   "metadata": {}
  },
  {
   "cell_type": "code",
   "execution_count": 35,
   "source": [
    "piv_fThetaL = (1-piv_fyL)*piv_fyL\r\n",
    "(piv_tL_Th,piv_tL_exp)"
   ],
   "outputs": [
    {
     "output_type": "execute_result",
     "data": {
      "text/plain": [
       "(0.03416210900225074, -1.1340198880338401)"
      ]
     },
     "metadata": {},
     "execution_count": 35
    }
   ],
   "metadata": {}
  },
  {
   "cell_type": "markdown",
   "source": [
    "> # Shape Factor"
   ],
   "metadata": {}
  },
  {
   "cell_type": "code",
   "execution_count": 36,
   "source": [
    "(piv_hL_Th,piv_hL_exp)"
   ],
   "outputs": [
    {
     "output_type": "execute_result",
     "data": {
      "text/plain": [
       "(2.5903614457831323, -0.42722822303310526)"
      ]
     },
     "metadata": {},
     "execution_count": 36
    }
   ],
   "metadata": {}
  },
  {
   "cell_type": "markdown",
   "source": [
    "> # Skin Friction"
   ],
   "metadata": {}
  },
  {
   "cell_type": "code",
   "execution_count": 37,
   "source": [
    "(piv_CfL_Th,piv_CfL_exp)"
   ],
   "outputs": [
    {
     "output_type": "execute_result",
     "data": {
      "text/plain": [
       "(5.255709077269344e-05, -0.0017446459815905232)"
      ]
     },
     "metadata": {},
     "execution_count": 37
    }
   ],
   "metadata": {}
  },
  {
   "cell_type": "code",
   "execution_count": 38,
   "source": [
    "plt.figure(figsize=(15,6));\r\n",
    "plt.subplot(1,2,1);\r\n",
    "plt.plot(piv_dyL,piv_fyL,'-o');plt.ylabel('(1-u/Uinf)');plt.xlabel('y (mm)');plt.grid();plt.legend(['laminar flow']);\r\n",
    "plt.subplot(1,2,2);\r\n",
    "plt.plot(piv_dyL,piv_fThetaL,'-*');plt.ylabel('u/Uinf(1-u/Uinf)');plt.xlabel('y (mm)');plt.grid();plt.legend(['laminar flow']);"
   ],
   "outputs": [
    {
     "output_type": "display_data",
     "data": {
      "image/png": "[encoded data removed]",
      "text/plain": [
       "<Figure size 1080x432 with 2 Axes>"
      ]
     },
     "metadata": {
      "needs_background": "light"
     }
    }
   ],
   "metadata": {}
  },
  {
   "cell_type": "markdown",
   "source": [
    "## 2. Turbulent Flow"
   ],
   "metadata": {}
  },
  {
   "cell_type": "code",
   "execution_count": 39,
   "source": [
    "pivTurbulent_data = pd.read_csv('Aerodynamics-Experiment-I-Data/PIV_data/Turbulent_flow/Turbulent_PIV_y_vs_u_at_x_650_mm.dat',delimiter=' ')"
   ],
   "outputs": [],
   "metadata": {}
  },
  {
   "cell_type": "code",
   "execution_count": 40,
   "source": [
    "pivTurbulent_data.drop(['Unnamed: 2'],axis=1)"
   ],
   "outputs": [
    {
     "output_type": "execute_result",
     "data": {
      "text/html": [
       "<div>\n",
       "<style scoped>\n",
       "    .dataframe tbody tr th:only-of-type {\n",
       "        vertical-align: middle;\n",
       "    }\n",
       "\n",
       "    .dataframe tbody tr th {\n",
       "        vertical-align: top;\n",
       "    }\n",
       "\n",
       "    .dataframe thead th {\n",
       "        text-align: right;\n",
       "    }\n",
       "</style>\n",
       "<table border=\"1\" class=\"dataframe\">\n",
       "  <thead>\n",
       "    <tr style=\"text-align: right;\">\n",
       "      <th></th>\n",
       "      <th>y(mm)</th>\n",
       "      <th>u(m/s)</th>\n",
       "    </tr>\n",
       "  </thead>\n",
       "  <tbody>\n",
       "    <tr>\n",
       "      <th>0</th>\n",
       "      <td>0.000000</td>\n",
       "      <td>0.000000</td>\n",
       "    </tr>\n",
       "    <tr>\n",
       "      <th>1</th>\n",
       "      <td>1.143169</td>\n",
       "      <td>1.967103</td>\n",
       "    </tr>\n",
       "    <tr>\n",
       "      <th>2</th>\n",
       "      <td>1.536901</td>\n",
       "      <td>2.249032</td>\n",
       "    </tr>\n",
       "    <tr>\n",
       "      <th>3</th>\n",
       "      <td>1.891262</td>\n",
       "      <td>2.398744</td>\n",
       "    </tr>\n",
       "    <tr>\n",
       "      <th>4</th>\n",
       "      <td>2.284996</td>\n",
       "      <td>2.522491</td>\n",
       "    </tr>\n",
       "    <tr>\n",
       "      <th>...</th>\n",
       "      <td>...</td>\n",
       "      <td>...</td>\n",
       "    </tr>\n",
       "    <tr>\n",
       "      <th>89</th>\n",
       "      <td>34.019672</td>\n",
       "      <td>3.880981</td>\n",
       "    </tr>\n",
       "    <tr>\n",
       "      <th>90</th>\n",
       "      <td>34.413376</td>\n",
       "      <td>3.881855</td>\n",
       "    </tr>\n",
       "    <tr>\n",
       "      <th>91</th>\n",
       "      <td>34.767712</td>\n",
       "      <td>3.881455</td>\n",
       "    </tr>\n",
       "    <tr>\n",
       "      <th>92</th>\n",
       "      <td>35.161411</td>\n",
       "      <td>3.880423</td>\n",
       "    </tr>\n",
       "    <tr>\n",
       "      <th>93</th>\n",
       "      <td>35.515743</td>\n",
       "      <td>3.879745</td>\n",
       "    </tr>\n",
       "  </tbody>\n",
       "</table>\n",
       "<p>94 rows × 2 columns</p>\n",
       "</div>"
      ],
      "text/plain": [
       "        y(mm)    u(m/s)\n",
       "0    0.000000  0.000000\n",
       "1    1.143169  1.967103\n",
       "2    1.536901  2.249032\n",
       "3    1.891262  2.398744\n",
       "4    2.284996  2.522491\n",
       "..        ...       ...\n",
       "89  34.019672  3.880981\n",
       "90  34.413376  3.881855\n",
       "91  34.767712  3.881455\n",
       "92  35.161411  3.880423\n",
       "93  35.515743  3.879745\n",
       "\n",
       "[94 rows x 2 columns]"
      ]
     },
     "metadata": {},
     "execution_count": 40
    }
   ],
   "metadata": {}
  },
  {
   "cell_type": "code",
   "execution_count": 41,
   "source": [
    "plt.plot(pivTurbulent_data['u(m/s)'],pivTurbulent_data['y(mm)'],'-*');plt.grid();plt.xlabel('u [m/s]');plt.ylabel('y [mm]');plt.legend(['turbulent flow']);"
   ],
   "outputs": [
    {
     "output_type": "display_data",
     "data": {
      "image/png": "[encoded data removed]",
      "text/plain": [
       "<Figure size 432x288 with 1 Axes>"
      ]
     },
     "metadata": {
      "needs_background": "light"
     }
    }
   ],
   "metadata": {}
  },
  {
   "cell_type": "code",
   "execution_count": 42,
   "source": [
    "piv_UinfT = pivTurbulent_data['u(m/s)'].mean()\r\n",
    "piv_dyT = pivTurbulent_data['y(mm)']\r\n",
    "piv_UinfT"
   ],
   "outputs": [
    {
     "output_type": "execute_result",
     "data": {
      "text/plain": [
       "3.5749670638297877"
      ]
     },
     "metadata": {},
     "execution_count": 42
    }
   ],
   "metadata": {}
  },
  {
   "cell_type": "code",
   "execution_count": 43,
   "source": [
    "piv_btT_Th,piv_dtT_Th, piv_tT_Th, piv_hT_Th,piv_CfT_Th = parameters_Th(Uinf=piv_UinfT, isTurbulent=1, islaminar=0)\r\n",
    "piv_dtT_exp, piv_tT_exp, piv_hT_exp,piv_CfT_exp = parameters_Exp(u= pivLaminar_data['u(m/s)'], Uinf=piv_UinfT, dy= piv_dyT*pow(10,-3),isTurbulent=1,islaminar=0)"
   ],
   "outputs": [
    {
     "output_type": "display_data",
     "data": {
      "image/png": "[encoded data removed]",
      "text/plain": [
       "<Figure size 432x288 with 1 Axes>"
      ]
     },
     "metadata": {
      "needs_background": "light"
     }
    }
   ],
   "metadata": {}
  },
  {
   "cell_type": "markdown",
   "source": [
    "> # Boundary Layer Thickness"
   ],
   "metadata": {}
  },
  {
   "cell_type": "code",
   "execution_count": 44,
   "source": [
    "piv_btT_Th"
   ],
   "outputs": [
    {
     "output_type": "execute_result",
     "data": {
      "text/plain": [
       "7.017575574811429"
      ]
     },
     "metadata": {},
     "execution_count": 44
    }
   ],
   "metadata": {}
  },
  {
   "cell_type": "markdown",
   "source": [
    "> # Displacement Thickness"
   ],
   "metadata": {}
  },
  {
   "cell_type": "code",
   "execution_count": 45,
   "source": [
    "piv_fyT = 1-(pivTurbulent_data['u(m/s)']/piv_UinfT)\r\n",
    "(piv_dtT_Th,piv_dtT_exp)"
   ],
   "outputs": [
    {
     "output_type": "execute_result",
     "data": {
      "text/plain": [
       "(0.8771969468514286, -9.701162144935398e-05)"
      ]
     },
     "metadata": {},
     "execution_count": 45
    }
   ],
   "metadata": {}
  },
  {
   "cell_type": "markdown",
   "source": [
    "> # Momentum Thickness"
   ],
   "metadata": {}
  },
  {
   "cell_type": "code",
   "execution_count": 46,
   "source": [
    "piv_fThetaT = (1-piv_fyT)*piv_fyT\r\n",
    "(piv_tT_Th,piv_tL_exp)"
   ],
   "outputs": [
    {
     "output_type": "execute_result",
     "data": {
      "text/plain": [
       "(0.7017575574811429, -1.1340198880338401)"
      ]
     },
     "metadata": {},
     "execution_count": 46
    }
   ],
   "metadata": {}
  },
  {
   "cell_type": "markdown",
   "source": [
    "> # Shape Factor"
   ],
   "metadata": {}
  },
  {
   "cell_type": "code",
   "execution_count": 47,
   "source": [
    "(piv_hT_Th,piv_hT_exp)"
   ],
   "outputs": [
    {
     "output_type": "execute_result",
     "data": {
      "text/plain": [
       "(1.25, 0.05502239334381089)"
      ]
     },
     "metadata": {},
     "execution_count": 47
    }
   ],
   "metadata": {}
  },
  {
   "cell_type": "markdown",
   "source": [
    "> # Skin Friciton"
   ],
   "metadata": {}
  },
  {
   "cell_type": "code",
   "execution_count": 48,
   "source": [
    "(piv_CfT_Th,piv_CfT_exp)"
   ],
   "outputs": [
    {
     "output_type": "execute_result",
     "data": {
      "text/plain": [
       "(1.1842158782494285, 0.006994011866009907)"
      ]
     },
     "metadata": {},
     "execution_count": 48
    }
   ],
   "metadata": {}
  },
  {
   "cell_type": "code",
   "execution_count": 49,
   "source": [
    "plt.figure(figsize=(15,6));\r\n",
    "plt.subplot(1,2,1);\r\n",
    "plt.plot(piv_dyT,piv_fyT,'-o');plt.ylabel('(1-u/Uinf)');plt.xlabel('y (mm)');plt.grid();plt.legend(['turbulent flow']);\r\n",
    "plt.subplot(1,2,2);\r\n",
    "plt.plot(piv_dyT,piv_fThetaT,'-*');plt.ylabel('u/Uinf(1-u/Uinf)');plt.xlabel('y (mm)');plt.grid();plt.legend(['turbulent flow']);"
   ],
   "outputs": [
    {
     "output_type": "display_data",
     "data": {
      "image/png": "[encoded data removed]",
      "text/plain": [
       "<Figure size 1080x432 with 2 Axes>"
      ]
     },
     "metadata": {
      "needs_background": "light"
     }
    }
   ],
   "metadata": {}
  },
  {
   "cell_type": "markdown",
   "source": [
    "# Blasius Data"
   ],
   "metadata": {}
  },
  {
   "cell_type": "code",
   "execution_count": 50,
   "source": [
    "blasius_df = pd.read_csv('Aerodynamics-Experiment-I-Data/Blasius_data.dat',delim_whitespace=True)"
   ],
   "outputs": [],
   "metadata": {}
  },
  {
   "cell_type": "code",
   "execution_count": 51,
   "source": [
    "blasius_df"
   ],
   "outputs": [
    {
     "output_type": "execute_result",
     "data": {
      "text/html": [
       "<div>\n",
       "<style scoped>\n",
       "    .dataframe tbody tr th:only-of-type {\n",
       "        vertical-align: middle;\n",
       "    }\n",
       "\n",
       "    .dataframe tbody tr th {\n",
       "        vertical-align: top;\n",
       "    }\n",
       "\n",
       "    .dataframe thead th {\n",
       "        text-align: right;\n",
       "    }\n",
       "</style>\n",
       "<table border=\"1\" class=\"dataframe\">\n",
       "  <thead>\n",
       "    <tr style=\"text-align: right;\">\n",
       "      <th></th>\n",
       "      <th>y(mm)</th>\n",
       "      <th>u(m/s)</th>\n",
       "    </tr>\n",
       "  </thead>\n",
       "  <tbody>\n",
       "    <tr>\n",
       "      <th>0</th>\n",
       "      <td>0.000000</td>\n",
       "      <td>0.000000</td>\n",
       "    </tr>\n",
       "    <tr>\n",
       "      <th>1</th>\n",
       "      <td>0.005811</td>\n",
       "      <td>0.003320</td>\n",
       "    </tr>\n",
       "    <tr>\n",
       "      <th>2</th>\n",
       "      <td>0.011623</td>\n",
       "      <td>0.006640</td>\n",
       "    </tr>\n",
       "    <tr>\n",
       "      <th>3</th>\n",
       "      <td>0.017434</td>\n",
       "      <td>0.009960</td>\n",
       "    </tr>\n",
       "    <tr>\n",
       "      <th>4</th>\n",
       "      <td>0.023245</td>\n",
       "      <td>0.013280</td>\n",
       "    </tr>\n",
       "    <tr>\n",
       "      <th>...</th>\n",
       "      <td>...</td>\n",
       "      <td>...</td>\n",
       "    </tr>\n",
       "    <tr>\n",
       "      <th>996</th>\n",
       "      <td>5.788006</td>\n",
       "      <td>0.999913</td>\n",
       "    </tr>\n",
       "    <tr>\n",
       "      <th>997</th>\n",
       "      <td>5.793817</td>\n",
       "      <td>0.999913</td>\n",
       "    </tr>\n",
       "    <tr>\n",
       "      <th>998</th>\n",
       "      <td>5.799628</td>\n",
       "      <td>0.999913</td>\n",
       "    </tr>\n",
       "    <tr>\n",
       "      <th>999</th>\n",
       "      <td>5.805439</td>\n",
       "      <td>0.999913</td>\n",
       "    </tr>\n",
       "    <tr>\n",
       "      <th>1000</th>\n",
       "      <td>5.811251</td>\n",
       "      <td>0.999913</td>\n",
       "    </tr>\n",
       "  </tbody>\n",
       "</table>\n",
       "<p>1001 rows × 2 columns</p>\n",
       "</div>"
      ],
      "text/plain": [
       "         y(mm)    u(m/s)\n",
       "0     0.000000  0.000000\n",
       "1     0.005811  0.003320\n",
       "2     0.011623  0.006640\n",
       "3     0.017434  0.009960\n",
       "4     0.023245  0.013280\n",
       "...        ...       ...\n",
       "996   5.788006  0.999913\n",
       "997   5.793817  0.999913\n",
       "998   5.799628  0.999913\n",
       "999   5.805439  0.999913\n",
       "1000  5.811251  0.999913\n",
       "\n",
       "[1001 rows x 2 columns]"
      ]
     },
     "metadata": {},
     "execution_count": 51
    }
   ],
   "metadata": {}
  },
  {
   "cell_type": "markdown",
   "source": [
    "# Normalization"
   ],
   "metadata": {}
  },
  {
   "cell_type": "markdown",
   "source": [
    "## 1. Pitote tube"
   ],
   "metadata": {}
  },
  {
   "cell_type": "code",
   "execution_count": 52,
   "source": [
    "pitote_deltaStar_lamianr = 1.44"
   ],
   "outputs": [],
   "metadata": {}
  },
  {
   "cell_type": "code",
   "execution_count": 53,
   "source": [
    "pitote_lamianr_normalize_u = pitoteDataLaminar['u (m/s)']/Pitote_UinfLaminar\r\n",
    "pitote_lamianr_normalize_y = pitoteDataLaminar['y (mm)']/pitote_deltaStar_lamianr"
   ],
   "outputs": [],
   "metadata": {}
  },
  {
   "cell_type": "code",
   "execution_count": 73,
   "source": [
    "plt.plot(blasius_df['u(m/s)'],blasius_df['y(mm)'])\r\n",
    "plt.plot(pitote_lamianr_normalize_u,pitote_lamianr_normalize_y);\r\n",
    "plt.ylabel('y/deltaStar');plt.xlabel('u/Uinf');\r\n",
    "plt.legend(['blasius','pitote']);plt.grid();"
   ],
   "outputs": [
    {
     "output_type": "display_data",
     "data": {
      "image/png": "[encoded data removed]",
      "text/plain": [
       "<Figure size 432x288 with 1 Axes>"
      ]
     },
     "metadata": {
      "needs_background": "light"
     }
    }
   ],
   "metadata": {}
  },
  {
   "cell_type": "markdown",
   "source": [
    "## 2. PIV data"
   ],
   "metadata": {}
  },
  {
   "cell_type": "markdown",
   "source": [
    "### i. At 619mm"
   ],
   "metadata": {}
  },
  {
   "cell_type": "code",
   "execution_count": 55,
   "source": [
    "piv_619_df = pd.read_csv('Aerodynamics-Experiment-I-Data/PIV_data/Laminar_flow/laminar_PIV_y_vs_u_at_x_619_mm.dat',delimiter='\\t')"
   ],
   "outputs": [],
   "metadata": {}
  },
  {
   "cell_type": "code",
   "execution_count": 56,
   "source": [
    "piv_619_deltaStar = 2.152\r\n",
    "Uinf_619 = 3.6324"
   ],
   "outputs": [],
   "metadata": {}
  },
  {
   "cell_type": "code",
   "execution_count": 57,
   "source": [
    "piv_normalize_619_u = piv_619_df['u(m/s)']/Uinf_619\r\n",
    "piv_normalize_619_y = piv_619_df['y(mm)']/piv_619_deltaStar"
   ],
   "outputs": [],
   "metadata": {}
  },
  {
   "cell_type": "markdown",
   "source": [
    "### i. At 650mm"
   ],
   "metadata": {}
  },
  {
   "cell_type": "code",
   "execution_count": 58,
   "source": [
    "piv_650_deltaStar = 2.112832\r\n",
    "Uinf_650 = 3.63431"
   ],
   "outputs": [],
   "metadata": {}
  },
  {
   "cell_type": "code",
   "execution_count": 59,
   "source": [
    "piv_normalize_650_u = pivLaminar_data['u(m/s)']/Uinf_650\r\n",
    "piv_normalize_650_y = pivLaminar_data['y(mm)']/piv_650_deltaStar"
   ],
   "outputs": [],
   "metadata": {}
  },
  {
   "cell_type": "markdown",
   "source": [
    "### i. At 680mm"
   ],
   "metadata": {}
  },
  {
   "cell_type": "code",
   "execution_count": 60,
   "source": [
    "piv_680_df = pd.read_csv('Aerodynamics-Experiment-I-Data/PIV_data/Laminar_flow/laminar_PIV_y_vs_u_at_x_680_mm.dat',delimiter='\\t')"
   ],
   "outputs": [],
   "metadata": {}
  },
  {
   "cell_type": "code",
   "execution_count": 61,
   "source": [
    "piv_680_deltaStar = 2.1011\r\n",
    "Uinf_680 = 3.62625"
   ],
   "outputs": [],
   "metadata": {}
  },
  {
   "cell_type": "code",
   "execution_count": 62,
   "source": [
    "piv_normalize_680_u = piv_680_df['u(m/s)']/Uinf_680\r\n",
    "piv_normalize_680_y = piv_680_df['y(mm)']/piv_680_deltaStar"
   ],
   "outputs": [],
   "metadata": {}
  },
  {
   "cell_type": "markdown",
   "source": [
    "### i. At 711mm"
   ],
   "metadata": {}
  },
  {
   "cell_type": "code",
   "execution_count": 63,
   "source": [
    "piv_711_df = pd.read_csv('Aerodynamics-Experiment-I-Data/PIV_data/Laminar_flow/laminar_PIV_y_vs_u_at_x_711_mm.dat',delimiter='\\t')"
   ],
   "outputs": [],
   "metadata": {}
  },
  {
   "cell_type": "code",
   "execution_count": 64,
   "source": [
    "piv_711_deltaStar = 2.094456\r\n",
    "Uinf_711 = 3.619282"
   ],
   "outputs": [],
   "metadata": {}
  },
  {
   "cell_type": "code",
   "execution_count": 65,
   "source": [
    "piv_normalize_711_u = piv_711_df['u(m/s)']/Uinf_711\r\n",
    "piv_normalize_711_y = piv_711_df['y(mm)']/piv_711_deltaStar"
   ],
   "outputs": [],
   "metadata": {}
  },
  {
   "cell_type": "markdown",
   "source": [
    "### i. At 742mm"
   ],
   "metadata": {}
  },
  {
   "cell_type": "code",
   "execution_count": 66,
   "source": [
    "piv_742_df = pd.read_csv('Aerodynamics-Experiment-I-Data/PIV_data/Laminar_flow/laminar_PIV_y_vs_u_at_x_742_mm.dat',delimiter='\\t')"
   ],
   "outputs": [],
   "metadata": {}
  },
  {
   "cell_type": "code",
   "execution_count": 67,
   "source": [
    "piv_742_deltaStar = 2.1011\r\n",
    "Uinf_742 = 3.62625"
   ],
   "outputs": [],
   "metadata": {}
  },
  {
   "cell_type": "code",
   "execution_count": 68,
   "source": [
    "piv_normalize_742_u = piv_742_df['u(m/s)']/Uinf_742\r\n",
    "piv_normalize_742_y = piv_742_df['y(mm)']/piv_742_deltaStar"
   ],
   "outputs": [],
   "metadata": {}
  },
  {
   "cell_type": "code",
   "execution_count": 72,
   "source": [
    "plt.figure(figsize=(7,5));\r\n",
    "plt.plot(blasius_df['u(m/s)'],blasius_df['y(mm)'])\r\n",
    "plt.plot(piv_normalize_619_u,piv_normalize_619_y,\"-.\")\r\n",
    "plt.plot(piv_normalize_650_u,piv_normalize_650_y,\"--\")\r\n",
    "plt.plot(piv_normalize_680_u,piv_normalize_680_y,\"-\")\r\n",
    "plt.plot(piv_normalize_711_u,piv_normalize_711_y,\"--\")\r\n",
    "plt.plot(piv_normalize_742_u,piv_normalize_742_y,':');\r\n",
    "plt.ylabel('y/deltaStar');plt.xlabel('u/Uinf');plt.grid();\r\n",
    "plt.legend(['blasius','piv_619','piv_650','piv_680','piv_711','piv_742']);"
   ],
   "outputs": [
    {
     "output_type": "display_data",
     "data": {
      "image/png": "[encoded data removed]",
      "text/plain": [
       "<Figure size 504x360 with 1 Axes>"
      ]
     },
     "metadata": {
      "needs_background": "light"
     }
    }
   ],
   "metadata": {}
  },
  {
   "cell_type": "code",
   "execution_count": null,
   "source": [],
   "outputs": [],
   "metadata": {}
  }
 ],
 "metadata": {
  "orig_nbformat": 4,
  "language_info": {
   "name": "python",
   "version": "3.8.10",
   "mimetype": "text/x-python",
   "codemirror_mode": {
    "name": "ipython",
    "version": 3
   },
   "pygments_lexer": "ipython3",
   "nbconvert_exporter": "python",
   "file_extension": ".py"
  },
  "kernelspec": {
   "name": "python3",
   "display_name": "Python 3.8.10 64-bit"
  },
  "interpreter": {
   "hash": "46b56489f7f0b69c558b3db68ace274265d225be2812e701dbb00a44f2f9de29"
  }
 },
 "nbformat": 4,
 "nbformat_minor": 2
}